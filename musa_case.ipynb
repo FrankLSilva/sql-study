{
    "metadata": {
        "kernelspec": {
            "name": "SQL",
            "display_name": "SQL",
            "language": "sql"
        },
        "language_info": {
            "name": "sql",
            "version": ""
        }
    },
    "nbformat_minor": 2,
    "nbformat": 4,
    "cells": [
        {
            "cell_type": "markdown",
            "source": [
                "# **Musa - SQL case**\n",
                "\n",
                "## Business Questions\n",
                "\n",
                "1. Quantas rotas foram finalizadas por dia? Qual foi o dia com o maior número de rotas <span style=\"color: var(--vscode-foreground);\">finalizadas?</span>\n",
                "    \n",
                "2. Qual foi o total de KGs coletados e a sua distribuição entre tipos de materiais? Qual foi o <span style=\"color: var(--vscode-foreground);\">estabelecimento que teve o maior peso coletado?</span>\n",
                "    \n",
                "3. Quando uma transportadora (hauler) não realiza uma coleta, é considerada uma falta <span style=\"color: var(--vscode-foreground);\">(fault). Qual transportadora teve o maior percentual de faltas sobre coletas?</span>\n",
                "    \n",
                "4. O Gerente de Operações precisa tomar uma decisão sobre o mix de rotas entre transportadoras, pois algumas transportadoras (E, H e K) estão pedindo mais rotas para seguir com a parceria com a Musa. Considerando o custo das rotas de cada transportadora e a taxa de faltas sobre coletas, qual é a recomendação que você daria para o gerente?"
            ],
            "metadata": {
                "azdata_cell_guid": "8698edb8-1b0e-4d1f-aa6b-fcbf3e1bc190"
            },
            "attachments": {}
        },
        {
            "cell_type": "code",
            "source": [
                "describe collects;\r\n",
                "describe fleet;\r\n",
                "describe routes;"
            ],
            "metadata": {
                "azdata_cell_guid": "9b9911ef-89ea-45e6-9e10-a3aad1032856",
                "language": "sql",
                "tags": []
            },
            "outputs": [
                {
                    "output_type": "display_data",
                    "data": {
                        "text/html": "(10 row(s) affected)"
                    },
                    "metadata": {}
                },
                {
                    "output_type": "display_data",
                    "data": {
                        "text/html": "(2 row(s) affected)"
                    },
                    "metadata": {}
                },
                {
                    "output_type": "display_data",
                    "data": {
                        "text/html": "(7 row(s) affected)"
                    },
                    "metadata": {}
                },
                {
                    "output_type": "display_data",
                    "data": {
                        "text/html": "Total execution time: 00:00:03.035"
                    },
                    "metadata": {}
                },
                {
                    "output_type": "execute_result",
                    "metadata": {},
                    "execution_count": 2,
                    "data": {
                        "application/vnd.dataresource+json": {
                            "schema": {
                                "fields": [
                                    {
                                        "name": "Field"
                                    },
                                    {
                                        "name": "Type"
                                    },
                                    {
                                        "name": "Null"
                                    },
                                    {
                                        "name": "Key"
                                    },
                                    {
                                        "name": "Default"
                                    },
                                    {
                                        "name": "Extra"
                                    }
                                ]
                            },
                            "data": [
                                {
                                    "Field": "collect_id",
                                    "Type": "b'varchar(100)'",
                                    "Null": "YES",
                                    "Key": "",
                                    "Default": "NULL",
                                    "Extra": ""
                                },
                                {
                                    "Field": "route_id",
                                    "Type": "b'varchar(100)'",
                                    "Null": "YES",
                                    "Key": "",
                                    "Default": "NULL",
                                    "Extra": ""
                                },
                                {
                                    "Field": "planned_date",
                                    "Type": "b'date'",
                                    "Null": "YES",
                                    "Key": "",
                                    "Default": "NULL",
                                    "Extra": ""
                                },
                                {
                                    "Field": "establishment_id",
                                    "Type": "b'varchar(100)'",
                                    "Null": "YES",
                                    "Key": "",
                                    "Default": "NULL",
                                    "Extra": ""
                                },
                                {
                                    "Field": "establishment_name",
                                    "Type": "b'varchar(100)'",
                                    "Null": "YES",
                                    "Key": "",
                                    "Default": "NULL",
                                    "Extra": ""
                                },
                                {
                                    "Field": "kind_of_material",
                                    "Type": "b'varchar(100)'",
                                    "Null": "YES",
                                    "Key": "",
                                    "Default": "NULL",
                                    "Extra": ""
                                },
                                {
                                    "Field": "collects",
                                    "Type": "b'int'",
                                    "Null": "YES",
                                    "Key": "",
                                    "Default": "NULL",
                                    "Extra": ""
                                },
                                {
                                    "Field": "faults",
                                    "Type": "b'int'",
                                    "Null": "YES",
                                    "Key": "",
                                    "Default": "NULL",
                                    "Extra": ""
                                },
                                {
                                    "Field": "units",
                                    "Type": "b'int'",
                                    "Null": "YES",
                                    "Key": "",
                                    "Default": "NULL",
                                    "Extra": ""
                                },
                                {
                                    "Field": "weight",
                                    "Type": "b'decimal(38,2)'",
                                    "Null": "YES",
                                    "Key": "",
                                    "Default": "NULL",
                                    "Extra": ""
                                }
                            ]
                        },
                        "text/html": [
                            "<table>",
                            "<tr><th>Field</th><th>Type</th><th>Null</th><th>Key</th><th>Default</th><th>Extra</th></tr>",
                            "<tr><td>collect_id</td><td>b&#39;varchar(100)&#39;</td><td>YES</td><td></td><td>NULL</td><td></td></tr>",
                            "<tr><td>route_id</td><td>b&#39;varchar(100)&#39;</td><td>YES</td><td></td><td>NULL</td><td></td></tr>",
                            "<tr><td>planned_date</td><td>b&#39;date&#39;</td><td>YES</td><td></td><td>NULL</td><td></td></tr>",
                            "<tr><td>establishment_id</td><td>b&#39;varchar(100)&#39;</td><td>YES</td><td></td><td>NULL</td><td></td></tr>",
                            "<tr><td>establishment_name</td><td>b&#39;varchar(100)&#39;</td><td>YES</td><td></td><td>NULL</td><td></td></tr>",
                            "<tr><td>kind_of_material</td><td>b&#39;varchar(100)&#39;</td><td>YES</td><td></td><td>NULL</td><td></td></tr>",
                            "<tr><td>collects</td><td>b&#39;int&#39;</td><td>YES</td><td></td><td>NULL</td><td></td></tr>",
                            "<tr><td>faults</td><td>b&#39;int&#39;</td><td>YES</td><td></td><td>NULL</td><td></td></tr>",
                            "<tr><td>units</td><td>b&#39;int&#39;</td><td>YES</td><td></td><td>NULL</td><td></td></tr>",
                            "<tr><td>weight</td><td>b&#39;decimal(38,2)&#39;</td><td>YES</td><td></td><td>NULL</td><td></td></tr>",
                            "</table>"
                        ]
                    }
                },
                {
                    "output_type": "execute_result",
                    "metadata": {},
                    "execution_count": 2,
                    "data": {
                        "application/vnd.dataresource+json": {
                            "schema": {
                                "fields": [
                                    {
                                        "name": "Field"
                                    },
                                    {
                                        "name": "Type"
                                    },
                                    {
                                        "name": "Null"
                                    },
                                    {
                                        "name": "Key"
                                    },
                                    {
                                        "name": "Default"
                                    },
                                    {
                                        "name": "Extra"
                                    }
                                ]
                            },
                            "data": [
                                {
                                    "Field": "hauler_id",
                                    "Type": "b'varchar(100)'",
                                    "Null": "YES",
                                    "Key": "",
                                    "Default": "NULL",
                                    "Extra": ""
                                },
                                {
                                    "Field": "route_cost",
                                    "Type": "b'decimal(38,2)'",
                                    "Null": "YES",
                                    "Key": "",
                                    "Default": "NULL",
                                    "Extra": ""
                                }
                            ]
                        },
                        "text/html": [
                            "<table>",
                            "<tr><th>Field</th><th>Type</th><th>Null</th><th>Key</th><th>Default</th><th>Extra</th></tr>",
                            "<tr><td>hauler_id</td><td>b&#39;varchar(100)&#39;</td><td>YES</td><td></td><td>NULL</td><td></td></tr>",
                            "<tr><td>route_cost</td><td>b&#39;decimal(38,2)&#39;</td><td>YES</td><td></td><td>NULL</td><td></td></tr>",
                            "</table>"
                        ]
                    }
                },
                {
                    "output_type": "execute_result",
                    "metadata": {},
                    "execution_count": 2,
                    "data": {
                        "application/vnd.dataresource+json": {
                            "schema": {
                                "fields": [
                                    {
                                        "name": "Field"
                                    },
                                    {
                                        "name": "Type"
                                    },
                                    {
                                        "name": "Null"
                                    },
                                    {
                                        "name": "Key"
                                    },
                                    {
                                        "name": "Default"
                                    },
                                    {
                                        "name": "Extra"
                                    }
                                ]
                            },
                            "data": [
                                {
                                    "Field": "route_id",
                                    "Type": "b'varchar(100)'",
                                    "Null": "YES",
                                    "Key": "",
                                    "Default": "NULL",
                                    "Extra": ""
                                },
                                {
                                    "Field": "planned_date",
                                    "Type": "b'date'",
                                    "Null": "YES",
                                    "Key": "",
                                    "Default": "NULL",
                                    "Extra": ""
                                },
                                {
                                    "Field": "hauler_id",
                                    "Type": "b'varchar(100)'",
                                    "Null": "YES",
                                    "Key": "",
                                    "Default": "NULL",
                                    "Extra": ""
                                },
                                {
                                    "Field": "hauler_name",
                                    "Type": "b'varchar(100)'",
                                    "Null": "YES",
                                    "Key": "",
                                    "Default": "NULL",
                                    "Extra": ""
                                },
                                {
                                    "Field": "status",
                                    "Type": "b'varchar(100)'",
                                    "Null": "YES",
                                    "Key": "",
                                    "Default": "NULL",
                                    "Extra": ""
                                },
                                {
                                    "Field": "km_estimated",
                                    "Type": "b'decimal(38,2)'",
                                    "Null": "YES",
                                    "Key": "",
                                    "Default": "NULL",
                                    "Extra": ""
                                },
                                {
                                    "Field": "km_total",
                                    "Type": "b'decimal(38,2)'",
                                    "Null": "YES",
                                    "Key": "",
                                    "Default": "NULL",
                                    "Extra": ""
                                }
                            ]
                        },
                        "text/html": [
                            "<table>",
                            "<tr><th>Field</th><th>Type</th><th>Null</th><th>Key</th><th>Default</th><th>Extra</th></tr>",
                            "<tr><td>route_id</td><td>b&#39;varchar(100)&#39;</td><td>YES</td><td></td><td>NULL</td><td></td></tr>",
                            "<tr><td>planned_date</td><td>b&#39;date&#39;</td><td>YES</td><td></td><td>NULL</td><td></td></tr>",
                            "<tr><td>hauler_id</td><td>b&#39;varchar(100)&#39;</td><td>YES</td><td></td><td>NULL</td><td></td></tr>",
                            "<tr><td>hauler_name</td><td>b&#39;varchar(100)&#39;</td><td>YES</td><td></td><td>NULL</td><td></td></tr>",
                            "<tr><td>status</td><td>b&#39;varchar(100)&#39;</td><td>YES</td><td></td><td>NULL</td><td></td></tr>",
                            "<tr><td>km_estimated</td><td>b&#39;decimal(38,2)&#39;</td><td>YES</td><td></td><td>NULL</td><td></td></tr>",
                            "<tr><td>km_total</td><td>b&#39;decimal(38,2)&#39;</td><td>YES</td><td></td><td>NULL</td><td></td></tr>",
                            "</table>"
                        ]
                    }
                }
            ],
            "execution_count": 2
        },
        {
            "cell_type": "markdown",
            "source": [
                "<span style=\"color: var(--vscode-foreground);\">Quantas rotas foram finalizadas por dia? Qual foi o dia com o maior número de rotas&nbsp;</span> <span style=\"color: var(--vscode-foreground);\">finalizadas?</span>"
            ],
            "metadata": {
                "azdata_cell_guid": "ea6e1c44-48a4-42db-96d2-0b8900367bd2"
            },
            "attachments": {}
        },
        {
            "cell_type": "code",
            "source": [
                "SELECT *\r\n",
                "FROM routes\r\n",
                "LIMIT 5"
            ],
            "metadata": {
                "azdata_cell_guid": "b88e2c36-2ac7-47a5-8e34-2c5d5065346c",
                "language": "sql"
            },
            "outputs": [
                {
                    "output_type": "display_data",
                    "data": {
                        "text/html": "(5 row(s) affected)"
                    },
                    "metadata": {}
                },
                {
                    "output_type": "display_data",
                    "data": {
                        "text/html": "Total execution time: 00:00:01.007"
                    },
                    "metadata": {}
                },
                {
                    "output_type": "execute_result",
                    "metadata": {},
                    "execution_count": 3,
                    "data": {
                        "application/vnd.dataresource+json": {
                            "schema": {
                                "fields": [
                                    {
                                        "name": "route_id"
                                    },
                                    {
                                        "name": "planned_date"
                                    },
                                    {
                                        "name": "hauler_id"
                                    },
                                    {
                                        "name": "hauler_name"
                                    },
                                    {
                                        "name": "status"
                                    },
                                    {
                                        "name": "km_estimated"
                                    },
                                    {
                                        "name": "km_total"
                                    }
                                ]
                            },
                            "data": [
                                {
                                    "route_id": "9f8cc73d28ae-e90a-3664-6c0c-538be351",
                                    "planned_date": "2022-04-17",
                                    "hauler_id": "25072f0bc153-547b-0884-3ce4-59b5225b",
                                    "hauler_name": "Transportadora_A",
                                    "status": "finalized",
                                    "km_estimated": "97.50",
                                    "km_total": "78.00"
                                },
                                {
                                    "route_id": "a76d85c052df-d3eb-09e4-6635-5041ed73",
                                    "planned_date": "2022-04-17",
                                    "hauler_id": "129a1beeb1b1-4a8a-1c14-fe39-ae62d3fd",
                                    "hauler_name": "Transportadora_B",
                                    "status": "finalized",
                                    "km_estimated": "78.50",
                                    "km_total": "62.80"
                                },
                                {
                                    "route_id": "0573834677cf-c659-aa44-d6af-3127e4aa",
                                    "planned_date": "2022-04-17",
                                    "hauler_id": "129a1beeb1b1-4a8a-1c14-fe39-ae62d3fd",
                                    "hauler_name": "Transportadora_B",
                                    "status": "finalized",
                                    "km_estimated": "250.00",
                                    "km_total": "85.02"
                                },
                                {
                                    "route_id": "5b3622b99092-c64b-94b4-987a-6d207741",
                                    "planned_date": "2022-04-14",
                                    "hauler_id": "e469ba676c1d-d23a-26a4-972e-24a5d1e4",
                                    "hauler_name": "Transportadora_C",
                                    "status": "cancelled",
                                    "km_estimated": "109.10",
                                    "km_total": "0.00"
                                },
                                {
                                    "route_id": "42f02e9beee4-b9bb-5fb4-1892-2011ed63",
                                    "planned_date": "2022-04-14",
                                    "hauler_id": "b5a6f2d3cda1-3319-47f4-58b4-c49b92e2",
                                    "hauler_name": "Transportadora_D",
                                    "status": "finalized",
                                    "km_estimated": "59.90",
                                    "km_total": "60.74"
                                }
                            ]
                        },
                        "text/html": [
                            "<table>",
                            "<tr><th>route_id</th><th>planned_date</th><th>hauler_id</th><th>hauler_name</th><th>status</th><th>km_estimated</th><th>km_total</th></tr>",
                            "<tr><td>9f8cc73d28ae-e90a-3664-6c0c-538be351</td><td>2022-04-17</td><td>25072f0bc153-547b-0884-3ce4-59b5225b</td><td>Transportadora_A</td><td>finalized</td><td>97.50</td><td>78.00</td></tr>",
                            "<tr><td>a76d85c052df-d3eb-09e4-6635-5041ed73</td><td>2022-04-17</td><td>129a1beeb1b1-4a8a-1c14-fe39-ae62d3fd</td><td>Transportadora_B</td><td>finalized</td><td>78.50</td><td>62.80</td></tr>",
                            "<tr><td>0573834677cf-c659-aa44-d6af-3127e4aa</td><td>2022-04-17</td><td>129a1beeb1b1-4a8a-1c14-fe39-ae62d3fd</td><td>Transportadora_B</td><td>finalized</td><td>250.00</td><td>85.02</td></tr>",
                            "<tr><td>5b3622b99092-c64b-94b4-987a-6d207741</td><td>2022-04-14</td><td>e469ba676c1d-d23a-26a4-972e-24a5d1e4</td><td>Transportadora_C</td><td>cancelled</td><td>109.10</td><td>0.00</td></tr>",
                            "<tr><td>42f02e9beee4-b9bb-5fb4-1892-2011ed63</td><td>2022-04-14</td><td>b5a6f2d3cda1-3319-47f4-58b4-c49b92e2</td><td>Transportadora_D</td><td>finalized</td><td>59.90</td><td>60.74</td></tr>",
                            "</table>"
                        ]
                    }
                }
            ],
            "execution_count": 3
        },
        {
            "cell_type": "markdown",
            "source": [
                "Número de rotas finalizadas por dia"
            ],
            "metadata": {
                "language": "sql",
                "azdata_cell_guid": "1cd34aa6-9f2c-4a9d-a8a5-08b93945cc4a"
            },
            "attachments": {}
        },
        {
            "cell_type": "code",
            "source": [
                "SELECT\r\n",
                "    planned_date,\r\n",
                "    COUNT(status) AS finalized\r\n",
                "\r\n",
                "FROM routes\r\n",
                "WHERE status = 'finalized'\r\n",
                "GROUP BY planned_date\r\n",
                "ORDER BY planned_date ASC"
            ],
            "metadata": {
                "language": "sql",
                "azdata_cell_guid": "9cb4eba8-86b5-46d2-b059-0906f0f9b83b"
            },
            "outputs": [
                {
                    "output_type": "display_data",
                    "data": {
                        "text/html": "(7 row(s) affected)"
                    },
                    "metadata": {}
                },
                {
                    "output_type": "display_data",
                    "data": {
                        "text/html": "Total execution time: 00:00:01.016"
                    },
                    "metadata": {}
                },
                {
                    "output_type": "execute_result",
                    "metadata": {},
                    "execution_count": 4,
                    "data": {
                        "application/vnd.dataresource+json": {
                            "schema": {
                                "fields": [
                                    {
                                        "name": "planned_date"
                                    },
                                    {
                                        "name": "finalized"
                                    }
                                ]
                            },
                            "data": [
                                {
                                    "planned_date": "2022-04-11",
                                    "finalized": "35"
                                },
                                {
                                    "planned_date": "2022-04-12",
                                    "finalized": "32"
                                },
                                {
                                    "planned_date": "2022-04-13",
                                    "finalized": "31"
                                },
                                {
                                    "planned_date": "2022-04-14",
                                    "finalized": "29"
                                },
                                {
                                    "planned_date": "2022-04-15",
                                    "finalized": "32"
                                },
                                {
                                    "planned_date": "2022-04-16",
                                    "finalized": "25"
                                },
                                {
                                    "planned_date": "2022-04-17",
                                    "finalized": "9"
                                }
                            ]
                        },
                        "text/html": [
                            "<table>",
                            "<tr><th>planned_date</th><th>finalized</th></tr>",
                            "<tr><td>2022-04-11</td><td>35</td></tr>",
                            "<tr><td>2022-04-12</td><td>32</td></tr>",
                            "<tr><td>2022-04-13</td><td>31</td></tr>",
                            "<tr><td>2022-04-14</td><td>29</td></tr>",
                            "<tr><td>2022-04-15</td><td>32</td></tr>",
                            "<tr><td>2022-04-16</td><td>25</td></tr>",
                            "<tr><td>2022-04-17</td><td>9</td></tr>",
                            "</table>"
                        ]
                    }
                }
            ],
            "execution_count": 4
        },
        {
            "cell_type": "markdown",
            "source": [
                "<span style=\"color: var(--vscode-foreground);\">Qual foi o total de KGs coletados e a sua distribuição entre tipos de materiais? Qual foi o&nbsp;</span> <span style=\"color: var(--vscode-foreground);\">estabelecimento que teve o maior peso coletado?</span>"
            ],
            "metadata": {
                "language": "sql",
                "azdata_cell_guid": "d1b99374-9e36-4e6a-8f28-42d09f38b2df"
            },
            "attachments": {}
        },
        {
            "cell_type": "code",
            "source": [
                "SELECT *\r\n",
                "FROM collects\r\n",
                "LIMIT 5"
            ],
            "metadata": {
                "language": "sql",
                "azdata_cell_guid": "2c3de055-712a-4601-8add-bff879ac5357"
            },
            "outputs": [
                {
                    "output_type": "display_data",
                    "data": {
                        "text/html": "(5 row(s) affected)"
                    },
                    "metadata": {}
                },
                {
                    "output_type": "display_data",
                    "data": {
                        "text/html": "Total execution time: 00:00:01.018"
                    },
                    "metadata": {}
                },
                {
                    "output_type": "execute_result",
                    "metadata": {},
                    "execution_count": 5,
                    "data": {
                        "application/vnd.dataresource+json": {
                            "schema": {
                                "fields": [
                                    {
                                        "name": "collect_id"
                                    },
                                    {
                                        "name": "route_id"
                                    },
                                    {
                                        "name": "planned_date"
                                    },
                                    {
                                        "name": "establishment_id"
                                    },
                                    {
                                        "name": "establishment_name"
                                    },
                                    {
                                        "name": "kind_of_material"
                                    },
                                    {
                                        "name": "collects"
                                    },
                                    {
                                        "name": "faults"
                                    },
                                    {
                                        "name": "units"
                                    },
                                    {
                                        "name": "weight"
                                    }
                                ]
                            },
                            "data": [
                                {
                                    "collect_id": "8f037ac94004-ff38-bc84-eb0d-b9fb1d0e",
                                    "route_id": "e5a0d65ba67d-f898-cb34-c321-7cd4e3ff",
                                    "planned_date": "2022-04-14",
                                    "establishment_id": "9747e7a904ad-3a58-fb74-4b66-83c303c7",
                                    "establishment_name": "Estabelecimento_999",
                                    "kind_of_material": "cardboard",
                                    "collects": "1",
                                    "faults": "0",
                                    "units": "2",
                                    "weight": "8.50"
                                },
                                {
                                    "collect_id": "54bede988f51-9f08-c594-f761-0ddd0c20",
                                    "route_id": "677b0f931393-2d8a-87b4-4a40-1915957b",
                                    "planned_date": "2022-04-12",
                                    "establishment_id": "5d814ccdb7b2-46f9-1ef4-5fa7-2c9c8040",
                                    "establishment_name": "Estabelecimento_1016",
                                    "kind_of_material": "organic",
                                    "collects": "1",
                                    "faults": "0",
                                    "units": "2",
                                    "weight": "13.68"
                                },
                                {
                                    "collect_id": "1ae75c41c8f3-a8a8-5e64-b1ea-5136f7f1",
                                    "route_id": "677b0f931393-2d8a-87b4-4a40-1915957b",
                                    "planned_date": "2022-04-12",
                                    "establishment_id": "3276c432c49b-57db-4fe4-c729-baeea282",
                                    "establishment_name": "Estabelecimento_1050",
                                    "kind_of_material": "waste",
                                    "collects": "1",
                                    "faults": "0",
                                    "units": "1",
                                    "weight": "1.02"
                                },
                                {
                                    "collect_id": "76c9c1bc9e30-d1a8-4eb4-01ac-e4aeeaf1",
                                    "route_id": "677b0f931393-2d8a-87b4-4a40-1915957b",
                                    "planned_date": "2022-04-12",
                                    "establishment_id": "36edbca0f918-a40a-b984-02d9-3479c0ff",
                                    "establishment_name": "Estabelecimento_1067",
                                    "kind_of_material": "organic",
                                    "collects": "1",
                                    "faults": "0",
                                    "units": "3",
                                    "weight": "22.60"
                                },
                                {
                                    "collect_id": "69237d342f2a-e738-5a24-1364-82981083",
                                    "route_id": "677b0f931393-2d8a-87b4-4a40-1915957b",
                                    "planned_date": "2022-04-12",
                                    "establishment_id": "9d50e55aadbd-8b99-1b84-e358-5c170001",
                                    "establishment_name": "Estabelecimento_1033",
                                    "kind_of_material": "recycable",
                                    "collects": "1",
                                    "faults": "0",
                                    "units": "5",
                                    "weight": "14.37"
                                }
                            ]
                        },
                        "text/html": [
                            "<table>",
                            "<tr><th>collect_id</th><th>route_id</th><th>planned_date</th><th>establishment_id</th><th>establishment_name</th><th>kind_of_material</th><th>collects</th><th>faults</th><th>units</th><th>weight</th></tr>",
                            "<tr><td>8f037ac94004-ff38-bc84-eb0d-b9fb1d0e</td><td>e5a0d65ba67d-f898-cb34-c321-7cd4e3ff</td><td>2022-04-14</td><td>9747e7a904ad-3a58-fb74-4b66-83c303c7</td><td>Estabelecimento_999</td><td>cardboard</td><td>1</td><td>0</td><td>2</td><td>8.50</td></tr>",
                            "<tr><td>54bede988f51-9f08-c594-f761-0ddd0c20</td><td>677b0f931393-2d8a-87b4-4a40-1915957b</td><td>2022-04-12</td><td>5d814ccdb7b2-46f9-1ef4-5fa7-2c9c8040</td><td>Estabelecimento_1016</td><td>organic</td><td>1</td><td>0</td><td>2</td><td>13.68</td></tr>",
                            "<tr><td>1ae75c41c8f3-a8a8-5e64-b1ea-5136f7f1</td><td>677b0f931393-2d8a-87b4-4a40-1915957b</td><td>2022-04-12</td><td>3276c432c49b-57db-4fe4-c729-baeea282</td><td>Estabelecimento_1050</td><td>waste</td><td>1</td><td>0</td><td>1</td><td>1.02</td></tr>",
                            "<tr><td>76c9c1bc9e30-d1a8-4eb4-01ac-e4aeeaf1</td><td>677b0f931393-2d8a-87b4-4a40-1915957b</td><td>2022-04-12</td><td>36edbca0f918-a40a-b984-02d9-3479c0ff</td><td>Estabelecimento_1067</td><td>organic</td><td>1</td><td>0</td><td>3</td><td>22.60</td></tr>",
                            "<tr><td>69237d342f2a-e738-5a24-1364-82981083</td><td>677b0f931393-2d8a-87b4-4a40-1915957b</td><td>2022-04-12</td><td>9d50e55aadbd-8b99-1b84-e358-5c170001</td><td>Estabelecimento_1033</td><td>recycable</td><td>1</td><td>0</td><td>5</td><td>14.37</td></tr>",
                            "</table>"
                        ]
                    }
                }
            ],
            "execution_count": 5
        },
        {
            "cell_type": "markdown",
            "source": [
                "Total de Kgs por material"
            ],
            "metadata": {
                "language": "sql",
                "azdata_cell_guid": "1fa12794-159b-440d-9fbb-8e08c0ff9c2d"
            },
            "attachments": {}
        },
        {
            "cell_type": "code",
            "source": [
                "SELECT \r\n",
                "    kind_of_material AS Material,\r\n",
                "    SUM(weight) AS Kilograms\r\n",
                "\r\n",
                "FROM collects\r\n",
                "GROUP BY Material"
            ],
            "metadata": {
                "language": "sql",
                "azdata_cell_guid": "618e5b4f-8391-444e-8737-b8e47e67fab0"
            },
            "outputs": [
                {
                    "output_type": "display_data",
                    "data": {
                        "text/html": "(6 row(s) affected)"
                    },
                    "metadata": {}
                },
                {
                    "output_type": "display_data",
                    "data": {
                        "text/html": "Total execution time: 00:00:01.053"
                    },
                    "metadata": {}
                },
                {
                    "output_type": "execute_result",
                    "metadata": {},
                    "execution_count": 6,
                    "data": {
                        "application/vnd.dataresource+json": {
                            "schema": {
                                "fields": [
                                    {
                                        "name": "Material"
                                    },
                                    {
                                        "name": "Kilograms"
                                    }
                                ]
                            },
                            "data": [
                                {
                                    "Material": "cardboard",
                                    "Kilograms": "15003.67"
                                },
                                {
                                    "Material": "organic",
                                    "Kilograms": "106038.78"
                                },
                                {
                                    "Material": "waste",
                                    "Kilograms": "41907.17"
                                },
                                {
                                    "Material": "recycable",
                                    "Kilograms": "67938.42"
                                },
                                {
                                    "Material": "glass",
                                    "Kilograms": "2155.75"
                                },
                                {
                                    "Material": "liquid",
                                    "Kilograms": "420.00"
                                }
                            ]
                        },
                        "text/html": [
                            "<table>",
                            "<tr><th>Material</th><th>Kilograms</th></tr>",
                            "<tr><td>cardboard</td><td>15003.67</td></tr>",
                            "<tr><td>organic</td><td>106038.78</td></tr>",
                            "<tr><td>waste</td><td>41907.17</td></tr>",
                            "<tr><td>recycable</td><td>67938.42</td></tr>",
                            "<tr><td>glass</td><td>2155.75</td></tr>",
                            "<tr><td>liquid</td><td>420.00</td></tr>",
                            "</table>"
                        ]
                    }
                }
            ],
            "execution_count": 6
        },
        {
            "cell_type": "markdown",
            "source": [
                "Total de Kilogrmas por estabelecimento e material"
            ],
            "metadata": {
                "language": "sql",
                "azdata_cell_guid": "3a79f053-07f3-40bb-a488-694fb45332f1"
            },
            "attachments": {}
        },
        {
            "cell_type": "code",
            "source": [
                "SELECT \r\n",
                "    establishment_name,\r\n",
                "    kind_of_material,\r\n",
                "    SUM(weight) AS Kilograms\r\n",
                "\r\n",
                "FROM collects\r\n",
                "GROUP BY establishment_id, establishment_name, kind_of_material\r\n",
                "ORDER BY establishment_name\r\n",
                "LIMIT 15"
            ],
            "metadata": {
                "language": "sql",
                "azdata_cell_guid": "a9f87534-67aa-4037-8321-3ec70b279b44"
            },
            "outputs": [
                {
                    "output_type": "display_data",
                    "data": {
                        "text/html": "(15 row(s) affected)"
                    },
                    "metadata": {}
                },
                {
                    "output_type": "display_data",
                    "data": {
                        "text/html": "Total execution time: 00:00:01.058"
                    },
                    "metadata": {}
                },
                {
                    "output_type": "execute_result",
                    "metadata": {},
                    "execution_count": 128,
                    "data": {
                        "application/vnd.dataresource+json": {
                            "schema": {
                                "fields": [
                                    {
                                        "name": "establishment_name"
                                    },
                                    {
                                        "name": "kind_of_material"
                                    },
                                    {
                                        "name": "Kilograms"
                                    }
                                ]
                            },
                            "data": [
                                {
                                    "establishment_name": "Estabelecimento_10009",
                                    "kind_of_material": "cardboard",
                                    "Kilograms": "0.02"
                                },
                                {
                                    "establishment_name": "Estabelecimento_10009",
                                    "kind_of_material": "recycable",
                                    "Kilograms": "78.73"
                                },
                                {
                                    "establishment_name": "Estabelecimento_10009",
                                    "kind_of_material": "organic",
                                    "Kilograms": "206.40"
                                },
                                {
                                    "establishment_name": "Estabelecimento_10009",
                                    "kind_of_material": "waste",
                                    "Kilograms": "8.30"
                                },
                                {
                                    "establishment_name": "Estabelecimento_10026",
                                    "kind_of_material": "recycable",
                                    "Kilograms": "43.24"
                                },
                                {
                                    "establishment_name": "Estabelecimento_10026",
                                    "kind_of_material": "organic",
                                    "Kilograms": "41.47"
                                },
                                {
                                    "establishment_name": "Estabelecimento_10026",
                                    "kind_of_material": "cardboard",
                                    "Kilograms": "0.14"
                                },
                                {
                                    "establishment_name": "Estabelecimento_10026",
                                    "kind_of_material": "waste",
                                    "Kilograms": "3.11"
                                },
                                {
                                    "establishment_name": "Estabelecimento_10043",
                                    "kind_of_material": "organic",
                                    "Kilograms": "276.31"
                                },
                                {
                                    "establishment_name": "Estabelecimento_10043",
                                    "kind_of_material": "waste",
                                    "Kilograms": "29.05"
                                },
                                {
                                    "establishment_name": "Estabelecimento_10043",
                                    "kind_of_material": "recycable",
                                    "Kilograms": "120.03"
                                },
                                {
                                    "establishment_name": "Estabelecimento_10043",
                                    "kind_of_material": "cardboard",
                                    "Kilograms": "155.03"
                                },
                                {
                                    "establishment_name": "Estabelecimento_10060",
                                    "kind_of_material": "organic",
                                    "Kilograms": "23.46"
                                },
                                {
                                    "establishment_name": "Estabelecimento_10060",
                                    "kind_of_material": "recycable",
                                    "Kilograms": "19.19"
                                },
                                {
                                    "establishment_name": "Estabelecimento_10060",
                                    "kind_of_material": "waste",
                                    "Kilograms": "2.66"
                                }
                            ]
                        },
                        "text/html": [
                            "<table>",
                            "<tr><th>establishment_name</th><th>kind_of_material</th><th>Kilograms</th></tr>",
                            "<tr><td>Estabelecimento_10009</td><td>cardboard</td><td>0.02</td></tr>",
                            "<tr><td>Estabelecimento_10009</td><td>recycable</td><td>78.73</td></tr>",
                            "<tr><td>Estabelecimento_10009</td><td>organic</td><td>206.40</td></tr>",
                            "<tr><td>Estabelecimento_10009</td><td>waste</td><td>8.30</td></tr>",
                            "<tr><td>Estabelecimento_10026</td><td>recycable</td><td>43.24</td></tr>",
                            "<tr><td>Estabelecimento_10026</td><td>organic</td><td>41.47</td></tr>",
                            "<tr><td>Estabelecimento_10026</td><td>cardboard</td><td>0.14</td></tr>",
                            "<tr><td>Estabelecimento_10026</td><td>waste</td><td>3.11</td></tr>",
                            "<tr><td>Estabelecimento_10043</td><td>organic</td><td>276.31</td></tr>",
                            "<tr><td>Estabelecimento_10043</td><td>waste</td><td>29.05</td></tr>",
                            "<tr><td>Estabelecimento_10043</td><td>recycable</td><td>120.03</td></tr>",
                            "<tr><td>Estabelecimento_10043</td><td>cardboard</td><td>155.03</td></tr>",
                            "<tr><td>Estabelecimento_10060</td><td>organic</td><td>23.46</td></tr>",
                            "<tr><td>Estabelecimento_10060</td><td>recycable</td><td>19.19</td></tr>",
                            "<tr><td>Estabelecimento_10060</td><td>waste</td><td>2.66</td></tr>",
                            "</table>"
                        ]
                    }
                }
            ],
            "execution_count": 128
        },
        {
            "cell_type": "code",
            "source": [
                "WITH kg_material_establishment AS (\r\n",
                "    SELECT \r\n",
                "        establishment_name,\r\n",
                "        SUM(weight) AS Kilograms\r\n",
                "    FROM collects\r\n",
                "    GROUP BY establishment_id, establishment_name\r\n",
                "    ORDER BY SUM(weight) DESC\r\n",
                ")\r\n",
                "\r\n",
                "SELECT\r\n",
                "    establishment_name,\r\n",
                "    SUM(Kilograms) AS Kg_Total\r\n",
                "FROM kg_material_establishment\r\n",
                "GROUP BY establishment_name\r\n",
                "ORDER BY Kg_Total DESC\r\n",
                "LIMIT 10"
            ],
            "metadata": {
                "language": "sql",
                "azdata_cell_guid": "4a6d9fd4-9bde-4d2f-8c35-744bfdf37a23",
                "tags": []
            },
            "outputs": [
                {
                    "output_type": "display_data",
                    "data": {
                        "text/html": "(10 row(s) affected)"
                    },
                    "metadata": {}
                },
                {
                    "output_type": "display_data",
                    "data": {
                        "text/html": "Total execution time: 00:00:01.060"
                    },
                    "metadata": {}
                },
                {
                    "output_type": "execute_result",
                    "metadata": {},
                    "execution_count": 125,
                    "data": {
                        "application/vnd.dataresource+json": {
                            "schema": {
                                "fields": [
                                    {
                                        "name": "establishment_name"
                                    },
                                    {
                                        "name": "Kg_Total"
                                    }
                                ]
                            },
                            "data": [
                                {
                                    "establishment_name": "Estabelecimento_4059",
                                    "Kg_Total": "6519.29"
                                },
                                {
                                    "establishment_name": "Estabelecimento_3770",
                                    "Kg_Total": "5838.98"
                                },
                                {
                                    "establishment_name": "Estabelecimento_5011",
                                    "Kg_Total": "4240.54"
                                },
                                {
                                    "establishment_name": "Estabelecimento_7323",
                                    "Kg_Total": "2839.85"
                                },
                                {
                                    "establishment_name": "Estabelecimento_2580",
                                    "Kg_Total": "2599.35"
                                },
                                {
                                    "establishment_name": "Estabelecimento_4705",
                                    "Kg_Total": "2411.13"
                                },
                                {
                                    "establishment_name": "Estabelecimento_7119",
                                    "Kg_Total": "2041.68"
                                },
                                {
                                    "establishment_name": "Estabelecimento_1373",
                                    "Kg_Total": "1866.98"
                                },
                                {
                                    "establishment_name": "Estabelecimento_1985",
                                    "Kg_Total": "1708.98"
                                },
                                {
                                    "establishment_name": "Estabelecimento_9176",
                                    "Kg_Total": "1607.92"
                                }
                            ]
                        },
                        "text/html": [
                            "<table>",
                            "<tr><th>establishment_name</th><th>Kg_Total</th></tr>",
                            "<tr><td>Estabelecimento_4059</td><td>6519.29</td></tr>",
                            "<tr><td>Estabelecimento_3770</td><td>5838.98</td></tr>",
                            "<tr><td>Estabelecimento_5011</td><td>4240.54</td></tr>",
                            "<tr><td>Estabelecimento_7323</td><td>2839.85</td></tr>",
                            "<tr><td>Estabelecimento_2580</td><td>2599.35</td></tr>",
                            "<tr><td>Estabelecimento_4705</td><td>2411.13</td></tr>",
                            "<tr><td>Estabelecimento_7119</td><td>2041.68</td></tr>",
                            "<tr><td>Estabelecimento_1373</td><td>1866.98</td></tr>",
                            "<tr><td>Estabelecimento_1985</td><td>1708.98</td></tr>",
                            "<tr><td>Estabelecimento_9176</td><td>1607.92</td></tr>",
                            "</table>"
                        ]
                    }
                }
            ],
            "execution_count": 125
        },
        {
            "cell_type": "markdown",
            "source": [
                "<span style=\"color: var(--vscode-foreground);\">Quando uma transportadora (hauler) não realiza uma coleta, é considerada uma falta&nbsp;</span> <span style=\"color: var(--vscode-foreground);\">(fault). Qual transportadora teve o maior percentual de faltas sobre coletas</span>"
            ],
            "metadata": {
                "azdata_cell_guid": "c0a965e9-5b10-46df-ae59-ed30458b05a3"
            },
            "attachments": {}
        },
        {
            "cell_type": "code",
            "source": [
                "SELECT\r\n",
                "    r.hauler_name AS Hauler,\r\n",
                "    COUNT(DISTINCT r.route_id) AS Routes,\r\n",
                "    SUM(c.collects) AS Collects,\r\n",
                "    SUM(c.faults) AS Faults,\r\n",
                "    ROUND((SUM(c.collects) / (SUM(c.collects) + SUM(c.faults)) * 100), 2) AS Coll_Percent,\r\n",
                "    ROUND((SUM(c.faults) / (SUM(c.collects) + SUM(c.faults)) * 100), 2) AS Faul_Percent\r\n",
                "    \r\n",
                "\r\n",
                "FROM routes r\r\n",
                "JOIN fleet f ON r.hauler_id = f.hauler_id \r\n",
                "LEFT JOIN collects c ON r.route_id = c.route_id\r\n",
                "GROUP BY Hauler\r\n",
                "ORDER BY Faul_Percent DESC"
            ],
            "metadata": {
                "azdata_cell_guid": "4e2e4668-73b0-4502-9ea0-7ee6e4c355a7",
                "language": "sql",
                "tags": []
            },
            "outputs": [
                {
                    "output_type": "display_data",
                    "data": {
                        "text/html": "(11 row(s) affected)"
                    },
                    "metadata": {}
                },
                {
                    "output_type": "display_data",
                    "data": {
                        "text/html": "Total execution time: 00:00:01.434"
                    },
                    "metadata": {}
                },
                {
                    "output_type": "execute_result",
                    "metadata": {},
                    "execution_count": 126,
                    "data": {
                        "application/vnd.dataresource+json": {
                            "schema": {
                                "fields": [
                                    {
                                        "name": "Hauler"
                                    },
                                    {
                                        "name": "Routes"
                                    },
                                    {
                                        "name": "Collects"
                                    },
                                    {
                                        "name": "Faults"
                                    },
                                    {
                                        "name": "Coll_Percent"
                                    },
                                    {
                                        "name": "Faul_Percent"
                                    }
                                ]
                            },
                            "data": [
                                {
                                    "Hauler": "Transportadora_K",
                                    "Routes": "13",
                                    "Collects": "344",
                                    "Faults": "38",
                                    "Coll_Percent": "90.05",
                                    "Faul_Percent": "9.95"
                                },
                                {
                                    "Hauler": "Transportadora_E",
                                    "Routes": "7",
                                    "Collects": "333",
                                    "Faults": "29",
                                    "Coll_Percent": "91.99",
                                    "Faul_Percent": "8.01"
                                },
                                {
                                    "Hauler": "Transportadora_B",
                                    "Routes": "45",
                                    "Collects": "1417",
                                    "Faults": "105",
                                    "Coll_Percent": "93.10",
                                    "Faul_Percent": "6.90"
                                },
                                {
                                    "Hauler": "Transportadora_G",
                                    "Routes": "27",
                                    "Collects": "1197",
                                    "Faults": "87",
                                    "Coll_Percent": "93.22",
                                    "Faul_Percent": "6.78"
                                },
                                {
                                    "Hauler": "Transportadora_J",
                                    "Routes": "12",
                                    "Collects": "463",
                                    "Faults": "25",
                                    "Coll_Percent": "94.88",
                                    "Faul_Percent": "5.12"
                                },
                                {
                                    "Hauler": "Transportadora_F",
                                    "Routes": "37",
                                    "Collects": "2135",
                                    "Faults": "83",
                                    "Coll_Percent": "96.26",
                                    "Faul_Percent": "3.74"
                                },
                                {
                                    "Hauler": "Transportadora_D",
                                    "Routes": "48",
                                    "Collects": "2904",
                                    "Faults": "104",
                                    "Coll_Percent": "96.54",
                                    "Faul_Percent": "3.46"
                                },
                                {
                                    "Hauler": "Transportadora_A",
                                    "Routes": "49",
                                    "Collects": "1045",
                                    "Faults": "20",
                                    "Coll_Percent": "98.12",
                                    "Faul_Percent": "1.88"
                                },
                                {
                                    "Hauler": "Transportadora_H",
                                    "Routes": "8",
                                    "Collects": "26",
                                    "Faults": "0",
                                    "Coll_Percent": "100.00",
                                    "Faul_Percent": "0.00"
                                },
                                {
                                    "Hauler": "Transportadora_C",
                                    "Routes": "18",
                                    "Collects": "NULL",
                                    "Faults": "NULL",
                                    "Coll_Percent": "NULL",
                                    "Faul_Percent": "NULL"
                                },
                                {
                                    "Hauler": "Transportadora_I",
                                    "Routes": "2",
                                    "Collects": "NULL",
                                    "Faults": "NULL",
                                    "Coll_Percent": "NULL",
                                    "Faul_Percent": "NULL"
                                }
                            ]
                        },
                        "text/html": [
                            "<table>",
                            "<tr><th>Hauler</th><th>Routes</th><th>Collects</th><th>Faults</th><th>Coll_Percent</th><th>Faul_Percent</th></tr>",
                            "<tr><td>Transportadora_K</td><td>13</td><td>344</td><td>38</td><td>90.05</td><td>9.95</td></tr>",
                            "<tr><td>Transportadora_E</td><td>7</td><td>333</td><td>29</td><td>91.99</td><td>8.01</td></tr>",
                            "<tr><td>Transportadora_B</td><td>45</td><td>1417</td><td>105</td><td>93.10</td><td>6.90</td></tr>",
                            "<tr><td>Transportadora_G</td><td>27</td><td>1197</td><td>87</td><td>93.22</td><td>6.78</td></tr>",
                            "<tr><td>Transportadora_J</td><td>12</td><td>463</td><td>25</td><td>94.88</td><td>5.12</td></tr>",
                            "<tr><td>Transportadora_F</td><td>37</td><td>2135</td><td>83</td><td>96.26</td><td>3.74</td></tr>",
                            "<tr><td>Transportadora_D</td><td>48</td><td>2904</td><td>104</td><td>96.54</td><td>3.46</td></tr>",
                            "<tr><td>Transportadora_A</td><td>49</td><td>1045</td><td>20</td><td>98.12</td><td>1.88</td></tr>",
                            "<tr><td>Transportadora_H</td><td>8</td><td>26</td><td>0</td><td>100.00</td><td>0.00</td></tr>",
                            "<tr><td>Transportadora_C</td><td>18</td><td>NULL</td><td>NULL</td><td>NULL</td><td>NULL</td></tr>",
                            "<tr><td>Transportadora_I</td><td>2</td><td>NULL</td><td>NULL</td><td>NULL</td><td>NULL</td></tr>",
                            "</table>"
                        ]
                    }
                }
            ],
            "execution_count": 126
        },
        {
            "cell_type": "markdown",
            "source": [
                "O Gerente de Operações precisa tomar uma decisão sobre o mix de rotas entre transportadoras, pois algumas transportadoras (E, H e K) estão pedindo mais rotas para seguir com a parceria com a Musa. Considerando o custo das rotas de cada transportadora e a taxa de faltas sobre coletas, qual é a recomendação que você daria para o gerente?"
            ],
            "metadata": {
                "language": "sql",
                "azdata_cell_guid": "6a461976-85c2-4a81-85ee-672bb000cb9e"
            },
            "attachments": {}
        },
        {
            "cell_type": "code",
            "source": [
                "SELECT \r\n",
                "    DISTINCT(r.hauler_name),\r\n",
                "    f.route_cost\r\n",
                "\r\n",
                "FROM fleet f\r\n",
                "JOIN routes r ON r.hauler_id = f.hauler_id"
            ],
            "metadata": {
                "language": "sql",
                "azdata_cell_guid": "d9955b22-b440-4335-bacf-553e6594bd1d"
            },
            "outputs": [
                {
                    "output_type": "display_data",
                    "data": {
                        "text/html": "(11 row(s) affected)"
                    },
                    "metadata": {}
                },
                {
                    "output_type": "display_data",
                    "data": {
                        "text/html": "Total execution time: 00:00:01.012"
                    },
                    "metadata": {}
                },
                {
                    "output_type": "execute_result",
                    "metadata": {},
                    "execution_count": 76,
                    "data": {
                        "application/vnd.dataresource+json": {
                            "schema": {
                                "fields": [
                                    {
                                        "name": "hauler_name"
                                    },
                                    {
                                        "name": "route_cost"
                                    }
                                ]
                            },
                            "data": [
                                {
                                    "hauler_name": "Transportadora_A",
                                    "route_cost": "2000.00"
                                },
                                {
                                    "hauler_name": "Transportadora_B",
                                    "route_cost": "2500.00"
                                },
                                {
                                    "hauler_name": "Transportadora_C",
                                    "route_cost": "1800.00"
                                },
                                {
                                    "hauler_name": "Transportadora_D",
                                    "route_cost": "2200.00"
                                },
                                {
                                    "hauler_name": "Transportadora_E",
                                    "route_cost": "1900.00"
                                },
                                {
                                    "hauler_name": "Transportadora_F",
                                    "route_cost": "1500.00"
                                },
                                {
                                    "hauler_name": "Transportadora_G",
                                    "route_cost": "3000.00"
                                },
                                {
                                    "hauler_name": "Transportadora_H",
                                    "route_cost": "1200.00"
                                },
                                {
                                    "hauler_name": "Transportadora_I",
                                    "route_cost": "10000.00"
                                },
                                {
                                    "hauler_name": "Transportadora_J",
                                    "route_cost": "900.00"
                                },
                                {
                                    "hauler_name": "Transportadora_K",
                                    "route_cost": "3200.00"
                                }
                            ]
                        },
                        "text/html": [
                            "<table>",
                            "<tr><th>hauler_name</th><th>route_cost</th></tr>",
                            "<tr><td>Transportadora_A</td><td>2000.00</td></tr>",
                            "<tr><td>Transportadora_B</td><td>2500.00</td></tr>",
                            "<tr><td>Transportadora_C</td><td>1800.00</td></tr>",
                            "<tr><td>Transportadora_D</td><td>2200.00</td></tr>",
                            "<tr><td>Transportadora_E</td><td>1900.00</td></tr>",
                            "<tr><td>Transportadora_F</td><td>1500.00</td></tr>",
                            "<tr><td>Transportadora_G</td><td>3000.00</td></tr>",
                            "<tr><td>Transportadora_H</td><td>1200.00</td></tr>",
                            "<tr><td>Transportadora_I</td><td>10000.00</td></tr>",
                            "<tr><td>Transportadora_J</td><td>900.00</td></tr>",
                            "<tr><td>Transportadora_K</td><td>3200.00</td></tr>",
                            "</table>"
                        ]
                    }
                }
            ],
            "execution_count": 76
        },
        {
            "cell_type": "code",
            "source": [
                "SELECT\r\n",
                "    r.hauler_name AS Hauler,\r\n",
                "    COUNT(DISTINCT r.route_id) AS Routes,\r\n",
                "    SUM(f.route_cost) AS total_routes_cost\r\n",
                "\r\n",
                "FROM routes r\r\n",
                "JOIN fleet f ON r.hauler_id = f.hauler_id\r\n",
                "GROUP BY Hauler\r\n",
                "ORDER BY total_routes_cost DESC"
            ],
            "metadata": {
                "language": "sql",
                "azdata_cell_guid": "d600c293-2d19-430d-bc1f-77f0efc4b3df",
                "tags": []
            },
            "outputs": [
                {
                    "output_type": "display_data",
                    "data": {
                        "text/html": "(11 row(s) affected)"
                    },
                    "metadata": {}
                },
                {
                    "output_type": "display_data",
                    "data": {
                        "text/html": "Total execution time: 00:00:01.012"
                    },
                    "metadata": {}
                },
                {
                    "output_type": "execute_result",
                    "metadata": {},
                    "execution_count": 129,
                    "data": {
                        "application/vnd.dataresource+json": {
                            "schema": {
                                "fields": [
                                    {
                                        "name": "Hauler"
                                    },
                                    {
                                        "name": "Routes"
                                    },
                                    {
                                        "name": "total_routes_cost"
                                    }
                                ]
                            },
                            "data": [
                                {
                                    "Hauler": "Transportadora_B",
                                    "Routes": "45",
                                    "total_routes_cost": "112500.00"
                                },
                                {
                                    "Hauler": "Transportadora_D",
                                    "Routes": "48",
                                    "total_routes_cost": "105600.00"
                                },
                                {
                                    "Hauler": "Transportadora_A",
                                    "Routes": "49",
                                    "total_routes_cost": "98000.00"
                                },
                                {
                                    "Hauler": "Transportadora_G",
                                    "Routes": "27",
                                    "total_routes_cost": "81000.00"
                                },
                                {
                                    "Hauler": "Transportadora_F",
                                    "Routes": "37",
                                    "total_routes_cost": "55500.00"
                                },
                                {
                                    "Hauler": "Transportadora_K",
                                    "Routes": "13",
                                    "total_routes_cost": "41600.00"
                                },
                                {
                                    "Hauler": "Transportadora_C",
                                    "Routes": "18",
                                    "total_routes_cost": "32400.00"
                                },
                                {
                                    "Hauler": "Transportadora_I",
                                    "Routes": "2",
                                    "total_routes_cost": "20000.00"
                                },
                                {
                                    "Hauler": "Transportadora_E",
                                    "Routes": "7",
                                    "total_routes_cost": "13300.00"
                                },
                                {
                                    "Hauler": "Transportadora_J",
                                    "Routes": "12",
                                    "total_routes_cost": "10800.00"
                                },
                                {
                                    "Hauler": "Transportadora_H",
                                    "Routes": "8",
                                    "total_routes_cost": "9600.00"
                                }
                            ]
                        },
                        "text/html": [
                            "<table>",
                            "<tr><th>Hauler</th><th>Routes</th><th>total_routes_cost</th></tr>",
                            "<tr><td>Transportadora_B</td><td>45</td><td>112500.00</td></tr>",
                            "<tr><td>Transportadora_D</td><td>48</td><td>105600.00</td></tr>",
                            "<tr><td>Transportadora_A</td><td>49</td><td>98000.00</td></tr>",
                            "<tr><td>Transportadora_G</td><td>27</td><td>81000.00</td></tr>",
                            "<tr><td>Transportadora_F</td><td>37</td><td>55500.00</td></tr>",
                            "<tr><td>Transportadora_K</td><td>13</td><td>41600.00</td></tr>",
                            "<tr><td>Transportadora_C</td><td>18</td><td>32400.00</td></tr>",
                            "<tr><td>Transportadora_I</td><td>2</td><td>20000.00</td></tr>",
                            "<tr><td>Transportadora_E</td><td>7</td><td>13300.00</td></tr>",
                            "<tr><td>Transportadora_J</td><td>12</td><td>10800.00</td></tr>",
                            "<tr><td>Transportadora_H</td><td>8</td><td>9600.00</td></tr>",
                            "</table>"
                        ]
                    }
                }
            ],
            "execution_count": 129
        },
        {
            "cell_type": "markdown",
            "source": [
                "Qeuries para Regressão com ML"
            ],
            "metadata": {
                "azdata_cell_guid": "384b9929-0df9-4458-8ffd-caa88be2ad8f"
            },
            "attachments": {}
        },
        {
            "cell_type": "code",
            "source": [
                "SELECT\r\n",
                "    r.planned_date AS Date,\r\n",
                "    r.hauler_name AS Hauler,\r\n",
                "    COUNT(DISTINCT r.route_id) AS Routes,\r\n",
                "    SUM(c.collects) AS Collects,\r\n",
                "    SUM(c.faults) AS Faults\r\n",
                "\r\n",
                "FROM routes r\r\n",
                "JOIN collects c ON c.route_id = r.route_id\r\n",
                "WHERE hauler_name = \"Transportadora_K\" -- K, H, E\r\n",
                "GROUP BY Hauler, Date\r\n",
                "ORDER BY Date ASC"
            ],
            "metadata": {
                "azdata_cell_guid": "cdf8d31c-718d-492b-a52c-ef64e510b60a",
                "language": "sql"
            },
            "outputs": [
                {
                    "output_type": "display_data",
                    "data": {
                        "text/html": "(5 row(s) affected)"
                    },
                    "metadata": {}
                },
                {
                    "output_type": "display_data",
                    "data": {
                        "text/html": "Total execution time: 00:00:01.032"
                    },
                    "metadata": {}
                },
                {
                    "output_type": "execute_result",
                    "metadata": {},
                    "execution_count": 123,
                    "data": {
                        "application/vnd.dataresource+json": {
                            "schema": {
                                "fields": [
                                    {
                                        "name": "Date"
                                    },
                                    {
                                        "name": "Hauler"
                                    },
                                    {
                                        "name": "Routes"
                                    },
                                    {
                                        "name": "Collects"
                                    },
                                    {
                                        "name": "Faults"
                                    }
                                ]
                            },
                            "data": [
                                {
                                    "Date": "2022-04-11",
                                    "Hauler": "Transportadora_K",
                                    "Routes": "1",
                                    "Collects": "41",
                                    "Faults": "0"
                                },
                                {
                                    "Date": "2022-04-12",
                                    "Hauler": "Transportadora_K",
                                    "Routes": "2",
                                    "Collects": "38",
                                    "Faults": "11"
                                },
                                {
                                    "Date": "2022-04-13",
                                    "Hauler": "Transportadora_K",
                                    "Routes": "2",
                                    "Collects": "83",
                                    "Faults": "0"
                                },
                                {
                                    "Date": "2022-04-14",
                                    "Hauler": "Transportadora_K",
                                    "Routes": "1",
                                    "Collects": "93",
                                    "Faults": "27"
                                },
                                {
                                    "Date": "2022-04-15",
                                    "Hauler": "Transportadora_K",
                                    "Routes": "3",
                                    "Collects": "89",
                                    "Faults": "0"
                                }
                            ]
                        },
                        "text/html": [
                            "<table>",
                            "<tr><th>Date</th><th>Hauler</th><th>Routes</th><th>Collects</th><th>Faults</th></tr>",
                            "<tr><td>2022-04-11</td><td>Transportadora_K</td><td>1</td><td>41</td><td>0</td></tr>",
                            "<tr><td>2022-04-12</td><td>Transportadora_K</td><td>2</td><td>38</td><td>11</td></tr>",
                            "<tr><td>2022-04-13</td><td>Transportadora_K</td><td>2</td><td>83</td><td>0</td></tr>",
                            "<tr><td>2022-04-14</td><td>Transportadora_K</td><td>1</td><td>93</td><td>27</td></tr>",
                            "<tr><td>2022-04-15</td><td>Transportadora_K</td><td>3</td><td>89</td><td>0</td></tr>",
                            "</table>"
                        ]
                    }
                }
            ],
            "execution_count": 123
        },
        {
            "cell_type": "code",
            "source": [
                "SELECT\r\n",
                "    r.planned_date AS Date,\r\n",
                "    r.hauler_name AS Hauler,\r\n",
                "    COUNT(DISTINCT r.route_id) AS Routes,\r\n",
                "    SUM(c.collects) AS Collects,\r\n",
                "    SUM(c.faults) AS Faults\r\n",
                "\r\n",
                "FROM routes r\r\n",
                "JOIN collects c ON c.route_id = r.route_id\r\n",
                "WHERE hauler_name = \"Transportadora_E\" -- K, H, E\r\n",
                "GROUP BY Hauler, Date\r\n",
                "ORDER BY Date ASC"
            ],
            "metadata": {
                "language": "sql",
                "azdata_cell_guid": "312610ba-f928-4314-a75a-6039c0421943"
            },
            "outputs": [
                {
                    "output_type": "display_data",
                    "data": {
                        "text/html": "(6 row(s) affected)"
                    },
                    "metadata": {}
                },
                {
                    "output_type": "display_data",
                    "data": {
                        "text/html": "Total execution time: 00:00:01.025"
                    },
                    "metadata": {}
                },
                {
                    "output_type": "execute_result",
                    "metadata": {},
                    "execution_count": 124,
                    "data": {
                        "application/vnd.dataresource+json": {
                            "schema": {
                                "fields": [
                                    {
                                        "name": "Date"
                                    },
                                    {
                                        "name": "Hauler"
                                    },
                                    {
                                        "name": "Routes"
                                    },
                                    {
                                        "name": "Collects"
                                    },
                                    {
                                        "name": "Faults"
                                    }
                                ]
                            },
                            "data": [
                                {
                                    "Date": "2022-04-11",
                                    "Hauler": "Transportadora_E",
                                    "Routes": "1",
                                    "Collects": "65",
                                    "Faults": "4"
                                },
                                {
                                    "Date": "2022-04-12",
                                    "Hauler": "Transportadora_E",
                                    "Routes": "1",
                                    "Collects": "53",
                                    "Faults": "4"
                                },
                                {
                                    "Date": "2022-04-13",
                                    "Hauler": "Transportadora_E",
                                    "Routes": "1",
                                    "Collects": "73",
                                    "Faults": "4"
                                },
                                {
                                    "Date": "2022-04-14",
                                    "Hauler": "Transportadora_E",
                                    "Routes": "1",
                                    "Collects": "61",
                                    "Faults": "4"
                                },
                                {
                                    "Date": "2022-04-16",
                                    "Hauler": "Transportadora_E",
                                    "Routes": "1",
                                    "Collects": "45",
                                    "Faults": "4"
                                },
                                {
                                    "Date": "2022-04-17",
                                    "Hauler": "Transportadora_E",
                                    "Routes": "1",
                                    "Collects": "36",
                                    "Faults": "9"
                                }
                            ]
                        },
                        "text/html": [
                            "<table>",
                            "<tr><th>Date</th><th>Hauler</th><th>Routes</th><th>Collects</th><th>Faults</th></tr>",
                            "<tr><td>2022-04-11</td><td>Transportadora_E</td><td>1</td><td>65</td><td>4</td></tr>",
                            "<tr><td>2022-04-12</td><td>Transportadora_E</td><td>1</td><td>53</td><td>4</td></tr>",
                            "<tr><td>2022-04-13</td><td>Transportadora_E</td><td>1</td><td>73</td><td>4</td></tr>",
                            "<tr><td>2022-04-14</td><td>Transportadora_E</td><td>1</td><td>61</td><td>4</td></tr>",
                            "<tr><td>2022-04-16</td><td>Transportadora_E</td><td>1</td><td>45</td><td>4</td></tr>",
                            "<tr><td>2022-04-17</td><td>Transportadora_E</td><td>1</td><td>36</td><td>9</td></tr>",
                            "</table>"
                        ]
                    }
                }
            ],
            "execution_count": 124
        },
        {
            "cell_type": "code",
            "source": [
                "SELECT\r\n",
                "    r.planned_date AS Date,\r\n",
                "    r.hauler_name AS Hauler,\r\n",
                "    COUNT(DISTINCT r.route_id) AS Routes,\r\n",
                "    SUM(c.collects) AS Collects,\r\n",
                "    SUM(c.faults) AS Faults\r\n",
                "\r\n",
                "FROM routes r\r\n",
                "JOIN collects c ON c.route_id = r.route_id\r\n",
                "WHERE hauler_name = \"Transportadora_J\" -- K, H, E\r\n",
                "GROUP BY Hauler, Date\r\n",
                "ORDER BY Date ASC"
            ],
            "metadata": {
                "language": "sql",
                "azdata_cell_guid": "38860f44-ee49-4154-9fdb-5d8dccc8991b"
            },
            "outputs": [
                {
                    "output_type": "display_data",
                    "data": {
                        "text/html": "(6 row(s) affected)"
                    },
                    "metadata": {}
                },
                {
                    "output_type": "display_data",
                    "data": {
                        "text/html": "Total execution time: 00:00:01.036"
                    },
                    "metadata": {}
                },
                {
                    "output_type": "execute_result",
                    "metadata": {},
                    "execution_count": 119,
                    "data": {
                        "application/vnd.dataresource+json": {
                            "schema": {
                                "fields": [
                                    {
                                        "name": "Date"
                                    },
                                    {
                                        "name": "Hauler"
                                    },
                                    {
                                        "name": "Routes"
                                    },
                                    {
                                        "name": "Collects"
                                    },
                                    {
                                        "name": "Faults"
                                    }
                                ]
                            },
                            "data": [
                                {
                                    "Date": "2022-04-11",
                                    "Hauler": "Transportadora_J",
                                    "Routes": "2",
                                    "Collects": "100",
                                    "Faults": "4"
                                },
                                {
                                    "Date": "2022-04-12",
                                    "Hauler": "Transportadora_J",
                                    "Routes": "1",
                                    "Collects": "26",
                                    "Faults": "2"
                                },
                                {
                                    "Date": "2022-04-13",
                                    "Hauler": "Transportadora_J",
                                    "Routes": "2",
                                    "Collects": "90",
                                    "Faults": "0"
                                },
                                {
                                    "Date": "2022-04-14",
                                    "Hauler": "Transportadora_J",
                                    "Routes": "1",
                                    "Collects": "37",
                                    "Faults": "4"
                                },
                                {
                                    "Date": "2022-04-15",
                                    "Hauler": "Transportadora_J",
                                    "Routes": "2",
                                    "Collects": "110",
                                    "Faults": "4"
                                },
                                {
                                    "Date": "2022-04-16",
                                    "Hauler": "Transportadora_J",
                                    "Routes": "2",
                                    "Collects": "100",
                                    "Faults": "11"
                                }
                            ]
                        },
                        "text/html": [
                            "<table>",
                            "<tr><th>Date</th><th>Hauler</th><th>Routes</th><th>Collects</th><th>Faults</th></tr>",
                            "<tr><td>2022-04-11</td><td>Transportadora_J</td><td>2</td><td>100</td><td>4</td></tr>",
                            "<tr><td>2022-04-12</td><td>Transportadora_J</td><td>1</td><td>26</td><td>2</td></tr>",
                            "<tr><td>2022-04-13</td><td>Transportadora_J</td><td>2</td><td>90</td><td>0</td></tr>",
                            "<tr><td>2022-04-14</td><td>Transportadora_J</td><td>1</td><td>37</td><td>4</td></tr>",
                            "<tr><td>2022-04-15</td><td>Transportadora_J</td><td>2</td><td>110</td><td>4</td></tr>",
                            "<tr><td>2022-04-16</td><td>Transportadora_J</td><td>2</td><td>100</td><td>11</td></tr>",
                            "</table>"
                        ]
                    }
                }
            ],
            "execution_count": 119
        }
    ]
}