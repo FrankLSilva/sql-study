{
    "metadata": {
        "kernelspec": {
            "name": "SQL",
            "display_name": "SQL",
            "language": "sql"
        },
        "language_info": {
            "name": "sql",
            "version": ""
        }
    },
    "nbformat_minor": 2,
    "nbformat": 4,
    "cells": [
        {
            "cell_type": "markdown",
            "source": [
                "# **SQL** | **\"Chinook\"** DATABASE - _EDA_\n",
                "\n",
                "Here i gather several SQL queries using the \"Chinook\" music store database."
            ],
            "metadata": {
                "language": "sql",
                "azdata_cell_guid": "0e1ee764-9c0f-4e23-8148-f680bc90a872"
            },
            "attachments": {}
        },
        {
            "cell_type": "markdown",
            "source": [
                "# **Artists & Albums:**\n",
                "\n",
                "### **1)** <span style=\"color: var(--vscode-foreground);\">List of <b>Artists </b>and their albums in alphabetical order:</span>\n",
                "\n",
                "- <span style=\"color: var(--vscode-foreground);\">Here is start checking the result so i can work with it in the other queries;</span>\n",
                "- Limit to 15 for pourposes of easy observation."
            ],
            "metadata": {
                "language": "sql",
                "azdata_cell_guid": "1d82d72a-368b-47a3-8917-f4b78bc739a3"
            },
            "attachments": {}
        },
        {
            "cell_type": "code",
            "source": [
                "SELECT \r\n",
                "    art.name AS artist_name,\r\n",
                "    alb.title AS album_title \r\n",
                "\r\n",
                "FROM album AS alb\r\n",
                "INNER JOIN artist AS art ON alb.ArtistId = art.ArtistId\r\n",
                "ORDER BY artist_name\r\n",
                "LIMIT 15"
            ],
            "metadata": {
                "azdata_cell_guid": "038151cb-98b6-4560-b833-38779d66ae83",
                "language": "sql",
                "tags": []
            },
            "outputs": [
                {
                    "output_type": "display_data",
                    "data": {
                        "text/html": "(15 row(s) affected)"
                    },
                    "metadata": {}
                },
                {
                    "output_type": "display_data",
                    "data": {
                        "text/html": "Total execution time: 00:00:01.011"
                    },
                    "metadata": {}
                },
                {
                    "output_type": "execute_result",
                    "metadata": {},
                    "execution_count": 61,
                    "data": {
                        "application/vnd.dataresource+json": {
                            "schema": {
                                "fields": [
                                    {
                                        "name": "artist_name"
                                    },
                                    {
                                        "name": "album_title"
                                    }
                                ]
                            },
                            "data": [
                                {
                                    "artist_name": "Aaron Copland & London Symphony Orchestra",
                                    "album_title": "A Copland Celebration, Vol. I"
                                },
                                {
                                    "artist_name": "Aaron Goldberg",
                                    "album_title": "Worlds"
                                },
                                {
                                    "artist_name": "AC/DC",
                                    "album_title": "For Those About To Rock We Salute You"
                                },
                                {
                                    "artist_name": "AC/DC",
                                    "album_title": "Let There Be Rock"
                                },
                                {
                                    "artist_name": "Academy of St. Martin in the Fields & Sir Neville Marriner",
                                    "album_title": "The World of Classical Favourites"
                                },
                                {
                                    "artist_name": "Academy of St. Martin in the Fields Chamber Ensemble & Sir Neville Marriner",
                                    "album_title": "Sir Neville Marriner: A Celebration"
                                },
                                {
                                    "artist_name": "Academy of St. Martin in the Fields, John Birch, Sir Neville Marriner & Sylvia McNair",
                                    "album_title": "Fauré: Requiem, Ravel: Pavane & Others"
                                },
                                {
                                    "artist_name": "Academy of St. Martin in the Fields, Sir Neville Marriner & Thurston Dart",
                                    "album_title": "Bach: Orchestral Suites Nos. 1 - 4"
                                },
                                {
                                    "artist_name": "Accept",
                                    "album_title": "Balls to the Wall"
                                },
                                {
                                    "artist_name": "Accept",
                                    "album_title": "Restless and Wild"
                                },
                                {
                                    "artist_name": "Adrian Leaper & Doreen de Feis",
                                    "album_title": "Górecki: Symphony No. 3"
                                },
                                {
                                    "artist_name": "Aerosmith",
                                    "album_title": "Big Ones"
                                },
                                {
                                    "artist_name": "Aisha Duo",
                                    "album_title": "Quiet Songs"
                                },
                                {
                                    "artist_name": "Alanis Morissette",
                                    "album_title": "Jagged Little Pill"
                                },
                                {
                                    "artist_name": "Alberto Turco & Nova Schola Gregoriana",
                                    "album_title": "Adorate Deum: Gregorian Chant from the Proper of the Mass"
                                }
                            ]
                        },
                        "text/html": [
                            "<table>",
                            "<tr><th>artist_name</th><th>album_title</th></tr>",
                            "<tr><td>Aaron Copland &amp; London Symphony Orchestra</td><td>A Copland Celebration, Vol. I</td></tr>",
                            "<tr><td>Aaron Goldberg</td><td>Worlds</td></tr>",
                            "<tr><td>AC/DC</td><td>For Those About To Rock We Salute You</td></tr>",
                            "<tr><td>AC/DC</td><td>Let There Be Rock</td></tr>",
                            "<tr><td>Academy of St. Martin in the Fields &amp; Sir Neville Marriner</td><td>The World of Classical Favourites</td></tr>",
                            "<tr><td>Academy of St. Martin in the Fields Chamber Ensemble &amp; Sir Neville Marriner</td><td>Sir Neville Marriner: A Celebration</td></tr>",
                            "<tr><td>Academy of St. Martin in the Fields, John Birch, Sir Neville Marriner &amp; Sylvia McNair</td><td>Fauré: Requiem, Ravel: Pavane &amp; Others</td></tr>",
                            "<tr><td>Academy of St. Martin in the Fields, Sir Neville Marriner &amp; Thurston Dart</td><td>Bach: Orchestral Suites Nos. 1 - 4</td></tr>",
                            "<tr><td>Accept</td><td>Balls to the Wall</td></tr>",
                            "<tr><td>Accept</td><td>Restless and Wild</td></tr>",
                            "<tr><td>Adrian Leaper &amp; Doreen de Feis</td><td>Górecki: Symphony No. 3</td></tr>",
                            "<tr><td>Aerosmith</td><td>Big Ones</td></tr>",
                            "<tr><td>Aisha Duo</td><td>Quiet Songs</td></tr>",
                            "<tr><td>Alanis Morissette</td><td>Jagged Little Pill</td></tr>",
                            "<tr><td>Alberto Turco &amp; Nova Schola Gregoriana</td><td>Adorate Deum: Gregorian Chant from the Proper of the Mass</td></tr>",
                            "</table>"
                        ]
                    }
                }
            ],
            "execution_count": 61
        },
        {
            "cell_type": "markdown",
            "source": [
                "### 2\\. TOP 10 artists by number of **albums**\n",
                "\n",
                "- The idea is to check who's the artist with most albuns and use this database as an CTE in the next querie."
            ],
            "metadata": {
                "azdata_cell_guid": "22f1e655-b39d-4689-83ae-351d8c209ea9"
            },
            "attachments": {}
        },
        {
            "cell_type": "code",
            "source": [
                "SELECT \r\n",
                "    art.ArtistId,\r\n",
                "    art.name AS artist_name,\r\n",
                "    COUNT(alb.title) AS albuns\r\n",
                "\r\n",
                "FROM album AS alb\r\n",
                "INNER JOIN artist AS art ON alb.ArtistId = art.ArtistId\r\n",
                "GROUP BY art.ArtistId, artist_name\r\n",
                "ORDER BY albuns DESC\r\n",
                "LIMIT 10"
            ],
            "metadata": {
                "azdata_cell_guid": "1a024721-d935-49fe-b225-8e7232af3887",
                "language": "sql"
            },
            "outputs": [
                {
                    "output_type": "display_data",
                    "data": {
                        "text/html": "(10 row(s) affected)"
                    },
                    "metadata": {}
                },
                {
                    "output_type": "display_data",
                    "data": {
                        "text/html": "Total execution time: 00:00:01.004"
                    },
                    "metadata": {}
                },
                {
                    "output_type": "execute_result",
                    "metadata": {},
                    "execution_count": 62,
                    "data": {
                        "application/vnd.dataresource+json": {
                            "schema": {
                                "fields": [
                                    {
                                        "name": "ArtistId"
                                    },
                                    {
                                        "name": "artist_name"
                                    },
                                    {
                                        "name": "albuns"
                                    }
                                ]
                            },
                            "data": [
                                {
                                    "ArtistId": "90",
                                    "artist_name": "Iron Maiden",
                                    "albuns": "21"
                                },
                                {
                                    "ArtistId": "22",
                                    "artist_name": "Led Zeppelin",
                                    "albuns": "14"
                                },
                                {
                                    "ArtistId": "58",
                                    "artist_name": "Deep Purple",
                                    "albuns": "11"
                                },
                                {
                                    "ArtistId": "50",
                                    "artist_name": "Metallica",
                                    "albuns": "10"
                                },
                                {
                                    "ArtistId": "150",
                                    "artist_name": "U2",
                                    "albuns": "10"
                                },
                                {
                                    "ArtistId": "114",
                                    "artist_name": "Ozzy Osbourne",
                                    "albuns": "6"
                                },
                                {
                                    "ArtistId": "118",
                                    "artist_name": "Pearl Jam",
                                    "albuns": "5"
                                },
                                {
                                    "ArtistId": "84",
                                    "artist_name": "Foo Fighters",
                                    "albuns": "4"
                                },
                                {
                                    "ArtistId": "21",
                                    "artist_name": "Various Artists",
                                    "albuns": "4"
                                },
                                {
                                    "ArtistId": "82",
                                    "artist_name": "Faith No More",
                                    "albuns": "4"
                                }
                            ]
                        },
                        "text/html": [
                            "<table>",
                            "<tr><th>ArtistId</th><th>artist_name</th><th>albuns</th></tr>",
                            "<tr><td>90</td><td>Iron Maiden</td><td>21</td></tr>",
                            "<tr><td>22</td><td>Led Zeppelin</td><td>14</td></tr>",
                            "<tr><td>58</td><td>Deep Purple</td><td>11</td></tr>",
                            "<tr><td>50</td><td>Metallica</td><td>10</td></tr>",
                            "<tr><td>150</td><td>U2</td><td>10</td></tr>",
                            "<tr><td>114</td><td>Ozzy Osbourne</td><td>6</td></tr>",
                            "<tr><td>118</td><td>Pearl Jam</td><td>5</td></tr>",
                            "<tr><td>84</td><td>Foo Fighters</td><td>4</td></tr>",
                            "<tr><td>21</td><td>Various Artists</td><td>4</td></tr>",
                            "<tr><td>82</td><td>Faith No More</td><td>4</td></tr>",
                            "</table>"
                        ]
                    }
                }
            ],
            "execution_count": 62
        },
        {
            "cell_type": "markdown",
            "source": [
                "### 3\\. Check **all** **albuns** relesead from **Metallica**\n",
                "\n",
                "- Using CTE to find all the albums names for the first placed artist."
            ],
            "metadata": {
                "azdata_cell_guid": "88e76db1-ea23-47bf-ade5-6dbdf7b68bc7"
            },
            "attachments": {}
        },
        {
            "cell_type": "code",
            "source": [
                "WITH TopArtists AS (\r\n",
                "    SELECT \r\n",
                "        art.ArtistId,\r\n",
                "        art.name AS artist_name,\r\n",
                "        COUNT(alb.title) AS albuns\r\n",
                "\r\n",
                "    FROM album AS alb\r\n",
                "    JOIN artist AS art ON alb.ArtistId = art.ArtistId\r\n",
                "    GROUP BY art.ArtistId, artist_name\r\n",
                "    ORDER BY albuns DESC\r\n",
                "    LIMIT 1\r\n",
                ")\r\n",
                "\r\n",
                "SELECT \r\n",
                "    AlbumId,\r\n",
                "    Title AS \"Metallica_Albuns\"\r\n",
                "\r\n",
                "FROM album\r\n",
                "WHERE ArtistId = 50;"
            ],
            "metadata": {
                "azdata_cell_guid": "333ea4ad-ceba-4bdc-aaf4-85cf836b9c54",
                "language": "sql"
            },
            "outputs": [
                {
                    "output_type": "display_data",
                    "data": {
                        "text/html": "(10 row(s) affected)"
                    },
                    "metadata": {}
                },
                {
                    "output_type": "display_data",
                    "data": {
                        "text/html": "Total execution time: 00:00:01.014"
                    },
                    "metadata": {}
                },
                {
                    "output_type": "execute_result",
                    "metadata": {},
                    "execution_count": 63,
                    "data": {
                        "application/vnd.dataresource+json": {
                            "schema": {
                                "fields": [
                                    {
                                        "name": "AlbumId"
                                    },
                                    {
                                        "name": "Metallica_Albuns"
                                    }
                                ]
                            },
                            "data": [
                                {
                                    "AlbumId": "35",
                                    "Metallica_Albuns": "Garage Inc. (Disc 1)"
                                },
                                {
                                    "AlbumId": "148",
                                    "Metallica_Albuns": "Black Album"
                                },
                                {
                                    "AlbumId": "149",
                                    "Metallica_Albuns": "Garage Inc. (Disc 2)"
                                },
                                {
                                    "AlbumId": "150",
                                    "Metallica_Albuns": "Kill 'Em All"
                                },
                                {
                                    "AlbumId": "151",
                                    "Metallica_Albuns": "Load"
                                },
                                {
                                    "AlbumId": "152",
                                    "Metallica_Albuns": "Master Of Puppets"
                                },
                                {
                                    "AlbumId": "153",
                                    "Metallica_Albuns": "ReLoad"
                                },
                                {
                                    "AlbumId": "154",
                                    "Metallica_Albuns": "Ride The Lightning"
                                },
                                {
                                    "AlbumId": "155",
                                    "Metallica_Albuns": "St. Anger"
                                },
                                {
                                    "AlbumId": "156",
                                    "Metallica_Albuns": "...And Justice For All"
                                }
                            ]
                        },
                        "text/html": [
                            "<table>",
                            "<tr><th>AlbumId</th><th>Metallica_Albuns</th></tr>",
                            "<tr><td>35</td><td>Garage Inc. (Disc 1)</td></tr>",
                            "<tr><td>148</td><td>Black Album</td></tr>",
                            "<tr><td>149</td><td>Garage Inc. (Disc 2)</td></tr>",
                            "<tr><td>150</td><td>Kill &#39;Em All</td></tr>",
                            "<tr><td>151</td><td>Load</td></tr>",
                            "<tr><td>152</td><td>Master Of Puppets</td></tr>",
                            "<tr><td>153</td><td>ReLoad</td></tr>",
                            "<tr><td>154</td><td>Ride The Lightning</td></tr>",
                            "<tr><td>155</td><td>St. Anger</td></tr>",
                            "<tr><td>156</td><td>...And Justice For All</td></tr>",
                            "</table>"
                        ]
                    }
                }
            ],
            "execution_count": 63
        },
        {
            "cell_type": "markdown",
            "source": [
                "# <span style=\"color: var(--vscode-foreground);\"><b>Customer:</b></span>\n",
                "\n",
                "## <span style=\"font-size: 14px; color: var(--vscode-foreground);\">4. Distribution of customer by country:</span>\n",
                "\n",
                "- <span style=\"font-size: 14px; color: var(--vscode-foreground);\">Customer demographics.</span>"
            ],
            "metadata": {
                "azdata_cell_guid": "c6a4a43f-46c4-430d-b102-8fb96e2a0aaa"
            },
            "attachments": {}
        },
        {
            "cell_type": "code",
            "source": [
                "SELECT\r\n",
                "    Country, COUNT(CustomerId) AS CustomerTotal\r\n",
                "\r\n",
                "FROM customer\r\n",
                "GROUP BY Country\r\n",
                "ORDER BY CustomerTotal DESC\r\n",
                "LIMIT 15"
            ],
            "metadata": {
                "azdata_cell_guid": "f5b69610-d464-4def-accf-34d55cdba190",
                "language": "sql"
            },
            "outputs": [
                {
                    "output_type": "display_data",
                    "data": {
                        "text/html": "(15 row(s) affected)"
                    },
                    "metadata": {}
                },
                {
                    "output_type": "display_data",
                    "data": {
                        "text/html": "Total execution time: 00:00:01.007"
                    },
                    "metadata": {}
                },
                {
                    "output_type": "execute_result",
                    "metadata": {},
                    "execution_count": 64,
                    "data": {
                        "application/vnd.dataresource+json": {
                            "schema": {
                                "fields": [
                                    {
                                        "name": "Country"
                                    },
                                    {
                                        "name": "CustomerTotal"
                                    }
                                ]
                            },
                            "data": [
                                {
                                    "Country": "USA",
                                    "CustomerTotal": "13"
                                },
                                {
                                    "Country": "Canada",
                                    "CustomerTotal": "8"
                                },
                                {
                                    "Country": "Brazil",
                                    "CustomerTotal": "5"
                                },
                                {
                                    "Country": "France",
                                    "CustomerTotal": "5"
                                },
                                {
                                    "Country": "Germany",
                                    "CustomerTotal": "4"
                                },
                                {
                                    "Country": "United Kingdom",
                                    "CustomerTotal": "3"
                                },
                                {
                                    "Country": "Czech Republic",
                                    "CustomerTotal": "2"
                                },
                                {
                                    "Country": "Portugal",
                                    "CustomerTotal": "2"
                                },
                                {
                                    "Country": "India",
                                    "CustomerTotal": "2"
                                },
                                {
                                    "Country": "Norway",
                                    "CustomerTotal": "1"
                                },
                                {
                                    "Country": "Austria",
                                    "CustomerTotal": "1"
                                },
                                {
                                    "Country": "Belgium",
                                    "CustomerTotal": "1"
                                },
                                {
                                    "Country": "Denmark",
                                    "CustomerTotal": "1"
                                },
                                {
                                    "Country": "Finland",
                                    "CustomerTotal": "1"
                                },
                                {
                                    "Country": "Hungary",
                                    "CustomerTotal": "1"
                                }
                            ]
                        },
                        "text/html": [
                            "<table>",
                            "<tr><th>Country</th><th>CustomerTotal</th></tr>",
                            "<tr><td>USA</td><td>13</td></tr>",
                            "<tr><td>Canada</td><td>8</td></tr>",
                            "<tr><td>Brazil</td><td>5</td></tr>",
                            "<tr><td>France</td><td>5</td></tr>",
                            "<tr><td>Germany</td><td>4</td></tr>",
                            "<tr><td>United Kingdom</td><td>3</td></tr>",
                            "<tr><td>Czech Republic</td><td>2</td></tr>",
                            "<tr><td>Portugal</td><td>2</td></tr>",
                            "<tr><td>India</td><td>2</td></tr>",
                            "<tr><td>Norway</td><td>1</td></tr>",
                            "<tr><td>Austria</td><td>1</td></tr>",
                            "<tr><td>Belgium</td><td>1</td></tr>",
                            "<tr><td>Denmark</td><td>1</td></tr>",
                            "<tr><td>Finland</td><td>1</td></tr>",
                            "<tr><td>Hungary</td><td>1</td></tr>",
                            "</table>"
                        ]
                    }
                }
            ],
            "execution_count": 64
        },
        {
            "cell_type": "markdown",
            "source": [
                "## <span style=\"font-size: 14px; color: var(--vscode-foreground);\">5. Distribution of customer by Company:</span>\n",
                "\n",
                "- <span style=\"font-size: 14px; color: var(--vscode-foreground);\">Most customers are not attached to a business sale</span>"
            ],
            "metadata": {
                "language": "sql",
                "azdata_cell_guid": "ff183eea-23b7-4a7b-8620-1978281a7481"
            },
            "attachments": {}
        },
        {
            "cell_type": "code",
            "source": [
                "SELECT\r\n",
                "    COALESCE(Company, \"No company related\") AS Company, \r\n",
                "    COUNT(CustomerId) AS CustomerTotal\r\n",
                "\r\n",
                "FROM customer\r\n",
                "GROUP BY Company\r\n",
                "ORDER BY CustomerTotal DESC\r\n",
                "LIMIT 15"
            ],
            "metadata": {
                "language": "sql",
                "azdata_cell_guid": "56606a48-5d8a-4b78-9b32-332dee7ea1e8"
            },
            "outputs": [
                {
                    "output_type": "display_data",
                    "data": {
                        "text/html": "(11 row(s) affected)"
                    },
                    "metadata": {}
                },
                {
                    "output_type": "display_data",
                    "data": {
                        "text/html": "Total execution time: 00:00:01.006"
                    },
                    "metadata": {}
                },
                {
                    "output_type": "execute_result",
                    "metadata": {},
                    "execution_count": 65,
                    "data": {
                        "application/vnd.dataresource+json": {
                            "schema": {
                                "fields": [
                                    {
                                        "name": "Company"
                                    },
                                    {
                                        "name": "CustomerTotal"
                                    }
                                ]
                            },
                            "data": [
                                {
                                    "Company": "No company related",
                                    "CustomerTotal": "49"
                                },
                                {
                                    "Company": "Embraer - Empresa Brasileira de Aeronáutica S.A.",
                                    "CustomerTotal": "1"
                                },
                                {
                                    "Company": "JetBrains s.r.o.",
                                    "CustomerTotal": "1"
                                },
                                {
                                    "Company": "Woodstock Discos",
                                    "CustomerTotal": "1"
                                },
                                {
                                    "Company": "Banco do Brasil S.A.",
                                    "CustomerTotal": "1"
                                },
                                {
                                    "Company": "Riotur",
                                    "CustomerTotal": "1"
                                },
                                {
                                    "Company": "Telus",
                                    "CustomerTotal": "1"
                                },
                                {
                                    "Company": "Rogers Canada",
                                    "CustomerTotal": "1"
                                },
                                {
                                    "Company": "Google Inc.",
                                    "CustomerTotal": "1"
                                },
                                {
                                    "Company": "Microsoft Corporation",
                                    "CustomerTotal": "1"
                                },
                                {
                                    "Company": "Apple Inc.",
                                    "CustomerTotal": "1"
                                }
                            ]
                        },
                        "text/html": [
                            "<table>",
                            "<tr><th>Company</th><th>CustomerTotal</th></tr>",
                            "<tr><td>No company related</td><td>49</td></tr>",
                            "<tr><td>Embraer - Empresa Brasileira de Aeronáutica S.A.</td><td>1</td></tr>",
                            "<tr><td>JetBrains s.r.o.</td><td>1</td></tr>",
                            "<tr><td>Woodstock Discos</td><td>1</td></tr>",
                            "<tr><td>Banco do Brasil S.A.</td><td>1</td></tr>",
                            "<tr><td>Riotur</td><td>1</td></tr>",
                            "<tr><td>Telus</td><td>1</td></tr>",
                            "<tr><td>Rogers Canada</td><td>1</td></tr>",
                            "<tr><td>Google Inc.</td><td>1</td></tr>",
                            "<tr><td>Microsoft Corporation</td><td>1</td></tr>",
                            "<tr><td>Apple Inc.</td><td>1</td></tr>",
                            "</table>"
                        ]
                    }
                }
            ],
            "execution_count": 65
        },
        {
            "cell_type": "markdown",
            "source": [
                "## <span style=\"font-size: 14px; color: var(--vscode-foreground);\">6. Retrieve contact information of all <b>USA</b> customers:</span>\n",
                "\n",
                "- <span style=\"font-size: 14px; color: var(--vscode-foreground);\">Concatenating the first and last name to a single column;</span>\n",
                "- <span style=\"font-size: 14px; color: var(--vscode-foreground);\">Calesce to remove null values from the company column.</span>"
            ],
            "metadata": {
                "language": "sql",
                "azdata_cell_guid": "ffeb9899-7e5f-48a2-86c1-d45203e7bce5"
            },
            "attachments": {}
        },
        {
            "cell_type": "code",
            "source": [
                "SELECT\r\n",
                "    CONCAT(FirstName, \" \", LastName) AS Customer, \r\n",
                "    Phone,\r\n",
                "    Email,\r\n",
                "    City,\r\n",
                "    COALESCE(Company, \" \") AS Company\r\n",
                "\r\n",
                "FROM customer\r\n",
                "WHERE Country = \"USA\"\r\n",
                "ORDER BY City, Company DESC"
            ],
            "metadata": {
                "language": "sql",
                "azdata_cell_guid": "ded351ad-61a5-4ca4-b35b-3bde85b475a4",
                "tags": []
            },
            "outputs": [
                {
                    "output_type": "display_data",
                    "data": {
                        "text/html": "(13 row(s) affected)"
                    },
                    "metadata": {}
                },
                {
                    "output_type": "display_data",
                    "data": {
                        "text/html": "Total execution time: 00:00:01.011"
                    },
                    "metadata": {}
                },
                {
                    "output_type": "execute_result",
                    "metadata": {},
                    "execution_count": 66,
                    "data": {
                        "application/vnd.dataresource+json": {
                            "schema": {
                                "fields": [
                                    {
                                        "name": "Customer"
                                    },
                                    {
                                        "name": "Phone"
                                    },
                                    {
                                        "name": "Email"
                                    },
                                    {
                                        "name": "City"
                                    },
                                    {
                                        "name": "Company"
                                    }
                                ]
                            },
                            "data": [
                                {
                                    "Customer": "John Gordon",
                                    "Phone": "+1 (617) 522-1333",
                                    "Email": "johngordon22@yahoo.com",
                                    "City": "Boston",
                                    "Company": " "
                                },
                                {
                                    "Customer": "Frank Ralston",
                                    "Phone": "+1 (312) 332-3232",
                                    "Email": "fralston@gmail.com",
                                    "City": "Chicago",
                                    "Company": " "
                                },
                                {
                                    "Customer": "Tim Goyer",
                                    "Phone": "+1 (408) 996-1010",
                                    "Email": "tgoyer@apple.com",
                                    "City": "Cupertino",
                                    "Company": "Apple Inc."
                                },
                                {
                                    "Customer": "Richard Cunningham",
                                    "Phone": "+1 (817) 924-7272",
                                    "Email": "ricunningham@hotmail.com",
                                    "City": "Fort Worth",
                                    "Company": " "
                                },
                                {
                                    "Customer": "Victor Stevens",
                                    "Phone": "+1 (608) 257-0597",
                                    "Email": "vstevens@yahoo.com",
                                    "City": "Madison",
                                    "Company": " "
                                },
                                {
                                    "Customer": "Frank Harris",
                                    "Phone": "+1 (650) 253-0000",
                                    "Email": "fharris@google.com",
                                    "City": "Mountain View",
                                    "Company": "Google Inc."
                                },
                                {
                                    "Customer": "Dan Miller",
                                    "Phone": "+1 (650) 644-3358",
                                    "Email": "dmiller@comcast.com",
                                    "City": "Mountain View",
                                    "Company": " "
                                },
                                {
                                    "Customer": "Michelle Brooks",
                                    "Phone": "+1 (212) 221-3546",
                                    "Email": "michelleb@aol.com",
                                    "City": "New York",
                                    "Company": " "
                                },
                                {
                                    "Customer": "Heather Leacock",
                                    "Phone": "+1 (407) 999-7788",
                                    "Email": "hleacock@gmail.com",
                                    "City": "Orlando",
                                    "Company": " "
                                },
                                {
                                    "Customer": "Jack Smith",
                                    "Phone": "+1 (425) 882-8080",
                                    "Email": "jacksmith@microsoft.com",
                                    "City": "Redmond",
                                    "Company": "Microsoft Corporation"
                                },
                                {
                                    "Customer": "Kathy Chase",
                                    "Phone": "+1 (775) 223-7665",
                                    "Email": "kachase@hotmail.com",
                                    "City": "Reno",
                                    "Company": " "
                                },
                                {
                                    "Customer": "Julia Barnett",
                                    "Phone": "+1 (801) 531-7272",
                                    "Email": "jubarnett@gmail.com",
                                    "City": "Salt Lake City",
                                    "Company": " "
                                },
                                {
                                    "Customer": "Patrick Gray",
                                    "Phone": "+1 (520) 622-4200",
                                    "Email": "patrick.gray@aol.com",
                                    "City": "Tucson",
                                    "Company": " "
                                }
                            ]
                        },
                        "text/html": [
                            "<table>",
                            "<tr><th>Customer</th><th>Phone</th><th>Email</th><th>City</th><th>Company</th></tr>",
                            "<tr><td>John Gordon</td><td>+1 (617) 522-1333</td><td>johngordon22@yahoo.com</td><td>Boston</td><td> </td></tr>",
                            "<tr><td>Frank Ralston</td><td>+1 (312) 332-3232</td><td>fralston@gmail.com</td><td>Chicago</td><td> </td></tr>",
                            "<tr><td>Tim Goyer</td><td>+1 (408) 996-1010</td><td>tgoyer@apple.com</td><td>Cupertino</td><td>Apple Inc.</td></tr>",
                            "<tr><td>Richard Cunningham</td><td>+1 (817) 924-7272</td><td>ricunningham@hotmail.com</td><td>Fort Worth</td><td> </td></tr>",
                            "<tr><td>Victor Stevens</td><td>+1 (608) 257-0597</td><td>vstevens@yahoo.com</td><td>Madison</td><td> </td></tr>",
                            "<tr><td>Frank Harris</td><td>+1 (650) 253-0000</td><td>fharris@google.com</td><td>Mountain View</td><td>Google Inc.</td></tr>",
                            "<tr><td>Dan Miller</td><td>+1 (650) 644-3358</td><td>dmiller@comcast.com</td><td>Mountain View</td><td> </td></tr>",
                            "<tr><td>Michelle Brooks</td><td>+1 (212) 221-3546</td><td>michelleb@aol.com</td><td>New York</td><td> </td></tr>",
                            "<tr><td>Heather Leacock</td><td>+1 (407) 999-7788</td><td>hleacock@gmail.com</td><td>Orlando</td><td> </td></tr>",
                            "<tr><td>Jack Smith</td><td>+1 (425) 882-8080</td><td>jacksmith@microsoft.com</td><td>Redmond</td><td>Microsoft Corporation</td></tr>",
                            "<tr><td>Kathy Chase</td><td>+1 (775) 223-7665</td><td>kachase@hotmail.com</td><td>Reno</td><td> </td></tr>",
                            "<tr><td>Julia Barnett</td><td>+1 (801) 531-7272</td><td>jubarnett@gmail.com</td><td>Salt Lake City</td><td> </td></tr>",
                            "<tr><td>Patrick Gray</td><td>+1 (520) 622-4200</td><td>patrick.gray@aol.com</td><td>Tucson</td><td> </td></tr>",
                            "</table>"
                        ]
                    }
                }
            ],
            "execution_count": 66
        },
        {
            "cell_type": "markdown",
            "source": [
                "## <span style=\"font-size: 14px; color: var(--vscode-foreground);\">7. Retrieve contact information of all <b>BRAZIL&nbsp;</b>customers:</span>"
            ],
            "metadata": {
                "language": "sql",
                "azdata_cell_guid": "015aaf79-6435-4178-8fd1-47f2cca18312"
            },
            "attachments": {}
        },
        {
            "cell_type": "code",
            "source": [
                "SELECT\r\n",
                "    CONCAT(FirstName, \" \", LastName) AS Customer, \r\n",
                "    Phone,\r\n",
                "    Email,\r\n",
                "    City,\r\n",
                "    COALESCE(Company, \" \") AS Company\r\n",
                "    \r\n",
                "FROM customer\r\n",
                "WHERE Country = \"brazil\"\r\n",
                "ORDER BY City, Company DESC"
            ],
            "metadata": {
                "language": "sql",
                "azdata_cell_guid": "9d4fb9a0-7df2-459f-aa32-f4f00e80d8c9"
            },
            "outputs": [
                {
                    "output_type": "display_data",
                    "data": {
                        "text/html": "(5 row(s) affected)"
                    },
                    "metadata": {}
                },
                {
                    "output_type": "display_data",
                    "data": {
                        "text/html": "Total execution time: 00:00:01.004"
                    },
                    "metadata": {}
                },
                {
                    "output_type": "execute_result",
                    "metadata": {},
                    "execution_count": 67,
                    "data": {
                        "application/vnd.dataresource+json": {
                            "schema": {
                                "fields": [
                                    {
                                        "name": "Customer"
                                    },
                                    {
                                        "name": "Phone"
                                    },
                                    {
                                        "name": "Email"
                                    },
                                    {
                                        "name": "City"
                                    },
                                    {
                                        "name": "Company"
                                    }
                                ]
                            },
                            "data": [
                                {
                                    "Customer": "Fernanda Ramos",
                                    "Phone": "+55 (61) 3363-5547",
                                    "Email": "fernadaramos4@uol.com.br",
                                    "City": "Brasília",
                                    "Company": " "
                                },
                                {
                                    "Customer": "Roberto Almeida",
                                    "Phone": "+55 (21) 2271-7000",
                                    "Email": "roberto.almeida@riotur.gov.br",
                                    "City": "Rio de Janeiro",
                                    "Company": "Riotur"
                                },
                                {
                                    "Customer": "Luís Gonçalves",
                                    "Phone": "+55 (12) 3923-5555",
                                    "Email": "luisg@embraer.com.br",
                                    "City": "São José dos Campos",
                                    "Company": "Embraer - Empresa Brasileira de Aeronáutica S.A."
                                },
                                {
                                    "Customer": "Eduardo Martins",
                                    "Phone": "+55 (11) 3033-5446",
                                    "Email": "eduardo@woodstock.com.br",
                                    "City": "São Paulo",
                                    "Company": "Woodstock Discos"
                                },
                                {
                                    "Customer": "Alexandre Rocha",
                                    "Phone": "+55 (11) 3055-3278",
                                    "Email": "alero@uol.com.br",
                                    "City": "São Paulo",
                                    "Company": "Banco do Brasil S.A."
                                }
                            ]
                        },
                        "text/html": [
                            "<table>",
                            "<tr><th>Customer</th><th>Phone</th><th>Email</th><th>City</th><th>Company</th></tr>",
                            "<tr><td>Fernanda Ramos</td><td>+55 (61) 3363-5547</td><td>fernadaramos4@uol.com.br</td><td>Brasília</td><td> </td></tr>",
                            "<tr><td>Roberto Almeida</td><td>+55 (21) 2271-7000</td><td>roberto.almeida@riotur.gov.br</td><td>Rio de Janeiro</td><td>Riotur</td></tr>",
                            "<tr><td>Luís Gonçalves</td><td>+55 (12) 3923-5555</td><td>luisg@embraer.com.br</td><td>São José dos Campos</td><td>Embraer - Empresa Brasileira de Aeronáutica S.A.</td></tr>",
                            "<tr><td>Eduardo Martins</td><td>+55 (11) 3033-5446</td><td>eduardo@woodstock.com.br</td><td>São Paulo</td><td>Woodstock Discos</td></tr>",
                            "<tr><td>Alexandre Rocha</td><td>+55 (11) 3055-3278</td><td>alero@uol.com.br</td><td>São Paulo</td><td>Banco do Brasil S.A.</td></tr>",
                            "</table>"
                        ]
                    }
                }
            ],
            "execution_count": 67
        },
        {
            "cell_type": "markdown",
            "source": [
                "# <span style=\"color: var(--vscode-foreground);\"><b>Employees:</b></span>\n",
                "\n",
                "## <span style=\"font-size: 14px; color: var(--vscode-foreground);\">8. Retreive important information and list all employess filtered by Job title:</span>"
            ],
            "metadata": {
                "language": "sql",
                "azdata_cell_guid": "8f88757f-32f3-4f6c-a4cc-f68b143d275b"
            },
            "attachments": {}
        },
        {
            "cell_type": "code",
            "source": [
                "SELECT\r\n",
                "    Title,\r\n",
                "    CONCAT(FirstName, \" \", LastName) AS Employee_Name,\r\n",
                "    Phone,\r\n",
                "    Email,\r\n",
                "    City,\r\n",
                "    Country\r\n",
                "    \r\n",
                "FROM employee\r\n",
                "ORDER BY Title ASC"
            ],
            "metadata": {
                "language": "sql",
                "azdata_cell_guid": "ec34f506-c327-45fe-b095-e9bb2772fac8"
            },
            "outputs": [
                {
                    "output_type": "display_data",
                    "data": {
                        "text/html": "(8 row(s) affected)"
                    },
                    "metadata": {}
                },
                {
                    "output_type": "display_data",
                    "data": {
                        "text/html": "Total execution time: 00:00:01.010"
                    },
                    "metadata": {}
                },
                {
                    "output_type": "execute_result",
                    "metadata": {},
                    "execution_count": 68,
                    "data": {
                        "application/vnd.dataresource+json": {
                            "schema": {
                                "fields": [
                                    {
                                        "name": "Title"
                                    },
                                    {
                                        "name": "Employee_Name"
                                    },
                                    {
                                        "name": "Phone"
                                    },
                                    {
                                        "name": "Email"
                                    },
                                    {
                                        "name": "City"
                                    },
                                    {
                                        "name": "Country"
                                    }
                                ]
                            },
                            "data": [
                                {
                                    "Title": "General Manager",
                                    "Employee_Name": "Andrew Adams",
                                    "Phone": "+1 (780) 428-9482",
                                    "Email": "andrew@chinookcorp.com",
                                    "City": "Edmonton",
                                    "Country": "Canada"
                                },
                                {
                                    "Title": "IT Manager",
                                    "Employee_Name": "Michael Mitchell",
                                    "Phone": "+1 (403) 246-9887",
                                    "Email": "michael@chinookcorp.com",
                                    "City": "Calgary",
                                    "Country": "Canada"
                                },
                                {
                                    "Title": "IT Staff",
                                    "Employee_Name": "Robert King",
                                    "Phone": "+1 (403) 456-9986",
                                    "Email": "robert@chinookcorp.com",
                                    "City": "Lethbridge",
                                    "Country": "Canada"
                                },
                                {
                                    "Title": "IT Staff",
                                    "Employee_Name": "Laura Callahan",
                                    "Phone": "+1 (403) 467-3351",
                                    "Email": "laura@chinookcorp.com",
                                    "City": "Lethbridge",
                                    "Country": "Canada"
                                },
                                {
                                    "Title": "Sales Manager",
                                    "Employee_Name": "Nancy Edwards",
                                    "Phone": "+1 (403) 262-3443",
                                    "Email": "nancy@chinookcorp.com",
                                    "City": "Calgary",
                                    "Country": "Canada"
                                },
                                {
                                    "Title": "Sales Support Agent",
                                    "Employee_Name": "Jane Peacock",
                                    "Phone": "+1 (403) 262-3443",
                                    "Email": "jane@chinookcorp.com",
                                    "City": "Calgary",
                                    "Country": "Canada"
                                },
                                {
                                    "Title": "Sales Support Agent",
                                    "Employee_Name": "Margaret Park",
                                    "Phone": "+1 (403) 263-4423",
                                    "Email": "margaret@chinookcorp.com",
                                    "City": "Calgary",
                                    "Country": "Canada"
                                },
                                {
                                    "Title": "Sales Support Agent",
                                    "Employee_Name": "Steve Johnson",
                                    "Phone": "1 (780) 836-9987",
                                    "Email": "steve@chinookcorp.com",
                                    "City": "Calgary",
                                    "Country": "Canada"
                                }
                            ]
                        },
                        "text/html": [
                            "<table>",
                            "<tr><th>Title</th><th>Employee_Name</th><th>Phone</th><th>Email</th><th>City</th><th>Country</th></tr>",
                            "<tr><td>General Manager</td><td>Andrew Adams</td><td>+1 (780) 428-9482</td><td>andrew@chinookcorp.com</td><td>Edmonton</td><td>Canada</td></tr>",
                            "<tr><td>IT Manager</td><td>Michael Mitchell</td><td>+1 (403) 246-9887</td><td>michael@chinookcorp.com</td><td>Calgary</td><td>Canada</td></tr>",
                            "<tr><td>IT Staff</td><td>Robert King</td><td>+1 (403) 456-9986</td><td>robert@chinookcorp.com</td><td>Lethbridge</td><td>Canada</td></tr>",
                            "<tr><td>IT Staff</td><td>Laura Callahan</td><td>+1 (403) 467-3351</td><td>laura@chinookcorp.com</td><td>Lethbridge</td><td>Canada</td></tr>",
                            "<tr><td>Sales Manager</td><td>Nancy Edwards</td><td>+1 (403) 262-3443</td><td>nancy@chinookcorp.com</td><td>Calgary</td><td>Canada</td></tr>",
                            "<tr><td>Sales Support Agent</td><td>Jane Peacock</td><td>+1 (403) 262-3443</td><td>jane@chinookcorp.com</td><td>Calgary</td><td>Canada</td></tr>",
                            "<tr><td>Sales Support Agent</td><td>Margaret Park</td><td>+1 (403) 263-4423</td><td>margaret@chinookcorp.com</td><td>Calgary</td><td>Canada</td></tr>",
                            "<tr><td>Sales Support Agent</td><td>Steve Johnson</td><td>1 (780) 836-9987</td><td>steve@chinookcorp.com</td><td>Calgary</td><td>Canada</td></tr>",
                            "</table>"
                        ]
                    }
                }
            ],
            "execution_count": 68
        },
        {
            "cell_type": "markdown",
            "source": [
                "## <span style=\"font-size: 14px; color: var(--vscode-foreground);\">9. Retrieve the amount of Years worked for every employee:</span>\n",
                "\n",
                "- I\\`ve considered (for study pouposes) that this store has closed on 2014, since is the last invoice date."
            ],
            "metadata": {
                "language": "sql",
                "azdata_cell_guid": "ead344c0-44d5-4f5f-8db8-bea7f5e5f18f"
            },
            "attachments": {}
        },
        {
            "cell_type": "code",
            "source": [
                "SELECT\r\n",
                "    EmployeeId AS Id,\r\n",
                "    Title,\r\n",
                "    CONCAT(FirstName, ' ', LastName) AS Employee_Name,\r\n",
                "    DATE(HireDate) AS Hire_Date,\r\n",
                "    DATEDIFF('2014-01-01', HireDate) AS Days_Worked,\r\n",
                "    ROUND(DATEDIFF('2014-01-01', HireDate) / 365) AS Years_Worked\r\n",
                "    \r\n",
                "FROM Employee\r\n",
                "ORDER BY Title ASC;"
            ],
            "metadata": {
                "language": "sql",
                "azdata_cell_guid": "2419291c-e4b7-499a-b9fb-bcbff5f8dad1"
            },
            "outputs": [
                {
                    "output_type": "display_data",
                    "data": {
                        "text/html": "(8 row(s) affected)"
                    },
                    "metadata": {}
                },
                {
                    "output_type": "display_data",
                    "data": {
                        "text/html": "Total execution time: 00:00:01.010"
                    },
                    "metadata": {}
                },
                {
                    "output_type": "execute_result",
                    "metadata": {},
                    "execution_count": 69,
                    "data": {
                        "application/vnd.dataresource+json": {
                            "schema": {
                                "fields": [
                                    {
                                        "name": "Id"
                                    },
                                    {
                                        "name": "Title"
                                    },
                                    {
                                        "name": "Employee_Name"
                                    },
                                    {
                                        "name": "Hire_Date"
                                    },
                                    {
                                        "name": "Days_Worked"
                                    },
                                    {
                                        "name": "Years_Worked"
                                    }
                                ]
                            },
                            "data": [
                                {
                                    "Id": "1",
                                    "Title": "General Manager",
                                    "Employee_Name": "Andrew Adams",
                                    "Hire_Date": "2002-08-14",
                                    "Days_Worked": "4158",
                                    "Years_Worked": "11"
                                },
                                {
                                    "Id": "6",
                                    "Title": "IT Manager",
                                    "Employee_Name": "Michael Mitchell",
                                    "Hire_Date": "2003-10-17",
                                    "Days_Worked": "3729",
                                    "Years_Worked": "10"
                                },
                                {
                                    "Id": "7",
                                    "Title": "IT Staff",
                                    "Employee_Name": "Robert King",
                                    "Hire_Date": "2004-01-02",
                                    "Days_Worked": "3652",
                                    "Years_Worked": "10"
                                },
                                {
                                    "Id": "8",
                                    "Title": "IT Staff",
                                    "Employee_Name": "Laura Callahan",
                                    "Hire_Date": "2004-03-04",
                                    "Days_Worked": "3590",
                                    "Years_Worked": "10"
                                },
                                {
                                    "Id": "2",
                                    "Title": "Sales Manager",
                                    "Employee_Name": "Nancy Edwards",
                                    "Hire_Date": "2002-05-01",
                                    "Days_Worked": "4263",
                                    "Years_Worked": "12"
                                },
                                {
                                    "Id": "3",
                                    "Title": "Sales Support Agent",
                                    "Employee_Name": "Jane Peacock",
                                    "Hire_Date": "2002-04-01",
                                    "Days_Worked": "4293",
                                    "Years_Worked": "12"
                                },
                                {
                                    "Id": "4",
                                    "Title": "Sales Support Agent",
                                    "Employee_Name": "Margaret Park",
                                    "Hire_Date": "2003-05-03",
                                    "Days_Worked": "3896",
                                    "Years_Worked": "11"
                                },
                                {
                                    "Id": "5",
                                    "Title": "Sales Support Agent",
                                    "Employee_Name": "Steve Johnson",
                                    "Hire_Date": "2003-10-17",
                                    "Days_Worked": "3729",
                                    "Years_Worked": "10"
                                }
                            ]
                        },
                        "text/html": [
                            "<table>",
                            "<tr><th>Id</th><th>Title</th><th>Employee_Name</th><th>Hire_Date</th><th>Days_Worked</th><th>Years_Worked</th></tr>",
                            "<tr><td>1</td><td>General Manager</td><td>Andrew Adams</td><td>2002-08-14</td><td>4158</td><td>11</td></tr>",
                            "<tr><td>6</td><td>IT Manager</td><td>Michael Mitchell</td><td>2003-10-17</td><td>3729</td><td>10</td></tr>",
                            "<tr><td>7</td><td>IT Staff</td><td>Robert King</td><td>2004-01-02</td><td>3652</td><td>10</td></tr>",
                            "<tr><td>8</td><td>IT Staff</td><td>Laura Callahan</td><td>2004-03-04</td><td>3590</td><td>10</td></tr>",
                            "<tr><td>2</td><td>Sales Manager</td><td>Nancy Edwards</td><td>2002-05-01</td><td>4263</td><td>12</td></tr>",
                            "<tr><td>3</td><td>Sales Support Agent</td><td>Jane Peacock</td><td>2002-04-01</td><td>4293</td><td>12</td></tr>",
                            "<tr><td>4</td><td>Sales Support Agent</td><td>Margaret Park</td><td>2003-05-03</td><td>3896</td><td>11</td></tr>",
                            "<tr><td>5</td><td>Sales Support Agent</td><td>Steve Johnson</td><td>2003-10-17</td><td>3729</td><td>10</td></tr>",
                            "</table>"
                        ]
                    }
                }
            ],
            "execution_count": 69
        },
        {
            "cell_type": "markdown",
            "source": [
                "# <span style=\"color: var(--vscode-foreground);\"><b>Track &amp; Album TOTAL Sales:</b></span>\n",
                "\n",
                "## <span style=\"color: var(--vscode-foreground); font-size: 14px;\">10. Retrieve all track sales with important information:</span>\n",
                "\n",
                "- <span style=\"color: var(--vscode-foreground); font-size: 14px;\">Can use this as CTE so i retrieve the same information about how much each album has made in sales.</span>"
            ],
            "metadata": {
                "language": "sql",
                "azdata_cell_guid": "38992e65-fd5b-442a-b2fa-0b670a3f344a"
            },
            "attachments": {}
        },
        {
            "cell_type": "code",
            "source": [
                "WITH TrackSales AS (\r\n",
                "    SELECT \r\n",
                "        t.TrackId,\r\n",
                "        t.Name AS TrackName,\r\n",
                "        SUM(il.UnitPrice) AS TotalSales\r\n",
                "\r\n",
                "    FROM Track t\r\n",
                "    JOIN InvoiceLine il ON t.TrackId = il.TrackId\r\n",
                "    GROUP BY t.TrackId, t.Name\r\n",
                "    ORDER BY TotalSales DESC\r\n",
                ")\r\n",
                "\r\n",
                "SELECT *\r\n",
                "FROM TrackSales\r\n",
                "LIMIT 100;"
            ],
            "metadata": {
                "language": "sql",
                "azdata_cell_guid": "5cff8fed-b450-4555-bdcd-a41ced4055e3",
                "tags": []
            },
            "outputs": [
                {
                    "output_type": "display_data",
                    "data": {
                        "text/html": "(100 row(s) affected)"
                    },
                    "metadata": {}
                },
                {
                    "output_type": "display_data",
                    "data": {
                        "text/html": "Total execution time: 00:00:01.024"
                    },
                    "metadata": {}
                },
                {
                    "output_type": "execute_result",
                    "metadata": {},
                    "execution_count": 70,
                    "data": {
                        "application/vnd.dataresource+json": {
                            "schema": {
                                "fields": [
                                    {
                                        "name": "TrackId"
                                    },
                                    {
                                        "name": "TrackName"
                                    },
                                    {
                                        "name": "TotalSales"
                                    }
                                ]
                            },
                            "data": [
                                {
                                    "TrackId": "2832",
                                    "TrackName": "The Woman King",
                                    "TotalSales": "3.98"
                                },
                                {
                                    "TrackId": "2850",
                                    "TrackName": "The Fix",
                                    "TotalSales": "3.98"
                                },
                                {
                                    "TrackId": "2868",
                                    "TrackName": "Walkabout",
                                    "TotalSales": "3.98"
                                },
                                {
                                    "TrackId": "3214",
                                    "TrackName": "Phyllis's Wedding",
                                    "TotalSales": "3.98"
                                },
                                {
                                    "TrackId": "3223",
                                    "TrackName": "How to Stop an Exploding Man",
                                    "TotalSales": "3.98"
                                },
                                {
                                    "TrackId": "3250",
                                    "TrackName": "Pilot",
                                    "TotalSales": "3.98"
                                },
                                {
                                    "TrackId": "3200",
                                    "TrackName": "Gay Witch Hunt",
                                    "TotalSales": "3.98"
                                },
                                {
                                    "TrackId": "3177",
                                    "TrackName": "Hot Girl",
                                    "TotalSales": "3.98"
                                },
                                {
                                    "TrackId": "2820",
                                    "TrackName": "Occupation / Precipice",
                                    "TotalSales": "1.99"
                                },
                                {
                                    "TrackId": "2826",
                                    "TrackName": "Hero",
                                    "TotalSales": "1.99"
                                },
                                {
                                    "TrackId": "2838",
                                    "TrackName": "Crossroads, Pt. 2",
                                    "TotalSales": "1.99"
                                },
                                {
                                    "TrackId": "2844",
                                    "TrackName": "Better Halves",
                                    "TotalSales": "1.99"
                                },
                                {
                                    "TrackId": "2856",
                                    "TrackName": "Parasite",
                                    "TotalSales": "1.99"
                                },
                                {
                                    "TrackId": "2862",
                                    "TrackName": "The Glass Ballerina",
                                    "TotalSales": "1.99"
                                },
                                {
                                    "TrackId": "2874",
                                    "TrackName": "I Do",
                                    "TotalSales": "1.99"
                                },
                                {
                                    "TrackId": "2883",
                                    "TrackName": "Solitary",
                                    "TotalSales": "1.99"
                                },
                                {
                                    "TrackId": "2892",
                                    "TrackName": "Fire + Water",
                                    "TotalSales": "1.99"
                                },
                                {
                                    "TrackId": "2901",
                                    "TrackName": "Homecoming",
                                    "TotalSales": "1.99"
                                },
                                {
                                    "TrackId": "2910",
                                    "TrackName": "Dave",
                                    "TotalSales": "1.99"
                                },
                                {
                                    "TrackId": "2919",
                                    "TrackName": "Born to Run",
                                    "TotalSales": "1.99"
                                },
                                {
                                    "TrackId": "3169",
                                    "TrackName": "The Man Behind the Curtain",
                                    "TotalSales": "1.99"
                                },
                                {
                                    "TrackId": "3178",
                                    "TrackName": "The Dundies",
                                    "TotalSales": "1.99"
                                },
                                {
                                    "TrackId": "3187",
                                    "TrackName": "Christmas Party",
                                    "TotalSales": "1.99"
                                },
                                {
                                    "TrackId": "3196",
                                    "TrackName": "Michael's Birthday",
                                    "TotalSales": "1.99"
                                },
                                {
                                    "TrackId": "3205",
                                    "TrackName": "Diwali",
                                    "TotalSales": "1.99"
                                },
                                {
                                    "TrackId": "3232",
                                    "TrackName": "The Long Patrol",
                                    "TotalSales": "1.99"
                                },
                                {
                                    "TrackId": "3246",
                                    "TrackName": "Baltar's Escape",
                                    "TotalSales": "1.99"
                                },
                                {
                                    "TrackId": "3247",
                                    "TrackName": "Experiment In Terra",
                                    "TotalSales": "1.99"
                                },
                                {
                                    "TrackId": "3248",
                                    "TrackName": "Take the Celestra",
                                    "TotalSales": "1.99"
                                },
                                {
                                    "TrackId": "3252",
                                    "TrackName": "Through the Looking Glass, Pt. 1",
                                    "TotalSales": "1.99"
                                },
                                {
                                    "TrackId": "3338",
                                    "TrackName": "The Beginning of the End",
                                    "TotalSales": "1.99"
                                },
                                {
                                    "TrackId": "3347",
                                    "TrackName": "Meet Kevin Johnson",
                                    "TotalSales": "1.99"
                                },
                                {
                                    "TrackId": "3428",
                                    "TrackName": "Branch Closing",
                                    "TotalSales": "1.99"
                                },
                                {
                                    "TrackId": "2821",
                                    "TrackName": "Exodus, Pt. 1",
                                    "TotalSales": "1.99"
                                },
                                {
                                    "TrackId": "2827",
                                    "TrackName": "Unfinished Business",
                                    "TotalSales": "1.99"
                                },
                                {
                                    "TrackId": "2833",
                                    "TrackName": "A Day In the Life",
                                    "TotalSales": "1.99"
                                },
                                {
                                    "TrackId": "2839",
                                    "TrackName": "Genesis",
                                    "TotalSales": "1.99"
                                },
                                {
                                    "TrackId": "2845",
                                    "TrackName": "Nothing to Hide",
                                    "TotalSales": "1.99"
                                },
                                {
                                    "TrackId": "2851",
                                    "TrackName": "Distractions",
                                    "TotalSales": "1.99"
                                },
                                {
                                    "TrackId": "2860",
                                    "TrackName": "Adrift",
                                    "TotalSales": "1.99"
                                },
                                {
                                    "TrackId": "2869",
                                    "TrackName": "...And Found",
                                    "TotalSales": "1.99"
                                },
                                {
                                    "TrackId": "2878",
                                    "TrackName": "The Other 48 Days",
                                    "TotalSales": "1.99"
                                },
                                {
                                    "TrackId": "2887",
                                    "TrackName": "The 23rd Psalm",
                                    "TotalSales": "1.99"
                                },
                                {
                                    "TrackId": "2896",
                                    "TrackName": "The Long Con",
                                    "TotalSales": "1.99"
                                },
                                {
                                    "TrackId": "2905",
                                    "TrackName": "The Whole Truth",
                                    "TotalSales": "1.99"
                                },
                                {
                                    "TrackId": "2914",
                                    "TrackName": "S.O.S.",
                                    "TotalSales": "1.99"
                                },
                                {
                                    "TrackId": "2923",
                                    "TrackName": "Exodus (Part 2) [Season Finale]",
                                    "TotalSales": "1.99"
                                },
                                {
                                    "TrackId": "3173",
                                    "TrackName": "Diversity Day",
                                    "TotalSales": "1.99"
                                },
                                {
                                    "TrackId": "3182",
                                    "TrackName": "Halloween",
                                    "TotalSales": "1.99"
                                },
                                {
                                    "TrackId": "3191",
                                    "TrackName": "The Carpet",
                                    "TotalSales": "1.99"
                                },
                                {
                                    "TrackId": "3209",
                                    "TrackName": "A Benihana Christmas, Pts. 1 & 2",
                                    "TotalSales": "1.99"
                                },
                                {
                                    "TrackId": "3224",
                                    "TrackName": "Through a Looking Glass",
                                    "TotalSales": "1.99"
                                },
                                {
                                    "TrackId": "3227",
                                    "TrackName": "Battlestar Galactica, Pt. 2",
                                    "TotalSales": "1.99"
                                },
                                {
                                    "TrackId": "3229",
                                    "TrackName": "Lost Planet of the Gods, Pt. 1",
                                    "TotalSales": "1.99"
                                },
                                {
                                    "TrackId": "3231",
                                    "TrackName": "The Lost Warrior",
                                    "TotalSales": "1.99"
                                },
                                {
                                    "TrackId": "3233",
                                    "TrackName": "The Gun On Ice Planet Zero, Pt. 1",
                                    "TotalSales": "1.99"
                                },
                                {
                                    "TrackId": "3235",
                                    "TrackName": "The Magnificent Warriors",
                                    "TotalSales": "1.99"
                                },
                                {
                                    "TrackId": "3237",
                                    "TrackName": "The Living Legend, Pt. 1",
                                    "TotalSales": "1.99"
                                },
                                {
                                    "TrackId": "3241",
                                    "TrackName": "War of the Gods, Pt. 2",
                                    "TotalSales": "1.99"
                                },
                                {
                                    "TrackId": "3245",
                                    "TrackName": "Greetings from Earth, Pt. 2",
                                    "TotalSales": "1.99"
                                },
                                {
                                    "TrackId": "3249",
                                    "TrackName": "The Hand of God",
                                    "TotalSales": "1.99"
                                },
                                {
                                    "TrackId": "3342",
                                    "TrackName": "The Economist",
                                    "TotalSales": "1.99"
                                },
                                {
                                    "TrackId": "3360",
                                    "TrackName": "Something Nice Back Home",
                                    "TotalSales": "1.99"
                                },
                                {
                                    "TrackId": "2822",
                                    "TrackName": "Exodus, Pt. 2",
                                    "TotalSales": "1.99"
                                },
                                {
                                    "TrackId": "2828",
                                    "TrackName": "The Passage",
                                    "TotalSales": "1.99"
                                },
                                {
                                    "TrackId": "2837",
                                    "TrackName": "Crossroads, Pt. 1",
                                    "TotalSales": "1.99"
                                },
                                {
                                    "TrackId": "2846",
                                    "TrackName": "Seven Minutes to Midnight",
                                    "TotalSales": "1.99"
                                },
                                {
                                    "TrackId": "2855",
                                    "TrackName": "Company Man",
                                    "TotalSales": "1.99"
                                },
                                {
                                    "TrackId": "2864",
                                    "TrackName": "Orientation",
                                    "TotalSales": "1.99"
                                },
                                {
                                    "TrackId": "2873",
                                    "TrackName": "House of the Rising Sun",
                                    "TotalSales": "1.99"
                                },
                                {
                                    "TrackId": "2882",
                                    "TrackName": "Lost Survival Guide",
                                    "TotalSales": "1.99"
                                },
                                {
                                    "TrackId": "2891",
                                    "TrackName": "Enter 77",
                                    "TotalSales": "1.99"
                                },
                                {
                                    "TrackId": "2900",
                                    "TrackName": "Exposé",
                                    "TotalSales": "1.99"
                                },
                                {
                                    "TrackId": "2909",
                                    "TrackName": "Catch-22",
                                    "TotalSales": "1.99"
                                },
                                {
                                    "TrackId": "2918",
                                    "TrackName": "\"?\"",
                                    "TotalSales": "1.99"
                                },
                                {
                                    "TrackId": "3168",
                                    "TrackName": "The Hard Part",
                                    "TotalSales": "1.99"
                                },
                                {
                                    "TrackId": "3186",
                                    "TrackName": "Email Surveillance",
                                    "TotalSales": "1.99"
                                },
                                {
                                    "TrackId": "3201",
                                    "TrackName": "The Convention",
                                    "TotalSales": "1.99"
                                },
                                {
                                    "TrackId": "3202",
                                    "TrackName": "The Coup",
                                    "TotalSales": "1.99"
                                },
                                {
                                    "TrackId": "3204",
                                    "TrackName": "The Initiation",
                                    "TotalSales": "1.99"
                                },
                                {
                                    "TrackId": "3206",
                                    "TrackName": "Branch Closing",
                                    "TotalSales": "1.99"
                                },
                                {
                                    "TrackId": "3208",
                                    "TrackName": "The Convict",
                                    "TotalSales": "1.99"
                                },
                                {
                                    "TrackId": "3210",
                                    "TrackName": "Back from Vacation",
                                    "TotalSales": "1.99"
                                },
                                {
                                    "TrackId": "3212",
                                    "TrackName": "Producer's Cut: The Return",
                                    "TotalSales": "1.99"
                                },
                                {
                                    "TrackId": "3218",
                                    "TrackName": "Safety Training",
                                    "TotalSales": "1.99"
                                },
                                {
                                    "TrackId": "3222",
                                    "TrackName": "The Job",
                                    "TotalSales": "1.99"
                                },
                                {
                                    "TrackId": "3226",
                                    "TrackName": "Battlestar Galactica, Pt. 1",
                                    "TotalSales": "1.99"
                                },
                                {
                                    "TrackId": "3230",
                                    "TrackName": "Lost Planet of the Gods, Pt. 2",
                                    "TotalSales": "1.99"
                                },
                                {
                                    "TrackId": "3234",
                                    "TrackName": "The Gun On Ice Planet Zero, Pt. 2",
                                    "TotalSales": "1.99"
                                },
                                {
                                    "TrackId": "3238",
                                    "TrackName": "The Living Legend, Pt. 2",
                                    "TotalSales": "1.99"
                                },
                                {
                                    "TrackId": "3244",
                                    "TrackName": "Greetings from Earth, Pt. 1",
                                    "TotalSales": "1.99"
                                },
                                {
                                    "TrackId": "3337",
                                    "TrackName": "Past, Present, and Future",
                                    "TotalSales": "1.99"
                                },
                                {
                                    "TrackId": "3346",
                                    "TrackName": "Ji Yeon",
                                    "TotalSales": "1.99"
                                },
                                {
                                    "TrackId": "3364",
                                    "TrackName": "There's No Place Like Home, Pt. 3",
                                    "TotalSales": "1.99"
                                },
                                {
                                    "TrackId": "2823",
                                    "TrackName": "Collaborators",
                                    "TotalSales": "1.99"
                                },
                                {
                                    "TrackId": "2841",
                                    "TrackName": "One Giant Leap",
                                    "TotalSales": "1.99"
                                },
                                {
                                    "TrackId": "2859",
                                    "TrackName": "Man of Science, Man of Faith (Premiere)",
                                    "TotalSales": "1.99"
                                },
                                {
                                    "TrackId": "2877",
                                    "TrackName": "The Moth",
                                    "TotalSales": "1.99"
                                },
                                {
                                    "TrackId": "2886",
                                    "TrackName": "Stranger In a Strange Land",
                                    "TotalSales": "1.99"
                                },
                                {
                                    "TrackId": "2895",
                                    "TrackName": "Par Avion",
                                    "TotalSales": "1.99"
                                }
                            ]
                        },
                        "text/html": [
                            "<table>",
                            "<tr><th>TrackId</th><th>TrackName</th><th>TotalSales</th></tr>",
                            "<tr><td>2832</td><td>The Woman King</td><td>3.98</td></tr>",
                            "<tr><td>2850</td><td>The Fix</td><td>3.98</td></tr>",
                            "<tr><td>2868</td><td>Walkabout</td><td>3.98</td></tr>",
                            "<tr><td>3214</td><td>Phyllis&#39;s Wedding</td><td>3.98</td></tr>",
                            "<tr><td>3223</td><td>How to Stop an Exploding Man</td><td>3.98</td></tr>",
                            "<tr><td>3250</td><td>Pilot</td><td>3.98</td></tr>",
                            "<tr><td>3200</td><td>Gay Witch Hunt</td><td>3.98</td></tr>",
                            "<tr><td>3177</td><td>Hot Girl</td><td>3.98</td></tr>",
                            "<tr><td>2820</td><td>Occupation / Precipice</td><td>1.99</td></tr>",
                            "<tr><td>2826</td><td>Hero</td><td>1.99</td></tr>",
                            "<tr><td>2838</td><td>Crossroads, Pt. 2</td><td>1.99</td></tr>",
                            "<tr><td>2844</td><td>Better Halves</td><td>1.99</td></tr>",
                            "<tr><td>2856</td><td>Parasite</td><td>1.99</td></tr>",
                            "<tr><td>2862</td><td>The Glass Ballerina</td><td>1.99</td></tr>",
                            "<tr><td>2874</td><td>I Do</td><td>1.99</td></tr>",
                            "<tr><td>2883</td><td>Solitary</td><td>1.99</td></tr>",
                            "<tr><td>2892</td><td>Fire + Water</td><td>1.99</td></tr>",
                            "<tr><td>2901</td><td>Homecoming</td><td>1.99</td></tr>",
                            "<tr><td>2910</td><td>Dave</td><td>1.99</td></tr>",
                            "<tr><td>2919</td><td>Born to Run</td><td>1.99</td></tr>",
                            "<tr><td>3169</td><td>The Man Behind the Curtain</td><td>1.99</td></tr>",
                            "<tr><td>3178</td><td>The Dundies</td><td>1.99</td></tr>",
                            "<tr><td>3187</td><td>Christmas Party</td><td>1.99</td></tr>",
                            "<tr><td>3196</td><td>Michael&#39;s Birthday</td><td>1.99</td></tr>",
                            "<tr><td>3205</td><td>Diwali</td><td>1.99</td></tr>",
                            "<tr><td>3232</td><td>The Long Patrol</td><td>1.99</td></tr>",
                            "<tr><td>3246</td><td>Baltar&#39;s Escape</td><td>1.99</td></tr>",
                            "<tr><td>3247</td><td>Experiment In Terra</td><td>1.99</td></tr>",
                            "<tr><td>3248</td><td>Take the Celestra</td><td>1.99</td></tr>",
                            "<tr><td>3252</td><td>Through the Looking Glass, Pt. 1</td><td>1.99</td></tr>",
                            "<tr><td>3338</td><td>The Beginning of the End</td><td>1.99</td></tr>",
                            "<tr><td>3347</td><td>Meet Kevin Johnson</td><td>1.99</td></tr>",
                            "<tr><td>3428</td><td>Branch Closing</td><td>1.99</td></tr>",
                            "<tr><td>2821</td><td>Exodus, Pt. 1</td><td>1.99</td></tr>",
                            "<tr><td>2827</td><td>Unfinished Business</td><td>1.99</td></tr>",
                            "<tr><td>2833</td><td>A Day In the Life</td><td>1.99</td></tr>",
                            "<tr><td>2839</td><td>Genesis</td><td>1.99</td></tr>",
                            "<tr><td>2845</td><td>Nothing to Hide</td><td>1.99</td></tr>",
                            "<tr><td>2851</td><td>Distractions</td><td>1.99</td></tr>",
                            "<tr><td>2860</td><td>Adrift</td><td>1.99</td></tr>",
                            "<tr><td>2869</td><td>...And Found</td><td>1.99</td></tr>",
                            "<tr><td>2878</td><td>The Other 48 Days</td><td>1.99</td></tr>",
                            "<tr><td>2887</td><td>The 23rd Psalm</td><td>1.99</td></tr>",
                            "<tr><td>2896</td><td>The Long Con</td><td>1.99</td></tr>",
                            "<tr><td>2905</td><td>The Whole Truth</td><td>1.99</td></tr>",
                            "<tr><td>2914</td><td>S.O.S.</td><td>1.99</td></tr>",
                            "<tr><td>2923</td><td>Exodus (Part 2) [Season Finale]</td><td>1.99</td></tr>",
                            "<tr><td>3173</td><td>Diversity Day</td><td>1.99</td></tr>",
                            "<tr><td>3182</td><td>Halloween</td><td>1.99</td></tr>",
                            "<tr><td>3191</td><td>The Carpet</td><td>1.99</td></tr>",
                            "<tr><td>3209</td><td>A Benihana Christmas, Pts. 1 &amp; 2</td><td>1.99</td></tr>",
                            "<tr><td>3224</td><td>Through a Looking Glass</td><td>1.99</td></tr>",
                            "<tr><td>3227</td><td>Battlestar Galactica, Pt. 2</td><td>1.99</td></tr>",
                            "<tr><td>3229</td><td>Lost Planet of the Gods, Pt. 1</td><td>1.99</td></tr>",
                            "<tr><td>3231</td><td>The Lost Warrior</td><td>1.99</td></tr>",
                            "<tr><td>3233</td><td>The Gun On Ice Planet Zero, Pt. 1</td><td>1.99</td></tr>",
                            "<tr><td>3235</td><td>The Magnificent Warriors</td><td>1.99</td></tr>",
                            "<tr><td>3237</td><td>The Living Legend, Pt. 1</td><td>1.99</td></tr>",
                            "<tr><td>3241</td><td>War of the Gods, Pt. 2</td><td>1.99</td></tr>",
                            "<tr><td>3245</td><td>Greetings from Earth, Pt. 2</td><td>1.99</td></tr>",
                            "<tr><td>3249</td><td>The Hand of God</td><td>1.99</td></tr>",
                            "<tr><td>3342</td><td>The Economist</td><td>1.99</td></tr>",
                            "<tr><td>3360</td><td>Something Nice Back Home</td><td>1.99</td></tr>",
                            "<tr><td>2822</td><td>Exodus, Pt. 2</td><td>1.99</td></tr>",
                            "<tr><td>2828</td><td>The Passage</td><td>1.99</td></tr>",
                            "<tr><td>2837</td><td>Crossroads, Pt. 1</td><td>1.99</td></tr>",
                            "<tr><td>2846</td><td>Seven Minutes to Midnight</td><td>1.99</td></tr>",
                            "<tr><td>2855</td><td>Company Man</td><td>1.99</td></tr>",
                            "<tr><td>2864</td><td>Orientation</td><td>1.99</td></tr>",
                            "<tr><td>2873</td><td>House of the Rising Sun</td><td>1.99</td></tr>",
                            "<tr><td>2882</td><td>Lost Survival Guide</td><td>1.99</td></tr>",
                            "<tr><td>2891</td><td>Enter 77</td><td>1.99</td></tr>",
                            "<tr><td>2900</td><td>Exposé</td><td>1.99</td></tr>",
                            "<tr><td>2909</td><td>Catch-22</td><td>1.99</td></tr>",
                            "<tr><td>2918</td><td>&quot;?&quot;</td><td>1.99</td></tr>",
                            "<tr><td>3168</td><td>The Hard Part</td><td>1.99</td></tr>",
                            "<tr><td>3186</td><td>Email Surveillance</td><td>1.99</td></tr>",
                            "<tr><td>3201</td><td>The Convention</td><td>1.99</td></tr>",
                            "<tr><td>3202</td><td>The Coup</td><td>1.99</td></tr>",
                            "<tr><td>3204</td><td>The Initiation</td><td>1.99</td></tr>",
                            "<tr><td>3206</td><td>Branch Closing</td><td>1.99</td></tr>",
                            "<tr><td>3208</td><td>The Convict</td><td>1.99</td></tr>",
                            "<tr><td>3210</td><td>Back from Vacation</td><td>1.99</td></tr>",
                            "<tr><td>3212</td><td>Producer&#39;s Cut: The Return</td><td>1.99</td></tr>",
                            "<tr><td>3218</td><td>Safety Training</td><td>1.99</td></tr>",
                            "<tr><td>3222</td><td>The Job</td><td>1.99</td></tr>",
                            "<tr><td>3226</td><td>Battlestar Galactica, Pt. 1</td><td>1.99</td></tr>",
                            "<tr><td>3230</td><td>Lost Planet of the Gods, Pt. 2</td><td>1.99</td></tr>",
                            "<tr><td>3234</td><td>The Gun On Ice Planet Zero, Pt. 2</td><td>1.99</td></tr>",
                            "<tr><td>3238</td><td>The Living Legend, Pt. 2</td><td>1.99</td></tr>",
                            "<tr><td>3244</td><td>Greetings from Earth, Pt. 1</td><td>1.99</td></tr>",
                            "<tr><td>3337</td><td>Past, Present, and Future</td><td>1.99</td></tr>",
                            "<tr><td>3346</td><td>Ji Yeon</td><td>1.99</td></tr>",
                            "<tr><td>3364</td><td>There&#39;s No Place Like Home, Pt. 3</td><td>1.99</td></tr>",
                            "<tr><td>2823</td><td>Collaborators</td><td>1.99</td></tr>",
                            "<tr><td>2841</td><td>One Giant Leap</td><td>1.99</td></tr>",
                            "<tr><td>2859</td><td>Man of Science, Man of Faith (Premiere)</td><td>1.99</td></tr>",
                            "<tr><td>2877</td><td>The Moth</td><td>1.99</td></tr>",
                            "<tr><td>2886</td><td>Stranger In a Strange Land</td><td>1.99</td></tr>",
                            "<tr><td>2895</td><td>Par Avion</td><td>1.99</td></tr>",
                            "</table>"
                        ]
                    }
                }
            ],
            "execution_count": 70
        },
        {
            "cell_type": "markdown",
            "source": [
                "## <span style=\"color: var(--vscode-foreground); font-size: 14px;\">11. Retrieve <b>TOP 10 </b>Albuns sold</span>"
            ],
            "metadata": {
                "azdata_cell_guid": "f8524fc1-c976-4c76-b96d-4c4795f6b8ea"
            },
            "attachments": {}
        },
        {
            "cell_type": "code",
            "source": [
                "WITH AlbumSales AS (\r\n",
                "    SELECT \r\n",
                "        a.AlbumId,\r\n",
                "        a.Title AS AlbumTitle,\r\n",
                "        SUM(il.UnitPrice) AS TotalSales\r\n",
                "\r\n",
                "    FROM Album a\r\n",
                "    JOIN Track t ON a.AlbumId = t.AlbumId\r\n",
                "    JOIN InvoiceLine il ON t.TrackId = il.TrackId\r\n",
                "    GROUP BY a.AlbumId, a.Title\r\n",
                "    ORDER BY TotalSales DESC\r\n",
                ")\r\n",
                "\r\n",
                "SELECT \r\n",
                "    AlbumTitle,\r\n",
                "    TotalSales AS Total_Sales\r\n",
                "\r\n",
                "FROM AlbumSales\r\n",
                "LIMIT 10;"
            ],
            "metadata": {
                "language": "sql",
                "azdata_cell_guid": "7a1029c4-c7af-4b83-8c43-e7fb9fe84d31"
            },
            "outputs": [
                {
                    "output_type": "display_data",
                    "data": {
                        "text/html": "(10 row(s) affected)"
                    },
                    "metadata": {}
                },
                {
                    "output_type": "display_data",
                    "data": {
                        "text/html": "Total execution time: 00:00:01.034"
                    },
                    "metadata": {}
                },
                {
                    "output_type": "execute_result",
                    "metadata": {},
                    "execution_count": 71,
                    "data": {
                        "application/vnd.dataresource+json": {
                            "schema": {
                                "fields": [
                                    {
                                        "name": "AlbumTitle"
                                    },
                                    {
                                        "name": "Total_Sales"
                                    }
                                ]
                            },
                            "data": [
                                {
                                    "AlbumTitle": "Battlestar Galactica (Classic), Season 1",
                                    "Total_Sales": "35.82"
                                },
                                {
                                    "AlbumTitle": "The Office, Season 3",
                                    "Total_Sales": "31.84"
                                },
                                {
                                    "AlbumTitle": "Minha Historia",
                                    "Total_Sales": "26.73"
                                },
                                {
                                    "AlbumTitle": "Heroes, Season 1",
                                    "Total_Sales": "25.87"
                                },
                                {
                                    "AlbumTitle": "Lost, Season 2",
                                    "Total_Sales": "25.87"
                                },
                                {
                                    "AlbumTitle": "Greatest Hits",
                                    "Total_Sales": "25.74"
                                },
                                {
                                    "AlbumTitle": "Unplugged",
                                    "Total_Sales": "24.75"
                                },
                                {
                                    "AlbumTitle": "Battlestar Galactica, Season 3",
                                    "Total_Sales": "23.88"
                                },
                                {
                                    "AlbumTitle": "Lost, Season 3",
                                    "Total_Sales": "21.89"
                                },
                                {
                                    "AlbumTitle": "Acústico",
                                    "Total_Sales": "21.78"
                                }
                            ]
                        },
                        "text/html": [
                            "<table>",
                            "<tr><th>AlbumTitle</th><th>Total_Sales</th></tr>",
                            "<tr><td>Battlestar Galactica (Classic), Season 1</td><td>35.82</td></tr>",
                            "<tr><td>The Office, Season 3</td><td>31.84</td></tr>",
                            "<tr><td>Minha Historia</td><td>26.73</td></tr>",
                            "<tr><td>Heroes, Season 1</td><td>25.87</td></tr>",
                            "<tr><td>Lost, Season 2</td><td>25.87</td></tr>",
                            "<tr><td>Greatest Hits</td><td>25.74</td></tr>",
                            "<tr><td>Unplugged</td><td>24.75</td></tr>",
                            "<tr><td>Battlestar Galactica, Season 3</td><td>23.88</td></tr>",
                            "<tr><td>Lost, Season 3</td><td>21.89</td></tr>",
                            "<tr><td>Acústico</td><td>21.78</td></tr>",
                            "</table>"
                        ]
                    }
                }
            ],
            "execution_count": 71
        },
        {
            "cell_type": "markdown",
            "source": [
                "## <span style=\"color: var(--vscode-foreground); font-size: 14px;\">12. Sales by Country:</span>"
            ],
            "metadata": {
                "language": "sql",
                "azdata_cell_guid": "f0552434-8f8d-4e63-91a5-d653ce3bc710"
            },
            "attachments": {}
        },
        {
            "cell_type": "code",
            "source": [
                "SELECT \r\n",
                "    BillingCountry AS Country, \r\n",
                "    SUM(Total) AS TotalSales,\r\n",
                "    COUNT(InvoiceId) AS NumberSales\r\n",
                "    \r\n",
                "FROM Invoice\r\n",
                "GROUP BY BillingCountry\r\n",
                "ORDER BY TotalSales DESC\r\n",
                "LIMIT 15;"
            ],
            "metadata": {
                "language": "sql",
                "azdata_cell_guid": "7df91184-6fe3-462e-a5a3-a5d315de4e64"
            },
            "outputs": [
                {
                    "output_type": "display_data",
                    "data": {
                        "text/html": "(15 row(s) affected)"
                    },
                    "metadata": {}
                },
                {
                    "output_type": "display_data",
                    "data": {
                        "text/html": "Total execution time: 00:00:01.011"
                    },
                    "metadata": {}
                },
                {
                    "output_type": "execute_result",
                    "metadata": {},
                    "execution_count": 72,
                    "data": {
                        "application/vnd.dataresource+json": {
                            "schema": {
                                "fields": [
                                    {
                                        "name": "Country"
                                    },
                                    {
                                        "name": "TotalSales"
                                    },
                                    {
                                        "name": "NumberSales"
                                    }
                                ]
                            },
                            "data": [
                                {
                                    "Country": "USA",
                                    "TotalSales": "523.06",
                                    "NumberSales": "91"
                                },
                                {
                                    "Country": "Canada",
                                    "TotalSales": "303.96",
                                    "NumberSales": "56"
                                },
                                {
                                    "Country": "France",
                                    "TotalSales": "195.10",
                                    "NumberSales": "35"
                                },
                                {
                                    "Country": "Brazil",
                                    "TotalSales": "190.10",
                                    "NumberSales": "35"
                                },
                                {
                                    "Country": "Germany",
                                    "TotalSales": "156.48",
                                    "NumberSales": "28"
                                },
                                {
                                    "Country": "United Kingdom",
                                    "TotalSales": "112.86",
                                    "NumberSales": "21"
                                },
                                {
                                    "Country": "Czech Republic",
                                    "TotalSales": "90.24",
                                    "NumberSales": "14"
                                },
                                {
                                    "Country": "Portugal",
                                    "TotalSales": "77.24",
                                    "NumberSales": "14"
                                },
                                {
                                    "Country": "India",
                                    "TotalSales": "75.26",
                                    "NumberSales": "13"
                                },
                                {
                                    "Country": "Chile",
                                    "TotalSales": "46.62",
                                    "NumberSales": "7"
                                },
                                {
                                    "Country": "Ireland",
                                    "TotalSales": "45.62",
                                    "NumberSales": "7"
                                },
                                {
                                    "Country": "Hungary",
                                    "TotalSales": "45.62",
                                    "NumberSales": "7"
                                },
                                {
                                    "Country": "Austria",
                                    "TotalSales": "42.62",
                                    "NumberSales": "7"
                                },
                                {
                                    "Country": "Finland",
                                    "TotalSales": "41.62",
                                    "NumberSales": "7"
                                },
                                {
                                    "Country": "Netherlands",
                                    "TotalSales": "40.62",
                                    "NumberSales": "7"
                                }
                            ]
                        },
                        "text/html": [
                            "<table>",
                            "<tr><th>Country</th><th>TotalSales</th><th>NumberSales</th></tr>",
                            "<tr><td>USA</td><td>523.06</td><td>91</td></tr>",
                            "<tr><td>Canada</td><td>303.96</td><td>56</td></tr>",
                            "<tr><td>France</td><td>195.10</td><td>35</td></tr>",
                            "<tr><td>Brazil</td><td>190.10</td><td>35</td></tr>",
                            "<tr><td>Germany</td><td>156.48</td><td>28</td></tr>",
                            "<tr><td>United Kingdom</td><td>112.86</td><td>21</td></tr>",
                            "<tr><td>Czech Republic</td><td>90.24</td><td>14</td></tr>",
                            "<tr><td>Portugal</td><td>77.24</td><td>14</td></tr>",
                            "<tr><td>India</td><td>75.26</td><td>13</td></tr>",
                            "<tr><td>Chile</td><td>46.62</td><td>7</td></tr>",
                            "<tr><td>Ireland</td><td>45.62</td><td>7</td></tr>",
                            "<tr><td>Hungary</td><td>45.62</td><td>7</td></tr>",
                            "<tr><td>Austria</td><td>42.62</td><td>7</td></tr>",
                            "<tr><td>Finland</td><td>41.62</td><td>7</td></tr>",
                            "<tr><td>Netherlands</td><td>40.62</td><td>7</td></tr>",
                            "</table>"
                        ]
                    }
                }
            ],
            "execution_count": 72
        },
        {
            "cell_type": "markdown",
            "source": [
                "# <span style=\"color: var(--vscode-foreground);\"><b>Track &amp; Album TEMPORAL Sales:</b></span>\n",
                "\n",
                "## <span style=\"color: var(--vscode-foreground); font-size: 14px;\">13. Creating the dataset needed for a much singular approach:</span>\n",
                "\n",
                "- With another CTE, i was able to create a single table with the most important information to be filtered.\n",
                "- Several sortings is possible like data from an specific artist or period of time;"
            ],
            "metadata": {
                "language": "sql",
                "azdata_cell_guid": "30adf404-7ba4-411b-968a-b4e67c2069a4"
            },
            "attachments": {}
        },
        {
            "cell_type": "code",
            "source": [
                "WITH DailyTrackSales AS (\r\n",
                "    SELECT\r\n",
                "        DATE(iv.InvoiceDate) AS DateSold,\r\n",
                "        t.Name AS TrackName,\r\n",
                "        ab.Title AS AlbumName,\r\n",
                "        art.Name AS ArtistName,\r\n",
                "        il.UnitPrice AS TrackPrice\r\n",
                "\r\n",
                "    FROM track t\r\n",
                "    JOIN invoiceline il ON t.TrackId = il.TrackId\r\n",
                "    JOIN album ab ON t.AlbumId = ab.AlbumID\r\n",
                "    JOIN artist art ON ab.ArtistId = art.ArtistID\r\n",
                "    JOIN invoice iv ON il.InvoiceId = iv.InvoiceId\r\n",
                "    ORDER BY DateSold ASC\r\n",
                ")\r\n",
                "\r\n",
                "SELECT *\r\n",
                "FROM DailyTrackSales\r\n",
                "LIMIT 50"
            ],
            "metadata": {
                "language": "sql",
                "azdata_cell_guid": "8cfb3bcf-b858-47ce-b3d9-597c32af8779",
                "tags": []
            },
            "outputs": [
                {
                    "output_type": "display_data",
                    "data": {
                        "text/html": "(50 row(s) affected)"
                    },
                    "metadata": {}
                },
                {
                    "output_type": "display_data",
                    "data": {
                        "text/html": "Total execution time: 00:00:01.006"
                    },
                    "metadata": {}
                },
                {
                    "output_type": "execute_result",
                    "metadata": {},
                    "execution_count": 73,
                    "data": {
                        "application/vnd.dataresource+json": {
                            "schema": {
                                "fields": [
                                    {
                                        "name": "DateSold"
                                    },
                                    {
                                        "name": "TrackName"
                                    },
                                    {
                                        "name": "AlbumName"
                                    },
                                    {
                                        "name": "ArtistName"
                                    },
                                    {
                                        "name": "TrackPrice"
                                    }
                                ]
                            },
                            "data": [
                                {
                                    "DateSold": "2009-01-01",
                                    "TrackName": "Balls to the Wall",
                                    "AlbumName": "Balls to the Wall",
                                    "ArtistName": "Accept",
                                    "TrackPrice": "0.99"
                                },
                                {
                                    "DateSold": "2009-01-01",
                                    "TrackName": "Restless and Wild",
                                    "AlbumName": "Restless and Wild",
                                    "ArtistName": "Accept",
                                    "TrackPrice": "0.99"
                                },
                                {
                                    "DateSold": "2009-01-02",
                                    "TrackName": "Put The Finger On You",
                                    "AlbumName": "For Those About To Rock We Salute You",
                                    "ArtistName": "AC/DC",
                                    "TrackPrice": "0.99"
                                },
                                {
                                    "DateSold": "2009-01-02",
                                    "TrackName": "Inject The Venom",
                                    "AlbumName": "For Those About To Rock We Salute You",
                                    "ArtistName": "AC/DC",
                                    "TrackPrice": "0.99"
                                },
                                {
                                    "DateSold": "2009-01-02",
                                    "TrackName": "Evil Walks",
                                    "AlbumName": "For Those About To Rock We Salute You",
                                    "ArtistName": "AC/DC",
                                    "TrackPrice": "0.99"
                                },
                                {
                                    "DateSold": "2009-01-02",
                                    "TrackName": "Breaking The Rules",
                                    "AlbumName": "For Those About To Rock We Salute You",
                                    "ArtistName": "AC/DC",
                                    "TrackPrice": "0.99"
                                },
                                {
                                    "DateSold": "2009-01-03",
                                    "TrackName": "Dog Eat Dog",
                                    "AlbumName": "Let There Be Rock",
                                    "ArtistName": "AC/DC",
                                    "TrackPrice": "0.99"
                                },
                                {
                                    "DateSold": "2009-01-03",
                                    "TrackName": "Overdose",
                                    "AlbumName": "Let There Be Rock",
                                    "ArtistName": "AC/DC",
                                    "TrackPrice": "0.99"
                                },
                                {
                                    "DateSold": "2009-01-03",
                                    "TrackName": "Love In An Elevator",
                                    "AlbumName": "Big Ones",
                                    "ArtistName": "Aerosmith",
                                    "TrackPrice": "0.99"
                                },
                                {
                                    "DateSold": "2009-01-03",
                                    "TrackName": "Janie's Got A Gun",
                                    "AlbumName": "Big Ones",
                                    "ArtistName": "Aerosmith",
                                    "TrackPrice": "0.99"
                                },
                                {
                                    "DateSold": "2009-01-03",
                                    "TrackName": "Deuces Are Wild",
                                    "AlbumName": "Big Ones",
                                    "ArtistName": "Aerosmith",
                                    "TrackPrice": "0.99"
                                },
                                {
                                    "DateSold": "2009-01-03",
                                    "TrackName": "Angel",
                                    "AlbumName": "Big Ones",
                                    "ArtistName": "Aerosmith",
                                    "TrackPrice": "0.99"
                                },
                                {
                                    "DateSold": "2009-01-06",
                                    "TrackName": "Right Through You",
                                    "AlbumName": "Jagged Little Pill",
                                    "ArtistName": "Alanis Morissette",
                                    "TrackPrice": "0.99"
                                },
                                {
                                    "DateSold": "2009-01-06",
                                    "TrackName": "Not The Doctor",
                                    "AlbumName": "Jagged Little Pill",
                                    "ArtistName": "Alanis Morissette",
                                    "TrackPrice": "0.99"
                                },
                                {
                                    "DateSold": "2009-01-06",
                                    "TrackName": "Bleed The Freak",
                                    "AlbumName": "Facelift",
                                    "ArtistName": "Alice In Chains",
                                    "TrackPrice": "0.99"
                                },
                                {
                                    "DateSold": "2009-01-06",
                                    "TrackName": "Confusion",
                                    "AlbumName": "Facelift",
                                    "ArtistName": "Alice In Chains",
                                    "TrackPrice": "0.99"
                                },
                                {
                                    "DateSold": "2009-01-06",
                                    "TrackName": "Por Causa De Você",
                                    "AlbumName": "Warner 25 Anos",
                                    "ArtistName": "Antônio Carlos Jobim",
                                    "TrackPrice": "0.99"
                                },
                                {
                                    "DateSold": "2009-01-06",
                                    "TrackName": "Angela",
                                    "AlbumName": "Warner 25 Anos",
                                    "ArtistName": "Antônio Carlos Jobim",
                                    "TrackPrice": "0.99"
                                },
                                {
                                    "DateSold": "2009-01-06",
                                    "TrackName": "Master Of Puppets",
                                    "AlbumName": "Plays Metallica By Four Cellos",
                                    "ArtistName": "Apocalyptica",
                                    "TrackPrice": "0.99"
                                },
                                {
                                    "DateSold": "2009-01-06",
                                    "TrackName": "Welcome Home (Sanitarium)",
                                    "AlbumName": "Plays Metallica By Four Cellos",
                                    "ArtistName": "Apocalyptica",
                                    "TrackPrice": "0.99"
                                },
                                {
                                    "DateSold": "2009-01-06",
                                    "TrackName": "Set It Off",
                                    "AlbumName": "Audioslave",
                                    "ArtistName": "Audioslave",
                                    "TrackPrice": "0.99"
                                },
                                {
                                    "DateSold": "2009-01-11",
                                    "TrackName": "Your Time Has Come",
                                    "AlbumName": "Out Of Exile",
                                    "ArtistName": "Audioslave",
                                    "TrackPrice": "0.99"
                                },
                                {
                                    "DateSold": "2009-01-11",
                                    "TrackName": "Dandelion",
                                    "AlbumName": "Out Of Exile",
                                    "ArtistName": "Audioslave",
                                    "TrackPrice": "0.99"
                                },
                                {
                                    "DateSold": "2009-01-11",
                                    "TrackName": "Rock 'N' Roll Music",
                                    "AlbumName": "BackBeat Soundtrack",
                                    "ArtistName": "BackBeat",
                                    "TrackPrice": "0.99"
                                },
                                {
                                    "DateSold": "2009-01-11",
                                    "TrackName": "Moon germs",
                                    "AlbumName": "The Best Of Billy Cobham",
                                    "ArtistName": "Billy Cobham",
                                    "TrackPrice": "0.99"
                                },
                                {
                                    "DateSold": "2009-01-11",
                                    "TrackName": "Super Terrorizer",
                                    "AlbumName": "Alcohol Fueled Brewtality Live! [Disc 1]",
                                    "ArtistName": "Black Label Society",
                                    "TrackPrice": "0.99"
                                },
                                {
                                    "DateSold": "2009-01-11",
                                    "TrackName": "Heart Of Gold",
                                    "AlbumName": "Alcohol Fueled Brewtality Live! [Disc 2]",
                                    "ArtistName": "Black Label Society",
                                    "TrackPrice": "0.99"
                                },
                                {
                                    "DateSold": "2009-01-11",
                                    "TrackName": "Evil Woman",
                                    "AlbumName": "Black Sabbath",
                                    "ArtistName": "Black Sabbath",
                                    "TrackPrice": "0.99"
                                },
                                {
                                    "DateSold": "2009-01-11",
                                    "TrackName": "Cornucopia",
                                    "AlbumName": "Black Sabbath Vol. 4 (Remaster)",
                                    "ArtistName": "Black Sabbath",
                                    "TrackPrice": "0.99"
                                },
                                {
                                    "DateSold": "2009-01-11",
                                    "TrackName": "Bowels Of The Devil",
                                    "AlbumName": "Body Count",
                                    "ArtistName": "Body Count",
                                    "TrackPrice": "0.99"
                                },
                                {
                                    "DateSold": "2009-01-11",
                                    "TrackName": "Body Count Anthem",
                                    "AlbumName": "Body Count",
                                    "ArtistName": "Body Count",
                                    "TrackPrice": "0.99"
                                },
                                {
                                    "DateSold": "2009-01-11",
                                    "TrackName": "Jerusalem",
                                    "AlbumName": "Chemical Wedding",
                                    "ArtistName": "Bruce Dickinson",
                                    "TrackPrice": "0.99"
                                },
                                {
                                    "DateSold": "2009-01-11",
                                    "TrackName": "When My Left Eye Jumps",
                                    "AlbumName": "The Best Of Buddy Guy - The Millenium Collection",
                                    "ArtistName": "Buddy Guy",
                                    "TrackPrice": "0.99"
                                },
                                {
                                    "DateSold": "2009-01-11",
                                    "TrackName": "Meditação",
                                    "AlbumName": "Prenda Minha",
                                    "ArtistName": "Caetano Veloso",
                                    "TrackPrice": "0.99"
                                },
                                {
                                    "DateSold": "2009-01-11",
                                    "TrackName": "Esse Cara",
                                    "AlbumName": "Prenda Minha",
                                    "ArtistName": "Caetano Veloso",
                                    "TrackPrice": "0.99"
                                },
                                {
                                    "DateSold": "2009-01-19",
                                    "TrackName": "Bye, Bye Brasil",
                                    "AlbumName": "Minha Historia",
                                    "ArtistName": "Chico Buarque",
                                    "TrackPrice": "0.99"
                                },
                                {
                                    "DateSold": "2009-02-01",
                                    "TrackName": "Atras Da Porta",
                                    "AlbumName": "Minha Historia",
                                    "ArtistName": "Chico Buarque",
                                    "TrackPrice": "0.99"
                                },
                                {
                                    "DateSold": "2009-02-01",
                                    "TrackName": "Tatuagem",
                                    "AlbumName": "Minha Historia",
                                    "ArtistName": "Chico Buarque",
                                    "TrackPrice": "0.99"
                                },
                                {
                                    "DateSold": "2009-02-01",
                                    "TrackName": "Morena De Angola",
                                    "AlbumName": "Minha Historia",
                                    "ArtistName": "Chico Buarque",
                                    "TrackPrice": "0.99"
                                },
                                {
                                    "DateSold": "2009-02-01",
                                    "TrackName": "A Banda",
                                    "AlbumName": "Minha Historia",
                                    "ArtistName": "Chico Buarque",
                                    "TrackPrice": "0.99"
                                },
                                {
                                    "DateSold": "2009-02-02",
                                    "TrackName": "Com Açúcar E Com Afeto",
                                    "AlbumName": "Minha Historia",
                                    "ArtistName": "Chico Buarque",
                                    "TrackPrice": "0.99"
                                },
                                {
                                    "DateSold": "2009-02-02",
                                    "TrackName": "Meu Caro Amigo",
                                    "AlbumName": "Minha Historia",
                                    "ArtistName": "Chico Buarque",
                                    "TrackPrice": "0.99"
                                },
                                {
                                    "DateSold": "2009-02-02",
                                    "TrackName": "Trocando Em Miúdos",
                                    "AlbumName": "Minha Historia",
                                    "ArtistName": "Chico Buarque",
                                    "TrackPrice": "0.99"
                                },
                                {
                                    "DateSold": "2009-02-02",
                                    "TrackName": "Gota D'água",
                                    "AlbumName": "Minha Historia",
                                    "ArtistName": "Chico Buarque",
                                    "TrackPrice": "0.99"
                                },
                                {
                                    "DateSold": "2009-02-03",
                                    "TrackName": "Etnia",
                                    "AlbumName": "Afrociberdelia",
                                    "ArtistName": "Chico Science & Nação Zumbi",
                                    "TrackPrice": "0.99"
                                },
                                {
                                    "DateSold": "2009-02-03",
                                    "TrackName": "Samba Do Lado",
                                    "AlbumName": "Afrociberdelia",
                                    "ArtistName": "Chico Science & Nação Zumbi",
                                    "TrackPrice": "0.99"
                                },
                                {
                                    "DateSold": "2009-02-03",
                                    "TrackName": "Sobremesa",
                                    "AlbumName": "Afrociberdelia",
                                    "ArtistName": "Chico Science & Nação Zumbi",
                                    "TrackPrice": "0.99"
                                },
                                {
                                    "DateSold": "2009-02-03",
                                    "TrackName": "Sangue De Bairro",
                                    "AlbumName": "Afrociberdelia",
                                    "ArtistName": "Chico Science & Nação Zumbi",
                                    "TrackPrice": "0.99"
                                },
                                {
                                    "DateSold": "2009-02-03",
                                    "TrackName": "Amor De Muito",
                                    "AlbumName": "Afrociberdelia",
                                    "ArtistName": "Chico Science & Nação Zumbi",
                                    "TrackPrice": "0.99"
                                },
                                {
                                    "DateSold": "2009-02-03",
                                    "TrackName": "Maracatu Atômico [Trip Hop]",
                                    "AlbumName": "Afrociberdelia",
                                    "ArtistName": "Chico Science & Nação Zumbi",
                                    "TrackPrice": "0.99"
                                }
                            ]
                        },
                        "text/html": [
                            "<table>",
                            "<tr><th>DateSold</th><th>TrackName</th><th>AlbumName</th><th>ArtistName</th><th>TrackPrice</th></tr>",
                            "<tr><td>2009-01-01</td><td>Balls to the Wall</td><td>Balls to the Wall</td><td>Accept</td><td>0.99</td></tr>",
                            "<tr><td>2009-01-01</td><td>Restless and Wild</td><td>Restless and Wild</td><td>Accept</td><td>0.99</td></tr>",
                            "<tr><td>2009-01-02</td><td>Put The Finger On You</td><td>For Those About To Rock We Salute You</td><td>AC/DC</td><td>0.99</td></tr>",
                            "<tr><td>2009-01-02</td><td>Inject The Venom</td><td>For Those About To Rock We Salute You</td><td>AC/DC</td><td>0.99</td></tr>",
                            "<tr><td>2009-01-02</td><td>Evil Walks</td><td>For Those About To Rock We Salute You</td><td>AC/DC</td><td>0.99</td></tr>",
                            "<tr><td>2009-01-02</td><td>Breaking The Rules</td><td>For Those About To Rock We Salute You</td><td>AC/DC</td><td>0.99</td></tr>",
                            "<tr><td>2009-01-03</td><td>Dog Eat Dog</td><td>Let There Be Rock</td><td>AC/DC</td><td>0.99</td></tr>",
                            "<tr><td>2009-01-03</td><td>Overdose</td><td>Let There Be Rock</td><td>AC/DC</td><td>0.99</td></tr>",
                            "<tr><td>2009-01-03</td><td>Love In An Elevator</td><td>Big Ones</td><td>Aerosmith</td><td>0.99</td></tr>",
                            "<tr><td>2009-01-03</td><td>Janie&#39;s Got A Gun</td><td>Big Ones</td><td>Aerosmith</td><td>0.99</td></tr>",
                            "<tr><td>2009-01-03</td><td>Deuces Are Wild</td><td>Big Ones</td><td>Aerosmith</td><td>0.99</td></tr>",
                            "<tr><td>2009-01-03</td><td>Angel</td><td>Big Ones</td><td>Aerosmith</td><td>0.99</td></tr>",
                            "<tr><td>2009-01-06</td><td>Right Through You</td><td>Jagged Little Pill</td><td>Alanis Morissette</td><td>0.99</td></tr>",
                            "<tr><td>2009-01-06</td><td>Not The Doctor</td><td>Jagged Little Pill</td><td>Alanis Morissette</td><td>0.99</td></tr>",
                            "<tr><td>2009-01-06</td><td>Bleed The Freak</td><td>Facelift</td><td>Alice In Chains</td><td>0.99</td></tr>",
                            "<tr><td>2009-01-06</td><td>Confusion</td><td>Facelift</td><td>Alice In Chains</td><td>0.99</td></tr>",
                            "<tr><td>2009-01-06</td><td>Por Causa De Você</td><td>Warner 25 Anos</td><td>Antônio Carlos Jobim</td><td>0.99</td></tr>",
                            "<tr><td>2009-01-06</td><td>Angela</td><td>Warner 25 Anos</td><td>Antônio Carlos Jobim</td><td>0.99</td></tr>",
                            "<tr><td>2009-01-06</td><td>Master Of Puppets</td><td>Plays Metallica By Four Cellos</td><td>Apocalyptica</td><td>0.99</td></tr>",
                            "<tr><td>2009-01-06</td><td>Welcome Home (Sanitarium)</td><td>Plays Metallica By Four Cellos</td><td>Apocalyptica</td><td>0.99</td></tr>",
                            "<tr><td>2009-01-06</td><td>Set It Off</td><td>Audioslave</td><td>Audioslave</td><td>0.99</td></tr>",
                            "<tr><td>2009-01-11</td><td>Your Time Has Come</td><td>Out Of Exile</td><td>Audioslave</td><td>0.99</td></tr>",
                            "<tr><td>2009-01-11</td><td>Dandelion</td><td>Out Of Exile</td><td>Audioslave</td><td>0.99</td></tr>",
                            "<tr><td>2009-01-11</td><td>Rock &#39;N&#39; Roll Music</td><td>BackBeat Soundtrack</td><td>BackBeat</td><td>0.99</td></tr>",
                            "<tr><td>2009-01-11</td><td>Moon germs</td><td>The Best Of Billy Cobham</td><td>Billy Cobham</td><td>0.99</td></tr>",
                            "<tr><td>2009-01-11</td><td>Super Terrorizer</td><td>Alcohol Fueled Brewtality Live! [Disc 1]</td><td>Black Label Society</td><td>0.99</td></tr>",
                            "<tr><td>2009-01-11</td><td>Heart Of Gold</td><td>Alcohol Fueled Brewtality Live! [Disc 2]</td><td>Black Label Society</td><td>0.99</td></tr>",
                            "<tr><td>2009-01-11</td><td>Evil Woman</td><td>Black Sabbath</td><td>Black Sabbath</td><td>0.99</td></tr>",
                            "<tr><td>2009-01-11</td><td>Cornucopia</td><td>Black Sabbath Vol. 4 (Remaster)</td><td>Black Sabbath</td><td>0.99</td></tr>",
                            "<tr><td>2009-01-11</td><td>Bowels Of The Devil</td><td>Body Count</td><td>Body Count</td><td>0.99</td></tr>",
                            "<tr><td>2009-01-11</td><td>Body Count Anthem</td><td>Body Count</td><td>Body Count</td><td>0.99</td></tr>",
                            "<tr><td>2009-01-11</td><td>Jerusalem</td><td>Chemical Wedding</td><td>Bruce Dickinson</td><td>0.99</td></tr>",
                            "<tr><td>2009-01-11</td><td>When My Left Eye Jumps</td><td>The Best Of Buddy Guy - The Millenium Collection</td><td>Buddy Guy</td><td>0.99</td></tr>",
                            "<tr><td>2009-01-11</td><td>Meditação</td><td>Prenda Minha</td><td>Caetano Veloso</td><td>0.99</td></tr>",
                            "<tr><td>2009-01-11</td><td>Esse Cara</td><td>Prenda Minha</td><td>Caetano Veloso</td><td>0.99</td></tr>",
                            "<tr><td>2009-01-19</td><td>Bye, Bye Brasil</td><td>Minha Historia</td><td>Chico Buarque</td><td>0.99</td></tr>",
                            "<tr><td>2009-02-01</td><td>Atras Da Porta</td><td>Minha Historia</td><td>Chico Buarque</td><td>0.99</td></tr>",
                            "<tr><td>2009-02-01</td><td>Tatuagem</td><td>Minha Historia</td><td>Chico Buarque</td><td>0.99</td></tr>",
                            "<tr><td>2009-02-01</td><td>Morena De Angola</td><td>Minha Historia</td><td>Chico Buarque</td><td>0.99</td></tr>",
                            "<tr><td>2009-02-01</td><td>A Banda</td><td>Minha Historia</td><td>Chico Buarque</td><td>0.99</td></tr>",
                            "<tr><td>2009-02-02</td><td>Com Açúcar E Com Afeto</td><td>Minha Historia</td><td>Chico Buarque</td><td>0.99</td></tr>",
                            "<tr><td>2009-02-02</td><td>Meu Caro Amigo</td><td>Minha Historia</td><td>Chico Buarque</td><td>0.99</td></tr>",
                            "<tr><td>2009-02-02</td><td>Trocando Em Miúdos</td><td>Minha Historia</td><td>Chico Buarque</td><td>0.99</td></tr>",
                            "<tr><td>2009-02-02</td><td>Gota D&#39;água</td><td>Minha Historia</td><td>Chico Buarque</td><td>0.99</td></tr>",
                            "<tr><td>2009-02-03</td><td>Etnia</td><td>Afrociberdelia</td><td>Chico Science &amp; Nação Zumbi</td><td>0.99</td></tr>",
                            "<tr><td>2009-02-03</td><td>Samba Do Lado</td><td>Afrociberdelia</td><td>Chico Science &amp; Nação Zumbi</td><td>0.99</td></tr>",
                            "<tr><td>2009-02-03</td><td>Sobremesa</td><td>Afrociberdelia</td><td>Chico Science &amp; Nação Zumbi</td><td>0.99</td></tr>",
                            "<tr><td>2009-02-03</td><td>Sangue De Bairro</td><td>Afrociberdelia</td><td>Chico Science &amp; Nação Zumbi</td><td>0.99</td></tr>",
                            "<tr><td>2009-02-03</td><td>Amor De Muito</td><td>Afrociberdelia</td><td>Chico Science &amp; Nação Zumbi</td><td>0.99</td></tr>",
                            "<tr><td>2009-02-03</td><td>Maracatu Atômico [Trip Hop]</td><td>Afrociberdelia</td><td>Chico Science &amp; Nação Zumbi</td><td>0.99</td></tr>",
                            "</table>"
                        ]
                    }
                }
            ],
            "execution_count": 73
        },
        {
            "cell_type": "markdown",
            "source": [
                "## <span style=\"color: var(--vscode-foreground); font-size: 14px;\">14. Top 20 artists sold:</span>"
            ],
            "metadata": {
                "language": "sql",
                "azdata_cell_guid": "a1fb1a66-f817-47e2-b411-76b410846527"
            },
            "attachments": {}
        },
        {
            "cell_type": "code",
            "source": [
                "WITH DailyTrackSales AS (\r\n",
                "    SELECT\r\n",
                "        DATE(iv.InvoiceDate) AS DateSold,\r\n",
                "        t.Name AS TrackName,\r\n",
                "        ab.Title AS AlbumName,\r\n",
                "        art.Name AS ArtistName,\r\n",
                "        il.UnitPrice AS TrackPrice\r\n",
                "\r\n",
                "    FROM track t\r\n",
                "    JOIN invoiceline il ON t.TrackId = il.TrackId\r\n",
                "    JOIN album ab ON t.AlbumId = ab.AlbumID\r\n",
                "    JOIN artist art ON ab.ArtistId = art.ArtistID\r\n",
                "    JOIN invoice iv ON il.InvoiceId = iv.InvoiceId\r\n",
                "    ORDER BY DateSold ASC\r\n",
                ")\r\n",
                "\r\n",
                "SELECT \r\n",
                "    ArtistName,\r\n",
                "    SUM(TrackPrice) AS TotalSales\r\n",
                "\r\n",
                "FROM DailyTrackSales\r\n",
                "GROUP BY ArtistName\r\n",
                "ORDER BY TotalSales DESC\r\n",
                "LIMIT 15"
            ],
            "metadata": {
                "language": "sql",
                "azdata_cell_guid": "51c6bcd6-d712-4817-91c1-81f6b8f6013d"
            },
            "outputs": [
                {
                    "output_type": "display_data",
                    "data": {
                        "text/html": "(15 row(s) affected)"
                    },
                    "metadata": {}
                },
                {
                    "output_type": "display_data",
                    "data": {
                        "text/html": "Total execution time: 00:00:01.042"
                    },
                    "metadata": {}
                },
                {
                    "output_type": "execute_result",
                    "metadata": {},
                    "execution_count": 74,
                    "data": {
                        "application/vnd.dataresource+json": {
                            "schema": {
                                "fields": [
                                    {
                                        "name": "ArtistName"
                                    },
                                    {
                                        "name": "TotalSales"
                                    }
                                ]
                            },
                            "data": [
                                {
                                    "ArtistName": "Iron Maiden",
                                    "TotalSales": "138.60"
                                },
                                {
                                    "ArtistName": "U2",
                                    "TotalSales": "105.93"
                                },
                                {
                                    "ArtistName": "Metallica",
                                    "TotalSales": "90.09"
                                },
                                {
                                    "ArtistName": "Led Zeppelin",
                                    "TotalSales": "86.13"
                                },
                                {
                                    "ArtistName": "Lost",
                                    "TotalSales": "81.59"
                                },
                                {
                                    "ArtistName": "The Office",
                                    "TotalSales": "49.75"
                                },
                                {
                                    "ArtistName": "Os Paralamas Do Sucesso",
                                    "TotalSales": "44.55"
                                },
                                {
                                    "ArtistName": "Deep Purple",
                                    "TotalSales": "43.56"
                                },
                                {
                                    "ArtistName": "Faith No More",
                                    "TotalSales": "41.58"
                                },
                                {
                                    "ArtistName": "Eric Clapton",
                                    "TotalSales": "39.60"
                                },
                                {
                                    "ArtistName": "R.E.M.",
                                    "TotalSales": "38.61"
                                },
                                {
                                    "ArtistName": "Creedence Clearwater Revival",
                                    "TotalSales": "36.63"
                                },
                                {
                                    "ArtistName": "Queen",
                                    "TotalSales": "36.63"
                                },
                                {
                                    "ArtistName": "Battlestar Galactica (Classic)",
                                    "TotalSales": "35.82"
                                },
                                {
                                    "ArtistName": "Guns N' Roses",
                                    "TotalSales": "35.64"
                                }
                            ]
                        },
                        "text/html": [
                            "<table>",
                            "<tr><th>ArtistName</th><th>TotalSales</th></tr>",
                            "<tr><td>Iron Maiden</td><td>138.60</td></tr>",
                            "<tr><td>U2</td><td>105.93</td></tr>",
                            "<tr><td>Metallica</td><td>90.09</td></tr>",
                            "<tr><td>Led Zeppelin</td><td>86.13</td></tr>",
                            "<tr><td>Lost</td><td>81.59</td></tr>",
                            "<tr><td>The Office</td><td>49.75</td></tr>",
                            "<tr><td>Os Paralamas Do Sucesso</td><td>44.55</td></tr>",
                            "<tr><td>Deep Purple</td><td>43.56</td></tr>",
                            "<tr><td>Faith No More</td><td>41.58</td></tr>",
                            "<tr><td>Eric Clapton</td><td>39.60</td></tr>",
                            "<tr><td>R.E.M.</td><td>38.61</td></tr>",
                            "<tr><td>Creedence Clearwater Revival</td><td>36.63</td></tr>",
                            "<tr><td>Queen</td><td>36.63</td></tr>",
                            "<tr><td>Battlestar Galactica (Classic)</td><td>35.82</td></tr>",
                            "<tr><td>Guns N&#39; Roses</td><td>35.64</td></tr>",
                            "</table>"
                        ]
                    }
                }
            ],
            "execution_count": 74
        },
        {
            "cell_type": "markdown",
            "source": [
                "## <span style=\"color: var(--vscode-foreground); font-size: 14px;\">15. All sales from Metallica, day to day:</span>"
            ],
            "metadata": {
                "azdata_cell_guid": "f673bdae-cb85-451d-86a7-4ab50d69e6da"
            },
            "attachments": {}
        },
        {
            "cell_type": "code",
            "source": [
                "WITH DailyTrackSales AS (\r\n",
                "    SELECT\r\n",
                "        DATE(iv.InvoiceDate) AS DateSold,\r\n",
                "        t.Name AS TrackName,\r\n",
                "        ab.Title AS AlbumName,\r\n",
                "        art.Name AS ArtistName,\r\n",
                "        il.UnitPrice AS TrackPrice\r\n",
                "\r\n",
                "    FROM track t\r\n",
                "    JOIN invoiceline il ON t.TrackId = il.TrackId\r\n",
                "    JOIN album ab ON t.AlbumId = ab.AlbumID\r\n",
                "    JOIN artist art ON ab.ArtistId = art.ArtistID\r\n",
                "    JOIN invoice iv ON il.InvoiceId = iv.InvoiceId\r\n",
                "    ORDER BY DateSold ASC\r\n",
                ")\r\n",
                "\r\n",
                "SELECT \r\n",
                "    DateSold,\r\n",
                "    ArtistName,\r\n",
                "    SUM(TrackPrice) AS Sold\r\n",
                "\r\n",
                "FROM DailyTrackSales\r\n",
                "WHERE ArtistName = \"Metallica\"\r\n",
                "GROUP BY DateSold, ArtistName\r\n",
                "ORDER BY DateSold ASC\r\n",
                "LIMIT 15"
            ],
            "metadata": {
                "azdata_cell_guid": "2939be8d-ad1f-4e9f-a9f2-625a5559c609",
                "language": "sql"
            },
            "outputs": [
                {
                    "output_type": "display_data",
                    "data": {
                        "text/html": "(15 row(s) affected)"
                    },
                    "metadata": {}
                },
                {
                    "output_type": "display_data",
                    "data": {
                        "text/html": "Total execution time: 00:00:01.042"
                    },
                    "metadata": {}
                },
                {
                    "output_type": "execute_result",
                    "metadata": {},
                    "execution_count": 75,
                    "data": {
                        "application/vnd.dataresource+json": {
                            "schema": {
                                "fields": [
                                    {
                                        "name": "DateSold"
                                    },
                                    {
                                        "name": "ArtistName"
                                    },
                                    {
                                        "name": "Sold"
                                    }
                                ]
                            },
                            "data": [
                                {
                                    "DateSold": "2009-02-11",
                                    "ArtistName": "Metallica",
                                    "Sold": "0.99"
                                },
                                {
                                    "DateSold": "2009-08-16",
                                    "ArtistName": "Metallica",
                                    "Sold": "4.95"
                                },
                                {
                                    "DateSold": "2009-08-24",
                                    "ArtistName": "Metallica",
                                    "Sold": "0.99"
                                },
                                {
                                    "DateSold": "2009-09-06",
                                    "ArtistName": "Metallica",
                                    "Sold": "3.96"
                                },
                                {
                                    "DateSold": "2009-09-07",
                                    "ArtistName": "Metallica",
                                    "Sold": "3.96"
                                },
                                {
                                    "DateSold": "2009-09-08",
                                    "ArtistName": "Metallica",
                                    "Sold": "5.94"
                                },
                                {
                                    "DateSold": "2009-09-11",
                                    "ArtistName": "Metallica",
                                    "Sold": "0.99"
                                },
                                {
                                    "DateSold": "2010-05-22",
                                    "ArtistName": "Metallica",
                                    "Sold": "0.99"
                                },
                                {
                                    "DateSold": "2010-11-24",
                                    "ArtistName": "Metallica",
                                    "Sold": "1.98"
                                },
                                {
                                    "DateSold": "2010-12-02",
                                    "ArtistName": "Metallica",
                                    "Sold": "0.99"
                                },
                                {
                                    "DateSold": "2010-12-15",
                                    "ArtistName": "Metallica",
                                    "Sold": "3.96"
                                },
                                {
                                    "DateSold": "2010-12-16",
                                    "ArtistName": "Metallica",
                                    "Sold": "3.96"
                                },
                                {
                                    "DateSold": "2010-12-17",
                                    "ArtistName": "Metallica",
                                    "Sold": "5.94"
                                },
                                {
                                    "DateSold": "2010-12-20",
                                    "ArtistName": "Metallica",
                                    "Sold": "4.95"
                                },
                                {
                                    "DateSold": "2011-09-07",
                                    "ArtistName": "Metallica",
                                    "Sold": "0.99"
                                }
                            ]
                        },
                        "text/html": [
                            "<table>",
                            "<tr><th>DateSold</th><th>ArtistName</th><th>Sold</th></tr>",
                            "<tr><td>2009-02-11</td><td>Metallica</td><td>0.99</td></tr>",
                            "<tr><td>2009-08-16</td><td>Metallica</td><td>4.95</td></tr>",
                            "<tr><td>2009-08-24</td><td>Metallica</td><td>0.99</td></tr>",
                            "<tr><td>2009-09-06</td><td>Metallica</td><td>3.96</td></tr>",
                            "<tr><td>2009-09-07</td><td>Metallica</td><td>3.96</td></tr>",
                            "<tr><td>2009-09-08</td><td>Metallica</td><td>5.94</td></tr>",
                            "<tr><td>2009-09-11</td><td>Metallica</td><td>0.99</td></tr>",
                            "<tr><td>2010-05-22</td><td>Metallica</td><td>0.99</td></tr>",
                            "<tr><td>2010-11-24</td><td>Metallica</td><td>1.98</td></tr>",
                            "<tr><td>2010-12-02</td><td>Metallica</td><td>0.99</td></tr>",
                            "<tr><td>2010-12-15</td><td>Metallica</td><td>3.96</td></tr>",
                            "<tr><td>2010-12-16</td><td>Metallica</td><td>3.96</td></tr>",
                            "<tr><td>2010-12-17</td><td>Metallica</td><td>5.94</td></tr>",
                            "<tr><td>2010-12-20</td><td>Metallica</td><td>4.95</td></tr>",
                            "<tr><td>2011-09-07</td><td>Metallica</td><td>0.99</td></tr>",
                            "</table>"
                        ]
                    }
                }
            ],
            "execution_count": 75
        }
    ]
}