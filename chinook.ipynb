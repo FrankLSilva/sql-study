{
    "metadata": {
        "kernelspec": {
            "name": "SQL",
            "display_name": "SQL",
            "language": "sql"
        },
        "language_info": {
            "name": "sql",
            "version": ""
        }
    },
    "nbformat_minor": 2,
    "nbformat": 4,
    "cells": [
        {
            "cell_type": "markdown",
            "source": [
                "# **SQL** | **\"Chinook\"** DATABASE - _EDA_\n",
                "\n",
                "Here i gather several SQL queries using the \"Chinook\" music store database."
            ],
            "metadata": {
                "language": "sql",
                "azdata_cell_guid": "0e1ee764-9c0f-4e23-8148-f680bc90a872"
            },
            "attachments": {}
        },
        {
            "cell_type": "markdown",
            "source": [
                "# **Artists & Albums:**\n",
                "\n",
                "### **1)** <span style=\"color: var(--vscode-foreground);\">List of <b>Artists </b>and their albums in alphabetical order:</span>\n",
                "\n",
                "- <span style=\"color: var(--vscode-foreground);\">Here is start checking the result so i can work with it in the other queries;</span>\n",
                "- Limit to 15 for pourposes of easy observation."
            ],
            "metadata": {
                "language": "sql",
                "azdata_cell_guid": "1d82d72a-368b-47a3-8917-f4b78bc739a3"
            },
            "attachments": {}
        },
        {
            "cell_type": "code",
            "source": [
                "SELECT \r\n",
                "    art.name AS artist_name,\r\n",
                "    alb.title AS album_title \r\n",
                "\r\n",
                "FROM album AS alb\r\n",
                "INNER JOIN artist AS art ON alb.ArtistId = art.ArtistId\r\n",
                "ORDER BY artist_name\r\n",
                "LIMIT 15"
            ],
            "metadata": {
                "azdata_cell_guid": "038151cb-98b6-4560-b833-38779d66ae83",
                "language": "sql",
                "tags": []
            },
            "outputs": [
                {
                    "output_type": "display_data",
                    "data": {
                        "text/html": "(15 row(s) affected)"
                    },
                    "metadata": {}
                },
                {
                    "output_type": "display_data",
                    "data": {
                        "text/html": "Total execution time: 00:00:01.009"
                    },
                    "metadata": {}
                },
                {
                    "output_type": "execute_result",
                    "metadata": {},
                    "execution_count": 90,
                    "data": {
                        "application/vnd.dataresource+json": {
                            "schema": {
                                "fields": [
                                    {
                                        "name": "artist_name"
                                    },
                                    {
                                        "name": "album_title"
                                    }
                                ]
                            },
                            "data": [
                                {
                                    "artist_name": "Aaron Copland & London Symphony Orchestra",
                                    "album_title": "A Copland Celebration, Vol. I"
                                },
                                {
                                    "artist_name": "Aaron Goldberg",
                                    "album_title": "Worlds"
                                },
                                {
                                    "artist_name": "AC/DC",
                                    "album_title": "For Those About To Rock We Salute You"
                                },
                                {
                                    "artist_name": "AC/DC",
                                    "album_title": "Let There Be Rock"
                                },
                                {
                                    "artist_name": "Academy of St. Martin in the Fields & Sir Neville Marriner",
                                    "album_title": "The World of Classical Favourites"
                                },
                                {
                                    "artist_name": "Academy of St. Martin in the Fields Chamber Ensemble & Sir Neville Marriner",
                                    "album_title": "Sir Neville Marriner: A Celebration"
                                },
                                {
                                    "artist_name": "Academy of St. Martin in the Fields, John Birch, Sir Neville Marriner & Sylvia McNair",
                                    "album_title": "Fauré: Requiem, Ravel: Pavane & Others"
                                },
                                {
                                    "artist_name": "Academy of St. Martin in the Fields, Sir Neville Marriner & Thurston Dart",
                                    "album_title": "Bach: Orchestral Suites Nos. 1 - 4"
                                },
                                {
                                    "artist_name": "Accept",
                                    "album_title": "Balls to the Wall"
                                },
                                {
                                    "artist_name": "Accept",
                                    "album_title": "Restless and Wild"
                                },
                                {
                                    "artist_name": "Adrian Leaper & Doreen de Feis",
                                    "album_title": "Górecki: Symphony No. 3"
                                },
                                {
                                    "artist_name": "Aerosmith",
                                    "album_title": "Big Ones"
                                },
                                {
                                    "artist_name": "Aisha Duo",
                                    "album_title": "Quiet Songs"
                                },
                                {
                                    "artist_name": "Alanis Morissette",
                                    "album_title": "Jagged Little Pill"
                                },
                                {
                                    "artist_name": "Alberto Turco & Nova Schola Gregoriana",
                                    "album_title": "Adorate Deum: Gregorian Chant from the Proper of the Mass"
                                }
                            ]
                        },
                        "text/html": [
                            "<table>",
                            "<tr><th>artist_name</th><th>album_title</th></tr>",
                            "<tr><td>Aaron Copland &amp; London Symphony Orchestra</td><td>A Copland Celebration, Vol. I</td></tr>",
                            "<tr><td>Aaron Goldberg</td><td>Worlds</td></tr>",
                            "<tr><td>AC/DC</td><td>For Those About To Rock We Salute You</td></tr>",
                            "<tr><td>AC/DC</td><td>Let There Be Rock</td></tr>",
                            "<tr><td>Academy of St. Martin in the Fields &amp; Sir Neville Marriner</td><td>The World of Classical Favourites</td></tr>",
                            "<tr><td>Academy of St. Martin in the Fields Chamber Ensemble &amp; Sir Neville Marriner</td><td>Sir Neville Marriner: A Celebration</td></tr>",
                            "<tr><td>Academy of St. Martin in the Fields, John Birch, Sir Neville Marriner &amp; Sylvia McNair</td><td>Fauré: Requiem, Ravel: Pavane &amp; Others</td></tr>",
                            "<tr><td>Academy of St. Martin in the Fields, Sir Neville Marriner &amp; Thurston Dart</td><td>Bach: Orchestral Suites Nos. 1 - 4</td></tr>",
                            "<tr><td>Accept</td><td>Balls to the Wall</td></tr>",
                            "<tr><td>Accept</td><td>Restless and Wild</td></tr>",
                            "<tr><td>Adrian Leaper &amp; Doreen de Feis</td><td>Górecki: Symphony No. 3</td></tr>",
                            "<tr><td>Aerosmith</td><td>Big Ones</td></tr>",
                            "<tr><td>Aisha Duo</td><td>Quiet Songs</td></tr>",
                            "<tr><td>Alanis Morissette</td><td>Jagged Little Pill</td></tr>",
                            "<tr><td>Alberto Turco &amp; Nova Schola Gregoriana</td><td>Adorate Deum: Gregorian Chant from the Proper of the Mass</td></tr>",
                            "</table>"
                        ]
                    }
                }
            ],
            "execution_count": 90
        },
        {
            "cell_type": "markdown",
            "source": [
                "### 2\\. TOP 10 artists by number of **albums**\n",
                "\n",
                "- The idea is to check who's the artist with most albuns and use this database as an CTE in the next querie."
            ],
            "metadata": {
                "azdata_cell_guid": "22f1e655-b39d-4689-83ae-351d8c209ea9"
            },
            "attachments": {}
        },
        {
            "cell_type": "code",
            "source": [
                "SELECT \r\n",
                "    art.ArtistId,\r\n",
                "    art.name AS artist_name,\r\n",
                "    COUNT(alb.title) AS albuns\r\n",
                "\r\n",
                "FROM album AS alb\r\n",
                "INNER JOIN artist AS art ON alb.ArtistId = art.ArtistId\r\n",
                "GROUP BY art.ArtistId, artist_name\r\n",
                "ORDER BY albuns DESC\r\n",
                "LIMIT 10"
            ],
            "metadata": {
                "azdata_cell_guid": "1a024721-d935-49fe-b225-8e7232af3887",
                "language": "sql"
            },
            "outputs": [
                {
                    "output_type": "display_data",
                    "data": {
                        "text/html": "(10 row(s) affected)"
                    },
                    "metadata": {}
                },
                {
                    "output_type": "display_data",
                    "data": {
                        "text/html": "Total execution time: 00:00:01.016"
                    },
                    "metadata": {}
                },
                {
                    "output_type": "execute_result",
                    "metadata": {},
                    "execution_count": 91,
                    "data": {
                        "application/vnd.dataresource+json": {
                            "schema": {
                                "fields": [
                                    {
                                        "name": "ArtistId"
                                    },
                                    {
                                        "name": "artist_name"
                                    },
                                    {
                                        "name": "albuns"
                                    }
                                ]
                            },
                            "data": [
                                {
                                    "ArtistId": "90",
                                    "artist_name": "Iron Maiden",
                                    "albuns": "21"
                                },
                                {
                                    "ArtistId": "22",
                                    "artist_name": "Led Zeppelin",
                                    "albuns": "14"
                                },
                                {
                                    "ArtistId": "58",
                                    "artist_name": "Deep Purple",
                                    "albuns": "11"
                                },
                                {
                                    "ArtistId": "50",
                                    "artist_name": "Metallica",
                                    "albuns": "10"
                                },
                                {
                                    "ArtistId": "150",
                                    "artist_name": "U2",
                                    "albuns": "10"
                                },
                                {
                                    "ArtistId": "114",
                                    "artist_name": "Ozzy Osbourne",
                                    "albuns": "6"
                                },
                                {
                                    "ArtistId": "118",
                                    "artist_name": "Pearl Jam",
                                    "albuns": "5"
                                },
                                {
                                    "ArtistId": "84",
                                    "artist_name": "Foo Fighters",
                                    "albuns": "4"
                                },
                                {
                                    "ArtistId": "21",
                                    "artist_name": "Various Artists",
                                    "albuns": "4"
                                },
                                {
                                    "ArtistId": "82",
                                    "artist_name": "Faith No More",
                                    "albuns": "4"
                                }
                            ]
                        },
                        "text/html": [
                            "<table>",
                            "<tr><th>ArtistId</th><th>artist_name</th><th>albuns</th></tr>",
                            "<tr><td>90</td><td>Iron Maiden</td><td>21</td></tr>",
                            "<tr><td>22</td><td>Led Zeppelin</td><td>14</td></tr>",
                            "<tr><td>58</td><td>Deep Purple</td><td>11</td></tr>",
                            "<tr><td>50</td><td>Metallica</td><td>10</td></tr>",
                            "<tr><td>150</td><td>U2</td><td>10</td></tr>",
                            "<tr><td>114</td><td>Ozzy Osbourne</td><td>6</td></tr>",
                            "<tr><td>118</td><td>Pearl Jam</td><td>5</td></tr>",
                            "<tr><td>84</td><td>Foo Fighters</td><td>4</td></tr>",
                            "<tr><td>21</td><td>Various Artists</td><td>4</td></tr>",
                            "<tr><td>82</td><td>Faith No More</td><td>4</td></tr>",
                            "</table>"
                        ]
                    }
                }
            ],
            "execution_count": 91
        },
        {
            "cell_type": "markdown",
            "source": [
                "### 3\\. Check **all** **albuns** relesead by the **TOP 1** artist\n",
                "\n",
                "- Using CTE to find all the albums names for the first placed artist."
            ],
            "metadata": {
                "azdata_cell_guid": "88e76db1-ea23-47bf-ade5-6dbdf7b68bc7"
            },
            "attachments": {}
        },
        {
            "cell_type": "code",
            "source": [
                "WITH TopArtists AS (\r\n",
                "    SELECT \r\n",
                "        art.ArtistId,\r\n",
                "        art.name AS artist_name,\r\n",
                "        COUNT(alb.title) AS albuns\r\n",
                "\r\n",
                "    FROM album AS alb\r\n",
                "    INNER JOIN artist AS art ON alb.ArtistId = art.ArtistId\r\n",
                "    GROUP BY art.ArtistId, artist_name\r\n",
                "    ORDER BY albuns DESC\r\n",
                "    LIMIT 1\r\n",
                ")\r\n",
                "\r\n",
                "SELECT \r\n",
                "    AlbumId,\r\n",
                "    Title \r\n",
                "\r\n",
                "FROM album\r\n",
                "WHERE ArtistId = 50;"
            ],
            "metadata": {
                "azdata_cell_guid": "333ea4ad-ceba-4bdc-aaf4-85cf836b9c54",
                "language": "sql"
            },
            "outputs": [
                {
                    "output_type": "display_data",
                    "data": {
                        "text/html": "(10 row(s) affected)"
                    },
                    "metadata": {}
                },
                {
                    "output_type": "display_data",
                    "data": {
                        "text/html": "Total execution time: 00:00:01.018"
                    },
                    "metadata": {}
                },
                {
                    "output_type": "execute_result",
                    "metadata": {},
                    "execution_count": 92,
                    "data": {
                        "application/vnd.dataresource+json": {
                            "schema": {
                                "fields": [
                                    {
                                        "name": "AlbumId"
                                    },
                                    {
                                        "name": "Title"
                                    }
                                ]
                            },
                            "data": [
                                {
                                    "AlbumId": "35",
                                    "Title": "Garage Inc. (Disc 1)"
                                },
                                {
                                    "AlbumId": "148",
                                    "Title": "Black Album"
                                },
                                {
                                    "AlbumId": "149",
                                    "Title": "Garage Inc. (Disc 2)"
                                },
                                {
                                    "AlbumId": "150",
                                    "Title": "Kill 'Em All"
                                },
                                {
                                    "AlbumId": "151",
                                    "Title": "Load"
                                },
                                {
                                    "AlbumId": "152",
                                    "Title": "Master Of Puppets"
                                },
                                {
                                    "AlbumId": "153",
                                    "Title": "ReLoad"
                                },
                                {
                                    "AlbumId": "154",
                                    "Title": "Ride The Lightning"
                                },
                                {
                                    "AlbumId": "155",
                                    "Title": "St. Anger"
                                },
                                {
                                    "AlbumId": "156",
                                    "Title": "...And Justice For All"
                                }
                            ]
                        },
                        "text/html": [
                            "<table>",
                            "<tr><th>AlbumId</th><th>Title</th></tr>",
                            "<tr><td>35</td><td>Garage Inc. (Disc 1)</td></tr>",
                            "<tr><td>148</td><td>Black Album</td></tr>",
                            "<tr><td>149</td><td>Garage Inc. (Disc 2)</td></tr>",
                            "<tr><td>150</td><td>Kill &#39;Em All</td></tr>",
                            "<tr><td>151</td><td>Load</td></tr>",
                            "<tr><td>152</td><td>Master Of Puppets</td></tr>",
                            "<tr><td>153</td><td>ReLoad</td></tr>",
                            "<tr><td>154</td><td>Ride The Lightning</td></tr>",
                            "<tr><td>155</td><td>St. Anger</td></tr>",
                            "<tr><td>156</td><td>...And Justice For All</td></tr>",
                            "</table>"
                        ]
                    }
                }
            ],
            "execution_count": 92
        },
        {
            "cell_type": "markdown",
            "source": [
                "# <span style=\"color: var(--vscode-foreground);\"><b>Customer:</b></span>\n",
                "\n",
                "## <span style=\"font-size: 14px; color: var(--vscode-foreground);\">4. Distribution of customer by country:</span>\n",
                "\n",
                "- <span style=\"font-size: 14px; color: var(--vscode-foreground);\">Customer demographics.</span>"
            ],
            "metadata": {
                "azdata_cell_guid": "c6a4a43f-46c4-430d-b102-8fb96e2a0aaa"
            },
            "attachments": {}
        },
        {
            "cell_type": "code",
            "source": [
                "SELECT\r\n",
                "    Country, COUNT(CustomerId) AS CustomerTotal\r\n",
                "\r\n",
                "FROM customer\r\n",
                "GROUP BY Country\r\n",
                "ORDER BY CustomerTotal DESC\r\n",
                "LIMIT 15"
            ],
            "metadata": {
                "azdata_cell_guid": "f5b69610-d464-4def-accf-34d55cdba190",
                "language": "sql"
            },
            "outputs": [
                {
                    "output_type": "display_data",
                    "data": {
                        "text/html": "(15 row(s) affected)"
                    },
                    "metadata": {}
                },
                {
                    "output_type": "display_data",
                    "data": {
                        "text/html": "Total execution time: 00:00:01.019"
                    },
                    "metadata": {}
                },
                {
                    "output_type": "execute_result",
                    "metadata": {},
                    "execution_count": 93,
                    "data": {
                        "application/vnd.dataresource+json": {
                            "schema": {
                                "fields": [
                                    {
                                        "name": "Country"
                                    },
                                    {
                                        "name": "CustomerTotal"
                                    }
                                ]
                            },
                            "data": [
                                {
                                    "Country": "USA",
                                    "CustomerTotal": "13"
                                },
                                {
                                    "Country": "Canada",
                                    "CustomerTotal": "8"
                                },
                                {
                                    "Country": "Brazil",
                                    "CustomerTotal": "5"
                                },
                                {
                                    "Country": "France",
                                    "CustomerTotal": "5"
                                },
                                {
                                    "Country": "Germany",
                                    "CustomerTotal": "4"
                                },
                                {
                                    "Country": "United Kingdom",
                                    "CustomerTotal": "3"
                                },
                                {
                                    "Country": "Czech Republic",
                                    "CustomerTotal": "2"
                                },
                                {
                                    "Country": "Portugal",
                                    "CustomerTotal": "2"
                                },
                                {
                                    "Country": "India",
                                    "CustomerTotal": "2"
                                },
                                {
                                    "Country": "Norway",
                                    "CustomerTotal": "1"
                                },
                                {
                                    "Country": "Austria",
                                    "CustomerTotal": "1"
                                },
                                {
                                    "Country": "Belgium",
                                    "CustomerTotal": "1"
                                },
                                {
                                    "Country": "Denmark",
                                    "CustomerTotal": "1"
                                },
                                {
                                    "Country": "Finland",
                                    "CustomerTotal": "1"
                                },
                                {
                                    "Country": "Hungary",
                                    "CustomerTotal": "1"
                                }
                            ]
                        },
                        "text/html": [
                            "<table>",
                            "<tr><th>Country</th><th>CustomerTotal</th></tr>",
                            "<tr><td>USA</td><td>13</td></tr>",
                            "<tr><td>Canada</td><td>8</td></tr>",
                            "<tr><td>Brazil</td><td>5</td></tr>",
                            "<tr><td>France</td><td>5</td></tr>",
                            "<tr><td>Germany</td><td>4</td></tr>",
                            "<tr><td>United Kingdom</td><td>3</td></tr>",
                            "<tr><td>Czech Republic</td><td>2</td></tr>",
                            "<tr><td>Portugal</td><td>2</td></tr>",
                            "<tr><td>India</td><td>2</td></tr>",
                            "<tr><td>Norway</td><td>1</td></tr>",
                            "<tr><td>Austria</td><td>1</td></tr>",
                            "<tr><td>Belgium</td><td>1</td></tr>",
                            "<tr><td>Denmark</td><td>1</td></tr>",
                            "<tr><td>Finland</td><td>1</td></tr>",
                            "<tr><td>Hungary</td><td>1</td></tr>",
                            "</table>"
                        ]
                    }
                }
            ],
            "execution_count": 93
        },
        {
            "cell_type": "markdown",
            "source": [
                "## <span style=\"font-size: 14px; color: var(--vscode-foreground);\">5. Distribution of customer by Company:</span>\n",
                "\n",
                "- <span style=\"font-size: 14px; color: var(--vscode-foreground);\">Most customers are not attached to a business sale</span>"
            ],
            "metadata": {
                "language": "sql",
                "azdata_cell_guid": "ff183eea-23b7-4a7b-8620-1978281a7481"
            },
            "attachments": {}
        },
        {
            "cell_type": "code",
            "source": [
                "SELECT\r\n",
                "    COALESCE(Company, \"No company related\") AS Company, \r\n",
                "    COUNT(CustomerId) AS CustomerTotal\r\n",
                "\r\n",
                "FROM customer\r\n",
                "GROUP BY Company\r\n",
                "ORDER BY CustomerTotal DESC\r\n",
                "LIMIT 15"
            ],
            "metadata": {
                "language": "sql",
                "azdata_cell_guid": "56606a48-5d8a-4b78-9b32-332dee7ea1e8"
            },
            "outputs": [
                {
                    "output_type": "display_data",
                    "data": {
                        "text/html": "(11 row(s) affected)"
                    },
                    "metadata": {}
                },
                {
                    "output_type": "display_data",
                    "data": {
                        "text/html": "Total execution time: 00:00:01.017"
                    },
                    "metadata": {}
                },
                {
                    "output_type": "execute_result",
                    "metadata": {},
                    "execution_count": 94,
                    "data": {
                        "application/vnd.dataresource+json": {
                            "schema": {
                                "fields": [
                                    {
                                        "name": "Company"
                                    },
                                    {
                                        "name": "CustomerTotal"
                                    }
                                ]
                            },
                            "data": [
                                {
                                    "Company": "No company related",
                                    "CustomerTotal": "49"
                                },
                                {
                                    "Company": "Embraer - Empresa Brasileira de Aeronáutica S.A.",
                                    "CustomerTotal": "1"
                                },
                                {
                                    "Company": "JetBrains s.r.o.",
                                    "CustomerTotal": "1"
                                },
                                {
                                    "Company": "Woodstock Discos",
                                    "CustomerTotal": "1"
                                },
                                {
                                    "Company": "Banco do Brasil S.A.",
                                    "CustomerTotal": "1"
                                },
                                {
                                    "Company": "Riotur",
                                    "CustomerTotal": "1"
                                },
                                {
                                    "Company": "Telus",
                                    "CustomerTotal": "1"
                                },
                                {
                                    "Company": "Rogers Canada",
                                    "CustomerTotal": "1"
                                },
                                {
                                    "Company": "Google Inc.",
                                    "CustomerTotal": "1"
                                },
                                {
                                    "Company": "Microsoft Corporation",
                                    "CustomerTotal": "1"
                                },
                                {
                                    "Company": "Apple Inc.",
                                    "CustomerTotal": "1"
                                }
                            ]
                        },
                        "text/html": [
                            "<table>",
                            "<tr><th>Company</th><th>CustomerTotal</th></tr>",
                            "<tr><td>No company related</td><td>49</td></tr>",
                            "<tr><td>Embraer - Empresa Brasileira de Aeronáutica S.A.</td><td>1</td></tr>",
                            "<tr><td>JetBrains s.r.o.</td><td>1</td></tr>",
                            "<tr><td>Woodstock Discos</td><td>1</td></tr>",
                            "<tr><td>Banco do Brasil S.A.</td><td>1</td></tr>",
                            "<tr><td>Riotur</td><td>1</td></tr>",
                            "<tr><td>Telus</td><td>1</td></tr>",
                            "<tr><td>Rogers Canada</td><td>1</td></tr>",
                            "<tr><td>Google Inc.</td><td>1</td></tr>",
                            "<tr><td>Microsoft Corporation</td><td>1</td></tr>",
                            "<tr><td>Apple Inc.</td><td>1</td></tr>",
                            "</table>"
                        ]
                    }
                }
            ],
            "execution_count": 94
        },
        {
            "cell_type": "markdown",
            "source": [
                "## <span style=\"font-size: 14px; color: var(--vscode-foreground);\">6. Retrieve contact information of all <b>USA</b> customers:</span>\n",
                "\n",
                "- <span style=\"font-size: 14px; color: var(--vscode-foreground);\">Concatenating the first and last name to a single column;</span>\n",
                "- <span style=\"font-size: 14px; color: var(--vscode-foreground);\">Calesce to remove null values from the company column.</span>"
            ],
            "metadata": {
                "language": "sql",
                "azdata_cell_guid": "ffeb9899-7e5f-48a2-86c1-d45203e7bce5"
            },
            "attachments": {}
        },
        {
            "cell_type": "code",
            "source": [
                "SELECT\r\n",
                "    CONCAT(FirstName, \" \", LastName) AS Customer, \r\n",
                "    Phone,\r\n",
                "    Email,\r\n",
                "    City,\r\n",
                "    COALESCE(Company, \" \") AS Company\r\n",
                "\r\n",
                "FROM customer\r\n",
                "WHERE Country = \"USA\"\r\n",
                "ORDER BY City, Company DESC"
            ],
            "metadata": {
                "language": "sql",
                "azdata_cell_guid": "ded351ad-61a5-4ca4-b35b-3bde85b475a4",
                "tags": []
            },
            "outputs": [
                {
                    "output_type": "display_data",
                    "data": {
                        "text/html": "(13 row(s) affected)"
                    },
                    "metadata": {}
                },
                {
                    "output_type": "display_data",
                    "data": {
                        "text/html": "Total execution time: 00:00:01.014"
                    },
                    "metadata": {}
                },
                {
                    "output_type": "execute_result",
                    "metadata": {},
                    "execution_count": 95,
                    "data": {
                        "application/vnd.dataresource+json": {
                            "schema": {
                                "fields": [
                                    {
                                        "name": "Customer"
                                    },
                                    {
                                        "name": "Phone"
                                    },
                                    {
                                        "name": "Email"
                                    },
                                    {
                                        "name": "City"
                                    },
                                    {
                                        "name": "Company"
                                    }
                                ]
                            },
                            "data": [
                                {
                                    "Customer": "John Gordon",
                                    "Phone": "+1 (617) 522-1333",
                                    "Email": "johngordon22@yahoo.com",
                                    "City": "Boston",
                                    "Company": " "
                                },
                                {
                                    "Customer": "Frank Ralston",
                                    "Phone": "+1 (312) 332-3232",
                                    "Email": "fralston@gmail.com",
                                    "City": "Chicago",
                                    "Company": " "
                                },
                                {
                                    "Customer": "Tim Goyer",
                                    "Phone": "+1 (408) 996-1010",
                                    "Email": "tgoyer@apple.com",
                                    "City": "Cupertino",
                                    "Company": "Apple Inc."
                                },
                                {
                                    "Customer": "Richard Cunningham",
                                    "Phone": "+1 (817) 924-7272",
                                    "Email": "ricunningham@hotmail.com",
                                    "City": "Fort Worth",
                                    "Company": " "
                                },
                                {
                                    "Customer": "Victor Stevens",
                                    "Phone": "+1 (608) 257-0597",
                                    "Email": "vstevens@yahoo.com",
                                    "City": "Madison",
                                    "Company": " "
                                },
                                {
                                    "Customer": "Frank Harris",
                                    "Phone": "+1 (650) 253-0000",
                                    "Email": "fharris@google.com",
                                    "City": "Mountain View",
                                    "Company": "Google Inc."
                                },
                                {
                                    "Customer": "Dan Miller",
                                    "Phone": "+1 (650) 644-3358",
                                    "Email": "dmiller@comcast.com",
                                    "City": "Mountain View",
                                    "Company": " "
                                },
                                {
                                    "Customer": "Michelle Brooks",
                                    "Phone": "+1 (212) 221-3546",
                                    "Email": "michelleb@aol.com",
                                    "City": "New York",
                                    "Company": " "
                                },
                                {
                                    "Customer": "Heather Leacock",
                                    "Phone": "+1 (407) 999-7788",
                                    "Email": "hleacock@gmail.com",
                                    "City": "Orlando",
                                    "Company": " "
                                },
                                {
                                    "Customer": "Jack Smith",
                                    "Phone": "+1 (425) 882-8080",
                                    "Email": "jacksmith@microsoft.com",
                                    "City": "Redmond",
                                    "Company": "Microsoft Corporation"
                                },
                                {
                                    "Customer": "Kathy Chase",
                                    "Phone": "+1 (775) 223-7665",
                                    "Email": "kachase@hotmail.com",
                                    "City": "Reno",
                                    "Company": " "
                                },
                                {
                                    "Customer": "Julia Barnett",
                                    "Phone": "+1 (801) 531-7272",
                                    "Email": "jubarnett@gmail.com",
                                    "City": "Salt Lake City",
                                    "Company": " "
                                },
                                {
                                    "Customer": "Patrick Gray",
                                    "Phone": "+1 (520) 622-4200",
                                    "Email": "patrick.gray@aol.com",
                                    "City": "Tucson",
                                    "Company": " "
                                }
                            ]
                        },
                        "text/html": [
                            "<table>",
                            "<tr><th>Customer</th><th>Phone</th><th>Email</th><th>City</th><th>Company</th></tr>",
                            "<tr><td>John Gordon</td><td>+1 (617) 522-1333</td><td>johngordon22@yahoo.com</td><td>Boston</td><td> </td></tr>",
                            "<tr><td>Frank Ralston</td><td>+1 (312) 332-3232</td><td>fralston@gmail.com</td><td>Chicago</td><td> </td></tr>",
                            "<tr><td>Tim Goyer</td><td>+1 (408) 996-1010</td><td>tgoyer@apple.com</td><td>Cupertino</td><td>Apple Inc.</td></tr>",
                            "<tr><td>Richard Cunningham</td><td>+1 (817) 924-7272</td><td>ricunningham@hotmail.com</td><td>Fort Worth</td><td> </td></tr>",
                            "<tr><td>Victor Stevens</td><td>+1 (608) 257-0597</td><td>vstevens@yahoo.com</td><td>Madison</td><td> </td></tr>",
                            "<tr><td>Frank Harris</td><td>+1 (650) 253-0000</td><td>fharris@google.com</td><td>Mountain View</td><td>Google Inc.</td></tr>",
                            "<tr><td>Dan Miller</td><td>+1 (650) 644-3358</td><td>dmiller@comcast.com</td><td>Mountain View</td><td> </td></tr>",
                            "<tr><td>Michelle Brooks</td><td>+1 (212) 221-3546</td><td>michelleb@aol.com</td><td>New York</td><td> </td></tr>",
                            "<tr><td>Heather Leacock</td><td>+1 (407) 999-7788</td><td>hleacock@gmail.com</td><td>Orlando</td><td> </td></tr>",
                            "<tr><td>Jack Smith</td><td>+1 (425) 882-8080</td><td>jacksmith@microsoft.com</td><td>Redmond</td><td>Microsoft Corporation</td></tr>",
                            "<tr><td>Kathy Chase</td><td>+1 (775) 223-7665</td><td>kachase@hotmail.com</td><td>Reno</td><td> </td></tr>",
                            "<tr><td>Julia Barnett</td><td>+1 (801) 531-7272</td><td>jubarnett@gmail.com</td><td>Salt Lake City</td><td> </td></tr>",
                            "<tr><td>Patrick Gray</td><td>+1 (520) 622-4200</td><td>patrick.gray@aol.com</td><td>Tucson</td><td> </td></tr>",
                            "</table>"
                        ]
                    }
                }
            ],
            "execution_count": 95
        },
        {
            "cell_type": "markdown",
            "source": [
                "## <span style=\"font-size: 14px; color: var(--vscode-foreground);\">7. Retrieve contact information of all <b>BRAZIL&nbsp;</b>customers:</span>"
            ],
            "metadata": {
                "language": "sql",
                "azdata_cell_guid": "015aaf79-6435-4178-8fd1-47f2cca18312"
            },
            "attachments": {}
        },
        {
            "cell_type": "code",
            "source": [
                "SELECT\r\n",
                "    CONCAT(FirstName, \" \", LastName) AS Customer, \r\n",
                "    Phone,\r\n",
                "    Email,\r\n",
                "    City,\r\n",
                "    COALESCE(Company, \" \") AS Company\r\n",
                "    \r\n",
                "FROM customer\r\n",
                "WHERE Country = \"brazil\"\r\n",
                "ORDER BY City, Company DESC"
            ],
            "metadata": {
                "language": "sql",
                "azdata_cell_guid": "9d4fb9a0-7df2-459f-aa32-f4f00e80d8c9"
            },
            "outputs": [
                {
                    "output_type": "display_data",
                    "data": {
                        "text/html": "(5 row(s) affected)"
                    },
                    "metadata": {}
                },
                {
                    "output_type": "display_data",
                    "data": {
                        "text/html": "Total execution time: 00:00:01.020"
                    },
                    "metadata": {}
                },
                {
                    "output_type": "execute_result",
                    "metadata": {},
                    "execution_count": 96,
                    "data": {
                        "application/vnd.dataresource+json": {
                            "schema": {
                                "fields": [
                                    {
                                        "name": "Customer"
                                    },
                                    {
                                        "name": "Phone"
                                    },
                                    {
                                        "name": "Email"
                                    },
                                    {
                                        "name": "City"
                                    },
                                    {
                                        "name": "Company"
                                    }
                                ]
                            },
                            "data": [
                                {
                                    "Customer": "Fernanda Ramos",
                                    "Phone": "+55 (61) 3363-5547",
                                    "Email": "fernadaramos4@uol.com.br",
                                    "City": "Brasília",
                                    "Company": " "
                                },
                                {
                                    "Customer": "Roberto Almeida",
                                    "Phone": "+55 (21) 2271-7000",
                                    "Email": "roberto.almeida@riotur.gov.br",
                                    "City": "Rio de Janeiro",
                                    "Company": "Riotur"
                                },
                                {
                                    "Customer": "Luís Gonçalves",
                                    "Phone": "+55 (12) 3923-5555",
                                    "Email": "luisg@embraer.com.br",
                                    "City": "São José dos Campos",
                                    "Company": "Embraer - Empresa Brasileira de Aeronáutica S.A."
                                },
                                {
                                    "Customer": "Eduardo Martins",
                                    "Phone": "+55 (11) 3033-5446",
                                    "Email": "eduardo@woodstock.com.br",
                                    "City": "São Paulo",
                                    "Company": "Woodstock Discos"
                                },
                                {
                                    "Customer": "Alexandre Rocha",
                                    "Phone": "+55 (11) 3055-3278",
                                    "Email": "alero@uol.com.br",
                                    "City": "São Paulo",
                                    "Company": "Banco do Brasil S.A."
                                }
                            ]
                        },
                        "text/html": [
                            "<table>",
                            "<tr><th>Customer</th><th>Phone</th><th>Email</th><th>City</th><th>Company</th></tr>",
                            "<tr><td>Fernanda Ramos</td><td>+55 (61) 3363-5547</td><td>fernadaramos4@uol.com.br</td><td>Brasília</td><td> </td></tr>",
                            "<tr><td>Roberto Almeida</td><td>+55 (21) 2271-7000</td><td>roberto.almeida@riotur.gov.br</td><td>Rio de Janeiro</td><td>Riotur</td></tr>",
                            "<tr><td>Luís Gonçalves</td><td>+55 (12) 3923-5555</td><td>luisg@embraer.com.br</td><td>São José dos Campos</td><td>Embraer - Empresa Brasileira de Aeronáutica S.A.</td></tr>",
                            "<tr><td>Eduardo Martins</td><td>+55 (11) 3033-5446</td><td>eduardo@woodstock.com.br</td><td>São Paulo</td><td>Woodstock Discos</td></tr>",
                            "<tr><td>Alexandre Rocha</td><td>+55 (11) 3055-3278</td><td>alero@uol.com.br</td><td>São Paulo</td><td>Banco do Brasil S.A.</td></tr>",
                            "</table>"
                        ]
                    }
                }
            ],
            "execution_count": 96
        },
        {
            "cell_type": "markdown",
            "source": [
                "# <span style=\"color: var(--vscode-foreground);\"><b>Employees:</b></span>\n",
                "\n",
                "## <span style=\"font-size: 14px; color: var(--vscode-foreground);\">8. Retreive important information and list all employess filtered by Job title:</span>"
            ],
            "metadata": {
                "language": "sql",
                "azdata_cell_guid": "8f88757f-32f3-4f6c-a4cc-f68b143d275b"
            },
            "attachments": {}
        },
        {
            "cell_type": "code",
            "source": [
                "SELECT\r\n",
                "    Title,\r\n",
                "    CONCAT(FirstName, \" \", LastName) AS Employee_Name,\r\n",
                "    Phone,\r\n",
                "    Email,\r\n",
                "    City,\r\n",
                "    Country\r\n",
                "    \r\n",
                "FROM employee\r\n",
                "ORDER BY Title ASC"
            ],
            "metadata": {
                "language": "sql",
                "azdata_cell_guid": "ec34f506-c327-45fe-b095-e9bb2772fac8"
            },
            "outputs": [
                {
                    "output_type": "display_data",
                    "data": {
                        "text/html": "(8 row(s) affected)"
                    },
                    "metadata": {}
                },
                {
                    "output_type": "display_data",
                    "data": {
                        "text/html": "Total execution time: 00:00:01.017"
                    },
                    "metadata": {}
                },
                {
                    "output_type": "execute_result",
                    "metadata": {},
                    "execution_count": 97,
                    "data": {
                        "application/vnd.dataresource+json": {
                            "schema": {
                                "fields": [
                                    {
                                        "name": "Title"
                                    },
                                    {
                                        "name": "Employee_Name"
                                    },
                                    {
                                        "name": "Phone"
                                    },
                                    {
                                        "name": "Email"
                                    },
                                    {
                                        "name": "City"
                                    },
                                    {
                                        "name": "Country"
                                    }
                                ]
                            },
                            "data": [
                                {
                                    "Title": "General Manager",
                                    "Employee_Name": "Andrew Adams",
                                    "Phone": "+1 (780) 428-9482",
                                    "Email": "andrew@chinookcorp.com",
                                    "City": "Edmonton",
                                    "Country": "Canada"
                                },
                                {
                                    "Title": "IT Manager",
                                    "Employee_Name": "Michael Mitchell",
                                    "Phone": "+1 (403) 246-9887",
                                    "Email": "michael@chinookcorp.com",
                                    "City": "Calgary",
                                    "Country": "Canada"
                                },
                                {
                                    "Title": "IT Staff",
                                    "Employee_Name": "Robert King",
                                    "Phone": "+1 (403) 456-9986",
                                    "Email": "robert@chinookcorp.com",
                                    "City": "Lethbridge",
                                    "Country": "Canada"
                                },
                                {
                                    "Title": "IT Staff",
                                    "Employee_Name": "Laura Callahan",
                                    "Phone": "+1 (403) 467-3351",
                                    "Email": "laura@chinookcorp.com",
                                    "City": "Lethbridge",
                                    "Country": "Canada"
                                },
                                {
                                    "Title": "Sales Manager",
                                    "Employee_Name": "Nancy Edwards",
                                    "Phone": "+1 (403) 262-3443",
                                    "Email": "nancy@chinookcorp.com",
                                    "City": "Calgary",
                                    "Country": "Canada"
                                },
                                {
                                    "Title": "Sales Support Agent",
                                    "Employee_Name": "Jane Peacock",
                                    "Phone": "+1 (403) 262-3443",
                                    "Email": "jane@chinookcorp.com",
                                    "City": "Calgary",
                                    "Country": "Canada"
                                },
                                {
                                    "Title": "Sales Support Agent",
                                    "Employee_Name": "Margaret Park",
                                    "Phone": "+1 (403) 263-4423",
                                    "Email": "margaret@chinookcorp.com",
                                    "City": "Calgary",
                                    "Country": "Canada"
                                },
                                {
                                    "Title": "Sales Support Agent",
                                    "Employee_Name": "Steve Johnson",
                                    "Phone": "1 (780) 836-9987",
                                    "Email": "steve@chinookcorp.com",
                                    "City": "Calgary",
                                    "Country": "Canada"
                                }
                            ]
                        },
                        "text/html": [
                            "<table>",
                            "<tr><th>Title</th><th>Employee_Name</th><th>Phone</th><th>Email</th><th>City</th><th>Country</th></tr>",
                            "<tr><td>General Manager</td><td>Andrew Adams</td><td>+1 (780) 428-9482</td><td>andrew@chinookcorp.com</td><td>Edmonton</td><td>Canada</td></tr>",
                            "<tr><td>IT Manager</td><td>Michael Mitchell</td><td>+1 (403) 246-9887</td><td>michael@chinookcorp.com</td><td>Calgary</td><td>Canada</td></tr>",
                            "<tr><td>IT Staff</td><td>Robert King</td><td>+1 (403) 456-9986</td><td>robert@chinookcorp.com</td><td>Lethbridge</td><td>Canada</td></tr>",
                            "<tr><td>IT Staff</td><td>Laura Callahan</td><td>+1 (403) 467-3351</td><td>laura@chinookcorp.com</td><td>Lethbridge</td><td>Canada</td></tr>",
                            "<tr><td>Sales Manager</td><td>Nancy Edwards</td><td>+1 (403) 262-3443</td><td>nancy@chinookcorp.com</td><td>Calgary</td><td>Canada</td></tr>",
                            "<tr><td>Sales Support Agent</td><td>Jane Peacock</td><td>+1 (403) 262-3443</td><td>jane@chinookcorp.com</td><td>Calgary</td><td>Canada</td></tr>",
                            "<tr><td>Sales Support Agent</td><td>Margaret Park</td><td>+1 (403) 263-4423</td><td>margaret@chinookcorp.com</td><td>Calgary</td><td>Canada</td></tr>",
                            "<tr><td>Sales Support Agent</td><td>Steve Johnson</td><td>1 (780) 836-9987</td><td>steve@chinookcorp.com</td><td>Calgary</td><td>Canada</td></tr>",
                            "</table>"
                        ]
                    }
                }
            ],
            "execution_count": 97
        },
        {
            "cell_type": "markdown",
            "source": [
                "## <span style=\"font-size: 14px; color: var(--vscode-foreground);\">9. Retrieve the amount of Years worked for every employee:</span>\n",
                "\n",
                "- I\\`ve considered (for study pouposes) that this store has closed on 2007."
            ],
            "metadata": {
                "language": "sql",
                "azdata_cell_guid": "ead344c0-44d5-4f5f-8db8-bea7f5e5f18f"
            },
            "attachments": {}
        },
        {
            "cell_type": "code",
            "source": [
                "SELECT\r\n",
                "    EmployeeId AS Id,\r\n",
                "    Title,\r\n",
                "    CONCAT(FirstName, ' ', LastName) AS Employee_Name,\r\n",
                "    DATE(HireDate) AS Hire_Date,\r\n",
                "    DATEDIFF('2007-01-01', HireDate) AS Days_Worked,\r\n",
                "    ROUND(DATEDIFF('2007-01-01', HireDate) / 365) AS Years_Worked\r\n",
                "    \r\n",
                "FROM Employee\r\n",
                "ORDER BY Title ASC;"
            ],
            "metadata": {
                "language": "sql",
                "azdata_cell_guid": "2419291c-e4b7-499a-b9fb-bcbff5f8dad1"
            },
            "outputs": [
                {
                    "output_type": "display_data",
                    "data": {
                        "text/html": "(8 row(s) affected)"
                    },
                    "metadata": {}
                },
                {
                    "output_type": "display_data",
                    "data": {
                        "text/html": "Total execution time: 00:00:01.008"
                    },
                    "metadata": {}
                },
                {
                    "output_type": "execute_result",
                    "metadata": {},
                    "execution_count": 98,
                    "data": {
                        "application/vnd.dataresource+json": {
                            "schema": {
                                "fields": [
                                    {
                                        "name": "Id"
                                    },
                                    {
                                        "name": "Title"
                                    },
                                    {
                                        "name": "Employee_Name"
                                    },
                                    {
                                        "name": "Hire_Date"
                                    },
                                    {
                                        "name": "Days_Worked"
                                    },
                                    {
                                        "name": "Years_Worked"
                                    }
                                ]
                            },
                            "data": [
                                {
                                    "Id": "1",
                                    "Title": "General Manager",
                                    "Employee_Name": "Andrew Adams",
                                    "Hire_Date": "2002-08-14",
                                    "Days_Worked": "1601",
                                    "Years_Worked": "4"
                                },
                                {
                                    "Id": "6",
                                    "Title": "IT Manager",
                                    "Employee_Name": "Michael Mitchell",
                                    "Hire_Date": "2003-10-17",
                                    "Days_Worked": "1172",
                                    "Years_Worked": "3"
                                },
                                {
                                    "Id": "7",
                                    "Title": "IT Staff",
                                    "Employee_Name": "Robert King",
                                    "Hire_Date": "2004-01-02",
                                    "Days_Worked": "1095",
                                    "Years_Worked": "3"
                                },
                                {
                                    "Id": "8",
                                    "Title": "IT Staff",
                                    "Employee_Name": "Laura Callahan",
                                    "Hire_Date": "2004-03-04",
                                    "Days_Worked": "1033",
                                    "Years_Worked": "3"
                                },
                                {
                                    "Id": "2",
                                    "Title": "Sales Manager",
                                    "Employee_Name": "Nancy Edwards",
                                    "Hire_Date": "2002-05-01",
                                    "Days_Worked": "1706",
                                    "Years_Worked": "5"
                                },
                                {
                                    "Id": "3",
                                    "Title": "Sales Support Agent",
                                    "Employee_Name": "Jane Peacock",
                                    "Hire_Date": "2002-04-01",
                                    "Days_Worked": "1736",
                                    "Years_Worked": "5"
                                },
                                {
                                    "Id": "4",
                                    "Title": "Sales Support Agent",
                                    "Employee_Name": "Margaret Park",
                                    "Hire_Date": "2003-05-03",
                                    "Days_Worked": "1339",
                                    "Years_Worked": "4"
                                },
                                {
                                    "Id": "5",
                                    "Title": "Sales Support Agent",
                                    "Employee_Name": "Steve Johnson",
                                    "Hire_Date": "2003-10-17",
                                    "Days_Worked": "1172",
                                    "Years_Worked": "3"
                                }
                            ]
                        },
                        "text/html": [
                            "<table>",
                            "<tr><th>Id</th><th>Title</th><th>Employee_Name</th><th>Hire_Date</th><th>Days_Worked</th><th>Years_Worked</th></tr>",
                            "<tr><td>1</td><td>General Manager</td><td>Andrew Adams</td><td>2002-08-14</td><td>1601</td><td>4</td></tr>",
                            "<tr><td>6</td><td>IT Manager</td><td>Michael Mitchell</td><td>2003-10-17</td><td>1172</td><td>3</td></tr>",
                            "<tr><td>7</td><td>IT Staff</td><td>Robert King</td><td>2004-01-02</td><td>1095</td><td>3</td></tr>",
                            "<tr><td>8</td><td>IT Staff</td><td>Laura Callahan</td><td>2004-03-04</td><td>1033</td><td>3</td></tr>",
                            "<tr><td>2</td><td>Sales Manager</td><td>Nancy Edwards</td><td>2002-05-01</td><td>1706</td><td>5</td></tr>",
                            "<tr><td>3</td><td>Sales Support Agent</td><td>Jane Peacock</td><td>2002-04-01</td><td>1736</td><td>5</td></tr>",
                            "<tr><td>4</td><td>Sales Support Agent</td><td>Margaret Park</td><td>2003-05-03</td><td>1339</td><td>4</td></tr>",
                            "<tr><td>5</td><td>Sales Support Agent</td><td>Steve Johnson</td><td>2003-10-17</td><td>1172</td><td>3</td></tr>",
                            "</table>"
                        ]
                    }
                }
            ],
            "execution_count": 98
        },
        {
            "cell_type": "markdown",
            "source": [
                "# <span style=\"color: var(--vscode-foreground);\"><b>Track &amp; Album Sales:</b></span>\n",
                "\n",
                "## <span style=\"color: var(--vscode-foreground); font-size: 14px;\">10. Retrieve all track sales with important information:</span>\n",
                "\n",
                "- <span style=\"color: var(--vscode-foreground); font-size: 14px;\">Can use this as CTE so i retrieve the same information about how much each album has made in sales.</span>"
            ],
            "metadata": {
                "language": "sql",
                "azdata_cell_guid": "38992e65-fd5b-442a-b2fa-0b670a3f344a"
            },
            "attachments": {}
        },
        {
            "cell_type": "code",
            "source": [
                "WITH TrackSales AS (\r\n",
                "    SELECT \r\n",
                "        t.TrackId,\r\n",
                "        t.Name AS TrackName,\r\n",
                "        a.Title AS AlbumTitle,\r\n",
                "        SUM(il.UnitPrice) AS TotalSales\r\n",
                "\r\n",
                "    FROM Track t\r\n",
                "    JOIN InvoiceLine il ON t.TrackId = il.TrackId\r\n",
                "    JOIN Album a ON t.AlbumId = a.AlbumId\r\n",
                "    GROUP BY t.TrackId, t.Name, a.Title\r\n",
                "    ORDER BY TotalSales DESC\r\n",
                ")\r\n",
                "\r\n",
                "SELECT *\r\n",
                "FROM TrackSales"
            ],
            "metadata": {
                "language": "sql",
                "azdata_cell_guid": "5cff8fed-b450-4555-bdcd-a41ced4055e3",
                "tags": []
            },
            "outputs": [
                {
                    "output_type": "display_data",
                    "data": {
                        "text/html": "(1984 row(s) affected)"
                    },
                    "metadata": {}
                },
                {
                    "output_type": "display_data",
                    "data": {
                        "text/html": "Total execution time: 00:00:01.033"
                    },
                    "metadata": {}
                },
                {
                    "output_type": "execute_result",
                    "metadata": {},
                    "execution_count": 99,
                    "data": {
                        "application/vnd.dataresource+json": {
                            "schema": {
                                "fields": [
                                    {
                                        "name": "TrackId"
                                    },
                                    {
                                        "name": "TrackName"
                                    },
                                    {
                                        "name": "AlbumTitle"
                                    },
                                    {
                                        "name": "TotalSales"
                                    }
                                ]
                            },
                            "data": [
                                {
                                    "TrackId": "2832",
                                    "TrackName": "The Woman King",
                                    "AlbumTitle": "Battlestar Galactica, Season 3",
                                    "TotalSales": "3.98"
                                },
                                {
                                    "TrackId": "2850",
                                    "TrackName": "The Fix",
                                    "AlbumTitle": "Heroes, Season 1",
                                    "TotalSales": "3.98"
                                },
                                {
                                    "TrackId": "2868",
                                    "TrackName": "Walkabout",
                                    "AlbumTitle": "Lost, Season 1",
                                    "TotalSales": "3.98"
                                },
                                {
                                    "TrackId": "3214",
                                    "TrackName": "Phyllis's Wedding",
                                    "AlbumTitle": "The Office, Season 3",
                                    "TotalSales": "3.98"
                                },
                                {
                                    "TrackId": "3223",
                                    "TrackName": "How to Stop an Exploding Man",
                                    "AlbumTitle": "Heroes, Season 1",
                                    "TotalSales": "3.98"
                                },
                                {
                                    "TrackId": "3250",
                                    "TrackName": "Pilot",
                                    "AlbumTitle": "Aquaman",
                                    "TotalSales": "3.98"
                                },
                                {
                                    "TrackId": "3200",
                                    "TrackName": "Gay Witch Hunt",
                                    "AlbumTitle": "The Office, Season 3",
                                    "TotalSales": "3.98"
                                },
                                {
                                    "TrackId": "3177",
                                    "TrackName": "Hot Girl",
                                    "AlbumTitle": "The Office, Season 1",
                                    "TotalSales": "3.98"
                                },
                                {
                                    "TrackId": "2820",
                                    "TrackName": "Occupation / Precipice",
                                    "AlbumTitle": "Battlestar Galactica, Season 3",
                                    "TotalSales": "1.99"
                                },
                                {
                                    "TrackId": "2826",
                                    "TrackName": "Hero",
                                    "AlbumTitle": "Battlestar Galactica, Season 3",
                                    "TotalSales": "1.99"
                                },
                                {
                                    "TrackId": "2838",
                                    "TrackName": "Crossroads, Pt. 2",
                                    "AlbumTitle": "Battlestar Galactica, Season 3",
                                    "TotalSales": "1.99"
                                },
                                {
                                    "TrackId": "2844",
                                    "TrackName": "Better Halves",
                                    "AlbumTitle": "Heroes, Season 1",
                                    "TotalSales": "1.99"
                                },
                                {
                                    "TrackId": "2856",
                                    "TrackName": "Parasite",
                                    "AlbumTitle": "Heroes, Season 1",
                                    "TotalSales": "1.99"
                                },
                                {
                                    "TrackId": "2862",
                                    "TrackName": "The Glass Ballerina",
                                    "AlbumTitle": "Lost, Season 3",
                                    "TotalSales": "1.99"
                                },
                                {
                                    "TrackId": "2874",
                                    "TrackName": "I Do",
                                    "AlbumTitle": "Lost, Season 3",
                                    "TotalSales": "1.99"
                                },
                                {
                                    "TrackId": "2883",
                                    "TrackName": "Solitary",
                                    "AlbumTitle": "Lost, Season 1",
                                    "TotalSales": "1.99"
                                },
                                {
                                    "TrackId": "2892",
                                    "TrackName": "Fire + Water",
                                    "AlbumTitle": "Lost, Season 2",
                                    "TotalSales": "1.99"
                                },
                                {
                                    "TrackId": "2901",
                                    "TrackName": "Homecoming",
                                    "AlbumTitle": "Lost, Season 1",
                                    "TotalSales": "1.99"
                                },
                                {
                                    "TrackId": "2910",
                                    "TrackName": "Dave",
                                    "AlbumTitle": "Lost, Season 2",
                                    "TotalSales": "1.99"
                                },
                                {
                                    "TrackId": "2919",
                                    "TrackName": "Born to Run",
                                    "AlbumTitle": "Lost, Season 1",
                                    "TotalSales": "1.99"
                                },
                                {
                                    "TrackId": "3169",
                                    "TrackName": "The Man Behind the Curtain",
                                    "AlbumTitle": "Lost, Season 3",
                                    "TotalSales": "1.99"
                                },
                                {
                                    "TrackId": "3178",
                                    "TrackName": "The Dundies",
                                    "AlbumTitle": "The Office, Season 2",
                                    "TotalSales": "1.99"
                                },
                                {
                                    "TrackId": "3187",
                                    "TrackName": "Christmas Party",
                                    "AlbumTitle": "The Office, Season 2",
                                    "TotalSales": "1.99"
                                },
                                {
                                    "TrackId": "3196",
                                    "TrackName": "Michael's Birthday",
                                    "AlbumTitle": "The Office, Season 2",
                                    "TotalSales": "1.99"
                                },
                                {
                                    "TrackId": "3205",
                                    "TrackName": "Diwali",
                                    "AlbumTitle": "The Office, Season 3",
                                    "TotalSales": "1.99"
                                },
                                {
                                    "TrackId": "3232",
                                    "TrackName": "The Long Patrol",
                                    "AlbumTitle": "Battlestar Galactica (Classic), Season 1",
                                    "TotalSales": "1.99"
                                },
                                {
                                    "TrackId": "3246",
                                    "TrackName": "Baltar's Escape",
                                    "AlbumTitle": "Battlestar Galactica (Classic), Season 1",
                                    "TotalSales": "1.99"
                                },
                                {
                                    "TrackId": "3247",
                                    "TrackName": "Experiment In Terra",
                                    "AlbumTitle": "Battlestar Galactica (Classic), Season 1",
                                    "TotalSales": "1.99"
                                },
                                {
                                    "TrackId": "3248",
                                    "TrackName": "Take the Celestra",
                                    "AlbumTitle": "Battlestar Galactica (Classic), Season 1",
                                    "TotalSales": "1.99"
                                },
                                {
                                    "TrackId": "3252",
                                    "TrackName": "Through the Looking Glass, Pt. 1",
                                    "AlbumTitle": "Lost, Season 3",
                                    "TotalSales": "1.99"
                                },
                                {
                                    "TrackId": "3338",
                                    "TrackName": "The Beginning of the End",
                                    "AlbumTitle": "LOST, Season 4",
                                    "TotalSales": "1.99"
                                },
                                {
                                    "TrackId": "3347",
                                    "TrackName": "Meet Kevin Johnson",
                                    "AlbumTitle": "LOST, Season 4",
                                    "TotalSales": "1.99"
                                },
                                {
                                    "TrackId": "3428",
                                    "TrackName": "Branch Closing",
                                    "AlbumTitle": "The Office, Season 3",
                                    "TotalSales": "1.99"
                                },
                                {
                                    "TrackId": "2821",
                                    "TrackName": "Exodus, Pt. 1",
                                    "AlbumTitle": "Battlestar Galactica, Season 3",
                                    "TotalSales": "1.99"
                                },
                                {
                                    "TrackId": "2827",
                                    "TrackName": "Unfinished Business",
                                    "AlbumTitle": "Battlestar Galactica, Season 3",
                                    "TotalSales": "1.99"
                                },
                                {
                                    "TrackId": "2833",
                                    "TrackName": "A Day In the Life",
                                    "AlbumTitle": "Battlestar Galactica, Season 3",
                                    "TotalSales": "1.99"
                                },
                                {
                                    "TrackId": "2839",
                                    "TrackName": "Genesis",
                                    "AlbumTitle": "Heroes, Season 1",
                                    "TotalSales": "1.99"
                                },
                                {
                                    "TrackId": "2845",
                                    "TrackName": "Nothing to Hide",
                                    "AlbumTitle": "Heroes, Season 1",
                                    "TotalSales": "1.99"
                                },
                                {
                                    "TrackId": "2851",
                                    "TrackName": "Distractions",
                                    "AlbumTitle": "Heroes, Season 1",
                                    "TotalSales": "1.99"
                                },
                                {
                                    "TrackId": "2860",
                                    "TrackName": "Adrift",
                                    "AlbumTitle": "Lost, Season 2",
                                    "TotalSales": "1.99"
                                },
                                {
                                    "TrackId": "2869",
                                    "TrackName": "...And Found",
                                    "AlbumTitle": "Lost, Season 2",
                                    "TotalSales": "1.99"
                                },
                                {
                                    "TrackId": "2878",
                                    "TrackName": "The Other 48 Days",
                                    "AlbumTitle": "Lost, Season 2",
                                    "TotalSales": "1.99"
                                },
                                {
                                    "TrackId": "2887",
                                    "TrackName": "The 23rd Psalm",
                                    "AlbumTitle": "Lost, Season 2",
                                    "TotalSales": "1.99"
                                },
                                {
                                    "TrackId": "2896",
                                    "TrackName": "The Long Con",
                                    "AlbumTitle": "Lost, Season 2",
                                    "TotalSales": "1.99"
                                },
                                {
                                    "TrackId": "2905",
                                    "TrackName": "The Whole Truth",
                                    "AlbumTitle": "Lost, Season 2",
                                    "TotalSales": "1.99"
                                },
                                {
                                    "TrackId": "2914",
                                    "TrackName": "S.O.S.",
                                    "AlbumTitle": "Lost, Season 2",
                                    "TotalSales": "1.99"
                                },
                                {
                                    "TrackId": "2923",
                                    "TrackName": "Exodus (Part 2) [Season Finale]",
                                    "AlbumTitle": "Lost, Season 1",
                                    "TotalSales": "1.99"
                                },
                                {
                                    "TrackId": "3173",
                                    "TrackName": "Diversity Day",
                                    "AlbumTitle": "The Office, Season 1",
                                    "TotalSales": "1.99"
                                },
                                {
                                    "TrackId": "3182",
                                    "TrackName": "Halloween",
                                    "AlbumTitle": "The Office, Season 2",
                                    "TotalSales": "1.99"
                                },
                                {
                                    "TrackId": "3191",
                                    "TrackName": "The Carpet",
                                    "AlbumTitle": "The Office, Season 2",
                                    "TotalSales": "1.99"
                                },
                                {
                                    "TrackId": "3209",
                                    "TrackName": "A Benihana Christmas, Pts. 1 & 2",
                                    "AlbumTitle": "The Office, Season 3",
                                    "TotalSales": "1.99"
                                },
                                {
                                    "TrackId": "3224",
                                    "TrackName": "Through a Looking Glass",
                                    "AlbumTitle": "Lost, Season 3",
                                    "TotalSales": "1.99"
                                },
                                {
                                    "TrackId": "3227",
                                    "TrackName": "Battlestar Galactica, Pt. 2",
                                    "AlbumTitle": "Battlestar Galactica (Classic), Season 1",
                                    "TotalSales": "1.99"
                                },
                                {
                                    "TrackId": "3229",
                                    "TrackName": "Lost Planet of the Gods, Pt. 1",
                                    "AlbumTitle": "Battlestar Galactica (Classic), Season 1",
                                    "TotalSales": "1.99"
                                },
                                {
                                    "TrackId": "3231",
                                    "TrackName": "The Lost Warrior",
                                    "AlbumTitle": "Battlestar Galactica (Classic), Season 1",
                                    "TotalSales": "1.99"
                                },
                                {
                                    "TrackId": "3233",
                                    "TrackName": "The Gun On Ice Planet Zero, Pt. 1",
                                    "AlbumTitle": "Battlestar Galactica (Classic), Season 1",
                                    "TotalSales": "1.99"
                                },
                                {
                                    "TrackId": "3235",
                                    "TrackName": "The Magnificent Warriors",
                                    "AlbumTitle": "Battlestar Galactica (Classic), Season 1",
                                    "TotalSales": "1.99"
                                },
                                {
                                    "TrackId": "3237",
                                    "TrackName": "The Living Legend, Pt. 1",
                                    "AlbumTitle": "Battlestar Galactica (Classic), Season 1",
                                    "TotalSales": "1.99"
                                },
                                {
                                    "TrackId": "3241",
                                    "TrackName": "War of the Gods, Pt. 2",
                                    "AlbumTitle": "Battlestar Galactica (Classic), Season 1",
                                    "TotalSales": "1.99"
                                },
                                {
                                    "TrackId": "3245",
                                    "TrackName": "Greetings from Earth, Pt. 2",
                                    "AlbumTitle": "Battlestar Galactica (Classic), Season 1",
                                    "TotalSales": "1.99"
                                },
                                {
                                    "TrackId": "3249",
                                    "TrackName": "The Hand of God",
                                    "AlbumTitle": "Battlestar Galactica (Classic), Season 1",
                                    "TotalSales": "1.99"
                                },
                                {
                                    "TrackId": "3342",
                                    "TrackName": "The Economist",
                                    "AlbumTitle": "LOST, Season 4",
                                    "TotalSales": "1.99"
                                },
                                {
                                    "TrackId": "3360",
                                    "TrackName": "Something Nice Back Home",
                                    "AlbumTitle": "LOST, Season 4",
                                    "TotalSales": "1.99"
                                },
                                {
                                    "TrackId": "2822",
                                    "TrackName": "Exodus, Pt. 2",
                                    "AlbumTitle": "Battlestar Galactica, Season 3",
                                    "TotalSales": "1.99"
                                },
                                {
                                    "TrackId": "2828",
                                    "TrackName": "The Passage",
                                    "AlbumTitle": "Battlestar Galactica, Season 3",
                                    "TotalSales": "1.99"
                                },
                                {
                                    "TrackId": "2837",
                                    "TrackName": "Crossroads, Pt. 1",
                                    "AlbumTitle": "Battlestar Galactica, Season 3",
                                    "TotalSales": "1.99"
                                },
                                {
                                    "TrackId": "2846",
                                    "TrackName": "Seven Minutes to Midnight",
                                    "AlbumTitle": "Heroes, Season 1",
                                    "TotalSales": "1.99"
                                },
                                {
                                    "TrackId": "2855",
                                    "TrackName": "Company Man",
                                    "AlbumTitle": "Heroes, Season 1",
                                    "TotalSales": "1.99"
                                },
                                {
                                    "TrackId": "2864",
                                    "TrackName": "Orientation",
                                    "AlbumTitle": "Lost, Season 2",
                                    "TotalSales": "1.99"
                                },
                                {
                                    "TrackId": "2873",
                                    "TrackName": "House of the Rising Sun",
                                    "AlbumTitle": "Lost, Season 1",
                                    "TotalSales": "1.99"
                                },
                                {
                                    "TrackId": "2882",
                                    "TrackName": "Lost Survival Guide",
                                    "AlbumTitle": "Lost, Season 3",
                                    "TotalSales": "1.99"
                                },
                                {
                                    "TrackId": "2891",
                                    "TrackName": "Enter 77",
                                    "AlbumTitle": "Lost, Season 3",
                                    "TotalSales": "1.99"
                                },
                                {
                                    "TrackId": "2900",
                                    "TrackName": "Exposé",
                                    "AlbumTitle": "Lost, Season 3",
                                    "TotalSales": "1.99"
                                },
                                {
                                    "TrackId": "2909",
                                    "TrackName": "Catch-22",
                                    "AlbumTitle": "Lost, Season 3",
                                    "TotalSales": "1.99"
                                },
                                {
                                    "TrackId": "2918",
                                    "TrackName": "\"?\"",
                                    "AlbumTitle": "Lost, Season 2",
                                    "TotalSales": "1.99"
                                },
                                {
                                    "TrackId": "3168",
                                    "TrackName": "The Hard Part",
                                    "AlbumTitle": "Heroes, Season 1",
                                    "TotalSales": "1.99"
                                },
                                {
                                    "TrackId": "3186",
                                    "TrackName": "Email Surveillance",
                                    "AlbumTitle": "The Office, Season 2",
                                    "TotalSales": "1.99"
                                },
                                {
                                    "TrackId": "3201",
                                    "TrackName": "The Convention",
                                    "AlbumTitle": "The Office, Season 3",
                                    "TotalSales": "1.99"
                                },
                                {
                                    "TrackId": "3202",
                                    "TrackName": "The Coup",
                                    "AlbumTitle": "The Office, Season 3",
                                    "TotalSales": "1.99"
                                },
                                {
                                    "TrackId": "3204",
                                    "TrackName": "The Initiation",
                                    "AlbumTitle": "The Office, Season 3",
                                    "TotalSales": "1.99"
                                },
                                {
                                    "TrackId": "3206",
                                    "TrackName": "Branch Closing",
                                    "AlbumTitle": "The Office, Season 3",
                                    "TotalSales": "1.99"
                                },
                                {
                                    "TrackId": "3208",
                                    "TrackName": "The Convict",
                                    "AlbumTitle": "The Office, Season 3",
                                    "TotalSales": "1.99"
                                },
                                {
                                    "TrackId": "3210",
                                    "TrackName": "Back from Vacation",
                                    "AlbumTitle": "The Office, Season 3",
                                    "TotalSales": "1.99"
                                },
                                {
                                    "TrackId": "3212",
                                    "TrackName": "Producer's Cut: The Return",
                                    "AlbumTitle": "The Office, Season 3",
                                    "TotalSales": "1.99"
                                },
                                {
                                    "TrackId": "3218",
                                    "TrackName": "Safety Training",
                                    "AlbumTitle": "The Office, Season 3",
                                    "TotalSales": "1.99"
                                },
                                {
                                    "TrackId": "3222",
                                    "TrackName": "The Job",
                                    "AlbumTitle": "The Office, Season 3",
                                    "TotalSales": "1.99"
                                },
                                {
                                    "TrackId": "3226",
                                    "TrackName": "Battlestar Galactica, Pt. 1",
                                    "AlbumTitle": "Battlestar Galactica (Classic), Season 1",
                                    "TotalSales": "1.99"
                                },
                                {
                                    "TrackId": "3230",
                                    "TrackName": "Lost Planet of the Gods, Pt. 2",
                                    "AlbumTitle": "Battlestar Galactica (Classic), Season 1",
                                    "TotalSales": "1.99"
                                },
                                {
                                    "TrackId": "3234",
                                    "TrackName": "The Gun On Ice Planet Zero, Pt. 2",
                                    "AlbumTitle": "Battlestar Galactica (Classic), Season 1",
                                    "TotalSales": "1.99"
                                },
                                {
                                    "TrackId": "3238",
                                    "TrackName": "The Living Legend, Pt. 2",
                                    "AlbumTitle": "Battlestar Galactica (Classic), Season 1",
                                    "TotalSales": "1.99"
                                },
                                {
                                    "TrackId": "3244",
                                    "TrackName": "Greetings from Earth, Pt. 1",
                                    "AlbumTitle": "Battlestar Galactica (Classic), Season 1",
                                    "TotalSales": "1.99"
                                },
                                {
                                    "TrackId": "3337",
                                    "TrackName": "Past, Present, and Future",
                                    "AlbumTitle": "LOST, Season 4",
                                    "TotalSales": "1.99"
                                },
                                {
                                    "TrackId": "3346",
                                    "TrackName": "Ji Yeon",
                                    "AlbumTitle": "LOST, Season 4",
                                    "TotalSales": "1.99"
                                },
                                {
                                    "TrackId": "3364",
                                    "TrackName": "There's No Place Like Home, Pt. 3",
                                    "AlbumTitle": "LOST, Season 4",
                                    "TotalSales": "1.99"
                                },
                                {
                                    "TrackId": "2823",
                                    "TrackName": "Collaborators",
                                    "AlbumTitle": "Battlestar Galactica, Season 3",
                                    "TotalSales": "1.99"
                                },
                                {
                                    "TrackId": "2841",
                                    "TrackName": "One Giant Leap",
                                    "AlbumTitle": "Heroes, Season 1",
                                    "TotalSales": "1.99"
                                },
                                {
                                    "TrackId": "2859",
                                    "TrackName": "Man of Science, Man of Faith (Premiere)",
                                    "AlbumTitle": "Lost, Season 2",
                                    "TotalSales": "1.99"
                                },
                                {
                                    "TrackId": "2877",
                                    "TrackName": "The Moth",
                                    "AlbumTitle": "Lost, Season 1",
                                    "TotalSales": "1.99"
                                },
                                {
                                    "TrackId": "2886",
                                    "TrackName": "Stranger In a Strange Land",
                                    "AlbumTitle": "Lost, Season 3",
                                    "TotalSales": "1.99"
                                },
                                {
                                    "TrackId": "2895",
                                    "TrackName": "Par Avion",
                                    "AlbumTitle": "Lost, Season 3",
                                    "TotalSales": "1.99"
                                },
                                {
                                    "TrackId": "2904",
                                    "TrackName": "Outlaws",
                                    "AlbumTitle": "Lost, Season 1",
                                    "TotalSales": "1.99"
                                },
                                {
                                    "TrackId": "2913",
                                    "TrackName": "Deus Ex Machina",
                                    "AlbumTitle": "Lost, Season 1",
                                    "TotalSales": "1.99"
                                },
                                {
                                    "TrackId": "2922",
                                    "TrackName": "Live Together, Die Alone, Pt. 1",
                                    "AlbumTitle": "Lost, Season 2",
                                    "TotalSales": "1.99"
                                },
                                {
                                    "TrackId": "2",
                                    "TrackName": "Balls to the Wall",
                                    "AlbumTitle": "Balls to the Wall",
                                    "TotalSales": "1.98"
                                },
                                {
                                    "TrackId": "8",
                                    "TrackName": "Inject The Venom",
                                    "AlbumTitle": "For Those About To Rock We Salute You",
                                    "TotalSales": "1.98"
                                },
                                {
                                    "TrackId": "20",
                                    "TrackName": "Overdose",
                                    "AlbumTitle": "Let There Be Rock",
                                    "TotalSales": "1.98"
                                },
                                {
                                    "TrackId": "32",
                                    "TrackName": "Deuces Are Wild",
                                    "AlbumTitle": "Big Ones",
                                    "TotalSales": "1.98"
                                },
                                {
                                    "TrackId": "48",
                                    "TrackName": "Not The Doctor",
                                    "AlbumTitle": "Jagged Little Pill",
                                    "TotalSales": "1.98"
                                },
                                {
                                    "TrackId": "66",
                                    "TrackName": "Por Causa De Você",
                                    "AlbumTitle": "Warner 25 Anos",
                                    "TotalSales": "1.98"
                                },
                                {
                                    "TrackId": "84",
                                    "TrackName": "Welcome Home (Sanitarium)",
                                    "AlbumTitle": "Plays Metallica By Four Cellos",
                                    "TotalSales": "1.98"
                                },
                                {
                                    "TrackId": "162",
                                    "TrackName": "Cornucopia",
                                    "AlbumTitle": "Black Sabbath Vol. 4 (Remaster)",
                                    "TotalSales": "1.98"
                                },
                                {
                                    "TrackId": "171",
                                    "TrackName": "Bowels Of The Devil",
                                    "AlbumTitle": "Body Count",
                                    "TotalSales": "1.98"
                                },
                                {
                                    "TrackId": "198",
                                    "TrackName": "When My Left Eye Jumps",
                                    "AlbumTitle": "The Best Of Buddy Guy - The Millenium Collection",
                                    "TotalSales": "1.98"
                                },
                                {
                                    "TrackId": "207",
                                    "TrackName": "Meditação",
                                    "AlbumTitle": "Prenda Minha",
                                    "TotalSales": "1.98"
                                },
                                {
                                    "TrackId": "234",
                                    "TrackName": "Morena De Angola",
                                    "AlbumTitle": "Minha Historia",
                                    "TotalSales": "1.98"
                                },
                                {
                                    "TrackId": "240",
                                    "TrackName": "Meu Caro Amigo",
                                    "AlbumTitle": "Minha Historia",
                                    "TotalSales": "1.98"
                                },
                                {
                                    "TrackId": "252",
                                    "TrackName": "Samba Do Lado",
                                    "AlbumTitle": "Afrociberdelia",
                                    "TotalSales": "1.98"
                                },
                                {
                                    "TrackId": "264",
                                    "TrackName": "Amor De Muito",
                                    "AlbumTitle": "Afrociberdelia",
                                    "TotalSales": "1.98"
                                },
                                {
                                    "TrackId": "280",
                                    "TrackName": "Lixo Do Mangue",
                                    "AlbumTitle": "Da Lama Ao Caos",
                                    "TotalSales": "1.98"
                                },
                                {
                                    "TrackId": "298",
                                    "TrackName": "A Cor Do Sol",
                                    "AlbumTitle": "Acústico MTV [Live]",
                                    "TotalSales": "1.98"
                                },
                                {
                                    "TrackId": "316",
                                    "TrackName": "Linha Do Equador",
                                    "AlbumTitle": "Na Pista",
                                    "TotalSales": "1.98"
                                },
                                {
                                    "TrackId": "394",
                                    "TrackName": "Tanto Tempo",
                                    "AlbumTitle": "Chill: Brazil (Disc 2)",
                                    "TotalSales": "1.98"
                                },
                                {
                                    "TrackId": "403",
                                    "TrackName": "Bumbo Da Mangueira",
                                    "AlbumTitle": "Chill: Brazil (Disc 2)",
                                    "TotalSales": "1.98"
                                },
                                {
                                    "TrackId": "430",
                                    "TrackName": "I'm Going Slightly Mad",
                                    "AlbumTitle": "Greatest Hits II",
                                    "TotalSales": "1.98"
                                },
                                {
                                    "TrackId": "439",
                                    "TrackName": "Sure Know Something",
                                    "AlbumTitle": "Greatest Kiss",
                                    "TotalSales": "1.98"
                                },
                                {
                                    "TrackId": "466",
                                    "TrackName": "J Squared",
                                    "AlbumTitle": "Heart of the Night",
                                    "TotalSales": "1.98"
                                },
                                {
                                    "TrackId": "472",
                                    "TrackName": "Basket Case",
                                    "AlbumTitle": "International Superhits",
                                    "TotalSales": "1.98"
                                },
                                {
                                    "TrackId": "484",
                                    "TrackName": "Nice Guys Finish Last",
                                    "AlbumTitle": "International Superhits",
                                    "TotalSales": "1.98"
                                },
                                {
                                    "TrackId": "496",
                                    "TrackName": "Living On Love",
                                    "AlbumTitle": "Into The Light",
                                    "TotalSales": "1.98"
                                },
                                {
                                    "TrackId": "512",
                                    "TrackName": "Comportamento Geral",
                                    "AlbumTitle": "Meus Momentos",
                                    "TotalSales": "1.98"
                                },
                                {
                                    "TrackId": "530",
                                    "TrackName": "Ando Meio Desligado",
                                    "AlbumTitle": "Minha História",
                                    "TotalSales": "1.98"
                                },
                                {
                                    "TrackId": "548",
                                    "TrackName": "Smoke On The Water",
                                    "AlbumTitle": "MK III The Final Concerts [Disc 1]",
                                    "TotalSales": "1.98"
                                },
                                {
                                    "TrackId": "626",
                                    "TrackName": "Drum Boogie",
                                    "AlbumTitle": "Up An' Atom",
                                    "TotalSales": "1.98"
                                },
                                {
                                    "TrackId": "635",
                                    "TrackName": "Lemon Drop",
                                    "AlbumTitle": "Up An' Atom",
                                    "TotalSales": "1.98"
                                },
                                {
                                    "TrackId": "662",
                                    "TrackName": "Pela Luz dos Olhos Teus (Miúcha e Tom Jobim)",
                                    "AlbumTitle": "Vozes do MPB",
                                    "TotalSales": "1.98"
                                },
                                {
                                    "TrackId": "671",
                                    "TrackName": "As Rosas Não Falam (Beth Carvalho)",
                                    "AlbumTitle": "Vozes do MPB",
                                    "TotalSales": "1.98"
                                },
                                {
                                    "TrackId": "698",
                                    "TrackName": "Good Golly Miss Molly",
                                    "AlbumTitle": "Chronicle, Vol. 2",
                                    "TotalSales": "1.98"
                                },
                                {
                                    "TrackId": "704",
                                    "TrackName": "Don't Look Now",
                                    "AlbumTitle": "Chronicle, Vol. 2",
                                    "TotalSales": "1.98"
                                },
                                {
                                    "TrackId": "716",
                                    "TrackName": "Brasil",
                                    "AlbumTitle": "Cássia Eller - Coleção Sem Limite [Disc 2]",
                                    "TotalSales": "1.98"
                                },
                                {
                                    "TrackId": "728",
                                    "TrackName": "Woman Of The World (Ao Vivo)",
                                    "AlbumTitle": "Cássia Eller - Coleção Sem Limite [Disc 2]",
                                    "TotalSales": "1.98"
                                },
                                {
                                    "TrackId": "744",
                                    "TrackName": "Mis Penas Lloraba Yo (Ao Vivo) Soy Gitano (Tangos)",
                                    "AlbumTitle": "Cássia Eller - Sem Limite [Disc 1]",
                                    "TotalSales": "1.98"
                                },
                                {
                                    "TrackId": "762",
                                    "TrackName": "No No No",
                                    "AlbumTitle": "Fireball",
                                    "TotalSales": "1.98"
                                },
                                {
                                    "TrackId": "780",
                                    "TrackName": "Maybe I'm A Leo",
                                    "AlbumTitle": "Machine Head",
                                    "TotalSales": "1.98"
                                },
                                {
                                    "TrackId": "858",
                                    "TrackName": "Esquinas",
                                    "AlbumTitle": "Djavan Ao Vivo - Vol. 02",
                                    "TotalSales": "1.98"
                                },
                                {
                                    "TrackId": "867",
                                    "TrackName": "Açai",
                                    "AlbumTitle": "Djavan Ao Vivo - Vol. 1",
                                    "TotalSales": "1.98"
                                },
                                {
                                    "TrackId": "894",
                                    "TrackName": "Sunshine Of Your Love",
                                    "AlbumTitle": "The Cream Of Clapton",
                                    "TotalSales": "1.98"
                                },
                                {
                                    "TrackId": "903",
                                    "TrackName": "Lay Down Sally",
                                    "AlbumTitle": "The Cream Of Clapton",
                                    "TotalSales": "1.98"
                                },
                                {
                                    "TrackId": "930",
                                    "TrackName": "She Loves Me Not",
                                    "AlbumTitle": "Album Of The Year",
                                    "TotalSales": "1.98"
                                },
                                {
                                    "TrackId": "936",
                                    "TrackName": "Caffeine",
                                    "AlbumTitle": "Angel Dust",
                                    "TotalSales": "1.98"
                                },
                                {
                                    "TrackId": "948",
                                    "TrackName": "Easy",
                                    "AlbumTitle": "Angel Dust",
                                    "TotalSales": "1.98"
                                },
                                {
                                    "TrackId": "960",
                                    "TrackName": "What A Day",
                                    "AlbumTitle": "King For A Day Fool For A Lifetime",
                                    "TotalSales": "1.98"
                                },
                                {
                                    "TrackId": "976",
                                    "TrackName": "Falamansa Song",
                                    "AlbumTitle": "Deixa Entrar",
                                    "TotalSales": "1.98"
                                },
                                {
                                    "TrackId": "994",
                                    "TrackName": "The Last Song",
                                    "AlbumTitle": "In Your Honor [Disc 1]",
                                    "TotalSales": "1.98"
                                },
                                {
                                    "TrackId": "1012",
                                    "TrackName": "Times Like These",
                                    "AlbumTitle": "One By One",
                                    "TotalSales": "1.98"
                                },
                                {
                                    "TrackId": "1090",
                                    "TrackName": "Stir It Up (Live)",
                                    "AlbumTitle": "Quanta Gente Veio Ver (Live)",
                                    "TotalSales": "1.98"
                                },
                                {
                                    "TrackId": "1099",
                                    "TrackName": "A Novidade (Live)",
                                    "AlbumTitle": "Quanta Gente Veio Ver (Live)",
                                    "TotalSales": "1.98"
                                },
                                {
                                    "TrackId": "1126",
                                    "TrackName": "Re-Align",
                                    "AlbumTitle": "Faceless",
                                    "TotalSales": "1.98"
                                },
                                {
                                    "TrackId": "1135",
                                    "TrackName": "Holiday",
                                    "AlbumTitle": "American Idiot",
                                    "TotalSales": "1.98"
                                },
                                {
                                    "TrackId": "1162",
                                    "TrackName": "Perfect Crime",
                                    "AlbumTitle": "Use Your Illusion I",
                                    "TotalSales": "1.98"
                                },
                                {
                                    "TrackId": "1168",
                                    "TrackName": "The Garden",
                                    "AlbumTitle": "Use Your Illusion I",
                                    "TotalSales": "1.98"
                                },
                                {
                                    "TrackId": "1180",
                                    "TrackName": "Breakdown",
                                    "AlbumTitle": "Use Your Illusion II",
                                    "TotalSales": "1.98"
                                },
                                {
                                    "TrackId": "1192",
                                    "TrackName": "L'Arc En Ciel De Miles",
                                    "AlbumTitle": "Blue Moods",
                                    "TotalSales": "1.98"
                                },
                                {
                                    "TrackId": "1208",
                                    "TrackName": "For the Greater Good of God",
                                    "AlbumTitle": "A Matter of Life and Death",
                                    "TotalSales": "1.98"
                                },
                                {
                                    "TrackId": "1226",
                                    "TrackName": "Can I Play With Madness",
                                    "AlbumTitle": "A Real Live One",
                                    "TotalSales": "1.98"
                                },
                                {
                                    "TrackId": "1244",
                                    "TrackName": "The Thin Line Between Love & Hate",
                                    "AlbumTitle": "Brave New World",
                                    "TotalSales": "1.98"
                                },
                                {
                                    "TrackId": "1322",
                                    "TrackName": "The Trooper",
                                    "AlbumTitle": "Live At Donington 1992 (Disc 2)",
                                    "TotalSales": "1.98"
                                },
                                {
                                    "TrackId": "1331",
                                    "TrackName": "Run Silent Run Deep",
                                    "AlbumTitle": "No Prayer For The Dying",
                                    "TotalSales": "1.98"
                                },
                                {
                                    "TrackId": "1358",
                                    "TrackName": "Blood Brothers",
                                    "AlbumTitle": "Rock In Rio [CD1]",
                                    "TotalSales": "1.98"
                                },
                                {
                                    "TrackId": "1367",
                                    "TrackName": "The Number Of The Beast",
                                    "AlbumTitle": "Rock In Rio [CD2]",
                                    "TotalSales": "1.98"
                                },
                                {
                                    "TrackId": "1394",
                                    "TrackName": "The Prisoner",
                                    "AlbumTitle": "The Number of The Beast",
                                    "TotalSales": "1.98"
                                },
                                {
                                    "TrackId": "1400",
                                    "TrackName": "The Aftermath",
                                    "AlbumTitle": "The X Factor",
                                    "TotalSales": "1.98"
                                },
                                {
                                    "TrackId": "1412",
                                    "TrackName": "Don't Look To The Eyes Of A Stranger",
                                    "AlbumTitle": "Virtual XI",
                                    "TotalSales": "1.98"
                                },
                                {
                                    "TrackId": "1424",
                                    "TrackName": "Hey America",
                                    "AlbumTitle": "Sex Machine",
                                    "TotalSales": "1.98"
                                },
                                {
                                    "TrackId": "1440",
                                    "TrackName": "Whatever It Is, I Just Can't Stop",
                                    "AlbumTitle": "Emergency On Planet Earth",
                                    "TotalSales": "1.98"
                                },
                                {
                                    "TrackId": "1458",
                                    "TrackName": "Light Years",
                                    "AlbumTitle": "The Return Of The Space Cowboy",
                                    "TotalSales": "1.98"
                                },
                                {
                                    "TrackId": "1476",
                                    "TrackName": "Take It Or Leave It",
                                    "AlbumTitle": "Get Born",
                                    "TotalSales": "1.98"
                                },
                                {
                                    "TrackId": "1554",
                                    "TrackName": "Turbo Lover",
                                    "AlbumTitle": "Living After Midnight",
                                    "TotalSales": "1.98"
                                },
                                {
                                    "TrackId": "1563",
                                    "TrackName": "Plaster Caster",
                                    "AlbumTitle": "Unplugged [Live]",
                                    "TotalSales": "1.98"
                                },
                                {
                                    "TrackId": "1590",
                                    "TrackName": "Walter's Walk",
                                    "AlbumTitle": "Coda",
                                    "TotalSales": "1.98"
                                },
                                {
                                    "TrackId": "1599",
                                    "TrackName": "Dancing Days",
                                    "AlbumTitle": "Houses Of The Holy",
                                    "TotalSales": "1.98"
                                },
                                {
                                    "TrackId": "1626",
                                    "TrackName": "How Many More Times",
                                    "AlbumTitle": "Led Zeppelin I",
                                    "TotalSales": "1.98"
                                },
                                {
                                    "TrackId": "1632",
                                    "TrackName": "Living Loving Maid (She's Just A Woman)",
                                    "AlbumTitle": "Led Zeppelin II",
                                    "TotalSales": "1.98"
                                },
                                {
                                    "TrackId": "1644",
                                    "TrackName": "Bron-Y-Aur Stomp",
                                    "AlbumTitle": "Led Zeppelin III",
                                    "TotalSales": "1.98"
                                },
                                {
                                    "TrackId": "1656",
                                    "TrackName": "For Your Life",
                                    "AlbumTitle": "Presence",
                                    "TotalSales": "1.98"
                                },
                                {
                                    "TrackId": "1672",
                                    "TrackName": "L'Avventura",
                                    "AlbumTitle": "A TempestadeTempestade Ou O Livro Dos Dias",
                                    "TotalSales": "1.98"
                                },
                                {
                                    "TrackId": "1690",
                                    "TrackName": "Tempo Perdido",
                                    "AlbumTitle": "Mais Do Mesmo",
                                    "TotalSales": "1.98"
                                },
                                {
                                    "TrackId": "1708",
                                    "TrackName": "Mr. Cab Driver",
                                    "AlbumTitle": "Greatest Hits",
                                    "TotalSales": "1.98"
                                },
                                {
                                    "TrackId": "1786",
                                    "TrackName": "Save The Children",
                                    "AlbumTitle": "Seek And Shall Find: More Of The Best (1963-1981)",
                                    "TotalSales": "1.98"
                                },
                                {
                                    "TrackId": "1795",
                                    "TrackName": "Down by the Sea",
                                    "AlbumTitle": "The Best Of Men At Work",
                                    "TotalSales": "1.98"
                                },
                                {
                                    "TrackId": "1822",
                                    "TrackName": "Stone Cold Crazy",
                                    "AlbumTitle": "Garage Inc. (Disc 2)",
                                    "TotalSales": "1.98"
                                },
                                {
                                    "TrackId": "1831",
                                    "TrackName": "Motorbreath",
                                    "AlbumTitle": "Kill 'Em All",
                                    "TotalSales": "1.98"
                                },
                                {
                                    "TrackId": "1858",
                                    "TrackName": "Leper Messiah",
                                    "AlbumTitle": "Master Of Puppets",
                                    "TotalSales": "1.98"
                                },
                                {
                                    "TrackId": "1864",
                                    "TrackName": "The Unforgiven II",
                                    "AlbumTitle": "ReLoad",
                                    "TotalSales": "1.98"
                                },
                                {
                                    "TrackId": "1876",
                                    "TrackName": "For Whom The Bell Tolls",
                                    "AlbumTitle": "Ride The Lightning",
                                    "TotalSales": "1.98"
                                },
                                {
                                    "TrackId": "1888",
                                    "TrackName": "Shoot Me Again",
                                    "AlbumTitle": "St. Anger",
                                    "TotalSales": "1.98"
                                },
                                {
                                    "TrackId": "1904",
                                    "TrackName": "The Duke",
                                    "AlbumTitle": "Miles Ahead",
                                    "TotalSales": "1.98"
                                },
                                {
                                    "TrackId": "1922",
                                    "TrackName": "Menestrel Das Alagoas",
                                    "AlbumTitle": "Milton Nascimento Ao Vivo",
                                    "TotalSales": "1.98"
                                },
                                {
                                    "TrackId": "1940",
                                    "TrackName": "Norwegian Wood",
                                    "AlbumTitle": "Minas",
                                    "TotalSales": "1.98"
                                },
                                {
                                    "TrackId": "2018",
                                    "TrackName": "Folhas Secas",
                                    "AlbumTitle": "Compositores",
                                    "TotalSales": "1.98"
                                },
                                {
                                    "TrackId": "2027",
                                    "TrackName": "Menino De Rua",
                                    "AlbumTitle": "Compositores",
                                    "TotalSales": "1.98"
                                },
                                {
                                    "TrackId": "2054",
                                    "TrackName": "Selvagem",
                                    "AlbumTitle": "Acústico MTV",
                                    "TotalSales": "1.98"
                                },
                                {
                                    "TrackId": "2063",
                                    "TrackName": "Nebulosa Do Amor",
                                    "AlbumTitle": "Acústico MTV",
                                    "TotalSales": "1.98"
                                },
                                {
                                    "TrackId": "2090",
                                    "TrackName": "Romance Ideal",
                                    "AlbumTitle": "Arquivo Os Paralamas Do Sucesso",
                                    "TotalSales": "1.98"
                                },
                                {
                                    "TrackId": "2096",
                                    "TrackName": "Flying High Again",
                                    "AlbumTitle": "Diary of a Madman (Remastered)",
                                    "TotalSales": "1.98"
                                },
                                {
                                    "TrackId": "2108",
                                    "TrackName": "Children Of The Grave",
                                    "AlbumTitle": "Tribute",
                                    "TotalSales": "1.98"
                                },
                                {
                                    "TrackId": "2120",
                                    "TrackName": "Walking Into Clarksdale",
                                    "AlbumTitle": "Walking Into Clarksdale",
                                    "TotalSales": "1.98"
                                },
                                {
                                    "TrackId": "2136",
                                    "TrackName": "Plot 180",
                                    "AlbumTitle": "Original Soundtracks 1",
                                    "TotalSales": "1.98"
                                },
                                {
                                    "TrackId": "2154",
                                    "TrackName": "Untitled",
                                    "AlbumTitle": "Live On Two Legs [Live]",
                                    "TotalSales": "1.98"
                                },
                                {
                                    "TrackId": "2172",
                                    "TrackName": "Big Wave",
                                    "AlbumTitle": "Pearl Jam",
                                    "TotalSales": "1.98"
                                },
                                {
                                    "TrackId": "2250",
                                    "TrackName": "Nega Do Cabelo Duro",
                                    "AlbumTitle": "Os Cães Ladram Mas A Caravana Não Pára",
                                    "TotalSales": "1.98"
                                },
                                {
                                    "TrackId": "2259",
                                    "TrackName": "You're My Best Friend",
                                    "AlbumTitle": "Greatest Hits I",
                                    "TotalSales": "1.98"
                                },
                                {
                                    "TrackId": "2286",
                                    "TrackName": "Get Up",
                                    "AlbumTitle": "Green",
                                    "TotalSales": "1.98"
                                },
                                {
                                    "TrackId": "2295",
                                    "TrackName": "Untitled",
                                    "AlbumTitle": "Green",
                                    "TotalSales": "1.98"
                                },
                                {
                                    "TrackId": "2322",
                                    "TrackName": "So Central Rain",
                                    "AlbumTitle": "The Best Of R.E.M.: The IRS Years",
                                    "TotalSales": "1.98"
                                },
                                {
                                    "TrackId": "2328",
                                    "TrackName": "Fall On Me",
                                    "AlbumTitle": "The Best Of R.E.M.: The IRS Years",
                                    "TotalSales": "1.98"
                                },
                                {
                                    "TrackId": "2340",
                                    "TrackName": "Esporrei Na Manivela",
                                    "AlbumTitle": "Cesta Básica",
                                    "TotalSales": "1.98"
                                },
                                {
                                    "TrackId": "2352",
                                    "TrackName": "Que Luz É Essa",
                                    "AlbumTitle": "Raul Seixas",
                                    "TotalSales": "1.98"
                                },
                                {
                                    "TrackId": "2368",
                                    "TrackName": "Under The Bridge",
                                    "AlbumTitle": "Blood Sugar Sex Magik",
                                    "TotalSales": "1.98"
                                },
                                {
                                    "TrackId": "2386",
                                    "TrackName": "Tear",
                                    "AlbumTitle": "By The Way",
                                    "TotalSales": "1.98"
                                },
                                {
                                    "TrackId": "2404",
                                    "TrackName": "Right On Time",
                                    "AlbumTitle": "Californication",
                                    "TotalSales": "1.98"
                                },
                                {
                                    "TrackId": "2482",
                                    "TrackName": "Saturnine",
                                    "AlbumTitle": "Judas 0: B-Sides and Rarities",
                                    "TotalSales": "1.98"
                                },
                                {
                                    "TrackId": "2491",
                                    "TrackName": "Cherub Rock",
                                    "AlbumTitle": "Rotten Apples: Greatest Hits",
                                    "TotalSales": "1.98"
                                },
                                {
                                    "TrackId": "2518",
                                    "TrackName": "Pretty Noose",
                                    "AlbumTitle": "A-Sides",
                                    "TotalSales": "1.98"
                                },
                                {
                                    "TrackId": "2527",
                                    "TrackName": "Starburst",
                                    "AlbumTitle": "Morning Dance",
                                    "TotalSales": "1.98"
                                },
                                {
                                    "TrackId": "2554",
                                    "TrackName": "Soldier Side - Intro",
                                    "AlbumTitle": "Mezmerize",
                                    "TotalSales": "1.98"
                                },
                                {
                                    "TrackId": "2560",
                                    "TrackName": "Violent Pornography",
                                    "AlbumTitle": "Mezmerize",
                                    "TotalSales": "1.98"
                                },
                                {
                                    "TrackId": "2572",
                                    "TrackName": "Midnight From The Inside Out",
                                    "AlbumTitle": "Live [Disc 1]",
                                    "TotalSales": "1.98"
                                },
                                {
                                    "TrackId": "2584",
                                    "TrackName": "Title Song",
                                    "AlbumTitle": "Live [Disc 2]",
                                    "TotalSales": "1.98"
                                },
                                {
                                    "TrackId": "2600",
                                    "TrackName": "Train In Vain",
                                    "AlbumTitle": "The Singles",
                                    "TotalSales": "1.98"
                                },
                                {
                                    "TrackId": "2618",
                                    "TrackName": "Speed Of Light",
                                    "AlbumTitle": "Beyond Good And Evil",
                                    "TotalSales": "1.98"
                                },
                                {
                                    "TrackId": "2636",
                                    "TrackName": "Sun King",
                                    "AlbumTitle": "Pure Cult: The Best Of The Cult (For Rockers, Ravers, Lovers & Sinners) [UK]",
                                    "TotalSales": "1.98"
                                },
                                {
                                    "TrackId": "2714",
                                    "TrackName": "Heaven Coming Down",
                                    "AlbumTitle": "Tangents",
                                    "TotalSales": "1.98"
                                },
                                {
                                    "TrackId": "2723",
                                    "TrackName": "Gyroscope",
                                    "AlbumTitle": "Transmission",
                                    "TotalSales": "1.98"
                                },
                                {
                                    "TrackId": "2750",
                                    "TrackName": "You Better You Bet",
                                    "AlbumTitle": "My Generation - The Very Best Of The Who",
                                    "TotalSales": "1.98"
                                },
                                {
                                    "TrackId": "2759",
                                    "TrackName": "Música No Ar",
                                    "AlbumTitle": "Serie Sem Limite (Disc 1)",
                                    "TotalSales": "1.98"
                                },
                                {
                                    "TrackId": "2786",
                                    "TrackName": "O Pulso",
                                    "AlbumTitle": "Acústico",
                                    "TotalSales": "1.98"
                                },
                                {
                                    "TrackId": "2792",
                                    "TrackName": "A Melhor Forma",
                                    "AlbumTitle": "Acústico",
                                    "TotalSales": "1.98"
                                },
                                {
                                    "TrackId": "2804",
                                    "TrackName": "Lugar Nenhum",
                                    "AlbumTitle": "Volume Dois",
                                    "TotalSales": "1.98"
                                },
                                {
                                    "TrackId": "2816",
                                    "TrackName": "Toda Cor",
                                    "AlbumTitle": "Volume Dois",
                                    "TotalSales": "1.98"
                                },
                                {
                                    "TrackId": "2946",
                                    "TrackName": "When I Look At The World",
                                    "AlbumTitle": "All That You Can't Leave Behind",
                                    "TotalSales": "1.98"
                                },
                                {
                                    "TrackId": "2955",
                                    "TrackName": "Everlasting Love",
                                    "AlbumTitle": "B-Sides 1980-1990",
                                    "TotalSales": "1.98"
                                },
                                {
                                    "TrackId": "2982",
                                    "TrackName": "Miami",
                                    "AlbumTitle": "Pop",
                                    "TotalSales": "1.98"
                                },
                                {
                                    "TrackId": "2991",
                                    "TrackName": "All Along The Watchtower",
                                    "AlbumTitle": "Rattle And Hum",
                                    "TotalSales": "1.98"
                                },
                                {
                                    "TrackId": "3018",
                                    "TrackName": "Sunday Bloody Sunday",
                                    "AlbumTitle": "War",
                                    "TotalSales": "1.98"
                                },
                                {
                                    "TrackId": "3024",
                                    "TrackName": "Two Hearts Beat As One",
                                    "AlbumTitle": "War",
                                    "TotalSales": "1.98"
                                },
                                {
                                    "TrackId": "3036",
                                    "TrackName": "Dirty Day",
                                    "AlbumTitle": "Zooropa",
                                    "TotalSales": "1.98"
                                },
                                {
                                    "TrackId": "3048",
                                    "TrackName": "C'est La Vie",
                                    "AlbumTitle": "UB40 The Best Of - Volume Two [UK]",
                                    "TotalSales": "1.98"
                                },
                                {
                                    "TrackId": "3064",
                                    "TrackName": "Eruption",
                                    "AlbumTitle": "The Best Of Van Halen, Vol. I",
                                    "TotalSales": "1.98"
                                },
                                {
                                    "TrackId": "3082",
                                    "TrackName": "Eruption",
                                    "AlbumTitle": "Van Halen",
                                    "TotalSales": "1.98"
                                },
                                {
                                    "TrackId": "3100",
                                    "TrackName": "Year to the Day",
                                    "AlbumTitle": "Van Halen III",
                                    "TotalSales": "1.98"
                                },
                                {
                                    "TrackId": "3256",
                                    "TrackName": "Give Peace a Chance",
                                    "AlbumTitle": "Instant Karma: The Amnesty International Campaign to Save Darfur",
                                    "TotalSales": "1.98"
                                },
                                {
                                    "TrackId": "3268",
                                    "TrackName": "Beautiful Boy",
                                    "AlbumTitle": "Instant Karma: The Amnesty International Campaign to Save Darfur",
                                    "TotalSales": "1.98"
                                },
                                {
                                    "TrackId": "3280",
                                    "TrackName": "War Pigs",
                                    "AlbumTitle": "Speak of the Devil",
                                    "TotalSales": "1.98"
                                },
                                {
                                    "TrackId": "3446",
                                    "TrackName": "Symphonie Fantastique, Op. 14: V. Songe d'une nuit du sabbat",
                                    "AlbumTitle": "Berlioz: Symphonie Fantastique",
                                    "TotalSales": "1.98"
                                },
                                {
                                    "TrackId": "3455",
                                    "TrackName": "Rehab",
                                    "AlbumTitle": "Back to Black",
                                    "TotalSales": "1.98"
                                },
                                {
                                    "TrackId": "3482",
                                    "TrackName": "Suite No. 3 in D, BWV 1068: III. Gavotte I & II",
                                    "AlbumTitle": "Bach: Orchestral Suites Nos. 1 - 4",
                                    "TotalSales": "1.98"
                                },
                                {
                                    "TrackId": "3488",
                                    "TrackName": "Music for the Funeral of Queen Mary: VI. \"Thou Knowest, Lord, the Secrets of Our Hearts\"",
                                    "AlbumTitle": "Purcell: Music for the Queen Mary",
                                    "TotalSales": "1.98"
                                },
                                {
                                    "TrackId": "3500",
                                    "TrackName": "String Quartet No. 12 in C Minor, D. 703 \"Quartettsatz\": II. Andante - Allegro assai",
                                    "AlbumTitle": "Schubert: The Late String Quartets & String Quintet (3 CD's)",
                                    "TotalSales": "1.98"
                                },
                                {
                                    "TrackId": "9",
                                    "TrackName": "Snowballed",
                                    "AlbumTitle": "For Those About To Rock We Salute You",
                                    "TotalSales": "1.98"
                                },
                                {
                                    "TrackId": "175",
                                    "TrackName": "Voodoo",
                                    "AlbumTitle": "Body Count",
                                    "TotalSales": "1.98"
                                },
                                {
                                    "TrackId": "184",
                                    "TrackName": "Chemical Wedding",
                                    "AlbumTitle": "Chemical Wedding",
                                    "TotalSales": "1.98"
                                },
                                {
                                    "TrackId": "211",
                                    "TrackName": "Bem Devagar",
                                    "AlbumTitle": "Prenda Minha",
                                    "TotalSales": "1.98"
                                },
                                {
                                    "TrackId": "217",
                                    "TrackName": "Mel",
                                    "AlbumTitle": "Prenda Minha",
                                    "TotalSales": "1.98"
                                },
                                {
                                    "TrackId": "229",
                                    "TrackName": "Samba De Orly",
                                    "AlbumTitle": "Minha Historia",
                                    "TotalSales": "1.98"
                                },
                                {
                                    "TrackId": "241",
                                    "TrackName": "Geni E O Zepelim",
                                    "AlbumTitle": "Minha Historia",
                                    "TotalSales": "1.98"
                                },
                                {
                                    "TrackId": "407",
                                    "TrackName": "Só Tinha De Ser Com Você",
                                    "AlbumTitle": "Chill: Brazil (Disc 2)",
                                    "TotalSales": "1.98"
                                },
                                {
                                    "TrackId": "416",
                                    "TrackName": "Whiskey In The Jar",
                                    "AlbumTitle": "Garage Inc. (Disc 1)",
                                    "TotalSales": "1.98"
                                },
                                {
                                    "TrackId": "443",
                                    "TrackName": "Shock Me",
                                    "AlbumTitle": "Greatest Kiss",
                                    "TotalSales": "1.98"
                                },
                                {
                                    "TrackId": "449",
                                    "TrackName": "Calling Dr. Love",
                                    "AlbumTitle": "Greatest Kiss",
                                    "TotalSales": "1.98"
                                },
                                {
                                    "TrackId": "461",
                                    "TrackName": "Surrender",
                                    "AlbumTitle": "Heart of the Night",
                                    "TotalSales": "1.98"
                                },
                                {
                                    "TrackId": "473",
                                    "TrackName": "When I Come Around",
                                    "AlbumTitle": "International Superhits",
                                    "TotalSales": "1.98"
                                },
                                {
                                    "TrackId": "639",
                                    "TrackName": "Don't Take Your Love From Me",
                                    "AlbumTitle": "Up An' Atom",
                                    "TotalSales": "1.98"
                                },
                                {
                                    "TrackId": "648",
                                    "TrackName": "Onde Anda Você",
                                    "AlbumTitle": "Vinícius De Moraes - Sem Limite",
                                    "TotalSales": "1.98"
                                },
                                {
                                    "TrackId": "675",
                                    "TrackName": "Susie Q",
                                    "AlbumTitle": "Chronicle, Vol. 1",
                                    "TotalSales": "1.98"
                                },
                                {
                                    "TrackId": "681",
                                    "TrackName": "Commotion",
                                    "AlbumTitle": "Chronicle, Vol. 1",
                                    "TotalSales": "1.98"
                                },
                                {
                                    "TrackId": "693",
                                    "TrackName": "Sweet Hitch-Hiker",
                                    "AlbumTitle": "Chronicle, Vol. 1",
                                    "TotalSales": "1.98"
                                },
                                {
                                    "TrackId": "705",
                                    "TrackName": "The Midnight Special",
                                    "AlbumTitle": "Chronicle, Vol. 2",
                                    "TotalSales": "1.98"
                                },
                                {
                                    "TrackId": "871",
                                    "TrackName": "Azul",
                                    "AlbumTitle": "Djavan Ao Vivo - Vol. 1",
                                    "TotalSales": "1.98"
                                },
                                {
                                    "TrackId": "880",
                                    "TrackName": "Dois Pra Lá, Dois Pra Cá",
                                    "AlbumTitle": "Elis Regina-Minha História",
                                    "TotalSales": "1.98"
                                },
                                {
                                    "TrackId": "907",
                                    "TrackName": "Promises",
                                    "AlbumTitle": "The Cream Of Clapton",
                                    "TotalSales": "1.98"
                                },
                                {
                                    "TrackId": "913",
                                    "TrackName": "Lonely Stranger",
                                    "AlbumTitle": "Unplugged",
                                    "TotalSales": "1.98"
                                },
                                {
                                    "TrackId": "925",
                                    "TrackName": "Last Cup Of Sorrow",
                                    "AlbumTitle": "Album Of The Year",
                                    "TotalSales": "1.98"
                                },
                                {
                                    "TrackId": "937",
                                    "TrackName": "Midlife Crisis",
                                    "AlbumTitle": "Angel Dust",
                                    "TotalSales": "1.98"
                                },
                                {
                                    "TrackId": "1103",
                                    "TrackName": "Lamento De Carnaval",
                                    "AlbumTitle": "Quanta Gente Veio ver--Bônus De Carnaval",
                                    "TotalSales": "1.98"
                                },
                                {
                                    "TrackId": "1112",
                                    "TrackName": "Beira Mar",
                                    "AlbumTitle": "Unplugged",
                                    "TotalSales": "1.98"
                                },
                                {
                                    "TrackId": "1139",
                                    "TrackName": "Give Me Novacaine",
                                    "AlbumTitle": "American Idiot",
                                    "TotalSales": "1.98"
                                },
                                {
                                    "TrackId": "1145",
                                    "TrackName": "Whatsername",
                                    "AlbumTitle": "American Idiot",
                                    "TotalSales": "1.98"
                                },
                                {
                                    "TrackId": "1157",
                                    "TrackName": "Rocket Queen",
                                    "AlbumTitle": "Appetite for Destruction",
                                    "TotalSales": "1.98"
                                },
                                {
                                    "TrackId": "1169",
                                    "TrackName": "Garden of Eden",
                                    "AlbumTitle": "Use Your Illusion I",
                                    "TotalSales": "1.98"
                                },
                                {
                                    "TrackId": "1335",
                                    "TrackName": "Where Eagles Dare",
                                    "AlbumTitle": "Piece Of Mind",
                                    "TotalSales": "1.98"
                                },
                                {
                                    "TrackId": "1344",
                                    "TrackName": "Aces High",
                                    "AlbumTitle": "Powerslave",
                                    "TotalSales": "1.98"
                                },
                                {
                                    "TrackId": "1371",
                                    "TrackName": "Moonchild",
                                    "AlbumTitle": "Seventh Son of a Seventh Son",
                                    "TotalSales": "1.98"
                                },
                                {
                                    "TrackId": "1377",
                                    "TrackName": "The Clairvoyant",
                                    "AlbumTitle": "Seventh Son of a Seventh Son",
                                    "TotalSales": "1.98"
                                },
                                {
                                    "TrackId": "1389",
                                    "TrackName": "Gangland",
                                    "AlbumTitle": "The Number of The Beast",
                                    "TotalSales": "1.98"
                                },
                                {
                                    "TrackId": "1401",
                                    "TrackName": "Judgement Of Heaven",
                                    "AlbumTitle": "The X Factor",
                                    "TotalSales": "1.98"
                                },
                                {
                                    "TrackId": "1567",
                                    "TrackName": "Sure Know Something",
                                    "AlbumTitle": "Unplugged [Live]",
                                    "TotalSales": "1.98"
                                },
                                {
                                    "TrackId": "1576",
                                    "TrackName": "Rock And Roll All Nite",
                                    "AlbumTitle": "Unplugged [Live]",
                                    "TotalSales": "1.98"
                                },
                                {
                                    "TrackId": "1603",
                                    "TrackName": "In The Evening",
                                    "AlbumTitle": "In Through The Out Door",
                                    "TotalSales": "1.98"
                                },
                                {
                                    "TrackId": "1609",
                                    "TrackName": "I'm Gonna Crawl",
                                    "AlbumTitle": "In Through The Out Door",
                                    "TotalSales": "1.98"
                                },
                                {
                                    "TrackId": "1621",
                                    "TrackName": "Dazed and Confused",
                                    "AlbumTitle": "Led Zeppelin I",
                                    "TotalSales": "1.98"
                                },
                                {
                                    "TrackId": "1633",
                                    "TrackName": "Ramble On",
                                    "AlbumTitle": "Led Zeppelin II",
                                    "TotalSales": "1.98"
                                },
                                {
                                    "TrackId": "1799",
                                    "TrackName": "Shakes and Ladders",
                                    "AlbumTitle": "The Best Of Men At Work",
                                    "TotalSales": "1.98"
                                },
                                {
                                    "TrackId": "1808",
                                    "TrackName": "Nothing Else Matters",
                                    "AlbumTitle": "Black Album",
                                    "TotalSales": "1.98"
                                },
                                {
                                    "TrackId": "1835",
                                    "TrackName": "Phantom Lord",
                                    "AlbumTitle": "Kill 'Em All",
                                    "TotalSales": "1.98"
                                },
                                {
                                    "TrackId": "1841",
                                    "TrackName": "The House Jack Built",
                                    "AlbumTitle": "Load",
                                    "TotalSales": "1.98"
                                },
                                {
                                    "TrackId": "1853",
                                    "TrackName": "Battery",
                                    "AlbumTitle": "Master Of Puppets",
                                    "TotalSales": "1.98"
                                },
                                {
                                    "TrackId": "1865",
                                    "TrackName": "Better Than You",
                                    "AlbumTitle": "ReLoad",
                                    "TotalSales": "1.98"
                                },
                                {
                                    "TrackId": "2031",
                                    "TrackName": "Nossa Gente (Avisa Là)",
                                    "AlbumTitle": "Olodum",
                                    "TotalSales": "1.98"
                                },
                                {
                                    "TrackId": "2040",
                                    "TrackName": "Revolta Olodum",
                                    "AlbumTitle": "Olodum",
                                    "TotalSales": "1.98"
                                },
                                {
                                    "TrackId": "2067",
                                    "TrackName": "Mensagen De Amor (2000)",
                                    "AlbumTitle": "Arquivo II",
                                    "TotalSales": "1.98"
                                },
                                {
                                    "TrackId": "2073",
                                    "TrackName": "Saber Amar",
                                    "AlbumTitle": "Arquivo II",
                                    "TotalSales": "1.98"
                                },
                                {
                                    "TrackId": "2085",
                                    "TrackName": "Meu Erro",
                                    "AlbumTitle": "Arquivo Os Paralamas Do Sucesso",
                                    "TotalSales": "1.98"
                                },
                                {
                                    "TrackId": "2097",
                                    "TrackName": "Mama, I'm Coming Home",
                                    "AlbumTitle": "No More Tears (Remastered)",
                                    "TotalSales": "1.98"
                                },
                                {
                                    "TrackId": "2263",
                                    "TrackName": "Somebody To Love",
                                    "AlbumTitle": "Greatest Hits I",
                                    "TotalSales": "1.98"
                                },
                                {
                                    "TrackId": "2272",
                                    "TrackName": "We Are The Champions",
                                    "AlbumTitle": "News Of The World",
                                    "TotalSales": "1.98"
                                },
                                {
                                    "TrackId": "2299",
                                    "TrackName": "Undertow",
                                    "AlbumTitle": "New Adventures In Hi-Fi",
                                    "TotalSales": "1.98"
                                },
                                {
                                    "TrackId": "2305",
                                    "TrackName": "Binky The Doormat",
                                    "AlbumTitle": "New Adventures In Hi-Fi",
                                    "TotalSales": "1.98"
                                },
                                {
                                    "TrackId": "2317",
                                    "TrackName": "Country Feedback",
                                    "AlbumTitle": "Out Of Time",
                                    "TotalSales": "1.98"
                                },
                                {
                                    "TrackId": "2329",
                                    "TrackName": "I Believe",
                                    "AlbumTitle": "The Best Of R.E.M.: The IRS Years",
                                    "TotalSales": "1.98"
                                },
                                {
                                    "TrackId": "2495",
                                    "TrackName": "Bullet With Butterfly Wings",
                                    "AlbumTitle": "Rotten Apples: Greatest Hits",
                                    "TotalSales": "1.98"
                                },
                                {
                                    "TrackId": "2504",
                                    "TrackName": "Real Love",
                                    "AlbumTitle": "Rotten Apples: Greatest Hits",
                                    "TotalSales": "1.98"
                                },
                                {
                                    "TrackId": "2531",
                                    "TrackName": "End Of Romanticism",
                                    "AlbumTitle": "Morning Dance",
                                    "TotalSales": "1.98"
                                },
                                {
                                    "TrackId": "2537",
                                    "TrackName": "Travis Walk",
                                    "AlbumTitle": "In Step",
                                    "TotalSales": "1.98"
                                },
                                {
                                    "TrackId": "2549",
                                    "TrackName": "Piece Of Pie",
                                    "AlbumTitle": "Core",
                                    "TotalSales": "1.98"
                                },
                                {
                                    "TrackId": "2561",
                                    "TrackName": "Question!",
                                    "AlbumTitle": "Mezmerize",
                                    "TotalSales": "1.98"
                                },
                                {
                                    "TrackId": "2727",
                                    "TrackName": "Babylon",
                                    "AlbumTitle": "Transmission",
                                    "TotalSales": "1.98"
                                },
                                {
                                    "TrackId": "2736",
                                    "TrackName": "Boris The Spider",
                                    "AlbumTitle": "My Generation - The Very Best Of The Who",
                                    "TotalSales": "1.98"
                                },
                                {
                                    "TrackId": "2763",
                                    "TrackName": "Compadre",
                                    "AlbumTitle": "Serie Sem Limite (Disc 1)",
                                    "TotalSales": "1.98"
                                },
                                {
                                    "TrackId": "2769",
                                    "TrackName": "Não Quero Dinheiro",
                                    "AlbumTitle": "Serie Sem Limite (Disc 2)",
                                    "TotalSales": "1.98"
                                },
                                {
                                    "TrackId": "2781",
                                    "TrackName": "Comida",
                                    "AlbumTitle": "Acústico",
                                    "TotalSales": "1.98"
                                },
                                {
                                    "TrackId": "2793",
                                    "TrackName": "Cabeça Dinossauro",
                                    "AlbumTitle": "Acústico",
                                    "TotalSales": "1.98"
                                },
                                {
                                    "TrackId": "2959",
                                    "TrackName": "Hallelujah Here She Comes",
                                    "AlbumTitle": "B-Sides 1980-1990",
                                    "TotalSales": "1.98"
                                },
                                {
                                    "TrackId": "2968",
                                    "TrackName": "City Of Blinding Lights",
                                    "AlbumTitle": "How To Dismantle An Atomic Bomb",
                                    "TotalSales": "1.98"
                                },
                                {
                                    "TrackId": "2995",
                                    "TrackName": "Pride (In The Name Of Love)",
                                    "AlbumTitle": "Rattle And Hum",
                                    "TotalSales": "1.98"
                                },
                                {
                                    "TrackId": "3001",
                                    "TrackName": "The Star Spangled Banner",
                                    "AlbumTitle": "Rattle And Hum",
                                    "TotalSales": "1.98"
                                },
                                {
                                    "TrackId": "3013",
                                    "TrackName": "Sweetest Thing",
                                    "AlbumTitle": "The Best Of 1980-1990",
                                    "TotalSales": "1.98"
                                },
                                {
                                    "TrackId": "3025",
                                    "TrackName": "Red Light",
                                    "AlbumTitle": "War",
                                    "TotalSales": "1.98"
                                },
                                {
                                    "TrackId": "3432",
                                    "TrackName": "Scheherazade, Op. 35: I. The Sea and Sindbad's Ship",
                                    "AlbumTitle": "Scheherazade",
                                    "TotalSales": "1.98"
                                },
                                {
                                    "TrackId": "161",
                                    "TrackName": "Snowblind",
                                    "AlbumTitle": "Black Sabbath Vol. 4 (Remaster)",
                                    "TotalSales": "1.98"
                                },
                                {
                                    "TrackId": "393",
                                    "TrackName": "Tarde Em Itapoã",
                                    "AlbumTitle": "Chill: Brazil (Disc 2)",
                                    "TotalSales": "1.98"
                                },
                                {
                                    "TrackId": "625",
                                    "TrackName": "Blue Rythm Fantasy",
                                    "AlbumTitle": "Up An' Atom",
                                    "TotalSales": "1.98"
                                },
                                {
                                    "TrackId": "857",
                                    "TrackName": "Álibi",
                                    "AlbumTitle": "Djavan Ao Vivo - Vol. 02",
                                    "TotalSales": "1.98"
                                },
                                {
                                    "TrackId": "1089",
                                    "TrackName": "Is This Love (Live)",
                                    "AlbumTitle": "Quanta Gente Veio Ver (Live)",
                                    "TotalSales": "1.98"
                                },
                                {
                                    "TrackId": "1321",
                                    "TrackName": "Hallowed Be Thy Name",
                                    "AlbumTitle": "Live At Donington 1992 (Disc 2)",
                                    "TotalSales": "1.98"
                                },
                                {
                                    "TrackId": "1553",
                                    "TrackName": "You've Got Another Thing Comin'",
                                    "AlbumTitle": "Living After Midnight",
                                    "TotalSales": "1.98"
                                },
                                {
                                    "TrackId": "1785",
                                    "TrackName": "Abraham, Martin And John",
                                    "AlbumTitle": "Seek And Shall Find: More Of The Best (1963-1981)",
                                    "TotalSales": "1.98"
                                },
                                {
                                    "TrackId": "2017",
                                    "TrackName": "Sangue Latino",
                                    "AlbumTitle": "Compositores",
                                    "TotalSales": "1.98"
                                },
                                {
                                    "TrackId": "2249",
                                    "TrackName": "Rappers Reais",
                                    "AlbumTitle": "Os Cães Ladram Mas A Caravana Não Pára",
                                    "TotalSales": "1.98"
                                },
                                {
                                    "TrackId": "2481",
                                    "TrackName": "Waiting",
                                    "AlbumTitle": "Judas 0: B-Sides and Rarities",
                                    "TotalSales": "1.98"
                                },
                                {
                                    "TrackId": "2713",
                                    "TrackName": "Release",
                                    "AlbumTitle": "Tangents",
                                    "TotalSales": "1.98"
                                },
                                {
                                    "TrackId": "2945",
                                    "TrackName": "Peace On Earth",
                                    "AlbumTitle": "All That You Can't Leave Behind",
                                    "TotalSales": "1.98"
                                },
                                {
                                    "TrackId": "4",
                                    "TrackName": "Restless and Wild",
                                    "AlbumTitle": "Restless and Wild",
                                    "TotalSales": "0.99"
                                },
                                {
                                    "TrackId": "6",
                                    "TrackName": "Put The Finger On You",
                                    "AlbumTitle": "For Those About To Rock We Salute You",
                                    "TotalSales": "0.99"
                                },
                                {
                                    "TrackId": "10",
                                    "TrackName": "Evil Walks",
                                    "AlbumTitle": "For Those About To Rock We Salute You",
                                    "TotalSales": "0.99"
                                },
                                {
                                    "TrackId": "12",
                                    "TrackName": "Breaking The Rules",
                                    "AlbumTitle": "For Those About To Rock We Salute You",
                                    "TotalSales": "0.99"
                                },
                                {
                                    "TrackId": "16",
                                    "TrackName": "Dog Eat Dog",
                                    "AlbumTitle": "Let There Be Rock",
                                    "TotalSales": "0.99"
                                },
                                {
                                    "TrackId": "24",
                                    "TrackName": "Love In An Elevator",
                                    "AlbumTitle": "Big Ones",
                                    "TotalSales": "0.99"
                                },
                                {
                                    "TrackId": "28",
                                    "TrackName": "Janie's Got A Gun",
                                    "AlbumTitle": "Big Ones",
                                    "TotalSales": "0.99"
                                },
                                {
                                    "TrackId": "36",
                                    "TrackName": "Angel",
                                    "AlbumTitle": "Big Ones",
                                    "TotalSales": "0.99"
                                },
                                {
                                    "TrackId": "42",
                                    "TrackName": "Right Through You",
                                    "AlbumTitle": "Jagged Little Pill",
                                    "TotalSales": "0.99"
                                },
                                {
                                    "TrackId": "54",
                                    "TrackName": "Bleed The Freak",
                                    "AlbumTitle": "Facelift",
                                    "TotalSales": "0.99"
                                },
                                {
                                    "TrackId": "60",
                                    "TrackName": "Confusion",
                                    "AlbumTitle": "Facelift",
                                    "TotalSales": "0.99"
                                },
                                {
                                    "TrackId": "72",
                                    "TrackName": "Angela",
                                    "AlbumTitle": "Warner 25 Anos",
                                    "TotalSales": "0.99"
                                },
                                {
                                    "TrackId": "78",
                                    "TrackName": "Master Of Puppets",
                                    "AlbumTitle": "Plays Metallica By Four Cellos",
                                    "TotalSales": "0.99"
                                },
                                {
                                    "TrackId": "90",
                                    "TrackName": "Set It Off",
                                    "AlbumTitle": "Audioslave",
                                    "TotalSales": "0.99"
                                },
                                {
                                    "TrackId": "99",
                                    "TrackName": "Your Time Has Come",
                                    "AlbumTitle": "Out Of Exile",
                                    "TotalSales": "0.99"
                                },
                                {
                                    "TrackId": "108",
                                    "TrackName": "Dandelion",
                                    "AlbumTitle": "Out Of Exile",
                                    "TotalSales": "0.99"
                                },
                                {
                                    "TrackId": "117",
                                    "TrackName": "Rock 'N' Roll Music",
                                    "AlbumTitle": "BackBeat Soundtrack",
                                    "TotalSales": "0.99"
                                },
                                {
                                    "TrackId": "126",
                                    "TrackName": "Moon germs",
                                    "AlbumTitle": "The Best Of Billy Cobham",
                                    "TotalSales": "0.99"
                                },
                                {
                                    "TrackId": "135",
                                    "TrackName": "Super Terrorizer",
                                    "AlbumTitle": "Alcohol Fueled Brewtality Live! [Disc 1]",
                                    "TotalSales": "0.99"
                                },
                                {
                                    "TrackId": "144",
                                    "TrackName": "Heart Of Gold",
                                    "AlbumTitle": "Alcohol Fueled Brewtality Live! [Disc 2]",
                                    "TotalSales": "0.99"
                                },
                                {
                                    "TrackId": "153",
                                    "TrackName": "Evil Woman",
                                    "AlbumTitle": "Black Sabbath",
                                    "TotalSales": "0.99"
                                },
                                {
                                    "TrackId": "180",
                                    "TrackName": "Body Count Anthem",
                                    "AlbumTitle": "Body Count",
                                    "TotalSales": "0.99"
                                },
                                {
                                    "TrackId": "189",
                                    "TrackName": "Jerusalem",
                                    "AlbumTitle": "Chemical Wedding",
                                    "TotalSales": "0.99"
                                },
                                {
                                    "TrackId": "216",
                                    "TrackName": "Esse Cara",
                                    "AlbumTitle": "Prenda Minha",
                                    "TotalSales": "0.99"
                                },
                                {
                                    "TrackId": "230",
                                    "TrackName": "Bye, Bye Brasil",
                                    "AlbumTitle": "Minha Historia",
                                    "TotalSales": "0.99"
                                },
                                {
                                    "TrackId": "231",
                                    "TrackName": "Atras Da Porta",
                                    "AlbumTitle": "Minha Historia",
                                    "TotalSales": "0.99"
                                },
                                {
                                    "TrackId": "232",
                                    "TrackName": "Tatuagem",
                                    "AlbumTitle": "Minha Historia",
                                    "TotalSales": "0.99"
                                },
                                {
                                    "TrackId": "236",
                                    "TrackName": "A Banda",
                                    "AlbumTitle": "Minha Historia",
                                    "TotalSales": "0.99"
                                },
                                {
                                    "TrackId": "238",
                                    "TrackName": "Com Açúcar E Com Afeto",
                                    "AlbumTitle": "Minha Historia",
                                    "TotalSales": "0.99"
                                },
                                {
                                    "TrackId": "242",
                                    "TrackName": "Trocando Em Miúdos",
                                    "AlbumTitle": "Minha Historia",
                                    "TotalSales": "0.99"
                                },
                                {
                                    "TrackId": "244",
                                    "TrackName": "Gota D'água",
                                    "AlbumTitle": "Minha Historia",
                                    "TotalSales": "0.99"
                                },
                                {
                                    "TrackId": "248",
                                    "TrackName": "Etnia",
                                    "AlbumTitle": "Afrociberdelia",
                                    "TotalSales": "0.99"
                                },
                                {
                                    "TrackId": "256",
                                    "TrackName": "Sobremesa",
                                    "AlbumTitle": "Afrociberdelia",
                                    "TotalSales": "0.99"
                                },
                                {
                                    "TrackId": "260",
                                    "TrackName": "Sangue De Bairro",
                                    "AlbumTitle": "Afrociberdelia",
                                    "TotalSales": "0.99"
                                },
                                {
                                    "TrackId": "268",
                                    "TrackName": "Maracatu Atômico [Trip Hop]",
                                    "AlbumTitle": "Afrociberdelia",
                                    "TotalSales": "0.99"
                                },
                                {
                                    "TrackId": "274",
                                    "TrackName": "Samba Makossa",
                                    "AlbumTitle": "Da Lama Ao Caos",
                                    "TotalSales": "0.99"
                                },
                                {
                                    "TrackId": "286",
                                    "TrackName": "Firmamento",
                                    "AlbumTitle": "Acústico MTV [Live]",
                                    "TotalSales": "0.99"
                                },
                                {
                                    "TrackId": "292",
                                    "TrackName": "Já Foi",
                                    "AlbumTitle": "Acústico MTV [Live]",
                                    "TotalSales": "0.99"
                                },
                                {
                                    "TrackId": "304",
                                    "TrackName": "Firmamento",
                                    "AlbumTitle": "Cidade Negra - Hits",
                                    "TotalSales": "0.99"
                                },
                                {
                                    "TrackId": "310",
                                    "TrackName": "Sábado A Noite",
                                    "AlbumTitle": "Cidade Negra - Hits",
                                    "TotalSales": "0.99"
                                },
                                {
                                    "TrackId": "322",
                                    "TrackName": "Livre Pra Viver",
                                    "AlbumTitle": "Na Pista",
                                    "TotalSales": "0.99"
                                },
                                {
                                    "TrackId": "331",
                                    "TrackName": "Lavadeira",
                                    "AlbumTitle": "Axé Bahia 2001",
                                    "TotalSales": "0.99"
                                },
                                {
                                    "TrackId": "340",
                                    "TrackName": "Dazed and Confused",
                                    "AlbumTitle": "BBC Sessions [Disc 1] [Live]",
                                    "TotalSales": "0.99"
                                },
                                {
                                    "TrackId": "349",
                                    "TrackName": "You Shook Me(2)",
                                    "AlbumTitle": "BBC Sessions [Disc 1] [Live]",
                                    "TotalSales": "0.99"
                                },
                                {
                                    "TrackId": "358",
                                    "TrackName": "Man With The Woman Head",
                                    "AlbumTitle": "Bongo Fury",
                                    "TotalSales": "0.99"
                                },
                                {
                                    "TrackId": "367",
                                    "TrackName": "Leandro De Itaquera 2001",
                                    "AlbumTitle": "Carnaval 2001",
                                    "TotalSales": "0.99"
                                },
                                {
                                    "TrackId": "376",
                                    "TrackName": "Vôo Sobre o Horizonte",
                                    "AlbumTitle": "Chill: Brazil (Disc 1)",
                                    "TotalSales": "0.99"
                                },
                                {
                                    "TrackId": "385",
                                    "TrackName": "All Star",
                                    "AlbumTitle": "Chill: Brazil (Disc 1)",
                                    "TotalSales": "0.99"
                                },
                                {
                                    "TrackId": "412",
                                    "TrackName": "Die Die My Darling",
                                    "AlbumTitle": "Garage Inc. (Disc 1)",
                                    "TotalSales": "0.99"
                                },
                                {
                                    "TrackId": "421",
                                    "TrackName": "Radio GA GA",
                                    "AlbumTitle": "Greatest Hits II",
                                    "TotalSales": "0.99"
                                },
                                {
                                    "TrackId": "448",
                                    "TrackName": "God Of Thunder",
                                    "AlbumTitle": "Greatest Kiss",
                                    "TotalSales": "0.99"
                                },
                                {
                                    "TrackId": "462",
                                    "TrackName": "Valentino's",
                                    "AlbumTitle": "Heart of the Night",
                                    "TotalSales": "0.99"
                                },
                                {
                                    "TrackId": "463",
                                    "TrackName": "Believe",
                                    "AlbumTitle": "Heart of the Night",
                                    "TotalSales": "0.99"
                                },
                                {
                                    "TrackId": "464",
                                    "TrackName": "As We Sleep",
                                    "AlbumTitle": "Heart of the Night",
                                    "TotalSales": "0.99"
                                },
                                {
                                    "TrackId": "468",
                                    "TrackName": "Maria",
                                    "AlbumTitle": "International Superhits",
                                    "TotalSales": "0.99"
                                },
                                {
                                    "TrackId": "470",
                                    "TrackName": "Longview",
                                    "AlbumTitle": "International Superhits",
                                    "TotalSales": "0.99"
                                },
                                {
                                    "TrackId": "474",
                                    "TrackName": "She",
                                    "AlbumTitle": "International Superhits",
                                    "TotalSales": "0.99"
                                },
                                {
                                    "TrackId": "476",
                                    "TrackName": "Geek Stink Breath",
                                    "AlbumTitle": "International Superhits",
                                    "TotalSales": "0.99"
                                },
                                {
                                    "TrackId": "480",
                                    "TrackName": "Stuck With Me",
                                    "AlbumTitle": "International Superhits",
                                    "TotalSales": "0.99"
                                },
                                {
                                    "TrackId": "488",
                                    "TrackName": "Macy's Day Parade",
                                    "AlbumTitle": "International Superhits",
                                    "TotalSales": "0.99"
                                },
                                {
                                    "TrackId": "492",
                                    "TrackName": "Don't You Cry",
                                    "AlbumTitle": "Into The Light",
                                    "TotalSales": "0.99"
                                },
                                {
                                    "TrackId": "500",
                                    "TrackName": "Wherever You May Go",
                                    "AlbumTitle": "Into The Light",
                                    "TotalSales": "0.99"
                                },
                                {
                                    "TrackId": "506",
                                    "TrackName": "Diga Lá, Coração",
                                    "AlbumTitle": "Meus Momentos",
                                    "TotalSales": "0.99"
                                },
                                {
                                    "TrackId": "518",
                                    "TrackName": "Podres Poderes",
                                    "AlbumTitle": "Minha Historia",
                                    "TotalSales": "0.99"
                                },
                                {
                                    "TrackId": "524",
                                    "TrackName": "Queixa",
                                    "AlbumTitle": "Minha Historia",
                                    "TotalSales": "0.99"
                                },
                                {
                                    "TrackId": "536",
                                    "TrackName": "Vida De Cachorro",
                                    "AlbumTitle": "Minha História",
                                    "TotalSales": "0.99"
                                },
                                {
                                    "TrackId": "542",
                                    "TrackName": "Meu Refrigerador Não Funciona",
                                    "AlbumTitle": "Minha História",
                                    "TotalSales": "0.99"
                                },
                                {
                                    "TrackId": "554",
                                    "TrackName": "Trampled Under Foot",
                                    "AlbumTitle": "Physical Graffiti [Disc 1]",
                                    "TotalSales": "0.99"
                                },
                                {
                                    "TrackId": "563",
                                    "TrackName": "União Da Ilha",
                                    "AlbumTitle": "Sambas De Enredo 2001",
                                    "TotalSales": "0.99"
                                },
                                {
                                    "TrackId": "572",
                                    "TrackName": "Put Your Lights On",
                                    "AlbumTitle": "Supernatural",
                                    "TotalSales": "0.99"
                                },
                                {
                                    "TrackId": "581",
                                    "TrackName": "Primavera",
                                    "AlbumTitle": "Supernatural",
                                    "TotalSales": "0.99"
                                },
                                {
                                    "TrackId": "590",
                                    "TrackName": "Seis Da Tarde",
                                    "AlbumTitle": "The Best of Ed Motta",
                                    "TotalSales": "0.99"
                                },
                                {
                                    "TrackId": "599",
                                    "TrackName": "Compulsion",
                                    "AlbumTitle": "The Essential Miles Davis [Disc 1]",
                                    "TotalSales": "0.99"
                                },
                                {
                                    "TrackId": "608",
                                    "TrackName": "The Pan Piper",
                                    "AlbumTitle": "The Essential Miles Davis [Disc 1]",
                                    "TotalSales": "0.99"
                                },
                                {
                                    "TrackId": "617",
                                    "TrackName": "Jean Pierre (Live)",
                                    "AlbumTitle": "The Essential Miles Davis [Disc 2]",
                                    "TotalSales": "0.99"
                                },
                                {
                                    "TrackId": "644",
                                    "TrackName": "Showcase",
                                    "AlbumTitle": "Up An' Atom",
                                    "TotalSales": "0.99"
                                },
                                {
                                    "TrackId": "653",
                                    "TrackName": "Como É Duro Trabalhar",
                                    "AlbumTitle": "Vinícius De Moraes - Sem Limite",
                                    "TotalSales": "0.99"
                                },
                                {
                                    "TrackId": "680",
                                    "TrackName": "Green River",
                                    "AlbumTitle": "Chronicle, Vol. 1",
                                    "TotalSales": "0.99"
                                },
                                {
                                    "TrackId": "694",
                                    "TrackName": "Someday Never Comes",
                                    "AlbumTitle": "Chronicle, Vol. 1",
                                    "TotalSales": "0.99"
                                },
                                {
                                    "TrackId": "695",
                                    "TrackName": "Walking On The Water",
                                    "AlbumTitle": "Chronicle, Vol. 2",
                                    "TotalSales": "0.99"
                                },
                                {
                                    "TrackId": "696",
                                    "TrackName": "Suzie-Q, Pt. 2",
                                    "AlbumTitle": "Chronicle, Vol. 2",
                                    "TotalSales": "0.99"
                                },
                                {
                                    "TrackId": "700",
                                    "TrackName": "Wrote A Song For Everyone",
                                    "AlbumTitle": "Chronicle, Vol. 2",
                                    "TotalSales": "0.99"
                                },
                                {
                                    "TrackId": "702",
                                    "TrackName": "Cotton Fields",
                                    "AlbumTitle": "Chronicle, Vol. 2",
                                    "TotalSales": "0.99"
                                },
                                {
                                    "TrackId": "706",
                                    "TrackName": "Before You Accuse Me",
                                    "AlbumTitle": "Chronicle, Vol. 2",
                                    "TotalSales": "0.99"
                                },
                                {
                                    "TrackId": "708",
                                    "TrackName": "Pagan Baby",
                                    "AlbumTitle": "Chronicle, Vol. 2",
                                    "TotalSales": "0.99"
                                },
                                {
                                    "TrackId": "712",
                                    "TrackName": "Born To Move",
                                    "AlbumTitle": "Chronicle, Vol. 2",
                                    "TotalSales": "0.99"
                                },
                                {
                                    "TrackId": "720",
                                    "TrackName": "Coroné Antonio Bento",
                                    "AlbumTitle": "Cássia Eller - Coleção Sem Limite [Disc 2]",
                                    "TotalSales": "0.99"
                                },
                                {
                                    "TrackId": "724",
                                    "TrackName": "Música Urbana 2",
                                    "AlbumTitle": "Cássia Eller - Coleção Sem Limite [Disc 2]",
                                    "TotalSales": "0.99"
                                },
                                {
                                    "TrackId": "732",
                                    "TrackName": "Smells Like Teen Spirit (Ao Vivo)",
                                    "AlbumTitle": "Cássia Eller - Sem Limite [Disc 1]",
                                    "TotalSales": "0.99"
                                },
                                {
                                    "TrackId": "738",
                                    "TrackName": "Admirável Gado Novo",
                                    "AlbumTitle": "Cássia Eller - Sem Limite [Disc 1]",
                                    "TotalSales": "0.99"
                                },
                                {
                                    "TrackId": "750",
                                    "TrackName": "Drifter",
                                    "AlbumTitle": "Come Taste The Band",
                                    "TotalSales": "0.99"
                                },
                                {
                                    "TrackId": "756",
                                    "TrackName": "Child In Time",
                                    "AlbumTitle": "Deep Purple In Rock",
                                    "TotalSales": "0.99"
                                },
                                {
                                    "TrackId": "768",
                                    "TrackName": "Knocking At Your Back Door",
                                    "AlbumTitle": "Knocking at Your Back Door: The Best Of Deep Purple in the 80's",
                                    "TotalSales": "0.99"
                                },
                                {
                                    "TrackId": "774",
                                    "TrackName": "The Unwritten Law",
                                    "AlbumTitle": "Knocking at Your Back Door: The Best Of Deep Purple in the 80's",
                                    "TotalSales": "0.99"
                                },
                                {
                                    "TrackId": "786",
                                    "TrackName": "Vavoom : Ted The Mechanic",
                                    "AlbumTitle": "Purpendicular",
                                    "TotalSales": "0.99"
                                },
                                {
                                    "TrackId": "795",
                                    "TrackName": "Hey Cisco",
                                    "AlbumTitle": "Purpendicular",
                                    "TotalSales": "0.99"
                                },
                                {
                                    "TrackId": "804",
                                    "TrackName": "Fortuneteller",
                                    "AlbumTitle": "Slaves And Masters",
                                    "TotalSales": "0.99"
                                },
                                {
                                    "TrackId": "813",
                                    "TrackName": "High Ball Shooter",
                                    "AlbumTitle": "Stormbringer",
                                    "TotalSales": "0.99"
                                },
                                {
                                    "TrackId": "822",
                                    "TrackName": "A Twist In The Tail",
                                    "AlbumTitle": "The Battle Rages On",
                                    "TotalSales": "0.99"
                                },
                                {
                                    "TrackId": "831",
                                    "TrackName": "Animal",
                                    "AlbumTitle": "Vault: Def Leppard's Greatest Hits",
                                    "TotalSales": "0.99"
                                },
                                {
                                    "TrackId": "840",
                                    "TrackName": "Hysteria",
                                    "AlbumTitle": "Vault: Def Leppard's Greatest Hits",
                                    "TotalSales": "0.99"
                                },
                                {
                                    "TrackId": "849",
                                    "TrackName": "Baltimore, DC",
                                    "AlbumTitle": "Outbreak",
                                    "TotalSales": "0.99"
                                },
                                {
                                    "TrackId": "876",
                                    "TrackName": "Um Amor Puro",
                                    "AlbumTitle": "Djavan Ao Vivo - Vol. 1",
                                    "TotalSales": "0.99"
                                },
                                {
                                    "TrackId": "885",
                                    "TrackName": "Fascinação",
                                    "AlbumTitle": "Elis Regina-Minha História",
                                    "TotalSales": "0.99"
                                },
                                {
                                    "TrackId": "912",
                                    "TrackName": "Tears In Heaven",
                                    "AlbumTitle": "Unplugged",
                                    "TotalSales": "0.99"
                                },
                                {
                                    "TrackId": "926",
                                    "TrackName": "Naked In Front Of The Computer",
                                    "AlbumTitle": "Album Of The Year",
                                    "TotalSales": "0.99"
                                },
                                {
                                    "TrackId": "927",
                                    "TrackName": "Helpless",
                                    "AlbumTitle": "Album Of The Year",
                                    "TotalSales": "0.99"
                                },
                                {
                                    "TrackId": "928",
                                    "TrackName": "Mouth To Mouth",
                                    "AlbumTitle": "Album Of The Year",
                                    "TotalSales": "0.99"
                                },
                                {
                                    "TrackId": "932",
                                    "TrackName": "Paths Of Glory",
                                    "AlbumTitle": "Album Of The Year",
                                    "TotalSales": "0.99"
                                },
                                {
                                    "TrackId": "934",
                                    "TrackName": "Pristina",
                                    "AlbumTitle": "Album Of The Year",
                                    "TotalSales": "0.99"
                                },
                                {
                                    "TrackId": "938",
                                    "TrackName": "RV",
                                    "AlbumTitle": "Angel Dust",
                                    "TotalSales": "0.99"
                                },
                                {
                                    "TrackId": "940",
                                    "TrackName": "Everything's Ruined",
                                    "AlbumTitle": "Angel Dust",
                                    "TotalSales": "0.99"
                                },
                                {
                                    "TrackId": "944",
                                    "TrackName": "A Small Victory",
                                    "AlbumTitle": "Angel Dust",
                                    "TotalSales": "0.99"
                                },
                                {
                                    "TrackId": "952",
                                    "TrackName": "The Gentle Art Of Making Enemies",
                                    "AlbumTitle": "King For A Day Fool For A Lifetime",
                                    "TotalSales": "0.99"
                                },
                                {
                                    "TrackId": "956",
                                    "TrackName": "Ugly In The Morning",
                                    "AlbumTitle": "King For A Day Fool For A Lifetime",
                                    "TotalSales": "0.99"
                                },
                                {
                                    "TrackId": "964",
                                    "TrackName": "From Out Of Nowhere",
                                    "AlbumTitle": "The Real Thing",
                                    "TotalSales": "0.99"
                                },
                                {
                                    "TrackId": "970",
                                    "TrackName": "Underwater Love",
                                    "AlbumTitle": "The Real Thing",
                                    "TotalSales": "0.99"
                                },
                                {
                                    "TrackId": "982",
                                    "TrackName": "Avisa",
                                    "AlbumTitle": "Deixa Entrar",
                                    "TotalSales": "0.99"
                                },
                                {
                                    "TrackId": "988",
                                    "TrackName": "Desaforo",
                                    "AlbumTitle": "Deixa Entrar",
                                    "TotalSales": "0.99"
                                },
                                {
                                    "TrackId": "1000",
                                    "TrackName": "What If I Do?",
                                    "AlbumTitle": "In Your Honor [Disc 2]",
                                    "TotalSales": "0.99"
                                },
                                {
                                    "TrackId": "1006",
                                    "TrackName": "Virginia Moon",
                                    "AlbumTitle": "In Your Honor [Disc 2]",
                                    "TotalSales": "0.99"
                                },
                                {
                                    "TrackId": "1018",
                                    "TrackName": "Burn Away",
                                    "AlbumTitle": "One By One",
                                    "TotalSales": "0.99"
                                },
                                {
                                    "TrackId": "1027",
                                    "TrackName": "See You",
                                    "AlbumTitle": "The Colour And The Shape",
                                    "TotalSales": "0.99"
                                },
                                {
                                    "TrackId": "1036",
                                    "TrackName": "I Get A Kick Out Of You",
                                    "AlbumTitle": "My Way: The Best Of Frank Sinatra [Disc 1]",
                                    "TotalSales": "0.99"
                                },
                                {
                                    "TrackId": "1045",
                                    "TrackName": "Fly Me To The Moon",
                                    "AlbumTitle": "My Way: The Best Of Frank Sinatra [Disc 1]",
                                    "TotalSales": "0.99"
                                },
                                {
                                    "TrackId": "1054",
                                    "TrackName": "Mack The Knife",
                                    "AlbumTitle": "My Way: The Best Of Frank Sinatra [Disc 1]",
                                    "TotalSales": "0.99"
                                },
                                {
                                    "TrackId": "1063",
                                    "TrackName": "Funk Hum",
                                    "AlbumTitle": "Roda De Funk",
                                    "TotalSales": "0.99"
                                },
                                {
                                    "TrackId": "1072",
                                    "TrackName": "Forty Days Instrumental",
                                    "AlbumTitle": "Roda De Funk",
                                    "TotalSales": "0.99"
                                },
                                {
                                    "TrackId": "1081",
                                    "TrackName": "Pau-De-Arara",
                                    "AlbumTitle": "As Canções de Eu Tu Eles",
                                    "TotalSales": "0.99"
                                },
                                {
                                    "TrackId": "1108",
                                    "TrackName": "Realce",
                                    "AlbumTitle": "Unplugged",
                                    "TotalSales": "0.99"
                                },
                                {
                                    "TrackId": "1117",
                                    "TrackName": "Aquele Abraço",
                                    "AlbumTitle": "Unplugged",
                                    "TotalSales": "0.99"
                                },
                                {
                                    "TrackId": "1144",
                                    "TrackName": "Homecoming / The Death Of St. Jimmy / East 12th St. / Nobody Likes You / Rock And Roll Girlfriend / We're Coming Home Again",
                                    "AlbumTitle": "American Idiot",
                                    "TotalSales": "0.99"
                                },
                                {
                                    "TrackId": "1158",
                                    "TrackName": "Right Next Door to Hell",
                                    "AlbumTitle": "Use Your Illusion I",
                                    "TotalSales": "0.99"
                                },
                                {
                                    "TrackId": "1159",
                                    "TrackName": "Dust N' Bones",
                                    "AlbumTitle": "Use Your Illusion I",
                                    "TotalSales": "0.99"
                                },
                                {
                                    "TrackId": "1160",
                                    "TrackName": "Live and Let Die",
                                    "AlbumTitle": "Use Your Illusion I",
                                    "TotalSales": "0.99"
                                },
                                {
                                    "TrackId": "1164",
                                    "TrackName": "Bad Obsession",
                                    "AlbumTitle": "Use Your Illusion I",
                                    "TotalSales": "0.99"
                                },
                                {
                                    "TrackId": "1166",
                                    "TrackName": "Double Talkin' Jive",
                                    "AlbumTitle": "Use Your Illusion I",
                                    "TotalSales": "0.99"
                                },
                                {
                                    "TrackId": "1170",
                                    "TrackName": "Don't Damn Me",
                                    "AlbumTitle": "Use Your Illusion I",
                                    "TotalSales": "0.99"
                                },
                                {
                                    "TrackId": "1172",
                                    "TrackName": "Dead Horse",
                                    "AlbumTitle": "Use Your Illusion I",
                                    "TotalSales": "0.99"
                                },
                                {
                                    "TrackId": "1176",
                                    "TrackName": "Yesterdays",
                                    "AlbumTitle": "Use Your Illusion II",
                                    "TotalSales": "0.99"
                                },
                                {
                                    "TrackId": "1184",
                                    "TrackName": "Estranged",
                                    "AlbumTitle": "Use Your Illusion II",
                                    "TotalSales": "0.99"
                                },
                                {
                                    "TrackId": "1188",
                                    "TrackName": "Colibri",
                                    "AlbumTitle": "Blue Moods",
                                    "TotalSales": "0.99"
                                },
                                {
                                    "TrackId": "1196",
                                    "TrackName": "Millenium",
                                    "AlbumTitle": "Blue Moods",
                                    "TotalSales": "0.99"
                                },
                                {
                                    "TrackId": "1202",
                                    "TrackName": "These Colours Don't Run",
                                    "AlbumTitle": "A Matter of Life and Death",
                                    "TotalSales": "0.99"
                                },
                                {
                                    "TrackId": "1214",
                                    "TrackName": "Prowler",
                                    "AlbumTitle": "A Real Dead One",
                                    "TotalSales": "0.99"
                                },
                                {
                                    "TrackId": "1220",
                                    "TrackName": "Run To The Hilss",
                                    "AlbumTitle": "A Real Dead One",
                                    "TotalSales": "0.99"
                                },
                                {
                                    "TrackId": "1232",
                                    "TrackName": "Heaven Can Wait",
                                    "AlbumTitle": "A Real Live One",
                                    "TotalSales": "0.99"
                                },
                                {
                                    "TrackId": "1238",
                                    "TrackName": "Blood Brothers",
                                    "AlbumTitle": "Brave New World",
                                    "TotalSales": "0.99"
                                },
                                {
                                    "TrackId": "1250",
                                    "TrackName": "Gates Of Tomorrow",
                                    "AlbumTitle": "Dance Of Death",
                                    "TotalSales": "0.99"
                                },
                                {
                                    "TrackId": "1259",
                                    "TrackName": "Fear Is The Key",
                                    "AlbumTitle": "Fear Of The Dark",
                                    "TotalSales": "0.99"
                                },
                                {
                                    "TrackId": "1268",
                                    "TrackName": "01 - Prowler",
                                    "AlbumTitle": "Iron Maiden",
                                    "TotalSales": "0.99"
                                },
                                {
                                    "TrackId": "1277",
                                    "TrackName": "The Ides Of March",
                                    "AlbumTitle": "Killers",
                                    "TotalSales": "0.99"
                                },
                                {
                                    "TrackId": "1286",
                                    "TrackName": "Drifter",
                                    "AlbumTitle": "Killers",
                                    "TotalSales": "0.99"
                                },
                                {
                                    "TrackId": "1295",
                                    "TrackName": "The Number Of The Beast",
                                    "AlbumTitle": "Live After Death",
                                    "TotalSales": "0.99"
                                },
                                {
                                    "TrackId": "1304",
                                    "TrackName": "Phantom Of The Opera",
                                    "AlbumTitle": "Live After Death",
                                    "TotalSales": "0.99"
                                },
                                {
                                    "TrackId": "1313",
                                    "TrackName": "Afraid To Shoot Strangers",
                                    "AlbumTitle": "Live At Donington 1992 (Disc 1)",
                                    "TotalSales": "0.99"
                                },
                                {
                                    "TrackId": "1340",
                                    "TrackName": "Still Life",
                                    "AlbumTitle": "Piece Of Mind",
                                    "TotalSales": "0.99"
                                },
                                {
                                    "TrackId": "1349",
                                    "TrackName": "Back in the Village",
                                    "AlbumTitle": "Powerslave",
                                    "TotalSales": "0.99"
                                },
                                {
                                    "TrackId": "1376",
                                    "TrackName": "The Prophecy",
                                    "AlbumTitle": "Seventh Son of a Seventh Son",
                                    "TotalSales": "0.99"
                                },
                                {
                                    "TrackId": "1390",
                                    "TrackName": "Hallowed Be Thy Name",
                                    "AlbumTitle": "The Number of The Beast",
                                    "TotalSales": "0.99"
                                },
                                {
                                    "TrackId": "1391",
                                    "TrackName": "Invaders",
                                    "AlbumTitle": "The Number of The Beast",
                                    "TotalSales": "0.99"
                                },
                                {
                                    "TrackId": "1392",
                                    "TrackName": "Run to the Hills",
                                    "AlbumTitle": "The Number of The Beast",
                                    "TotalSales": "0.99"
                                },
                                {
                                    "TrackId": "1396",
                                    "TrackName": "Lord Of The Flies",
                                    "AlbumTitle": "The X Factor",
                                    "TotalSales": "0.99"
                                },
                                {
                                    "TrackId": "1398",
                                    "TrackName": "Fortunes Of War",
                                    "AlbumTitle": "The X Factor",
                                    "TotalSales": "0.99"
                                },
                                {
                                    "TrackId": "1402",
                                    "TrackName": "Blood On The World's Hands",
                                    "AlbumTitle": "The X Factor",
                                    "TotalSales": "0.99"
                                },
                                {
                                    "TrackId": "1404",
                                    "TrackName": "2 A.M.",
                                    "AlbumTitle": "The X Factor",
                                    "TotalSales": "0.99"
                                },
                                {
                                    "TrackId": "1408",
                                    "TrackName": "Lightning Strikes Twice",
                                    "AlbumTitle": "Virtual XI",
                                    "TotalSales": "0.99"
                                },
                                {
                                    "TrackId": "1416",
                                    "TrackName": "Night Train",
                                    "AlbumTitle": "Sex Machine",
                                    "TotalSales": "0.99"
                                },
                                {
                                    "TrackId": "1420",
                                    "TrackName": "It's A Man's Man's Man's World",
                                    "AlbumTitle": "Sex Machine",
                                    "TotalSales": "0.99"
                                },
                                {
                                    "TrackId": "1428",
                                    "TrackName": "Get Up Offa That Thing",
                                    "AlbumTitle": "Sex Machine",
                                    "TotalSales": "0.99"
                                },
                                {
                                    "TrackId": "1434",
                                    "TrackName": "When You Gonna Learn (Digeridoo)",
                                    "AlbumTitle": "Emergency On Planet Earth",
                                    "TotalSales": "0.99"
                                },
                                {
                                    "TrackId": "1446",
                                    "TrackName": "Black Capricorn Day",
                                    "AlbumTitle": "Synkronized",
                                    "TotalSales": "0.99"
                                },
                                {
                                    "TrackId": "1452",
                                    "TrackName": "Were Do We Go From Here",
                                    "AlbumTitle": "Synkronized",
                                    "TotalSales": "0.99"
                                },
                                {
                                    "TrackId": "1464",
                                    "TrackName": "Morning Glory",
                                    "AlbumTitle": "The Return Of The Space Cowboy",
                                    "TotalSales": "0.99"
                                },
                                {
                                    "TrackId": "1470",
                                    "TrackName": "Get What You Need",
                                    "AlbumTitle": "Get Born",
                                    "TotalSales": "0.99"
                                },
                                {
                                    "TrackId": "1482",
                                    "TrackName": "Can You See Me",
                                    "AlbumTitle": "Are You Experienced?",
                                    "TotalSales": "0.99"
                                },
                                {
                                    "TrackId": "1491",
                                    "TrackName": "Stone Free",
                                    "AlbumTitle": "Are You Experienced?",
                                    "TotalSales": "0.99"
                                },
                                {
                                    "TrackId": "1500",
                                    "TrackName": "Satch Boogie",
                                    "AlbumTitle": "Surfing with the Alien (Remastered)",
                                    "TotalSales": "0.99"
                                },
                                {
                                    "TrackId": "1509",
                                    "TrackName": "Salve Simpatia",
                                    "AlbumTitle": "Jorge Ben Jor 25 Anos",
                                    "TotalSales": "0.99"
                                },
                                {
                                    "TrackId": "1518",
                                    "TrackName": "Filho Maravilha",
                                    "AlbumTitle": "Jorge Ben Jor 25 Anos",
                                    "TotalSales": "0.99"
                                },
                                {
                                    "TrackId": "1527",
                                    "TrackName": "Dance Enquanto é Tempo",
                                    "AlbumTitle": "Jota Quest-1995",
                                    "TotalSales": "0.99"
                                },
                                {
                                    "TrackId": "1536",
                                    "TrackName": "Voce Inteira",
                                    "AlbumTitle": "Cafezinho",
                                    "TotalSales": "0.99"
                                },
                                {
                                    "TrackId": "1545",
                                    "TrackName": "Enquanto O Dia Não Vem",
                                    "AlbumTitle": "Cafezinho",
                                    "TotalSales": "0.99"
                                },
                                {
                                    "TrackId": "1572",
                                    "TrackName": "Every Time I Look At You",
                                    "AlbumTitle": "Unplugged [Live]",
                                    "TotalSales": "0.99"
                                },
                                {
                                    "TrackId": "1581",
                                    "TrackName": "Dazed And Confused",
                                    "AlbumTitle": "BBC Sessions [Disc 2] [Live]",
                                    "TotalSales": "0.99"
                                },
                                {
                                    "TrackId": "1608",
                                    "TrackName": "All My Love",
                                    "AlbumTitle": "In Through The Out Door",
                                    "TotalSales": "0.99"
                                },
                                {
                                    "TrackId": "1622",
                                    "TrackName": "Your Time Is Gonna Come",
                                    "AlbumTitle": "Led Zeppelin I",
                                    "TotalSales": "0.99"
                                },
                                {
                                    "TrackId": "1623",
                                    "TrackName": "Black Mountain Side",
                                    "AlbumTitle": "Led Zeppelin I",
                                    "TotalSales": "0.99"
                                },
                                {
                                    "TrackId": "1624",
                                    "TrackName": "Communication Breakdown",
                                    "AlbumTitle": "Led Zeppelin I",
                                    "TotalSales": "0.99"
                                },
                                {
                                    "TrackId": "1628",
                                    "TrackName": "What Is And What Should Never Be",
                                    "AlbumTitle": "Led Zeppelin II",
                                    "TotalSales": "0.99"
                                },
                                {
                                    "TrackId": "1630",
                                    "TrackName": "Thank You",
                                    "AlbumTitle": "Led Zeppelin II",
                                    "TotalSales": "0.99"
                                },
                                {
                                    "TrackId": "1634",
                                    "TrackName": "Moby Dick",
                                    "AlbumTitle": "Led Zeppelin II",
                                    "TotalSales": "0.99"
                                },
                                {
                                    "TrackId": "1636",
                                    "TrackName": "Immigrant Song",
                                    "AlbumTitle": "Led Zeppelin III",
                                    "TotalSales": "0.99"
                                },
                                {
                                    "TrackId": "1640",
                                    "TrackName": "Out On The Tiles",
                                    "AlbumTitle": "Led Zeppelin III",
                                    "TotalSales": "0.99"
                                },
                                {
                                    "TrackId": "1648",
                                    "TrackName": "Down By The Seaside",
                                    "AlbumTitle": "Physical Graffiti [Disc 2]",
                                    "TotalSales": "0.99"
                                },
                                {
                                    "TrackId": "1652",
                                    "TrackName": "Boogie With Stu",
                                    "AlbumTitle": "Physical Graffiti [Disc 2]",
                                    "TotalSales": "0.99"
                                },
                                {
                                    "TrackId": "1660",
                                    "TrackName": "Hots On For Nowhere",
                                    "AlbumTitle": "Presence",
                                    "TotalSales": "0.99"
                                },
                                {
                                    "TrackId": "1666",
                                    "TrackName": "Dazed And Confused",
                                    "AlbumTitle": "The Song Remains The Same (Disc 1)",
                                    "TotalSales": "0.99"
                                },
                                {
                                    "TrackId": "1678",
                                    "TrackName": "Soul Parsifal",
                                    "AlbumTitle": "A TempestadeTempestade Ou O Livro Dos Dias",
                                    "TotalSales": "0.99"
                                },
                                {
                                    "TrackId": "1684",
                                    "TrackName": "Quando Você Voltar",
                                    "AlbumTitle": "A TempestadeTempestade Ou O Livro Dos Dias",
                                    "TotalSales": "0.99"
                                },
                                {
                                    "TrackId": "1696",
                                    "TrackName": "Meninos E Meninas",
                                    "AlbumTitle": "Mais Do Mesmo",
                                    "TotalSales": "0.99"
                                },
                                {
                                    "TrackId": "1702",
                                    "TrackName": "Are You Gonna Go My Way",
                                    "AlbumTitle": "Greatest Hits",
                                    "TotalSales": "0.99"
                                },
                                {
                                    "TrackId": "1714",
                                    "TrackName": "Believe",
                                    "AlbumTitle": "Greatest Hits",
                                    "TotalSales": "0.99"
                                },
                                {
                                    "TrackId": "1723",
                                    "TrackName": "Condição",
                                    "AlbumTitle": "Lulu Santos - RCA 100 Anos De Música - Álbum 01",
                                    "TotalSales": "0.99"
                                },
                                {
                                    "TrackId": "1732",
                                    "TrackName": "Aquilo",
                                    "AlbumTitle": "Lulu Santos - RCA 100 Anos De Música - Álbum 02",
                                    "TotalSales": "0.99"
                                },
                                {
                                    "TrackId": "1741",
                                    "TrackName": "Assaltaram A Gramática",
                                    "AlbumTitle": "Lulu Santos - RCA 100 Anos De Música - Álbum 02",
                                    "TotalSales": "0.99"
                                },
                                {
                                    "TrackId": "1750",
                                    "TrackName": "Waterhole (Expresso Bongo)",
                                    "AlbumTitle": "Misplaced Childhood",
                                    "TotalSales": "0.99"
                                },
                                {
                                    "TrackId": "1759",
                                    "TrackName": "Tempos Modernos",
                                    "AlbumTitle": "Barulhinho Bom",
                                    "TotalSales": "0.99"
                                },
                                {
                                    "TrackId": "1768",
                                    "TrackName": "Dança Da Solidão",
                                    "AlbumTitle": "Barulhinho Bom",
                                    "TotalSales": "0.99"
                                },
                                {
                                    "TrackId": "1777",
                                    "TrackName": "When I Had Your Love",
                                    "AlbumTitle": "Seek And Shall Find: More Of The Best (1963-1981)",
                                    "TotalSales": "0.99"
                                },
                                {
                                    "TrackId": "1804",
                                    "TrackName": "The Unforgiven",
                                    "AlbumTitle": "Black Album",
                                    "TotalSales": "0.99"
                                },
                                {
                                    "TrackId": "1813",
                                    "TrackName": "Helpless",
                                    "AlbumTitle": "Garage Inc. (Disc 2)",
                                    "TotalSales": "0.99"
                                },
                                {
                                    "TrackId": "1840",
                                    "TrackName": "2 X 4",
                                    "AlbumTitle": "Load",
                                    "TotalSales": "0.99"
                                },
                                {
                                    "TrackId": "1854",
                                    "TrackName": "Master Of Puppets",
                                    "AlbumTitle": "Master Of Puppets",
                                    "TotalSales": "0.99"
                                },
                                {
                                    "TrackId": "1855",
                                    "TrackName": "The Thing That Should Not Be",
                                    "AlbumTitle": "Master Of Puppets",
                                    "TotalSales": "0.99"
                                },
                                {
                                    "TrackId": "1856",
                                    "TrackName": "Welcome Home (Sanitarium)",
                                    "AlbumTitle": "Master Of Puppets",
                                    "TotalSales": "0.99"
                                },
                                {
                                    "TrackId": "1860",
                                    "TrackName": "Damage Inc.",
                                    "AlbumTitle": "Master Of Puppets",
                                    "TotalSales": "0.99"
                                },
                                {
                                    "TrackId": "1862",
                                    "TrackName": "The Memory Remains",
                                    "AlbumTitle": "ReLoad",
                                    "TotalSales": "0.99"
                                },
                                {
                                    "TrackId": "1866",
                                    "TrackName": "Slither",
                                    "AlbumTitle": "ReLoad",
                                    "TotalSales": "0.99"
                                },
                                {
                                    "TrackId": "1868",
                                    "TrackName": "Bad Seed",
                                    "AlbumTitle": "ReLoad",
                                    "TotalSales": "0.99"
                                },
                                {
                                    "TrackId": "1872",
                                    "TrackName": "Attitude",
                                    "AlbumTitle": "ReLoad",
                                    "TotalSales": "0.99"
                                },
                                {
                                    "TrackId": "1880",
                                    "TrackName": "Creeping Death",
                                    "AlbumTitle": "Ride The Lightning",
                                    "TotalSales": "0.99"
                                },
                                {
                                    "TrackId": "1884",
                                    "TrackName": "Some Kind Of Monster",
                                    "AlbumTitle": "St. Anger",
                                    "TotalSales": "0.99"
                                },
                                {
                                    "TrackId": "1892",
                                    "TrackName": "All Within My Hands",
                                    "AlbumTitle": "St. Anger",
                                    "TotalSales": "0.99"
                                },
                                {
                                    "TrackId": "1898",
                                    "TrackName": "Harvester Of Sorrow",
                                    "AlbumTitle": "...And Justice For All",
                                    "TotalSales": "0.99"
                                },
                                {
                                    "TrackId": "1910",
                                    "TrackName": "Lament",
                                    "AlbumTitle": "Miles Ahead",
                                    "TotalSales": "0.99"
                                },
                                {
                                    "TrackId": "1916",
                                    "TrackName": "Coração De Estudante",
                                    "AlbumTitle": "Milton Nascimento Ao Vivo",
                                    "TotalSales": "0.99"
                                },
                                {
                                    "TrackId": "1928",
                                    "TrackName": "Maria, Maria",
                                    "AlbumTitle": "Milton Nascimento Ao Vivo",
                                    "TotalSales": "0.99"
                                },
                                {
                                    "TrackId": "1934",
                                    "TrackName": "Ponta de Areia",
                                    "AlbumTitle": "Minas",
                                    "TotalSales": "0.99"
                                },
                                {
                                    "TrackId": "1946",
                                    "TrackName": "Fast And Loose",
                                    "AlbumTitle": "Ace Of Spades",
                                    "TotalSales": "0.99"
                                },
                                {
                                    "TrackId": "1955",
                                    "TrackName": "Please Don't Touch",
                                    "AlbumTitle": "Ace Of Spades",
                                    "TotalSales": "0.99"
                                },
                                {
                                    "TrackId": "1964",
                                    "TrackName": "Já Foi",
                                    "AlbumTitle": "Demorou...",
                                    "TotalSales": "0.99"
                                },
                                {
                                    "TrackId": "1973",
                                    "TrackName": "Wild Side",
                                    "AlbumTitle": "Motley Crue Greatest Hits",
                                    "TotalSales": "0.99"
                                },
                                {
                                    "TrackId": "1982",
                                    "TrackName": "Primal Scream",
                                    "AlbumTitle": "Motley Crue Greatest Hits",
                                    "TotalSales": "0.99"
                                },
                                {
                                    "TrackId": "1991",
                                    "TrackName": "Been A Son",
                                    "AlbumTitle": "From The Muddy Banks Of The Wishkah [Live]",
                                    "TotalSales": "0.99"
                                },
                                {
                                    "TrackId": "2000",
                                    "TrackName": "Breed",
                                    "AlbumTitle": "From The Muddy Banks Of The Wishkah [Live]",
                                    "TotalSales": "0.99"
                                },
                                {
                                    "TrackId": "2009",
                                    "TrackName": "Territorial Pissings",
                                    "AlbumTitle": "Nevermind",
                                    "TotalSales": "0.99"
                                },
                                {
                                    "TrackId": "2036",
                                    "TrackName": "Denúncia",
                                    "AlbumTitle": "Olodum",
                                    "TotalSales": "0.99"
                                },
                                {
                                    "TrackId": "2045",
                                    "TrackName": "O Trem Da Juventude",
                                    "AlbumTitle": "Acústico MTV",
                                    "TotalSales": "0.99"
                                },
                                {
                                    "TrackId": "2072",
                                    "TrackName": "Luis Inacio (300 Picaretas)",
                                    "AlbumTitle": "Arquivo II",
                                    "TotalSales": "0.99"
                                },
                                {
                                    "TrackId": "2086",
                                    "TrackName": "Perplexo",
                                    "AlbumTitle": "Arquivo Os Paralamas Do Sucesso",
                                    "TotalSales": "0.99"
                                },
                                {
                                    "TrackId": "2087",
                                    "TrackName": "Me Liga",
                                    "AlbumTitle": "Arquivo Os Paralamas Do Sucesso",
                                    "TotalSales": "0.99"
                                },
                                {
                                    "TrackId": "2088",
                                    "TrackName": "Quase Um Segundo",
                                    "AlbumTitle": "Arquivo Os Paralamas Do Sucesso",
                                    "TotalSales": "0.99"
                                },
                                {
                                    "TrackId": "2092",
                                    "TrackName": "SKA",
                                    "AlbumTitle": "Arquivo Os Paralamas Do Sucesso",
                                    "TotalSales": "0.99"
                                },
                                {
                                    "TrackId": "2094",
                                    "TrackName": "I Don't Know",
                                    "AlbumTitle": "Blizzard of Ozz",
                                    "TotalSales": "0.99"
                                },
                                {
                                    "TrackId": "2098",
                                    "TrackName": "No More Tears",
                                    "AlbumTitle": "No More Tears (Remastered)",
                                    "TotalSales": "0.99"
                                },
                                {
                                    "TrackId": "2100",
                                    "TrackName": "Crazy Train",
                                    "AlbumTitle": "Tribute",
                                    "TotalSales": "0.99"
                                },
                                {
                                    "TrackId": "2104",
                                    "TrackName": "Relvelation (Mother Earth)",
                                    "AlbumTitle": "Tribute",
                                    "TotalSales": "0.99"
                                },
                                {
                                    "TrackId": "2112",
                                    "TrackName": "Dee",
                                    "AlbumTitle": "Tribute",
                                    "TotalSales": "0.99"
                                },
                                {
                                    "TrackId": "2116",
                                    "TrackName": "Blue Train",
                                    "AlbumTitle": "Walking Into Clarksdale",
                                    "TotalSales": "0.99"
                                },
                                {
                                    "TrackId": "2124",
                                    "TrackName": "Sons Of Freedom",
                                    "AlbumTitle": "Walking Into Clarksdale",
                                    "TotalSales": "0.99"
                                },
                                {
                                    "TrackId": "2130",
                                    "TrackName": "Beach Sequence",
                                    "AlbumTitle": "Original Soundtracks 1",
                                    "TotalSales": "0.99"
                                },
                                {
                                    "TrackId": "2142",
                                    "TrackName": "Murders In The Rue Morgue",
                                    "AlbumTitle": "The Beast Live",
                                    "TotalSales": "0.99"
                                },
                                {
                                    "TrackId": "2148",
                                    "TrackName": "Iron Maiden",
                                    "AlbumTitle": "The Beast Live",
                                    "TotalSales": "0.99"
                                },
                                {
                                    "TrackId": "2160",
                                    "TrackName": "Nothingman",
                                    "AlbumTitle": "Live On Two Legs [Live]",
                                    "TotalSales": "0.99"
                                },
                                {
                                    "TrackId": "2166",
                                    "TrackName": "World Wide Suicide",
                                    "AlbumTitle": "Pearl Jam",
                                    "TotalSales": "0.99"
                                },
                                {
                                    "TrackId": "2178",
                                    "TrackName": "Can't Keep",
                                    "AlbumTitle": "Riot Act",
                                    "TotalSales": "0.99"
                                },
                                {
                                    "TrackId": "2187",
                                    "TrackName": "Green Disease",
                                    "AlbumTitle": "Riot Act",
                                    "TotalSales": "0.99"
                                },
                                {
                                    "TrackId": "2196",
                                    "TrackName": "Why Go",
                                    "AlbumTitle": "Ten",
                                    "TotalSales": "0.99"
                                },
                                {
                                    "TrackId": "2205",
                                    "TrackName": "Animal",
                                    "AlbumTitle": "Vs.",
                                    "TotalSales": "0.99"
                                },
                                {
                                    "TrackId": "2214",
                                    "TrackName": "Leash",
                                    "AlbumTitle": "Vs.",
                                    "TotalSales": "0.99"
                                },
                                {
                                    "TrackId": "2223",
                                    "TrackName": "Wanted Dread And Alive",
                                    "AlbumTitle": "Greatest Hits",
                                    "TotalSales": "0.99"
                                },
                                {
                                    "TrackId": "2232",
                                    "TrackName": "The Great Gig In The Sky",
                                    "AlbumTitle": "Dark Side Of The Moon",
                                    "TotalSales": "0.99"
                                },
                                {
                                    "TrackId": "2241",
                                    "TrackName": "Bossa",
                                    "AlbumTitle": "Os Cães Ladram Mas A Caravana Não Pára",
                                    "TotalSales": "0.99"
                                },
                                {
                                    "TrackId": "2268",
                                    "TrackName": "Seven Seas Of Rhye",
                                    "AlbumTitle": "Greatest Hits I",
                                    "TotalSales": "0.99"
                                },
                                {
                                    "TrackId": "2277",
                                    "TrackName": "Get Down, Make Love",
                                    "AlbumTitle": "News Of The World",
                                    "TotalSales": "0.99"
                                },
                                {
                                    "TrackId": "2304",
                                    "TrackName": "Be Mine",
                                    "AlbumTitle": "New Adventures In Hi-Fi",
                                    "TotalSales": "0.99"
                                },
                                {
                                    "TrackId": "2318",
                                    "TrackName": "Carnival Of Sorts",
                                    "AlbumTitle": "The Best Of R.E.M.: The IRS Years",
                                    "TotalSales": "0.99"
                                },
                                {
                                    "TrackId": "2319",
                                    "TrackName": "Radio Free Aurope",
                                    "AlbumTitle": "The Best Of R.E.M.: The IRS Years",
                                    "TotalSales": "0.99"
                                },
                                {
                                    "TrackId": "2320",
                                    "TrackName": "Perfect Circle",
                                    "AlbumTitle": "The Best Of R.E.M.: The IRS Years",
                                    "TotalSales": "0.99"
                                },
                                {
                                    "TrackId": "2324",
                                    "TrackName": "Pretty Persuasion",
                                    "AlbumTitle": "The Best Of R.E.M.: The IRS Years",
                                    "TotalSales": "0.99"
                                },
                                {
                                    "TrackId": "2326",
                                    "TrackName": "Can't Get There From Here",
                                    "AlbumTitle": "The Best Of R.E.M.: The IRS Years",
                                    "TotalSales": "0.99"
                                },
                                {
                                    "TrackId": "2330",
                                    "TrackName": "Cuyahoga",
                                    "AlbumTitle": "The Best Of R.E.M.: The IRS Years",
                                    "TotalSales": "0.99"
                                },
                                {
                                    "TrackId": "2332",
                                    "TrackName": "The Finest Worksong",
                                    "AlbumTitle": "The Best Of R.E.M.: The IRS Years",
                                    "TotalSales": "0.99"
                                },
                                {
                                    "TrackId": "2336",
                                    "TrackName": "Papeau Nuky Doe",
                                    "AlbumTitle": "Cesta Básica",
                                    "TotalSales": "0.99"
                                },
                                {
                                    "TrackId": "2344",
                                    "TrackName": "Maluco Beleza",
                                    "AlbumTitle": "Raul Seixas",
                                    "TotalSales": "0.99"
                                },
                                {
                                    "TrackId": "2348",
                                    "TrackName": "As Profecias",
                                    "AlbumTitle": "Raul Seixas",
                                    "TotalSales": "0.99"
                                },
                                {
                                    "TrackId": "2356",
                                    "TrackName": "Século XXI",
                                    "AlbumTitle": "Raul Seixas",
                                    "TotalSales": "0.99"
                                },
                                {
                                    "TrackId": "2362",
                                    "TrackName": "Suck My Kiss",
                                    "AlbumTitle": "Blood Sugar Sex Magik",
                                    "TotalSales": "0.99"
                                },
                                {
                                    "TrackId": "2374",
                                    "TrackName": "They're Red Hot",
                                    "AlbumTitle": "Blood Sugar Sex Magik",
                                    "TotalSales": "0.99"
                                },
                                {
                                    "TrackId": "2380",
                                    "TrackName": "The Zephyr Song",
                                    "AlbumTitle": "By The Way",
                                    "TotalSales": "0.99"
                                },
                                {
                                    "TrackId": "2392",
                                    "TrackName": "Parallel Universe",
                                    "AlbumTitle": "Californication",
                                    "TotalSales": "0.99"
                                },
                                {
                                    "TrackId": "2398",
                                    "TrackName": "Porcelain",
                                    "AlbumTitle": "Californication",
                                    "TotalSales": "0.99"
                                },
                                {
                                    "TrackId": "2410",
                                    "TrackName": "Xanadu",
                                    "AlbumTitle": "Retrospective I (1974-1980)",
                                    "TotalSales": "0.99"
                                },
                                {
                                    "TrackId": "2419",
                                    "TrackName": "Finding My Way",
                                    "AlbumTitle": "Retrospective I (1974-1980)",
                                    "TotalSales": "0.99"
                                },
                                {
                                    "TrackId": "2428",
                                    "TrackName": "Evil Ways",
                                    "AlbumTitle": "Santana Live",
                                    "TotalSales": "0.99"
                                },
                                {
                                    "TrackId": "2437",
                                    "TrackName": "It's Only Love",
                                    "AlbumTitle": "Greatest Hits",
                                    "TotalSales": "0.99"
                                },
                                {
                                    "TrackId": "2446",
                                    "TrackName": "So Beautiful",
                                    "AlbumTitle": "Greatest Hits",
                                    "TotalSales": "0.99"
                                },
                                {
                                    "TrackId": "2455",
                                    "TrackName": "Maquinarama",
                                    "AlbumTitle": "Maquinarama",
                                    "TotalSales": "0.99"
                                },
                                {
                                    "TrackId": "2464",
                                    "TrackName": "Garota Nacional",
                                    "AlbumTitle": "O Samba Poconé",
                                    "TotalSales": "0.99"
                                },
                                {
                                    "TrackId": "2473",
                                    "TrackName": "Aeroplane Flies High",
                                    "AlbumTitle": "Judas 0: B-Sides and Rarities",
                                    "TotalSales": "0.99"
                                },
                                {
                                    "TrackId": "2500",
                                    "TrackName": "Ava Adore",
                                    "AlbumTitle": "Rotten Apples: Greatest Hits",
                                    "TotalSales": "0.99"
                                },
                                {
                                    "TrackId": "2509",
                                    "TrackName": "Hands All Over",
                                    "AlbumTitle": "A-Sides",
                                    "TotalSales": "0.99"
                                },
                                {
                                    "TrackId": "2536",
                                    "TrackName": "Leave My Girl Alone",
                                    "AlbumTitle": "In Step",
                                    "TotalSales": "0.99"
                                },
                                {
                                    "TrackId": "2550",
                                    "TrackName": "Plush",
                                    "AlbumTitle": "Core",
                                    "TotalSales": "0.99"
                                },
                                {
                                    "TrackId": "2551",
                                    "TrackName": "Wet My Bed",
                                    "AlbumTitle": "Core",
                                    "TotalSales": "0.99"
                                },
                                {
                                    "TrackId": "2552",
                                    "TrackName": "Crackerman",
                                    "AlbumTitle": "Core",
                                    "TotalSales": "0.99"
                                },
                                {
                                    "TrackId": "2556",
                                    "TrackName": "Revenga",
                                    "AlbumTitle": "Mezmerize",
                                    "TotalSales": "0.99"
                                },
                                {
                                    "TrackId": "2558",
                                    "TrackName": "Radio/Video",
                                    "AlbumTitle": "Mezmerize",
                                    "TotalSales": "0.99"
                                },
                                {
                                    "TrackId": "2562",
                                    "TrackName": "Sad Statue",
                                    "AlbumTitle": "Mezmerize",
                                    "TotalSales": "0.99"
                                },
                                {
                                    "TrackId": "2564",
                                    "TrackName": "Lost in Hollywood",
                                    "AlbumTitle": "Mezmerize",
                                    "TotalSales": "0.99"
                                },
                                {
                                    "TrackId": "2568",
                                    "TrackName": "Black Light Syndrome",
                                    "AlbumTitle": "[1997] Black Light Syndrome",
                                    "TotalSales": "0.99"
                                },
                                {
                                    "TrackId": "2576",
                                    "TrackName": "Sometimes Salvation",
                                    "AlbumTitle": "Live [Disc 1]",
                                    "TotalSales": "0.99"
                                },
                                {
                                    "TrackId": "2580",
                                    "TrackName": "Girl From A Pawnshop",
                                    "AlbumTitle": "Live [Disc 1]",
                                    "TotalSales": "0.99"
                                },
                                {
                                    "TrackId": "2588",
                                    "TrackName": "Soul Singing",
                                    "AlbumTitle": "Live [Disc 2]",
                                    "TotalSales": "0.99"
                                },
                                {
                                    "TrackId": "2594",
                                    "TrackName": "Clash City Rockers",
                                    "AlbumTitle": "The Singles",
                                    "TotalSales": "0.99"
                                },
                                {
                                    "TrackId": "2606",
                                    "TrackName": "Know Your Rights",
                                    "AlbumTitle": "The Singles",
                                    "TotalSales": "0.99"
                                },
                                {
                                    "TrackId": "2612",
                                    "TrackName": "Take The Power",
                                    "AlbumTitle": "Beyond Good And Evil",
                                    "TotalSales": "0.99"
                                },
                                {
                                    "TrackId": "2624",
                                    "TrackName": "Spirit Walker",
                                    "AlbumTitle": "Pure Cult: The Best Of The Cult (For Rockers, Ravers, Lovers & Sinners) [UK]",
                                    "TotalSales": "0.99"
                                },
                                {
                                    "TrackId": "2630",
                                    "TrackName": "Edie (Ciao Baby)",
                                    "AlbumTitle": "Pure Cult: The Best Of The Cult (For Rockers, Ravers, Lovers & Sinners) [UK]",
                                    "TotalSales": "0.99"
                                },
                                {
                                    "TrackId": "2642",
                                    "TrackName": "Twentienth Century Fox",
                                    "AlbumTitle": "The Doors",
                                    "TotalSales": "0.99"
                                },
                                {
                                    "TrackId": "2651",
                                    "TrackName": "Can't Stand Losing You",
                                    "AlbumTitle": "The Police Greatest Hits",
                                    "TotalSales": "0.99"
                                },
                                {
                                    "TrackId": "2660",
                                    "TrackName": "King Of Pain",
                                    "AlbumTitle": "The Police Greatest Hits",
                                    "TotalSales": "0.99"
                                },
                                {
                                    "TrackId": "2669",
                                    "TrackName": "Get Off Of My Cloud",
                                    "AlbumTitle": "Hot Rocks, 1964-1971 (Disc 1)",
                                    "TotalSales": "0.99"
                                },
                                {
                                    "TrackId": "2678",
                                    "TrackName": "Gimmie Shelters",
                                    "AlbumTitle": "No Security",
                                    "TotalSales": "0.99"
                                },
                                {
                                    "TrackId": "2687",
                                    "TrackName": "Thief In The Night",
                                    "AlbumTitle": "No Security",
                                    "TotalSales": "0.99"
                                },
                                {
                                    "TrackId": "2696",
                                    "TrackName": "Out Of Tears",
                                    "AlbumTitle": "Voodoo Lounge",
                                    "TotalSales": "0.99"
                                },
                                {
                                    "TrackId": "2705",
                                    "TrackName": "Walking Wounded",
                                    "AlbumTitle": "Tangents",
                                    "TotalSales": "0.99"
                                },
                                {
                                    "TrackId": "2732",
                                    "TrackName": "Anyway, Anyhow, Anywhere",
                                    "AlbumTitle": "My Generation - The Very Best Of The Who",
                                    "TotalSales": "0.99"
                                },
                                {
                                    "TrackId": "2741",
                                    "TrackName": "Pinball Wizard",
                                    "AlbumTitle": "My Generation - The Very Best Of The Who",
                                    "TotalSales": "0.99"
                                },
                                {
                                    "TrackId": "2768",
                                    "TrackName": "Você",
                                    "AlbumTitle": "Serie Sem Limite (Disc 2)",
                                    "TotalSales": "0.99"
                                },
                                {
                                    "TrackId": "2782",
                                    "TrackName": "Go Back",
                                    "AlbumTitle": "Acústico",
                                    "TotalSales": "0.99"
                                },
                                {
                                    "TrackId": "2783",
                                    "TrackName": "Prá Dizer Adeus",
                                    "AlbumTitle": "Acústico",
                                    "TotalSales": "0.99"
                                },
                                {
                                    "TrackId": "2784",
                                    "TrackName": "Família",
                                    "AlbumTitle": "Acústico",
                                    "TotalSales": "0.99"
                                },
                                {
                                    "TrackId": "2788",
                                    "TrackName": "Nem 5 Minutos Guardados",
                                    "AlbumTitle": "Acústico",
                                    "TotalSales": "0.99"
                                },
                                {
                                    "TrackId": "2790",
                                    "TrackName": "Palavras",
                                    "AlbumTitle": "Acústico",
                                    "TotalSales": "0.99"
                                },
                                {
                                    "TrackId": "2794",
                                    "TrackName": "32 Dentes",
                                    "AlbumTitle": "Acústico",
                                    "TotalSales": "0.99"
                                },
                                {
                                    "TrackId": "2796",
                                    "TrackName": "Não Vou Lutar",
                                    "AlbumTitle": "Acústico",
                                    "TotalSales": "0.99"
                                },
                                {
                                    "TrackId": "2800",
                                    "TrackName": "Querem Meu Sangue",
                                    "AlbumTitle": "Acústico",
                                    "TotalSales": "0.99"
                                },
                                {
                                    "TrackId": "2808",
                                    "TrackName": "Domingo",
                                    "AlbumTitle": "Volume Dois",
                                    "TotalSales": "0.99"
                                },
                                {
                                    "TrackId": "2812",
                                    "TrackName": "Era Uma Vez",
                                    "AlbumTitle": "Volume Dois",
                                    "TotalSales": "0.99"
                                },
                                {
                                    "TrackId": "2928",
                                    "TrackName": "One",
                                    "AlbumTitle": "Achtung Baby",
                                    "TotalSales": "0.99"
                                },
                                {
                                    "TrackId": "2937",
                                    "TrackName": "Love Is Blindness",
                                    "AlbumTitle": "Achtung Baby",
                                    "TotalSales": "0.99"
                                },
                                {
                                    "TrackId": "2964",
                                    "TrackName": "Vertigo",
                                    "AlbumTitle": "How To Dismantle An Atomic Bomb",
                                    "TotalSales": "0.99"
                                },
                                {
                                    "TrackId": "2973",
                                    "TrackName": "Original Of The Species",
                                    "AlbumTitle": "How To Dismantle An Atomic Bomb",
                                    "TotalSales": "0.99"
                                },
                                {
                                    "TrackId": "3000",
                                    "TrackName": "God Part II",
                                    "AlbumTitle": "Rattle And Hum",
                                    "TotalSales": "0.99"
                                },
                                {
                                    "TrackId": "3014",
                                    "TrackName": "Desire",
                                    "AlbumTitle": "The Best Of 1980-1990",
                                    "TotalSales": "0.99"
                                },
                                {
                                    "TrackId": "3015",
                                    "TrackName": "When Love Comes To Town",
                                    "AlbumTitle": "The Best Of 1980-1990",
                                    "TotalSales": "0.99"
                                },
                                {
                                    "TrackId": "3016",
                                    "TrackName": "Angel Of Harlem",
                                    "AlbumTitle": "The Best Of 1980-1990",
                                    "TotalSales": "0.99"
                                },
                                {
                                    "TrackId": "3020",
                                    "TrackName": "New Year's Day",
                                    "AlbumTitle": "War",
                                    "TotalSales": "0.99"
                                },
                                {
                                    "TrackId": "3022",
                                    "TrackName": "Drowning Man",
                                    "AlbumTitle": "War",
                                    "TotalSales": "0.99"
                                },
                                {
                                    "TrackId": "3026",
                                    "TrackName": "Surrender",
                                    "AlbumTitle": "War",
                                    "TotalSales": "0.99"
                                },
                                {
                                    "TrackId": "3028",
                                    "TrackName": "Zooropa",
                                    "AlbumTitle": "Zooropa",
                                    "TotalSales": "0.99"
                                },
                                {
                                    "TrackId": "3032",
                                    "TrackName": "Stay (Faraway, So Close!)",
                                    "AlbumTitle": "Zooropa",
                                    "TotalSales": "0.99"
                                },
                                {
                                    "TrackId": "3040",
                                    "TrackName": "I Would Do For You",
                                    "AlbumTitle": "UB40 The Best Of - Volume Two [UK]",
                                    "TotalSales": "0.99"
                                },
                                {
                                    "TrackId": "3044",
                                    "TrackName": "Wear You To The Ball",
                                    "AlbumTitle": "UB40 The Best Of - Volume Two [UK]",
                                    "TotalSales": "0.99"
                                },
                                {
                                    "TrackId": "3052",
                                    "TrackName": "Where Have All The Good Times Gone?",
                                    "AlbumTitle": "Diver Down",
                                    "TotalSales": "0.99"
                                },
                                {
                                    "TrackId": "3058",
                                    "TrackName": "Dancing In The Street",
                                    "AlbumTitle": "Diver Down",
                                    "TotalSales": "0.99"
                                },
                                {
                                    "TrackId": "3070",
                                    "TrackName": "Jump",
                                    "AlbumTitle": "The Best Of Van Halen, Vol. I",
                                    "TotalSales": "0.99"
                                },
                                {
                                    "TrackId": "3076",
                                    "TrackName": "Right Now",
                                    "AlbumTitle": "The Best Of Van Halen, Vol. I",
                                    "TotalSales": "0.99"
                                },
                                {
                                    "TrackId": "3088",
                                    "TrackName": "Feel Your Love Tonight",
                                    "AlbumTitle": "Van Halen",
                                    "TotalSales": "0.99"
                                },
                                {
                                    "TrackId": "3094",
                                    "TrackName": "One I Want",
                                    "AlbumTitle": "Van Halen III",
                                    "TotalSales": "0.99"
                                },
                                {
                                    "TrackId": "3106",
                                    "TrackName": "Big Machine",
                                    "AlbumTitle": "Contraband",
                                    "TotalSales": "0.99"
                                },
                                {
                                    "TrackId": "3115",
                                    "TrackName": "Dirty Little Thing",
                                    "AlbumTitle": "Contraband",
                                    "TotalSales": "0.99"
                                },
                                {
                                    "TrackId": "3124",
                                    "TrackName": "So Por Amor",
                                    "AlbumTitle": "Vinicius De Moraes",
                                    "TotalSales": "0.99"
                                },
                                {
                                    "TrackId": "3133",
                                    "TrackName": "Here I Go Again",
                                    "AlbumTitle": "Greatest Hits",
                                    "TotalSales": "0.99"
                                },
                                {
                                    "TrackId": "3142",
                                    "TrackName": "The Deeper The Love",
                                    "AlbumTitle": "Greatest Hits",
                                    "TotalSales": "0.99"
                                },
                                {
                                    "TrackId": "3151",
                                    "TrackName": "Seu Balancê",
                                    "AlbumTitle": "Ao Vivo [IMPORT]",
                                    "TotalSales": "0.99"
                                },
                                {
                                    "TrackId": "3160",
                                    "TrackName": "Sapopemba e Maxambomba",
                                    "AlbumTitle": "Ao Vivo [IMPORT]",
                                    "TotalSales": "0.99"
                                },
                                {
                                    "TrackId": "3254",
                                    "TrackName": "#9 Dream",
                                    "AlbumTitle": "Instant Karma: The Amnesty International Campaign to Save Darfur",
                                    "TotalSales": "0.99"
                                },
                                {
                                    "TrackId": "3258",
                                    "TrackName": "Whatever Gets You Thru the Night",
                                    "AlbumTitle": "Instant Karma: The Amnesty International Campaign to Save Darfur",
                                    "TotalSales": "0.99"
                                },
                                {
                                    "TrackId": "3260",
                                    "TrackName": "Gimme Some Truth",
                                    "AlbumTitle": "Instant Karma: The Amnesty International Campaign to Save Darfur",
                                    "TotalSales": "0.99"
                                },
                                {
                                    "TrackId": "3264",
                                    "TrackName": "Jealous Guy",
                                    "AlbumTitle": "Instant Karma: The Amnesty International Campaign to Save Darfur",
                                    "TotalSales": "0.99"
                                },
                                {
                                    "TrackId": "3272",
                                    "TrackName": "Gimme Some Truth",
                                    "AlbumTitle": "Instant Karma: The Amnesty International Campaign to Save Darfur",
                                    "TotalSales": "0.99"
                                },
                                {
                                    "TrackId": "3276",
                                    "TrackName": "Sympton of the Universe",
                                    "AlbumTitle": "Speak of the Devil",
                                    "TotalSales": "0.99"
                                },
                                {
                                    "TrackId": "3284",
                                    "TrackName": "Never Say Die",
                                    "AlbumTitle": "Speak of the Devil",
                                    "TotalSales": "0.99"
                                },
                                {
                                    "TrackId": "3290",
                                    "TrackName": "The Zoo",
                                    "AlbumTitle": "20th Century Masters - The Millennium Collection: The Best of Scorpions",
                                    "TotalSales": "0.99"
                                },
                                {
                                    "TrackId": "3296",
                                    "TrackName": "I Can't Explain",
                                    "AlbumTitle": "20th Century Masters - The Millennium Collection: The Best of Scorpions",
                                    "TotalSales": "0.99"
                                },
                                {
                                    "TrackId": "3302",
                                    "TrackName": "Put Your Head Out",
                                    "AlbumTitle": "House of Pain",
                                    "TotalSales": "0.99"
                                },
                                {
                                    "TrackId": "3308",
                                    "TrackName": "Danny Boy, Danny Boy",
                                    "AlbumTitle": "House of Pain",
                                    "TotalSales": "0.99"
                                },
                                {
                                    "TrackId": "3314",
                                    "TrackName": "One For The Road",
                                    "AlbumTitle": "House of Pain",
                                    "TotalSales": "0.99"
                                },
                                {
                                    "TrackId": "3320",
                                    "TrackName": "Chapa o Coco",
                                    "AlbumTitle": "Radio Brasil (O Som da Jovem Vanguarda) - Seleccao de Henrique Amaro",
                                    "TotalSales": "0.99"
                                },
                                {
                                    "TrackId": "3326",
                                    "TrackName": "Todo o Carnaval tem seu Fim",
                                    "AlbumTitle": "Radio Brasil (O Som da Jovem Vanguarda) - Seleccao de Henrique Amaro",
                                    "TotalSales": "0.99"
                                },
                                {
                                    "TrackId": "3332",
                                    "TrackName": "Funk de Bamba",
                                    "AlbumTitle": "Radio Brasil (O Som da Jovem Vanguarda) - Seleccao de Henrique Amaro",
                                    "TotalSales": "0.99"
                                },
                                {
                                    "TrackId": "3356",
                                    "TrackName": "Muita Bobeira",
                                    "AlbumTitle": "Duos II",
                                    "TotalSales": "0.99"
                                },
                                {
                                    "TrackId": "3365",
                                    "TrackName": "Say Hello 2 Heaven",
                                    "AlbumTitle": "Temple of the Dog",
                                    "TotalSales": "0.99"
                                },
                                {
                                    "TrackId": "3374",
                                    "TrackName": "All Night Thing",
                                    "AlbumTitle": "Temple of the Dog",
                                    "TotalSales": "0.99"
                                },
                                {
                                    "TrackId": "3383",
                                    "TrackName": "Scar On the Sky",
                                    "AlbumTitle": "Carry On",
                                    "TotalSales": "0.99"
                                },
                                {
                                    "TrackId": "3392",
                                    "TrackName": "Until We Fall",
                                    "AlbumTitle": "Revelations",
                                    "TotalSales": "0.99"
                                },
                                {
                                    "TrackId": "3401",
                                    "TrackName": "Show Me How to Live (Live at the Quart Festival)",
                                    "AlbumTitle": "Revelations",
                                    "TotalSales": "0.99"
                                },
                                {
                                    "TrackId": "3410",
                                    "TrackName": "The Messiah: Behold, I Tell You a Mystery... The Trumpet Shall Sound",
                                    "AlbumTitle": "Handel: The Messiah (Highlights)",
                                    "TotalSales": "0.99"
                                },
                                {
                                    "TrackId": "3419",
                                    "TrackName": "Requiem, Op.48: 4. Pie Jesu",
                                    "AlbumTitle": "Fauré: Requiem, Ravel: Pavane & Others",
                                    "TotalSales": "0.99"
                                },
                                {
                                    "TrackId": "3437",
                                    "TrackName": "Piano Sonata No. 14 in C Sharp Minor, Op. 27, No. 2, \"Moonlight\": I. Adagio sostenuto",
                                    "AlbumTitle": "Beethoven Piano Sonatas: Moonlight & Pastorale",
                                    "TotalSales": "0.99"
                                },
                                {
                                    "TrackId": "3464",
                                    "TrackName": "He Can Only Hold Her",
                                    "AlbumTitle": "Back to Black",
                                    "TotalSales": "0.99"
                                },
                                {
                                    "TrackId": "3478",
                                    "TrackName": "Slowness",
                                    "AlbumTitle": "Carried to Dust (Bonus Track Version)",
                                    "TotalSales": "0.99"
                                },
                                {
                                    "TrackId": "3479",
                                    "TrackName": "Prometheus Overture, Op. 43",
                                    "AlbumTitle": "Beethoven: Symphony No. 6 'Pastoral' Etc.",
                                    "TotalSales": "0.99"
                                },
                                {
                                    "TrackId": "3480",
                                    "TrackName": "Sonata for Solo Violin: IV: Presto",
                                    "AlbumTitle": "Bartok: Violin & Viola Concertos",
                                    "TotalSales": "0.99"
                                },
                                {
                                    "TrackId": "3484",
                                    "TrackName": "Adios nonino",
                                    "AlbumTitle": "South American Getaway",
                                    "TotalSales": "0.99"
                                },
                                {
                                    "TrackId": "3486",
                                    "TrackName": "Act IV, Symphony",
                                    "AlbumTitle": "Purcell: The Fairy Queen",
                                    "TotalSales": "0.99"
                                },
                                {
                                    "TrackId": "3490",
                                    "TrackName": "Partita in E Major, BWV 1006A: I. Prelude",
                                    "AlbumTitle": "J.S. Bach: Chaconne, Suite in E Minor, Partita in E Major & Prelude, Fugue and Allegro",
                                    "TotalSales": "0.99"
                                },
                                {
                                    "TrackId": "3492",
                                    "TrackName": "Sing Joyfully",
                                    "AlbumTitle": "English Renaissance",
                                    "TotalSales": "0.99"
                                },
                                {
                                    "TrackId": "3496",
                                    "TrackName": "Étude 1, In C Major - Preludio (Presto) - Liszt",
                                    "AlbumTitle": "Liszt - 12 Études D'Execution Transcendante",
                                    "TotalSales": "0.99"
                                },
                                {
                                    "TrackId": "1",
                                    "TrackName": "For Those About To Rock (We Salute You)",
                                    "AlbumTitle": "For Those About To Rock We Salute You",
                                    "TotalSales": "0.99"
                                },
                                {
                                    "TrackId": "5",
                                    "TrackName": "Princess of the Dawn",
                                    "AlbumTitle": "Restless and Wild",
                                    "TotalSales": "0.99"
                                },
                                {
                                    "TrackId": "13",
                                    "TrackName": "Night Of The Long Knives",
                                    "AlbumTitle": "For Those About To Rock We Salute You",
                                    "TotalSales": "0.99"
                                },
                                {
                                    "TrackId": "19",
                                    "TrackName": "Problem Child",
                                    "AlbumTitle": "Let There Be Rock",
                                    "TotalSales": "0.99"
                                },
                                {
                                    "TrackId": "25",
                                    "TrackName": "Rag Doll",
                                    "AlbumTitle": "Big Ones",
                                    "TotalSales": "0.99"
                                },
                                {
                                    "TrackId": "31",
                                    "TrackName": "Blind Man",
                                    "AlbumTitle": "Big Ones",
                                    "TotalSales": "0.99"
                                },
                                {
                                    "TrackId": "37",
                                    "TrackName": "Livin' On The Edge",
                                    "AlbumTitle": "Big Ones",
                                    "TotalSales": "0.99"
                                },
                                {
                                    "TrackId": "43",
                                    "TrackName": "Forgiven",
                                    "AlbumTitle": "Jagged Little Pill",
                                    "TotalSales": "0.99"
                                },
                                {
                                    "TrackId": "49",
                                    "TrackName": "Wake Up",
                                    "AlbumTitle": "Jagged Little Pill",
                                    "TotalSales": "0.99"
                                },
                                {
                                    "TrackId": "55",
                                    "TrackName": "I Can't Remember",
                                    "AlbumTitle": "Facelift",
                                    "TotalSales": "0.99"
                                },
                                {
                                    "TrackId": "61",
                                    "TrackName": "I Know Somethin (Bout You)",
                                    "AlbumTitle": "Facelift",
                                    "TotalSales": "0.99"
                                },
                                {
                                    "TrackId": "67",
                                    "TrackName": "Ligia",
                                    "AlbumTitle": "Warner 25 Anos",
                                    "TotalSales": "0.99"
                                },
                                {
                                    "TrackId": "76",
                                    "TrackName": "Canta, Canta Mais",
                                    "AlbumTitle": "Warner 25 Anos",
                                    "TotalSales": "0.99"
                                },
                                {
                                    "TrackId": "85",
                                    "TrackName": "Cochise",
                                    "AlbumTitle": "Audioslave",
                                    "TotalSales": "0.99"
                                },
                                {
                                    "TrackId": "94",
                                    "TrackName": "Hypnotize",
                                    "AlbumTitle": "Audioslave",
                                    "TotalSales": "0.99"
                                },
                                {
                                    "TrackId": "103",
                                    "TrackName": "Drown Me Slowly",
                                    "AlbumTitle": "Out Of Exile",
                                    "TotalSales": "0.99"
                                },
                                {
                                    "TrackId": "112",
                                    "TrackName": "Long Tall Sally",
                                    "AlbumTitle": "BackBeat Soundtrack",
                                    "TotalSales": "0.99"
                                },
                                {
                                    "TrackId": "121",
                                    "TrackName": "Good Golly Miss Molly",
                                    "AlbumTitle": "BackBeat Soundtrack",
                                    "TotalSales": "0.99"
                                },
                                {
                                    "TrackId": "130",
                                    "TrackName": "Do what cha wanna",
                                    "AlbumTitle": "The Best Of Billy Cobham",
                                    "TotalSales": "0.99"
                                },
                                {
                                    "TrackId": "139",
                                    "TrackName": "A.N.D.R.O.T.A.Z.",
                                    "AlbumTitle": "Alcohol Fueled Brewtality Live! [Disc 1]",
                                    "TotalSales": "0.99"
                                },
                                {
                                    "TrackId": "148",
                                    "TrackName": "The Beginning...At Last",
                                    "AlbumTitle": "Alcohol Fueled Brewtality Live! [Disc 2]",
                                    "TotalSales": "0.99"
                                },
                                {
                                    "TrackId": "157",
                                    "TrackName": "Tomorrow's Dream",
                                    "AlbumTitle": "Black Sabbath Vol. 4 (Remaster)",
                                    "TotalSales": "0.99"
                                },
                                {
                                    "TrackId": "166",
                                    "TrackName": "Smoked Pork",
                                    "AlbumTitle": "Body Count",
                                    "TotalSales": "0.99"
                                },
                                {
                                    "TrackId": "193",
                                    "TrackName": "Realword",
                                    "AlbumTitle": "Chemical Wedding",
                                    "TotalSales": "0.99"
                                },
                                {
                                    "TrackId": "208",
                                    "TrackName": "Terra",
                                    "AlbumTitle": "Prenda Minha",
                                    "TotalSales": "0.99"
                                },
                                {
                                    "TrackId": "209",
                                    "TrackName": "Eclipse Oculto",
                                    "AlbumTitle": "Prenda Minha",
                                    "TotalSales": "0.99"
                                },
                                {
                                    "TrackId": "213",
                                    "TrackName": "Saudosismo",
                                    "AlbumTitle": "Prenda Minha",
                                    "TotalSales": "0.99"
                                },
                                {
                                    "TrackId": "215",
                                    "TrackName": "Sozinho",
                                    "AlbumTitle": "Prenda Minha",
                                    "TotalSales": "0.99"
                                },
                                {
                                    "TrackId": "219",
                                    "TrackName": "Odara",
                                    "AlbumTitle": "Prenda Minha",
                                    "TotalSales": "0.99"
                                },
                                {
                                    "TrackId": "221",
                                    "TrackName": "Atrás Da Verd-E-Rosa Só Não Vai Quem Já Morreu",
                                    "AlbumTitle": "Prenda Minha",
                                    "TotalSales": "0.99"
                                },
                                {
                                    "TrackId": "225",
                                    "TrackName": "Sozinho (Caêdrum 'n' Bass)",
                                    "AlbumTitle": "Sozinho Remix Ao Vivo",
                                    "TotalSales": "0.99"
                                },
                                {
                                    "TrackId": "233",
                                    "TrackName": "O Que Será (À Flor Da Terra)",
                                    "AlbumTitle": "Minha Historia",
                                    "TotalSales": "0.99"
                                },
                                {
                                    "TrackId": "237",
                                    "TrackName": "Minha Historia",
                                    "AlbumTitle": "Minha Historia",
                                    "TotalSales": "0.99"
                                },
                                {
                                    "TrackId": "245",
                                    "TrackName": "Construção / Deus Lhe Pague",
                                    "AlbumTitle": "Minha Historia",
                                    "TotalSales": "0.99"
                                },
                                {
                                    "TrackId": "251",
                                    "TrackName": "Um Passeio No Mundo Livre",
                                    "AlbumTitle": "Afrociberdelia",
                                    "TotalSales": "0.99"
                                },
                                {
                                    "TrackId": "257",
                                    "TrackName": "Manguetown",
                                    "AlbumTitle": "Afrociberdelia",
                                    "TotalSales": "0.99"
                                },
                                {
                                    "TrackId": "263",
                                    "TrackName": "Criança De Domingo",
                                    "AlbumTitle": "Afrociberdelia",
                                    "TotalSales": "0.99"
                                },
                                {
                                    "TrackId": "269",
                                    "TrackName": "Banditismo Por Uma Questa",
                                    "AlbumTitle": "Da Lama Ao Caos",
                                    "TotalSales": "0.99"
                                },
                                {
                                    "TrackId": "275",
                                    "TrackName": "Da Lama Ao Caos",
                                    "AlbumTitle": "Da Lama Ao Caos",
                                    "TotalSales": "0.99"
                                },
                                {
                                    "TrackId": "281",
                                    "TrackName": "Computadores Fazem Arte",
                                    "AlbumTitle": "Da Lama Ao Caos",
                                    "TotalSales": "0.99"
                                },
                                {
                                    "TrackId": "287",
                                    "TrackName": "Extra",
                                    "AlbumTitle": "Acústico MTV [Live]",
                                    "TotalSales": "0.99"
                                },
                                {
                                    "TrackId": "293",
                                    "TrackName": "Onde Você Mora?",
                                    "AlbumTitle": "Acústico MTV [Live]",
                                    "TotalSales": "0.99"
                                },
                                {
                                    "TrackId": "299",
                                    "TrackName": "Onde Você Mora?",
                                    "AlbumTitle": "Cidade Negra - Hits",
                                    "TotalSales": "0.99"
                                },
                                {
                                    "TrackId": "308",
                                    "TrackName": "Na Frente Da TV",
                                    "AlbumTitle": "Cidade Negra - Hits",
                                    "TotalSales": "0.99"
                                },
                                {
                                    "TrackId": "317",
                                    "TrackName": "Amor Demais",
                                    "AlbumTitle": "Na Pista",
                                    "TotalSales": "0.99"
                                },
                                {
                                    "TrackId": "326",
                                    "TrackName": "Tapa Aqui, Descobre Ali",
                                    "AlbumTitle": "Axé Bahia 2001",
                                    "TotalSales": "0.99"
                                },
                                {
                                    "TrackId": "335",
                                    "TrackName": "My Love",
                                    "AlbumTitle": "Axé Bahia 2001",
                                    "TotalSales": "0.99"
                                },
                                {
                                    "TrackId": "344",
                                    "TrackName": "Travelling Riverside Blues",
                                    "AlbumTitle": "BBC Sessions [Disc 1] [Live]",
                                    "TotalSales": "0.99"
                                },
                                {
                                    "TrackId": "353",
                                    "TrackName": "Sam With The Showing Scalp Flat Top",
                                    "AlbumTitle": "Bongo Fury",
                                    "TotalSales": "0.99"
                                },
                                {
                                    "TrackId": "362",
                                    "TrackName": "Gavioes 2001",
                                    "AlbumTitle": "Carnaval 2001",
                                    "TotalSales": "0.99"
                                },
                                {
                                    "TrackId": "371",
                                    "TrackName": "Morro Da Casa Verde 2001",
                                    "AlbumTitle": "Carnaval 2001",
                                    "TotalSales": "0.99"
                                },
                                {
                                    "TrackId": "380",
                                    "TrackName": "Samba da Bençaco",
                                    "AlbumTitle": "Chill: Brazil (Disc 1)",
                                    "TotalSales": "0.99"
                                },
                                {
                                    "TrackId": "389",
                                    "TrackName": "Maria Fumaça",
                                    "AlbumTitle": "Chill: Brazil (Disc 1)",
                                    "TotalSales": "0.99"
                                },
                                {
                                    "TrackId": "398",
                                    "TrackName": "Only A Dream In Rio",
                                    "AlbumTitle": "Chill: Brazil (Disc 2)",
                                    "TotalSales": "0.99"
                                },
                                {
                                    "TrackId": "425",
                                    "TrackName": "It's A Hard Life",
                                    "AlbumTitle": "Greatest Hits II",
                                    "TotalSales": "0.99"
                                },
                                {
                                    "TrackId": "440",
                                    "TrackName": "Love Gun",
                                    "AlbumTitle": "Greatest Kiss",
                                    "TotalSales": "0.99"
                                },
                                {
                                    "TrackId": "441",
                                    "TrackName": "Deuce",
                                    "AlbumTitle": "Greatest Kiss",
                                    "TotalSales": "0.99"
                                },
                                {
                                    "TrackId": "445",
                                    "TrackName": "She",
                                    "AlbumTitle": "Greatest Kiss",
                                    "TotalSales": "0.99"
                                },
                                {
                                    "TrackId": "447",
                                    "TrackName": "Shout It Out Loud",
                                    "AlbumTitle": "Greatest Kiss",
                                    "TotalSales": "0.99"
                                },
                                {
                                    "TrackId": "451",
                                    "TrackName": "Strutter",
                                    "AlbumTitle": "Greatest Kiss",
                                    "TotalSales": "0.99"
                                },
                                {
                                    "TrackId": "453",
                                    "TrackName": "Cold Gin",
                                    "AlbumTitle": "Greatest Kiss",
                                    "TotalSales": "0.99"
                                },
                                {
                                    "TrackId": "457",
                                    "TrackName": "De La Luz",
                                    "AlbumTitle": "Heart of the Night",
                                    "TotalSales": "0.99"
                                },
                                {
                                    "TrackId": "465",
                                    "TrackName": "When Evening Falls",
                                    "AlbumTitle": "Heart of the Night",
                                    "TotalSales": "0.99"
                                },
                                {
                                    "TrackId": "469",
                                    "TrackName": "Poprocks And Coke",
                                    "AlbumTitle": "International Superhits",
                                    "TotalSales": "0.99"
                                },
                                {
                                    "TrackId": "477",
                                    "TrackName": "Brain Stew",
                                    "AlbumTitle": "International Superhits",
                                    "TotalSales": "0.99"
                                },
                                {
                                    "TrackId": "483",
                                    "TrackName": "Redundant",
                                    "AlbumTitle": "International Superhits",
                                    "TotalSales": "0.99"
                                },
                                {
                                    "TrackId": "489",
                                    "TrackName": "Into The Light",
                                    "AlbumTitle": "Into The Light",
                                    "TotalSales": "0.99"
                                },
                                {
                                    "TrackId": "495",
                                    "TrackName": "Cry For Love",
                                    "AlbumTitle": "Into The Light",
                                    "TotalSales": "0.99"
                                },
                                {
                                    "TrackId": "501",
                                    "TrackName": "Grito De Alerta",
                                    "AlbumTitle": "Meus Momentos",
                                    "TotalSales": "0.99"
                                },
                                {
                                    "TrackId": "507",
                                    "TrackName": "Lindo Lago Do Amor",
                                    "AlbumTitle": "Meus Momentos",
                                    "TotalSales": "0.99"
                                },
                                {
                                    "TrackId": "513",
                                    "TrackName": "Ponto De Interrogação",
                                    "AlbumTitle": "Meus Momentos",
                                    "TotalSales": "0.99"
                                },
                                {
                                    "TrackId": "519",
                                    "TrackName": "Voce Nao Entende Nada - Cotidiano",
                                    "AlbumTitle": "Minha Historia",
                                    "TotalSales": "0.99"
                                },
                                {
                                    "TrackId": "525",
                                    "TrackName": "O Leaozinho",
                                    "AlbumTitle": "Minha Historia",
                                    "TotalSales": "0.99"
                                },
                                {
                                    "TrackId": "531",
                                    "TrackName": "Top Top",
                                    "AlbumTitle": "Minha História",
                                    "TotalSales": "0.99"
                                },
                                {
                                    "TrackId": "540",
                                    "TrackName": "Posso Perder Minha Mulher, Minha Mãe, Desde Que Eu Tenha O Rock And Roll",
                                    "AlbumTitle": "Minha História",
                                    "TotalSales": "0.99"
                                },
                                {
                                    "TrackId": "549",
                                    "TrackName": "You Fool No One",
                                    "AlbumTitle": "MK III The Final Concerts [Disc 1]",
                                    "TotalSales": "0.99"
                                },
                                {
                                    "TrackId": "558",
                                    "TrackName": "Viradouro",
                                    "AlbumTitle": "Sambas De Enredo 2001",
                                    "TotalSales": "0.99"
                                },
                                {
                                    "TrackId": "567",
                                    "TrackName": "Tradição",
                                    "AlbumTitle": "Sambas De Enredo 2001",
                                    "TotalSales": "0.99"
                                },
                                {
                                    "TrackId": "576",
                                    "TrackName": "Maria Maria",
                                    "AlbumTitle": "Supernatural",
                                    "TotalSales": "0.99"
                                },
                                {
                                    "TrackId": "585",
                                    "TrackName": "Entre E Ouça",
                                    "AlbumTitle": "The Best of Ed Motta",
                                    "TotalSales": "0.99"
                                },
                                {
                                    "TrackId": "594",
                                    "TrackName": "Agora Que O Dia Acordou",
                                    "AlbumTitle": "The Best of Ed Motta",
                                    "TotalSales": "0.99"
                                },
                                {
                                    "TrackId": "603",
                                    "TrackName": "Bye Bye Blackbird",
                                    "AlbumTitle": "The Essential Miles Davis [Disc 1]",
                                    "TotalSales": "0.99"
                                },
                                {
                                    "TrackId": "612",
                                    "TrackName": "Nefertiti",
                                    "AlbumTitle": "The Essential Miles Davis [Disc 2]",
                                    "TotalSales": "0.99"
                                },
                                {
                                    "TrackId": "621",
                                    "TrackName": "Going Down / Highway Star",
                                    "AlbumTitle": "The Final Concerts (Disc 2)",
                                    "TotalSales": "0.99"
                                },
                                {
                                    "TrackId": "630",
                                    "TrackName": "Boogie Blues",
                                    "AlbumTitle": "Up An' Atom",
                                    "TotalSales": "0.99"
                                },
                                {
                                    "TrackId": "657",
                                    "TrackName": "Deixa",
                                    "AlbumTitle": "Vinícius De Moraes - Sem Limite",
                                    "TotalSales": "0.99"
                                },
                                {
                                    "TrackId": "672",
                                    "TrackName": "Wave (Os Cariocas)",
                                    "AlbumTitle": "Vozes do MPB",
                                    "TotalSales": "0.99"
                                },
                                {
                                    "TrackId": "673",
                                    "TrackName": "Garota de Ipanema (Dick Farney)",
                                    "AlbumTitle": "Vozes do MPB",
                                    "TotalSales": "0.99"
                                },
                                {
                                    "TrackId": "677",
                                    "TrackName": "Proud Mary",
                                    "AlbumTitle": "Chronicle, Vol. 1",
                                    "TotalSales": "0.99"
                                },
                                {
                                    "TrackId": "679",
                                    "TrackName": "Lodi",
                                    "AlbumTitle": "Chronicle, Vol. 1",
                                    "TotalSales": "0.99"
                                },
                                {
                                    "TrackId": "683",
                                    "TrackName": "Fortunate Son",
                                    "AlbumTitle": "Chronicle, Vol. 1",
                                    "TotalSales": "0.99"
                                },
                                {
                                    "TrackId": "685",
                                    "TrackName": "Who'll Stop The Rain",
                                    "AlbumTitle": "Chronicle, Vol. 1",
                                    "TotalSales": "0.99"
                                },
                                {
                                    "TrackId": "689",
                                    "TrackName": "Long As I Can See The Light",
                                    "AlbumTitle": "Chronicle, Vol. 1",
                                    "TotalSales": "0.99"
                                },
                                {
                                    "TrackId": "697",
                                    "TrackName": "Born On The Bayou",
                                    "AlbumTitle": "Chronicle, Vol. 2",
                                    "TotalSales": "0.99"
                                },
                                {
                                    "TrackId": "701",
                                    "TrackName": "Night Time Is The Right Time",
                                    "AlbumTitle": "Chronicle, Vol. 2",
                                    "TotalSales": "0.99"
                                },
                                {
                                    "TrackId": "709",
                                    "TrackName": "(Wish I Could) Hideaway",
                                    "AlbumTitle": "Chronicle, Vol. 2",
                                    "TotalSales": "0.99"
                                },
                                {
                                    "TrackId": "715",
                                    "TrackName": "Gatas Extraordinárias",
                                    "AlbumTitle": "Cássia Eller - Coleção Sem Limite [Disc 2]",
                                    "TotalSales": "0.99"
                                },
                                {
                                    "TrackId": "721",
                                    "TrackName": "Você Passa, Eu Acho Graça (Ao Vivo)",
                                    "AlbumTitle": "Cássia Eller - Coleção Sem Limite [Disc 2]",
                                    "TotalSales": "0.99"
                                },
                                {
                                    "TrackId": "727",
                                    "TrackName": "Não Sei O Que Eu Quero Da Vida",
                                    "AlbumTitle": "Cássia Eller - Coleção Sem Limite [Disc 2]",
                                    "TotalSales": "0.99"
                                },
                                {
                                    "TrackId": "733",
                                    "TrackName": "E.C.T.",
                                    "AlbumTitle": "Cássia Eller - Sem Limite [Disc 1]",
                                    "TotalSales": "0.99"
                                },
                                {
                                    "TrackId": "739",
                                    "TrackName": "Eleanor Rigby",
                                    "AlbumTitle": "Cássia Eller - Sem Limite [Disc 1]",
                                    "TotalSales": "0.99"
                                },
                                {
                                    "TrackId": "745",
                                    "TrackName": "Comin' Home",
                                    "AlbumTitle": "Come Taste The Band",
                                    "TotalSales": "0.99"
                                },
                                {
                                    "TrackId": "751",
                                    "TrackName": "Love Child",
                                    "AlbumTitle": "Come Taste The Band",
                                    "TotalSales": "0.99"
                                },
                                {
                                    "TrackId": "757",
                                    "TrackName": "Flight Of The Rat",
                                    "AlbumTitle": "Deep Purple In Rock",
                                    "TotalSales": "0.99"
                                },
                                {
                                    "TrackId": "763",
                                    "TrackName": "Strange Kind Of Woman",
                                    "AlbumTitle": "Fireball",
                                    "TotalSales": "0.99"
                                },
                                {
                                    "TrackId": "772",
                                    "TrackName": "Black Night",
                                    "AlbumTitle": "Knocking at Your Back Door: The Best Of Deep Purple in the 80's",
                                    "TotalSales": "0.99"
                                },
                                {
                                    "TrackId": "781",
                                    "TrackName": "Pictures Of Home",
                                    "AlbumTitle": "Machine Head",
                                    "TotalSales": "0.99"
                                },
                                {
                                    "TrackId": "790",
                                    "TrackName": "Cascades : I'm Not Your Lover",
                                    "AlbumTitle": "Purpendicular",
                                    "TotalSales": "0.99"
                                },
                                {
                                    "TrackId": "799",
                                    "TrackName": "The Cut Runs Deep",
                                    "AlbumTitle": "Slaves And Masters",
                                    "TotalSales": "0.99"
                                },
                                {
                                    "TrackId": "808",
                                    "TrackName": "Love Don't Mean a Thing",
                                    "AlbumTitle": "Stormbringer",
                                    "TotalSales": "0.99"
                                },
                                {
                                    "TrackId": "817",
                                    "TrackName": "Lick It Up",
                                    "AlbumTitle": "The Battle Rages On",
                                    "TotalSales": "0.99"
                                },
                                {
                                    "TrackId": "826",
                                    "TrackName": "Pour Some Sugar On Me",
                                    "AlbumTitle": "Vault: Def Leppard's Greatest Hits",
                                    "TotalSales": "0.99"
                                },
                                {
                                    "TrackId": "835",
                                    "TrackName": "Action",
                                    "AlbumTitle": "Vault: Def Leppard's Greatest Hits",
                                    "TotalSales": "0.99"
                                },
                                {
                                    "TrackId": "844",
                                    "TrackName": "Groovus Interruptus",
                                    "AlbumTitle": "Outbreak",
                                    "TotalSales": "0.99"
                                },
                                {
                                    "TrackId": "853",
                                    "TrackName": "Cigano",
                                    "AlbumTitle": "Djavan Ao Vivo - Vol. 02",
                                    "TotalSales": "0.99"
                                },
                                {
                                    "TrackId": "862",
                                    "TrackName": "Acelerou",
                                    "AlbumTitle": "Djavan Ao Vivo - Vol. 02",
                                    "TotalSales": "0.99"
                                },
                                {
                                    "TrackId": "889",
                                    "TrackName": "Maria Rosa",
                                    "AlbumTitle": "Elis Regina-Minha História",
                                    "TotalSales": "0.99"
                                },
                                {
                                    "TrackId": "904",
                                    "TrackName": "Knockin On Heavens Door",
                                    "AlbumTitle": "The Cream Of Clapton",
                                    "TotalSales": "0.99"
                                },
                                {
                                    "TrackId": "905",
                                    "TrackName": "Wonderful Tonight",
                                    "AlbumTitle": "The Cream Of Clapton",
                                    "TotalSales": "0.99"
                                },
                                {
                                    "TrackId": "909",
                                    "TrackName": "Signe",
                                    "AlbumTitle": "Unplugged",
                                    "TotalSales": "0.99"
                                },
                                {
                                    "TrackId": "911",
                                    "TrackName": "Hey Hey",
                                    "AlbumTitle": "Unplugged",
                                    "TotalSales": "0.99"
                                },
                                {
                                    "TrackId": "915",
                                    "TrackName": "Layla",
                                    "AlbumTitle": "Unplugged",
                                    "TotalSales": "0.99"
                                },
                                {
                                    "TrackId": "917",
                                    "TrackName": "Walkin' Blues",
                                    "AlbumTitle": "Unplugged",
                                    "TotalSales": "0.99"
                                },
                                {
                                    "TrackId": "921",
                                    "TrackName": "Old Love",
                                    "AlbumTitle": "Unplugged",
                                    "TotalSales": "0.99"
                                },
                                {
                                    "TrackId": "929",
                                    "TrackName": "Ashes To Ashes",
                                    "AlbumTitle": "Album Of The Year",
                                    "TotalSales": "0.99"
                                },
                                {
                                    "TrackId": "933",
                                    "TrackName": "Home Sick Home",
                                    "AlbumTitle": "Album Of The Year",
                                    "TotalSales": "0.99"
                                },
                                {
                                    "TrackId": "941",
                                    "TrackName": "Malpractice",
                                    "AlbumTitle": "Angel Dust",
                                    "TotalSales": "0.99"
                                },
                                {
                                    "TrackId": "947",
                                    "TrackName": "Midnight Cowboy",
                                    "AlbumTitle": "Angel Dust",
                                    "TotalSales": "0.99"
                                },
                                {
                                    "TrackId": "953",
                                    "TrackName": "Star A.D.",
                                    "AlbumTitle": "King For A Day Fool For A Lifetime",
                                    "TotalSales": "0.99"
                                },
                                {
                                    "TrackId": "959",
                                    "TrackName": "King For A Day",
                                    "AlbumTitle": "King For A Day Fool For A Lifetime",
                                    "TotalSales": "0.99"
                                },
                                {
                                    "TrackId": "965",
                                    "TrackName": "Epic",
                                    "AlbumTitle": "The Real Thing",
                                    "TotalSales": "0.99"
                                },
                                {
                                    "TrackId": "971",
                                    "TrackName": "The Morning After",
                                    "AlbumTitle": "The Real Thing",
                                    "TotalSales": "0.99"
                                },
                                {
                                    "TrackId": "977",
                                    "TrackName": "Xote Dos Milagres",
                                    "AlbumTitle": "Deixa Entrar",
                                    "TotalSales": "0.99"
                                },
                                {
                                    "TrackId": "983",
                                    "TrackName": "Principiando/Decolagem",
                                    "AlbumTitle": "Deixa Entrar",
                                    "TotalSales": "0.99"
                                },
                                {
                                    "TrackId": "989",
                                    "TrackName": "In Your Honor",
                                    "AlbumTitle": "In Your Honor [Disc 1]",
                                    "TotalSales": "0.99"
                                },
                                {
                                    "TrackId": "995",
                                    "TrackName": "Free Me",
                                    "AlbumTitle": "In Your Honor [Disc 1]",
                                    "TotalSales": "0.99"
                                },
                                {
                                    "TrackId": "1004",
                                    "TrackName": "Over And Out",
                                    "AlbumTitle": "In Your Honor [Disc 2]",
                                    "TotalSales": "0.99"
                                },
                                {
                                    "TrackId": "1013",
                                    "TrackName": "Disenchanted Lullaby",
                                    "AlbumTitle": "One By One",
                                    "TotalSales": "0.99"
                                },
                                {
                                    "TrackId": "1022",
                                    "TrackName": "Hey, Johnny Park!",
                                    "AlbumTitle": "The Colour And The Shape",
                                    "TotalSales": "0.99"
                                },
                                {
                                    "TrackId": "1031",
                                    "TrackName": "Walking After You",
                                    "AlbumTitle": "The Colour And The Shape",
                                    "TotalSales": "0.99"
                                },
                                {
                                    "TrackId": "1040",
                                    "TrackName": "Summer Love",
                                    "AlbumTitle": "My Way: The Best Of Frank Sinatra [Disc 1]",
                                    "TotalSales": "0.99"
                                },
                                {
                                    "TrackId": "1049",
                                    "TrackName": "Come Fly With Me",
                                    "AlbumTitle": "My Way: The Best Of Frank Sinatra [Disc 1]",
                                    "TotalSales": "0.99"
                                },
                                {
                                    "TrackId": "1058",
                                    "TrackName": "Nervosa",
                                    "AlbumTitle": "Roda De Funk",
                                    "TotalSales": "0.99"
                                },
                                {
                                    "TrackId": "1067",
                                    "TrackName": "Meu Guarda-Chuva",
                                    "AlbumTitle": "Roda De Funk",
                                    "TotalSales": "0.99"
                                },
                                {
                                    "TrackId": "1076",
                                    "TrackName": "Juazeiro",
                                    "AlbumTitle": "As Canções de Eu Tu Eles",
                                    "TotalSales": "0.99"
                                },
                                {
                                    "TrackId": "1085",
                                    "TrackName": "Lamento Sertanejo",
                                    "AlbumTitle": "As Canções de Eu Tu Eles",
                                    "TotalSales": "0.99"
                                },
                                {
                                    "TrackId": "1094",
                                    "TrackName": "Estrela (Live)",
                                    "AlbumTitle": "Quanta Gente Veio Ver (Live)",
                                    "TotalSales": "0.99"
                                },
                                {
                                    "TrackId": "1121",
                                    "TrackName": "Straight Out Of Line",
                                    "AlbumTitle": "Faceless",
                                    "TotalSales": "0.99"
                                },
                                {
                                    "TrackId": "1136",
                                    "TrackName": "Boulevard Of Broken Dreams",
                                    "AlbumTitle": "American Idiot",
                                    "TotalSales": "0.99"
                                },
                                {
                                    "TrackId": "1137",
                                    "TrackName": "Are We The Waiting",
                                    "AlbumTitle": "American Idiot",
                                    "TotalSales": "0.99"
                                },
                                {
                                    "TrackId": "1141",
                                    "TrackName": "Extraordinary Girl",
                                    "AlbumTitle": "American Idiot",
                                    "TotalSales": "0.99"
                                },
                                {
                                    "TrackId": "1143",
                                    "TrackName": "Wake Me Up When September Ends",
                                    "AlbumTitle": "American Idiot",
                                    "TotalSales": "0.99"
                                },
                                {
                                    "TrackId": "1147",
                                    "TrackName": "It's So Easy",
                                    "AlbumTitle": "Appetite for Destruction",
                                    "TotalSales": "0.99"
                                },
                                {
                                    "TrackId": "1149",
                                    "TrackName": "Out Ta Get Me",
                                    "AlbumTitle": "Appetite for Destruction",
                                    "TotalSales": "0.99"
                                },
                                {
                                    "TrackId": "1153",
                                    "TrackName": "Think About You",
                                    "AlbumTitle": "Appetite for Destruction",
                                    "TotalSales": "0.99"
                                },
                                {
                                    "TrackId": "1161",
                                    "TrackName": "Don't Cry (Original)",
                                    "AlbumTitle": "Use Your Illusion I",
                                    "TotalSales": "0.99"
                                },
                                {
                                    "TrackId": "1165",
                                    "TrackName": "Back off Bitch",
                                    "AlbumTitle": "Use Your Illusion I",
                                    "TotalSales": "0.99"
                                },
                                {
                                    "TrackId": "1173",
                                    "TrackName": "Coma",
                                    "AlbumTitle": "Use Your Illusion I",
                                    "TotalSales": "0.99"
                                },
                                {
                                    "TrackId": "1179",
                                    "TrackName": "Shotgun Blues",
                                    "AlbumTitle": "Use Your Illusion II",
                                    "TotalSales": "0.99"
                                },
                                {
                                    "TrackId": "1185",
                                    "TrackName": "You Could Be Mine",
                                    "AlbumTitle": "Use Your Illusion II",
                                    "TotalSales": "0.99"
                                },
                                {
                                    "TrackId": "1191",
                                    "TrackName": "Deep Waters",
                                    "AlbumTitle": "Blue Moods",
                                    "TotalSales": "0.99"
                                },
                                {
                                    "TrackId": "1197",
                                    "TrackName": "Thinking 'Bout Tomorrow",
                                    "AlbumTitle": "Blue Moods",
                                    "TotalSales": "0.99"
                                },
                                {
                                    "TrackId": "1203",
                                    "TrackName": "Brighter Than a Thousand Suns",
                                    "AlbumTitle": "A Matter of Life and Death",
                                    "TotalSales": "0.99"
                                },
                                {
                                    "TrackId": "1209",
                                    "TrackName": "Lord of Light",
                                    "AlbumTitle": "A Matter of Life and Death",
                                    "TotalSales": "0.99"
                                },
                                {
                                    "TrackId": "1215",
                                    "TrackName": "Transylvania",
                                    "AlbumTitle": "A Real Dead One",
                                    "TotalSales": "0.99"
                                },
                                {
                                    "TrackId": "1221",
                                    "TrackName": "2 Minutes To Midnight",
                                    "AlbumTitle": "A Real Dead One",
                                    "TotalSales": "0.99"
                                },
                                {
                                    "TrackId": "1227",
                                    "TrackName": "Wasting Love",
                                    "AlbumTitle": "A Real Live One",
                                    "TotalSales": "0.99"
                                },
                                {
                                    "TrackId": "1236",
                                    "TrackName": "Ghost Of The Navigator",
                                    "AlbumTitle": "Brave New World",
                                    "TotalSales": "0.99"
                                },
                                {
                                    "TrackId": "1245",
                                    "TrackName": "Wildest Dreams",
                                    "AlbumTitle": "Dance Of Death",
                                    "TotalSales": "0.99"
                                },
                                {
                                    "TrackId": "1254",
                                    "TrackName": "Age Of Innocence",
                                    "AlbumTitle": "Dance Of Death",
                                    "TotalSales": "0.99"
                                },
                                {
                                    "TrackId": "1263",
                                    "TrackName": "Chains Of Misery",
                                    "AlbumTitle": "Fear Of The Dark",
                                    "TotalSales": "0.99"
                                },
                                {
                                    "TrackId": "1272",
                                    "TrackName": "05 - Phantom of the Opera",
                                    "AlbumTitle": "Iron Maiden",
                                    "TotalSales": "0.99"
                                },
                                {
                                    "TrackId": "1281",
                                    "TrackName": "Genghis Khan",
                                    "AlbumTitle": "Killers",
                                    "TotalSales": "0.99"
                                },
                                {
                                    "TrackId": "1290",
                                    "TrackName": "The Trooper",
                                    "AlbumTitle": "Live After Death",
                                    "TotalSales": "0.99"
                                },
                                {
                                    "TrackId": "1299",
                                    "TrackName": "Running Free",
                                    "AlbumTitle": "Live After Death",
                                    "TotalSales": "0.99"
                                },
                                {
                                    "TrackId": "1308",
                                    "TrackName": "From Here To Eternity",
                                    "AlbumTitle": "Live At Donington 1992 (Disc 1)",
                                    "TotalSales": "0.99"
                                },
                                {
                                    "TrackId": "1317",
                                    "TrackName": "Heaven Can Wait",
                                    "AlbumTitle": "Live At Donington 1992 (Disc 2)",
                                    "TotalSales": "0.99"
                                },
                                {
                                    "TrackId": "1326",
                                    "TrackName": "Holy Smoke",
                                    "AlbumTitle": "No Prayer For The Dying",
                                    "TotalSales": "0.99"
                                },
                                {
                                    "TrackId": "1353",
                                    "TrackName": "The Wicker Man",
                                    "AlbumTitle": "Rock In Rio [CD1]",
                                    "TotalSales": "0.99"
                                },
                                {
                                    "TrackId": "1368",
                                    "TrackName": "Hallowed Be Thy Name",
                                    "AlbumTitle": "Rock In Rio [CD2]",
                                    "TotalSales": "0.99"
                                },
                                {
                                    "TrackId": "1369",
                                    "TrackName": "Sanctuary",
                                    "AlbumTitle": "Rock In Rio [CD2]",
                                    "TotalSales": "0.99"
                                },
                                {
                                    "TrackId": "1373",
                                    "TrackName": "Can I Play With Madness",
                                    "AlbumTitle": "Seventh Son of a Seventh Son",
                                    "TotalSales": "0.99"
                                },
                                {
                                    "TrackId": "1375",
                                    "TrackName": "Seventh Son of a Seventh Son",
                                    "AlbumTitle": "Seventh Son of a Seventh Son",
                                    "TotalSales": "0.99"
                                },
                                {
                                    "TrackId": "1379",
                                    "TrackName": "Caught Somewhere in Time",
                                    "AlbumTitle": "Somewhere in Time",
                                    "TotalSales": "0.99"
                                },
                                {
                                    "TrackId": "1381",
                                    "TrackName": "Sea of Madness",
                                    "AlbumTitle": "Somewhere in Time",
                                    "TotalSales": "0.99"
                                },
                                {
                                    "TrackId": "1385",
                                    "TrackName": "De Ja Vu",
                                    "AlbumTitle": "Somewhere in Time",
                                    "TotalSales": "0.99"
                                },
                                {
                                    "TrackId": "1393",
                                    "TrackName": "The Number Of The Beast",
                                    "AlbumTitle": "The Number of The Beast",
                                    "TotalSales": "0.99"
                                },
                                {
                                    "TrackId": "1397",
                                    "TrackName": "Man On The Edge",
                                    "AlbumTitle": "The X Factor",
                                    "TotalSales": "0.99"
                                },
                                {
                                    "TrackId": "1405",
                                    "TrackName": "The Unbeliever",
                                    "AlbumTitle": "The X Factor",
                                    "TotalSales": "0.99"
                                },
                                {
                                    "TrackId": "1411",
                                    "TrackName": "The Educated Fool",
                                    "AlbumTitle": "Virtual XI",
                                    "TotalSales": "0.99"
                                },
                                {
                                    "TrackId": "1417",
                                    "TrackName": "Out Of Sight",
                                    "AlbumTitle": "Sex Machine",
                                    "TotalSales": "0.99"
                                },
                                {
                                    "TrackId": "1423",
                                    "TrackName": "Get Up (I Feel Like Being A) Sex Machine",
                                    "AlbumTitle": "Sex Machine",
                                    "TotalSales": "0.99"
                                },
                                {
                                    "TrackId": "1429",
                                    "TrackName": "It's Too Funky In Here",
                                    "AlbumTitle": "Sex Machine",
                                    "TotalSales": "0.99"
                                },
                                {
                                    "TrackId": "1435",
                                    "TrackName": "Too Young To Die",
                                    "AlbumTitle": "Emergency On Planet Earth",
                                    "TotalSales": "0.99"
                                },
                                {
                                    "TrackId": "1441",
                                    "TrackName": "Blow Your Mind",
                                    "AlbumTitle": "Emergency On Planet Earth",
                                    "TotalSales": "0.99"
                                },
                                {
                                    "TrackId": "1447",
                                    "TrackName": "Soul Education",
                                    "AlbumTitle": "Synkronized",
                                    "TotalSales": "0.99"
                                },
                                {
                                    "TrackId": "1453",
                                    "TrackName": "King For A Day",
                                    "AlbumTitle": "Synkronized",
                                    "TotalSales": "0.99"
                                },
                                {
                                    "TrackId": "1459",
                                    "TrackName": "Manifest Destiny",
                                    "AlbumTitle": "The Return Of The Space Cowboy",
                                    "TotalSales": "0.99"
                                },
                                {
                                    "TrackId": "1468",
                                    "TrackName": "Rollover D.J.",
                                    "AlbumTitle": "Get Born",
                                    "TotalSales": "0.99"
                                },
                                {
                                    "TrackId": "1477",
                                    "TrackName": "Lazy Gun",
                                    "AlbumTitle": "Get Born",
                                    "TotalSales": "0.99"
                                },
                                {
                                    "TrackId": "1486",
                                    "TrackName": "Fire",
                                    "AlbumTitle": "Are You Experienced?",
                                    "TotalSales": "0.99"
                                },
                                {
                                    "TrackId": "1495",
                                    "TrackName": "Highway Chile",
                                    "AlbumTitle": "Are You Experienced?",
                                    "TotalSales": "0.99"
                                },
                                {
                                    "TrackId": "1504",
                                    "TrackName": "Midnight",
                                    "AlbumTitle": "Surfing with the Alien (Remastered)",
                                    "TotalSales": "0.99"
                                },
                                {
                                    "TrackId": "1513",
                                    "TrackName": "Charles Anjo 45",
                                    "AlbumTitle": "Jorge Ben Jor 25 Anos",
                                    "TotalSales": "0.99"
                                },
                                {
                                    "TrackId": "1522",
                                    "TrackName": "Vou Pra Ai",
                                    "AlbumTitle": "Jota Quest-1995",
                                    "TotalSales": "0.99"
                                },
                                {
                                    "TrackId": "1531",
                                    "TrackName": "Onibusfobia",
                                    "AlbumTitle": "Jota Quest-1995",
                                    "TotalSales": "0.99"
                                },
                                {
                                    "TrackId": "1540",
                                    "TrackName": "Papelão",
                                    "AlbumTitle": "Cafezinho",
                                    "TotalSales": "0.99"
                                },
                                {
                                    "TrackId": "1549",
                                    "TrackName": "Hot Rockin'",
                                    "AlbumTitle": "Living After Midnight",
                                    "TotalSales": "0.99"
                                },
                                {
                                    "TrackId": "1558",
                                    "TrackName": "Ram It Down",
                                    "AlbumTitle": "Living After Midnight",
                                    "TotalSales": "0.99"
                                },
                                {
                                    "TrackId": "1585",
                                    "TrackName": "Whole Lotta Love (Medley)",
                                    "AlbumTitle": "BBC Sessions [Disc 2] [Live]",
                                    "TotalSales": "0.99"
                                },
                                {
                                    "TrackId": "1600",
                                    "TrackName": "D'Yer Mak'er",
                                    "AlbumTitle": "Houses Of The Holy",
                                    "TotalSales": "0.99"
                                },
                                {
                                    "TrackId": "1601",
                                    "TrackName": "No Quarter",
                                    "AlbumTitle": "Houses Of The Holy",
                                    "TotalSales": "0.99"
                                },
                                {
                                    "TrackId": "1605",
                                    "TrackName": "Fool In The Rain",
                                    "AlbumTitle": "In Through The Out Door",
                                    "TotalSales": "0.99"
                                },
                                {
                                    "TrackId": "1607",
                                    "TrackName": "Carouselambra",
                                    "AlbumTitle": "In Through The Out Door",
                                    "TotalSales": "0.99"
                                },
                                {
                                    "TrackId": "1611",
                                    "TrackName": "Rock & Roll",
                                    "AlbumTitle": "IV",
                                    "TotalSales": "0.99"
                                },
                                {
                                    "TrackId": "1613",
                                    "TrackName": "Stairway To Heaven",
                                    "AlbumTitle": "IV",
                                    "TotalSales": "0.99"
                                },
                                {
                                    "TrackId": "1617",
                                    "TrackName": "When The Levee Breaks",
                                    "AlbumTitle": "IV",
                                    "TotalSales": "0.99"
                                },
                                {
                                    "TrackId": "1625",
                                    "TrackName": "I Can't Quit You Baby",
                                    "AlbumTitle": "Led Zeppelin I",
                                    "TotalSales": "0.99"
                                },
                                {
                                    "TrackId": "1629",
                                    "TrackName": "The Lemon Song",
                                    "AlbumTitle": "Led Zeppelin II",
                                    "TotalSales": "0.99"
                                },
                                {
                                    "TrackId": "1637",
                                    "TrackName": "Friends",
                                    "AlbumTitle": "Led Zeppelin III",
                                    "TotalSales": "0.99"
                                },
                                {
                                    "TrackId": "1643",
                                    "TrackName": "That's The Way",
                                    "AlbumTitle": "Led Zeppelin III",
                                    "TotalSales": "0.99"
                                },
                                {
                                    "TrackId": "1649",
                                    "TrackName": "Ten Years Gone",
                                    "AlbumTitle": "Physical Graffiti [Disc 2]",
                                    "TotalSales": "0.99"
                                },
                                {
                                    "TrackId": "1655",
                                    "TrackName": "Achilles Last Stand",
                                    "AlbumTitle": "Presence",
                                    "TotalSales": "0.99"
                                },
                                {
                                    "TrackId": "1661",
                                    "TrackName": "Tea For One",
                                    "AlbumTitle": "Presence",
                                    "TotalSales": "0.99"
                                },
                                {
                                    "TrackId": "1667",
                                    "TrackName": "No Quarter",
                                    "AlbumTitle": "The Song Remains The Same (Disc 2)",
                                    "TotalSales": "0.99"
                                },
                                {
                                    "TrackId": "1673",
                                    "TrackName": "Música De Trabalho",
                                    "AlbumTitle": "A TempestadeTempestade Ou O Livro Dos Dias",
                                    "TotalSales": "0.99"
                                },
                                {
                                    "TrackId": "1679",
                                    "TrackName": "Dezesseis",
                                    "AlbumTitle": "A TempestadeTempestade Ou O Livro Dos Dias",
                                    "TotalSales": "0.99"
                                },
                                {
                                    "TrackId": "1685",
                                    "TrackName": "O Livro Dos Dias",
                                    "AlbumTitle": "A TempestadeTempestade Ou O Livro Dos Dias",
                                    "TotalSales": "0.99"
                                },
                                {
                                    "TrackId": "1691",
                                    "TrackName": "Indios",
                                    "AlbumTitle": "Mais Do Mesmo",
                                    "TotalSales": "0.99"
                                },
                                {
                                    "TrackId": "1700",
                                    "TrackName": "Dezesseis",
                                    "AlbumTitle": "Mais Do Mesmo",
                                    "TotalSales": "0.99"
                                },
                                {
                                    "TrackId": "1709",
                                    "TrackName": "American Woman",
                                    "AlbumTitle": "Greatest Hits",
                                    "TotalSales": "0.99"
                                },
                                {
                                    "TrackId": "1718",
                                    "TrackName": "Honolulu",
                                    "AlbumTitle": "Lulu Santos - RCA 100 Anos De Música - Álbum 02",
                                    "TotalSales": "0.99"
                                },
                                {
                                    "TrackId": "1727",
                                    "TrackName": "Brumário",
                                    "AlbumTitle": "Lulu Santos - RCA 100 Anos De Música - Álbum 01",
                                    "TotalSales": "0.99"
                                },
                                {
                                    "TrackId": "1736",
                                    "TrackName": "Tudo Bem",
                                    "AlbumTitle": "Lulu Santos - RCA 100 Anos De Música - Álbum 01",
                                    "TotalSales": "0.99"
                                },
                                {
                                    "TrackId": "1745",
                                    "TrackName": "Pseudo Silk Kimono",
                                    "AlbumTitle": "Misplaced Childhood",
                                    "TotalSales": "0.99"
                                },
                                {
                                    "TrackId": "1754",
                                    "TrackName": "White Feather",
                                    "AlbumTitle": "Misplaced Childhood",
                                    "TotalSales": "0.99"
                                },
                                {
                                    "TrackId": "1763",
                                    "TrackName": "De Noite Na Cama",
                                    "AlbumTitle": "Barulhinho Bom",
                                    "TotalSales": "0.99"
                                },
                                {
                                    "TrackId": "1772",
                                    "TrackName": "O Xote Das Meninas",
                                    "AlbumTitle": "Barulhinho Bom",
                                    "TotalSales": "0.99"
                                },
                                {
                                    "TrackId": "1781",
                                    "TrackName": "Seek And You Shall Find",
                                    "AlbumTitle": "Seek And Shall Find: More Of The Best (1963-1981)",
                                    "TotalSales": "0.99"
                                },
                                {
                                    "TrackId": "1790",
                                    "TrackName": "Heavy Love Affair",
                                    "AlbumTitle": "Seek And Shall Find: More Of The Best (1963-1981)",
                                    "TotalSales": "0.99"
                                },
                                {
                                    "TrackId": "1817",
                                    "TrackName": "Last Caress/Green Hell",
                                    "AlbumTitle": "Garage Inc. (Disc 2)",
                                    "TotalSales": "0.99"
                                },
                                {
                                    "TrackId": "1832",
                                    "TrackName": "Jump In The Fire",
                                    "AlbumTitle": "Kill 'Em All",
                                    "TotalSales": "0.99"
                                },
                                {
                                    "TrackId": "1833",
                                    "TrackName": "(Anesthesia) Pulling Teeth",
                                    "AlbumTitle": "Kill 'Em All",
                                    "TotalSales": "0.99"
                                },
                                {
                                    "TrackId": "1837",
                                    "TrackName": "Seek & Destroy",
                                    "AlbumTitle": "Kill 'Em All",
                                    "TotalSales": "0.99"
                                },
                                {
                                    "TrackId": "1839",
                                    "TrackName": "Ain't My Bitch",
                                    "AlbumTitle": "Load",
                                    "TotalSales": "0.99"
                                },
                                {
                                    "TrackId": "1843",
                                    "TrackName": "King Nothing",
                                    "AlbumTitle": "Load",
                                    "TotalSales": "0.99"
                                },
                                {
                                    "TrackId": "1845",
                                    "TrackName": "Bleeding Me",
                                    "AlbumTitle": "Load",
                                    "TotalSales": "0.99"
                                },
                                {
                                    "TrackId": "1849",
                                    "TrackName": "Mama Said",
                                    "AlbumTitle": "Load",
                                    "TotalSales": "0.99"
                                },
                                {
                                    "TrackId": "1857",
                                    "TrackName": "Disposable Heroes",
                                    "AlbumTitle": "Master Of Puppets",
                                    "TotalSales": "0.99"
                                },
                                {
                                    "TrackId": "1861",
                                    "TrackName": "Fuel",
                                    "AlbumTitle": "ReLoad",
                                    "TotalSales": "0.99"
                                },
                                {
                                    "TrackId": "1869",
                                    "TrackName": "Where The Wild Things Are",
                                    "AlbumTitle": "ReLoad",
                                    "TotalSales": "0.99"
                                },
                                {
                                    "TrackId": "1875",
                                    "TrackName": "Ride The Lightning",
                                    "AlbumTitle": "Ride The Lightning",
                                    "TotalSales": "0.99"
                                },
                                {
                                    "TrackId": "1881",
                                    "TrackName": "The Call Of Ktulu",
                                    "AlbumTitle": "Ride The Lightning",
                                    "TotalSales": "0.99"
                                },
                                {
                                    "TrackId": "1887",
                                    "TrackName": "My World",
                                    "AlbumTitle": "St. Anger",
                                    "TotalSales": "0.99"
                                },
                                {
                                    "TrackId": "1893",
                                    "TrackName": "Blackened",
                                    "AlbumTitle": "...And Justice For All",
                                    "TotalSales": "0.99"
                                },
                                {
                                    "TrackId": "1899",
                                    "TrackName": "The Frayed Ends Of Sanity",
                                    "AlbumTitle": "...And Justice For All",
                                    "TotalSales": "0.99"
                                },
                                {
                                    "TrackId": "1905",
                                    "TrackName": "My Ship",
                                    "AlbumTitle": "Miles Ahead",
                                    "TotalSales": "0.99"
                                },
                                {
                                    "TrackId": "1911",
                                    "TrackName": "I Don't Wanna Be Kissed (By Anyone But You)",
                                    "AlbumTitle": "Miles Ahead",
                                    "TotalSales": "0.99"
                                },
                                {
                                    "TrackId": "1917",
                                    "TrackName": "A Noite Do Meu Bem",
                                    "AlbumTitle": "Milton Nascimento Ao Vivo",
                                    "TotalSales": "0.99"
                                },
                                {
                                    "TrackId": "1923",
                                    "TrackName": "Brasil",
                                    "AlbumTitle": "Milton Nascimento Ao Vivo",
                                    "TotalSales": "0.99"
                                },
                                {
                                    "TrackId": "1932",
                                    "TrackName": "Saudade Dos Aviões Da Panair (Conversando No Bar)",
                                    "AlbumTitle": "Minas",
                                    "TotalSales": "0.99"
                                },
                                {
                                    "TrackId": "1941",
                                    "TrackName": "Caso Você Queira Saber",
                                    "AlbumTitle": "Minas",
                                    "TotalSales": "0.99"
                                },
                                {
                                    "TrackId": "1950",
                                    "TrackName": "Dance",
                                    "AlbumTitle": "Ace Of Spades",
                                    "TotalSales": "0.99"
                                },
                                {
                                    "TrackId": "1959",
                                    "TrackName": "Aos Leões",
                                    "AlbumTitle": "Demorou...",
                                    "TotalSales": "0.99"
                                },
                                {
                                    "TrackId": "1968",
                                    "TrackName": "Demorou!",
                                    "AlbumTitle": "Demorou...",
                                    "TotalSales": "0.99"
                                },
                                {
                                    "TrackId": "1977",
                                    "TrackName": "Home Sweet Home",
                                    "AlbumTitle": "Motley Crue Greatest Hits",
                                    "TotalSales": "0.99"
                                },
                                {
                                    "TrackId": "1986",
                                    "TrackName": "Intro",
                                    "AlbumTitle": "From The Muddy Banks Of The Wishkah [Live]",
                                    "TotalSales": "0.99"
                                },
                                {
                                    "TrackId": "1995",
                                    "TrackName": "Scentless Apprentice",
                                    "AlbumTitle": "From The Muddy Banks Of The Wishkah [Live]",
                                    "TotalSales": "0.99"
                                },
                                {
                                    "TrackId": "2004",
                                    "TrackName": "In Bloom",
                                    "AlbumTitle": "Nevermind",
                                    "TotalSales": "0.99"
                                },
                                {
                                    "TrackId": "2013",
                                    "TrackName": "On A Plain",
                                    "AlbumTitle": "Nevermind",
                                    "TotalSales": "0.99"
                                },
                                {
                                    "TrackId": "2022",
                                    "TrackName": "Mundaréu",
                                    "AlbumTitle": "Compositores",
                                    "TotalSales": "0.99"
                                },
                                {
                                    "TrackId": "2049",
                                    "TrackName": "Vai Valer",
                                    "AlbumTitle": "Acústico MTV",
                                    "TotalSales": "0.99"
                                },
                                {
                                    "TrackId": "2064",
                                    "TrackName": "Caleidoscópio",
                                    "AlbumTitle": "Acústico MTV",
                                    "TotalSales": "0.99"
                                },
                                {
                                    "TrackId": "2065",
                                    "TrackName": "Trac Trac",
                                    "AlbumTitle": "Arquivo II",
                                    "TotalSales": "0.99"
                                },
                                {
                                    "TrackId": "2069",
                                    "TrackName": "La Bella Luna",
                                    "AlbumTitle": "Arquivo II",
                                    "TotalSales": "0.99"
                                },
                                {
                                    "TrackId": "2071",
                                    "TrackName": "Uma Brasileira",
                                    "AlbumTitle": "Arquivo II",
                                    "TotalSales": "0.99"
                                },
                                {
                                    "TrackId": "2075",
                                    "TrackName": "O Amor Nao Sabe Esperar",
                                    "AlbumTitle": "Arquivo II",
                                    "TotalSales": "0.99"
                                },
                                {
                                    "TrackId": "2077",
                                    "TrackName": "Caleidoscópio",
                                    "AlbumTitle": "Arquivo Os Paralamas Do Sucesso",
                                    "TotalSales": "0.99"
                                },
                                {
                                    "TrackId": "2081",
                                    "TrackName": "Lanterna Dos Afogados",
                                    "AlbumTitle": "Arquivo Os Paralamas Do Sucesso",
                                    "TotalSales": "0.99"
                                },
                                {
                                    "TrackId": "2089",
                                    "TrackName": "Selvagem",
                                    "AlbumTitle": "Arquivo Os Paralamas Do Sucesso",
                                    "TotalSales": "0.99"
                                },
                                {
                                    "TrackId": "2093",
                                    "TrackName": "Bark at the Moon",
                                    "AlbumTitle": "Bark at the Moon (Remastered)",
                                    "TotalSales": "0.99"
                                },
                                {
                                    "TrackId": "2101",
                                    "TrackName": "Believer",
                                    "AlbumTitle": "Tribute",
                                    "TotalSales": "0.99"
                                },
                                {
                                    "TrackId": "2107",
                                    "TrackName": "Iron Man",
                                    "AlbumTitle": "Tribute",
                                    "TotalSales": "0.99"
                                },
                                {
                                    "TrackId": "2113",
                                    "TrackName": "Shining In The Light",
                                    "AlbumTitle": "Walking Into Clarksdale",
                                    "TotalSales": "0.99"
                                },
                                {
                                    "TrackId": "2119",
                                    "TrackName": "Heart In Your Hand",
                                    "AlbumTitle": "Walking Into Clarksdale",
                                    "TotalSales": "0.99"
                                },
                                {
                                    "TrackId": "2125",
                                    "TrackName": "United Colours",
                                    "AlbumTitle": "Original Soundtracks 1",
                                    "TotalSales": "0.99"
                                },
                                {
                                    "TrackId": "2131",
                                    "TrackName": "Miss Sarajevo",
                                    "AlbumTitle": "Original Soundtracks 1",
                                    "TotalSales": "0.99"
                                },
                                {
                                    "TrackId": "2137",
                                    "TrackName": "Theme From The Swan",
                                    "AlbumTitle": "Original Soundtracks 1",
                                    "TotalSales": "0.99"
                                },
                                {
                                    "TrackId": "2143",
                                    "TrackName": "Women In Uniform",
                                    "AlbumTitle": "The Beast Live",
                                    "TotalSales": "0.99"
                                },
                                {
                                    "TrackId": "2149",
                                    "TrackName": "Corduroy",
                                    "AlbumTitle": "Live On Two Legs [Live]",
                                    "TotalSales": "0.99"
                                },
                                {
                                    "TrackId": "2155",
                                    "TrackName": "MFC",
                                    "AlbumTitle": "Live On Two Legs [Live]",
                                    "TotalSales": "0.99"
                                },
                                {
                                    "TrackId": "2164",
                                    "TrackName": "F*Ckin' Up",
                                    "AlbumTitle": "Live On Two Legs [Live]",
                                    "TotalSales": "0.99"
                                },
                                {
                                    "TrackId": "2173",
                                    "TrackName": "Gone",
                                    "AlbumTitle": "Pearl Jam",
                                    "TotalSales": "0.99"
                                },
                                {
                                    "TrackId": "2182",
                                    "TrackName": "Ghost",
                                    "AlbumTitle": "Riot Act",
                                    "TotalSales": "0.99"
                                },
                                {
                                    "TrackId": "2191",
                                    "TrackName": "Arc",
                                    "AlbumTitle": "Riot Act",
                                    "TotalSales": "0.99"
                                },
                                {
                                    "TrackId": "2200",
                                    "TrackName": "Porch",
                                    "AlbumTitle": "Ten",
                                    "TotalSales": "0.99"
                                },
                                {
                                    "TrackId": "2209",
                                    "TrackName": "W.M.A.",
                                    "AlbumTitle": "Vs.",
                                    "TotalSales": "0.99"
                                },
                                {
                                    "TrackId": "2218",
                                    "TrackName": "Jah Seh No",
                                    "AlbumTitle": "Greatest Hits",
                                    "TotalSales": "0.99"
                                },
                                {
                                    "TrackId": "2227",
                                    "TrackName": "Crystal Ball",
                                    "AlbumTitle": "Greatest Hits",
                                    "TotalSales": "0.99"
                                },
                                {
                                    "TrackId": "2236",
                                    "TrackName": "Brain Damage",
                                    "AlbumTitle": "Dark Side Of The Moon",
                                    "TotalSales": "0.99"
                                },
                                {
                                    "TrackId": "2245",
                                    "TrackName": "O Bicho Tá Pregando",
                                    "AlbumTitle": "Os Cães Ladram Mas A Caravana Não Pára",
                                    "TotalSales": "0.99"
                                },
                                {
                                    "TrackId": "2254",
                                    "TrackName": "Bohemian Rhapsody",
                                    "AlbumTitle": "Greatest Hits I",
                                    "TotalSales": "0.99"
                                },
                                {
                                    "TrackId": "2281",
                                    "TrackName": "My Melancholy Blues",
                                    "AlbumTitle": "News Of The World",
                                    "TotalSales": "0.99"
                                },
                                {
                                    "TrackId": "2296",
                                    "TrackName": "How The West Was Won And Where It Got Us",
                                    "AlbumTitle": "New Adventures In Hi-Fi",
                                    "TotalSales": "0.99"
                                },
                                {
                                    "TrackId": "2297",
                                    "TrackName": "The Wake-Up Bomb",
                                    "AlbumTitle": "New Adventures In Hi-Fi",
                                    "TotalSales": "0.99"
                                },
                                {
                                    "TrackId": "2301",
                                    "TrackName": "Leave",
                                    "AlbumTitle": "New Adventures In Hi-Fi",
                                    "TotalSales": "0.99"
                                },
                                {
                                    "TrackId": "2303",
                                    "TrackName": "Bittersweet Me",
                                    "AlbumTitle": "New Adventures In Hi-Fi",
                                    "TotalSales": "0.99"
                                },
                                {
                                    "TrackId": "2307",
                                    "TrackName": "So Fast, So Numb",
                                    "AlbumTitle": "New Adventures In Hi-Fi",
                                    "TotalSales": "0.99"
                                },
                                {
                                    "TrackId": "2309",
                                    "TrackName": "Electrolite",
                                    "AlbumTitle": "New Adventures In Hi-Fi",
                                    "TotalSales": "0.99"
                                },
                                {
                                    "TrackId": "2313",
                                    "TrackName": "Endgame",
                                    "AlbumTitle": "Out Of Time",
                                    "TotalSales": "0.99"
                                },
                                {
                                    "TrackId": "2321",
                                    "TrackName": "Talk About The Passion",
                                    "AlbumTitle": "The Best Of R.E.M.: The IRS Years",
                                    "TotalSales": "0.99"
                                },
                                {
                                    "TrackId": "2325",
                                    "TrackName": "Green Grow The Rushes",
                                    "AlbumTitle": "The Best Of R.E.M.: The IRS Years",
                                    "TotalSales": "0.99"
                                },
                                {
                                    "TrackId": "2333",
                                    "TrackName": "It's The End Of The World As We Know It (And I Feel Fine)",
                                    "AlbumTitle": "The Best Of R.E.M.: The IRS Years",
                                    "TotalSales": "0.99"
                                },
                                {
                                    "TrackId": "2339",
                                    "TrackName": "Puteiro Em João Pessoa",
                                    "AlbumTitle": "Cesta Básica",
                                    "TotalSales": "0.99"
                                },
                                {
                                    "TrackId": "2345",
                                    "TrackName": "O Dia Em Que A Terra Parou",
                                    "AlbumTitle": "Raul Seixas",
                                    "TotalSales": "0.99"
                                },
                                {
                                    "TrackId": "2351",
                                    "TrackName": "Todo Mundo Explica",
                                    "AlbumTitle": "Raul Seixas",
                                    "TotalSales": "0.99"
                                },
                                {
                                    "TrackId": "2357",
                                    "TrackName": "Rock Das Aranhas (Ao Vivo) (Live)",
                                    "AlbumTitle": "Raul Seixas",
                                    "TotalSales": "0.99"
                                },
                                {
                                    "TrackId": "2363",
                                    "TrackName": "I Could Have Lied",
                                    "AlbumTitle": "Blood Sugar Sex Magik",
                                    "TotalSales": "0.99"
                                },
                                {
                                    "TrackId": "2369",
                                    "TrackName": "Naked In The Rain",
                                    "AlbumTitle": "Blood Sugar Sex Magik",
                                    "TotalSales": "0.99"
                                },
                                {
                                    "TrackId": "2375",
                                    "TrackName": "By The Way",
                                    "AlbumTitle": "By The Way",
                                    "TotalSales": "0.99"
                                },
                                {
                                    "TrackId": "2381",
                                    "TrackName": "Can't Stop",
                                    "AlbumTitle": "By The Way",
                                    "TotalSales": "0.99"
                                },
                                {
                                    "TrackId": "2387",
                                    "TrackName": "On Mercury",
                                    "AlbumTitle": "By The Way",
                                    "TotalSales": "0.99"
                                },
                                {
                                    "TrackId": "2396",
                                    "TrackName": "Californication",
                                    "AlbumTitle": "Californication",
                                    "TotalSales": "0.99"
                                },
                                {
                                    "TrackId": "2405",
                                    "TrackName": "Road Trippin'",
                                    "AlbumTitle": "Californication",
                                    "TotalSales": "0.99"
                                },
                                {
                                    "TrackId": "2414",
                                    "TrackName": "Closer To The Heart",
                                    "AlbumTitle": "Retrospective I (1974-1980)",
                                    "TotalSales": "0.99"
                                },
                                {
                                    "TrackId": "2423",
                                    "TrackName": "Persuasion",
                                    "AlbumTitle": "Santana - As Years Go By",
                                    "TotalSales": "0.99"
                                },
                                {
                                    "TrackId": "2432",
                                    "TrackName": "Funky Piano",
                                    "AlbumTitle": "Santana Live",
                                    "TotalSales": "0.99"
                                },
                                {
                                    "TrackId": "2441",
                                    "TrackName": "Stars",
                                    "AlbumTitle": "Greatest Hits",
                                    "TotalSales": "0.99"
                                },
                                {
                                    "TrackId": "2450",
                                    "TrackName": "Três Lados",
                                    "AlbumTitle": "Maquinarama",
                                    "TotalSales": "0.99"
                                },
                                {
                                    "TrackId": "2459",
                                    "TrackName": "Ali",
                                    "AlbumTitle": "Maquinarama",
                                    "TotalSales": "0.99"
                                },
                                {
                                    "TrackId": "2468",
                                    "TrackName": "Um Dia Qualquer",
                                    "AlbumTitle": "O Samba Poconé",
                                    "TotalSales": "0.99"
                                },
                                {
                                    "TrackId": "2477",
                                    "TrackName": "My Mistake",
                                    "AlbumTitle": "Judas 0: B-Sides and Rarities",
                                    "TotalSales": "0.99"
                                },
                                {
                                    "TrackId": "2486",
                                    "TrackName": "Soot & Stars",
                                    "AlbumTitle": "Judas 0: B-Sides and Rarities",
                                    "TotalSales": "0.99"
                                },
                                {
                                    "TrackId": "2513",
                                    "TrackName": "Rusty Cage",
                                    "AlbumTitle": "A-Sides",
                                    "TotalSales": "0.99"
                                },
                                {
                                    "TrackId": "2528",
                                    "TrackName": "Heliopolis",
                                    "AlbumTitle": "Morning Dance",
                                    "TotalSales": "0.99"
                                },
                                {
                                    "TrackId": "2529",
                                    "TrackName": "It Doesn't Matter",
                                    "AlbumTitle": "Morning Dance",
                                    "TotalSales": "0.99"
                                },
                                {
                                    "TrackId": "2533",
                                    "TrackName": "Crossfire",
                                    "AlbumTitle": "In Step",
                                    "TotalSales": "0.99"
                                },
                                {
                                    "TrackId": "2535",
                                    "TrackName": "Let Me Love You Baby",
                                    "AlbumTitle": "In Step",
                                    "TotalSales": "0.99"
                                },
                                {
                                    "TrackId": "2539",
                                    "TrackName": "Scratch-N-Sniff",
                                    "AlbumTitle": "In Step",
                                    "TotalSales": "0.99"
                                },
                                {
                                    "TrackId": "2541",
                                    "TrackName": "Riviera Paradise",
                                    "AlbumTitle": "In Step",
                                    "TotalSales": "0.99"
                                },
                                {
                                    "TrackId": "2545",
                                    "TrackName": "No Memory",
                                    "AlbumTitle": "Core",
                                    "TotalSales": "0.99"
                                },
                                {
                                    "TrackId": "2553",
                                    "TrackName": "Where The River Goes",
                                    "AlbumTitle": "Core",
                                    "TotalSales": "0.99"
                                },
                                {
                                    "TrackId": "2557",
                                    "TrackName": "Cigaro",
                                    "AlbumTitle": "Mezmerize",
                                    "TotalSales": "0.99"
                                },
                                {
                                    "TrackId": "2565",
                                    "TrackName": "The Sun Road",
                                    "AlbumTitle": "[1997] Black Light Syndrome",
                                    "TotalSales": "0.99"
                                },
                                {
                                    "TrackId": "2571",
                                    "TrackName": "Chaos-Control",
                                    "AlbumTitle": "[1997] Black Light Syndrome",
                                    "TotalSales": "0.99"
                                },
                                {
                                    "TrackId": "2577",
                                    "TrackName": "Cursed Diamonds",
                                    "AlbumTitle": "Live [Disc 1]",
                                    "TotalSales": "0.99"
                                },
                                {
                                    "TrackId": "2583",
                                    "TrackName": "High Head Blues",
                                    "AlbumTitle": "Live [Disc 2]",
                                    "TotalSales": "0.99"
                                },
                                {
                                    "TrackId": "2589",
                                    "TrackName": "Hard To Handle",
                                    "AlbumTitle": "Live [Disc 2]",
                                    "TotalSales": "0.99"
                                },
                                {
                                    "TrackId": "2595",
                                    "TrackName": "(White Man) In Hammersmith Palais",
                                    "AlbumTitle": "The Singles",
                                    "TotalSales": "0.99"
                                },
                                {
                                    "TrackId": "2601",
                                    "TrackName": "Bankrobber",
                                    "AlbumTitle": "The Singles",
                                    "TotalSales": "0.99"
                                },
                                {
                                    "TrackId": "2607",
                                    "TrackName": "Rock The Casbah",
                                    "AlbumTitle": "The Singles",
                                    "TotalSales": "0.99"
                                },
                                {
                                    "TrackId": "2613",
                                    "TrackName": "Breathe",
                                    "AlbumTitle": "Beyond Good And Evil",
                                    "TotalSales": "0.99"
                                },
                                {
                                    "TrackId": "2619",
                                    "TrackName": "True Believers",
                                    "AlbumTitle": "Beyond Good And Evil",
                                    "TotalSales": "0.99"
                                },
                                {
                                    "TrackId": "2628",
                                    "TrackName": "Love Removal Machine",
                                    "AlbumTitle": "Pure Cult: The Best Of The Cult (For Rockers, Ravers, Lovers & Sinners) [UK]",
                                    "TotalSales": "0.99"
                                },
                                {
                                    "TrackId": "2637",
                                    "TrackName": "Sweet Soul Sister",
                                    "AlbumTitle": "Pure Cult: The Best Of The Cult (For Rockers, Ravers, Lovers & Sinners) [UK]",
                                    "TotalSales": "0.99"
                                },
                                {
                                    "TrackId": "2646",
                                    "TrackName": "I Looked At You",
                                    "AlbumTitle": "The Doors",
                                    "TotalSales": "0.99"
                                },
                                {
                                    "TrackId": "2655",
                                    "TrackName": "De Do Do Do, De Da Da Da",
                                    "AlbumTitle": "The Police Greatest Hits",
                                    "TotalSales": "0.99"
                                },
                                {
                                    "TrackId": "2664",
                                    "TrackName": "Time Is On My Side",
                                    "AlbumTitle": "Hot Rocks, 1964-1971 (Disc 1)",
                                    "TotalSales": "0.99"
                                },
                                {
                                    "TrackId": "2673",
                                    "TrackName": "Under My Thumb",
                                    "AlbumTitle": "Hot Rocks, 1964-1971 (Disc 1)",
                                    "TotalSales": "0.99"
                                },
                                {
                                    "TrackId": "2682",
                                    "TrackName": "Saint Of Me",
                                    "AlbumTitle": "No Security",
                                    "TotalSales": "0.99"
                                },
                                {
                                    "TrackId": "2691",
                                    "TrackName": "You Got Me Rocking",
                                    "AlbumTitle": "Voodoo Lounge",
                                    "TotalSales": "0.99"
                                },
                                {
                                    "TrackId": "2700",
                                    "TrackName": "Suck On The Jugular",
                                    "AlbumTitle": "Voodoo Lounge",
                                    "TotalSales": "0.99"
                                },
                                {
                                    "TrackId": "2709",
                                    "TrackName": "Sister Awake",
                                    "AlbumTitle": "Tangents",
                                    "TotalSales": "0.99"
                                },
                                {
                                    "TrackId": "2718",
                                    "TrackName": "Life Line",
                                    "AlbumTitle": "Tangents",
                                    "TotalSales": "0.99"
                                },
                                {
                                    "TrackId": "2745",
                                    "TrackName": "Let's See Action",
                                    "AlbumTitle": "My Generation - The Very Best Of The Who",
                                    "TotalSales": "0.99"
                                },
                                {
                                    "TrackId": "2760",
                                    "TrackName": "Salve Nossa Senhora",
                                    "AlbumTitle": "Serie Sem Limite (Disc 1)",
                                    "TotalSales": "0.99"
                                },
                                {
                                    "TrackId": "2761",
                                    "TrackName": "Você Fugiu",
                                    "AlbumTitle": "Serie Sem Limite (Disc 1)",
                                    "TotalSales": "0.99"
                                },
                                {
                                    "TrackId": "2765",
                                    "TrackName": "Réu Confesso",
                                    "AlbumTitle": "Serie Sem Limite (Disc 1)",
                                    "TotalSales": "0.99"
                                },
                                {
                                    "TrackId": "2767",
                                    "TrackName": "Gostava Tanto De Você",
                                    "AlbumTitle": "Serie Sem Limite (Disc 2)",
                                    "TotalSales": "0.99"
                                },
                                {
                                    "TrackId": "2771",
                                    "TrackName": "A Festa Do Santo Reis",
                                    "AlbumTitle": "Serie Sem Limite (Disc 2)",
                                    "TotalSales": "0.99"
                                },
                                {
                                    "TrackId": "2773",
                                    "TrackName": "Padre Cícero",
                                    "AlbumTitle": "Serie Sem Limite (Disc 2)",
                                    "TotalSales": "0.99"
                                },
                                {
                                    "TrackId": "2777",
                                    "TrackName": "Balanço",
                                    "AlbumTitle": "Serie Sem Limite (Disc 2)",
                                    "TotalSales": "0.99"
                                },
                                {
                                    "TrackId": "2785",
                                    "TrackName": "Os Cegos Do Castelo",
                                    "AlbumTitle": "Acústico",
                                    "TotalSales": "0.99"
                                },
                                {
                                    "TrackId": "2789",
                                    "TrackName": "Flores",
                                    "AlbumTitle": "Acústico",
                                    "TotalSales": "0.99"
                                },
                                {
                                    "TrackId": "2797",
                                    "TrackName": "Homem Primata (Vinheta)",
                                    "AlbumTitle": "Acústico",
                                    "TotalSales": "0.99"
                                },
                                {
                                    "TrackId": "2803",
                                    "TrackName": "Sonifera Ilha",
                                    "AlbumTitle": "Volume Dois",
                                    "TotalSales": "0.99"
                                },
                                {
                                    "TrackId": "2809",
                                    "TrackName": "Amanhã Não Se Sabe",
                                    "AlbumTitle": "Volume Dois",
                                    "TotalSales": "0.99"
                                },
                                {
                                    "TrackId": "2815",
                                    "TrackName": "Eu E Ela",
                                    "AlbumTitle": "Volume Dois",
                                    "TotalSales": "0.99"
                                },
                                {
                                    "TrackId": "2932",
                                    "TrackName": "The Fly",
                                    "AlbumTitle": "Achtung Baby",
                                    "TotalSales": "0.99"
                                },
                                {
                                    "TrackId": "2941",
                                    "TrackName": "Walk On",
                                    "AlbumTitle": "All That You Can't Leave Behind",
                                    "TotalSales": "0.99"
                                },
                                {
                                    "TrackId": "2950",
                                    "TrackName": "Spanish Eyes",
                                    "AlbumTitle": "B-Sides 1980-1990",
                                    "TotalSales": "0.99"
                                },
                                {
                                    "TrackId": "2977",
                                    "TrackName": "Mofo",
                                    "AlbumTitle": "Pop",
                                    "TotalSales": "0.99"
                                },
                                {
                                    "TrackId": "2992",
                                    "TrackName": "I Still Haven't Found What I'm Looking for",
                                    "AlbumTitle": "Rattle And Hum",
                                    "TotalSales": "0.99"
                                },
                                {
                                    "TrackId": "2993",
                                    "TrackName": "Freedom For My People",
                                    "AlbumTitle": "Rattle And Hum",
                                    "TotalSales": "0.99"
                                },
                                {
                                    "TrackId": "2997",
                                    "TrackName": "Love Rescue Me",
                                    "AlbumTitle": "Rattle And Hum",
                                    "TotalSales": "0.99"
                                },
                                {
                                    "TrackId": "2999",
                                    "TrackName": "Heartland",
                                    "AlbumTitle": "Rattle And Hum",
                                    "TotalSales": "0.99"
                                },
                                {
                                    "TrackId": "3003",
                                    "TrackName": "All I Want Is You",
                                    "AlbumTitle": "Rattle And Hum",
                                    "TotalSales": "0.99"
                                },
                                {
                                    "TrackId": "3005",
                                    "TrackName": "New Year's Day",
                                    "AlbumTitle": "The Best Of 1980-1990",
                                    "TotalSales": "0.99"
                                },
                                {
                                    "TrackId": "3009",
                                    "TrackName": "Bad",
                                    "AlbumTitle": "The Best Of 1980-1990",
                                    "TotalSales": "0.99"
                                },
                                {
                                    "TrackId": "3017",
                                    "TrackName": "All I Want Is You",
                                    "AlbumTitle": "The Best Of 1980-1990",
                                    "TotalSales": "0.99"
                                },
                                {
                                    "TrackId": "3021",
                                    "TrackName": "Like A Song...",
                                    "AlbumTitle": "War",
                                    "TotalSales": "0.99"
                                },
                                {
                                    "TrackId": "3029",
                                    "TrackName": "Babyface",
                                    "AlbumTitle": "Zooropa",
                                    "TotalSales": "0.99"
                                },
                                {
                                    "TrackId": "3035",
                                    "TrackName": "The First Time",
                                    "AlbumTitle": "Zooropa",
                                    "TotalSales": "0.99"
                                },
                                {
                                    "TrackId": "3041",
                                    "TrackName": "Homely Girl",
                                    "AlbumTitle": "UB40 The Best Of - Volume Two [UK]",
                                    "TotalSales": "0.99"
                                },
                                {
                                    "TrackId": "3047",
                                    "TrackName": "Bring Me Your Cup",
                                    "AlbumTitle": "UB40 The Best Of - Volume Two [UK]",
                                    "TotalSales": "0.99"
                                },
                                {
                                    "TrackId": "3053",
                                    "TrackName": "Hang 'Em High",
                                    "AlbumTitle": "Diver Down",
                                    "TotalSales": "0.99"
                                },
                                {
                                    "TrackId": "3059",
                                    "TrackName": "Little Guitars (Intro)",
                                    "AlbumTitle": "Diver Down",
                                    "TotalSales": "0.99"
                                },
                                {
                                    "TrackId": "3065",
                                    "TrackName": "Ain't Talkin' 'bout Love",
                                    "AlbumTitle": "The Best Of Van Halen, Vol. I",
                                    "TotalSales": "0.99"
                                },
                                {
                                    "TrackId": "3071",
                                    "TrackName": "Panama",
                                    "AlbumTitle": "The Best Of Van Halen, Vol. I",
                                    "TotalSales": "0.99"
                                },
                                {
                                    "TrackId": "3077",
                                    "TrackName": "Can't Stop Loving You",
                                    "AlbumTitle": "The Best Of Van Halen, Vol. I",
                                    "TotalSales": "0.99"
                                },
                                {
                                    "TrackId": "3083",
                                    "TrackName": "You Really Got Me",
                                    "AlbumTitle": "Van Halen",
                                    "TotalSales": "0.99"
                                },
                                {
                                    "TrackId": "3092",
                                    "TrackName": "Neworld",
                                    "AlbumTitle": "Van Halen III",
                                    "TotalSales": "0.99"
                                },
                                {
                                    "TrackId": "3101",
                                    "TrackName": "Primary",
                                    "AlbumTitle": "Van Halen III",
                                    "TotalSales": "0.99"
                                },
                                {
                                    "TrackId": "3110",
                                    "TrackName": "Headspace",
                                    "AlbumTitle": "Contraband",
                                    "TotalSales": "0.99"
                                },
                                {
                                    "TrackId": "3119",
                                    "TrackName": "Tudo Na Mais Santa Paz",
                                    "AlbumTitle": "Vinicius De Moraes",
                                    "TotalSales": "0.99"
                                },
                                {
                                    "TrackId": "3128",
                                    "TrackName": "Samba Do Jato",
                                    "AlbumTitle": "Vinicius De Moraes",
                                    "TotalSales": "0.99"
                                },
                                {
                                    "TrackId": "3137",
                                    "TrackName": "Now You're Gone",
                                    "AlbumTitle": "Greatest Hits",
                                    "TotalSales": "0.99"
                                },
                                {
                                    "TrackId": "3146",
                                    "TrackName": "Faixa Amarela",
                                    "AlbumTitle": "Ao Vivo [IMPORT]",
                                    "TotalSales": "0.99"
                                },
                                {
                                    "TrackId": "3155",
                                    "TrackName": "Sem Essa de Malandro Agulha",
                                    "AlbumTitle": "Ao Vivo [IMPORT]",
                                    "TotalSales": "0.99"
                                },
                                {
                                    "TrackId": "3164",
                                    "TrackName": "Verdade",
                                    "AlbumTitle": "Ao Vivo [IMPORT]",
                                    "TotalSales": "0.99"
                                },
                                {
                                    "TrackId": "3225",
                                    "TrackName": "Your Time Is Gonna Come",
                                    "AlbumTitle": "Un-Led-Ed",
                                    "TotalSales": "0.99"
                                },
                                {
                                    "TrackId": "3253",
                                    "TrackName": "Instant Karma",
                                    "AlbumTitle": "Instant Karma: The Amnesty International Campaign to Save Darfur",
                                    "TotalSales": "0.99"
                                },
                                {
                                    "TrackId": "3257",
                                    "TrackName": "Cold Turkey",
                                    "AlbumTitle": "Instant Karma: The Amnesty International Campaign to Save Darfur",
                                    "TotalSales": "0.99"
                                },
                                {
                                    "TrackId": "3261",
                                    "TrackName": "Oh, My Love",
                                    "AlbumTitle": "Instant Karma: The Amnesty International Campaign to Save Darfur",
                                    "TotalSales": "0.99"
                                },
                                {
                                    "TrackId": "3267",
                                    "TrackName": "Imagine",
                                    "AlbumTitle": "Instant Karma: The Amnesty International Campaign to Save Darfur",
                                    "TotalSales": "0.99"
                                },
                                {
                                    "TrackId": "3273",
                                    "TrackName": "[Just Like] Starting Over",
                                    "AlbumTitle": "Instant Karma: The Amnesty International Campaign to Save Darfur",
                                    "TotalSales": "0.99"
                                },
                                {
                                    "TrackId": "3279",
                                    "TrackName": "Fairies Wear Boots",
                                    "AlbumTitle": "Speak of the Devil",
                                    "TotalSales": "0.99"
                                },
                                {
                                    "TrackId": "3285",
                                    "TrackName": "Sabbath, Bloody Sabbath",
                                    "AlbumTitle": "Speak of the Devil",
                                    "TotalSales": "0.99"
                                },
                                {
                                    "TrackId": "3291",
                                    "TrackName": "Loving You Sunday Morning",
                                    "AlbumTitle": "20th Century Masters - The Millennium Collection: The Best of Scorpions",
                                    "TotalSales": "0.99"
                                },
                                {
                                    "TrackId": "3297",
                                    "TrackName": "Tease Me Please Me",
                                    "AlbumTitle": "20th Century Masters - The Millennium Collection: The Best of Scorpions",
                                    "TotalSales": "0.99"
                                },
                                {
                                    "TrackId": "3303",
                                    "TrackName": "Top O' The Morning To Ya",
                                    "AlbumTitle": "House of Pain",
                                    "TotalSales": "0.99"
                                },
                                {
                                    "TrackId": "3309",
                                    "TrackName": "Guess Who's Back",
                                    "AlbumTitle": "House of Pain",
                                    "TotalSales": "0.99"
                                },
                                {
                                    "TrackId": "3315",
                                    "TrackName": "Feel It",
                                    "AlbumTitle": "House of Pain",
                                    "TotalSales": "0.99"
                                },
                                {
                                    "TrackId": "3324",
                                    "TrackName": "Um Lugar ao Sol",
                                    "AlbumTitle": "Radio Brasil (O Som da Jovem Vanguarda) - Seleccao de Henrique Amaro",
                                    "TotalSales": "0.99"
                                },
                                {
                                    "TrackId": "3333",
                                    "TrackName": "Chega no Suingue",
                                    "AlbumTitle": "Radio Brasil (O Som da Jovem Vanguarda) - Seleccao de Henrique Amaro",
                                    "TotalSales": "0.99"
                                },
                                {
                                    "TrackId": "3351",
                                    "TrackName": "Din Din Wo (Little Child)",
                                    "AlbumTitle": "Muso Ko",
                                    "TotalSales": "0.99"
                                },
                                {
                                    "TrackId": "3369",
                                    "TrackName": "Call Me a Dog",
                                    "AlbumTitle": "Temple of the Dog",
                                    "TotalSales": "0.99"
                                },
                                {
                                    "TrackId": "3378",
                                    "TrackName": "Safe and Sound",
                                    "AlbumTitle": "Carry On",
                                    "TotalSales": "0.99"
                                },
                                {
                                    "TrackId": "3387",
                                    "TrackName": "Disappearing Act",
                                    "AlbumTitle": "Carry On",
                                    "TotalSales": "0.99"
                                },
                                {
                                    "TrackId": "3396",
                                    "TrackName": "Shape of Things to Come",
                                    "AlbumTitle": "Revelations",
                                    "TotalSales": "0.99"
                                },
                                {
                                    "TrackId": "3405",
                                    "TrackName": "Canon and Gigue in D Major: I. Canon",
                                    "AlbumTitle": "Pachelbel: Canon & Gigue",
                                    "TotalSales": "0.99"
                                },
                                {
                                    "TrackId": "3414",
                                    "TrackName": "Symphony No. 104 in D Major \"London\": IV. Finale: Spiritoso",
                                    "AlbumTitle": "Haydn: Symphonies 99 - 104",
                                    "TotalSales": "0.99"
                                },
                                {
                                    "TrackId": "3423",
                                    "TrackName": "Jupiter, the Bringer of Jollity",
                                    "AlbumTitle": "Holst: The Planets, Op. 32 & Vaughan Williams: Fantasies",
                                    "TotalSales": "0.99"
                                },
                                {
                                    "TrackId": "3441",
                                    "TrackName": "Two Fanfares for Orchestra: II. Short Ride in a Fast Machine",
                                    "AlbumTitle": "Adams, John: The Chairman Dances",
                                    "TotalSales": "0.99"
                                },
                                {
                                    "TrackId": "3456",
                                    "TrackName": "You Know I'm No Good",
                                    "AlbumTitle": "Back to Black",
                                    "TotalSales": "0.99"
                                },
                                {
                                    "TrackId": "3457",
                                    "TrackName": "Me & Mr. Jones",
                                    "AlbumTitle": "Back to Black",
                                    "TotalSales": "0.99"
                                },
                                {
                                    "TrackId": "3459",
                                    "TrackName": "Back to Black",
                                    "AlbumTitle": "Back to Black",
                                    "TotalSales": "0.99"
                                },
                                {
                                    "TrackId": "3461",
                                    "TrackName": "Tears Dry On Their Own",
                                    "AlbumTitle": "Back to Black",
                                    "TotalSales": "0.99"
                                },
                                {
                                    "TrackId": "3463",
                                    "TrackName": "Some Unholy War",
                                    "AlbumTitle": "Back to Black",
                                    "TotalSales": "0.99"
                                },
                                {
                                    "TrackId": "3465",
                                    "TrackName": "You Know I'm No Good (feat. Ghostface Killah)",
                                    "AlbumTitle": "Back to Black",
                                    "TotalSales": "0.99"
                                },
                                {
                                    "TrackId": "3467",
                                    "TrackName": "Intro / Stronger Than Me",
                                    "AlbumTitle": "Frank",
                                    "TotalSales": "0.99"
                                },
                                {
                                    "TrackId": "3469",
                                    "TrackName": "F**k Me Pumps",
                                    "AlbumTitle": "Frank",
                                    "TotalSales": "0.99"
                                },
                                {
                                    "TrackId": "3473",
                                    "TrackName": "Take the Box",
                                    "AlbumTitle": "Frank",
                                    "TotalSales": "0.99"
                                },
                                {
                                    "TrackId": "3477",
                                    "TrackName": "Amy Amy Amy (Outro)",
                                    "AlbumTitle": "Frank",
                                    "TotalSales": "0.99"
                                },
                                {
                                    "TrackId": "3481",
                                    "TrackName": "A Midsummer Night's Dream, Op.61 Incidental Music: No.7 Notturno",
                                    "AlbumTitle": "Mendelssohn: A Midsummer Night's Dream",
                                    "TotalSales": "0.99"
                                },
                                {
                                    "TrackId": "3485",
                                    "TrackName": "Symphony No. 3 Op. 36 for Orchestra and Soprano \"Symfonia Piesni Zalosnych\"  Lento E Largo - Tranquillissimo",
                                    "AlbumTitle": "Górecki: Symphony No. 3",
                                    "TotalSales": "0.99"
                                },
                                {
                                    "TrackId": "3489",
                                    "TrackName": "Symphony No. 2: III. Allegro vivace",
                                    "AlbumTitle": "Weill: The Seven Deadly Sins",
                                    "TotalSales": "0.99"
                                },
                                {
                                    "TrackId": "3493",
                                    "TrackName": "Metopes, Op. 29: Calypso",
                                    "AlbumTitle": "Szymanowski: Piano Works, Vol. 1",
                                    "TotalSales": "0.99"
                                },
                                {
                                    "TrackId": "3499",
                                    "TrackName": "Pini Di Roma (Pinien Von Rom)  I Pini Della Via Appia",
                                    "AlbumTitle": "Respighi:Pines of Rome",
                                    "TotalSales": "0.99"
                                },
                                {
                                    "TrackId": "14",
                                    "TrackName": "Spellbound",
                                    "AlbumTitle": "For Those About To Rock We Salute You",
                                    "TotalSales": "0.99"
                                },
                                {
                                    "TrackId": "26",
                                    "TrackName": "What It Takes",
                                    "AlbumTitle": "Big Ones",
                                    "TotalSales": "0.99"
                                },
                                {
                                    "TrackId": "38",
                                    "TrackName": "All I Really Want",
                                    "AlbumTitle": "Jagged Little Pill",
                                    "TotalSales": "0.99"
                                },
                                {
                                    "TrackId": "44",
                                    "TrackName": "You Learn",
                                    "AlbumTitle": "Jagged Little Pill",
                                    "TotalSales": "0.99"
                                },
                                {
                                    "TrackId": "53",
                                    "TrackName": "Sea Of Sorrow",
                                    "AlbumTitle": "Facelift",
                                    "TotalSales": "0.99"
                                },
                                {
                                    "TrackId": "62",
                                    "TrackName": "Real Thing",
                                    "AlbumTitle": "Facelift",
                                    "TotalSales": "0.99"
                                },
                                {
                                    "TrackId": "71",
                                    "TrackName": "Falando De Amor",
                                    "AlbumTitle": "Warner 25 Anos",
                                    "TotalSales": "0.99"
                                },
                                {
                                    "TrackId": "80",
                                    "TrackName": "The Unforgiven",
                                    "AlbumTitle": "Plays Metallica By Four Cellos",
                                    "TotalSales": "0.99"
                                },
                                {
                                    "TrackId": "89",
                                    "TrackName": "Like a Stone",
                                    "AlbumTitle": "Audioslave",
                                    "TotalSales": "0.99"
                                },
                                {
                                    "TrackId": "98",
                                    "TrackName": "The Last Remaining Light",
                                    "AlbumTitle": "Audioslave",
                                    "TotalSales": "0.99"
                                },
                                {
                                    "TrackId": "107",
                                    "TrackName": "Yesterday To Tomorrow",
                                    "AlbumTitle": "Out Of Exile",
                                    "TotalSales": "0.99"
                                },
                                {
                                    "TrackId": "116",
                                    "TrackName": "C'Mon Everybody",
                                    "AlbumTitle": "BackBeat Soundtrack",
                                    "TotalSales": "0.99"
                                },
                                {
                                    "TrackId": "125",
                                    "TrackName": "Spanish moss-\"A sound portrait\"-Spanish moss",
                                    "AlbumTitle": "The Best Of Billy Cobham",
                                    "TotalSales": "0.99"
                                },
                                {
                                    "TrackId": "134",
                                    "TrackName": "All For You",
                                    "AlbumTitle": "Alcohol Fueled Brewtality Live! [Disc 1]",
                                    "TotalSales": "0.99"
                                },
                                {
                                    "TrackId": "143",
                                    "TrackName": "The Begining... At Last",
                                    "AlbumTitle": "Alcohol Fueled Brewtality Live! [Disc 1]",
                                    "TotalSales": "0.99"
                                },
                                {
                                    "TrackId": "152",
                                    "TrackName": "N.I.B.",
                                    "AlbumTitle": "Black Sabbath",
                                    "TotalSales": "0.99"
                                },
                                {
                                    "TrackId": "170",
                                    "TrackName": "A Statistic",
                                    "AlbumTitle": "Body Count",
                                    "TotalSales": "0.99"
                                },
                                {
                                    "TrackId": "185",
                                    "TrackName": "The Tower",
                                    "AlbumTitle": "Chemical Wedding",
                                    "TotalSales": "0.99"
                                },
                                {
                                    "TrackId": "186",
                                    "TrackName": "Killing Floor",
                                    "AlbumTitle": "Chemical Wedding",
                                    "TotalSales": "0.99"
                                },
                                {
                                    "TrackId": "188",
                                    "TrackName": "Gates Of Urizen",
                                    "AlbumTitle": "Chemical Wedding",
                                    "TotalSales": "0.99"
                                },
                                {
                                    "TrackId": "190",
                                    "TrackName": "Trupets Of Jericho",
                                    "AlbumTitle": "Chemical Wedding",
                                    "TotalSales": "0.99"
                                },
                                {
                                    "TrackId": "192",
                                    "TrackName": "The Alchemist",
                                    "AlbumTitle": "Chemical Wedding",
                                    "TotalSales": "0.99"
                                },
                                {
                                    "TrackId": "194",
                                    "TrackName": "First Time I Met The Blues",
                                    "AlbumTitle": "The Best Of Buddy Guy - The Millenium Collection",
                                    "TotalSales": "0.99"
                                },
                                {
                                    "TrackId": "196",
                                    "TrackName": "Stone Crazy",
                                    "AlbumTitle": "The Best Of Buddy Guy - The Millenium Collection",
                                    "TotalSales": "0.99"
                                },
                                {
                                    "TrackId": "202",
                                    "TrackName": "My Time After Awhile",
                                    "AlbumTitle": "The Best Of Buddy Guy - The Millenium Collection",
                                    "TotalSales": "0.99"
                                },
                                {
                                    "TrackId": "206",
                                    "TrackName": "Prenda Minha",
                                    "AlbumTitle": "Prenda Minha",
                                    "TotalSales": "0.99"
                                },
                                {
                                    "TrackId": "210",
                                    "TrackName": "Texto \"Verdade Tropical\"",
                                    "AlbumTitle": "Prenda Minha",
                                    "TotalSales": "0.99"
                                },
                                {
                                    "TrackId": "214",
                                    "TrackName": "Carolina",
                                    "AlbumTitle": "Prenda Minha",
                                    "TotalSales": "0.99"
                                },
                                {
                                    "TrackId": "218",
                                    "TrackName": "Linha Do Equador",
                                    "AlbumTitle": "Prenda Minha",
                                    "TotalSales": "0.99"
                                },
                                {
                                    "TrackId": "222",
                                    "TrackName": "Vida Boa",
                                    "AlbumTitle": "Prenda Minha",
                                    "TotalSales": "0.99"
                                },
                                {
                                    "TrackId": "228",
                                    "TrackName": "Vai Passar",
                                    "AlbumTitle": "Minha Historia",
                                    "TotalSales": "0.99"
                                },
                                {
                                    "TrackId": "246",
                                    "TrackName": "Mateus Enter",
                                    "AlbumTitle": "Afrociberdelia",
                                    "TotalSales": "0.99"
                                },
                                {
                                    "TrackId": "258",
                                    "TrackName": "Um Satélite Na Cabeça",
                                    "AlbumTitle": "Afrociberdelia",
                                    "TotalSales": "0.99"
                                },
                                {
                                    "TrackId": "270",
                                    "TrackName": "Banditismo Por Uma Questa",
                                    "AlbumTitle": "Da Lama Ao Caos",
                                    "TotalSales": "0.99"
                                },
                                {
                                    "TrackId": "276",
                                    "TrackName": "Maracatu De Tiro Certeiro",
                                    "AlbumTitle": "Da Lama Ao Caos",
                                    "TotalSales": "0.99"
                                },
                                {
                                    "TrackId": "285",
                                    "TrackName": "Soldado Da Paz",
                                    "AlbumTitle": "Acústico MTV [Live]",
                                    "TotalSales": "0.99"
                                },
                                {
                                    "TrackId": "294",
                                    "TrackName": "Pensamento",
                                    "AlbumTitle": "Acústico MTV [Live]",
                                    "TotalSales": "0.99"
                                },
                                {
                                    "TrackId": "303",
                                    "TrackName": "Falar A Verdade",
                                    "AlbumTitle": "Cidade Negra - Hits",
                                    "TotalSales": "0.99"
                                },
                                {
                                    "TrackId": "312",
                                    "TrackName": "Eu Também Quero Beijar",
                                    "AlbumTitle": "Cidade Negra - Hits",
                                    "TotalSales": "0.99"
                                },
                                {
                                    "TrackId": "321",
                                    "TrackName": "Felicidade Urgente",
                                    "AlbumTitle": "Na Pista",
                                    "TotalSales": "0.99"
                                },
                                {
                                    "TrackId": "330",
                                    "TrackName": "Levada do Amor (Ailoviu)",
                                    "AlbumTitle": "Axé Bahia 2001",
                                    "TotalSales": "0.99"
                                },
                                {
                                    "TrackId": "339",
                                    "TrackName": "Communication Breakdown",
                                    "AlbumTitle": "BBC Sessions [Disc 1] [Live]",
                                    "TotalSales": "0.99"
                                },
                                {
                                    "TrackId": "348",
                                    "TrackName": "I Can't Quit You Baby(2)",
                                    "AlbumTitle": "BBC Sessions [Disc 1] [Live]",
                                    "TotalSales": "0.99"
                                },
                                {
                                    "TrackId": "357",
                                    "TrackName": "Advance Romance",
                                    "AlbumTitle": "Bongo Fury",
                                    "TotalSales": "0.99"
                                },
                                {
                                    "TrackId": "366",
                                    "TrackName": "Camisa Verde 2001",
                                    "AlbumTitle": "Carnaval 2001",
                                    "TotalSales": "0.99"
                                },
                                {
                                    "TrackId": "375",
                                    "TrackName": "Mas Que Nada",
                                    "AlbumTitle": "Chill: Brazil (Disc 1)",
                                    "TotalSales": "0.99"
                                },
                                {
                                    "TrackId": "384",
                                    "TrackName": "Mistério da Raça",
                                    "AlbumTitle": "Chill: Brazil (Disc 1)",
                                    "TotalSales": "0.99"
                                },
                                {
                                    "TrackId": "402",
                                    "TrackName": "Um Jantar Pra Dois",
                                    "AlbumTitle": "Chill: Brazil (Disc 2)",
                                    "TotalSales": "0.99"
                                },
                                {
                                    "TrackId": "417",
                                    "TrackName": "Tuesday's Gone",
                                    "AlbumTitle": "Garage Inc. (Disc 1)",
                                    "TotalSales": "0.99"
                                },
                                {
                                    "TrackId": "418",
                                    "TrackName": "The More I See",
                                    "AlbumTitle": "Garage Inc. (Disc 1)",
                                    "TotalSales": "0.99"
                                },
                                {
                                    "TrackId": "420",
                                    "TrackName": "Under Pressure",
                                    "AlbumTitle": "Greatest Hits II",
                                    "TotalSales": "0.99"
                                },
                                {
                                    "TrackId": "422",
                                    "TrackName": "I Want It All",
                                    "AlbumTitle": "Greatest Hits II",
                                    "TotalSales": "0.99"
                                },
                                {
                                    "TrackId": "424",
                                    "TrackName": "Innuendo",
                                    "AlbumTitle": "Greatest Hits II",
                                    "TotalSales": "0.99"
                                },
                                {
                                    "TrackId": "426",
                                    "TrackName": "Breakthru",
                                    "AlbumTitle": "Greatest Hits II",
                                    "TotalSales": "0.99"
                                },
                                {
                                    "TrackId": "428",
                                    "TrackName": "Headlong",
                                    "AlbumTitle": "Greatest Hits II",
                                    "TotalSales": "0.99"
                                },
                                {
                                    "TrackId": "434",
                                    "TrackName": "The Show Must Go On",
                                    "AlbumTitle": "Greatest Hits II",
                                    "TotalSales": "0.99"
                                },
                                {
                                    "TrackId": "438",
                                    "TrackName": "Hard Luck Woman",
                                    "AlbumTitle": "Greatest Kiss",
                                    "TotalSales": "0.99"
                                },
                                {
                                    "TrackId": "442",
                                    "TrackName": "Goin' Blind",
                                    "AlbumTitle": "Greatest Kiss",
                                    "TotalSales": "0.99"
                                },
                                {
                                    "TrackId": "446",
                                    "TrackName": "I Was Made For Loving You",
                                    "AlbumTitle": "Greatest Kiss",
                                    "TotalSales": "0.99"
                                },
                                {
                                    "TrackId": "450",
                                    "TrackName": "Beth",
                                    "AlbumTitle": "Greatest Kiss",
                                    "TotalSales": "0.99"
                                },
                                {
                                    "TrackId": "454",
                                    "TrackName": "Plaster Caster",
                                    "AlbumTitle": "Greatest Kiss",
                                    "TotalSales": "0.99"
                                },
                                {
                                    "TrackId": "460",
                                    "TrackName": "Playtime",
                                    "AlbumTitle": "Heart of the Night",
                                    "TotalSales": "0.99"
                                },
                                {
                                    "TrackId": "478",
                                    "TrackName": "Jaded",
                                    "AlbumTitle": "International Superhits",
                                    "TotalSales": "0.99"
                                },
                                {
                                    "TrackId": "490",
                                    "TrackName": "River Song",
                                    "AlbumTitle": "Into The Light",
                                    "TotalSales": "0.99"
                                },
                                {
                                    "TrackId": "502",
                                    "TrackName": "Não Dá Mais Pra Segurar (Explode Coração)",
                                    "AlbumTitle": "Meus Momentos",
                                    "TotalSales": "0.99"
                                },
                                {
                                    "TrackId": "508",
                                    "TrackName": "Eu Apenas Queria Que Voçê Soubesse",
                                    "AlbumTitle": "Meus Momentos",
                                    "TotalSales": "0.99"
                                },
                                {
                                    "TrackId": "517",
                                    "TrackName": "Um Indio",
                                    "AlbumTitle": "Minha Historia",
                                    "TotalSales": "0.99"
                                },
                                {
                                    "TrackId": "526",
                                    "TrackName": "Fora Da Ordem",
                                    "AlbumTitle": "Minha Historia",
                                    "TotalSales": "0.99"
                                },
                                {
                                    "TrackId": "535",
                                    "TrackName": "Chão De Estrelas",
                                    "AlbumTitle": "Minha História",
                                    "TotalSales": "0.99"
                                },
                                {
                                    "TrackId": "544",
                                    "TrackName": "Stormbringer",
                                    "AlbumTitle": "MK III The Final Concerts [Disc 1]",
                                    "TotalSales": "0.99"
                                },
                                {
                                    "TrackId": "553",
                                    "TrackName": "Houses Of The Holy",
                                    "AlbumTitle": "Physical Graffiti [Disc 1]",
                                    "TotalSales": "0.99"
                                },
                                {
                                    "TrackId": "562",
                                    "TrackName": "Mangueira",
                                    "AlbumTitle": "Sambas De Enredo 2001",
                                    "TotalSales": "0.99"
                                },
                                {
                                    "TrackId": "571",
                                    "TrackName": "Love Of My Life",
                                    "AlbumTitle": "Supernatural",
                                    "TotalSales": "0.99"
                                },
                                {
                                    "TrackId": "580",
                                    "TrackName": "El Farol",
                                    "AlbumTitle": "Supernatural",
                                    "TotalSales": "0.99"
                                },
                                {
                                    "TrackId": "589",
                                    "TrackName": "Um Love",
                                    "AlbumTitle": "The Best of Ed Motta",
                                    "TotalSales": "0.99"
                                },
                                {
                                    "TrackId": "598",
                                    "TrackName": "Jeru",
                                    "AlbumTitle": "The Essential Miles Davis [Disc 1]",
                                    "TotalSales": "0.99"
                                },
                                {
                                    "TrackId": "607",
                                    "TrackName": "So What",
                                    "AlbumTitle": "The Essential Miles Davis [Disc 1]",
                                    "TotalSales": "0.99"
                                },
                                {
                                    "TrackId": "616",
                                    "TrackName": "Black Satin",
                                    "AlbumTitle": "The Essential Miles Davis [Disc 2]",
                                    "TotalSales": "0.99"
                                },
                                {
                                    "TrackId": "634",
                                    "TrackName": "Bop Boogie",
                                    "AlbumTitle": "Up An' Atom",
                                    "TotalSales": "0.99"
                                },
                                {
                                    "TrackId": "649",
                                    "TrackName": "Samba Da Volta",
                                    "AlbumTitle": "Vinícius De Moraes - Sem Limite",
                                    "TotalSales": "0.99"
                                },
                                {
                                    "TrackId": "650",
                                    "TrackName": "Canto De Ossanha",
                                    "AlbumTitle": "Vinícius De Moraes - Sem Limite",
                                    "TotalSales": "0.99"
                                },
                                {
                                    "TrackId": "652",
                                    "TrackName": "Formosa",
                                    "AlbumTitle": "Vinícius De Moraes - Sem Limite",
                                    "TotalSales": "0.99"
                                },
                                {
                                    "TrackId": "654",
                                    "TrackName": "Minha Namorada",
                                    "AlbumTitle": "Vinícius De Moraes - Sem Limite",
                                    "TotalSales": "0.99"
                                },
                                {
                                    "TrackId": "656",
                                    "TrackName": "Berimbau",
                                    "AlbumTitle": "Vinícius De Moraes - Sem Limite",
                                    "TotalSales": "0.99"
                                },
                                {
                                    "TrackId": "658",
                                    "TrackName": "Pot-Pourri N.º 2",
                                    "AlbumTitle": "Vinícius De Moraes - Sem Limite",
                                    "TotalSales": "0.99"
                                },
                                {
                                    "TrackId": "660",
                                    "TrackName": "Carta Ao Tom 74",
                                    "AlbumTitle": "Vinícius De Moraes - Sem Limite",
                                    "TotalSales": "0.99"
                                },
                                {
                                    "TrackId": "666",
                                    "TrackName": "Coração do Agreste (Fafá de Belém)",
                                    "AlbumTitle": "Vozes do MPB",
                                    "TotalSales": "0.99"
                                },
                                {
                                    "TrackId": "670",
                                    "TrackName": "Romaria (Renato Teixeira)",
                                    "AlbumTitle": "Vozes do MPB",
                                    "TotalSales": "0.99"
                                },
                                {
                                    "TrackId": "674",
                                    "TrackName": "Preciso Apender a Viver Só (Maysa)",
                                    "AlbumTitle": "Vozes do MPB",
                                    "TotalSales": "0.99"
                                },
                                {
                                    "TrackId": "678",
                                    "TrackName": "Bad Moon Rising",
                                    "AlbumTitle": "Chronicle, Vol. 1",
                                    "TotalSales": "0.99"
                                },
                                {
                                    "TrackId": "682",
                                    "TrackName": "Down On The Corner",
                                    "AlbumTitle": "Chronicle, Vol. 1",
                                    "TotalSales": "0.99"
                                },
                                {
                                    "TrackId": "686",
                                    "TrackName": "Up Around The Bend",
                                    "AlbumTitle": "Chronicle, Vol. 1",
                                    "TotalSales": "0.99"
                                },
                                {
                                    "TrackId": "692",
                                    "TrackName": "Hey Tonight",
                                    "AlbumTitle": "Chronicle, Vol. 1",
                                    "TotalSales": "0.99"
                                },
                                {
                                    "TrackId": "710",
                                    "TrackName": "It's Just A Thought",
                                    "AlbumTitle": "Chronicle, Vol. 2",
                                    "TotalSales": "0.99"
                                },
                                {
                                    "TrackId": "722",
                                    "TrackName": "Meu Mundo Fica Completo (Com Você)",
                                    "AlbumTitle": "Cássia Eller - Coleção Sem Limite [Disc 2]",
                                    "TotalSales": "0.99"
                                },
                                {
                                    "TrackId": "734",
                                    "TrackName": "Todo Amor Que Houver Nesta Vida",
                                    "AlbumTitle": "Cássia Eller - Sem Limite [Disc 1]",
                                    "TotalSales": "0.99"
                                },
                                {
                                    "TrackId": "740",
                                    "TrackName": "Socorro",
                                    "AlbumTitle": "Cássia Eller - Sem Limite [Disc 1]",
                                    "TotalSales": "0.99"
                                },
                                {
                                    "TrackId": "749",
                                    "TrackName": "I Need Love",
                                    "AlbumTitle": "Come Taste The Band",
                                    "TotalSales": "0.99"
                                },
                                {
                                    "TrackId": "758",
                                    "TrackName": "Into The Fire",
                                    "AlbumTitle": "Deep Purple In Rock",
                                    "TotalSales": "0.99"
                                },
                                {
                                    "TrackId": "767",
                                    "TrackName": "No One Came",
                                    "AlbumTitle": "Fireball",
                                    "TotalSales": "0.99"
                                },
                                {
                                    "TrackId": "776",
                                    "TrackName": "Hush",
                                    "AlbumTitle": "Knocking at Your Back Door: The Best Of Deep Purple in the 80's",
                                    "TotalSales": "0.99"
                                },
                                {
                                    "TrackId": "785",
                                    "TrackName": "Space Truckin'",
                                    "AlbumTitle": "Machine Head",
                                    "TotalSales": "0.99"
                                },
                                {
                                    "TrackId": "794",
                                    "TrackName": "A Touch Away",
                                    "AlbumTitle": "Purpendicular",
                                    "TotalSales": "0.99"
                                },
                                {
                                    "TrackId": "803",
                                    "TrackName": "Love Conquers All",
                                    "AlbumTitle": "Slaves And Masters",
                                    "TotalSales": "0.99"
                                },
                                {
                                    "TrackId": "812",
                                    "TrackName": "You Can't Do it Right (With the One You Love)",
                                    "AlbumTitle": "Stormbringer",
                                    "TotalSales": "0.99"
                                },
                                {
                                    "TrackId": "821",
                                    "TrackName": "Ramshackle Man",
                                    "AlbumTitle": "The Battle Rages On",
                                    "TotalSales": "0.99"
                                },
                                {
                                    "TrackId": "830",
                                    "TrackName": "Two Steps Behind [Acoustic Version]",
                                    "AlbumTitle": "Vault: Def Leppard's Greatest Hits",
                                    "TotalSales": "0.99"
                                },
                                {
                                    "TrackId": "839",
                                    "TrackName": "Rock Of Ages",
                                    "AlbumTitle": "Vault: Def Leppard's Greatest Hits",
                                    "TotalSales": "0.99"
                                },
                                {
                                    "TrackId": "848",
                                    "TrackName": "Outbreak",
                                    "AlbumTitle": "Outbreak",
                                    "TotalSales": "0.99"
                                },
                                {
                                    "TrackId": "866",
                                    "TrackName": "Oceano",
                                    "AlbumTitle": "Djavan Ao Vivo - Vol. 1",
                                    "TotalSales": "0.99"
                                },
                                {
                                    "TrackId": "881",
                                    "TrackName": "Casa no Campo",
                                    "AlbumTitle": "Elis Regina-Minha História",
                                    "TotalSales": "0.99"
                                },
                                {
                                    "TrackId": "882",
                                    "TrackName": "Romaria",
                                    "AlbumTitle": "Elis Regina-Minha História",
                                    "TotalSales": "0.99"
                                },
                                {
                                    "TrackId": "884",
                                    "TrackName": "Me Deixas Louca",
                                    "AlbumTitle": "Elis Regina-Minha História",
                                    "TotalSales": "0.99"
                                },
                                {
                                    "TrackId": "886",
                                    "TrackName": "Saudosa Maloca",
                                    "AlbumTitle": "Elis Regina-Minha História",
                                    "TotalSales": "0.99"
                                },
                                {
                                    "TrackId": "888",
                                    "TrackName": "Madalena",
                                    "AlbumTitle": "Elis Regina-Minha História",
                                    "TotalSales": "0.99"
                                },
                                {
                                    "TrackId": "890",
                                    "TrackName": "Aprendendo A Jogar",
                                    "AlbumTitle": "Elis Regina-Minha História",
                                    "TotalSales": "0.99"
                                },
                                {
                                    "TrackId": "892",
                                    "TrackName": "Badge",
                                    "AlbumTitle": "The Cream Of Clapton",
                                    "TotalSales": "0.99"
                                },
                                {
                                    "TrackId": "898",
                                    "TrackName": "Bell Bottom Blues",
                                    "AlbumTitle": "The Cream Of Clapton",
                                    "TotalSales": "0.99"
                                },
                                {
                                    "TrackId": "902",
                                    "TrackName": "Swing Low Sweet Chariot",
                                    "AlbumTitle": "The Cream Of Clapton",
                                    "TotalSales": "0.99"
                                },
                                {
                                    "TrackId": "906",
                                    "TrackName": "Let It Grow",
                                    "AlbumTitle": "The Cream Of Clapton",
                                    "TotalSales": "0.99"
                                },
                                {
                                    "TrackId": "910",
                                    "TrackName": "Before You Accuse Me",
                                    "AlbumTitle": "Unplugged",
                                    "TotalSales": "0.99"
                                },
                                {
                                    "TrackId": "914",
                                    "TrackName": "Nobody Knows You When You're Down & Out",
                                    "AlbumTitle": "Unplugged",
                                    "TotalSales": "0.99"
                                },
                                {
                                    "TrackId": "918",
                                    "TrackName": "Alberta",
                                    "AlbumTitle": "Unplugged",
                                    "TotalSales": "0.99"
                                },
                                {
                                    "TrackId": "924",
                                    "TrackName": "Stripsearch",
                                    "AlbumTitle": "Album Of The Year",
                                    "TotalSales": "0.99"
                                },
                                {
                                    "TrackId": "942",
                                    "TrackName": "Kindergarten",
                                    "AlbumTitle": "Angel Dust",
                                    "TotalSales": "0.99"
                                },
                                {
                                    "TrackId": "954",
                                    "TrackName": "Cuckoo For Caca",
                                    "AlbumTitle": "King For A Day Fool For A Lifetime",
                                    "TotalSales": "0.99"
                                },
                                {
                                    "TrackId": "966",
                                    "TrackName": "Falling To Pieces",
                                    "AlbumTitle": "The Real Thing",
                                    "TotalSales": "0.99"
                                },
                                {
                                    "TrackId": "972",
                                    "TrackName": "Woodpecker From Mars",
                                    "AlbumTitle": "The Real Thing",
                                    "TotalSales": "0.99"
                                },
                                {
                                    "TrackId": "981",
                                    "TrackName": "Zeca Violeiro",
                                    "AlbumTitle": "Deixa Entrar",
                                    "TotalSales": "0.99"
                                },
                                {
                                    "TrackId": "990",
                                    "TrackName": "No Way Back",
                                    "AlbumTitle": "In Your Honor [Disc 1]",
                                    "TotalSales": "0.99"
                                },
                                {
                                    "TrackId": "999",
                                    "TrackName": "Still",
                                    "AlbumTitle": "In Your Honor [Disc 2]",
                                    "TotalSales": "0.99"
                                },
                                {
                                    "TrackId": "1008",
                                    "TrackName": "Razor",
                                    "AlbumTitle": "In Your Honor [Disc 2]",
                                    "TotalSales": "0.99"
                                },
                                {
                                    "TrackId": "1017",
                                    "TrackName": "Overdrive",
                                    "AlbumTitle": "One By One",
                                    "TotalSales": "0.99"
                                },
                                {
                                    "TrackId": "1026",
                                    "TrackName": "My Hero",
                                    "AlbumTitle": "The Colour And The Shape",
                                    "TotalSales": "0.99"
                                },
                                {
                                    "TrackId": "1035",
                                    "TrackName": "New York, New York",
                                    "AlbumTitle": "My Way: The Best Of Frank Sinatra [Disc 1]",
                                    "TotalSales": "0.99"
                                },
                                {
                                    "TrackId": "1044",
                                    "TrackName": "My Kind Of Town",
                                    "AlbumTitle": "My Way: The Best Of Frank Sinatra [Disc 1]",
                                    "TotalSales": "0.99"
                                },
                                {
                                    "TrackId": "1053",
                                    "TrackName": "Bad, Bad Leroy Brown",
                                    "AlbumTitle": "My Way: The Best Of Frank Sinatra [Disc 1]",
                                    "TotalSales": "0.99"
                                },
                                {
                                    "TrackId": "1062",
                                    "TrackName": "Zambação",
                                    "AlbumTitle": "Roda De Funk",
                                    "TotalSales": "0.99"
                                },
                                {
                                    "TrackId": "1071",
                                    "TrackName": "Divirta-Se (Saindo Da Sua)",
                                    "AlbumTitle": "Roda De Funk",
                                    "TotalSales": "0.99"
                                },
                                {
                                    "TrackId": "1080",
                                    "TrackName": "Assum Preto",
                                    "AlbumTitle": "As Canções de Eu Tu Eles",
                                    "TotalSales": "0.99"
                                },
                                {
                                    "TrackId": "1098",
                                    "TrackName": "Copacabana (Live)",
                                    "AlbumTitle": "Quanta Gente Veio Ver (Live)",
                                    "TotalSales": "0.99"
                                },
                                {
                                    "TrackId": "1113",
                                    "TrackName": "Sampa",
                                    "AlbumTitle": "Unplugged",
                                    "TotalSales": "0.99"
                                },
                                {
                                    "TrackId": "1114",
                                    "TrackName": "Parabolicamará",
                                    "AlbumTitle": "Unplugged",
                                    "TotalSales": "0.99"
                                },
                                {
                                    "TrackId": "1116",
                                    "TrackName": "Expresso 2222",
                                    "AlbumTitle": "Unplugged",
                                    "TotalSales": "0.99"
                                },
                                {
                                    "TrackId": "1118",
                                    "TrackName": "Palco",
                                    "AlbumTitle": "Unplugged",
                                    "TotalSales": "0.99"
                                },
                                {
                                    "TrackId": "1120",
                                    "TrackName": "Sítio Do Pica-Pau Amarelo",
                                    "AlbumTitle": "Unplugged",
                                    "TotalSales": "0.99"
                                },
                                {
                                    "TrackId": "1122",
                                    "TrackName": "Faceless",
                                    "AlbumTitle": "Faceless",
                                    "TotalSales": "0.99"
                                },
                                {
                                    "TrackId": "1124",
                                    "TrackName": "Make Me Believe",
                                    "AlbumTitle": "Faceless",
                                    "TotalSales": "0.99"
                                },
                                {
                                    "TrackId": "1130",
                                    "TrackName": "I Am",
                                    "AlbumTitle": "Faceless",
                                    "TotalSales": "0.99"
                                },
                                {
                                    "TrackId": "1134",
                                    "TrackName": "Jesus Of Suburbia / City Of The Damned / I Don't Care / Dearly Beloved / Tales Of Another Broken Home",
                                    "AlbumTitle": "American Idiot",
                                    "TotalSales": "0.99"
                                },
                                {
                                    "TrackId": "1138",
                                    "TrackName": "St. Jimmy",
                                    "AlbumTitle": "American Idiot",
                                    "TotalSales": "0.99"
                                },
                                {
                                    "TrackId": "1142",
                                    "TrackName": "Letterbomb",
                                    "AlbumTitle": "American Idiot",
                                    "TotalSales": "0.99"
                                },
                                {
                                    "TrackId": "1146",
                                    "TrackName": "Welcome to the Jungle",
                                    "AlbumTitle": "Appetite for Destruction",
                                    "TotalSales": "0.99"
                                },
                                {
                                    "TrackId": "1150",
                                    "TrackName": "Mr. Brownstone",
                                    "AlbumTitle": "Appetite for Destruction",
                                    "TotalSales": "0.99"
                                },
                                {
                                    "TrackId": "1156",
                                    "TrackName": "Anything Goes",
                                    "AlbumTitle": "Appetite for Destruction",
                                    "TotalSales": "0.99"
                                },
                                {
                                    "TrackId": "1174",
                                    "TrackName": "Civil War",
                                    "AlbumTitle": "Use Your Illusion II",
                                    "TotalSales": "0.99"
                                },
                                {
                                    "TrackId": "1186",
                                    "TrackName": "Don't Cry",
                                    "AlbumTitle": "Use Your Illusion II",
                                    "TotalSales": "0.99"
                                },
                                {
                                    "TrackId": "1198",
                                    "TrackName": "Jacob's Ladder",
                                    "AlbumTitle": "Blue Moods",
                                    "TotalSales": "0.99"
                                },
                                {
                                    "TrackId": "1204",
                                    "TrackName": "The Pilgrim",
                                    "AlbumTitle": "A Matter of Life and Death",
                                    "TotalSales": "0.99"
                                },
                                {
                                    "TrackId": "1213",
                                    "TrackName": "The Trooper",
                                    "AlbumTitle": "A Real Dead One",
                                    "TotalSales": "0.99"
                                },
                                {
                                    "TrackId": "1222",
                                    "TrackName": "Iron Maiden",
                                    "AlbumTitle": "A Real Dead One",
                                    "TotalSales": "0.99"
                                },
                                {
                                    "TrackId": "1231",
                                    "TrackName": "Bring Your Daughter... To The Slaughter",
                                    "AlbumTitle": "A Real Live One",
                                    "TotalSales": "0.99"
                                },
                                {
                                    "TrackId": "1240",
                                    "TrackName": "Dream Of Mirrors",
                                    "AlbumTitle": "Brave New World",
                                    "TotalSales": "0.99"
                                },
                                {
                                    "TrackId": "1249",
                                    "TrackName": "Dance Of Death",
                                    "AlbumTitle": "Dance Of Death",
                                    "TotalSales": "0.99"
                                },
                                {
                                    "TrackId": "1258",
                                    "TrackName": "Afraid To Shoot Strangers",
                                    "AlbumTitle": "Fear Of The Dark",
                                    "TotalSales": "0.99"
                                },
                                {
                                    "TrackId": "1267",
                                    "TrackName": "Fear Of The Dark",
                                    "AlbumTitle": "Fear Of The Dark",
                                    "TotalSales": "0.99"
                                },
                                {
                                    "TrackId": "1276",
                                    "TrackName": "09 - Iron Maiden",
                                    "AlbumTitle": "Iron Maiden",
                                    "TotalSales": "0.99"
                                },
                                {
                                    "TrackId": "1285",
                                    "TrackName": "Purgatory",
                                    "AlbumTitle": "Killers",
                                    "TotalSales": "0.99"
                                },
                                {
                                    "TrackId": "1294",
                                    "TrackName": "Powerslave",
                                    "AlbumTitle": "Live After Death",
                                    "TotalSales": "0.99"
                                },
                                {
                                    "TrackId": "1303",
                                    "TrackName": "Die With Your Boots On",
                                    "AlbumTitle": "Live After Death",
                                    "TotalSales": "0.99"
                                },
                                {
                                    "TrackId": "1312",
                                    "TrackName": "The Evil That Men Do",
                                    "AlbumTitle": "Live At Donington 1992 (Disc 1)",
                                    "TotalSales": "0.99"
                                },
                                {
                                    "TrackId": "1330",
                                    "TrackName": "The Assassin",
                                    "AlbumTitle": "No Prayer For The Dying",
                                    "TotalSales": "0.99"
                                },
                                {
                                    "TrackId": "1345",
                                    "TrackName": "2 Minutes To Midnight",
                                    "AlbumTitle": "Powerslave",
                                    "TotalSales": "0.99"
                                },
                                {
                                    "TrackId": "1346",
                                    "TrackName": "Losfer Words",
                                    "AlbumTitle": "Powerslave",
                                    "TotalSales": "0.99"
                                },
                                {
                                    "TrackId": "1348",
                                    "TrackName": "Duelists",
                                    "AlbumTitle": "Powerslave",
                                    "TotalSales": "0.99"
                                },
                                {
                                    "TrackId": "1350",
                                    "TrackName": "Powerslave",
                                    "AlbumTitle": "Powerslave",
                                    "TotalSales": "0.99"
                                },
                                {
                                    "TrackId": "1352",
                                    "TrackName": "Intro",
                                    "AlbumTitle": "Rock In Rio [CD1]",
                                    "TotalSales": "0.99"
                                },
                                {
                                    "TrackId": "1354",
                                    "TrackName": "Ghost Of The Navigator",
                                    "AlbumTitle": "Rock In Rio [CD1]",
                                    "TotalSales": "0.99"
                                },
                                {
                                    "TrackId": "1356",
                                    "TrackName": "Wrathchild",
                                    "AlbumTitle": "Rock In Rio [CD1]",
                                    "TotalSales": "0.99"
                                },
                                {
                                    "TrackId": "1362",
                                    "TrackName": "Dream Of Mirrors",
                                    "AlbumTitle": "Rock In Rio [CD2]",
                                    "TotalSales": "0.99"
                                },
                                {
                                    "TrackId": "1366",
                                    "TrackName": "Iron Maiden",
                                    "AlbumTitle": "Rock In Rio [CD2]",
                                    "TotalSales": "0.99"
                                },
                                {
                                    "TrackId": "1370",
                                    "TrackName": "Run To The Hills",
                                    "AlbumTitle": "Rock In Rio [CD2]",
                                    "TotalSales": "0.99"
                                },
                                {
                                    "TrackId": "1374",
                                    "TrackName": "The Evil That Men Do",
                                    "AlbumTitle": "Seventh Son of a Seventh Son",
                                    "TotalSales": "0.99"
                                },
                                {
                                    "TrackId": "1378",
                                    "TrackName": "Only the Good Die Young",
                                    "AlbumTitle": "Seventh Son of a Seventh Son",
                                    "TotalSales": "0.99"
                                },
                                {
                                    "TrackId": "1382",
                                    "TrackName": "Heaven Can Wait",
                                    "AlbumTitle": "Somewhere in Time",
                                    "TotalSales": "0.99"
                                },
                                {
                                    "TrackId": "1388",
                                    "TrackName": "Children of the Damned",
                                    "AlbumTitle": "The Number of The Beast",
                                    "TotalSales": "0.99"
                                },
                                {
                                    "TrackId": "1406",
                                    "TrackName": "Futureal",
                                    "AlbumTitle": "Virtual XI",
                                    "TotalSales": "0.99"
                                },
                                {
                                    "TrackId": "1418",
                                    "TrackName": "Papa's Got A Brand New Bag Pt.1",
                                    "AlbumTitle": "Sex Machine",
                                    "TotalSales": "0.99"
                                },
                                {
                                    "TrackId": "1430",
                                    "TrackName": "Living In America",
                                    "AlbumTitle": "Sex Machine",
                                    "TotalSales": "0.99"
                                },
                                {
                                    "TrackId": "1436",
                                    "TrackName": "Hooked Up",
                                    "AlbumTitle": "Emergency On Planet Earth",
                                    "TotalSales": "0.99"
                                },
                                {
                                    "TrackId": "1445",
                                    "TrackName": "Planet Home",
                                    "AlbumTitle": "Synkronized",
                                    "TotalSales": "0.99"
                                },
                                {
                                    "TrackId": "1454",
                                    "TrackName": "Deeper Underground",
                                    "AlbumTitle": "Synkronized",
                                    "TotalSales": "0.99"
                                },
                                {
                                    "TrackId": "1463",
                                    "TrackName": "Journey To Arnhemland",
                                    "AlbumTitle": "The Return Of The Space Cowboy",
                                    "TotalSales": "0.99"
                                },
                                {
                                    "TrackId": "1472",
                                    "TrackName": "Radio Song",
                                    "AlbumTitle": "Get Born",
                                    "TotalSales": "0.99"
                                },
                                {
                                    "TrackId": "1481",
                                    "TrackName": "Red House",
                                    "AlbumTitle": "Are You Experienced?",
                                    "TotalSales": "0.99"
                                },
                                {
                                    "TrackId": "1490",
                                    "TrackName": "Hey Joe",
                                    "AlbumTitle": "Are You Experienced?",
                                    "TotalSales": "0.99"
                                },
                                {
                                    "TrackId": "1499",
                                    "TrackName": "Always With Me, Always With You",
                                    "AlbumTitle": "Surfing with the Alien (Remastered)",
                                    "TotalSales": "0.99"
                                },
                                {
                                    "TrackId": "1508",
                                    "TrackName": "Mama Africa",
                                    "AlbumTitle": "Jorge Ben Jor 25 Anos",
                                    "TotalSales": "0.99"
                                },
                                {
                                    "TrackId": "1517",
                                    "TrackName": "Santa Clara Clareou",
                                    "AlbumTitle": "Jorge Ben Jor 25 Anos",
                                    "TotalSales": "0.99"
                                },
                                {
                                    "TrackId": "1526",
                                    "TrackName": "Encontrar Alguém",
                                    "AlbumTitle": "Jota Quest-1995",
                                    "TotalSales": "0.99"
                                },
                                {
                                    "TrackId": "1535",
                                    "TrackName": "No Futuro",
                                    "AlbumTitle": "Cafezinho",
                                    "TotalSales": "0.99"
                                },
                                {
                                    "TrackId": "1544",
                                    "TrackName": "Cafezinho",
                                    "AlbumTitle": "Cafezinho",
                                    "TotalSales": "0.99"
                                },
                                {
                                    "TrackId": "1562",
                                    "TrackName": "Comin' Home",
                                    "AlbumTitle": "Unplugged [Live]",
                                    "TotalSales": "0.99"
                                },
                                {
                                    "TrackId": "1577",
                                    "TrackName": "Immigrant Song",
                                    "AlbumTitle": "BBC Sessions [Disc 2] [Live]",
                                    "TotalSales": "0.99"
                                },
                                {
                                    "TrackId": "1578",
                                    "TrackName": "Heartbreaker",
                                    "AlbumTitle": "BBC Sessions [Disc 2] [Live]",
                                    "TotalSales": "0.99"
                                },
                                {
                                    "TrackId": "1580",
                                    "TrackName": "Black Dog",
                                    "AlbumTitle": "BBC Sessions [Disc 2] [Live]",
                                    "TotalSales": "0.99"
                                },
                                {
                                    "TrackId": "1582",
                                    "TrackName": "Stairway To Heaven",
                                    "AlbumTitle": "BBC Sessions [Disc 2] [Live]",
                                    "TotalSales": "0.99"
                                },
                                {
                                    "TrackId": "1584",
                                    "TrackName": "That's The Way",
                                    "AlbumTitle": "BBC Sessions [Disc 2] [Live]",
                                    "TotalSales": "0.99"
                                },
                                {
                                    "TrackId": "1586",
                                    "TrackName": "Thank You",
                                    "AlbumTitle": "BBC Sessions [Disc 2] [Live]",
                                    "TotalSales": "0.99"
                                },
                                {
                                    "TrackId": "1588",
                                    "TrackName": "Poor Tom",
                                    "AlbumTitle": "Coda",
                                    "TotalSales": "0.99"
                                },
                                {
                                    "TrackId": "1594",
                                    "TrackName": "Wearing And Tearing",
                                    "AlbumTitle": "Coda",
                                    "TotalSales": "0.99"
                                },
                                {
                                    "TrackId": "1598",
                                    "TrackName": "The Crunge",
                                    "AlbumTitle": "Houses Of The Holy",
                                    "TotalSales": "0.99"
                                },
                                {
                                    "TrackId": "1602",
                                    "TrackName": "The Ocean",
                                    "AlbumTitle": "Houses Of The Holy",
                                    "TotalSales": "0.99"
                                },
                                {
                                    "TrackId": "1606",
                                    "TrackName": "Hot Dog",
                                    "AlbumTitle": "In Through The Out Door",
                                    "TotalSales": "0.99"
                                },
                                {
                                    "TrackId": "1610",
                                    "TrackName": "Black Dog",
                                    "AlbumTitle": "IV",
                                    "TotalSales": "0.99"
                                },
                                {
                                    "TrackId": "1614",
                                    "TrackName": "Misty Mountain Hop",
                                    "AlbumTitle": "IV",
                                    "TotalSales": "0.99"
                                },
                                {
                                    "TrackId": "1620",
                                    "TrackName": "You Shook Me",
                                    "AlbumTitle": "Led Zeppelin I",
                                    "TotalSales": "0.99"
                                },
                                {
                                    "TrackId": "1638",
                                    "TrackName": "Celebration Day",
                                    "AlbumTitle": "Led Zeppelin III",
                                    "TotalSales": "0.99"
                                },
                                {
                                    "TrackId": "1650",
                                    "TrackName": "Night Flight",
                                    "AlbumTitle": "Physical Graffiti [Disc 2]",
                                    "TotalSales": "0.99"
                                },
                                {
                                    "TrackId": "1662",
                                    "TrackName": "Rock & Roll",
                                    "AlbumTitle": "The Song Remains The Same (Disc 1)",
                                    "TotalSales": "0.99"
                                },
                                {
                                    "TrackId": "1668",
                                    "TrackName": "Stairway To Heaven",
                                    "AlbumTitle": "The Song Remains The Same (Disc 2)",
                                    "TotalSales": "0.99"
                                },
                                {
                                    "TrackId": "1677",
                                    "TrackName": "Aloha",
                                    "AlbumTitle": "A TempestadeTempestade Ou O Livro Dos Dias",
                                    "TotalSales": "0.99"
                                },
                                {
                                    "TrackId": "1686",
                                    "TrackName": "Será",
                                    "AlbumTitle": "Mais Do Mesmo",
                                    "TotalSales": "0.99"
                                },
                                {
                                    "TrackId": "1695",
                                    "TrackName": "Pais E Filhos",
                                    "AlbumTitle": "Mais Do Mesmo",
                                    "TotalSales": "0.99"
                                },
                                {
                                    "TrackId": "1704",
                                    "TrackName": "Rock And Roll Is Dead",
                                    "AlbumTitle": "Greatest Hits",
                                    "TotalSales": "0.99"
                                },
                                {
                                    "TrackId": "1713",
                                    "TrackName": "I Belong To You",
                                    "AlbumTitle": "Greatest Hits",
                                    "TotalSales": "0.99"
                                },
                                {
                                    "TrackId": "1722",
                                    "TrackName": "Casa",
                                    "AlbumTitle": "Lulu Santos - RCA 100 Anos De Música - Álbum 01",
                                    "TotalSales": "0.99"
                                },
                                {
                                    "TrackId": "1731",
                                    "TrackName": "A Cura",
                                    "AlbumTitle": "Lulu Santos - RCA 100 Anos De Música - Álbum 01",
                                    "TotalSales": "0.99"
                                },
                                {
                                    "TrackId": "1740",
                                    "TrackName": "Sereia",
                                    "AlbumTitle": "Lulu Santos - RCA 100 Anos De Música - Álbum 01",
                                    "TotalSales": "0.99"
                                },
                                {
                                    "TrackId": "1749",
                                    "TrackName": "Heart Of Lothian: Wide Boy / Curtain Call",
                                    "AlbumTitle": "Misplaced Childhood",
                                    "TotalSales": "0.99"
                                },
                                {
                                    "TrackId": "1758",
                                    "TrackName": "Cérebro Eletrônico",
                                    "AlbumTitle": "Barulhinho Bom",
                                    "TotalSales": "0.99"
                                },
                                {
                                    "TrackId": "1767",
                                    "TrackName": "A Menina Dança",
                                    "AlbumTitle": "Barulhinho Bom",
                                    "TotalSales": "0.99"
                                },
                                {
                                    "TrackId": "1776",
                                    "TrackName": "You've Been A Long Time Coming",
                                    "AlbumTitle": "Seek And Shall Find: More Of The Best (1963-1981)",
                                    "TotalSales": "0.99"
                                },
                                {
                                    "TrackId": "1794",
                                    "TrackName": "Everything I Need",
                                    "AlbumTitle": "The Best Of Men At Work",
                                    "TotalSales": "0.99"
                                },
                                {
                                    "TrackId": "1809",
                                    "TrackName": "Of Wolf And Man",
                                    "AlbumTitle": "Black Album",
                                    "TotalSales": "0.99"
                                },
                                {
                                    "TrackId": "1810",
                                    "TrackName": "The God That Failed",
                                    "AlbumTitle": "Black Album",
                                    "TotalSales": "0.99"
                                },
                                {
                                    "TrackId": "1812",
                                    "TrackName": "The Struggle Within",
                                    "AlbumTitle": "Black Album",
                                    "TotalSales": "0.99"
                                },
                                {
                                    "TrackId": "1814",
                                    "TrackName": "The Small Hours",
                                    "AlbumTitle": "Garage Inc. (Disc 2)",
                                    "TotalSales": "0.99"
                                },
                                {
                                    "TrackId": "1816",
                                    "TrackName": "Crash Course In Brain Surgery",
                                    "AlbumTitle": "Garage Inc. (Disc 2)",
                                    "TotalSales": "0.99"
                                },
                                {
                                    "TrackId": "1818",
                                    "TrackName": "Am I Evil?",
                                    "AlbumTitle": "Garage Inc. (Disc 2)",
                                    "TotalSales": "0.99"
                                },
                                {
                                    "TrackId": "1820",
                                    "TrackName": "Breadfan",
                                    "AlbumTitle": "Garage Inc. (Disc 2)",
                                    "TotalSales": "0.99"
                                },
                                {
                                    "TrackId": "1826",
                                    "TrackName": "Damage Case",
                                    "AlbumTitle": "Garage Inc. (Disc 2)",
                                    "TotalSales": "0.99"
                                },
                                {
                                    "TrackId": "1830",
                                    "TrackName": "The Four Horsemen",
                                    "AlbumTitle": "Kill 'Em All",
                                    "TotalSales": "0.99"
                                },
                                {
                                    "TrackId": "1834",
                                    "TrackName": "Whiplash",
                                    "AlbumTitle": "Kill 'Em All",
                                    "TotalSales": "0.99"
                                },
                                {
                                    "TrackId": "1838",
                                    "TrackName": "Metal Militia",
                                    "AlbumTitle": "Kill 'Em All",
                                    "TotalSales": "0.99"
                                },
                                {
                                    "TrackId": "1842",
                                    "TrackName": "Until It Sleeps",
                                    "AlbumTitle": "Load",
                                    "TotalSales": "0.99"
                                },
                                {
                                    "TrackId": "1846",
                                    "TrackName": "Cure",
                                    "AlbumTitle": "Load",
                                    "TotalSales": "0.99"
                                },
                                {
                                    "TrackId": "1852",
                                    "TrackName": "The Outlaw Torn",
                                    "AlbumTitle": "Load",
                                    "TotalSales": "0.99"
                                },
                                {
                                    "TrackId": "1870",
                                    "TrackName": "Prince Charming",
                                    "AlbumTitle": "ReLoad",
                                    "TotalSales": "0.99"
                                },
                                {
                                    "TrackId": "1882",
                                    "TrackName": "Frantic",
                                    "AlbumTitle": "St. Anger",
                                    "TotalSales": "0.99"
                                },
                                {
                                    "TrackId": "1894",
                                    "TrackName": "...And Justice For All",
                                    "AlbumTitle": "...And Justice For All",
                                    "TotalSales": "0.99"
                                },
                                {
                                    "TrackId": "1900",
                                    "TrackName": "To Live Is To Die",
                                    "AlbumTitle": "...And Justice For All",
                                    "TotalSales": "0.99"
                                },
                                {
                                    "TrackId": "1909",
                                    "TrackName": "The Meaning Of The Blues",
                                    "AlbumTitle": "Miles Ahead",
                                    "TotalSales": "0.99"
                                },
                                {
                                    "TrackId": "1918",
                                    "TrackName": "Paisagem Na Janela",
                                    "AlbumTitle": "Milton Nascimento Ao Vivo",
                                    "TotalSales": "0.99"
                                },
                                {
                                    "TrackId": "1927",
                                    "TrackName": "Para Lennon E McCartney",
                                    "AlbumTitle": "Milton Nascimento Ao Vivo",
                                    "TotalSales": "0.99"
                                },
                                {
                                    "TrackId": "1936",
                                    "TrackName": "Idolatrada",
                                    "AlbumTitle": "Minas",
                                    "TotalSales": "0.99"
                                },
                                {
                                    "TrackId": "1945",
                                    "TrackName": "Live To Win",
                                    "AlbumTitle": "Ace Of Spades",
                                    "TotalSales": "0.99"
                                },
                                {
                                    "TrackId": "1954",
                                    "TrackName": "Dirty Love",
                                    "AlbumTitle": "Ace Of Spades",
                                    "TotalSales": "0.99"
                                },
                                {
                                    "TrackId": "1963",
                                    "TrackName": "É Fogo",
                                    "AlbumTitle": "Demorou...",
                                    "TotalSales": "0.99"
                                },
                                {
                                    "TrackId": "1972",
                                    "TrackName": "Kickstart My Heart",
                                    "AlbumTitle": "Motley Crue Greatest Hits",
                                    "TotalSales": "0.99"
                                },
                                {
                                    "TrackId": "1981",
                                    "TrackName": "Smokin' in The Boys Room",
                                    "AlbumTitle": "Motley Crue Greatest Hits",
                                    "TotalSales": "0.99"
                                },
                                {
                                    "TrackId": "1990",
                                    "TrackName": "Smells Like Teen Spirit",
                                    "AlbumTitle": "From The Muddy Banks Of The Wishkah [Live]",
                                    "TotalSales": "0.99"
                                },
                                {
                                    "TrackId": "1999",
                                    "TrackName": "Polly",
                                    "AlbumTitle": "From The Muddy Banks Of The Wishkah [Live]",
                                    "TotalSales": "0.99"
                                },
                                {
                                    "TrackId": "2008",
                                    "TrackName": "Polly",
                                    "AlbumTitle": "Nevermind",
                                    "TotalSales": "0.99"
                                },
                                {
                                    "TrackId": "2026",
                                    "TrackName": "Às Vezes",
                                    "AlbumTitle": "Compositores",
                                    "TotalSales": "0.99"
                                },
                                {
                                    "TrackId": "2041",
                                    "TrackName": "Reggae Odoyá",
                                    "AlbumTitle": "Olodum",
                                    "TotalSales": "0.99"
                                },
                                {
                                    "TrackId": "2042",
                                    "TrackName": "Protesto Do Olodum (Ao Vivo)",
                                    "AlbumTitle": "Olodum",
                                    "TotalSales": "0.99"
                                },
                                {
                                    "TrackId": "2044",
                                    "TrackName": "Vulcão Dub - Fui Eu",
                                    "AlbumTitle": "Acústico MTV",
                                    "TotalSales": "0.99"
                                },
                                {
                                    "TrackId": "2046",
                                    "TrackName": "Manguetown",
                                    "AlbumTitle": "Acústico MTV",
                                    "TotalSales": "0.99"
                                },
                                {
                                    "TrackId": "2048",
                                    "TrackName": "Bora-Bora",
                                    "AlbumTitle": "Acústico MTV",
                                    "TotalSales": "0.99"
                                },
                                {
                                    "TrackId": "2050",
                                    "TrackName": "I Feel Good (I Got You) - Sossego",
                                    "AlbumTitle": "Acústico MTV",
                                    "TotalSales": "0.99"
                                },
                                {
                                    "TrackId": "2052",
                                    "TrackName": "Sincero Breu",
                                    "AlbumTitle": "Acústico MTV",
                                    "TotalSales": "0.99"
                                },
                                {
                                    "TrackId": "2058",
                                    "TrackName": "Navegar Impreciso",
                                    "AlbumTitle": "Acústico MTV",
                                    "TotalSales": "0.99"
                                },
                                {
                                    "TrackId": "2062",
                                    "TrackName": "Life During Wartime",
                                    "AlbumTitle": "Acústico MTV",
                                    "TotalSales": "0.99"
                                },
                                {
                                    "TrackId": "2066",
                                    "TrackName": "Tendo A Lua",
                                    "AlbumTitle": "Arquivo II",
                                    "TotalSales": "0.99"
                                },
                                {
                                    "TrackId": "2070",
                                    "TrackName": "Busca Vida",
                                    "AlbumTitle": "Arquivo II",
                                    "TotalSales": "0.99"
                                },
                                {
                                    "TrackId": "2074",
                                    "TrackName": "Ela Disse Adeus",
                                    "AlbumTitle": "Arquivo II",
                                    "TotalSales": "0.99"
                                },
                                {
                                    "TrackId": "2078",
                                    "TrackName": "Óculos",
                                    "AlbumTitle": "Arquivo Os Paralamas Do Sucesso",
                                    "TotalSales": "0.99"
                                },
                                {
                                    "TrackId": "2084",
                                    "TrackName": "O Beco",
                                    "AlbumTitle": "Arquivo Os Paralamas Do Sucesso",
                                    "TotalSales": "0.99"
                                },
                                {
                                    "TrackId": "2102",
                                    "TrackName": "Mr. Crowley",
                                    "AlbumTitle": "Tribute",
                                    "TotalSales": "0.99"
                                },
                                {
                                    "TrackId": "2114",
                                    "TrackName": "When The World Was Young",
                                    "AlbumTitle": "Walking Into Clarksdale",
                                    "TotalSales": "0.99"
                                },
                                {
                                    "TrackId": "2126",
                                    "TrackName": "Slug",
                                    "AlbumTitle": "Original Soundtracks 1",
                                    "TotalSales": "0.99"
                                },
                                {
                                    "TrackId": "2132",
                                    "TrackName": "Ito Okashi",
                                    "AlbumTitle": "Original Soundtracks 1",
                                    "TotalSales": "0.99"
                                },
                                {
                                    "TrackId": "2141",
                                    "TrackName": "Prowler",
                                    "AlbumTitle": "The Beast Live",
                                    "TotalSales": "0.99"
                                },
                                {
                                    "TrackId": "2150",
                                    "TrackName": "Given To Fly",
                                    "AlbumTitle": "Live On Two Legs [Live]",
                                    "TotalSales": "0.99"
                                },
                                {
                                    "TrackId": "2159",
                                    "TrackName": "Off He Goes",
                                    "AlbumTitle": "Live On Two Legs [Live]",
                                    "TotalSales": "0.99"
                                },
                                {
                                    "TrackId": "2168",
                                    "TrackName": "Severed Hand",
                                    "AlbumTitle": "Pearl Jam",
                                    "TotalSales": "0.99"
                                },
                                {
                                    "TrackId": "2177",
                                    "TrackName": "Inside Job",
                                    "AlbumTitle": "Pearl Jam",
                                    "TotalSales": "0.99"
                                },
                                {
                                    "TrackId": "2186",
                                    "TrackName": "Get Right",
                                    "AlbumTitle": "Riot Act",
                                    "TotalSales": "0.99"
                                },
                                {
                                    "TrackId": "2195",
                                    "TrackName": "Alive",
                                    "AlbumTitle": "Ten",
                                    "TotalSales": "0.99"
                                },
                                {
                                    "TrackId": "2204",
                                    "TrackName": "Go",
                                    "AlbumTitle": "Vs.",
                                    "TotalSales": "0.99"
                                },
                                {
                                    "TrackId": "2213",
                                    "TrackName": "Elderly Woman Behind The Counter In A Small Town",
                                    "AlbumTitle": "Vs.",
                                    "TotalSales": "0.99"
                                },
                                {
                                    "TrackId": "2222",
                                    "TrackName": "Bush Doctor",
                                    "AlbumTitle": "Greatest Hits",
                                    "TotalSales": "0.99"
                                },
                                {
                                    "TrackId": "2231",
                                    "TrackName": "Time",
                                    "AlbumTitle": "Dark Side Of The Moon",
                                    "TotalSales": "0.99"
                                },
                                {
                                    "TrackId": "2240",
                                    "TrackName": "Hip Hop Rio",
                                    "AlbumTitle": "Os Cães Ladram Mas A Caravana Não Pára",
                                    "TotalSales": "0.99"
                                },
                                {
                                    "TrackId": "2258",
                                    "TrackName": "Bicycle Race",
                                    "AlbumTitle": "Greatest Hits I",
                                    "TotalSales": "0.99"
                                },
                                {
                                    "TrackId": "2273",
                                    "TrackName": "Sheer Heart Attack",
                                    "AlbumTitle": "News Of The World",
                                    "TotalSales": "0.99"
                                },
                                {
                                    "TrackId": "2274",
                                    "TrackName": "All Dead, All Dead",
                                    "AlbumTitle": "News Of The World",
                                    "TotalSales": "0.99"
                                },
                                {
                                    "TrackId": "2276",
                                    "TrackName": "Fight From The Inside",
                                    "AlbumTitle": "News Of The World",
                                    "TotalSales": "0.99"
                                },
                                {
                                    "TrackId": "2278",
                                    "TrackName": "Sleep On The Sidewalk",
                                    "AlbumTitle": "News Of The World",
                                    "TotalSales": "0.99"
                                },
                                {
                                    "TrackId": "2280",
                                    "TrackName": "It's Late",
                                    "AlbumTitle": "News Of The World",
                                    "TotalSales": "0.99"
                                },
                                {
                                    "TrackId": "2282",
                                    "TrackName": "Shiny Happy People",
                                    "AlbumTitle": "Out Of Time",
                                    "TotalSales": "0.99"
                                },
                                {
                                    "TrackId": "2284",
                                    "TrackName": "Radio Song",
                                    "AlbumTitle": "Out Of Time",
                                    "TotalSales": "0.99"
                                },
                                {
                                    "TrackId": "2290",
                                    "TrackName": "The Wrong Child",
                                    "AlbumTitle": "Green",
                                    "TotalSales": "0.99"
                                },
                                {
                                    "TrackId": "2294",
                                    "TrackName": "I Remember California",
                                    "AlbumTitle": "Green",
                                    "TotalSales": "0.99"
                                },
                                {
                                    "TrackId": "2298",
                                    "TrackName": "New Test Leper",
                                    "AlbumTitle": "New Adventures In Hi-Fi",
                                    "TotalSales": "0.99"
                                },
                                {
                                    "TrackId": "2302",
                                    "TrackName": "Departure",
                                    "AlbumTitle": "New Adventures In Hi-Fi",
                                    "TotalSales": "0.99"
                                },
                                {
                                    "TrackId": "2306",
                                    "TrackName": "Zither",
                                    "AlbumTitle": "New Adventures In Hi-Fi",
                                    "TotalSales": "0.99"
                                },
                                {
                                    "TrackId": "2310",
                                    "TrackName": "Losing My Religion",
                                    "AlbumTitle": "Out Of Time",
                                    "TotalSales": "0.99"
                                },
                                {
                                    "TrackId": "2316",
                                    "TrackName": "Texarkana",
                                    "AlbumTitle": "Out Of Time",
                                    "TotalSales": "0.99"
                                },
                                {
                                    "TrackId": "2334",
                                    "TrackName": "Infeliz Natal",
                                    "AlbumTitle": "Cesta Básica",
                                    "TotalSales": "0.99"
                                },
                                {
                                    "TrackId": "2346",
                                    "TrackName": "No Fundo Do Quintal Da Escola",
                                    "AlbumTitle": "Raul Seixas",
                                    "TotalSales": "0.99"
                                },
                                {
                                    "TrackId": "2358",
                                    "TrackName": "The Power Of Equality",
                                    "AlbumTitle": "Blood Sugar Sex Magik",
                                    "TotalSales": "0.99"
                                },
                                {
                                    "TrackId": "2364",
                                    "TrackName": "Mellowship Slinky In B Major",
                                    "AlbumTitle": "Blood Sugar Sex Magik",
                                    "TotalSales": "0.99"
                                },
                                {
                                    "TrackId": "2373",
                                    "TrackName": "Sir Psycho Sexy",
                                    "AlbumTitle": "Blood Sugar Sex Magik",
                                    "TotalSales": "0.99"
                                },
                                {
                                    "TrackId": "2382",
                                    "TrackName": "I Could Die For You",
                                    "AlbumTitle": "By The Way",
                                    "TotalSales": "0.99"
                                },
                                {
                                    "TrackId": "2391",
                                    "TrackName": "Around The World",
                                    "AlbumTitle": "Californication",
                                    "TotalSales": "0.99"
                                },
                                {
                                    "TrackId": "2400",
                                    "TrackName": "I Like Dirt",
                                    "AlbumTitle": "Californication",
                                    "TotalSales": "0.99"
                                },
                                {
                                    "TrackId": "2409",
                                    "TrackName": "Freewill",
                                    "AlbumTitle": "Retrospective I (1974-1980)",
                                    "TotalSales": "0.99"
                                },
                                {
                                    "TrackId": "2418",
                                    "TrackName": "Fly By Night",
                                    "AlbumTitle": "Retrospective I (1974-1980)",
                                    "TotalSales": "0.99"
                                },
                                {
                                    "TrackId": "2427",
                                    "TrackName": "Santana Jam",
                                    "AlbumTitle": "Santana - As Years Go By",
                                    "TotalSales": "0.99"
                                },
                                {
                                    "TrackId": "2436",
                                    "TrackName": "The Right Thing",
                                    "AlbumTitle": "Greatest Hits",
                                    "TotalSales": "0.99"
                                },
                                {
                                    "TrackId": "2445",
                                    "TrackName": "For Your Babies",
                                    "AlbumTitle": "Greatest Hits",
                                    "TotalSales": "0.99"
                                },
                                {
                                    "TrackId": "2454",
                                    "TrackName": "Muçulmano",
                                    "AlbumTitle": "Maquinarama",
                                    "TotalSales": "0.99"
                                },
                                {
                                    "TrackId": "2463",
                                    "TrackName": "Zé Trindade",
                                    "AlbumTitle": "O Samba Poconé",
                                    "TotalSales": "0.99"
                                },
                                {
                                    "TrackId": "2472",
                                    "TrackName": "Lucky 13",
                                    "AlbumTitle": "Judas 0: B-Sides and Rarities",
                                    "TotalSales": "0.99"
                                },
                                {
                                    "TrackId": "2490",
                                    "TrackName": "Drown",
                                    "AlbumTitle": "Rotten Apples: Greatest Hits",
                                    "TotalSales": "0.99"
                                },
                                {
                                    "TrackId": "2505",
                                    "TrackName": "[Untitled]",
                                    "AlbumTitle": "Rotten Apples: Greatest Hits",
                                    "TotalSales": "0.99"
                                },
                                {
                                    "TrackId": "2506",
                                    "TrackName": "Nothing To Say",
                                    "AlbumTitle": "A-Sides",
                                    "TotalSales": "0.99"
                                },
                                {
                                    "TrackId": "2508",
                                    "TrackName": "Loud Love",
                                    "AlbumTitle": "A-Sides",
                                    "TotalSales": "0.99"
                                },
                                {
                                    "TrackId": "2510",
                                    "TrackName": "Get On The Snake",
                                    "AlbumTitle": "A-Sides",
                                    "TotalSales": "0.99"
                                },
                                {
                                    "TrackId": "2512",
                                    "TrackName": "Outshined",
                                    "AlbumTitle": "A-Sides",
                                    "TotalSales": "0.99"
                                },
                                {
                                    "TrackId": "2514",
                                    "TrackName": "Spoonman",
                                    "AlbumTitle": "A-Sides",
                                    "TotalSales": "0.99"
                                },
                                {
                                    "TrackId": "2516",
                                    "TrackName": "Black Hole Sun",
                                    "AlbumTitle": "A-Sides",
                                    "TotalSales": "0.99"
                                },
                                {
                                    "TrackId": "2522",
                                    "TrackName": "Bleed Together",
                                    "AlbumTitle": "A-Sides",
                                    "TotalSales": "0.99"
                                },
                                {
                                    "TrackId": "2526",
                                    "TrackName": "Song For Lorraine",
                                    "AlbumTitle": "Morning Dance",
                                    "TotalSales": "0.99"
                                },
                                {
                                    "TrackId": "2530",
                                    "TrackName": "Little Linda",
                                    "AlbumTitle": "Morning Dance",
                                    "TotalSales": "0.99"
                                },
                                {
                                    "TrackId": "2534",
                                    "TrackName": "Tightrope",
                                    "AlbumTitle": "In Step",
                                    "TotalSales": "0.99"
                                },
                                {
                                    "TrackId": "2538",
                                    "TrackName": "Wall Of Denial",
                                    "AlbumTitle": "In Step",
                                    "TotalSales": "0.99"
                                },
                                {
                                    "TrackId": "2542",
                                    "TrackName": "Dead And Bloated",
                                    "AlbumTitle": "Core",
                                    "TotalSales": "0.99"
                                },
                                {
                                    "TrackId": "2548",
                                    "TrackName": "Creep",
                                    "AlbumTitle": "Core",
                                    "TotalSales": "0.99"
                                },
                                {
                                    "TrackId": "2566",
                                    "TrackName": "Dark Corners",
                                    "AlbumTitle": "[1997] Black Light Syndrome",
                                    "TotalSales": "0.99"
                                },
                                {
                                    "TrackId": "2578",
                                    "TrackName": "Miracle To Me",
                                    "AlbumTitle": "Live [Disc 1]",
                                    "TotalSales": "0.99"
                                },
                                {
                                    "TrackId": "2590",
                                    "TrackName": "Remedy",
                                    "AlbumTitle": "Live [Disc 2]",
                                    "TotalSales": "0.99"
                                },
                                {
                                    "TrackId": "2596",
                                    "TrackName": "Tommy Gun",
                                    "AlbumTitle": "The Singles",
                                    "TotalSales": "0.99"
                                },
                                {
                                    "TrackId": "2605",
                                    "TrackName": "This Is Radio Clash",
                                    "AlbumTitle": "The Singles",
                                    "TotalSales": "0.99"
                                },
                                {
                                    "TrackId": "2614",
                                    "TrackName": "Nico",
                                    "AlbumTitle": "Beyond Good And Evil",
                                    "TotalSales": "0.99"
                                },
                                {
                                    "TrackId": "2623",
                                    "TrackName": "Lil' Evil",
                                    "AlbumTitle": "Pure Cult: The Best Of The Cult (For Rockers, Ravers, Lovers & Sinners) [UK]",
                                    "TotalSales": "0.99"
                                },
                                {
                                    "TrackId": "2632",
                                    "TrackName": "Love",
                                    "AlbumTitle": "Pure Cult: The Best Of The Cult (For Rockers, Ravers, Lovers & Sinners) [UK]",
                                    "TotalSales": "0.99"
                                },
                                {
                                    "TrackId": "2641",
                                    "TrackName": "The Crystal Ship",
                                    "AlbumTitle": "The Doors",
                                    "TotalSales": "0.99"
                                },
                                {
                                    "TrackId": "2650",
                                    "TrackName": "Roxanne",
                                    "AlbumTitle": "The Police Greatest Hits",
                                    "TotalSales": "0.99"
                                },
                                {
                                    "TrackId": "2659",
                                    "TrackName": "Every Breath You Take",
                                    "AlbumTitle": "The Police Greatest Hits",
                                    "TotalSales": "0.99"
                                },
                                {
                                    "TrackId": "2668",
                                    "TrackName": "As Tears Go By",
                                    "AlbumTitle": "Hot Rocks, 1964-1971 (Disc 1)",
                                    "TotalSales": "0.99"
                                },
                                {
                                    "TrackId": "2677",
                                    "TrackName": "You Got Me Rocking",
                                    "AlbumTitle": "No Security",
                                    "TotalSales": "0.99"
                                },
                                {
                                    "TrackId": "2686",
                                    "TrackName": "Respectable",
                                    "AlbumTitle": "No Security",
                                    "TotalSales": "0.99"
                                },
                                {
                                    "TrackId": "2695",
                                    "TrackName": "Moon Is Up",
                                    "AlbumTitle": "Voodoo Lounge",
                                    "TotalSales": "0.99"
                                },
                                {
                                    "TrackId": "2704",
                                    "TrackName": "Mean Disposition",
                                    "AlbumTitle": "Voodoo Lounge",
                                    "TotalSales": "0.99"
                                },
                                {
                                    "TrackId": "2722",
                                    "TrackName": "Psychopomp",
                                    "AlbumTitle": "Transmission",
                                    "TotalSales": "0.99"
                                },
                                {
                                    "TrackId": "2737",
                                    "TrackName": "Happy Jack",
                                    "AlbumTitle": "My Generation - The Very Best Of The Who",
                                    "TotalSales": "0.99"
                                },
                                {
                                    "TrackId": "2738",
                                    "TrackName": "Pictures Of Lily",
                                    "AlbumTitle": "My Generation - The Very Best Of The Who",
                                    "TotalSales": "0.99"
                                },
                                {
                                    "TrackId": "2740",
                                    "TrackName": "Magic Bus",
                                    "AlbumTitle": "My Generation - The Very Best Of The Who",
                                    "TotalSales": "0.99"
                                },
                                {
                                    "TrackId": "2742",
                                    "TrackName": "The Seeker",
                                    "AlbumTitle": "My Generation - The Very Best Of The Who",
                                    "TotalSales": "0.99"
                                },
                                {
                                    "TrackId": "2744",
                                    "TrackName": "Won't Get Fooled Again (Full Length Version)",
                                    "AlbumTitle": "My Generation - The Very Best Of The Who",
                                    "TotalSales": "0.99"
                                },
                                {
                                    "TrackId": "2746",
                                    "TrackName": "5.15",
                                    "AlbumTitle": "My Generation - The Very Best Of The Who",
                                    "TotalSales": "0.99"
                                },
                                {
                                    "TrackId": "2748",
                                    "TrackName": "Squeeze Box",
                                    "AlbumTitle": "My Generation - The Very Best Of The Who",
                                    "TotalSales": "0.99"
                                },
                                {
                                    "TrackId": "2754",
                                    "TrackName": "O Descobridor Dos Sete Mares",
                                    "AlbumTitle": "Serie Sem Limite (Disc 1)",
                                    "TotalSales": "0.99"
                                },
                                {
                                    "TrackId": "2758",
                                    "TrackName": "Não Vou Ficar",
                                    "AlbumTitle": "Serie Sem Limite (Disc 1)",
                                    "TotalSales": "0.99"
                                },
                                {
                                    "TrackId": "2762",
                                    "TrackName": "Cristina Nº 2",
                                    "AlbumTitle": "Serie Sem Limite (Disc 1)",
                                    "TotalSales": "0.99"
                                },
                                {
                                    "TrackId": "2766",
                                    "TrackName": "O Que Me Importa",
                                    "AlbumTitle": "Serie Sem Limite (Disc 2)",
                                    "TotalSales": "0.99"
                                },
                                {
                                    "TrackId": "2770",
                                    "TrackName": "Eu Amo Você",
                                    "AlbumTitle": "Serie Sem Limite (Disc 2)",
                                    "TotalSales": "0.99"
                                },
                                {
                                    "TrackId": "2774",
                                    "TrackName": "Nosso Adeus",
                                    "AlbumTitle": "Serie Sem Limite (Disc 2)",
                                    "TotalSales": "0.99"
                                },
                                {
                                    "TrackId": "2780",
                                    "TrackName": "Formigueiro",
                                    "AlbumTitle": "Serie Sem Limite (Disc 2)",
                                    "TotalSales": "0.99"
                                },
                                {
                                    "TrackId": "2798",
                                    "TrackName": "Homem Primata",
                                    "AlbumTitle": "Acústico",
                                    "TotalSales": "0.99"
                                },
                                {
                                    "TrackId": "2810",
                                    "TrackName": "Caras Como Eu",
                                    "AlbumTitle": "Volume Dois",
                                    "TotalSales": "0.99"
                                },
                                {
                                    "TrackId": "2927",
                                    "TrackName": "Even Better Than The Real Thing",
                                    "AlbumTitle": "Achtung Baby",
                                    "TotalSales": "0.99"
                                },
                                {
                                    "TrackId": "2936",
                                    "TrackName": "Acrobat",
                                    "AlbumTitle": "Achtung Baby",
                                    "TotalSales": "0.99"
                                },
                                {
                                    "TrackId": "2954",
                                    "TrackName": "Dancing Barefoot",
                                    "AlbumTitle": "B-Sides 1980-1990",
                                    "TotalSales": "0.99"
                                },
                                {
                                    "TrackId": "2969",
                                    "TrackName": "All Because Of You",
                                    "AlbumTitle": "How To Dismantle An Atomic Bomb",
                                    "TotalSales": "0.99"
                                },
                                {
                                    "TrackId": "2970",
                                    "TrackName": "A Man And A Woman",
                                    "AlbumTitle": "How To Dismantle An Atomic Bomb",
                                    "TotalSales": "0.99"
                                },
                                {
                                    "TrackId": "2972",
                                    "TrackName": "One Step Closer",
                                    "AlbumTitle": "How To Dismantle An Atomic Bomb",
                                    "TotalSales": "0.99"
                                },
                                {
                                    "TrackId": "2974",
                                    "TrackName": "Yahweh",
                                    "AlbumTitle": "How To Dismantle An Atomic Bomb",
                                    "TotalSales": "0.99"
                                },
                                {
                                    "TrackId": "2976",
                                    "TrackName": "Do You Feel Loved",
                                    "AlbumTitle": "Pop",
                                    "TotalSales": "0.99"
                                },
                                {
                                    "TrackId": "2978",
                                    "TrackName": "If God Will Send His Angels",
                                    "AlbumTitle": "Pop",
                                    "TotalSales": "0.99"
                                },
                                {
                                    "TrackId": "2980",
                                    "TrackName": "Last Night On Earth",
                                    "AlbumTitle": "Pop",
                                    "TotalSales": "0.99"
                                },
                                {
                                    "TrackId": "2986",
                                    "TrackName": "Wake Up Dead Man",
                                    "AlbumTitle": "Pop",
                                    "TotalSales": "0.99"
                                },
                                {
                                    "TrackId": "2990",
                                    "TrackName": "Hawkmoon 269",
                                    "AlbumTitle": "Rattle And Hum",
                                    "TotalSales": "0.99"
                                },
                                {
                                    "TrackId": "2994",
                                    "TrackName": "Silver And Gold",
                                    "AlbumTitle": "Rattle And Hum",
                                    "TotalSales": "0.99"
                                },
                                {
                                    "TrackId": "2998",
                                    "TrackName": "When Love Comes To Town",
                                    "AlbumTitle": "Rattle And Hum",
                                    "TotalSales": "0.99"
                                },
                                {
                                    "TrackId": "3002",
                                    "TrackName": "Bullet The Blue Sky",
                                    "AlbumTitle": "Rattle And Hum",
                                    "TotalSales": "0.99"
                                },
                                {
                                    "TrackId": "3006",
                                    "TrackName": "With Or Without You",
                                    "AlbumTitle": "The Best Of 1980-1990",
                                    "TotalSales": "0.99"
                                },
                                {
                                    "TrackId": "3012",
                                    "TrackName": "The Unforgettable Fire",
                                    "AlbumTitle": "The Best Of 1980-1990",
                                    "TotalSales": "0.99"
                                },
                                {
                                    "TrackId": "3030",
                                    "TrackName": "Numb",
                                    "AlbumTitle": "Zooropa",
                                    "TotalSales": "0.99"
                                },
                                {
                                    "TrackId": "3042",
                                    "TrackName": "Here I Am (Come And Take Me)",
                                    "AlbumTitle": "UB40 The Best Of - Volume Two [UK]",
                                    "TotalSales": "0.99"
                                },
                                {
                                    "TrackId": "3054",
                                    "TrackName": "Cathedral",
                                    "AlbumTitle": "Diver Down",
                                    "TotalSales": "0.99"
                                },
                                {
                                    "TrackId": "3060",
                                    "TrackName": "Little Guitars",
                                    "AlbumTitle": "Diver Down",
                                    "TotalSales": "0.99"
                                },
                                {
                                    "TrackId": "3069",
                                    "TrackName": "Unchained",
                                    "AlbumTitle": "The Best Of Van Halen, Vol. I",
                                    "TotalSales": "0.99"
                                },
                                {
                                    "TrackId": "3078",
                                    "TrackName": "Humans Being",
                                    "AlbumTitle": "The Best Of Van Halen, Vol. I",
                                    "TotalSales": "0.99"
                                },
                                {
                                    "TrackId": "3087",
                                    "TrackName": "Atomic Punk",
                                    "AlbumTitle": "Van Halen",
                                    "TotalSales": "0.99"
                                },
                                {
                                    "TrackId": "3096",
                                    "TrackName": "Dirty Water Dog",
                                    "AlbumTitle": "Van Halen III",
                                    "TotalSales": "0.99"
                                },
                                {
                                    "TrackId": "3105",
                                    "TrackName": "Do It For The Kids",
                                    "AlbumTitle": "Contraband",
                                    "TotalSales": "0.99"
                                },
                                {
                                    "TrackId": "3114",
                                    "TrackName": "Slither",
                                    "AlbumTitle": "Contraband",
                                    "TotalSales": "0.99"
                                },
                                {
                                    "TrackId": "3123",
                                    "TrackName": "Samba Pra Endrigo",
                                    "AlbumTitle": "Vinicius De Moraes",
                                    "TotalSales": "0.99"
                                },
                                {
                                    "TrackId": "3132",
                                    "TrackName": "Still Of The Night",
                                    "AlbumTitle": "Greatest Hits",
                                    "TotalSales": "0.99"
                                },
                                {
                                    "TrackId": "3141",
                                    "TrackName": "You're Gonna Break My Hart Again",
                                    "AlbumTitle": "Greatest Hits",
                                    "TotalSales": "0.99"
                                },
                                {
                                    "TrackId": "3150",
                                    "TrackName": "Coração Em Desalinho",
                                    "AlbumTitle": "Ao Vivo [IMPORT]",
                                    "TotalSales": "0.99"
                                },
                                {
                                    "TrackId": "3159",
                                    "TrackName": "Camarão que Dorme e Onda Leva",
                                    "AlbumTitle": "Ao Vivo [IMPORT]",
                                    "TotalSales": "0.99"
                                },
                                {
                                    "TrackId": "3262",
                                    "TrackName": "Imagine",
                                    "AlbumTitle": "Instant Karma: The Amnesty International Campaign to Save Darfur",
                                    "TotalSales": "0.99"
                                },
                                {
                                    "TrackId": "3274",
                                    "TrackName": "God",
                                    "AlbumTitle": "Instant Karma: The Amnesty International Campaign to Save Darfur",
                                    "TotalSales": "0.99"
                                },
                                {
                                    "TrackId": "3286",
                                    "TrackName": "Iron Man/Children of the Grave",
                                    "AlbumTitle": "Speak of the Devil",
                                    "TotalSales": "0.99"
                                },
                                {
                                    "TrackId": "3292",
                                    "TrackName": "Still Loving You",
                                    "AlbumTitle": "20th Century Masters - The Millennium Collection: The Best of Scorpions",
                                    "TotalSales": "0.99"
                                },
                                {
                                    "TrackId": "3301",
                                    "TrackName": "Salutations",
                                    "AlbumTitle": "House of Pain",
                                    "TotalSales": "0.99"
                                },
                                {
                                    "TrackId": "3310",
                                    "TrackName": "Commercial 2",
                                    "AlbumTitle": "House of Pain",
                                    "TotalSales": "0.99"
                                },
                                {
                                    "TrackId": "3319",
                                    "TrackName": "Instinto Colectivo",
                                    "AlbumTitle": "Radio Brasil (O Som da Jovem Vanguarda) - Seleccao de Henrique Amaro",
                                    "TotalSales": "0.99"
                                },
                                {
                                    "TrackId": "3328",
                                    "TrackName": "Armadura",
                                    "AlbumTitle": "Radio Brasil (O Som da Jovem Vanguarda) - Seleccao de Henrique Amaro",
                                    "TotalSales": "0.99"
                                },
                                {
                                    "TrackId": "3355",
                                    "TrackName": "Love Comes",
                                    "AlbumTitle": "Every Kind of Light",
                                    "TotalSales": "0.99"
                                },
                                {
                                    "TrackId": "3373",
                                    "TrackName": "Four Walled World",
                                    "AlbumTitle": "Temple of the Dog",
                                    "TotalSales": "0.99"
                                },
                                {
                                    "TrackId": "3382",
                                    "TrackName": "Billie Jean",
                                    "AlbumTitle": "Carry On",
                                    "TotalSales": "0.99"
                                },
                                {
                                    "TrackId": "3391",
                                    "TrackName": "Sound of a Gun",
                                    "AlbumTitle": "Revelations",
                                    "TotalSales": "0.99"
                                },
                                {
                                    "TrackId": "3400",
                                    "TrackName": "Moth",
                                    "AlbumTitle": "Revelations",
                                    "TotalSales": "0.99"
                                },
                                {
                                    "TrackId": "3409",
                                    "TrackName": "Suite for Solo Cello No. 1 in G Major, BWV 1007: I. Prélude",
                                    "AlbumTitle": "Bach: The Cello Suites",
                                    "TotalSales": "0.99"
                                },
                                {
                                    "TrackId": "3418",
                                    "TrackName": "Die Walküre: The Ride of the Valkyries",
                                    "AlbumTitle": "Wagner: Favourite Overtures",
                                    "TotalSales": "0.99"
                                },
                                {
                                    "TrackId": "3433",
                                    "TrackName": "Concerto No.2 in F Major, BWV1047, I. Allegro",
                                    "AlbumTitle": "Bach: The Brandenburg Concertos",
                                    "TotalSales": "0.99"
                                },
                                {
                                    "TrackId": "3434",
                                    "TrackName": "Concerto for Piano No. 2 in F Minor, Op. 21: II. Larghetto",
                                    "AlbumTitle": "Chopin: Piano Concertos Nos. 1 & 2",
                                    "TotalSales": "0.99"
                                },
                                {
                                    "TrackId": "3436",
                                    "TrackName": "Karelia Suite, Op.11: 2. Ballade (Tempo Di Menuetto)",
                                    "AlbumTitle": "Sibelius: Finlandia",
                                    "TotalSales": "0.99"
                                },
                                {
                                    "TrackId": "3438",
                                    "TrackName": "Fantasia On Greensleeves",
                                    "AlbumTitle": "The World of Classical Favourites",
                                    "TotalSales": "0.99"
                                },
                                {
                                    "TrackId": "3440",
                                    "TrackName": "Concerto for Cello and Orchestra in E minor, Op. 85: I. Adagio - Moderato",
                                    "AlbumTitle": "Elgar: Cello Concerto & Vaughan Williams: Fantasias",
                                    "TotalSales": "0.99"
                                },
                                {
                                    "TrackId": "3442",
                                    "TrackName": "Wellington's Victory or the Battle Symphony, Op.91: 2. Symphony of Triumph",
                                    "AlbumTitle": "Tchaikovsky: 1812 Festival Overture, Op.49, Capriccio Italien & Beethoven: Wellington's Victory",
                                    "TotalSales": "0.99"
                                },
                                {
                                    "TrackId": "3444",
                                    "TrackName": "Romeo et Juliette: No. 11 - Danse des Chevaliers",
                                    "AlbumTitle": "Prokofiev: Romeo & Juliet",
                                    "TotalSales": "0.99"
                                },
                                {
                                    "TrackId": "3450",
                                    "TrackName": "Peer Gynt Suite No.1, Op.46: 1. Morning Mood",
                                    "AlbumTitle": "Grieg: Peer Gynt Suites & Sibelius: Pelléas et Mélisande",
                                    "TotalSales": "0.99"
                                },
                                {
                                    "TrackId": "3454",
                                    "TrackName": "Symphony No. 41 in C Major, K. 551, \"Jupiter\": IV. Molto allegro",
                                    "AlbumTitle": "Mozart: Symphonies Nos. 40 & 41",
                                    "TotalSales": "0.99"
                                },
                                {
                                    "TrackId": "3458",
                                    "TrackName": "Just Friends",
                                    "AlbumTitle": "Back to Black",
                                    "TotalSales": "0.99"
                                },
                                {
                                    "TrackId": "3462",
                                    "TrackName": "Wake Up Alone",
                                    "AlbumTitle": "Back to Black",
                                    "TotalSales": "0.99"
                                },
                                {
                                    "TrackId": "3466",
                                    "TrackName": "Rehab (Hot Chip Remix)",
                                    "AlbumTitle": "Back to Black",
                                    "TotalSales": "0.99"
                                },
                                {
                                    "TrackId": "3470",
                                    "TrackName": "I Heard Love Is Blind",
                                    "AlbumTitle": "Frank",
                                    "TotalSales": "0.99"
                                },
                                {
                                    "TrackId": "3476",
                                    "TrackName": "Help Yourself",
                                    "AlbumTitle": "Frank",
                                    "TotalSales": "0.99"
                                },
                                {
                                    "TrackId": "3494",
                                    "TrackName": "Symphony No. 2, Op. 16 -  \"The Four Temperaments\": II. Allegro Comodo e Flemmatico",
                                    "AlbumTitle": "Nielsen: The Six Symphonies",
                                    "TotalSales": "0.99"
                                },
                                {
                                    "TrackId": "3",
                                    "TrackName": "Fast As a Shark",
                                    "AlbumTitle": "Restless and Wild",
                                    "TotalSales": "0.99"
                                },
                                {
                                    "TrackId": "15",
                                    "TrackName": "Go Down",
                                    "AlbumTitle": "Let There Be Rock",
                                    "TotalSales": "0.99"
                                },
                                {
                                    "TrackId": "21",
                                    "TrackName": "Hell Ain't A Bad Place To Be",
                                    "AlbumTitle": "Let There Be Rock",
                                    "TotalSales": "0.99"
                                },
                                {
                                    "TrackId": "30",
                                    "TrackName": "Amazing",
                                    "AlbumTitle": "Big Ones",
                                    "TotalSales": "0.99"
                                },
                                {
                                    "TrackId": "39",
                                    "TrackName": "You Oughta Know",
                                    "AlbumTitle": "Jagged Little Pill",
                                    "TotalSales": "0.99"
                                },
                                {
                                    "TrackId": "57",
                                    "TrackName": "It Ain't Like That",
                                    "AlbumTitle": "Facelift",
                                    "TotalSales": "0.99"
                                },
                                {
                                    "TrackId": "75",
                                    "TrackName": "O Boto (Bôto)",
                                    "AlbumTitle": "Warner 25 Anos",
                                    "TotalSales": "0.99"
                                },
                                {
                                    "TrackId": "93",
                                    "TrackName": "Exploder",
                                    "AlbumTitle": "Audioslave",
                                    "TotalSales": "0.99"
                                },
                                {
                                    "TrackId": "102",
                                    "TrackName": "Doesn't Remind Me",
                                    "AlbumTitle": "Out Of Exile",
                                    "TotalSales": "0.99"
                                },
                                {
                                    "TrackId": "111",
                                    "TrackName": "Money",
                                    "AlbumTitle": "BackBeat Soundtrack",
                                    "TotalSales": "0.99"
                                },
                                {
                                    "TrackId": "120",
                                    "TrackName": "Carol",
                                    "AlbumTitle": "BackBeat Soundtrack",
                                    "TotalSales": "0.99"
                                },
                                {
                                    "TrackId": "129",
                                    "TrackName": "Solo-Panhandler",
                                    "AlbumTitle": "The Best Of Billy Cobham",
                                    "TotalSales": "0.99"
                                },
                                {
                                    "TrackId": "138",
                                    "TrackName": "Bored To Tears",
                                    "AlbumTitle": "Alcohol Fueled Brewtality Live! [Disc 1]",
                                    "TotalSales": "0.99"
                                },
                                {
                                    "TrackId": "147",
                                    "TrackName": "Blood In The Wall",
                                    "AlbumTitle": "Alcohol Fueled Brewtality Live! [Disc 2]",
                                    "TotalSales": "0.99"
                                },
                                {
                                    "TrackId": "163",
                                    "TrackName": "Laguna Sunrise",
                                    "AlbumTitle": "Black Sabbath Vol. 4 (Remaster)",
                                    "TotalSales": "0.99"
                                },
                                {
                                    "TrackId": "165",
                                    "TrackName": "Under The Sun/Every Day Comes and Goes",
                                    "AlbumTitle": "Black Sabbath Vol. 4 (Remaster)",
                                    "TotalSales": "0.99"
                                },
                                {
                                    "TrackId": "167",
                                    "TrackName": "Body Count's In The House",
                                    "AlbumTitle": "Body Count",
                                    "TotalSales": "0.99"
                                },
                                {
                                    "TrackId": "169",
                                    "TrackName": "Body Count",
                                    "AlbumTitle": "Body Count",
                                    "TotalSales": "0.99"
                                },
                                {
                                    "TrackId": "173",
                                    "TrackName": "KKK Bitch",
                                    "AlbumTitle": "Body Count",
                                    "TotalSales": "0.99"
                                },
                                {
                                    "TrackId": "179",
                                    "TrackName": "Evil Dick",
                                    "AlbumTitle": "Body Count",
                                    "TotalSales": "0.99"
                                },
                                {
                                    "TrackId": "183",
                                    "TrackName": "King In Crimson",
                                    "AlbumTitle": "Chemical Wedding",
                                    "TotalSales": "0.99"
                                },
                                {
                                    "TrackId": "187",
                                    "TrackName": "Book Of Thel",
                                    "AlbumTitle": "Chemical Wedding",
                                    "TotalSales": "0.99"
                                },
                                {
                                    "TrackId": "191",
                                    "TrackName": "Machine Men",
                                    "AlbumTitle": "Chemical Wedding",
                                    "TotalSales": "0.99"
                                },
                                {
                                    "TrackId": "195",
                                    "TrackName": "Let Me Love You Baby",
                                    "AlbumTitle": "The Best Of Buddy Guy - The Millenium Collection",
                                    "TotalSales": "0.99"
                                },
                                {
                                    "TrackId": "199",
                                    "TrackName": "Leave My Girl Alone",
                                    "AlbumTitle": "The Best Of Buddy Guy - The Millenium Collection",
                                    "TotalSales": "0.99"
                                },
                                {
                                    "TrackId": "205",
                                    "TrackName": "Jorge Da Capadócia",
                                    "AlbumTitle": "Prenda Minha",
                                    "TotalSales": "0.99"
                                },
                                {
                                    "TrackId": "223",
                                    "TrackName": "Sozinho (Hitmakers Classic Mix)",
                                    "AlbumTitle": "Sozinho Remix Ao Vivo",
                                    "TotalSales": "0.99"
                                },
                                {
                                    "TrackId": "235",
                                    "TrackName": "Apesar De Você",
                                    "AlbumTitle": "Minha Historia",
                                    "TotalSales": "0.99"
                                },
                                {
                                    "TrackId": "247",
                                    "TrackName": "O Cidadão Do Mundo",
                                    "AlbumTitle": "Afrociberdelia",
                                    "TotalSales": "0.99"
                                },
                                {
                                    "TrackId": "253",
                                    "TrackName": "Maracatu Atômico",
                                    "AlbumTitle": "Afrociberdelia",
                                    "TotalSales": "0.99"
                                },
                                {
                                    "TrackId": "262",
                                    "TrackName": "Interlude Zumbi",
                                    "AlbumTitle": "Afrociberdelia",
                                    "TotalSales": "0.99"
                                },
                                {
                                    "TrackId": "271",
                                    "TrackName": "Rios Pontes & Overdrives",
                                    "AlbumTitle": "Da Lama Ao Caos",
                                    "TotalSales": "0.99"
                                },
                                {
                                    "TrackId": "289",
                                    "TrackName": "Podes Crer",
                                    "AlbumTitle": "Acústico MTV [Live]",
                                    "TotalSales": "0.99"
                                },
                                {
                                    "TrackId": "307",
                                    "TrackName": "Doutor",
                                    "AlbumTitle": "Cidade Negra - Hits",
                                    "TotalSales": "0.99"
                                },
                                {
                                    "TrackId": "325",
                                    "TrackName": "TriboTchan",
                                    "AlbumTitle": "Axé Bahia 2001",
                                    "TotalSales": "0.99"
                                },
                                {
                                    "TrackId": "334",
                                    "TrackName": "Reggae Tchan",
                                    "AlbumTitle": "Axé Bahia 2001",
                                    "TotalSales": "0.99"
                                },
                                {
                                    "TrackId": "343",
                                    "TrackName": "Communication Breakdown(2)",
                                    "AlbumTitle": "BBC Sessions [Disc 1] [Live]",
                                    "TotalSales": "0.99"
                                },
                                {
                                    "TrackId": "352",
                                    "TrackName": "Carolina Hard-Core Ecstasy",
                                    "AlbumTitle": "Bongo Fury",
                                    "TotalSales": "0.99"
                                },
                                {
                                    "TrackId": "361",
                                    "TrackName": "X-9 2001",
                                    "AlbumTitle": "Carnaval 2001",
                                    "TotalSales": "0.99"
                                },
                                {
                                    "TrackId": "370",
                                    "TrackName": "Ipiranga 2001",
                                    "AlbumTitle": "Carnaval 2001",
                                    "TotalSales": "0.99"
                                },
                                {
                                    "TrackId": "379",
                                    "TrackName": "Água de Beber",
                                    "AlbumTitle": "Chill: Brazil (Disc 1)",
                                    "TotalSales": "0.99"
                                },
                                {
                                    "TrackId": "395",
                                    "TrackName": "Eu Vim Da Bahia - Live",
                                    "AlbumTitle": "Chill: Brazil (Disc 2)",
                                    "TotalSales": "0.99"
                                },
                                {
                                    "TrackId": "397",
                                    "TrackName": "Linha Do Horizonte",
                                    "AlbumTitle": "Chill: Brazil (Disc 2)",
                                    "TotalSales": "0.99"
                                },
                                {
                                    "TrackId": "399",
                                    "TrackName": "Abrir A Porta",
                                    "AlbumTitle": "Chill: Brazil (Disc 2)",
                                    "TotalSales": "0.99"
                                },
                                {
                                    "TrackId": "401",
                                    "TrackName": "Momentos Que Marcam",
                                    "AlbumTitle": "Chill: Brazil (Disc 2)",
                                    "TotalSales": "0.99"
                                },
                                {
                                    "TrackId": "405",
                                    "TrackName": "Santo Antonio",
                                    "AlbumTitle": "Chill: Brazil (Disc 2)",
                                    "TotalSales": "0.99"
                                },
                                {
                                    "TrackId": "411",
                                    "TrackName": "Turn The Page",
                                    "AlbumTitle": "Garage Inc. (Disc 1)",
                                    "TotalSales": "0.99"
                                },
                                {
                                    "TrackId": "415",
                                    "TrackName": "Astronomy",
                                    "AlbumTitle": "Garage Inc. (Disc 1)",
                                    "TotalSales": "0.99"
                                },
                                {
                                    "TrackId": "419",
                                    "TrackName": "A Kind Of Magic",
                                    "AlbumTitle": "Greatest Hits II",
                                    "TotalSales": "0.99"
                                },
                                {
                                    "TrackId": "423",
                                    "TrackName": "I Want To Break Free",
                                    "AlbumTitle": "Greatest Hits II",
                                    "TotalSales": "0.99"
                                },
                                {
                                    "TrackId": "427",
                                    "TrackName": "Who Wants To Live Forever",
                                    "AlbumTitle": "Greatest Hits II",
                                    "TotalSales": "0.99"
                                },
                                {
                                    "TrackId": "431",
                                    "TrackName": "The Invisible Man",
                                    "AlbumTitle": "Greatest Hits II",
                                    "TotalSales": "0.99"
                                },
                                {
                                    "TrackId": "437",
                                    "TrackName": "Black Diamond",
                                    "AlbumTitle": "Greatest Kiss",
                                    "TotalSales": "0.99"
                                },
                                {
                                    "TrackId": "455",
                                    "TrackName": "God Gave Rock 'n' Roll To You",
                                    "AlbumTitle": "Greatest Kiss",
                                    "TotalSales": "0.99"
                                },
                                {
                                    "TrackId": "467",
                                    "TrackName": "Best Thing",
                                    "AlbumTitle": "Heart of the Night",
                                    "TotalSales": "0.99"
                                },
                                {
                                    "TrackId": "479",
                                    "TrackName": "Walking Contradiction",
                                    "AlbumTitle": "International Superhits",
                                    "TotalSales": "0.99"
                                },
                                {
                                    "TrackId": "485",
                                    "TrackName": "Minority",
                                    "AlbumTitle": "International Superhits",
                                    "TotalSales": "0.99"
                                },
                                {
                                    "TrackId": "494",
                                    "TrackName": "Slave",
                                    "AlbumTitle": "Into The Light",
                                    "TotalSales": "0.99"
                                },
                                {
                                    "TrackId": "503",
                                    "TrackName": "Começaria Tudo Outra Vez",
                                    "AlbumTitle": "Meus Momentos",
                                    "TotalSales": "0.99"
                                },
                                {
                                    "TrackId": "521",
                                    "TrackName": "Menino Do Rio",
                                    "AlbumTitle": "Minha Historia",
                                    "TotalSales": "0.99"
                                },
                                {
                                    "TrackId": "539",
                                    "TrackName": "Rita Lee",
                                    "AlbumTitle": "Minha História",
                                    "TotalSales": "0.99"
                                },
                                {
                                    "TrackId": "557",
                                    "TrackName": "Beija-Flor",
                                    "AlbumTitle": "Sambas De Enredo 2001",
                                    "TotalSales": "0.99"
                                },
                                {
                                    "TrackId": "566",
                                    "TrackName": "Caprichosos",
                                    "AlbumTitle": "Sambas De Enredo 2001",
                                    "TotalSales": "0.99"
                                },
                                {
                                    "TrackId": "575",
                                    "TrackName": "Do You Like The Way",
                                    "AlbumTitle": "Supernatural",
                                    "TotalSales": "0.99"
                                },
                                {
                                    "TrackId": "584",
                                    "TrackName": "Manuel",
                                    "AlbumTitle": "The Best of Ed Motta",
                                    "TotalSales": "0.99"
                                },
                                {
                                    "TrackId": "593",
                                    "TrackName": "Do You Have Other Loves?",
                                    "AlbumTitle": "The Best of Ed Motta",
                                    "TotalSales": "0.99"
                                },
                                {
                                    "TrackId": "602",
                                    "TrackName": "'Round Midnight",
                                    "AlbumTitle": "The Essential Miles Davis [Disc 1]",
                                    "TotalSales": "0.99"
                                },
                                {
                                    "TrackId": "611",
                                    "TrackName": "E.S.P.",
                                    "AlbumTitle": "The Essential Miles Davis [Disc 2]",
                                    "TotalSales": "0.99"
                                },
                                {
                                    "TrackId": "627",
                                    "TrackName": "Let Me Off Uptown",
                                    "AlbumTitle": "Up An' Atom",
                                    "TotalSales": "0.99"
                                },
                                {
                                    "TrackId": "629",
                                    "TrackName": "Opus No.1",
                                    "AlbumTitle": "Up An' Atom",
                                    "TotalSales": "0.99"
                                },
                                {
                                    "TrackId": "631",
                                    "TrackName": "How High The Moon",
                                    "AlbumTitle": "Up An' Atom",
                                    "TotalSales": "0.99"
                                },
                                {
                                    "TrackId": "633",
                                    "TrackName": "Up An' Atom",
                                    "AlbumTitle": "Up An' Atom",
                                    "TotalSales": "0.99"
                                },
                                {
                                    "TrackId": "637",
                                    "TrackName": "Overtime",
                                    "AlbumTitle": "Up An' Atom",
                                    "TotalSales": "0.99"
                                },
                                {
                                    "TrackId": "643",
                                    "TrackName": "Jungle Drums",
                                    "AlbumTitle": "Up An' Atom",
                                    "TotalSales": "0.99"
                                },
                                {
                                    "TrackId": "647",
                                    "TrackName": "Pot-Pourri N.º 4",
                                    "AlbumTitle": "Vinícius De Moraes - Sem Limite",
                                    "TotalSales": "0.99"
                                },
                                {
                                    "TrackId": "651",
                                    "TrackName": "Pot-Pourri N.º 5",
                                    "AlbumTitle": "Vinícius De Moraes - Sem Limite",
                                    "TotalSales": "0.99"
                                },
                                {
                                    "TrackId": "655",
                                    "TrackName": "Por Que Será",
                                    "AlbumTitle": "Vinícius De Moraes - Sem Limite",
                                    "TotalSales": "0.99"
                                },
                                {
                                    "TrackId": "659",
                                    "TrackName": "Samba Em Prelúdio",
                                    "AlbumTitle": "Vinícius De Moraes - Sem Limite",
                                    "TotalSales": "0.99"
                                },
                                {
                                    "TrackId": "663",
                                    "TrackName": "Chão de Giz (Elba Ramalho)",
                                    "AlbumTitle": "Vozes do MPB",
                                    "TotalSales": "0.99"
                                },
                                {
                                    "TrackId": "669",
                                    "TrackName": "Caçador de Mim (Sá & Guarabyra)",
                                    "AlbumTitle": "Vozes do MPB",
                                    "TotalSales": "0.99"
                                },
                                {
                                    "TrackId": "687",
                                    "TrackName": "Run Through The Jungle",
                                    "AlbumTitle": "Chronicle, Vol. 1",
                                    "TotalSales": "0.99"
                                },
                                {
                                    "TrackId": "699",
                                    "TrackName": "Tombstone Shadow",
                                    "AlbumTitle": "Chronicle, Vol. 2",
                                    "TotalSales": "0.99"
                                },
                                {
                                    "TrackId": "711",
                                    "TrackName": "Molina",
                                    "AlbumTitle": "Chronicle, Vol. 2",
                                    "TotalSales": "0.99"
                                },
                                {
                                    "TrackId": "717",
                                    "TrackName": "Eu Sou Neguinha (Ao Vivo)",
                                    "AlbumTitle": "Cássia Eller - Coleção Sem Limite [Disc 2]",
                                    "TotalSales": "0.99"
                                },
                                {
                                    "TrackId": "726",
                                    "TrackName": "Palavras Ao Vento",
                                    "AlbumTitle": "Cássia Eller - Coleção Sem Limite [Disc 2]",
                                    "TotalSales": "0.99"
                                },
                                {
                                    "TrackId": "735",
                                    "TrackName": "Metrô. Linha 743",
                                    "AlbumTitle": "Cássia Eller - Sem Limite [Disc 1]",
                                    "TotalSales": "0.99"
                                },
                                {
                                    "TrackId": "753",
                                    "TrackName": "You Keep On Moving",
                                    "AlbumTitle": "Come Taste The Band",
                                    "TotalSales": "0.99"
                                },
                                {
                                    "TrackId": "771",
                                    "TrackName": "Nobody's Home",
                                    "AlbumTitle": "Knocking at Your Back Door: The Best Of Deep Purple in the 80's",
                                    "TotalSales": "0.99"
                                },
                                {
                                    "TrackId": "789",
                                    "TrackName": "Sometimes I Feel Like Screaming",
                                    "AlbumTitle": "Purpendicular",
                                    "TotalSales": "0.99"
                                },
                                {
                                    "TrackId": "798",
                                    "TrackName": "King Of Dreams",
                                    "AlbumTitle": "Slaves And Masters",
                                    "TotalSales": "0.99"
                                },
                                {
                                    "TrackId": "807",
                                    "TrackName": "Stormbringer",
                                    "AlbumTitle": "Stormbringer",
                                    "TotalSales": "0.99"
                                },
                                {
                                    "TrackId": "816",
                                    "TrackName": "The Battle Rages On",
                                    "AlbumTitle": "The Battle Rages On",
                                    "TotalSales": "0.99"
                                },
                                {
                                    "TrackId": "825",
                                    "TrackName": "One Man's Meat",
                                    "AlbumTitle": "The Battle Rages On",
                                    "TotalSales": "0.99"
                                },
                                {
                                    "TrackId": "834",
                                    "TrackName": "When Love & Hate Collide",
                                    "AlbumTitle": "Vault: Def Leppard's Greatest Hits",
                                    "TotalSales": "0.99"
                                },
                                {
                                    "TrackId": "843",
                                    "TrackName": "Otay",
                                    "AlbumTitle": "Outbreak",
                                    "TotalSales": "0.99"
                                },
                                {
                                    "TrackId": "859",
                                    "TrackName": "Se...",
                                    "AlbumTitle": "Djavan Ao Vivo - Vol. 02",
                                    "TotalSales": "0.99"
                                },
                                {
                                    "TrackId": "861",
                                    "TrackName": "Lilás",
                                    "AlbumTitle": "Djavan Ao Vivo - Vol. 02",
                                    "TotalSales": "0.99"
                                },
                                {
                                    "TrackId": "863",
                                    "TrackName": "Um Amor Puro",
                                    "AlbumTitle": "Djavan Ao Vivo - Vol. 02",
                                    "TotalSales": "0.99"
                                },
                                {
                                    "TrackId": "865",
                                    "TrackName": "Nem Um Dia",
                                    "AlbumTitle": "Djavan Ao Vivo - Vol. 1",
                                    "TotalSales": "0.99"
                                },
                                {
                                    "TrackId": "869",
                                    "TrackName": "Flor De Lis",
                                    "AlbumTitle": "Djavan Ao Vivo - Vol. 1",
                                    "TotalSales": "0.99"
                                },
                                {
                                    "TrackId": "875",
                                    "TrackName": "Acelerou",
                                    "AlbumTitle": "Djavan Ao Vivo - Vol. 1",
                                    "TotalSales": "0.99"
                                },
                                {
                                    "TrackId": "879",
                                    "TrackName": "Atrás da Porta",
                                    "AlbumTitle": "Elis Regina-Minha História",
                                    "TotalSales": "0.99"
                                },
                                {
                                    "TrackId": "883",
                                    "TrackName": "Alô, Alô, Marciano",
                                    "AlbumTitle": "Elis Regina-Minha História",
                                    "TotalSales": "0.99"
                                },
                                {
                                    "TrackId": "887",
                                    "TrackName": "As Aparências Enganam",
                                    "AlbumTitle": "Elis Regina-Minha História",
                                    "TotalSales": "0.99"
                                },
                                {
                                    "TrackId": "891",
                                    "TrackName": "Layla",
                                    "AlbumTitle": "The Cream Of Clapton",
                                    "TotalSales": "0.99"
                                },
                                {
                                    "TrackId": "895",
                                    "TrackName": "Crossroads",
                                    "AlbumTitle": "The Cream Of Clapton",
                                    "TotalSales": "0.99"
                                },
                                {
                                    "TrackId": "901",
                                    "TrackName": "After Midnight",
                                    "AlbumTitle": "The Cream Of Clapton",
                                    "TotalSales": "0.99"
                                },
                                {
                                    "TrackId": "919",
                                    "TrackName": "San Francisco Bay Blues",
                                    "AlbumTitle": "Unplugged",
                                    "TotalSales": "0.99"
                                },
                                {
                                    "TrackId": "931",
                                    "TrackName": "Got That Feeling",
                                    "AlbumTitle": "Album Of The Year",
                                    "TotalSales": "0.99"
                                },
                                {
                                    "TrackId": "943",
                                    "TrackName": "Be Aggressive",
                                    "AlbumTitle": "Angel Dust",
                                    "TotalSales": "0.99"
                                },
                                {
                                    "TrackId": "949",
                                    "TrackName": "Get Out",
                                    "AlbumTitle": "King For A Day Fool For A Lifetime",
                                    "TotalSales": "0.99"
                                },
                                {
                                    "TrackId": "958",
                                    "TrackName": "Take This Bottle",
                                    "AlbumTitle": "King For A Day Fool For A Lifetime",
                                    "TotalSales": "0.99"
                                },
                                {
                                    "TrackId": "967",
                                    "TrackName": "Surprise! You're Dead!",
                                    "AlbumTitle": "The Real Thing",
                                    "TotalSales": "0.99"
                                },
                                {
                                    "TrackId": "985",
                                    "TrackName": "Medo De Escuro",
                                    "AlbumTitle": "Deixa Entrar",
                                    "TotalSales": "0.99"
                                },
                                {
                                    "TrackId": "1003",
                                    "TrackName": "Friend Of A Friend",
                                    "AlbumTitle": "In Your Honor [Disc 2]",
                                    "TotalSales": "0.99"
                                },
                                {
                                    "TrackId": "1021",
                                    "TrackName": "Monkey Wrench",
                                    "AlbumTitle": "The Colour And The Shape",
                                    "TotalSales": "0.99"
                                },
                                {
                                    "TrackId": "1030",
                                    "TrackName": "Everlong",
                                    "AlbumTitle": "The Colour And The Shape",
                                    "TotalSales": "0.99"
                                },
                                {
                                    "TrackId": "1039",
                                    "TrackName": "What Now My Love",
                                    "AlbumTitle": "My Way: The Best Of Frank Sinatra [Disc 1]",
                                    "TotalSales": "0.99"
                                },
                                {
                                    "TrackId": "1048",
                                    "TrackName": "It Was A Very Good Year",
                                    "AlbumTitle": "My Way: The Best Of Frank Sinatra [Disc 1]",
                                    "TotalSales": "0.99"
                                },
                                {
                                    "TrackId": "1057",
                                    "TrackName": "Entrando Na Sua (Intro)",
                                    "AlbumTitle": "Roda De Funk",
                                    "TotalSales": "0.99"
                                },
                                {
                                    "TrackId": "1066",
                                    "TrackName": "Dujji",
                                    "AlbumTitle": "Roda De Funk",
                                    "TotalSales": "0.99"
                                },
                                {
                                    "TrackId": "1075",
                                    "TrackName": "Esperando Na Janela",
                                    "AlbumTitle": "As Canções de Eu Tu Eles",
                                    "TotalSales": "0.99"
                                },
                                {
                                    "TrackId": "1091",
                                    "TrackName": "Refavela (Live)",
                                    "AlbumTitle": "Quanta Gente Veio Ver (Live)",
                                    "TotalSales": "0.99"
                                },
                                {
                                    "TrackId": "1093",
                                    "TrackName": "Quanta (Live)",
                                    "AlbumTitle": "Quanta Gente Veio Ver (Live)",
                                    "TotalSales": "0.99"
                                },
                                {
                                    "TrackId": "1095",
                                    "TrackName": "Pela Internet (Live)",
                                    "AlbumTitle": "Quanta Gente Veio Ver (Live)",
                                    "TotalSales": "0.99"
                                },
                                {
                                    "TrackId": "1097",
                                    "TrackName": "Opachorô (Live)",
                                    "AlbumTitle": "Quanta Gente Veio Ver (Live)",
                                    "TotalSales": "0.99"
                                },
                                {
                                    "TrackId": "1101",
                                    "TrackName": "De Ouro E Marfim (Live)",
                                    "AlbumTitle": "Quanta Gente Veio Ver (Live)",
                                    "TotalSales": "0.99"
                                },
                                {
                                    "TrackId": "1107",
                                    "TrackName": "Refazenda",
                                    "AlbumTitle": "Unplugged",
                                    "TotalSales": "0.99"
                                },
                                {
                                    "TrackId": "1111",
                                    "TrackName": "A Paz",
                                    "AlbumTitle": "Unplugged",
                                    "TotalSales": "0.99"
                                },
                                {
                                    "TrackId": "1115",
                                    "TrackName": "Tempo Rei",
                                    "AlbumTitle": "Unplugged",
                                    "TotalSales": "0.99"
                                },
                                {
                                    "TrackId": "1119",
                                    "TrackName": "Toda Menina Baiana",
                                    "AlbumTitle": "Unplugged",
                                    "TotalSales": "0.99"
                                },
                                {
                                    "TrackId": "1123",
                                    "TrackName": "Changes",
                                    "AlbumTitle": "Faceless",
                                    "TotalSales": "0.99"
                                },
                                {
                                    "TrackId": "1127",
                                    "TrackName": "I Fucking Hate You",
                                    "AlbumTitle": "Faceless",
                                    "TotalSales": "0.99"
                                },
                                {
                                    "TrackId": "1133",
                                    "TrackName": "American Idiot",
                                    "AlbumTitle": "American Idiot",
                                    "TotalSales": "0.99"
                                },
                                {
                                    "TrackId": "1151",
                                    "TrackName": "Paradise City",
                                    "AlbumTitle": "Appetite for Destruction",
                                    "TotalSales": "0.99"
                                },
                                {
                                    "TrackId": "1163",
                                    "TrackName": "You Ain't the First",
                                    "AlbumTitle": "Use Your Illusion I",
                                    "TotalSales": "0.99"
                                },
                                {
                                    "TrackId": "1175",
                                    "TrackName": "14 Years",
                                    "AlbumTitle": "Use Your Illusion II",
                                    "TotalSales": "0.99"
                                },
                                {
                                    "TrackId": "1181",
                                    "TrackName": "Pretty Tied Up",
                                    "AlbumTitle": "Use Your Illusion II",
                                    "TotalSales": "0.99"
                                },
                                {
                                    "TrackId": "1190",
                                    "TrackName": "Magnetic Ocean",
                                    "AlbumTitle": "Blue Moods",
                                    "TotalSales": "0.99"
                                },
                                {
                                    "TrackId": "1199",
                                    "TrackName": "She Wears Black",
                                    "AlbumTitle": "Blue Moods",
                                    "TotalSales": "0.99"
                                },
                                {
                                    "TrackId": "1217",
                                    "TrackName": "Where Eagles Dare",
                                    "AlbumTitle": "A Real Dead One",
                                    "TotalSales": "0.99"
                                },
                                {
                                    "TrackId": "1235",
                                    "TrackName": "The Wicker Man",
                                    "AlbumTitle": "Brave New World",
                                    "TotalSales": "0.99"
                                },
                                {
                                    "TrackId": "1253",
                                    "TrackName": "Face In The Sand",
                                    "AlbumTitle": "Dance Of Death",
                                    "TotalSales": "0.99"
                                },
                                {
                                    "TrackId": "1262",
                                    "TrackName": "The Fugitive",
                                    "AlbumTitle": "Fear Of The Dark",
                                    "TotalSales": "0.99"
                                },
                                {
                                    "TrackId": "1271",
                                    "TrackName": "04 - Running Free",
                                    "AlbumTitle": "Iron Maiden",
                                    "TotalSales": "0.99"
                                },
                                {
                                    "TrackId": "1280",
                                    "TrackName": "Another Life",
                                    "AlbumTitle": "Killers",
                                    "TotalSales": "0.99"
                                },
                                {
                                    "TrackId": "1289",
                                    "TrackName": "2 Minutes To Midnight",
                                    "AlbumTitle": "Live After Death",
                                    "TotalSales": "0.99"
                                },
                                {
                                    "TrackId": "1298",
                                    "TrackName": "Run To The Hills",
                                    "AlbumTitle": "Live After Death",
                                    "TotalSales": "0.99"
                                },
                                {
                                    "TrackId": "1307",
                                    "TrackName": "Wrathchild",
                                    "AlbumTitle": "Live At Donington 1992 (Disc 1)",
                                    "TotalSales": "0.99"
                                },
                                {
                                    "TrackId": "1323",
                                    "TrackName": "Sanctuary",
                                    "AlbumTitle": "Live At Donington 1992 (Disc 2)",
                                    "TotalSales": "0.99"
                                },
                                {
                                    "TrackId": "1325",
                                    "TrackName": "Tailgunner",
                                    "AlbumTitle": "No Prayer For The Dying",
                                    "TotalSales": "0.99"
                                },
                                {
                                    "TrackId": "1327",
                                    "TrackName": "No Prayer For The Dying",
                                    "AlbumTitle": "No Prayer For The Dying",
                                    "TotalSales": "0.99"
                                },
                                {
                                    "TrackId": "1329",
                                    "TrackName": "Fates Warning",
                                    "AlbumTitle": "No Prayer For The Dying",
                                    "TotalSales": "0.99"
                                },
                                {
                                    "TrackId": "1333",
                                    "TrackName": "Bring Your Daughter... ...To The Slaughter",
                                    "AlbumTitle": "No Prayer For The Dying",
                                    "TotalSales": "0.99"
                                },
                                {
                                    "TrackId": "1339",
                                    "TrackName": "The Trooper",
                                    "AlbumTitle": "Piece Of Mind",
                                    "TotalSales": "0.99"
                                },
                                {
                                    "TrackId": "1343",
                                    "TrackName": "To Tame A Land",
                                    "AlbumTitle": "Piece Of Mind",
                                    "TotalSales": "0.99"
                                },
                                {
                                    "TrackId": "1347",
                                    "TrackName": "Flash of The Blade",
                                    "AlbumTitle": "Powerslave",
                                    "TotalSales": "0.99"
                                },
                                {
                                    "TrackId": "1351",
                                    "TrackName": "Rime of the Ancient Mariner",
                                    "AlbumTitle": "Powerslave",
                                    "TotalSales": "0.99"
                                },
                                {
                                    "TrackId": "1355",
                                    "TrackName": "Brave New World",
                                    "AlbumTitle": "Rock In Rio [CD1]",
                                    "TotalSales": "0.99"
                                },
                                {
                                    "TrackId": "1359",
                                    "TrackName": "Sign Of The Cross",
                                    "AlbumTitle": "Rock In Rio [CD1]",
                                    "TotalSales": "0.99"
                                },
                                {
                                    "TrackId": "1365",
                                    "TrackName": "Fear Of The Dark",
                                    "AlbumTitle": "Rock In Rio [CD2]",
                                    "TotalSales": "0.99"
                                },
                                {
                                    "TrackId": "1383",
                                    "TrackName": "Stranger in a Strange Land",
                                    "AlbumTitle": "Somewhere in Time",
                                    "TotalSales": "0.99"
                                },
                                {
                                    "TrackId": "1395",
                                    "TrackName": "Sign Of The Cross",
                                    "AlbumTitle": "The X Factor",
                                    "TotalSales": "0.99"
                                },
                                {
                                    "TrackId": "1407",
                                    "TrackName": "The Angel And The Gambler",
                                    "AlbumTitle": "Virtual XI",
                                    "TotalSales": "0.99"
                                },
                                {
                                    "TrackId": "1413",
                                    "TrackName": "Como Estais Amigos",
                                    "AlbumTitle": "Virtual XI",
                                    "TotalSales": "0.99"
                                },
                                {
                                    "TrackId": "1422",
                                    "TrackName": "Say It Loud, I'm Black And I'm Proud Pt.1",
                                    "AlbumTitle": "Sex Machine",
                                    "TotalSales": "0.99"
                                },
                                {
                                    "TrackId": "1431",
                                    "TrackName": "I'm Real",
                                    "AlbumTitle": "Sex Machine",
                                    "TotalSales": "0.99"
                                },
                                {
                                    "TrackId": "1449",
                                    "TrackName": "Destitute Illusions",
                                    "AlbumTitle": "Synkronized",
                                    "TotalSales": "0.99"
                                },
                                {
                                    "TrackId": "1467",
                                    "TrackName": "Are You Gonna Be My Girl",
                                    "AlbumTitle": "Get Born",
                                    "TotalSales": "0.99"
                                },
                                {
                                    "TrackId": "1485",
                                    "TrackName": "May This Be Love",
                                    "AlbumTitle": "Are You Experienced?",
                                    "TotalSales": "0.99"
                                },
                                {
                                    "TrackId": "1494",
                                    "TrackName": "The Wind Cries Mary",
                                    "AlbumTitle": "Are You Experienced?",
                                    "TotalSales": "0.99"
                                },
                                {
                                    "TrackId": "1503",
                                    "TrackName": "Lords of Karma",
                                    "AlbumTitle": "Surfing with the Alien (Remastered)",
                                    "TotalSales": "0.99"
                                },
                                {
                                    "TrackId": "1512",
                                    "TrackName": "Os Alquimistas Estão Chegando",
                                    "AlbumTitle": "Jorge Ben Jor 25 Anos",
                                    "TotalSales": "0.99"
                                },
                                {
                                    "TrackId": "1521",
                                    "TrackName": "As Dores do Mundo",
                                    "AlbumTitle": "Jota Quest-1995",
                                    "TotalSales": "0.99"
                                },
                                {
                                    "TrackId": "1530",
                                    "TrackName": "Sem Sentido",
                                    "AlbumTitle": "Jota Quest-1995",
                                    "TotalSales": "0.99"
                                },
                                {
                                    "TrackId": "1539",
                                    "TrackName": "Equinocio",
                                    "AlbumTitle": "Cafezinho",
                                    "TotalSales": "0.99"
                                },
                                {
                                    "TrackId": "1555",
                                    "TrackName": "Freewheel Burning",
                                    "AlbumTitle": "Living After Midnight",
                                    "TotalSales": "0.99"
                                },
                                {
                                    "TrackId": "1557",
                                    "TrackName": "Metal Meltdown",
                                    "AlbumTitle": "Living After Midnight",
                                    "TotalSales": "0.99"
                                },
                                {
                                    "TrackId": "1559",
                                    "TrackName": "Diamonds And Rust (Live)",
                                    "AlbumTitle": "Living After Midnight",
                                    "TotalSales": "0.99"
                                },
                                {
                                    "TrackId": "1561",
                                    "TrackName": "Tyrant (Live)",
                                    "AlbumTitle": "Living After Midnight",
                                    "TotalSales": "0.99"
                                },
                                {
                                    "TrackId": "1565",
                                    "TrackName": "Do You Love Me",
                                    "AlbumTitle": "Unplugged [Live]",
                                    "TotalSales": "0.99"
                                },
                                {
                                    "TrackId": "1571",
                                    "TrackName": "I Still Love You",
                                    "AlbumTitle": "Unplugged [Live]",
                                    "TotalSales": "0.99"
                                },
                                {
                                    "TrackId": "1575",
                                    "TrackName": "Nothin' To Lose",
                                    "AlbumTitle": "Unplugged [Live]",
                                    "TotalSales": "0.99"
                                },
                                {
                                    "TrackId": "1579",
                                    "TrackName": "Since I've Been Loving You",
                                    "AlbumTitle": "BBC Sessions [Disc 2] [Live]",
                                    "TotalSales": "0.99"
                                },
                                {
                                    "TrackId": "1583",
                                    "TrackName": "Going To California",
                                    "AlbumTitle": "BBC Sessions [Disc 2] [Live]",
                                    "TotalSales": "0.99"
                                },
                                {
                                    "TrackId": "1587",
                                    "TrackName": "We're Gonna Groove",
                                    "AlbumTitle": "Coda",
                                    "TotalSales": "0.99"
                                },
                                {
                                    "TrackId": "1591",
                                    "TrackName": "Ozone Baby",
                                    "AlbumTitle": "Coda",
                                    "TotalSales": "0.99"
                                },
                                {
                                    "TrackId": "1597",
                                    "TrackName": "Over The Hills And Far Away",
                                    "AlbumTitle": "Houses Of The Holy",
                                    "TotalSales": "0.99"
                                },
                                {
                                    "TrackId": "1615",
                                    "TrackName": "Four Sticks",
                                    "AlbumTitle": "IV",
                                    "TotalSales": "0.99"
                                },
                                {
                                    "TrackId": "1627",
                                    "TrackName": "Whole Lotta Love",
                                    "AlbumTitle": "Led Zeppelin II",
                                    "TotalSales": "0.99"
                                },
                                {
                                    "TrackId": "1639",
                                    "TrackName": "Since I've Been Loving You",
                                    "AlbumTitle": "Led Zeppelin III",
                                    "TotalSales": "0.99"
                                },
                                {
                                    "TrackId": "1645",
                                    "TrackName": "Hats Off To (Roy) Harper",
                                    "AlbumTitle": "Led Zeppelin III",
                                    "TotalSales": "0.99"
                                },
                                {
                                    "TrackId": "1654",
                                    "TrackName": "Sick Again",
                                    "AlbumTitle": "Physical Graffiti [Disc 2]",
                                    "TotalSales": "0.99"
                                },
                                {
                                    "TrackId": "1663",
                                    "TrackName": "Celebration Day",
                                    "AlbumTitle": "The Song Remains The Same (Disc 1)",
                                    "TotalSales": "0.99"
                                },
                                {
                                    "TrackId": "1681",
                                    "TrackName": "Leila",
                                    "AlbumTitle": "A TempestadeTempestade Ou O Livro Dos Dias",
                                    "TotalSales": "0.99"
                                },
                                {
                                    "TrackId": "1699",
                                    "TrackName": "Giz",
                                    "AlbumTitle": "Mais Do Mesmo",
                                    "TotalSales": "0.99"
                                },
                                {
                                    "TrackId": "1717",
                                    "TrackName": "Assim Caminha A Humanidade",
                                    "AlbumTitle": "Lulu Santos - RCA 100 Anos De Música - Álbum 01",
                                    "TotalSales": "0.99"
                                },
                                {
                                    "TrackId": "1726",
                                    "TrackName": "Satisfação",
                                    "AlbumTitle": "Lulu Santos - RCA 100 Anos De Música - Álbum 01",
                                    "TotalSales": "0.99"
                                },
                                {
                                    "TrackId": "1735",
                                    "TrackName": "Ro-Que-Se-Da-Ne",
                                    "AlbumTitle": "Lulu Santos - RCA 100 Anos De Música - Álbum 02",
                                    "TotalSales": "0.99"
                                },
                                {
                                    "TrackId": "1744",
                                    "TrackName": "O Último Romântico (Ao Vivo)",
                                    "AlbumTitle": "Lulu Santos - RCA 100 Anos De Música - Álbum 02",
                                    "TotalSales": "0.99"
                                },
                                {
                                    "TrackId": "1753",
                                    "TrackName": "Childhoods End?",
                                    "AlbumTitle": "Misplaced Childhood",
                                    "TotalSales": "0.99"
                                },
                                {
                                    "TrackId": "1762",
                                    "TrackName": "Panis Et Circenses",
                                    "AlbumTitle": "Barulhinho Bom",
                                    "TotalSales": "0.99"
                                },
                                {
                                    "TrackId": "1771",
                                    "TrackName": "Segue O Seco",
                                    "AlbumTitle": "Barulhinho Bom",
                                    "TotalSales": "0.99"
                                },
                                {
                                    "TrackId": "1787",
                                    "TrackName": "You Sure Love To Ball",
                                    "AlbumTitle": "Seek And Shall Find: More Of The Best (1963-1981)",
                                    "TotalSales": "0.99"
                                },
                                {
                                    "TrackId": "1789",
                                    "TrackName": "Praise",
                                    "AlbumTitle": "Seek And Shall Find: More Of The Best (1963-1981)",
                                    "TotalSales": "0.99"
                                },
                                {
                                    "TrackId": "1791",
                                    "TrackName": "Down Under",
                                    "AlbumTitle": "The Best Of Men At Work",
                                    "TotalSales": "0.99"
                                },
                                {
                                    "TrackId": "1793",
                                    "TrackName": "Be Good Johnny",
                                    "AlbumTitle": "The Best Of Men At Work",
                                    "TotalSales": "0.99"
                                },
                                {
                                    "TrackId": "1797",
                                    "TrackName": "It's a Mistake",
                                    "AlbumTitle": "The Best Of Men At Work",
                                    "TotalSales": "0.99"
                                },
                                {
                                    "TrackId": "1803",
                                    "TrackName": "Holier Than Thou",
                                    "AlbumTitle": "Black Album",
                                    "TotalSales": "0.99"
                                },
                                {
                                    "TrackId": "1807",
                                    "TrackName": "Through The Never",
                                    "AlbumTitle": "Black Album",
                                    "TotalSales": "0.99"
                                },
                                {
                                    "TrackId": "1811",
                                    "TrackName": "My Friend Of Misery",
                                    "AlbumTitle": "Black Album",
                                    "TotalSales": "0.99"
                                },
                                {
                                    "TrackId": "1815",
                                    "TrackName": "The Wait",
                                    "AlbumTitle": "Garage Inc. (Disc 2)",
                                    "TotalSales": "0.99"
                                },
                                {
                                    "TrackId": "1819",
                                    "TrackName": "Blitzkrieg",
                                    "AlbumTitle": "Garage Inc. (Disc 2)",
                                    "TotalSales": "0.99"
                                },
                                {
                                    "TrackId": "1823",
                                    "TrackName": "So What",
                                    "AlbumTitle": "Garage Inc. (Disc 2)",
                                    "TotalSales": "0.99"
                                },
                                {
                                    "TrackId": "1829",
                                    "TrackName": "Hit The Lights",
                                    "AlbumTitle": "Kill 'Em All",
                                    "TotalSales": "0.99"
                                },
                                {
                                    "TrackId": "1847",
                                    "TrackName": "Poor Twisted Me",
                                    "AlbumTitle": "Load",
                                    "TotalSales": "0.99"
                                },
                                {
                                    "TrackId": "1859",
                                    "TrackName": "Orion",
                                    "AlbumTitle": "Master Of Puppets",
                                    "TotalSales": "0.99"
                                },
                                {
                                    "TrackId": "1871",
                                    "TrackName": "Low Man's Lyric",
                                    "AlbumTitle": "ReLoad",
                                    "TotalSales": "0.99"
                                },
                                {
                                    "TrackId": "1877",
                                    "TrackName": "Fade To Black",
                                    "AlbumTitle": "Ride The Lightning",
                                    "TotalSales": "0.99"
                                },
                                {
                                    "TrackId": "1886",
                                    "TrackName": "Invisible Kid",
                                    "AlbumTitle": "St. Anger",
                                    "TotalSales": "0.99"
                                },
                                {
                                    "TrackId": "1895",
                                    "TrackName": "Eye Of The Beholder",
                                    "AlbumTitle": "...And Justice For All",
                                    "TotalSales": "0.99"
                                },
                                {
                                    "TrackId": "1913",
                                    "TrackName": "Blues For Pablo (Alternate Take)",
                                    "AlbumTitle": "Miles Ahead",
                                    "TotalSales": "0.99"
                                },
                                {
                                    "TrackId": "1931",
                                    "TrackName": "Beijo Partido",
                                    "AlbumTitle": "Minas",
                                    "TotalSales": "0.99"
                                },
                                {
                                    "TrackId": "1949",
                                    "TrackName": "Jailbait",
                                    "AlbumTitle": "Ace Of Spades",
                                    "TotalSales": "0.99"
                                },
                                {
                                    "TrackId": "1958",
                                    "TrackName": "O Que Vai Em Meu Coração",
                                    "AlbumTitle": "Demorou...",
                                    "TotalSales": "0.99"
                                },
                                {
                                    "TrackId": "1967",
                                    "TrackName": "A Moça e a Chuva",
                                    "AlbumTitle": "Demorou...",
                                    "TotalSales": "0.99"
                                },
                                {
                                    "TrackId": "1976",
                                    "TrackName": "Same Ol' Situation",
                                    "AlbumTitle": "Motley Crue Greatest Hits",
                                    "TotalSales": "0.99"
                                },
                                {
                                    "TrackId": "1985",
                                    "TrackName": "Shout At The Devil",
                                    "AlbumTitle": "Motley Crue Greatest Hits",
                                    "TotalSales": "0.99"
                                },
                                {
                                    "TrackId": "1994",
                                    "TrackName": "Spank Thru",
                                    "AlbumTitle": "From The Muddy Banks Of The Wishkah [Live]",
                                    "TotalSales": "0.99"
                                },
                                {
                                    "TrackId": "2003",
                                    "TrackName": "Smells Like Teen Spirit",
                                    "AlbumTitle": "Nevermind",
                                    "TotalSales": "0.99"
                                },
                                {
                                    "TrackId": "2019",
                                    "TrackName": "Poeira",
                                    "AlbumTitle": "Compositores",
                                    "TotalSales": "0.99"
                                },
                                {
                                    "TrackId": "2021",
                                    "TrackName": "Quem Mata A Mulher Mata O Melhor",
                                    "AlbumTitle": "Compositores",
                                    "TotalSales": "0.99"
                                },
                                {
                                    "TrackId": "2023",
                                    "TrackName": "O Braço Da Minha Guitarra",
                                    "AlbumTitle": "Compositores",
                                    "TotalSales": "0.99"
                                },
                                {
                                    "TrackId": "2025",
                                    "TrackName": "Mãe Terra",
                                    "AlbumTitle": "Compositores",
                                    "TotalSales": "0.99"
                                },
                                {
                                    "TrackId": "2029",
                                    "TrackName": "Elza",
                                    "AlbumTitle": "Compositores",
                                    "TotalSales": "0.99"
                                },
                                {
                                    "TrackId": "2035",
                                    "TrackName": "Todo Amor (Asas Da Liberdade)",
                                    "AlbumTitle": "Olodum",
                                    "TotalSales": "0.99"
                                },
                                {
                                    "TrackId": "2039",
                                    "TrackName": "Jeito Faceiro",
                                    "AlbumTitle": "Olodum",
                                    "TotalSales": "0.99"
                                },
                                {
                                    "TrackId": "2043",
                                    "TrackName": "Olodum - Smile (Instrumental)",
                                    "AlbumTitle": "Olodum",
                                    "TotalSales": "0.99"
                                },
                                {
                                    "TrackId": "2047",
                                    "TrackName": "Um Amor, Um Lugar",
                                    "AlbumTitle": "Acústico MTV",
                                    "TotalSales": "0.99"
                                },
                                {
                                    "TrackId": "2051",
                                    "TrackName": "Uns Dias",
                                    "AlbumTitle": "Acústico MTV",
                                    "TotalSales": "0.99"
                                },
                                {
                                    "TrackId": "2055",
                                    "TrackName": "Brasília 5:31",
                                    "AlbumTitle": "Acústico MTV",
                                    "TotalSales": "0.99"
                                },
                                {
                                    "TrackId": "2061",
                                    "TrackName": "Vamo Batê Lata",
                                    "AlbumTitle": "Acústico MTV",
                                    "TotalSales": "0.99"
                                },
                                {
                                    "TrackId": "2079",
                                    "TrackName": "Cinema Mudo",
                                    "AlbumTitle": "Arquivo Os Paralamas Do Sucesso",
                                    "TotalSales": "0.99"
                                },
                                {
                                    "TrackId": "2091",
                                    "TrackName": "Será Que Vai Chover?",
                                    "AlbumTitle": "Arquivo Os Paralamas Do Sucesso",
                                    "TotalSales": "0.99"
                                },
                                {
                                    "TrackId": "2103",
                                    "TrackName": "Flying High Again",
                                    "AlbumTitle": "Tribute",
                                    "TotalSales": "0.99"
                                },
                                {
                                    "TrackId": "2109",
                                    "TrackName": "Paranoid",
                                    "AlbumTitle": "Tribute",
                                    "TotalSales": "0.99"
                                },
                                {
                                    "TrackId": "2118",
                                    "TrackName": "Most High",
                                    "AlbumTitle": "Walking Into Clarksdale",
                                    "TotalSales": "0.99"
                                },
                                {
                                    "TrackId": "2127",
                                    "TrackName": "Your Blue Room",
                                    "AlbumTitle": "Original Soundtracks 1",
                                    "TotalSales": "0.99"
                                },
                                {
                                    "TrackId": "2145",
                                    "TrackName": "Sanctuary",
                                    "AlbumTitle": "The Beast Live",
                                    "TotalSales": "0.99"
                                },
                                {
                                    "TrackId": "2163",
                                    "TrackName": "Black",
                                    "AlbumTitle": "Live On Two Legs [Live]",
                                    "TotalSales": "0.99"
                                },
                                {
                                    "TrackId": "2181",
                                    "TrackName": "Cropduster",
                                    "AlbumTitle": "Riot Act",
                                    "TotalSales": "0.99"
                                },
                                {
                                    "TrackId": "2190",
                                    "TrackName": "1/2 Full",
                                    "AlbumTitle": "Riot Act",
                                    "TotalSales": "0.99"
                                },
                                {
                                    "TrackId": "2199",
                                    "TrackName": "Oceans",
                                    "AlbumTitle": "Ten",
                                    "TotalSales": "0.99"
                                },
                                {
                                    "TrackId": "2208",
                                    "TrackName": "Dissident",
                                    "AlbumTitle": "Vs.",
                                    "TotalSales": "0.99"
                                },
                                {
                                    "TrackId": "2217",
                                    "TrackName": "Don't Look Back",
                                    "AlbumTitle": "Greatest Hits",
                                    "TotalSales": "0.99"
                                },
                                {
                                    "TrackId": "2226",
                                    "TrackName": "Pick Myself Up",
                                    "AlbumTitle": "Greatest Hits",
                                    "TotalSales": "0.99"
                                },
                                {
                                    "TrackId": "2235",
                                    "TrackName": "Any Colour You Like",
                                    "AlbumTitle": "Dark Side Of The Moon",
                                    "TotalSales": "0.99"
                                },
                                {
                                    "TrackId": "2251",
                                    "TrackName": "Hemp Family",
                                    "AlbumTitle": "Os Cães Ladram Mas A Caravana Não Pára",
                                    "TotalSales": "0.99"
                                },
                                {
                                    "TrackId": "2253",
                                    "TrackName": "Se Liga",
                                    "AlbumTitle": "Os Cães Ladram Mas A Caravana Não Pára",
                                    "TotalSales": "0.99"
                                },
                                {
                                    "TrackId": "2255",
                                    "TrackName": "Another One Bites The Dust",
                                    "AlbumTitle": "Greatest Hits I",
                                    "TotalSales": "0.99"
                                },
                                {
                                    "TrackId": "2257",
                                    "TrackName": "Fat Bottomed Girls",
                                    "AlbumTitle": "Greatest Hits I",
                                    "TotalSales": "0.99"
                                },
                                {
                                    "TrackId": "2261",
                                    "TrackName": "Save Me",
                                    "AlbumTitle": "Greatest Hits I",
                                    "TotalSales": "0.99"
                                },
                                {
                                    "TrackId": "2267",
                                    "TrackName": "Flash",
                                    "AlbumTitle": "Greatest Hits I",
                                    "TotalSales": "0.99"
                                },
                                {
                                    "TrackId": "2271",
                                    "TrackName": "We Will Rock You",
                                    "AlbumTitle": "News Of The World",
                                    "TotalSales": "0.99"
                                },
                                {
                                    "TrackId": "2275",
                                    "TrackName": "Spread Your Wings",
                                    "AlbumTitle": "News Of The World",
                                    "TotalSales": "0.99"
                                },
                                {
                                    "TrackId": "2279",
                                    "TrackName": "Who Needs You",
                                    "AlbumTitle": "News Of The World",
                                    "TotalSales": "0.99"
                                },
                                {
                                    "TrackId": "2283",
                                    "TrackName": "Me In Honey",
                                    "AlbumTitle": "Out Of Time",
                                    "TotalSales": "0.99"
                                },
                                {
                                    "TrackId": "2287",
                                    "TrackName": "You Are The Everything",
                                    "AlbumTitle": "Green",
                                    "TotalSales": "0.99"
                                },
                                {
                                    "TrackId": "2293",
                                    "TrackName": "Hairshirt",
                                    "AlbumTitle": "Green",
                                    "TotalSales": "0.99"
                                },
                                {
                                    "TrackId": "2311",
                                    "TrackName": "Low",
                                    "AlbumTitle": "Out Of Time",
                                    "TotalSales": "0.99"
                                },
                                {
                                    "TrackId": "2323",
                                    "TrackName": "Don't Go Back To Rockville",
                                    "AlbumTitle": "The Best Of R.E.M.: The IRS Years",
                                    "TotalSales": "0.99"
                                },
                                {
                                    "TrackId": "2335",
                                    "TrackName": "A Sua",
                                    "AlbumTitle": "Cesta Básica",
                                    "TotalSales": "0.99"
                                },
                                {
                                    "TrackId": "2341",
                                    "TrackName": "Bê-a-Bá",
                                    "AlbumTitle": "Cesta Básica",
                                    "TotalSales": "0.99"
                                },
                                {
                                    "TrackId": "2350",
                                    "TrackName": "Sapato 36",
                                    "AlbumTitle": "Raul Seixas",
                                    "TotalSales": "0.99"
                                },
                                {
                                    "TrackId": "2359",
                                    "TrackName": "If You Have To Ask",
                                    "AlbumTitle": "Blood Sugar Sex Magik",
                                    "TotalSales": "0.99"
                                },
                                {
                                    "TrackId": "2377",
                                    "TrackName": "This Is The Place",
                                    "AlbumTitle": "By The Way",
                                    "TotalSales": "0.99"
                                },
                                {
                                    "TrackId": "2395",
                                    "TrackName": "Get On Top",
                                    "AlbumTitle": "Californication",
                                    "TotalSales": "0.99"
                                },
                                {
                                    "TrackId": "2413",
                                    "TrackName": "Anthem",
                                    "AlbumTitle": "Retrospective I (1974-1980)",
                                    "TotalSales": "0.99"
                                },
                                {
                                    "TrackId": "2422",
                                    "TrackName": "La Puesta Del Sol",
                                    "AlbumTitle": "Santana - As Years Go By",
                                    "TotalSales": "0.99"
                                },
                                {
                                    "TrackId": "2431",
                                    "TrackName": "Just Ain't Good Enough",
                                    "AlbumTitle": "Santana Live",
                                    "TotalSales": "0.99"
                                },
                                {
                                    "TrackId": "2440",
                                    "TrackName": "If You Don't Know Me By Now",
                                    "AlbumTitle": "Greatest Hits",
                                    "TotalSales": "0.99"
                                },
                                {
                                    "TrackId": "2449",
                                    "TrackName": "Água E Fogo",
                                    "AlbumTitle": "Maquinarama",
                                    "TotalSales": "0.99"
                                },
                                {
                                    "TrackId": "2458",
                                    "TrackName": "Fica",
                                    "AlbumTitle": "Maquinarama",
                                    "TotalSales": "0.99"
                                },
                                {
                                    "TrackId": "2467",
                                    "TrackName": "Os Exilados",
                                    "AlbumTitle": "O Samba Poconé",
                                    "TotalSales": "0.99"
                                },
                                {
                                    "TrackId": "2483",
                                    "TrackName": "Rock On",
                                    "AlbumTitle": "Judas 0: B-Sides and Rarities",
                                    "TotalSales": "0.99"
                                },
                                {
                                    "TrackId": "2485",
                                    "TrackName": "Winterlong",
                                    "AlbumTitle": "Judas 0: B-Sides and Rarities",
                                    "TotalSales": "0.99"
                                },
                                {
                                    "TrackId": "2487",
                                    "TrackName": "Blissed & Gone",
                                    "AlbumTitle": "Judas 0: B-Sides and Rarities",
                                    "TotalSales": "0.99"
                                },
                                {
                                    "TrackId": "2489",
                                    "TrackName": "Rhinocerous",
                                    "AlbumTitle": "Rotten Apples: Greatest Hits",
                                    "TotalSales": "0.99"
                                },
                                {
                                    "TrackId": "2493",
                                    "TrackName": "Disarm",
                                    "AlbumTitle": "Rotten Apples: Greatest Hits",
                                    "TotalSales": "0.99"
                                },
                                {
                                    "TrackId": "2499",
                                    "TrackName": "Eye",
                                    "AlbumTitle": "Rotten Apples: Greatest Hits",
                                    "TotalSales": "0.99"
                                },
                                {
                                    "TrackId": "2503",
                                    "TrackName": "Stand Inside Your Love",
                                    "AlbumTitle": "Rotten Apples: Greatest Hits",
                                    "TotalSales": "0.99"
                                },
                                {
                                    "TrackId": "2507",
                                    "TrackName": "Flower",
                                    "AlbumTitle": "A-Sides",
                                    "TotalSales": "0.99"
                                },
                                {
                                    "TrackId": "2511",
                                    "TrackName": "Jesus Christ Pose",
                                    "AlbumTitle": "A-Sides",
                                    "TotalSales": "0.99"
                                },
                                {
                                    "TrackId": "2515",
                                    "TrackName": "The Day I Tried To Live",
                                    "AlbumTitle": "A-Sides",
                                    "TotalSales": "0.99"
                                },
                                {
                                    "TrackId": "2519",
                                    "TrackName": "Burden In My Hand",
                                    "AlbumTitle": "A-Sides",
                                    "TotalSales": "0.99"
                                },
                                {
                                    "TrackId": "2525",
                                    "TrackName": "Rasul",
                                    "AlbumTitle": "Morning Dance",
                                    "TotalSales": "0.99"
                                },
                                {
                                    "TrackId": "2543",
                                    "TrackName": "Sex Type Thing",
                                    "AlbumTitle": "Core",
                                    "TotalSales": "0.99"
                                },
                                {
                                    "TrackId": "2555",
                                    "TrackName": "B.Y.O.B.",
                                    "AlbumTitle": "Mezmerize",
                                    "TotalSales": "0.99"
                                },
                                {
                                    "TrackId": "2567",
                                    "TrackName": "Duende",
                                    "AlbumTitle": "[1997] Black Light Syndrome",
                                    "TotalSales": "0.99"
                                },
                                {
                                    "TrackId": "2573",
                                    "TrackName": "Sting Me",
                                    "AlbumTitle": "Live [Disc 1]",
                                    "TotalSales": "0.99"
                                },
                                {
                                    "TrackId": "2582",
                                    "TrackName": "Black Moon Creeping",
                                    "AlbumTitle": "Live [Disc 2]",
                                    "TotalSales": "0.99"
                                },
                                {
                                    "TrackId": "2591",
                                    "TrackName": "White Riot",
                                    "AlbumTitle": "The Singles",
                                    "TotalSales": "0.99"
                                },
                                {
                                    "TrackId": "2609",
                                    "TrackName": "War (The Process)",
                                    "AlbumTitle": "Beyond Good And Evil",
                                    "TotalSales": "0.99"
                                },
                                {
                                    "TrackId": "2627",
                                    "TrackName": "Wild Hearted Son",
                                    "AlbumTitle": "Pure Cult: The Best Of The Cult (For Rockers, Ravers, Lovers & Sinners) [UK]",
                                    "TotalSales": "0.99"
                                },
                                {
                                    "TrackId": "2645",
                                    "TrackName": "Back Door Man",
                                    "AlbumTitle": "The Doors",
                                    "TotalSales": "0.99"
                                },
                                {
                                    "TrackId": "2654",
                                    "TrackName": "Don't Stand so Close to Me",
                                    "AlbumTitle": "The Police Greatest Hits",
                                    "TotalSales": "0.99"
                                },
                                {
                                    "TrackId": "2663",
                                    "TrackName": "Message in a Bottle (new classic rock mix)",
                                    "AlbumTitle": "The Police Greatest Hits",
                                    "TotalSales": "0.99"
                                },
                                {
                                    "TrackId": "2672",
                                    "TrackName": "Paint It Black",
                                    "AlbumTitle": "Hot Rocks, 1964-1971 (Disc 1)",
                                    "TotalSales": "0.99"
                                },
                                {
                                    "TrackId": "2681",
                                    "TrackName": "Corinna",
                                    "AlbumTitle": "No Security",
                                    "TotalSales": "0.99"
                                },
                                {
                                    "TrackId": "2690",
                                    "TrackName": "Love Is Strong",
                                    "AlbumTitle": "Voodoo Lounge",
                                    "TotalSales": "0.99"
                                },
                                {
                                    "TrackId": "2699",
                                    "TrackName": "Sweethearts Together",
                                    "AlbumTitle": "Voodoo Lounge",
                                    "TotalSales": "0.99"
                                },
                                {
                                    "TrackId": "2715",
                                    "TrackName": "The River (Remix)",
                                    "AlbumTitle": "Tangents",
                                    "TotalSales": "0.99"
                                },
                                {
                                    "TrackId": "2717",
                                    "TrackName": "Waiting On A Sign",
                                    "AlbumTitle": "Tangents",
                                    "TotalSales": "0.99"
                                },
                                {
                                    "TrackId": "2719",
                                    "TrackName": "Paint It Black",
                                    "AlbumTitle": "Tangents",
                                    "TotalSales": "0.99"
                                },
                                {
                                    "TrackId": "2721",
                                    "TrackName": "Army Ants",
                                    "AlbumTitle": "Transmission",
                                    "TotalSales": "0.99"
                                },
                                {
                                    "TrackId": "2725",
                                    "TrackName": "Release",
                                    "AlbumTitle": "Transmission",
                                    "TotalSales": "0.99"
                                },
                                {
                                    "TrackId": "2731",
                                    "TrackName": "I Can't Explain",
                                    "AlbumTitle": "My Generation - The Very Best Of The Who",
                                    "TotalSales": "0.99"
                                },
                                {
                                    "TrackId": "2735",
                                    "TrackName": "I'm A Boy",
                                    "AlbumTitle": "My Generation - The Very Best Of The Who",
                                    "TotalSales": "0.99"
                                },
                                {
                                    "TrackId": "2739",
                                    "TrackName": "I Can See For Miles",
                                    "AlbumTitle": "My Generation - The Very Best Of The Who",
                                    "TotalSales": "0.99"
                                },
                                {
                                    "TrackId": "2743",
                                    "TrackName": "Baba O'Riley",
                                    "AlbumTitle": "My Generation - The Very Best Of The Who",
                                    "TotalSales": "0.99"
                                },
                                {
                                    "TrackId": "2747",
                                    "TrackName": "Join Together",
                                    "AlbumTitle": "My Generation - The Very Best Of The Who",
                                    "TotalSales": "0.99"
                                },
                                {
                                    "TrackId": "2751",
                                    "TrackName": "Primavera",
                                    "AlbumTitle": "Serie Sem Limite (Disc 1)",
                                    "TotalSales": "0.99"
                                },
                                {
                                    "TrackId": "2757",
                                    "TrackName": "New Love",
                                    "AlbumTitle": "Serie Sem Limite (Disc 1)",
                                    "TotalSales": "0.99"
                                },
                                {
                                    "TrackId": "2775",
                                    "TrackName": "Canário Do Reino",
                                    "AlbumTitle": "Serie Sem Limite (Disc 2)",
                                    "TotalSales": "0.99"
                                },
                                {
                                    "TrackId": "2787",
                                    "TrackName": "Marvin",
                                    "AlbumTitle": "Acústico",
                                    "TotalSales": "0.99"
                                },
                                {
                                    "TrackId": "2799",
                                    "TrackName": "Polícia (Vinheta)",
                                    "AlbumTitle": "Acústico",
                                    "TotalSales": "0.99"
                                },
                                {
                                    "TrackId": "2805",
                                    "TrackName": "Sua Impossivel Chance",
                                    "AlbumTitle": "Volume Dois",
                                    "TotalSales": "0.99"
                                },
                                {
                                    "TrackId": "2814",
                                    "TrackName": "Insensível",
                                    "AlbumTitle": "Volume Dois",
                                    "TotalSales": "0.99"
                                },
                                {
                                    "TrackId": "2931",
                                    "TrackName": "So Cruel",
                                    "AlbumTitle": "Achtung Baby",
                                    "TotalSales": "0.99"
                                },
                                {
                                    "TrackId": "2947",
                                    "TrackName": "New York",
                                    "AlbumTitle": "All That You Can't Leave Behind",
                                    "TotalSales": "0.99"
                                },
                                {
                                    "TrackId": "2949",
                                    "TrackName": "The Three Sunrises",
                                    "AlbumTitle": "B-Sides 1980-1990",
                                    "TotalSales": "0.99"
                                },
                                {
                                    "TrackId": "2951",
                                    "TrackName": "Sweetest Thing",
                                    "AlbumTitle": "B-Sides 1980-1990",
                                    "TotalSales": "0.99"
                                },
                                {
                                    "TrackId": "2953",
                                    "TrackName": "Bass Trap",
                                    "AlbumTitle": "B-Sides 1980-1990",
                                    "TotalSales": "0.99"
                                },
                                {
                                    "TrackId": "2957",
                                    "TrackName": "Walk To The Water",
                                    "AlbumTitle": "B-Sides 1980-1990",
                                    "TotalSales": "0.99"
                                },
                                {
                                    "TrackId": "2963",
                                    "TrackName": "Trash, Trampoline And The Party Girl",
                                    "AlbumTitle": "B-Sides 1980-1990",
                                    "TotalSales": "0.99"
                                },
                                {
                                    "TrackId": "2967",
                                    "TrackName": "Love And Peace Or Else",
                                    "AlbumTitle": "How To Dismantle An Atomic Bomb",
                                    "TotalSales": "0.99"
                                },
                                {
                                    "TrackId": "2971",
                                    "TrackName": "Crumbs From Your Table",
                                    "AlbumTitle": "How To Dismantle An Atomic Bomb",
                                    "TotalSales": "0.99"
                                },
                                {
                                    "TrackId": "2975",
                                    "TrackName": "Discotheque",
                                    "AlbumTitle": "Pop",
                                    "TotalSales": "0.99"
                                },
                                {
                                    "TrackId": "2979",
                                    "TrackName": "Staring At The Sun",
                                    "AlbumTitle": "Pop",
                                    "TotalSales": "0.99"
                                },
                                {
                                    "TrackId": "2983",
                                    "TrackName": "The Playboy Mansion",
                                    "AlbumTitle": "Pop",
                                    "TotalSales": "0.99"
                                },
                                {
                                    "TrackId": "2989",
                                    "TrackName": "Desire",
                                    "AlbumTitle": "Rattle And Hum",
                                    "TotalSales": "0.99"
                                },
                                {
                                    "TrackId": "3007",
                                    "TrackName": "I Still Haven't Found What I'm Looking For",
                                    "AlbumTitle": "The Best Of 1980-1990",
                                    "TotalSales": "0.99"
                                },
                                {
                                    "TrackId": "3019",
                                    "TrackName": "Seconds",
                                    "AlbumTitle": "War",
                                    "TotalSales": "0.99"
                                },
                                {
                                    "TrackId": "3031",
                                    "TrackName": "Lemon",
                                    "AlbumTitle": "Zooropa",
                                    "TotalSales": "0.99"
                                },
                                {
                                    "TrackId": "3037",
                                    "TrackName": "The Wanderer",
                                    "AlbumTitle": "Zooropa",
                                    "TotalSales": "0.99"
                                },
                                {
                                    "TrackId": "3046",
                                    "TrackName": "Higher Ground",
                                    "AlbumTitle": "UB40 The Best Of - Volume Two [UK]",
                                    "TotalSales": "0.99"
                                },
                                {
                                    "TrackId": "3055",
                                    "TrackName": "Secrets",
                                    "AlbumTitle": "Diver Down",
                                    "TotalSales": "0.99"
                                },
                                {
                                    "TrackId": "3073",
                                    "TrackName": "Dreams",
                                    "AlbumTitle": "The Best Of Van Halen, Vol. I",
                                    "TotalSales": "0.99"
                                },
                                {
                                    "TrackId": "3091",
                                    "TrackName": "On Fire",
                                    "AlbumTitle": "Van Halen",
                                    "TotalSales": "0.99"
                                },
                                {
                                    "TrackId": "3109",
                                    "TrackName": "Fall To Pieces",
                                    "AlbumTitle": "Contraband",
                                    "TotalSales": "0.99"
                                },
                                {
                                    "TrackId": "3118",
                                    "TrackName": "A Bencao E Outros",
                                    "AlbumTitle": "Vinicius De Moraes",
                                    "TotalSales": "0.99"
                                },
                                {
                                    "TrackId": "3127",
                                    "TrackName": "Um Homem Chamado Alfredo",
                                    "AlbumTitle": "Vinicius De Moraes",
                                    "TotalSales": "0.99"
                                },
                                {
                                    "TrackId": "3136",
                                    "TrackName": "Looking For Love",
                                    "AlbumTitle": "Greatest Hits",
                                    "TotalSales": "0.99"
                                },
                                {
                                    "TrackId": "3145",
                                    "TrackName": "Sweet Lady Luck",
                                    "AlbumTitle": "Greatest Hits",
                                    "TotalSales": "0.99"
                                },
                                {
                                    "TrackId": "3154",
                                    "TrackName": "Feirinha da Pavuna/Luz do Repente/Bagaço da Laranja",
                                    "AlbumTitle": "Ao Vivo [IMPORT]",
                                    "TotalSales": "0.99"
                                },
                                {
                                    "TrackId": "3163",
                                    "TrackName": "Samba pras moças",
                                    "AlbumTitle": "Ao Vivo [IMPORT]",
                                    "TotalSales": "0.99"
                                }
                            ]
                        },
                        "text/html": [
                            "<table>",
                            "<tr><th>TrackId</th><th>TrackName</th><th>AlbumTitle</th><th>TotalSales</th></tr>",
                            "<tr><td>2832</td><td>The Woman King</td><td>Battlestar Galactica, Season 3</td><td>3.98</td></tr>",
                            "<tr><td>2850</td><td>The Fix</td><td>Heroes, Season 1</td><td>3.98</td></tr>",
                            "<tr><td>2868</td><td>Walkabout</td><td>Lost, Season 1</td><td>3.98</td></tr>",
                            "<tr><td>3214</td><td>Phyllis&#39;s Wedding</td><td>The Office, Season 3</td><td>3.98</td></tr>",
                            "<tr><td>3223</td><td>How to Stop an Exploding Man</td><td>Heroes, Season 1</td><td>3.98</td></tr>",
                            "<tr><td>3250</td><td>Pilot</td><td>Aquaman</td><td>3.98</td></tr>",
                            "<tr><td>3200</td><td>Gay Witch Hunt</td><td>The Office, Season 3</td><td>3.98</td></tr>",
                            "<tr><td>3177</td><td>Hot Girl</td><td>The Office, Season 1</td><td>3.98</td></tr>",
                            "<tr><td>2820</td><td>Occupation / Precipice</td><td>Battlestar Galactica, Season 3</td><td>1.99</td></tr>",
                            "<tr><td>2826</td><td>Hero</td><td>Battlestar Galactica, Season 3</td><td>1.99</td></tr>",
                            "<tr><td>2838</td><td>Crossroads, Pt. 2</td><td>Battlestar Galactica, Season 3</td><td>1.99</td></tr>",
                            "<tr><td>2844</td><td>Better Halves</td><td>Heroes, Season 1</td><td>1.99</td></tr>",
                            "<tr><td>2856</td><td>Parasite</td><td>Heroes, Season 1</td><td>1.99</td></tr>",
                            "<tr><td>2862</td><td>The Glass Ballerina</td><td>Lost, Season 3</td><td>1.99</td></tr>",
                            "<tr><td>2874</td><td>I Do</td><td>Lost, Season 3</td><td>1.99</td></tr>",
                            "<tr><td>2883</td><td>Solitary</td><td>Lost, Season 1</td><td>1.99</td></tr>",
                            "<tr><td>2892</td><td>Fire + Water</td><td>Lost, Season 2</td><td>1.99</td></tr>",
                            "<tr><td>2901</td><td>Homecoming</td><td>Lost, Season 1</td><td>1.99</td></tr>",
                            "<tr><td>2910</td><td>Dave</td><td>Lost, Season 2</td><td>1.99</td></tr>",
                            "<tr><td>2919</td><td>Born to Run</td><td>Lost, Season 1</td><td>1.99</td></tr>",
                            "<tr><td>3169</td><td>The Man Behind the Curtain</td><td>Lost, Season 3</td><td>1.99</td></tr>",
                            "<tr><td>3178</td><td>The Dundies</td><td>The Office, Season 2</td><td>1.99</td></tr>",
                            "<tr><td>3187</td><td>Christmas Party</td><td>The Office, Season 2</td><td>1.99</td></tr>",
                            "<tr><td>3196</td><td>Michael&#39;s Birthday</td><td>The Office, Season 2</td><td>1.99</td></tr>",
                            "<tr><td>3205</td><td>Diwali</td><td>The Office, Season 3</td><td>1.99</td></tr>",
                            "<tr><td>3232</td><td>The Long Patrol</td><td>Battlestar Galactica (Classic), Season 1</td><td>1.99</td></tr>",
                            "<tr><td>3246</td><td>Baltar&#39;s Escape</td><td>Battlestar Galactica (Classic), Season 1</td><td>1.99</td></tr>",
                            "<tr><td>3247</td><td>Experiment In Terra</td><td>Battlestar Galactica (Classic), Season 1</td><td>1.99</td></tr>",
                            "<tr><td>3248</td><td>Take the Celestra</td><td>Battlestar Galactica (Classic), Season 1</td><td>1.99</td></tr>",
                            "<tr><td>3252</td><td>Through the Looking Glass, Pt. 1</td><td>Lost, Season 3</td><td>1.99</td></tr>",
                            "<tr><td>3338</td><td>The Beginning of the End</td><td>LOST, Season 4</td><td>1.99</td></tr>",
                            "<tr><td>3347</td><td>Meet Kevin Johnson</td><td>LOST, Season 4</td><td>1.99</td></tr>",
                            "<tr><td>3428</td><td>Branch Closing</td><td>The Office, Season 3</td><td>1.99</td></tr>",
                            "<tr><td>2821</td><td>Exodus, Pt. 1</td><td>Battlestar Galactica, Season 3</td><td>1.99</td></tr>",
                            "<tr><td>2827</td><td>Unfinished Business</td><td>Battlestar Galactica, Season 3</td><td>1.99</td></tr>",
                            "<tr><td>2833</td><td>A Day In the Life</td><td>Battlestar Galactica, Season 3</td><td>1.99</td></tr>",
                            "<tr><td>2839</td><td>Genesis</td><td>Heroes, Season 1</td><td>1.99</td></tr>",
                            "<tr><td>2845</td><td>Nothing to Hide</td><td>Heroes, Season 1</td><td>1.99</td></tr>",
                            "<tr><td>2851</td><td>Distractions</td><td>Heroes, Season 1</td><td>1.99</td></tr>",
                            "<tr><td>2860</td><td>Adrift</td><td>Lost, Season 2</td><td>1.99</td></tr>",
                            "<tr><td>2869</td><td>...And Found</td><td>Lost, Season 2</td><td>1.99</td></tr>",
                            "<tr><td>2878</td><td>The Other 48 Days</td><td>Lost, Season 2</td><td>1.99</td></tr>",
                            "<tr><td>2887</td><td>The 23rd Psalm</td><td>Lost, Season 2</td><td>1.99</td></tr>",
                            "<tr><td>2896</td><td>The Long Con</td><td>Lost, Season 2</td><td>1.99</td></tr>",
                            "<tr><td>2905</td><td>The Whole Truth</td><td>Lost, Season 2</td><td>1.99</td></tr>",
                            "<tr><td>2914</td><td>S.O.S.</td><td>Lost, Season 2</td><td>1.99</td></tr>",
                            "<tr><td>2923</td><td>Exodus (Part 2) [Season Finale]</td><td>Lost, Season 1</td><td>1.99</td></tr>",
                            "<tr><td>3173</td><td>Diversity Day</td><td>The Office, Season 1</td><td>1.99</td></tr>",
                            "<tr><td>3182</td><td>Halloween</td><td>The Office, Season 2</td><td>1.99</td></tr>",
                            "<tr><td>3191</td><td>The Carpet</td><td>The Office, Season 2</td><td>1.99</td></tr>",
                            "<tr><td>3209</td><td>A Benihana Christmas, Pts. 1 &amp; 2</td><td>The Office, Season 3</td><td>1.99</td></tr>",
                            "<tr><td>3224</td><td>Through a Looking Glass</td><td>Lost, Season 3</td><td>1.99</td></tr>",
                            "<tr><td>3227</td><td>Battlestar Galactica, Pt. 2</td><td>Battlestar Galactica (Classic), Season 1</td><td>1.99</td></tr>",
                            "<tr><td>3229</td><td>Lost Planet of the Gods, Pt. 1</td><td>Battlestar Galactica (Classic), Season 1</td><td>1.99</td></tr>",
                            "<tr><td>3231</td><td>The Lost Warrior</td><td>Battlestar Galactica (Classic), Season 1</td><td>1.99</td></tr>",
                            "<tr><td>3233</td><td>The Gun On Ice Planet Zero, Pt. 1</td><td>Battlestar Galactica (Classic), Season 1</td><td>1.99</td></tr>",
                            "<tr><td>3235</td><td>The Magnificent Warriors</td><td>Battlestar Galactica (Classic), Season 1</td><td>1.99</td></tr>",
                            "<tr><td>3237</td><td>The Living Legend, Pt. 1</td><td>Battlestar Galactica (Classic), Season 1</td><td>1.99</td></tr>",
                            "<tr><td>3241</td><td>War of the Gods, Pt. 2</td><td>Battlestar Galactica (Classic), Season 1</td><td>1.99</td></tr>",
                            "<tr><td>3245</td><td>Greetings from Earth, Pt. 2</td><td>Battlestar Galactica (Classic), Season 1</td><td>1.99</td></tr>",
                            "<tr><td>3249</td><td>The Hand of God</td><td>Battlestar Galactica (Classic), Season 1</td><td>1.99</td></tr>",
                            "<tr><td>3342</td><td>The Economist</td><td>LOST, Season 4</td><td>1.99</td></tr>",
                            "<tr><td>3360</td><td>Something Nice Back Home</td><td>LOST, Season 4</td><td>1.99</td></tr>",
                            "<tr><td>2822</td><td>Exodus, Pt. 2</td><td>Battlestar Galactica, Season 3</td><td>1.99</td></tr>",
                            "<tr><td>2828</td><td>The Passage</td><td>Battlestar Galactica, Season 3</td><td>1.99</td></tr>",
                            "<tr><td>2837</td><td>Crossroads, Pt. 1</td><td>Battlestar Galactica, Season 3</td><td>1.99</td></tr>",
                            "<tr><td>2846</td><td>Seven Minutes to Midnight</td><td>Heroes, Season 1</td><td>1.99</td></tr>",
                            "<tr><td>2855</td><td>Company Man</td><td>Heroes, Season 1</td><td>1.99</td></tr>",
                            "<tr><td>2864</td><td>Orientation</td><td>Lost, Season 2</td><td>1.99</td></tr>",
                            "<tr><td>2873</td><td>House of the Rising Sun</td><td>Lost, Season 1</td><td>1.99</td></tr>",
                            "<tr><td>2882</td><td>Lost Survival Guide</td><td>Lost, Season 3</td><td>1.99</td></tr>",
                            "<tr><td>2891</td><td>Enter 77</td><td>Lost, Season 3</td><td>1.99</td></tr>",
                            "<tr><td>2900</td><td>Exposé</td><td>Lost, Season 3</td><td>1.99</td></tr>",
                            "<tr><td>2909</td><td>Catch-22</td><td>Lost, Season 3</td><td>1.99</td></tr>",
                            "<tr><td>2918</td><td>&quot;?&quot;</td><td>Lost, Season 2</td><td>1.99</td></tr>",
                            "<tr><td>3168</td><td>The Hard Part</td><td>Heroes, Season 1</td><td>1.99</td></tr>",
                            "<tr><td>3186</td><td>Email Surveillance</td><td>The Office, Season 2</td><td>1.99</td></tr>",
                            "<tr><td>3201</td><td>The Convention</td><td>The Office, Season 3</td><td>1.99</td></tr>",
                            "<tr><td>3202</td><td>The Coup</td><td>The Office, Season 3</td><td>1.99</td></tr>",
                            "<tr><td>3204</td><td>The Initiation</td><td>The Office, Season 3</td><td>1.99</td></tr>",
                            "<tr><td>3206</td><td>Branch Closing</td><td>The Office, Season 3</td><td>1.99</td></tr>",
                            "<tr><td>3208</td><td>The Convict</td><td>The Office, Season 3</td><td>1.99</td></tr>",
                            "<tr><td>3210</td><td>Back from Vacation</td><td>The Office, Season 3</td><td>1.99</td></tr>",
                            "<tr><td>3212</td><td>Producer&#39;s Cut: The Return</td><td>The Office, Season 3</td><td>1.99</td></tr>",
                            "<tr><td>3218</td><td>Safety Training</td><td>The Office, Season 3</td><td>1.99</td></tr>",
                            "<tr><td>3222</td><td>The Job</td><td>The Office, Season 3</td><td>1.99</td></tr>",
                            "<tr><td>3226</td><td>Battlestar Galactica, Pt. 1</td><td>Battlestar Galactica (Classic), Season 1</td><td>1.99</td></tr>",
                            "<tr><td>3230</td><td>Lost Planet of the Gods, Pt. 2</td><td>Battlestar Galactica (Classic), Season 1</td><td>1.99</td></tr>",
                            "<tr><td>3234</td><td>The Gun On Ice Planet Zero, Pt. 2</td><td>Battlestar Galactica (Classic), Season 1</td><td>1.99</td></tr>",
                            "<tr><td>3238</td><td>The Living Legend, Pt. 2</td><td>Battlestar Galactica (Classic), Season 1</td><td>1.99</td></tr>",
                            "<tr><td>3244</td><td>Greetings from Earth, Pt. 1</td><td>Battlestar Galactica (Classic), Season 1</td><td>1.99</td></tr>",
                            "<tr><td>3337</td><td>Past, Present, and Future</td><td>LOST, Season 4</td><td>1.99</td></tr>",
                            "<tr><td>3346</td><td>Ji Yeon</td><td>LOST, Season 4</td><td>1.99</td></tr>",
                            "<tr><td>3364</td><td>There&#39;s No Place Like Home, Pt. 3</td><td>LOST, Season 4</td><td>1.99</td></tr>",
                            "<tr><td>2823</td><td>Collaborators</td><td>Battlestar Galactica, Season 3</td><td>1.99</td></tr>",
                            "<tr><td>2841</td><td>One Giant Leap</td><td>Heroes, Season 1</td><td>1.99</td></tr>",
                            "<tr><td>2859</td><td>Man of Science, Man of Faith (Premiere)</td><td>Lost, Season 2</td><td>1.99</td></tr>",
                            "<tr><td>2877</td><td>The Moth</td><td>Lost, Season 1</td><td>1.99</td></tr>",
                            "<tr><td>2886</td><td>Stranger In a Strange Land</td><td>Lost, Season 3</td><td>1.99</td></tr>",
                            "<tr><td>2895</td><td>Par Avion</td><td>Lost, Season 3</td><td>1.99</td></tr>",
                            "<tr><td>2904</td><td>Outlaws</td><td>Lost, Season 1</td><td>1.99</td></tr>",
                            "<tr><td>2913</td><td>Deus Ex Machina</td><td>Lost, Season 1</td><td>1.99</td></tr>",
                            "<tr><td>2922</td><td>Live Together, Die Alone, Pt. 1</td><td>Lost, Season 2</td><td>1.99</td></tr>",
                            "<tr><td>2</td><td>Balls to the Wall</td><td>Balls to the Wall</td><td>1.98</td></tr>",
                            "<tr><td>8</td><td>Inject The Venom</td><td>For Those About To Rock We Salute You</td><td>1.98</td></tr>",
                            "<tr><td>20</td><td>Overdose</td><td>Let There Be Rock</td><td>1.98</td></tr>",
                            "<tr><td>32</td><td>Deuces Are Wild</td><td>Big Ones</td><td>1.98</td></tr>",
                            "<tr><td>48</td><td>Not The Doctor</td><td>Jagged Little Pill</td><td>1.98</td></tr>",
                            "<tr><td>66</td><td>Por Causa De Você</td><td>Warner 25 Anos</td><td>1.98</td></tr>",
                            "<tr><td>84</td><td>Welcome Home (Sanitarium)</td><td>Plays Metallica By Four Cellos</td><td>1.98</td></tr>",
                            "<tr><td>162</td><td>Cornucopia</td><td>Black Sabbath Vol. 4 (Remaster)</td><td>1.98</td></tr>",
                            "<tr><td>171</td><td>Bowels Of The Devil</td><td>Body Count</td><td>1.98</td></tr>",
                            "<tr><td>198</td><td>When My Left Eye Jumps</td><td>The Best Of Buddy Guy - The Millenium Collection</td><td>1.98</td></tr>",
                            "<tr><td>207</td><td>Meditação</td><td>Prenda Minha</td><td>1.98</td></tr>",
                            "<tr><td>234</td><td>Morena De Angola</td><td>Minha Historia</td><td>1.98</td></tr>",
                            "<tr><td>240</td><td>Meu Caro Amigo</td><td>Minha Historia</td><td>1.98</td></tr>",
                            "<tr><td>252</td><td>Samba Do Lado</td><td>Afrociberdelia</td><td>1.98</td></tr>",
                            "<tr><td>264</td><td>Amor De Muito</td><td>Afrociberdelia</td><td>1.98</td></tr>",
                            "<tr><td>280</td><td>Lixo Do Mangue</td><td>Da Lama Ao Caos</td><td>1.98</td></tr>",
                            "<tr><td>298</td><td>A Cor Do Sol</td><td>Acústico MTV [Live]</td><td>1.98</td></tr>",
                            "<tr><td>316</td><td>Linha Do Equador</td><td>Na Pista</td><td>1.98</td></tr>",
                            "<tr><td>394</td><td>Tanto Tempo</td><td>Chill: Brazil (Disc 2)</td><td>1.98</td></tr>",
                            "<tr><td>403</td><td>Bumbo Da Mangueira</td><td>Chill: Brazil (Disc 2)</td><td>1.98</td></tr>",
                            "<tr><td>430</td><td>I&#39;m Going Slightly Mad</td><td>Greatest Hits II</td><td>1.98</td></tr>",
                            "<tr><td>439</td><td>Sure Know Something</td><td>Greatest Kiss</td><td>1.98</td></tr>",
                            "<tr><td>466</td><td>J Squared</td><td>Heart of the Night</td><td>1.98</td></tr>",
                            "<tr><td>472</td><td>Basket Case</td><td>International Superhits</td><td>1.98</td></tr>",
                            "<tr><td>484</td><td>Nice Guys Finish Last</td><td>International Superhits</td><td>1.98</td></tr>",
                            "<tr><td>496</td><td>Living On Love</td><td>Into The Light</td><td>1.98</td></tr>",
                            "<tr><td>512</td><td>Comportamento Geral</td><td>Meus Momentos</td><td>1.98</td></tr>",
                            "<tr><td>530</td><td>Ando Meio Desligado</td><td>Minha História</td><td>1.98</td></tr>",
                            "<tr><td>548</td><td>Smoke On The Water</td><td>MK III The Final Concerts [Disc 1]</td><td>1.98</td></tr>",
                            "<tr><td>626</td><td>Drum Boogie</td><td>Up An&#39; Atom</td><td>1.98</td></tr>",
                            "<tr><td>635</td><td>Lemon Drop</td><td>Up An&#39; Atom</td><td>1.98</td></tr>",
                            "<tr><td>662</td><td>Pela Luz dos Olhos Teus (Miúcha e Tom Jobim)</td><td>Vozes do MPB</td><td>1.98</td></tr>",
                            "<tr><td>671</td><td>As Rosas Não Falam (Beth Carvalho)</td><td>Vozes do MPB</td><td>1.98</td></tr>",
                            "<tr><td>698</td><td>Good Golly Miss Molly</td><td>Chronicle, Vol. 2</td><td>1.98</td></tr>",
                            "<tr><td>704</td><td>Don&#39;t Look Now</td><td>Chronicle, Vol. 2</td><td>1.98</td></tr>",
                            "<tr><td>716</td><td>Brasil</td><td>Cássia Eller - Coleção Sem Limite [Disc 2]</td><td>1.98</td></tr>",
                            "<tr><td>728</td><td>Woman Of The World (Ao Vivo)</td><td>Cássia Eller - Coleção Sem Limite [Disc 2]</td><td>1.98</td></tr>",
                            "<tr><td>744</td><td>Mis Penas Lloraba Yo (Ao Vivo) Soy Gitano (Tangos)</td><td>Cássia Eller - Sem Limite [Disc 1]</td><td>1.98</td></tr>",
                            "<tr><td>762</td><td>No No No</td><td>Fireball</td><td>1.98</td></tr>",
                            "<tr><td>780</td><td>Maybe I&#39;m A Leo</td><td>Machine Head</td><td>1.98</td></tr>",
                            "<tr><td>858</td><td>Esquinas</td><td>Djavan Ao Vivo - Vol. 02</td><td>1.98</td></tr>",
                            "<tr><td>867</td><td>Açai</td><td>Djavan Ao Vivo - Vol. 1</td><td>1.98</td></tr>",
                            "<tr><td>894</td><td>Sunshine Of Your Love</td><td>The Cream Of Clapton</td><td>1.98</td></tr>",
                            "<tr><td>903</td><td>Lay Down Sally</td><td>The Cream Of Clapton</td><td>1.98</td></tr>",
                            "<tr><td>930</td><td>She Loves Me Not</td><td>Album Of The Year</td><td>1.98</td></tr>",
                            "<tr><td>936</td><td>Caffeine</td><td>Angel Dust</td><td>1.98</td></tr>",
                            "<tr><td>948</td><td>Easy</td><td>Angel Dust</td><td>1.98</td></tr>",
                            "<tr><td>960</td><td>What A Day</td><td>King For A Day Fool For A Lifetime</td><td>1.98</td></tr>",
                            "<tr><td>976</td><td>Falamansa Song</td><td>Deixa Entrar</td><td>1.98</td></tr>",
                            "<tr><td>994</td><td>The Last Song</td><td>In Your Honor [Disc 1]</td><td>1.98</td></tr>",
                            "<tr><td>1012</td><td>Times Like These</td><td>One By One</td><td>1.98</td></tr>",
                            "<tr><td>1090</td><td>Stir It Up (Live)</td><td>Quanta Gente Veio Ver (Live)</td><td>1.98</td></tr>",
                            "<tr><td>1099</td><td>A Novidade (Live)</td><td>Quanta Gente Veio Ver (Live)</td><td>1.98</td></tr>",
                            "<tr><td>1126</td><td>Re-Align</td><td>Faceless</td><td>1.98</td></tr>",
                            "<tr><td>1135</td><td>Holiday</td><td>American Idiot</td><td>1.98</td></tr>",
                            "<tr><td>1162</td><td>Perfect Crime</td><td>Use Your Illusion I</td><td>1.98</td></tr>",
                            "<tr><td>1168</td><td>The Garden</td><td>Use Your Illusion I</td><td>1.98</td></tr>",
                            "<tr><td>1180</td><td>Breakdown</td><td>Use Your Illusion II</td><td>1.98</td></tr>",
                            "<tr><td>1192</td><td>L&#39;Arc En Ciel De Miles</td><td>Blue Moods</td><td>1.98</td></tr>",
                            "<tr><td>1208</td><td>For the Greater Good of God</td><td>A Matter of Life and Death</td><td>1.98</td></tr>",
                            "<tr><td>1226</td><td>Can I Play With Madness</td><td>A Real Live One</td><td>1.98</td></tr>",
                            "<tr><td>1244</td><td>The Thin Line Between Love &amp; Hate</td><td>Brave New World</td><td>1.98</td></tr>",
                            "<tr><td>1322</td><td>The Trooper</td><td>Live At Donington 1992 (Disc 2)</td><td>1.98</td></tr>",
                            "<tr><td>1331</td><td>Run Silent Run Deep</td><td>No Prayer For The Dying</td><td>1.98</td></tr>",
                            "<tr><td>1358</td><td>Blood Brothers</td><td>Rock In Rio [CD1]</td><td>1.98</td></tr>",
                            "<tr><td>1367</td><td>The Number Of The Beast</td><td>Rock In Rio [CD2]</td><td>1.98</td></tr>",
                            "<tr><td>1394</td><td>The Prisoner</td><td>The Number of The Beast</td><td>1.98</td></tr>",
                            "<tr><td>1400</td><td>The Aftermath</td><td>The X Factor</td><td>1.98</td></tr>",
                            "<tr><td>1412</td><td>Don&#39;t Look To The Eyes Of A Stranger</td><td>Virtual XI</td><td>1.98</td></tr>",
                            "<tr><td>1424</td><td>Hey America</td><td>Sex Machine</td><td>1.98</td></tr>",
                            "<tr><td>1440</td><td>Whatever It Is, I Just Can&#39;t Stop</td><td>Emergency On Planet Earth</td><td>1.98</td></tr>",
                            "<tr><td>1458</td><td>Light Years</td><td>The Return Of The Space Cowboy</td><td>1.98</td></tr>",
                            "<tr><td>1476</td><td>Take It Or Leave It</td><td>Get Born</td><td>1.98</td></tr>",
                            "<tr><td>1554</td><td>Turbo Lover</td><td>Living After Midnight</td><td>1.98</td></tr>",
                            "<tr><td>1563</td><td>Plaster Caster</td><td>Unplugged [Live]</td><td>1.98</td></tr>",
                            "<tr><td>1590</td><td>Walter&#39;s Walk</td><td>Coda</td><td>1.98</td></tr>",
                            "<tr><td>1599</td><td>Dancing Days</td><td>Houses Of The Holy</td><td>1.98</td></tr>",
                            "<tr><td>1626</td><td>How Many More Times</td><td>Led Zeppelin I</td><td>1.98</td></tr>",
                            "<tr><td>1632</td><td>Living Loving Maid (She&#39;s Just A Woman)</td><td>Led Zeppelin II</td><td>1.98</td></tr>",
                            "<tr><td>1644</td><td>Bron-Y-Aur Stomp</td><td>Led Zeppelin III</td><td>1.98</td></tr>",
                            "<tr><td>1656</td><td>For Your Life</td><td>Presence</td><td>1.98</td></tr>",
                            "<tr><td>1672</td><td>L&#39;Avventura</td><td>A TempestadeTempestade Ou O Livro Dos Dias</td><td>1.98</td></tr>",
                            "<tr><td>1690</td><td>Tempo Perdido</td><td>Mais Do Mesmo</td><td>1.98</td></tr>",
                            "<tr><td>1708</td><td>Mr. Cab Driver</td><td>Greatest Hits</td><td>1.98</td></tr>",
                            "<tr><td>1786</td><td>Save The Children</td><td>Seek And Shall Find: More Of The Best (1963-1981)</td><td>1.98</td></tr>",
                            "<tr><td>1795</td><td>Down by the Sea</td><td>The Best Of Men At Work</td><td>1.98</td></tr>",
                            "<tr><td>1822</td><td>Stone Cold Crazy</td><td>Garage Inc. (Disc 2)</td><td>1.98</td></tr>",
                            "<tr><td>1831</td><td>Motorbreath</td><td>Kill &#39;Em All</td><td>1.98</td></tr>",
                            "<tr><td>1858</td><td>Leper Messiah</td><td>Master Of Puppets</td><td>1.98</td></tr>",
                            "<tr><td>1864</td><td>The Unforgiven II</td><td>ReLoad</td><td>1.98</td></tr>",
                            "<tr><td>1876</td><td>For Whom The Bell Tolls</td><td>Ride The Lightning</td><td>1.98</td></tr>",
                            "<tr><td>1888</td><td>Shoot Me Again</td><td>St. Anger</td><td>1.98</td></tr>",
                            "<tr><td>1904</td><td>The Duke</td><td>Miles Ahead</td><td>1.98</td></tr>",
                            "<tr><td>1922</td><td>Menestrel Das Alagoas</td><td>Milton Nascimento Ao Vivo</td><td>1.98</td></tr>",
                            "<tr><td>1940</td><td>Norwegian Wood</td><td>Minas</td><td>1.98</td></tr>",
                            "<tr><td>2018</td><td>Folhas Secas</td><td>Compositores</td><td>1.98</td></tr>",
                            "<tr><td>2027</td><td>Menino De Rua</td><td>Compositores</td><td>1.98</td></tr>",
                            "<tr><td>2054</td><td>Selvagem</td><td>Acústico MTV</td><td>1.98</td></tr>",
                            "<tr><td>2063</td><td>Nebulosa Do Amor</td><td>Acústico MTV</td><td>1.98</td></tr>",
                            "<tr><td>2090</td><td>Romance Ideal</td><td>Arquivo Os Paralamas Do Sucesso</td><td>1.98</td></tr>",
                            "<tr><td>2096</td><td>Flying High Again</td><td>Diary of a Madman (Remastered)</td><td>1.98</td></tr>",
                            "<tr><td>2108</td><td>Children Of The Grave</td><td>Tribute</td><td>1.98</td></tr>",
                            "<tr><td>2120</td><td>Walking Into Clarksdale</td><td>Walking Into Clarksdale</td><td>1.98</td></tr>",
                            "<tr><td>2136</td><td>Plot 180</td><td>Original Soundtracks 1</td><td>1.98</td></tr>",
                            "<tr><td>2154</td><td>Untitled</td><td>Live On Two Legs [Live]</td><td>1.98</td></tr>",
                            "<tr><td>2172</td><td>Big Wave</td><td>Pearl Jam</td><td>1.98</td></tr>",
                            "<tr><td>2250</td><td>Nega Do Cabelo Duro</td><td>Os Cães Ladram Mas A Caravana Não Pára</td><td>1.98</td></tr>",
                            "<tr><td>2259</td><td>You&#39;re My Best Friend</td><td>Greatest Hits I</td><td>1.98</td></tr>",
                            "<tr><td>2286</td><td>Get Up</td><td>Green</td><td>1.98</td></tr>",
                            "<tr><td>2295</td><td>Untitled</td><td>Green</td><td>1.98</td></tr>",
                            "<tr><td>2322</td><td>So Central Rain</td><td>The Best Of R.E.M.: The IRS Years</td><td>1.98</td></tr>",
                            "<tr><td>2328</td><td>Fall On Me</td><td>The Best Of R.E.M.: The IRS Years</td><td>1.98</td></tr>",
                            "<tr><td>2340</td><td>Esporrei Na Manivela</td><td>Cesta Básica</td><td>1.98</td></tr>",
                            "<tr><td>2352</td><td>Que Luz É Essa</td><td>Raul Seixas</td><td>1.98</td></tr>",
                            "<tr><td>2368</td><td>Under The Bridge</td><td>Blood Sugar Sex Magik</td><td>1.98</td></tr>",
                            "<tr><td>2386</td><td>Tear</td><td>By The Way</td><td>1.98</td></tr>",
                            "<tr><td>2404</td><td>Right On Time</td><td>Californication</td><td>1.98</td></tr>",
                            "<tr><td>2482</td><td>Saturnine</td><td>Judas 0: B-Sides and Rarities</td><td>1.98</td></tr>",
                            "<tr><td>2491</td><td>Cherub Rock</td><td>Rotten Apples: Greatest Hits</td><td>1.98</td></tr>",
                            "<tr><td>2518</td><td>Pretty Noose</td><td>A-Sides</td><td>1.98</td></tr>",
                            "<tr><td>2527</td><td>Starburst</td><td>Morning Dance</td><td>1.98</td></tr>",
                            "<tr><td>2554</td><td>Soldier Side - Intro</td><td>Mezmerize</td><td>1.98</td></tr>",
                            "<tr><td>2560</td><td>Violent Pornography</td><td>Mezmerize</td><td>1.98</td></tr>",
                            "<tr><td>2572</td><td>Midnight From The Inside Out</td><td>Live [Disc 1]</td><td>1.98</td></tr>",
                            "<tr><td>2584</td><td>Title Song</td><td>Live [Disc 2]</td><td>1.98</td></tr>",
                            "<tr><td>2600</td><td>Train In Vain</td><td>The Singles</td><td>1.98</td></tr>",
                            "<tr><td>2618</td><td>Speed Of Light</td><td>Beyond Good And Evil</td><td>1.98</td></tr>",
                            "<tr><td>2636</td><td>Sun King</td><td>Pure Cult: The Best Of The Cult (For Rockers, Ravers, Lovers &amp; Sinners) [UK]</td><td>1.98</td></tr>",
                            "<tr><td>2714</td><td>Heaven Coming Down</td><td>Tangents</td><td>1.98</td></tr>",
                            "<tr><td>2723</td><td>Gyroscope</td><td>Transmission</td><td>1.98</td></tr>",
                            "<tr><td>2750</td><td>You Better You Bet</td><td>My Generation - The Very Best Of The Who</td><td>1.98</td></tr>",
                            "<tr><td>2759</td><td>Música No Ar</td><td>Serie Sem Limite (Disc 1)</td><td>1.98</td></tr>",
                            "<tr><td>2786</td><td>O Pulso</td><td>Acústico</td><td>1.98</td></tr>",
                            "<tr><td>2792</td><td>A Melhor Forma</td><td>Acústico</td><td>1.98</td></tr>",
                            "<tr><td>2804</td><td>Lugar Nenhum</td><td>Volume Dois</td><td>1.98</td></tr>",
                            "<tr><td>2816</td><td>Toda Cor</td><td>Volume Dois</td><td>1.98</td></tr>",
                            "<tr><td>2946</td><td>When I Look At The World</td><td>All That You Can&#39;t Leave Behind</td><td>1.98</td></tr>",
                            "<tr><td>2955</td><td>Everlasting Love</td><td>B-Sides 1980-1990</td><td>1.98</td></tr>",
                            "<tr><td>2982</td><td>Miami</td><td>Pop</td><td>1.98</td></tr>",
                            "<tr><td>2991</td><td>All Along The Watchtower</td><td>Rattle And Hum</td><td>1.98</td></tr>",
                            "<tr><td>3018</td><td>Sunday Bloody Sunday</td><td>War</td><td>1.98</td></tr>",
                            "<tr><td>3024</td><td>Two Hearts Beat As One</td><td>War</td><td>1.98</td></tr>",
                            "<tr><td>3036</td><td>Dirty Day</td><td>Zooropa</td><td>1.98</td></tr>",
                            "<tr><td>3048</td><td>C&#39;est La Vie</td><td>UB40 The Best Of - Volume Two [UK]</td><td>1.98</td></tr>",
                            "<tr><td>3064</td><td>Eruption</td><td>The Best Of Van Halen, Vol. I</td><td>1.98</td></tr>",
                            "<tr><td>3082</td><td>Eruption</td><td>Van Halen</td><td>1.98</td></tr>",
                            "<tr><td>3100</td><td>Year to the Day</td><td>Van Halen III</td><td>1.98</td></tr>",
                            "<tr><td>3256</td><td>Give Peace a Chance</td><td>Instant Karma: The Amnesty International Campaign to Save Darfur</td><td>1.98</td></tr>",
                            "<tr><td>3268</td><td>Beautiful Boy</td><td>Instant Karma: The Amnesty International Campaign to Save Darfur</td><td>1.98</td></tr>",
                            "<tr><td>3280</td><td>War Pigs</td><td>Speak of the Devil</td><td>1.98</td></tr>",
                            "<tr><td>3446</td><td>Symphonie Fantastique, Op. 14: V. Songe d&#39;une nuit du sabbat</td><td>Berlioz: Symphonie Fantastique</td><td>1.98</td></tr>",
                            "<tr><td>3455</td><td>Rehab</td><td>Back to Black</td><td>1.98</td></tr>",
                            "<tr><td>3482</td><td>Suite No. 3 in D, BWV 1068: III. Gavotte I &amp; II</td><td>Bach: Orchestral Suites Nos. 1 - 4</td><td>1.98</td></tr>",
                            "<tr><td>3488</td><td>Music for the Funeral of Queen Mary: VI. &quot;Thou Knowest, Lord, the Secrets of Our Hearts&quot;</td><td>Purcell: Music for the Queen Mary</td><td>1.98</td></tr>",
                            "<tr><td>3500</td><td>String Quartet No. 12 in C Minor, D. 703 &quot;Quartettsatz&quot;: II. Andante - Allegro assai</td><td>Schubert: The Late String Quartets &amp; String Quintet (3 CD&#39;s)</td><td>1.98</td></tr>",
                            "<tr><td>9</td><td>Snowballed</td><td>For Those About To Rock We Salute You</td><td>1.98</td></tr>",
                            "<tr><td>175</td><td>Voodoo</td><td>Body Count</td><td>1.98</td></tr>",
                            "<tr><td>184</td><td>Chemical Wedding</td><td>Chemical Wedding</td><td>1.98</td></tr>",
                            "<tr><td>211</td><td>Bem Devagar</td><td>Prenda Minha</td><td>1.98</td></tr>",
                            "<tr><td>217</td><td>Mel</td><td>Prenda Minha</td><td>1.98</td></tr>",
                            "<tr><td>229</td><td>Samba De Orly</td><td>Minha Historia</td><td>1.98</td></tr>",
                            "<tr><td>241</td><td>Geni E O Zepelim</td><td>Minha Historia</td><td>1.98</td></tr>",
                            "<tr><td>407</td><td>Só Tinha De Ser Com Você</td><td>Chill: Brazil (Disc 2)</td><td>1.98</td></tr>",
                            "<tr><td>416</td><td>Whiskey In The Jar</td><td>Garage Inc. (Disc 1)</td><td>1.98</td></tr>",
                            "<tr><td>443</td><td>Shock Me</td><td>Greatest Kiss</td><td>1.98</td></tr>",
                            "<tr><td>449</td><td>Calling Dr. Love</td><td>Greatest Kiss</td><td>1.98</td></tr>",
                            "<tr><td>461</td><td>Surrender</td><td>Heart of the Night</td><td>1.98</td></tr>",
                            "<tr><td>473</td><td>When I Come Around</td><td>International Superhits</td><td>1.98</td></tr>",
                            "<tr><td>639</td><td>Don&#39;t Take Your Love From Me</td><td>Up An&#39; Atom</td><td>1.98</td></tr>",
                            "<tr><td>648</td><td>Onde Anda Você</td><td>Vinícius De Moraes - Sem Limite</td><td>1.98</td></tr>",
                            "<tr><td>675</td><td>Susie Q</td><td>Chronicle, Vol. 1</td><td>1.98</td></tr>",
                            "<tr><td>681</td><td>Commotion</td><td>Chronicle, Vol. 1</td><td>1.98</td></tr>",
                            "<tr><td>693</td><td>Sweet Hitch-Hiker</td><td>Chronicle, Vol. 1</td><td>1.98</td></tr>",
                            "<tr><td>705</td><td>The Midnight Special</td><td>Chronicle, Vol. 2</td><td>1.98</td></tr>",
                            "<tr><td>871</td><td>Azul</td><td>Djavan Ao Vivo - Vol. 1</td><td>1.98</td></tr>",
                            "<tr><td>880</td><td>Dois Pra Lá, Dois Pra Cá</td><td>Elis Regina-Minha História</td><td>1.98</td></tr>",
                            "<tr><td>907</td><td>Promises</td><td>The Cream Of Clapton</td><td>1.98</td></tr>",
                            "<tr><td>913</td><td>Lonely Stranger</td><td>Unplugged</td><td>1.98</td></tr>",
                            "<tr><td>925</td><td>Last Cup Of Sorrow</td><td>Album Of The Year</td><td>1.98</td></tr>",
                            "<tr><td>937</td><td>Midlife Crisis</td><td>Angel Dust</td><td>1.98</td></tr>",
                            "<tr><td>1103</td><td>Lamento De Carnaval</td><td>Quanta Gente Veio ver--Bônus De Carnaval</td><td>1.98</td></tr>",
                            "<tr><td>1112</td><td>Beira Mar</td><td>Unplugged</td><td>1.98</td></tr>",
                            "<tr><td>1139</td><td>Give Me Novacaine</td><td>American Idiot</td><td>1.98</td></tr>",
                            "<tr><td>1145</td><td>Whatsername</td><td>American Idiot</td><td>1.98</td></tr>",
                            "<tr><td>1157</td><td>Rocket Queen</td><td>Appetite for Destruction</td><td>1.98</td></tr>",
                            "<tr><td>1169</td><td>Garden of Eden</td><td>Use Your Illusion I</td><td>1.98</td></tr>",
                            "<tr><td>1335</td><td>Where Eagles Dare</td><td>Piece Of Mind</td><td>1.98</td></tr>",
                            "<tr><td>1344</td><td>Aces High</td><td>Powerslave</td><td>1.98</td></tr>",
                            "<tr><td>1371</td><td>Moonchild</td><td>Seventh Son of a Seventh Son</td><td>1.98</td></tr>",
                            "<tr><td>1377</td><td>The Clairvoyant</td><td>Seventh Son of a Seventh Son</td><td>1.98</td></tr>",
                            "<tr><td>1389</td><td>Gangland</td><td>The Number of The Beast</td><td>1.98</td></tr>",
                            "<tr><td>1401</td><td>Judgement Of Heaven</td><td>The X Factor</td><td>1.98</td></tr>",
                            "<tr><td>1567</td><td>Sure Know Something</td><td>Unplugged [Live]</td><td>1.98</td></tr>",
                            "<tr><td>1576</td><td>Rock And Roll All Nite</td><td>Unplugged [Live]</td><td>1.98</td></tr>",
                            "<tr><td>1603</td><td>In The Evening</td><td>In Through The Out Door</td><td>1.98</td></tr>",
                            "<tr><td>1609</td><td>I&#39;m Gonna Crawl</td><td>In Through The Out Door</td><td>1.98</td></tr>",
                            "<tr><td>1621</td><td>Dazed and Confused</td><td>Led Zeppelin I</td><td>1.98</td></tr>",
                            "<tr><td>1633</td><td>Ramble On</td><td>Led Zeppelin II</td><td>1.98</td></tr>",
                            "<tr><td>1799</td><td>Shakes and Ladders</td><td>The Best Of Men At Work</td><td>1.98</td></tr>",
                            "<tr><td>1808</td><td>Nothing Else Matters</td><td>Black Album</td><td>1.98</td></tr>",
                            "<tr><td>1835</td><td>Phantom Lord</td><td>Kill &#39;Em All</td><td>1.98</td></tr>",
                            "<tr><td>1841</td><td>The House Jack Built</td><td>Load</td><td>1.98</td></tr>",
                            "<tr><td>1853</td><td>Battery</td><td>Master Of Puppets</td><td>1.98</td></tr>",
                            "<tr><td>1865</td><td>Better Than You</td><td>ReLoad</td><td>1.98</td></tr>",
                            "<tr><td>2031</td><td>Nossa Gente (Avisa Là)</td><td>Olodum</td><td>1.98</td></tr>",
                            "<tr><td>2040</td><td>Revolta Olodum</td><td>Olodum</td><td>1.98</td></tr>",
                            "<tr><td>2067</td><td>Mensagen De Amor (2000)</td><td>Arquivo II</td><td>1.98</td></tr>",
                            "<tr><td>2073</td><td>Saber Amar</td><td>Arquivo II</td><td>1.98</td></tr>",
                            "<tr><td>2085</td><td>Meu Erro</td><td>Arquivo Os Paralamas Do Sucesso</td><td>1.98</td></tr>",
                            "<tr><td>2097</td><td>Mama, I&#39;m Coming Home</td><td>No More Tears (Remastered)</td><td>1.98</td></tr>",
                            "<tr><td>2263</td><td>Somebody To Love</td><td>Greatest Hits I</td><td>1.98</td></tr>",
                            "<tr><td>2272</td><td>We Are The Champions</td><td>News Of The World</td><td>1.98</td></tr>",
                            "<tr><td>2299</td><td>Undertow</td><td>New Adventures In Hi-Fi</td><td>1.98</td></tr>",
                            "<tr><td>2305</td><td>Binky The Doormat</td><td>New Adventures In Hi-Fi</td><td>1.98</td></tr>",
                            "<tr><td>2317</td><td>Country Feedback</td><td>Out Of Time</td><td>1.98</td></tr>",
                            "<tr><td>2329</td><td>I Believe</td><td>The Best Of R.E.M.: The IRS Years</td><td>1.98</td></tr>",
                            "<tr><td>2495</td><td>Bullet With Butterfly Wings</td><td>Rotten Apples: Greatest Hits</td><td>1.98</td></tr>",
                            "<tr><td>2504</td><td>Real Love</td><td>Rotten Apples: Greatest Hits</td><td>1.98</td></tr>",
                            "<tr><td>2531</td><td>End Of Romanticism</td><td>Morning Dance</td><td>1.98</td></tr>",
                            "<tr><td>2537</td><td>Travis Walk</td><td>In Step</td><td>1.98</td></tr>",
                            "<tr><td>2549</td><td>Piece Of Pie</td><td>Core</td><td>1.98</td></tr>",
                            "<tr><td>2561</td><td>Question!</td><td>Mezmerize</td><td>1.98</td></tr>",
                            "<tr><td>2727</td><td>Babylon</td><td>Transmission</td><td>1.98</td></tr>",
                            "<tr><td>2736</td><td>Boris The Spider</td><td>My Generation - The Very Best Of The Who</td><td>1.98</td></tr>",
                            "<tr><td>2763</td><td>Compadre</td><td>Serie Sem Limite (Disc 1)</td><td>1.98</td></tr>",
                            "<tr><td>2769</td><td>Não Quero Dinheiro</td><td>Serie Sem Limite (Disc 2)</td><td>1.98</td></tr>",
                            "<tr><td>2781</td><td>Comida</td><td>Acústico</td><td>1.98</td></tr>",
                            "<tr><td>2793</td><td>Cabeça Dinossauro</td><td>Acústico</td><td>1.98</td></tr>",
                            "<tr><td>2959</td><td>Hallelujah Here She Comes</td><td>B-Sides 1980-1990</td><td>1.98</td></tr>",
                            "<tr><td>2968</td><td>City Of Blinding Lights</td><td>How To Dismantle An Atomic Bomb</td><td>1.98</td></tr>",
                            "<tr><td>2995</td><td>Pride (In The Name Of Love)</td><td>Rattle And Hum</td><td>1.98</td></tr>",
                            "<tr><td>3001</td><td>The Star Spangled Banner</td><td>Rattle And Hum</td><td>1.98</td></tr>",
                            "<tr><td>3013</td><td>Sweetest Thing</td><td>The Best Of 1980-1990</td><td>1.98</td></tr>",
                            "<tr><td>3025</td><td>Red Light</td><td>War</td><td>1.98</td></tr>",
                            "<tr><td>3432</td><td>Scheherazade, Op. 35: I. The Sea and Sindbad&#39;s Ship</td><td>Scheherazade</td><td>1.98</td></tr>",
                            "<tr><td>161</td><td>Snowblind</td><td>Black Sabbath Vol. 4 (Remaster)</td><td>1.98</td></tr>",
                            "<tr><td>393</td><td>Tarde Em Itapoã</td><td>Chill: Brazil (Disc 2)</td><td>1.98</td></tr>",
                            "<tr><td>625</td><td>Blue Rythm Fantasy</td><td>Up An&#39; Atom</td><td>1.98</td></tr>",
                            "<tr><td>857</td><td>Álibi</td><td>Djavan Ao Vivo - Vol. 02</td><td>1.98</td></tr>",
                            "<tr><td>1089</td><td>Is This Love (Live)</td><td>Quanta Gente Veio Ver (Live)</td><td>1.98</td></tr>",
                            "<tr><td>1321</td><td>Hallowed Be Thy Name</td><td>Live At Donington 1992 (Disc 2)</td><td>1.98</td></tr>",
                            "<tr><td>1553</td><td>You&#39;ve Got Another Thing Comin&#39;</td><td>Living After Midnight</td><td>1.98</td></tr>",
                            "<tr><td>1785</td><td>Abraham, Martin And John</td><td>Seek And Shall Find: More Of The Best (1963-1981)</td><td>1.98</td></tr>",
                            "<tr><td>2017</td><td>Sangue Latino</td><td>Compositores</td><td>1.98</td></tr>",
                            "<tr><td>2249</td><td>Rappers Reais</td><td>Os Cães Ladram Mas A Caravana Não Pára</td><td>1.98</td></tr>",
                            "<tr><td>2481</td><td>Waiting</td><td>Judas 0: B-Sides and Rarities</td><td>1.98</td></tr>",
                            "<tr><td>2713</td><td>Release</td><td>Tangents</td><td>1.98</td></tr>",
                            "<tr><td>2945</td><td>Peace On Earth</td><td>All That You Can&#39;t Leave Behind</td><td>1.98</td></tr>",
                            "<tr><td>4</td><td>Restless and Wild</td><td>Restless and Wild</td><td>0.99</td></tr>",
                            "<tr><td>6</td><td>Put The Finger On You</td><td>For Those About To Rock We Salute You</td><td>0.99</td></tr>",
                            "<tr><td>10</td><td>Evil Walks</td><td>For Those About To Rock We Salute You</td><td>0.99</td></tr>",
                            "<tr><td>12</td><td>Breaking The Rules</td><td>For Those About To Rock We Salute You</td><td>0.99</td></tr>",
                            "<tr><td>16</td><td>Dog Eat Dog</td><td>Let There Be Rock</td><td>0.99</td></tr>",
                            "<tr><td>24</td><td>Love In An Elevator</td><td>Big Ones</td><td>0.99</td></tr>",
                            "<tr><td>28</td><td>Janie&#39;s Got A Gun</td><td>Big Ones</td><td>0.99</td></tr>",
                            "<tr><td>36</td><td>Angel</td><td>Big Ones</td><td>0.99</td></tr>",
                            "<tr><td>42</td><td>Right Through You</td><td>Jagged Little Pill</td><td>0.99</td></tr>",
                            "<tr><td>54</td><td>Bleed The Freak</td><td>Facelift</td><td>0.99</td></tr>",
                            "<tr><td>60</td><td>Confusion</td><td>Facelift</td><td>0.99</td></tr>",
                            "<tr><td>72</td><td>Angela</td><td>Warner 25 Anos</td><td>0.99</td></tr>",
                            "<tr><td>78</td><td>Master Of Puppets</td><td>Plays Metallica By Four Cellos</td><td>0.99</td></tr>",
                            "<tr><td>90</td><td>Set It Off</td><td>Audioslave</td><td>0.99</td></tr>",
                            "<tr><td>99</td><td>Your Time Has Come</td><td>Out Of Exile</td><td>0.99</td></tr>",
                            "<tr><td>108</td><td>Dandelion</td><td>Out Of Exile</td><td>0.99</td></tr>",
                            "<tr><td>117</td><td>Rock &#39;N&#39; Roll Music</td><td>BackBeat Soundtrack</td><td>0.99</td></tr>",
                            "<tr><td>126</td><td>Moon germs</td><td>The Best Of Billy Cobham</td><td>0.99</td></tr>",
                            "<tr><td>135</td><td>Super Terrorizer</td><td>Alcohol Fueled Brewtality Live! [Disc 1]</td><td>0.99</td></tr>",
                            "<tr><td>144</td><td>Heart Of Gold</td><td>Alcohol Fueled Brewtality Live! [Disc 2]</td><td>0.99</td></tr>",
                            "<tr><td>153</td><td>Evil Woman</td><td>Black Sabbath</td><td>0.99</td></tr>",
                            "<tr><td>180</td><td>Body Count Anthem</td><td>Body Count</td><td>0.99</td></tr>",
                            "<tr><td>189</td><td>Jerusalem</td><td>Chemical Wedding</td><td>0.99</td></tr>",
                            "<tr><td>216</td><td>Esse Cara</td><td>Prenda Minha</td><td>0.99</td></tr>",
                            "<tr><td>230</td><td>Bye, Bye Brasil</td><td>Minha Historia</td><td>0.99</td></tr>",
                            "<tr><td>231</td><td>Atras Da Porta</td><td>Minha Historia</td><td>0.99</td></tr>",
                            "<tr><td>232</td><td>Tatuagem</td><td>Minha Historia</td><td>0.99</td></tr>",
                            "<tr><td>236</td><td>A Banda</td><td>Minha Historia</td><td>0.99</td></tr>",
                            "<tr><td>238</td><td>Com Açúcar E Com Afeto</td><td>Minha Historia</td><td>0.99</td></tr>",
                            "<tr><td>242</td><td>Trocando Em Miúdos</td><td>Minha Historia</td><td>0.99</td></tr>",
                            "<tr><td>244</td><td>Gota D&#39;água</td><td>Minha Historia</td><td>0.99</td></tr>",
                            "<tr><td>248</td><td>Etnia</td><td>Afrociberdelia</td><td>0.99</td></tr>",
                            "<tr><td>256</td><td>Sobremesa</td><td>Afrociberdelia</td><td>0.99</td></tr>",
                            "<tr><td>260</td><td>Sangue De Bairro</td><td>Afrociberdelia</td><td>0.99</td></tr>",
                            "<tr><td>268</td><td>Maracatu Atômico [Trip Hop]</td><td>Afrociberdelia</td><td>0.99</td></tr>",
                            "<tr><td>274</td><td>Samba Makossa</td><td>Da Lama Ao Caos</td><td>0.99</td></tr>",
                            "<tr><td>286</td><td>Firmamento</td><td>Acústico MTV [Live]</td><td>0.99</td></tr>",
                            "<tr><td>292</td><td>Já Foi</td><td>Acústico MTV [Live]</td><td>0.99</td></tr>",
                            "<tr><td>304</td><td>Firmamento</td><td>Cidade Negra - Hits</td><td>0.99</td></tr>",
                            "<tr><td>310</td><td>Sábado A Noite</td><td>Cidade Negra - Hits</td><td>0.99</td></tr>",
                            "<tr><td>322</td><td>Livre Pra Viver</td><td>Na Pista</td><td>0.99</td></tr>",
                            "<tr><td>331</td><td>Lavadeira</td><td>Axé Bahia 2001</td><td>0.99</td></tr>",
                            "<tr><td>340</td><td>Dazed and Confused</td><td>BBC Sessions [Disc 1] [Live]</td><td>0.99</td></tr>",
                            "<tr><td>349</td><td>You Shook Me(2)</td><td>BBC Sessions [Disc 1] [Live]</td><td>0.99</td></tr>",
                            "<tr><td>358</td><td>Man With The Woman Head</td><td>Bongo Fury</td><td>0.99</td></tr>",
                            "<tr><td>367</td><td>Leandro De Itaquera 2001</td><td>Carnaval 2001</td><td>0.99</td></tr>",
                            "<tr><td>376</td><td>Vôo Sobre o Horizonte</td><td>Chill: Brazil (Disc 1)</td><td>0.99</td></tr>",
                            "<tr><td>385</td><td>All Star</td><td>Chill: Brazil (Disc 1)</td><td>0.99</td></tr>",
                            "<tr><td>412</td><td>Die Die My Darling</td><td>Garage Inc. (Disc 1)</td><td>0.99</td></tr>",
                            "<tr><td>421</td><td>Radio GA GA</td><td>Greatest Hits II</td><td>0.99</td></tr>",
                            "<tr><td>448</td><td>God Of Thunder</td><td>Greatest Kiss</td><td>0.99</td></tr>",
                            "<tr><td>462</td><td>Valentino&#39;s</td><td>Heart of the Night</td><td>0.99</td></tr>",
                            "<tr><td>463</td><td>Believe</td><td>Heart of the Night</td><td>0.99</td></tr>",
                            "<tr><td>464</td><td>As We Sleep</td><td>Heart of the Night</td><td>0.99</td></tr>",
                            "<tr><td>468</td><td>Maria</td><td>International Superhits</td><td>0.99</td></tr>",
                            "<tr><td>470</td><td>Longview</td><td>International Superhits</td><td>0.99</td></tr>",
                            "<tr><td>474</td><td>She</td><td>International Superhits</td><td>0.99</td></tr>",
                            "<tr><td>476</td><td>Geek Stink Breath</td><td>International Superhits</td><td>0.99</td></tr>",
                            "<tr><td>480</td><td>Stuck With Me</td><td>International Superhits</td><td>0.99</td></tr>",
                            "<tr><td>488</td><td>Macy&#39;s Day Parade</td><td>International Superhits</td><td>0.99</td></tr>",
                            "<tr><td>492</td><td>Don&#39;t You Cry</td><td>Into The Light</td><td>0.99</td></tr>",
                            "<tr><td>500</td><td>Wherever You May Go</td><td>Into The Light</td><td>0.99</td></tr>",
                            "<tr><td>506</td><td>Diga Lá, Coração</td><td>Meus Momentos</td><td>0.99</td></tr>",
                            "<tr><td>518</td><td>Podres Poderes</td><td>Minha Historia</td><td>0.99</td></tr>",
                            "<tr><td>524</td><td>Queixa</td><td>Minha Historia</td><td>0.99</td></tr>",
                            "<tr><td>536</td><td>Vida De Cachorro</td><td>Minha História</td><td>0.99</td></tr>",
                            "<tr><td>542</td><td>Meu Refrigerador Não Funciona</td><td>Minha História</td><td>0.99</td></tr>",
                            "<tr><td>554</td><td>Trampled Under Foot</td><td>Physical Graffiti [Disc 1]</td><td>0.99</td></tr>",
                            "<tr><td>563</td><td>União Da Ilha</td><td>Sambas De Enredo 2001</td><td>0.99</td></tr>",
                            "<tr><td>572</td><td>Put Your Lights On</td><td>Supernatural</td><td>0.99</td></tr>",
                            "<tr><td>581</td><td>Primavera</td><td>Supernatural</td><td>0.99</td></tr>",
                            "<tr><td>590</td><td>Seis Da Tarde</td><td>The Best of Ed Motta</td><td>0.99</td></tr>",
                            "<tr><td>599</td><td>Compulsion</td><td>The Essential Miles Davis [Disc 1]</td><td>0.99</td></tr>",
                            "<tr><td>608</td><td>The Pan Piper</td><td>The Essential Miles Davis [Disc 1]</td><td>0.99</td></tr>",
                            "<tr><td>617</td><td>Jean Pierre (Live)</td><td>The Essential Miles Davis [Disc 2]</td><td>0.99</td></tr>",
                            "<tr><td>644</td><td>Showcase</td><td>Up An&#39; Atom</td><td>0.99</td></tr>",
                            "<tr><td>653</td><td>Como É Duro Trabalhar</td><td>Vinícius De Moraes - Sem Limite</td><td>0.99</td></tr>",
                            "<tr><td>680</td><td>Green River</td><td>Chronicle, Vol. 1</td><td>0.99</td></tr>",
                            "<tr><td>694</td><td>Someday Never Comes</td><td>Chronicle, Vol. 1</td><td>0.99</td></tr>",
                            "<tr><td>695</td><td>Walking On The Water</td><td>Chronicle, Vol. 2</td><td>0.99</td></tr>",
                            "<tr><td>696</td><td>Suzie-Q, Pt. 2</td><td>Chronicle, Vol. 2</td><td>0.99</td></tr>",
                            "<tr><td>700</td><td>Wrote A Song For Everyone</td><td>Chronicle, Vol. 2</td><td>0.99</td></tr>",
                            "<tr><td>702</td><td>Cotton Fields</td><td>Chronicle, Vol. 2</td><td>0.99</td></tr>",
                            "<tr><td>706</td><td>Before You Accuse Me</td><td>Chronicle, Vol. 2</td><td>0.99</td></tr>",
                            "<tr><td>708</td><td>Pagan Baby</td><td>Chronicle, Vol. 2</td><td>0.99</td></tr>",
                            "<tr><td>712</td><td>Born To Move</td><td>Chronicle, Vol. 2</td><td>0.99</td></tr>",
                            "<tr><td>720</td><td>Coroné Antonio Bento</td><td>Cássia Eller - Coleção Sem Limite [Disc 2]</td><td>0.99</td></tr>",
                            "<tr><td>724</td><td>Música Urbana 2</td><td>Cássia Eller - Coleção Sem Limite [Disc 2]</td><td>0.99</td></tr>",
                            "<tr><td>732</td><td>Smells Like Teen Spirit (Ao Vivo)</td><td>Cássia Eller - Sem Limite [Disc 1]</td><td>0.99</td></tr>",
                            "<tr><td>738</td><td>Admirável Gado Novo</td><td>Cássia Eller - Sem Limite [Disc 1]</td><td>0.99</td></tr>",
                            "<tr><td>750</td><td>Drifter</td><td>Come Taste The Band</td><td>0.99</td></tr>",
                            "<tr><td>756</td><td>Child In Time</td><td>Deep Purple In Rock</td><td>0.99</td></tr>",
                            "<tr><td>768</td><td>Knocking At Your Back Door</td><td>Knocking at Your Back Door: The Best Of Deep Purple in the 80&#39;s</td><td>0.99</td></tr>",
                            "<tr><td>774</td><td>The Unwritten Law</td><td>Knocking at Your Back Door: The Best Of Deep Purple in the 80&#39;s</td><td>0.99</td></tr>",
                            "<tr><td>786</td><td>Vavoom : Ted The Mechanic</td><td>Purpendicular</td><td>0.99</td></tr>",
                            "<tr><td>795</td><td>Hey Cisco</td><td>Purpendicular</td><td>0.99</td></tr>",
                            "<tr><td>804</td><td>Fortuneteller</td><td>Slaves And Masters</td><td>0.99</td></tr>",
                            "<tr><td>813</td><td>High Ball Shooter</td><td>Stormbringer</td><td>0.99</td></tr>",
                            "<tr><td>822</td><td>A Twist In The Tail</td><td>The Battle Rages On</td><td>0.99</td></tr>",
                            "<tr><td>831</td><td>Animal</td><td>Vault: Def Leppard&#39;s Greatest Hits</td><td>0.99</td></tr>",
                            "<tr><td>840</td><td>Hysteria</td><td>Vault: Def Leppard&#39;s Greatest Hits</td><td>0.99</td></tr>",
                            "<tr><td>849</td><td>Baltimore, DC</td><td>Outbreak</td><td>0.99</td></tr>",
                            "<tr><td>876</td><td>Um Amor Puro</td><td>Djavan Ao Vivo - Vol. 1</td><td>0.99</td></tr>",
                            "<tr><td>885</td><td>Fascinação</td><td>Elis Regina-Minha História</td><td>0.99</td></tr>",
                            "<tr><td>912</td><td>Tears In Heaven</td><td>Unplugged</td><td>0.99</td></tr>",
                            "<tr><td>926</td><td>Naked In Front Of The Computer</td><td>Album Of The Year</td><td>0.99</td></tr>",
                            "<tr><td>927</td><td>Helpless</td><td>Album Of The Year</td><td>0.99</td></tr>",
                            "<tr><td>928</td><td>Mouth To Mouth</td><td>Album Of The Year</td><td>0.99</td></tr>",
                            "<tr><td>932</td><td>Paths Of Glory</td><td>Album Of The Year</td><td>0.99</td></tr>",
                            "<tr><td>934</td><td>Pristina</td><td>Album Of The Year</td><td>0.99</td></tr>",
                            "<tr><td>938</td><td>RV</td><td>Angel Dust</td><td>0.99</td></tr>",
                            "<tr><td>940</td><td>Everything&#39;s Ruined</td><td>Angel Dust</td><td>0.99</td></tr>",
                            "<tr><td>944</td><td>A Small Victory</td><td>Angel Dust</td><td>0.99</td></tr>",
                            "<tr><td>952</td><td>The Gentle Art Of Making Enemies</td><td>King For A Day Fool For A Lifetime</td><td>0.99</td></tr>",
                            "<tr><td>956</td><td>Ugly In The Morning</td><td>King For A Day Fool For A Lifetime</td><td>0.99</td></tr>",
                            "<tr><td>964</td><td>From Out Of Nowhere</td><td>The Real Thing</td><td>0.99</td></tr>",
                            "<tr><td>970</td><td>Underwater Love</td><td>The Real Thing</td><td>0.99</td></tr>",
                            "<tr><td>982</td><td>Avisa</td><td>Deixa Entrar</td><td>0.99</td></tr>",
                            "<tr><td>988</td><td>Desaforo</td><td>Deixa Entrar</td><td>0.99</td></tr>",
                            "<tr><td>1000</td><td>What If I Do?</td><td>In Your Honor [Disc 2]</td><td>0.99</td></tr>",
                            "<tr><td>1006</td><td>Virginia Moon</td><td>In Your Honor [Disc 2]</td><td>0.99</td></tr>",
                            "<tr><td>1018</td><td>Burn Away</td><td>One By One</td><td>0.99</td></tr>",
                            "<tr><td>1027</td><td>See You</td><td>The Colour And The Shape</td><td>0.99</td></tr>",
                            "<tr><td>1036</td><td>I Get A Kick Out Of You</td><td>My Way: The Best Of Frank Sinatra [Disc 1]</td><td>0.99</td></tr>",
                            "<tr><td>1045</td><td>Fly Me To The Moon</td><td>My Way: The Best Of Frank Sinatra [Disc 1]</td><td>0.99</td></tr>",
                            "<tr><td>1054</td><td>Mack The Knife</td><td>My Way: The Best Of Frank Sinatra [Disc 1]</td><td>0.99</td></tr>",
                            "<tr><td>1063</td><td>Funk Hum</td><td>Roda De Funk</td><td>0.99</td></tr>",
                            "<tr><td>1072</td><td>Forty Days Instrumental</td><td>Roda De Funk</td><td>0.99</td></tr>",
                            "<tr><td>1081</td><td>Pau-De-Arara</td><td>As Canções de Eu Tu Eles</td><td>0.99</td></tr>",
                            "<tr><td>1108</td><td>Realce</td><td>Unplugged</td><td>0.99</td></tr>",
                            "<tr><td>1117</td><td>Aquele Abraço</td><td>Unplugged</td><td>0.99</td></tr>",
                            "<tr><td>1144</td><td>Homecoming / The Death Of St. Jimmy / East 12th St. / Nobody Likes You / Rock And Roll Girlfriend / We&#39;re Coming Home Again</td><td>American Idiot</td><td>0.99</td></tr>",
                            "<tr><td>1158</td><td>Right Next Door to Hell</td><td>Use Your Illusion I</td><td>0.99</td></tr>",
                            "<tr><td>1159</td><td>Dust N&#39; Bones</td><td>Use Your Illusion I</td><td>0.99</td></tr>",
                            "<tr><td>1160</td><td>Live and Let Die</td><td>Use Your Illusion I</td><td>0.99</td></tr>",
                            "<tr><td>1164</td><td>Bad Obsession</td><td>Use Your Illusion I</td><td>0.99</td></tr>",
                            "<tr><td>1166</td><td>Double Talkin&#39; Jive</td><td>Use Your Illusion I</td><td>0.99</td></tr>",
                            "<tr><td>1170</td><td>Don&#39;t Damn Me</td><td>Use Your Illusion I</td><td>0.99</td></tr>",
                            "<tr><td>1172</td><td>Dead Horse</td><td>Use Your Illusion I</td><td>0.99</td></tr>",
                            "<tr><td>1176</td><td>Yesterdays</td><td>Use Your Illusion II</td><td>0.99</td></tr>",
                            "<tr><td>1184</td><td>Estranged</td><td>Use Your Illusion II</td><td>0.99</td></tr>",
                            "<tr><td>1188</td><td>Colibri</td><td>Blue Moods</td><td>0.99</td></tr>",
                            "<tr><td>1196</td><td>Millenium</td><td>Blue Moods</td><td>0.99</td></tr>",
                            "<tr><td>1202</td><td>These Colours Don&#39;t Run</td><td>A Matter of Life and Death</td><td>0.99</td></tr>",
                            "<tr><td>1214</td><td>Prowler</td><td>A Real Dead One</td><td>0.99</td></tr>",
                            "<tr><td>1220</td><td>Run To The Hilss</td><td>A Real Dead One</td><td>0.99</td></tr>",
                            "<tr><td>1232</td><td>Heaven Can Wait</td><td>A Real Live One</td><td>0.99</td></tr>",
                            "<tr><td>1238</td><td>Blood Brothers</td><td>Brave New World</td><td>0.99</td></tr>",
                            "<tr><td>1250</td><td>Gates Of Tomorrow</td><td>Dance Of Death</td><td>0.99</td></tr>",
                            "<tr><td>1259</td><td>Fear Is The Key</td><td>Fear Of The Dark</td><td>0.99</td></tr>",
                            "<tr><td>1268</td><td>01 - Prowler</td><td>Iron Maiden</td><td>0.99</td></tr>",
                            "<tr><td>1277</td><td>The Ides Of March</td><td>Killers</td><td>0.99</td></tr>",
                            "<tr><td>1286</td><td>Drifter</td><td>Killers</td><td>0.99</td></tr>",
                            "<tr><td>1295</td><td>The Number Of The Beast</td><td>Live After Death</td><td>0.99</td></tr>",
                            "<tr><td>1304</td><td>Phantom Of The Opera</td><td>Live After Death</td><td>0.99</td></tr>",
                            "<tr><td>1313</td><td>Afraid To Shoot Strangers</td><td>Live At Donington 1992 (Disc 1)</td><td>0.99</td></tr>",
                            "<tr><td>1340</td><td>Still Life</td><td>Piece Of Mind</td><td>0.99</td></tr>",
                            "<tr><td>1349</td><td>Back in the Village</td><td>Powerslave</td><td>0.99</td></tr>",
                            "<tr><td>1376</td><td>The Prophecy</td><td>Seventh Son of a Seventh Son</td><td>0.99</td></tr>",
                            "<tr><td>1390</td><td>Hallowed Be Thy Name</td><td>The Number of The Beast</td><td>0.99</td></tr>",
                            "<tr><td>1391</td><td>Invaders</td><td>The Number of The Beast</td><td>0.99</td></tr>",
                            "<tr><td>1392</td><td>Run to the Hills</td><td>The Number of The Beast</td><td>0.99</td></tr>",
                            "<tr><td>1396</td><td>Lord Of The Flies</td><td>The X Factor</td><td>0.99</td></tr>",
                            "<tr><td>1398</td><td>Fortunes Of War</td><td>The X Factor</td><td>0.99</td></tr>",
                            "<tr><td>1402</td><td>Blood On The World&#39;s Hands</td><td>The X Factor</td><td>0.99</td></tr>",
                            "<tr><td>1404</td><td>2 A.M.</td><td>The X Factor</td><td>0.99</td></tr>",
                            "<tr><td>1408</td><td>Lightning Strikes Twice</td><td>Virtual XI</td><td>0.99</td></tr>",
                            "<tr><td>1416</td><td>Night Train</td><td>Sex Machine</td><td>0.99</td></tr>",
                            "<tr><td>1420</td><td>It&#39;s A Man&#39;s Man&#39;s Man&#39;s World</td><td>Sex Machine</td><td>0.99</td></tr>",
                            "<tr><td>1428</td><td>Get Up Offa That Thing</td><td>Sex Machine</td><td>0.99</td></tr>",
                            "<tr><td>1434</td><td>When You Gonna Learn (Digeridoo)</td><td>Emergency On Planet Earth</td><td>0.99</td></tr>",
                            "<tr><td>1446</td><td>Black Capricorn Day</td><td>Synkronized</td><td>0.99</td></tr>",
                            "<tr><td>1452</td><td>Were Do We Go From Here</td><td>Synkronized</td><td>0.99</td></tr>",
                            "<tr><td>1464</td><td>Morning Glory</td><td>The Return Of The Space Cowboy</td><td>0.99</td></tr>",
                            "<tr><td>1470</td><td>Get What You Need</td><td>Get Born</td><td>0.99</td></tr>",
                            "<tr><td>1482</td><td>Can You See Me</td><td>Are You Experienced?</td><td>0.99</td></tr>",
                            "<tr><td>1491</td><td>Stone Free</td><td>Are You Experienced?</td><td>0.99</td></tr>",
                            "<tr><td>1500</td><td>Satch Boogie</td><td>Surfing with the Alien (Remastered)</td><td>0.99</td></tr>",
                            "<tr><td>1509</td><td>Salve Simpatia</td><td>Jorge Ben Jor 25 Anos</td><td>0.99</td></tr>",
                            "<tr><td>1518</td><td>Filho Maravilha</td><td>Jorge Ben Jor 25 Anos</td><td>0.99</td></tr>",
                            "<tr><td>1527</td><td>Dance Enquanto é Tempo</td><td>Jota Quest-1995</td><td>0.99</td></tr>",
                            "<tr><td>1536</td><td>Voce Inteira</td><td>Cafezinho</td><td>0.99</td></tr>",
                            "<tr><td>1545</td><td>Enquanto O Dia Não Vem</td><td>Cafezinho</td><td>0.99</td></tr>",
                            "<tr><td>1572</td><td>Every Time I Look At You</td><td>Unplugged [Live]</td><td>0.99</td></tr>",
                            "<tr><td>1581</td><td>Dazed And Confused</td><td>BBC Sessions [Disc 2] [Live]</td><td>0.99</td></tr>",
                            "<tr><td>1608</td><td>All My Love</td><td>In Through The Out Door</td><td>0.99</td></tr>",
                            "<tr><td>1622</td><td>Your Time Is Gonna Come</td><td>Led Zeppelin I</td><td>0.99</td></tr>",
                            "<tr><td>1623</td><td>Black Mountain Side</td><td>Led Zeppelin I</td><td>0.99</td></tr>",
                            "<tr><td>1624</td><td>Communication Breakdown</td><td>Led Zeppelin I</td><td>0.99</td></tr>",
                            "<tr><td>1628</td><td>What Is And What Should Never Be</td><td>Led Zeppelin II</td><td>0.99</td></tr>",
                            "<tr><td>1630</td><td>Thank You</td><td>Led Zeppelin II</td><td>0.99</td></tr>",
                            "<tr><td>1634</td><td>Moby Dick</td><td>Led Zeppelin II</td><td>0.99</td></tr>",
                            "<tr><td>1636</td><td>Immigrant Song</td><td>Led Zeppelin III</td><td>0.99</td></tr>",
                            "<tr><td>1640</td><td>Out On The Tiles</td><td>Led Zeppelin III</td><td>0.99</td></tr>",
                            "<tr><td>1648</td><td>Down By The Seaside</td><td>Physical Graffiti [Disc 2]</td><td>0.99</td></tr>",
                            "<tr><td>1652</td><td>Boogie With Stu</td><td>Physical Graffiti [Disc 2]</td><td>0.99</td></tr>",
                            "<tr><td>1660</td><td>Hots On For Nowhere</td><td>Presence</td><td>0.99</td></tr>",
                            "<tr><td>1666</td><td>Dazed And Confused</td><td>The Song Remains The Same (Disc 1)</td><td>0.99</td></tr>",
                            "<tr><td>1678</td><td>Soul Parsifal</td><td>A TempestadeTempestade Ou O Livro Dos Dias</td><td>0.99</td></tr>",
                            "<tr><td>1684</td><td>Quando Você Voltar</td><td>A TempestadeTempestade Ou O Livro Dos Dias</td><td>0.99</td></tr>",
                            "<tr><td>1696</td><td>Meninos E Meninas</td><td>Mais Do Mesmo</td><td>0.99</td></tr>",
                            "<tr><td>1702</td><td>Are You Gonna Go My Way</td><td>Greatest Hits</td><td>0.99</td></tr>",
                            "<tr><td>1714</td><td>Believe</td><td>Greatest Hits</td><td>0.99</td></tr>",
                            "<tr><td>1723</td><td>Condição</td><td>Lulu Santos - RCA 100 Anos De Música - Álbum 01</td><td>0.99</td></tr>",
                            "<tr><td>1732</td><td>Aquilo</td><td>Lulu Santos - RCA 100 Anos De Música - Álbum 02</td><td>0.99</td></tr>",
                            "<tr><td>1741</td><td>Assaltaram A Gramática</td><td>Lulu Santos - RCA 100 Anos De Música - Álbum 02</td><td>0.99</td></tr>",
                            "<tr><td>1750</td><td>Waterhole (Expresso Bongo)</td><td>Misplaced Childhood</td><td>0.99</td></tr>",
                            "<tr><td>1759</td><td>Tempos Modernos</td><td>Barulhinho Bom</td><td>0.99</td></tr>",
                            "<tr><td>1768</td><td>Dança Da Solidão</td><td>Barulhinho Bom</td><td>0.99</td></tr>",
                            "<tr><td>1777</td><td>When I Had Your Love</td><td>Seek And Shall Find: More Of The Best (1963-1981)</td><td>0.99</td></tr>",
                            "<tr><td>1804</td><td>The Unforgiven</td><td>Black Album</td><td>0.99</td></tr>",
                            "<tr><td>1813</td><td>Helpless</td><td>Garage Inc. (Disc 2)</td><td>0.99</td></tr>",
                            "<tr><td>1840</td><td>2 X 4</td><td>Load</td><td>0.99</td></tr>",
                            "<tr><td>1854</td><td>Master Of Puppets</td><td>Master Of Puppets</td><td>0.99</td></tr>",
                            "<tr><td>1855</td><td>The Thing That Should Not Be</td><td>Master Of Puppets</td><td>0.99</td></tr>",
                            "<tr><td>1856</td><td>Welcome Home (Sanitarium)</td><td>Master Of Puppets</td><td>0.99</td></tr>",
                            "<tr><td>1860</td><td>Damage Inc.</td><td>Master Of Puppets</td><td>0.99</td></tr>",
                            "<tr><td>1862</td><td>The Memory Remains</td><td>ReLoad</td><td>0.99</td></tr>",
                            "<tr><td>1866</td><td>Slither</td><td>ReLoad</td><td>0.99</td></tr>",
                            "<tr><td>1868</td><td>Bad Seed</td><td>ReLoad</td><td>0.99</td></tr>",
                            "<tr><td>1872</td><td>Attitude</td><td>ReLoad</td><td>0.99</td></tr>",
                            "<tr><td>1880</td><td>Creeping Death</td><td>Ride The Lightning</td><td>0.99</td></tr>",
                            "<tr><td>1884</td><td>Some Kind Of Monster</td><td>St. Anger</td><td>0.99</td></tr>",
                            "<tr><td>1892</td><td>All Within My Hands</td><td>St. Anger</td><td>0.99</td></tr>",
                            "<tr><td>1898</td><td>Harvester Of Sorrow</td><td>...And Justice For All</td><td>0.99</td></tr>",
                            "<tr><td>1910</td><td>Lament</td><td>Miles Ahead</td><td>0.99</td></tr>",
                            "<tr><td>1916</td><td>Coração De Estudante</td><td>Milton Nascimento Ao Vivo</td><td>0.99</td></tr>",
                            "<tr><td>1928</td><td>Maria, Maria</td><td>Milton Nascimento Ao Vivo</td><td>0.99</td></tr>",
                            "<tr><td>1934</td><td>Ponta de Areia</td><td>Minas</td><td>0.99</td></tr>",
                            "<tr><td>1946</td><td>Fast And Loose</td><td>Ace Of Spades</td><td>0.99</td></tr>",
                            "<tr><td>1955</td><td>Please Don&#39;t Touch</td><td>Ace Of Spades</td><td>0.99</td></tr>",
                            "<tr><td>1964</td><td>Já Foi</td><td>Demorou...</td><td>0.99</td></tr>",
                            "<tr><td>1973</td><td>Wild Side</td><td>Motley Crue Greatest Hits</td><td>0.99</td></tr>",
                            "<tr><td>1982</td><td>Primal Scream</td><td>Motley Crue Greatest Hits</td><td>0.99</td></tr>",
                            "<tr><td>1991</td><td>Been A Son</td><td>From The Muddy Banks Of The Wishkah [Live]</td><td>0.99</td></tr>",
                            "<tr><td>2000</td><td>Breed</td><td>From The Muddy Banks Of The Wishkah [Live]</td><td>0.99</td></tr>",
                            "<tr><td>2009</td><td>Territorial Pissings</td><td>Nevermind</td><td>0.99</td></tr>",
                            "<tr><td>2036</td><td>Denúncia</td><td>Olodum</td><td>0.99</td></tr>",
                            "<tr><td>2045</td><td>O Trem Da Juventude</td><td>Acústico MTV</td><td>0.99</td></tr>",
                            "<tr><td>2072</td><td>Luis Inacio (300 Picaretas)</td><td>Arquivo II</td><td>0.99</td></tr>",
                            "<tr><td>2086</td><td>Perplexo</td><td>Arquivo Os Paralamas Do Sucesso</td><td>0.99</td></tr>",
                            "<tr><td>2087</td><td>Me Liga</td><td>Arquivo Os Paralamas Do Sucesso</td><td>0.99</td></tr>",
                            "<tr><td>2088</td><td>Quase Um Segundo</td><td>Arquivo Os Paralamas Do Sucesso</td><td>0.99</td></tr>",
                            "<tr><td>2092</td><td>SKA</td><td>Arquivo Os Paralamas Do Sucesso</td><td>0.99</td></tr>",
                            "<tr><td>2094</td><td>I Don&#39;t Know</td><td>Blizzard of Ozz</td><td>0.99</td></tr>",
                            "<tr><td>2098</td><td>No More Tears</td><td>No More Tears (Remastered)</td><td>0.99</td></tr>",
                            "<tr><td>2100</td><td>Crazy Train</td><td>Tribute</td><td>0.99</td></tr>",
                            "<tr><td>2104</td><td>Relvelation (Mother Earth)</td><td>Tribute</td><td>0.99</td></tr>",
                            "<tr><td>2112</td><td>Dee</td><td>Tribute</td><td>0.99</td></tr>",
                            "<tr><td>2116</td><td>Blue Train</td><td>Walking Into Clarksdale</td><td>0.99</td></tr>",
                            "<tr><td>2124</td><td>Sons Of Freedom</td><td>Walking Into Clarksdale</td><td>0.99</td></tr>",
                            "<tr><td>2130</td><td>Beach Sequence</td><td>Original Soundtracks 1</td><td>0.99</td></tr>",
                            "<tr><td>2142</td><td>Murders In The Rue Morgue</td><td>The Beast Live</td><td>0.99</td></tr>",
                            "<tr><td>2148</td><td>Iron Maiden</td><td>The Beast Live</td><td>0.99</td></tr>",
                            "<tr><td>2160</td><td>Nothingman</td><td>Live On Two Legs [Live]</td><td>0.99</td></tr>",
                            "<tr><td>2166</td><td>World Wide Suicide</td><td>Pearl Jam</td><td>0.99</td></tr>",
                            "<tr><td>2178</td><td>Can&#39;t Keep</td><td>Riot Act</td><td>0.99</td></tr>",
                            "<tr><td>2187</td><td>Green Disease</td><td>Riot Act</td><td>0.99</td></tr>",
                            "<tr><td>2196</td><td>Why Go</td><td>Ten</td><td>0.99</td></tr>",
                            "<tr><td>2205</td><td>Animal</td><td>Vs.</td><td>0.99</td></tr>",
                            "<tr><td>2214</td><td>Leash</td><td>Vs.</td><td>0.99</td></tr>",
                            "<tr><td>2223</td><td>Wanted Dread And Alive</td><td>Greatest Hits</td><td>0.99</td></tr>",
                            "<tr><td>2232</td><td>The Great Gig In The Sky</td><td>Dark Side Of The Moon</td><td>0.99</td></tr>",
                            "<tr><td>2241</td><td>Bossa</td><td>Os Cães Ladram Mas A Caravana Não Pára</td><td>0.99</td></tr>",
                            "<tr><td>2268</td><td>Seven Seas Of Rhye</td><td>Greatest Hits I</td><td>0.99</td></tr>",
                            "<tr><td>2277</td><td>Get Down, Make Love</td><td>News Of The World</td><td>0.99</td></tr>",
                            "<tr><td>2304</td><td>Be Mine</td><td>New Adventures In Hi-Fi</td><td>0.99</td></tr>",
                            "<tr><td>2318</td><td>Carnival Of Sorts</td><td>The Best Of R.E.M.: The IRS Years</td><td>0.99</td></tr>",
                            "<tr><td>2319</td><td>Radio Free Aurope</td><td>The Best Of R.E.M.: The IRS Years</td><td>0.99</td></tr>",
                            "<tr><td>2320</td><td>Perfect Circle</td><td>The Best Of R.E.M.: The IRS Years</td><td>0.99</td></tr>",
                            "<tr><td>2324</td><td>Pretty Persuasion</td><td>The Best Of R.E.M.: The IRS Years</td><td>0.99</td></tr>",
                            "<tr><td>2326</td><td>Can&#39;t Get There From Here</td><td>The Best Of R.E.M.: The IRS Years</td><td>0.99</td></tr>",
                            "<tr><td>2330</td><td>Cuyahoga</td><td>The Best Of R.E.M.: The IRS Years</td><td>0.99</td></tr>",
                            "<tr><td>2332</td><td>The Finest Worksong</td><td>The Best Of R.E.M.: The IRS Years</td><td>0.99</td></tr>",
                            "<tr><td>2336</td><td>Papeau Nuky Doe</td><td>Cesta Básica</td><td>0.99</td></tr>",
                            "<tr><td>2344</td><td>Maluco Beleza</td><td>Raul Seixas</td><td>0.99</td></tr>",
                            "<tr><td>2348</td><td>As Profecias</td><td>Raul Seixas</td><td>0.99</td></tr>",
                            "<tr><td>2356</td><td>Século XXI</td><td>Raul Seixas</td><td>0.99</td></tr>",
                            "<tr><td>2362</td><td>Suck My Kiss</td><td>Blood Sugar Sex Magik</td><td>0.99</td></tr>",
                            "<tr><td>2374</td><td>They&#39;re Red Hot</td><td>Blood Sugar Sex Magik</td><td>0.99</td></tr>",
                            "<tr><td>2380</td><td>The Zephyr Song</td><td>By The Way</td><td>0.99</td></tr>",
                            "<tr><td>2392</td><td>Parallel Universe</td><td>Californication</td><td>0.99</td></tr>",
                            "<tr><td>2398</td><td>Porcelain</td><td>Californication</td><td>0.99</td></tr>",
                            "<tr><td>2410</td><td>Xanadu</td><td>Retrospective I (1974-1980)</td><td>0.99</td></tr>",
                            "<tr><td>2419</td><td>Finding My Way</td><td>Retrospective I (1974-1980)</td><td>0.99</td></tr>",
                            "<tr><td>2428</td><td>Evil Ways</td><td>Santana Live</td><td>0.99</td></tr>",
                            "<tr><td>2437</td><td>It&#39;s Only Love</td><td>Greatest Hits</td><td>0.99</td></tr>",
                            "<tr><td>2446</td><td>So Beautiful</td><td>Greatest Hits</td><td>0.99</td></tr>",
                            "<tr><td>2455</td><td>Maquinarama</td><td>Maquinarama</td><td>0.99</td></tr>",
                            "<tr><td>2464</td><td>Garota Nacional</td><td>O Samba Poconé</td><td>0.99</td></tr>",
                            "<tr><td>2473</td><td>Aeroplane Flies High</td><td>Judas 0: B-Sides and Rarities</td><td>0.99</td></tr>",
                            "<tr><td>2500</td><td>Ava Adore</td><td>Rotten Apples: Greatest Hits</td><td>0.99</td></tr>",
                            "<tr><td>2509</td><td>Hands All Over</td><td>A-Sides</td><td>0.99</td></tr>",
                            "<tr><td>2536</td><td>Leave My Girl Alone</td><td>In Step</td><td>0.99</td></tr>",
                            "<tr><td>2550</td><td>Plush</td><td>Core</td><td>0.99</td></tr>",
                            "<tr><td>2551</td><td>Wet My Bed</td><td>Core</td><td>0.99</td></tr>",
                            "<tr><td>2552</td><td>Crackerman</td><td>Core</td><td>0.99</td></tr>",
                            "<tr><td>2556</td><td>Revenga</td><td>Mezmerize</td><td>0.99</td></tr>",
                            "<tr><td>2558</td><td>Radio/Video</td><td>Mezmerize</td><td>0.99</td></tr>",
                            "<tr><td>2562</td><td>Sad Statue</td><td>Mezmerize</td><td>0.99</td></tr>",
                            "<tr><td>2564</td><td>Lost in Hollywood</td><td>Mezmerize</td><td>0.99</td></tr>",
                            "<tr><td>2568</td><td>Black Light Syndrome</td><td>[1997] Black Light Syndrome</td><td>0.99</td></tr>",
                            "<tr><td>2576</td><td>Sometimes Salvation</td><td>Live [Disc 1]</td><td>0.99</td></tr>",
                            "<tr><td>2580</td><td>Girl From A Pawnshop</td><td>Live [Disc 1]</td><td>0.99</td></tr>",
                            "<tr><td>2588</td><td>Soul Singing</td><td>Live [Disc 2]</td><td>0.99</td></tr>",
                            "<tr><td>2594</td><td>Clash City Rockers</td><td>The Singles</td><td>0.99</td></tr>",
                            "<tr><td>2606</td><td>Know Your Rights</td><td>The Singles</td><td>0.99</td></tr>",
                            "<tr><td>2612</td><td>Take The Power</td><td>Beyond Good And Evil</td><td>0.99</td></tr>",
                            "<tr><td>2624</td><td>Spirit Walker</td><td>Pure Cult: The Best Of The Cult (For Rockers, Ravers, Lovers &amp; Sinners) [UK]</td><td>0.99</td></tr>",
                            "<tr><td>2630</td><td>Edie (Ciao Baby)</td><td>Pure Cult: The Best Of The Cult (For Rockers, Ravers, Lovers &amp; Sinners) [UK]</td><td>0.99</td></tr>",
                            "<tr><td>2642</td><td>Twentienth Century Fox</td><td>The Doors</td><td>0.99</td></tr>",
                            "<tr><td>2651</td><td>Can&#39;t Stand Losing You</td><td>The Police Greatest Hits</td><td>0.99</td></tr>",
                            "<tr><td>2660</td><td>King Of Pain</td><td>The Police Greatest Hits</td><td>0.99</td></tr>",
                            "<tr><td>2669</td><td>Get Off Of My Cloud</td><td>Hot Rocks, 1964-1971 (Disc 1)</td><td>0.99</td></tr>",
                            "<tr><td>2678</td><td>Gimmie Shelters</td><td>No Security</td><td>0.99</td></tr>",
                            "<tr><td>2687</td><td>Thief In The Night</td><td>No Security</td><td>0.99</td></tr>",
                            "<tr><td>2696</td><td>Out Of Tears</td><td>Voodoo Lounge</td><td>0.99</td></tr>",
                            "<tr><td>2705</td><td>Walking Wounded</td><td>Tangents</td><td>0.99</td></tr>",
                            "<tr><td>2732</td><td>Anyway, Anyhow, Anywhere</td><td>My Generation - The Very Best Of The Who</td><td>0.99</td></tr>",
                            "<tr><td>2741</td><td>Pinball Wizard</td><td>My Generation - The Very Best Of The Who</td><td>0.99</td></tr>",
                            "<tr><td>2768</td><td>Você</td><td>Serie Sem Limite (Disc 2)</td><td>0.99</td></tr>",
                            "<tr><td>2782</td><td>Go Back</td><td>Acústico</td><td>0.99</td></tr>",
                            "<tr><td>2783</td><td>Prá Dizer Adeus</td><td>Acústico</td><td>0.99</td></tr>",
                            "<tr><td>2784</td><td>Família</td><td>Acústico</td><td>0.99</td></tr>",
                            "<tr><td>2788</td><td>Nem 5 Minutos Guardados</td><td>Acústico</td><td>0.99</td></tr>",
                            "<tr><td>2790</td><td>Palavras</td><td>Acústico</td><td>0.99</td></tr>",
                            "<tr><td>2794</td><td>32 Dentes</td><td>Acústico</td><td>0.99</td></tr>",
                            "<tr><td>2796</td><td>Não Vou Lutar</td><td>Acústico</td><td>0.99</td></tr>",
                            "<tr><td>2800</td><td>Querem Meu Sangue</td><td>Acústico</td><td>0.99</td></tr>",
                            "<tr><td>2808</td><td>Domingo</td><td>Volume Dois</td><td>0.99</td></tr>",
                            "<tr><td>2812</td><td>Era Uma Vez</td><td>Volume Dois</td><td>0.99</td></tr>",
                            "<tr><td>2928</td><td>One</td><td>Achtung Baby</td><td>0.99</td></tr>",
                            "<tr><td>2937</td><td>Love Is Blindness</td><td>Achtung Baby</td><td>0.99</td></tr>",
                            "<tr><td>2964</td><td>Vertigo</td><td>How To Dismantle An Atomic Bomb</td><td>0.99</td></tr>",
                            "<tr><td>2973</td><td>Original Of The Species</td><td>How To Dismantle An Atomic Bomb</td><td>0.99</td></tr>",
                            "<tr><td>3000</td><td>God Part II</td><td>Rattle And Hum</td><td>0.99</td></tr>",
                            "<tr><td>3014</td><td>Desire</td><td>The Best Of 1980-1990</td><td>0.99</td></tr>",
                            "<tr><td>3015</td><td>When Love Comes To Town</td><td>The Best Of 1980-1990</td><td>0.99</td></tr>",
                            "<tr><td>3016</td><td>Angel Of Harlem</td><td>The Best Of 1980-1990</td><td>0.99</td></tr>",
                            "<tr><td>3020</td><td>New Year&#39;s Day</td><td>War</td><td>0.99</td></tr>",
                            "<tr><td>3022</td><td>Drowning Man</td><td>War</td><td>0.99</td></tr>",
                            "<tr><td>3026</td><td>Surrender</td><td>War</td><td>0.99</td></tr>",
                            "<tr><td>3028</td><td>Zooropa</td><td>Zooropa</td><td>0.99</td></tr>",
                            "<tr><td>3032</td><td>Stay (Faraway, So Close!)</td><td>Zooropa</td><td>0.99</td></tr>",
                            "<tr><td>3040</td><td>I Would Do For You</td><td>UB40 The Best Of - Volume Two [UK]</td><td>0.99</td></tr>",
                            "<tr><td>3044</td><td>Wear You To The Ball</td><td>UB40 The Best Of - Volume Two [UK]</td><td>0.99</td></tr>",
                            "<tr><td>3052</td><td>Where Have All The Good Times Gone?</td><td>Diver Down</td><td>0.99</td></tr>",
                            "<tr><td>3058</td><td>Dancing In The Street</td><td>Diver Down</td><td>0.99</td></tr>",
                            "<tr><td>3070</td><td>Jump</td><td>The Best Of Van Halen, Vol. I</td><td>0.99</td></tr>",
                            "<tr><td>3076</td><td>Right Now</td><td>The Best Of Van Halen, Vol. I</td><td>0.99</td></tr>",
                            "<tr><td>3088</td><td>Feel Your Love Tonight</td><td>Van Halen</td><td>0.99</td></tr>",
                            "<tr><td>3094</td><td>One I Want</td><td>Van Halen III</td><td>0.99</td></tr>",
                            "<tr><td>3106</td><td>Big Machine</td><td>Contraband</td><td>0.99</td></tr>",
                            "<tr><td>3115</td><td>Dirty Little Thing</td><td>Contraband</td><td>0.99</td></tr>",
                            "<tr><td>3124</td><td>So Por Amor</td><td>Vinicius De Moraes</td><td>0.99</td></tr>",
                            "<tr><td>3133</td><td>Here I Go Again</td><td>Greatest Hits</td><td>0.99</td></tr>",
                            "<tr><td>3142</td><td>The Deeper The Love</td><td>Greatest Hits</td><td>0.99</td></tr>",
                            "<tr><td>3151</td><td>Seu Balancê</td><td>Ao Vivo [IMPORT]</td><td>0.99</td></tr>",
                            "<tr><td>3160</td><td>Sapopemba e Maxambomba</td><td>Ao Vivo [IMPORT]</td><td>0.99</td></tr>",
                            "<tr><td>3254</td><td>#9 Dream</td><td>Instant Karma: The Amnesty International Campaign to Save Darfur</td><td>0.99</td></tr>",
                            "<tr><td>3258</td><td>Whatever Gets You Thru the Night</td><td>Instant Karma: The Amnesty International Campaign to Save Darfur</td><td>0.99</td></tr>",
                            "<tr><td>3260</td><td>Gimme Some Truth</td><td>Instant Karma: The Amnesty International Campaign to Save Darfur</td><td>0.99</td></tr>",
                            "<tr><td>3264</td><td>Jealous Guy</td><td>Instant Karma: The Amnesty International Campaign to Save Darfur</td><td>0.99</td></tr>",
                            "<tr><td>3272</td><td>Gimme Some Truth</td><td>Instant Karma: The Amnesty International Campaign to Save Darfur</td><td>0.99</td></tr>",
                            "<tr><td>3276</td><td>Sympton of the Universe</td><td>Speak of the Devil</td><td>0.99</td></tr>",
                            "<tr><td>3284</td><td>Never Say Die</td><td>Speak of the Devil</td><td>0.99</td></tr>",
                            "<tr><td>3290</td><td>The Zoo</td><td>20th Century Masters - The Millennium Collection: The Best of Scorpions</td><td>0.99</td></tr>",
                            "<tr><td>3296</td><td>I Can&#39;t Explain</td><td>20th Century Masters - The Millennium Collection: The Best of Scorpions</td><td>0.99</td></tr>",
                            "<tr><td>3302</td><td>Put Your Head Out</td><td>House of Pain</td><td>0.99</td></tr>",
                            "<tr><td>3308</td><td>Danny Boy, Danny Boy</td><td>House of Pain</td><td>0.99</td></tr>",
                            "<tr><td>3314</td><td>One For The Road</td><td>House of Pain</td><td>0.99</td></tr>",
                            "<tr><td>3320</td><td>Chapa o Coco</td><td>Radio Brasil (O Som da Jovem Vanguarda) - Seleccao de Henrique Amaro</td><td>0.99</td></tr>",
                            "<tr><td>3326</td><td>Todo o Carnaval tem seu Fim</td><td>Radio Brasil (O Som da Jovem Vanguarda) - Seleccao de Henrique Amaro</td><td>0.99</td></tr>",
                            "<tr><td>3332</td><td>Funk de Bamba</td><td>Radio Brasil (O Som da Jovem Vanguarda) - Seleccao de Henrique Amaro</td><td>0.99</td></tr>",
                            "<tr><td>3356</td><td>Muita Bobeira</td><td>Duos II</td><td>0.99</td></tr>",
                            "<tr><td>3365</td><td>Say Hello 2 Heaven</td><td>Temple of the Dog</td><td>0.99</td></tr>",
                            "<tr><td>3374</td><td>All Night Thing</td><td>Temple of the Dog</td><td>0.99</td></tr>",
                            "<tr><td>3383</td><td>Scar On the Sky</td><td>Carry On</td><td>0.99</td></tr>",
                            "<tr><td>3392</td><td>Until We Fall</td><td>Revelations</td><td>0.99</td></tr>",
                            "<tr><td>3401</td><td>Show Me How to Live (Live at the Quart Festival)</td><td>Revelations</td><td>0.99</td></tr>",
                            "<tr><td>3410</td><td>The Messiah: Behold, I Tell You a Mystery... The Trumpet Shall Sound</td><td>Handel: The Messiah (Highlights)</td><td>0.99</td></tr>",
                            "<tr><td>3419</td><td>Requiem, Op.48: 4. Pie Jesu</td><td>Fauré: Requiem, Ravel: Pavane &amp; Others</td><td>0.99</td></tr>",
                            "<tr><td>3437</td><td>Piano Sonata No. 14 in C Sharp Minor, Op. 27, No. 2, &quot;Moonlight&quot;: I. Adagio sostenuto</td><td>Beethoven Piano Sonatas: Moonlight &amp; Pastorale</td><td>0.99</td></tr>",
                            "<tr><td>3464</td><td>He Can Only Hold Her</td><td>Back to Black</td><td>0.99</td></tr>",
                            "<tr><td>3478</td><td>Slowness</td><td>Carried to Dust (Bonus Track Version)</td><td>0.99</td></tr>",
                            "<tr><td>3479</td><td>Prometheus Overture, Op. 43</td><td>Beethoven: Symphony No. 6 &#39;Pastoral&#39; Etc.</td><td>0.99</td></tr>",
                            "<tr><td>3480</td><td>Sonata for Solo Violin: IV: Presto</td><td>Bartok: Violin &amp; Viola Concertos</td><td>0.99</td></tr>",
                            "<tr><td>3484</td><td>Adios nonino</td><td>South American Getaway</td><td>0.99</td></tr>",
                            "<tr><td>3486</td><td>Act IV, Symphony</td><td>Purcell: The Fairy Queen</td><td>0.99</td></tr>",
                            "<tr><td>3490</td><td>Partita in E Major, BWV 1006A: I. Prelude</td><td>J.S. Bach: Chaconne, Suite in E Minor, Partita in E Major &amp; Prelude, Fugue and Allegro</td><td>0.99</td></tr>",
                            "<tr><td>3492</td><td>Sing Joyfully</td><td>English Renaissance</td><td>0.99</td></tr>",
                            "<tr><td>3496</td><td>Étude 1, In C Major - Preludio (Presto) - Liszt</td><td>Liszt - 12 Études D&#39;Execution Transcendante</td><td>0.99</td></tr>",
                            "<tr><td>1</td><td>For Those About To Rock (We Salute You)</td><td>For Those About To Rock We Salute You</td><td>0.99</td></tr>",
                            "<tr><td>5</td><td>Princess of the Dawn</td><td>Restless and Wild</td><td>0.99</td></tr>",
                            "<tr><td>13</td><td>Night Of The Long Knives</td><td>For Those About To Rock We Salute You</td><td>0.99</td></tr>",
                            "<tr><td>19</td><td>Problem Child</td><td>Let There Be Rock</td><td>0.99</td></tr>",
                            "<tr><td>25</td><td>Rag Doll</td><td>Big Ones</td><td>0.99</td></tr>",
                            "<tr><td>31</td><td>Blind Man</td><td>Big Ones</td><td>0.99</td></tr>",
                            "<tr><td>37</td><td>Livin&#39; On The Edge</td><td>Big Ones</td><td>0.99</td></tr>",
                            "<tr><td>43</td><td>Forgiven</td><td>Jagged Little Pill</td><td>0.99</td></tr>",
                            "<tr><td>49</td><td>Wake Up</td><td>Jagged Little Pill</td><td>0.99</td></tr>",
                            "<tr><td>55</td><td>I Can&#39;t Remember</td><td>Facelift</td><td>0.99</td></tr>",
                            "<tr><td>61</td><td>I Know Somethin (Bout You)</td><td>Facelift</td><td>0.99</td></tr>",
                            "<tr><td>67</td><td>Ligia</td><td>Warner 25 Anos</td><td>0.99</td></tr>",
                            "<tr><td>76</td><td>Canta, Canta Mais</td><td>Warner 25 Anos</td><td>0.99</td></tr>",
                            "<tr><td>85</td><td>Cochise</td><td>Audioslave</td><td>0.99</td></tr>",
                            "<tr><td>94</td><td>Hypnotize</td><td>Audioslave</td><td>0.99</td></tr>",
                            "<tr><td>103</td><td>Drown Me Slowly</td><td>Out Of Exile</td><td>0.99</td></tr>",
                            "<tr><td>112</td><td>Long Tall Sally</td><td>BackBeat Soundtrack</td><td>0.99</td></tr>",
                            "<tr><td>121</td><td>Good Golly Miss Molly</td><td>BackBeat Soundtrack</td><td>0.99</td></tr>",
                            "<tr><td>130</td><td>Do what cha wanna</td><td>The Best Of Billy Cobham</td><td>0.99</td></tr>",
                            "<tr><td>139</td><td>A.N.D.R.O.T.A.Z.</td><td>Alcohol Fueled Brewtality Live! [Disc 1]</td><td>0.99</td></tr>",
                            "<tr><td>148</td><td>The Beginning...At Last</td><td>Alcohol Fueled Brewtality Live! [Disc 2]</td><td>0.99</td></tr>",
                            "<tr><td>157</td><td>Tomorrow&#39;s Dream</td><td>Black Sabbath Vol. 4 (Remaster)</td><td>0.99</td></tr>",
                            "<tr><td>166</td><td>Smoked Pork</td><td>Body Count</td><td>0.99</td></tr>",
                            "<tr><td>193</td><td>Realword</td><td>Chemical Wedding</td><td>0.99</td></tr>",
                            "<tr><td>208</td><td>Terra</td><td>Prenda Minha</td><td>0.99</td></tr>",
                            "<tr><td>209</td><td>Eclipse Oculto</td><td>Prenda Minha</td><td>0.99</td></tr>",
                            "<tr><td>213</td><td>Saudosismo</td><td>Prenda Minha</td><td>0.99</td></tr>",
                            "<tr><td>215</td><td>Sozinho</td><td>Prenda Minha</td><td>0.99</td></tr>",
                            "<tr><td>219</td><td>Odara</td><td>Prenda Minha</td><td>0.99</td></tr>",
                            "<tr><td>221</td><td>Atrás Da Verd-E-Rosa Só Não Vai Quem Já Morreu</td><td>Prenda Minha</td><td>0.99</td></tr>",
                            "<tr><td>225</td><td>Sozinho (Caêdrum &#39;n&#39; Bass)</td><td>Sozinho Remix Ao Vivo</td><td>0.99</td></tr>",
                            "<tr><td>233</td><td>O Que Será (À Flor Da Terra)</td><td>Minha Historia</td><td>0.99</td></tr>",
                            "<tr><td>237</td><td>Minha Historia</td><td>Minha Historia</td><td>0.99</td></tr>",
                            "<tr><td>245</td><td>Construção / Deus Lhe Pague</td><td>Minha Historia</td><td>0.99</td></tr>",
                            "<tr><td>251</td><td>Um Passeio No Mundo Livre</td><td>Afrociberdelia</td><td>0.99</td></tr>",
                            "<tr><td>257</td><td>Manguetown</td><td>Afrociberdelia</td><td>0.99</td></tr>",
                            "<tr><td>263</td><td>Criança De Domingo</td><td>Afrociberdelia</td><td>0.99</td></tr>",
                            "<tr><td>269</td><td>Banditismo Por Uma Questa</td><td>Da Lama Ao Caos</td><td>0.99</td></tr>",
                            "<tr><td>275</td><td>Da Lama Ao Caos</td><td>Da Lama Ao Caos</td><td>0.99</td></tr>",
                            "<tr><td>281</td><td>Computadores Fazem Arte</td><td>Da Lama Ao Caos</td><td>0.99</td></tr>",
                            "<tr><td>287</td><td>Extra</td><td>Acústico MTV [Live]</td><td>0.99</td></tr>",
                            "<tr><td>293</td><td>Onde Você Mora?</td><td>Acústico MTV [Live]</td><td>0.99</td></tr>",
                            "<tr><td>299</td><td>Onde Você Mora?</td><td>Cidade Negra - Hits</td><td>0.99</td></tr>",
                            "<tr><td>308</td><td>Na Frente Da TV</td><td>Cidade Negra - Hits</td><td>0.99</td></tr>",
                            "<tr><td>317</td><td>Amor Demais</td><td>Na Pista</td><td>0.99</td></tr>",
                            "<tr><td>326</td><td>Tapa Aqui, Descobre Ali</td><td>Axé Bahia 2001</td><td>0.99</td></tr>",
                            "<tr><td>335</td><td>My Love</td><td>Axé Bahia 2001</td><td>0.99</td></tr>",
                            "<tr><td>344</td><td>Travelling Riverside Blues</td><td>BBC Sessions [Disc 1] [Live]</td><td>0.99</td></tr>",
                            "<tr><td>353</td><td>Sam With The Showing Scalp Flat Top</td><td>Bongo Fury</td><td>0.99</td></tr>",
                            "<tr><td>362</td><td>Gavioes 2001</td><td>Carnaval 2001</td><td>0.99</td></tr>",
                            "<tr><td>371</td><td>Morro Da Casa Verde 2001</td><td>Carnaval 2001</td><td>0.99</td></tr>",
                            "<tr><td>380</td><td>Samba da Bençaco</td><td>Chill: Brazil (Disc 1)</td><td>0.99</td></tr>",
                            "<tr><td>389</td><td>Maria Fumaça</td><td>Chill: Brazil (Disc 1)</td><td>0.99</td></tr>",
                            "<tr><td>398</td><td>Only A Dream In Rio</td><td>Chill: Brazil (Disc 2)</td><td>0.99</td></tr>",
                            "<tr><td>425</td><td>It&#39;s A Hard Life</td><td>Greatest Hits II</td><td>0.99</td></tr>",
                            "<tr><td>440</td><td>Love Gun</td><td>Greatest Kiss</td><td>0.99</td></tr>",
                            "<tr><td>441</td><td>Deuce</td><td>Greatest Kiss</td><td>0.99</td></tr>",
                            "<tr><td>445</td><td>She</td><td>Greatest Kiss</td><td>0.99</td></tr>",
                            "<tr><td>447</td><td>Shout It Out Loud</td><td>Greatest Kiss</td><td>0.99</td></tr>",
                            "<tr><td>451</td><td>Strutter</td><td>Greatest Kiss</td><td>0.99</td></tr>",
                            "<tr><td>453</td><td>Cold Gin</td><td>Greatest Kiss</td><td>0.99</td></tr>",
                            "<tr><td>457</td><td>De La Luz</td><td>Heart of the Night</td><td>0.99</td></tr>",
                            "<tr><td>465</td><td>When Evening Falls</td><td>Heart of the Night</td><td>0.99</td></tr>",
                            "<tr><td>469</td><td>Poprocks And Coke</td><td>International Superhits</td><td>0.99</td></tr>",
                            "<tr><td>477</td><td>Brain Stew</td><td>International Superhits</td><td>0.99</td></tr>",
                            "<tr><td>483</td><td>Redundant</td><td>International Superhits</td><td>0.99</td></tr>",
                            "<tr><td>489</td><td>Into The Light</td><td>Into The Light</td><td>0.99</td></tr>",
                            "<tr><td>495</td><td>Cry For Love</td><td>Into The Light</td><td>0.99</td></tr>",
                            "<tr><td>501</td><td>Grito De Alerta</td><td>Meus Momentos</td><td>0.99</td></tr>",
                            "<tr><td>507</td><td>Lindo Lago Do Amor</td><td>Meus Momentos</td><td>0.99</td></tr>",
                            "<tr><td>513</td><td>Ponto De Interrogação</td><td>Meus Momentos</td><td>0.99</td></tr>",
                            "<tr><td>519</td><td>Voce Nao Entende Nada - Cotidiano</td><td>Minha Historia</td><td>0.99</td></tr>",
                            "<tr><td>525</td><td>O Leaozinho</td><td>Minha Historia</td><td>0.99</td></tr>",
                            "<tr><td>531</td><td>Top Top</td><td>Minha História</td><td>0.99</td></tr>",
                            "<tr><td>540</td><td>Posso Perder Minha Mulher, Minha Mãe, Desde Que Eu Tenha O Rock And Roll</td><td>Minha História</td><td>0.99</td></tr>",
                            "<tr><td>549</td><td>You Fool No One</td><td>MK III The Final Concerts [Disc 1]</td><td>0.99</td></tr>",
                            "<tr><td>558</td><td>Viradouro</td><td>Sambas De Enredo 2001</td><td>0.99</td></tr>",
                            "<tr><td>567</td><td>Tradição</td><td>Sambas De Enredo 2001</td><td>0.99</td></tr>",
                            "<tr><td>576</td><td>Maria Maria</td><td>Supernatural</td><td>0.99</td></tr>",
                            "<tr><td>585</td><td>Entre E Ouça</td><td>The Best of Ed Motta</td><td>0.99</td></tr>",
                            "<tr><td>594</td><td>Agora Que O Dia Acordou</td><td>The Best of Ed Motta</td><td>0.99</td></tr>",
                            "<tr><td>603</td><td>Bye Bye Blackbird</td><td>The Essential Miles Davis [Disc 1]</td><td>0.99</td></tr>",
                            "<tr><td>612</td><td>Nefertiti</td><td>The Essential Miles Davis [Disc 2]</td><td>0.99</td></tr>",
                            "<tr><td>621</td><td>Going Down / Highway Star</td><td>The Final Concerts (Disc 2)</td><td>0.99</td></tr>",
                            "<tr><td>630</td><td>Boogie Blues</td><td>Up An&#39; Atom</td><td>0.99</td></tr>",
                            "<tr><td>657</td><td>Deixa</td><td>Vinícius De Moraes - Sem Limite</td><td>0.99</td></tr>",
                            "<tr><td>672</td><td>Wave (Os Cariocas)</td><td>Vozes do MPB</td><td>0.99</td></tr>",
                            "<tr><td>673</td><td>Garota de Ipanema (Dick Farney)</td><td>Vozes do MPB</td><td>0.99</td></tr>",
                            "<tr><td>677</td><td>Proud Mary</td><td>Chronicle, Vol. 1</td><td>0.99</td></tr>",
                            "<tr><td>679</td><td>Lodi</td><td>Chronicle, Vol. 1</td><td>0.99</td></tr>",
                            "<tr><td>683</td><td>Fortunate Son</td><td>Chronicle, Vol. 1</td><td>0.99</td></tr>",
                            "<tr><td>685</td><td>Who&#39;ll Stop The Rain</td><td>Chronicle, Vol. 1</td><td>0.99</td></tr>",
                            "<tr><td>689</td><td>Long As I Can See The Light</td><td>Chronicle, Vol. 1</td><td>0.99</td></tr>",
                            "<tr><td>697</td><td>Born On The Bayou</td><td>Chronicle, Vol. 2</td><td>0.99</td></tr>",
                            "<tr><td>701</td><td>Night Time Is The Right Time</td><td>Chronicle, Vol. 2</td><td>0.99</td></tr>",
                            "<tr><td>709</td><td>(Wish I Could) Hideaway</td><td>Chronicle, Vol. 2</td><td>0.99</td></tr>",
                            "<tr><td>715</td><td>Gatas Extraordinárias</td><td>Cássia Eller - Coleção Sem Limite [Disc 2]</td><td>0.99</td></tr>",
                            "<tr><td>721</td><td>Você Passa, Eu Acho Graça (Ao Vivo)</td><td>Cássia Eller - Coleção Sem Limite [Disc 2]</td><td>0.99</td></tr>",
                            "<tr><td>727</td><td>Não Sei O Que Eu Quero Da Vida</td><td>Cássia Eller - Coleção Sem Limite [Disc 2]</td><td>0.99</td></tr>",
                            "<tr><td>733</td><td>E.C.T.</td><td>Cássia Eller - Sem Limite [Disc 1]</td><td>0.99</td></tr>",
                            "<tr><td>739</td><td>Eleanor Rigby</td><td>Cássia Eller - Sem Limite [Disc 1]</td><td>0.99</td></tr>",
                            "<tr><td>745</td><td>Comin&#39; Home</td><td>Come Taste The Band</td><td>0.99</td></tr>",
                            "<tr><td>751</td><td>Love Child</td><td>Come Taste The Band</td><td>0.99</td></tr>",
                            "<tr><td>757</td><td>Flight Of The Rat</td><td>Deep Purple In Rock</td><td>0.99</td></tr>",
                            "<tr><td>763</td><td>Strange Kind Of Woman</td><td>Fireball</td><td>0.99</td></tr>",
                            "<tr><td>772</td><td>Black Night</td><td>Knocking at Your Back Door: The Best Of Deep Purple in the 80&#39;s</td><td>0.99</td></tr>",
                            "<tr><td>781</td><td>Pictures Of Home</td><td>Machine Head</td><td>0.99</td></tr>",
                            "<tr><td>790</td><td>Cascades : I&#39;m Not Your Lover</td><td>Purpendicular</td><td>0.99</td></tr>",
                            "<tr><td>799</td><td>The Cut Runs Deep</td><td>Slaves And Masters</td><td>0.99</td></tr>",
                            "<tr><td>808</td><td>Love Don&#39;t Mean a Thing</td><td>Stormbringer</td><td>0.99</td></tr>",
                            "<tr><td>817</td><td>Lick It Up</td><td>The Battle Rages On</td><td>0.99</td></tr>",
                            "<tr><td>826</td><td>Pour Some Sugar On Me</td><td>Vault: Def Leppard&#39;s Greatest Hits</td><td>0.99</td></tr>",
                            "<tr><td>835</td><td>Action</td><td>Vault: Def Leppard&#39;s Greatest Hits</td><td>0.99</td></tr>",
                            "<tr><td>844</td><td>Groovus Interruptus</td><td>Outbreak</td><td>0.99</td></tr>",
                            "<tr><td>853</td><td>Cigano</td><td>Djavan Ao Vivo - Vol. 02</td><td>0.99</td></tr>",
                            "<tr><td>862</td><td>Acelerou</td><td>Djavan Ao Vivo - Vol. 02</td><td>0.99</td></tr>",
                            "<tr><td>889</td><td>Maria Rosa</td><td>Elis Regina-Minha História</td><td>0.99</td></tr>",
                            "<tr><td>904</td><td>Knockin On Heavens Door</td><td>The Cream Of Clapton</td><td>0.99</td></tr>",
                            "<tr><td>905</td><td>Wonderful Tonight</td><td>The Cream Of Clapton</td><td>0.99</td></tr>",
                            "<tr><td>909</td><td>Signe</td><td>Unplugged</td><td>0.99</td></tr>",
                            "<tr><td>911</td><td>Hey Hey</td><td>Unplugged</td><td>0.99</td></tr>",
                            "<tr><td>915</td><td>Layla</td><td>Unplugged</td><td>0.99</td></tr>",
                            "<tr><td>917</td><td>Walkin&#39; Blues</td><td>Unplugged</td><td>0.99</td></tr>",
                            "<tr><td>921</td><td>Old Love</td><td>Unplugged</td><td>0.99</td></tr>",
                            "<tr><td>929</td><td>Ashes To Ashes</td><td>Album Of The Year</td><td>0.99</td></tr>",
                            "<tr><td>933</td><td>Home Sick Home</td><td>Album Of The Year</td><td>0.99</td></tr>",
                            "<tr><td>941</td><td>Malpractice</td><td>Angel Dust</td><td>0.99</td></tr>",
                            "<tr><td>947</td><td>Midnight Cowboy</td><td>Angel Dust</td><td>0.99</td></tr>",
                            "<tr><td>953</td><td>Star A.D.</td><td>King For A Day Fool For A Lifetime</td><td>0.99</td></tr>",
                            "<tr><td>959</td><td>King For A Day</td><td>King For A Day Fool For A Lifetime</td><td>0.99</td></tr>",
                            "<tr><td>965</td><td>Epic</td><td>The Real Thing</td><td>0.99</td></tr>",
                            "<tr><td>971</td><td>The Morning After</td><td>The Real Thing</td><td>0.99</td></tr>",
                            "<tr><td>977</td><td>Xote Dos Milagres</td><td>Deixa Entrar</td><td>0.99</td></tr>",
                            "<tr><td>983</td><td>Principiando/Decolagem</td><td>Deixa Entrar</td><td>0.99</td></tr>",
                            "<tr><td>989</td><td>In Your Honor</td><td>In Your Honor [Disc 1]</td><td>0.99</td></tr>",
                            "<tr><td>995</td><td>Free Me</td><td>In Your Honor [Disc 1]</td><td>0.99</td></tr>",
                            "<tr><td>1004</td><td>Over And Out</td><td>In Your Honor [Disc 2]</td><td>0.99</td></tr>",
                            "<tr><td>1013</td><td>Disenchanted Lullaby</td><td>One By One</td><td>0.99</td></tr>",
                            "<tr><td>1022</td><td>Hey, Johnny Park!</td><td>The Colour And The Shape</td><td>0.99</td></tr>",
                            "<tr><td>1031</td><td>Walking After You</td><td>The Colour And The Shape</td><td>0.99</td></tr>",
                            "<tr><td>1040</td><td>Summer Love</td><td>My Way: The Best Of Frank Sinatra [Disc 1]</td><td>0.99</td></tr>",
                            "<tr><td>1049</td><td>Come Fly With Me</td><td>My Way: The Best Of Frank Sinatra [Disc 1]</td><td>0.99</td></tr>",
                            "<tr><td>1058</td><td>Nervosa</td><td>Roda De Funk</td><td>0.99</td></tr>",
                            "<tr><td>1067</td><td>Meu Guarda-Chuva</td><td>Roda De Funk</td><td>0.99</td></tr>",
                            "<tr><td>1076</td><td>Juazeiro</td><td>As Canções de Eu Tu Eles</td><td>0.99</td></tr>",
                            "<tr><td>1085</td><td>Lamento Sertanejo</td><td>As Canções de Eu Tu Eles</td><td>0.99</td></tr>",
                            "<tr><td>1094</td><td>Estrela (Live)</td><td>Quanta Gente Veio Ver (Live)</td><td>0.99</td></tr>",
                            "<tr><td>1121</td><td>Straight Out Of Line</td><td>Faceless</td><td>0.99</td></tr>",
                            "<tr><td>1136</td><td>Boulevard Of Broken Dreams</td><td>American Idiot</td><td>0.99</td></tr>",
                            "<tr><td>1137</td><td>Are We The Waiting</td><td>American Idiot</td><td>0.99</td></tr>",
                            "<tr><td>1141</td><td>Extraordinary Girl</td><td>American Idiot</td><td>0.99</td></tr>",
                            "<tr><td>1143</td><td>Wake Me Up When September Ends</td><td>American Idiot</td><td>0.99</td></tr>",
                            "<tr><td>1147</td><td>It&#39;s So Easy</td><td>Appetite for Destruction</td><td>0.99</td></tr>",
                            "<tr><td>1149</td><td>Out Ta Get Me</td><td>Appetite for Destruction</td><td>0.99</td></tr>",
                            "<tr><td>1153</td><td>Think About You</td><td>Appetite for Destruction</td><td>0.99</td></tr>",
                            "<tr><td>1161</td><td>Don&#39;t Cry (Original)</td><td>Use Your Illusion I</td><td>0.99</td></tr>",
                            "<tr><td>1165</td><td>Back off Bitch</td><td>Use Your Illusion I</td><td>0.99</td></tr>",
                            "<tr><td>1173</td><td>Coma</td><td>Use Your Illusion I</td><td>0.99</td></tr>",
                            "<tr><td>1179</td><td>Shotgun Blues</td><td>Use Your Illusion II</td><td>0.99</td></tr>",
                            "<tr><td>1185</td><td>You Could Be Mine</td><td>Use Your Illusion II</td><td>0.99</td></tr>",
                            "<tr><td>1191</td><td>Deep Waters</td><td>Blue Moods</td><td>0.99</td></tr>",
                            "<tr><td>1197</td><td>Thinking &#39;Bout Tomorrow</td><td>Blue Moods</td><td>0.99</td></tr>",
                            "<tr><td>1203</td><td>Brighter Than a Thousand Suns</td><td>A Matter of Life and Death</td><td>0.99</td></tr>",
                            "<tr><td>1209</td><td>Lord of Light</td><td>A Matter of Life and Death</td><td>0.99</td></tr>",
                            "<tr><td>1215</td><td>Transylvania</td><td>A Real Dead One</td><td>0.99</td></tr>",
                            "<tr><td>1221</td><td>2 Minutes To Midnight</td><td>A Real Dead One</td><td>0.99</td></tr>",
                            "<tr><td>1227</td><td>Wasting Love</td><td>A Real Live One</td><td>0.99</td></tr>",
                            "<tr><td>1236</td><td>Ghost Of The Navigator</td><td>Brave New World</td><td>0.99</td></tr>",
                            "<tr><td>1245</td><td>Wildest Dreams</td><td>Dance Of Death</td><td>0.99</td></tr>",
                            "<tr><td>1254</td><td>Age Of Innocence</td><td>Dance Of Death</td><td>0.99</td></tr>",
                            "<tr><td>1263</td><td>Chains Of Misery</td><td>Fear Of The Dark</td><td>0.99</td></tr>",
                            "<tr><td>1272</td><td>05 - Phantom of the Opera</td><td>Iron Maiden</td><td>0.99</td></tr>",
                            "<tr><td>1281</td><td>Genghis Khan</td><td>Killers</td><td>0.99</td></tr>",
                            "<tr><td>1290</td><td>The Trooper</td><td>Live After Death</td><td>0.99</td></tr>",
                            "<tr><td>1299</td><td>Running Free</td><td>Live After Death</td><td>0.99</td></tr>",
                            "<tr><td>1308</td><td>From Here To Eternity</td><td>Live At Donington 1992 (Disc 1)</td><td>0.99</td></tr>",
                            "<tr><td>1317</td><td>Heaven Can Wait</td><td>Live At Donington 1992 (Disc 2)</td><td>0.99</td></tr>",
                            "<tr><td>1326</td><td>Holy Smoke</td><td>No Prayer For The Dying</td><td>0.99</td></tr>",
                            "<tr><td>1353</td><td>The Wicker Man</td><td>Rock In Rio [CD1]</td><td>0.99</td></tr>",
                            "<tr><td>1368</td><td>Hallowed Be Thy Name</td><td>Rock In Rio [CD2]</td><td>0.99</td></tr>",
                            "<tr><td>1369</td><td>Sanctuary</td><td>Rock In Rio [CD2]</td><td>0.99</td></tr>",
                            "<tr><td>1373</td><td>Can I Play With Madness</td><td>Seventh Son of a Seventh Son</td><td>0.99</td></tr>",
                            "<tr><td>1375</td><td>Seventh Son of a Seventh Son</td><td>Seventh Son of a Seventh Son</td><td>0.99</td></tr>",
                            "<tr><td>1379</td><td>Caught Somewhere in Time</td><td>Somewhere in Time</td><td>0.99</td></tr>",
                            "<tr><td>1381</td><td>Sea of Madness</td><td>Somewhere in Time</td><td>0.99</td></tr>",
                            "<tr><td>1385</td><td>De Ja Vu</td><td>Somewhere in Time</td><td>0.99</td></tr>",
                            "<tr><td>1393</td><td>The Number Of The Beast</td><td>The Number of The Beast</td><td>0.99</td></tr>",
                            "<tr><td>1397</td><td>Man On The Edge</td><td>The X Factor</td><td>0.99</td></tr>",
                            "<tr><td>1405</td><td>The Unbeliever</td><td>The X Factor</td><td>0.99</td></tr>",
                            "<tr><td>1411</td><td>The Educated Fool</td><td>Virtual XI</td><td>0.99</td></tr>",
                            "<tr><td>1417</td><td>Out Of Sight</td><td>Sex Machine</td><td>0.99</td></tr>",
                            "<tr><td>1423</td><td>Get Up (I Feel Like Being A) Sex Machine</td><td>Sex Machine</td><td>0.99</td></tr>",
                            "<tr><td>1429</td><td>It&#39;s Too Funky In Here</td><td>Sex Machine</td><td>0.99</td></tr>",
                            "<tr><td>1435</td><td>Too Young To Die</td><td>Emergency On Planet Earth</td><td>0.99</td></tr>",
                            "<tr><td>1441</td><td>Blow Your Mind</td><td>Emergency On Planet Earth</td><td>0.99</td></tr>",
                            "<tr><td>1447</td><td>Soul Education</td><td>Synkronized</td><td>0.99</td></tr>",
                            "<tr><td>1453</td><td>King For A Day</td><td>Synkronized</td><td>0.99</td></tr>",
                            "<tr><td>1459</td><td>Manifest Destiny</td><td>The Return Of The Space Cowboy</td><td>0.99</td></tr>",
                            "<tr><td>1468</td><td>Rollover D.J.</td><td>Get Born</td><td>0.99</td></tr>",
                            "<tr><td>1477</td><td>Lazy Gun</td><td>Get Born</td><td>0.99</td></tr>",
                            "<tr><td>1486</td><td>Fire</td><td>Are You Experienced?</td><td>0.99</td></tr>",
                            "<tr><td>1495</td><td>Highway Chile</td><td>Are You Experienced?</td><td>0.99</td></tr>",
                            "<tr><td>1504</td><td>Midnight</td><td>Surfing with the Alien (Remastered)</td><td>0.99</td></tr>",
                            "<tr><td>1513</td><td>Charles Anjo 45</td><td>Jorge Ben Jor 25 Anos</td><td>0.99</td></tr>",
                            "<tr><td>1522</td><td>Vou Pra Ai</td><td>Jota Quest-1995</td><td>0.99</td></tr>",
                            "<tr><td>1531</td><td>Onibusfobia</td><td>Jota Quest-1995</td><td>0.99</td></tr>",
                            "<tr><td>1540</td><td>Papelão</td><td>Cafezinho</td><td>0.99</td></tr>",
                            "<tr><td>1549</td><td>Hot Rockin&#39;</td><td>Living After Midnight</td><td>0.99</td></tr>",
                            "<tr><td>1558</td><td>Ram It Down</td><td>Living After Midnight</td><td>0.99</td></tr>",
                            "<tr><td>1585</td><td>Whole Lotta Love (Medley)</td><td>BBC Sessions [Disc 2] [Live]</td><td>0.99</td></tr>",
                            "<tr><td>1600</td><td>D&#39;Yer Mak&#39;er</td><td>Houses Of The Holy</td><td>0.99</td></tr>",
                            "<tr><td>1601</td><td>No Quarter</td><td>Houses Of The Holy</td><td>0.99</td></tr>",
                            "<tr><td>1605</td><td>Fool In The Rain</td><td>In Through The Out Door</td><td>0.99</td></tr>",
                            "<tr><td>1607</td><td>Carouselambra</td><td>In Through The Out Door</td><td>0.99</td></tr>",
                            "<tr><td>1611</td><td>Rock &amp; Roll</td><td>IV</td><td>0.99</td></tr>",
                            "<tr><td>1613</td><td>Stairway To Heaven</td><td>IV</td><td>0.99</td></tr>",
                            "<tr><td>1617</td><td>When The Levee Breaks</td><td>IV</td><td>0.99</td></tr>",
                            "<tr><td>1625</td><td>I Can&#39;t Quit You Baby</td><td>Led Zeppelin I</td><td>0.99</td></tr>",
                            "<tr><td>1629</td><td>The Lemon Song</td><td>Led Zeppelin II</td><td>0.99</td></tr>",
                            "<tr><td>1637</td><td>Friends</td><td>Led Zeppelin III</td><td>0.99</td></tr>",
                            "<tr><td>1643</td><td>That&#39;s The Way</td><td>Led Zeppelin III</td><td>0.99</td></tr>",
                            "<tr><td>1649</td><td>Ten Years Gone</td><td>Physical Graffiti [Disc 2]</td><td>0.99</td></tr>",
                            "<tr><td>1655</td><td>Achilles Last Stand</td><td>Presence</td><td>0.99</td></tr>",
                            "<tr><td>1661</td><td>Tea For One</td><td>Presence</td><td>0.99</td></tr>",
                            "<tr><td>1667</td><td>No Quarter</td><td>The Song Remains The Same (Disc 2)</td><td>0.99</td></tr>",
                            "<tr><td>1673</td><td>Música De Trabalho</td><td>A TempestadeTempestade Ou O Livro Dos Dias</td><td>0.99</td></tr>",
                            "<tr><td>1679</td><td>Dezesseis</td><td>A TempestadeTempestade Ou O Livro Dos Dias</td><td>0.99</td></tr>",
                            "<tr><td>1685</td><td>O Livro Dos Dias</td><td>A TempestadeTempestade Ou O Livro Dos Dias</td><td>0.99</td></tr>",
                            "<tr><td>1691</td><td>Indios</td><td>Mais Do Mesmo</td><td>0.99</td></tr>",
                            "<tr><td>1700</td><td>Dezesseis</td><td>Mais Do Mesmo</td><td>0.99</td></tr>",
                            "<tr><td>1709</td><td>American Woman</td><td>Greatest Hits</td><td>0.99</td></tr>",
                            "<tr><td>1718</td><td>Honolulu</td><td>Lulu Santos - RCA 100 Anos De Música - Álbum 02</td><td>0.99</td></tr>",
                            "<tr><td>1727</td><td>Brumário</td><td>Lulu Santos - RCA 100 Anos De Música - Álbum 01</td><td>0.99</td></tr>",
                            "<tr><td>1736</td><td>Tudo Bem</td><td>Lulu Santos - RCA 100 Anos De Música - Álbum 01</td><td>0.99</td></tr>",
                            "<tr><td>1745</td><td>Pseudo Silk Kimono</td><td>Misplaced Childhood</td><td>0.99</td></tr>",
                            "<tr><td>1754</td><td>White Feather</td><td>Misplaced Childhood</td><td>0.99</td></tr>",
                            "<tr><td>1763</td><td>De Noite Na Cama</td><td>Barulhinho Bom</td><td>0.99</td></tr>",
                            "<tr><td>1772</td><td>O Xote Das Meninas</td><td>Barulhinho Bom</td><td>0.99</td></tr>",
                            "<tr><td>1781</td><td>Seek And You Shall Find</td><td>Seek And Shall Find: More Of The Best (1963-1981)</td><td>0.99</td></tr>",
                            "<tr><td>1790</td><td>Heavy Love Affair</td><td>Seek And Shall Find: More Of The Best (1963-1981)</td><td>0.99</td></tr>",
                            "<tr><td>1817</td><td>Last Caress/Green Hell</td><td>Garage Inc. (Disc 2)</td><td>0.99</td></tr>",
                            "<tr><td>1832</td><td>Jump In The Fire</td><td>Kill &#39;Em All</td><td>0.99</td></tr>",
                            "<tr><td>1833</td><td>(Anesthesia) Pulling Teeth</td><td>Kill &#39;Em All</td><td>0.99</td></tr>",
                            "<tr><td>1837</td><td>Seek &amp; Destroy</td><td>Kill &#39;Em All</td><td>0.99</td></tr>",
                            "<tr><td>1839</td><td>Ain&#39;t My Bitch</td><td>Load</td><td>0.99</td></tr>",
                            "<tr><td>1843</td><td>King Nothing</td><td>Load</td><td>0.99</td></tr>",
                            "<tr><td>1845</td><td>Bleeding Me</td><td>Load</td><td>0.99</td></tr>",
                            "<tr><td>1849</td><td>Mama Said</td><td>Load</td><td>0.99</td></tr>",
                            "<tr><td>1857</td><td>Disposable Heroes</td><td>Master Of Puppets</td><td>0.99</td></tr>",
                            "<tr><td>1861</td><td>Fuel</td><td>ReLoad</td><td>0.99</td></tr>",
                            "<tr><td>1869</td><td>Where The Wild Things Are</td><td>ReLoad</td><td>0.99</td></tr>",
                            "<tr><td>1875</td><td>Ride The Lightning</td><td>Ride The Lightning</td><td>0.99</td></tr>",
                            "<tr><td>1881</td><td>The Call Of Ktulu</td><td>Ride The Lightning</td><td>0.99</td></tr>",
                            "<tr><td>1887</td><td>My World</td><td>St. Anger</td><td>0.99</td></tr>",
                            "<tr><td>1893</td><td>Blackened</td><td>...And Justice For All</td><td>0.99</td></tr>",
                            "<tr><td>1899</td><td>The Frayed Ends Of Sanity</td><td>...And Justice For All</td><td>0.99</td></tr>",
                            "<tr><td>1905</td><td>My Ship</td><td>Miles Ahead</td><td>0.99</td></tr>",
                            "<tr><td>1911</td><td>I Don&#39;t Wanna Be Kissed (By Anyone But You)</td><td>Miles Ahead</td><td>0.99</td></tr>",
                            "<tr><td>1917</td><td>A Noite Do Meu Bem</td><td>Milton Nascimento Ao Vivo</td><td>0.99</td></tr>",
                            "<tr><td>1923</td><td>Brasil</td><td>Milton Nascimento Ao Vivo</td><td>0.99</td></tr>",
                            "<tr><td>1932</td><td>Saudade Dos Aviões Da Panair (Conversando No Bar)</td><td>Minas</td><td>0.99</td></tr>",
                            "<tr><td>1941</td><td>Caso Você Queira Saber</td><td>Minas</td><td>0.99</td></tr>",
                            "<tr><td>1950</td><td>Dance</td><td>Ace Of Spades</td><td>0.99</td></tr>",
                            "<tr><td>1959</td><td>Aos Leões</td><td>Demorou...</td><td>0.99</td></tr>",
                            "<tr><td>1968</td><td>Demorou!</td><td>Demorou...</td><td>0.99</td></tr>",
                            "<tr><td>1977</td><td>Home Sweet Home</td><td>Motley Crue Greatest Hits</td><td>0.99</td></tr>",
                            "<tr><td>1986</td><td>Intro</td><td>From The Muddy Banks Of The Wishkah [Live]</td><td>0.99</td></tr>",
                            "<tr><td>1995</td><td>Scentless Apprentice</td><td>From The Muddy Banks Of The Wishkah [Live]</td><td>0.99</td></tr>",
                            "<tr><td>2004</td><td>In Bloom</td><td>Nevermind</td><td>0.99</td></tr>",
                            "<tr><td>2013</td><td>On A Plain</td><td>Nevermind</td><td>0.99</td></tr>",
                            "<tr><td>2022</td><td>Mundaréu</td><td>Compositores</td><td>0.99</td></tr>",
                            "<tr><td>2049</td><td>Vai Valer</td><td>Acústico MTV</td><td>0.99</td></tr>",
                            "<tr><td>2064</td><td>Caleidoscópio</td><td>Acústico MTV</td><td>0.99</td></tr>",
                            "<tr><td>2065</td><td>Trac Trac</td><td>Arquivo II</td><td>0.99</td></tr>",
                            "<tr><td>2069</td><td>La Bella Luna</td><td>Arquivo II</td><td>0.99</td></tr>",
                            "<tr><td>2071</td><td>Uma Brasileira</td><td>Arquivo II</td><td>0.99</td></tr>",
                            "<tr><td>2075</td><td>O Amor Nao Sabe Esperar</td><td>Arquivo II</td><td>0.99</td></tr>",
                            "<tr><td>2077</td><td>Caleidoscópio</td><td>Arquivo Os Paralamas Do Sucesso</td><td>0.99</td></tr>",
                            "<tr><td>2081</td><td>Lanterna Dos Afogados</td><td>Arquivo Os Paralamas Do Sucesso</td><td>0.99</td></tr>",
                            "<tr><td>2089</td><td>Selvagem</td><td>Arquivo Os Paralamas Do Sucesso</td><td>0.99</td></tr>",
                            "<tr><td>2093</td><td>Bark at the Moon</td><td>Bark at the Moon (Remastered)</td><td>0.99</td></tr>",
                            "<tr><td>2101</td><td>Believer</td><td>Tribute</td><td>0.99</td></tr>",
                            "<tr><td>2107</td><td>Iron Man</td><td>Tribute</td><td>0.99</td></tr>",
                            "<tr><td>2113</td><td>Shining In The Light</td><td>Walking Into Clarksdale</td><td>0.99</td></tr>",
                            "<tr><td>2119</td><td>Heart In Your Hand</td><td>Walking Into Clarksdale</td><td>0.99</td></tr>",
                            "<tr><td>2125</td><td>United Colours</td><td>Original Soundtracks 1</td><td>0.99</td></tr>",
                            "<tr><td>2131</td><td>Miss Sarajevo</td><td>Original Soundtracks 1</td><td>0.99</td></tr>",
                            "<tr><td>2137</td><td>Theme From The Swan</td><td>Original Soundtracks 1</td><td>0.99</td></tr>",
                            "<tr><td>2143</td><td>Women In Uniform</td><td>The Beast Live</td><td>0.99</td></tr>",
                            "<tr><td>2149</td><td>Corduroy</td><td>Live On Two Legs [Live]</td><td>0.99</td></tr>",
                            "<tr><td>2155</td><td>MFC</td><td>Live On Two Legs [Live]</td><td>0.99</td></tr>",
                            "<tr><td>2164</td><td>F*Ckin&#39; Up</td><td>Live On Two Legs [Live]</td><td>0.99</td></tr>",
                            "<tr><td>2173</td><td>Gone</td><td>Pearl Jam</td><td>0.99</td></tr>",
                            "<tr><td>2182</td><td>Ghost</td><td>Riot Act</td><td>0.99</td></tr>",
                            "<tr><td>2191</td><td>Arc</td><td>Riot Act</td><td>0.99</td></tr>",
                            "<tr><td>2200</td><td>Porch</td><td>Ten</td><td>0.99</td></tr>",
                            "<tr><td>2209</td><td>W.M.A.</td><td>Vs.</td><td>0.99</td></tr>",
                            "<tr><td>2218</td><td>Jah Seh No</td><td>Greatest Hits</td><td>0.99</td></tr>",
                            "<tr><td>2227</td><td>Crystal Ball</td><td>Greatest Hits</td><td>0.99</td></tr>",
                            "<tr><td>2236</td><td>Brain Damage</td><td>Dark Side Of The Moon</td><td>0.99</td></tr>",
                            "<tr><td>2245</td><td>O Bicho Tá Pregando</td><td>Os Cães Ladram Mas A Caravana Não Pára</td><td>0.99</td></tr>",
                            "<tr><td>2254</td><td>Bohemian Rhapsody</td><td>Greatest Hits I</td><td>0.99</td></tr>",
                            "<tr><td>2281</td><td>My Melancholy Blues</td><td>News Of The World</td><td>0.99</td></tr>",
                            "<tr><td>2296</td><td>How The West Was Won And Where It Got Us</td><td>New Adventures In Hi-Fi</td><td>0.99</td></tr>",
                            "<tr><td>2297</td><td>The Wake-Up Bomb</td><td>New Adventures In Hi-Fi</td><td>0.99</td></tr>",
                            "<tr><td>2301</td><td>Leave</td><td>New Adventures In Hi-Fi</td><td>0.99</td></tr>",
                            "<tr><td>2303</td><td>Bittersweet Me</td><td>New Adventures In Hi-Fi</td><td>0.99</td></tr>",
                            "<tr><td>2307</td><td>So Fast, So Numb</td><td>New Adventures In Hi-Fi</td><td>0.99</td></tr>",
                            "<tr><td>2309</td><td>Electrolite</td><td>New Adventures In Hi-Fi</td><td>0.99</td></tr>",
                            "<tr><td>2313</td><td>Endgame</td><td>Out Of Time</td><td>0.99</td></tr>",
                            "<tr><td>2321</td><td>Talk About The Passion</td><td>The Best Of R.E.M.: The IRS Years</td><td>0.99</td></tr>",
                            "<tr><td>2325</td><td>Green Grow The Rushes</td><td>The Best Of R.E.M.: The IRS Years</td><td>0.99</td></tr>",
                            "<tr><td>2333</td><td>It&#39;s The End Of The World As We Know It (And I Feel Fine)</td><td>The Best Of R.E.M.: The IRS Years</td><td>0.99</td></tr>",
                            "<tr><td>2339</td><td>Puteiro Em João Pessoa</td><td>Cesta Básica</td><td>0.99</td></tr>",
                            "<tr><td>2345</td><td>O Dia Em Que A Terra Parou</td><td>Raul Seixas</td><td>0.99</td></tr>",
                            "<tr><td>2351</td><td>Todo Mundo Explica</td><td>Raul Seixas</td><td>0.99</td></tr>",
                            "<tr><td>2357</td><td>Rock Das Aranhas (Ao Vivo) (Live)</td><td>Raul Seixas</td><td>0.99</td></tr>",
                            "<tr><td>2363</td><td>I Could Have Lied</td><td>Blood Sugar Sex Magik</td><td>0.99</td></tr>",
                            "<tr><td>2369</td><td>Naked In The Rain</td><td>Blood Sugar Sex Magik</td><td>0.99</td></tr>",
                            "<tr><td>2375</td><td>By The Way</td><td>By The Way</td><td>0.99</td></tr>",
                            "<tr><td>2381</td><td>Can&#39;t Stop</td><td>By The Way</td><td>0.99</td></tr>",
                            "<tr><td>2387</td><td>On Mercury</td><td>By The Way</td><td>0.99</td></tr>",
                            "<tr><td>2396</td><td>Californication</td><td>Californication</td><td>0.99</td></tr>",
                            "<tr><td>2405</td><td>Road Trippin&#39;</td><td>Californication</td><td>0.99</td></tr>",
                            "<tr><td>2414</td><td>Closer To The Heart</td><td>Retrospective I (1974-1980)</td><td>0.99</td></tr>",
                            "<tr><td>2423</td><td>Persuasion</td><td>Santana - As Years Go By</td><td>0.99</td></tr>",
                            "<tr><td>2432</td><td>Funky Piano</td><td>Santana Live</td><td>0.99</td></tr>",
                            "<tr><td>2441</td><td>Stars</td><td>Greatest Hits</td><td>0.99</td></tr>",
                            "<tr><td>2450</td><td>Três Lados</td><td>Maquinarama</td><td>0.99</td></tr>",
                            "<tr><td>2459</td><td>Ali</td><td>Maquinarama</td><td>0.99</td></tr>",
                            "<tr><td>2468</td><td>Um Dia Qualquer</td><td>O Samba Poconé</td><td>0.99</td></tr>",
                            "<tr><td>2477</td><td>My Mistake</td><td>Judas 0: B-Sides and Rarities</td><td>0.99</td></tr>",
                            "<tr><td>2486</td><td>Soot &amp; Stars</td><td>Judas 0: B-Sides and Rarities</td><td>0.99</td></tr>",
                            "<tr><td>2513</td><td>Rusty Cage</td><td>A-Sides</td><td>0.99</td></tr>",
                            "<tr><td>2528</td><td>Heliopolis</td><td>Morning Dance</td><td>0.99</td></tr>",
                            "<tr><td>2529</td><td>It Doesn&#39;t Matter</td><td>Morning Dance</td><td>0.99</td></tr>",
                            "<tr><td>2533</td><td>Crossfire</td><td>In Step</td><td>0.99</td></tr>",
                            "<tr><td>2535</td><td>Let Me Love You Baby</td><td>In Step</td><td>0.99</td></tr>",
                            "<tr><td>2539</td><td>Scratch-N-Sniff</td><td>In Step</td><td>0.99</td></tr>",
                            "<tr><td>2541</td><td>Riviera Paradise</td><td>In Step</td><td>0.99</td></tr>",
                            "<tr><td>2545</td><td>No Memory</td><td>Core</td><td>0.99</td></tr>",
                            "<tr><td>2553</td><td>Where The River Goes</td><td>Core</td><td>0.99</td></tr>",
                            "<tr><td>2557</td><td>Cigaro</td><td>Mezmerize</td><td>0.99</td></tr>",
                            "<tr><td>2565</td><td>The Sun Road</td><td>[1997] Black Light Syndrome</td><td>0.99</td></tr>",
                            "<tr><td>2571</td><td>Chaos-Control</td><td>[1997] Black Light Syndrome</td><td>0.99</td></tr>",
                            "<tr><td>2577</td><td>Cursed Diamonds</td><td>Live [Disc 1]</td><td>0.99</td></tr>",
                            "<tr><td>2583</td><td>High Head Blues</td><td>Live [Disc 2]</td><td>0.99</td></tr>",
                            "<tr><td>2589</td><td>Hard To Handle</td><td>Live [Disc 2]</td><td>0.99</td></tr>",
                            "<tr><td>2595</td><td>(White Man) In Hammersmith Palais</td><td>The Singles</td><td>0.99</td></tr>",
                            "<tr><td>2601</td><td>Bankrobber</td><td>The Singles</td><td>0.99</td></tr>",
                            "<tr><td>2607</td><td>Rock The Casbah</td><td>The Singles</td><td>0.99</td></tr>",
                            "<tr><td>2613</td><td>Breathe</td><td>Beyond Good And Evil</td><td>0.99</td></tr>",
                            "<tr><td>2619</td><td>True Believers</td><td>Beyond Good And Evil</td><td>0.99</td></tr>",
                            "<tr><td>2628</td><td>Love Removal Machine</td><td>Pure Cult: The Best Of The Cult (For Rockers, Ravers, Lovers &amp; Sinners) [UK]</td><td>0.99</td></tr>",
                            "<tr><td>2637</td><td>Sweet Soul Sister</td><td>Pure Cult: The Best Of The Cult (For Rockers, Ravers, Lovers &amp; Sinners) [UK]</td><td>0.99</td></tr>",
                            "<tr><td>2646</td><td>I Looked At You</td><td>The Doors</td><td>0.99</td></tr>",
                            "<tr><td>2655</td><td>De Do Do Do, De Da Da Da</td><td>The Police Greatest Hits</td><td>0.99</td></tr>",
                            "<tr><td>2664</td><td>Time Is On My Side</td><td>Hot Rocks, 1964-1971 (Disc 1)</td><td>0.99</td></tr>",
                            "<tr><td>2673</td><td>Under My Thumb</td><td>Hot Rocks, 1964-1971 (Disc 1)</td><td>0.99</td></tr>",
                            "<tr><td>2682</td><td>Saint Of Me</td><td>No Security</td><td>0.99</td></tr>",
                            "<tr><td>2691</td><td>You Got Me Rocking</td><td>Voodoo Lounge</td><td>0.99</td></tr>",
                            "<tr><td>2700</td><td>Suck On The Jugular</td><td>Voodoo Lounge</td><td>0.99</td></tr>",
                            "<tr><td>2709</td><td>Sister Awake</td><td>Tangents</td><td>0.99</td></tr>",
                            "<tr><td>2718</td><td>Life Line</td><td>Tangents</td><td>0.99</td></tr>",
                            "<tr><td>2745</td><td>Let&#39;s See Action</td><td>My Generation - The Very Best Of The Who</td><td>0.99</td></tr>",
                            "<tr><td>2760</td><td>Salve Nossa Senhora</td><td>Serie Sem Limite (Disc 1)</td><td>0.99</td></tr>",
                            "<tr><td>2761</td><td>Você Fugiu</td><td>Serie Sem Limite (Disc 1)</td><td>0.99</td></tr>",
                            "<tr><td>2765</td><td>Réu Confesso</td><td>Serie Sem Limite (Disc 1)</td><td>0.99</td></tr>",
                            "<tr><td>2767</td><td>Gostava Tanto De Você</td><td>Serie Sem Limite (Disc 2)</td><td>0.99</td></tr>",
                            "<tr><td>2771</td><td>A Festa Do Santo Reis</td><td>Serie Sem Limite (Disc 2)</td><td>0.99</td></tr>",
                            "<tr><td>2773</td><td>Padre Cícero</td><td>Serie Sem Limite (Disc 2)</td><td>0.99</td></tr>",
                            "<tr><td>2777</td><td>Balanço</td><td>Serie Sem Limite (Disc 2)</td><td>0.99</td></tr>",
                            "<tr><td>2785</td><td>Os Cegos Do Castelo</td><td>Acústico</td><td>0.99</td></tr>",
                            "<tr><td>2789</td><td>Flores</td><td>Acústico</td><td>0.99</td></tr>",
                            "<tr><td>2797</td><td>Homem Primata (Vinheta)</td><td>Acústico</td><td>0.99</td></tr>",
                            "<tr><td>2803</td><td>Sonifera Ilha</td><td>Volume Dois</td><td>0.99</td></tr>",
                            "<tr><td>2809</td><td>Amanhã Não Se Sabe</td><td>Volume Dois</td><td>0.99</td></tr>",
                            "<tr><td>2815</td><td>Eu E Ela</td><td>Volume Dois</td><td>0.99</td></tr>",
                            "<tr><td>2932</td><td>The Fly</td><td>Achtung Baby</td><td>0.99</td></tr>",
                            "<tr><td>2941</td><td>Walk On</td><td>All That You Can&#39;t Leave Behind</td><td>0.99</td></tr>",
                            "<tr><td>2950</td><td>Spanish Eyes</td><td>B-Sides 1980-1990</td><td>0.99</td></tr>",
                            "<tr><td>2977</td><td>Mofo</td><td>Pop</td><td>0.99</td></tr>",
                            "<tr><td>2992</td><td>I Still Haven&#39;t Found What I&#39;m Looking for</td><td>Rattle And Hum</td><td>0.99</td></tr>",
                            "<tr><td>2993</td><td>Freedom For My People</td><td>Rattle And Hum</td><td>0.99</td></tr>",
                            "<tr><td>2997</td><td>Love Rescue Me</td><td>Rattle And Hum</td><td>0.99</td></tr>",
                            "<tr><td>2999</td><td>Heartland</td><td>Rattle And Hum</td><td>0.99</td></tr>",
                            "<tr><td>3003</td><td>All I Want Is You</td><td>Rattle And Hum</td><td>0.99</td></tr>",
                            "<tr><td>3005</td><td>New Year&#39;s Day</td><td>The Best Of 1980-1990</td><td>0.99</td></tr>",
                            "<tr><td>3009</td><td>Bad</td><td>The Best Of 1980-1990</td><td>0.99</td></tr>",
                            "<tr><td>3017</td><td>All I Want Is You</td><td>The Best Of 1980-1990</td><td>0.99</td></tr>",
                            "<tr><td>3021</td><td>Like A Song...</td><td>War</td><td>0.99</td></tr>",
                            "<tr><td>3029</td><td>Babyface</td><td>Zooropa</td><td>0.99</td></tr>",
                            "<tr><td>3035</td><td>The First Time</td><td>Zooropa</td><td>0.99</td></tr>",
                            "<tr><td>3041</td><td>Homely Girl</td><td>UB40 The Best Of - Volume Two [UK]</td><td>0.99</td></tr>",
                            "<tr><td>3047</td><td>Bring Me Your Cup</td><td>UB40 The Best Of - Volume Two [UK]</td><td>0.99</td></tr>",
                            "<tr><td>3053</td><td>Hang &#39;Em High</td><td>Diver Down</td><td>0.99</td></tr>",
                            "<tr><td>3059</td><td>Little Guitars (Intro)</td><td>Diver Down</td><td>0.99</td></tr>",
                            "<tr><td>3065</td><td>Ain&#39;t Talkin&#39; &#39;bout Love</td><td>The Best Of Van Halen, Vol. I</td><td>0.99</td></tr>",
                            "<tr><td>3071</td><td>Panama</td><td>The Best Of Van Halen, Vol. I</td><td>0.99</td></tr>",
                            "<tr><td>3077</td><td>Can&#39;t Stop Loving You</td><td>The Best Of Van Halen, Vol. I</td><td>0.99</td></tr>",
                            "<tr><td>3083</td><td>You Really Got Me</td><td>Van Halen</td><td>0.99</td></tr>",
                            "<tr><td>3092</td><td>Neworld</td><td>Van Halen III</td><td>0.99</td></tr>",
                            "<tr><td>3101</td><td>Primary</td><td>Van Halen III</td><td>0.99</td></tr>",
                            "<tr><td>3110</td><td>Headspace</td><td>Contraband</td><td>0.99</td></tr>",
                            "<tr><td>3119</td><td>Tudo Na Mais Santa Paz</td><td>Vinicius De Moraes</td><td>0.99</td></tr>",
                            "<tr><td>3128</td><td>Samba Do Jato</td><td>Vinicius De Moraes</td><td>0.99</td></tr>",
                            "<tr><td>3137</td><td>Now You&#39;re Gone</td><td>Greatest Hits</td><td>0.99</td></tr>",
                            "<tr><td>3146</td><td>Faixa Amarela</td><td>Ao Vivo [IMPORT]</td><td>0.99</td></tr>",
                            "<tr><td>3155</td><td>Sem Essa de Malandro Agulha</td><td>Ao Vivo [IMPORT]</td><td>0.99</td></tr>",
                            "<tr><td>3164</td><td>Verdade</td><td>Ao Vivo [IMPORT]</td><td>0.99</td></tr>",
                            "<tr><td>3225</td><td>Your Time Is Gonna Come</td><td>Un-Led-Ed</td><td>0.99</td></tr>",
                            "<tr><td>3253</td><td>Instant Karma</td><td>Instant Karma: The Amnesty International Campaign to Save Darfur</td><td>0.99</td></tr>",
                            "<tr><td>3257</td><td>Cold Turkey</td><td>Instant Karma: The Amnesty International Campaign to Save Darfur</td><td>0.99</td></tr>",
                            "<tr><td>3261</td><td>Oh, My Love</td><td>Instant Karma: The Amnesty International Campaign to Save Darfur</td><td>0.99</td></tr>",
                            "<tr><td>3267</td><td>Imagine</td><td>Instant Karma: The Amnesty International Campaign to Save Darfur</td><td>0.99</td></tr>",
                            "<tr><td>3273</td><td>[Just Like] Starting Over</td><td>Instant Karma: The Amnesty International Campaign to Save Darfur</td><td>0.99</td></tr>",
                            "<tr><td>3279</td><td>Fairies Wear Boots</td><td>Speak of the Devil</td><td>0.99</td></tr>",
                            "<tr><td>3285</td><td>Sabbath, Bloody Sabbath</td><td>Speak of the Devil</td><td>0.99</td></tr>",
                            "<tr><td>3291</td><td>Loving You Sunday Morning</td><td>20th Century Masters - The Millennium Collection: The Best of Scorpions</td><td>0.99</td></tr>",
                            "<tr><td>3297</td><td>Tease Me Please Me</td><td>20th Century Masters - The Millennium Collection: The Best of Scorpions</td><td>0.99</td></tr>",
                            "<tr><td>3303</td><td>Top O&#39; The Morning To Ya</td><td>House of Pain</td><td>0.99</td></tr>",
                            "<tr><td>3309</td><td>Guess Who&#39;s Back</td><td>House of Pain</td><td>0.99</td></tr>",
                            "<tr><td>3315</td><td>Feel It</td><td>House of Pain</td><td>0.99</td></tr>",
                            "<tr><td>3324</td><td>Um Lugar ao Sol</td><td>Radio Brasil (O Som da Jovem Vanguarda) - Seleccao de Henrique Amaro</td><td>0.99</td></tr>",
                            "<tr><td>3333</td><td>Chega no Suingue</td><td>Radio Brasil (O Som da Jovem Vanguarda) - Seleccao de Henrique Amaro</td><td>0.99</td></tr>",
                            "<tr><td>3351</td><td>Din Din Wo (Little Child)</td><td>Muso Ko</td><td>0.99</td></tr>",
                            "<tr><td>3369</td><td>Call Me a Dog</td><td>Temple of the Dog</td><td>0.99</td></tr>",
                            "<tr><td>3378</td><td>Safe and Sound</td><td>Carry On</td><td>0.99</td></tr>",
                            "<tr><td>3387</td><td>Disappearing Act</td><td>Carry On</td><td>0.99</td></tr>",
                            "<tr><td>3396</td><td>Shape of Things to Come</td><td>Revelations</td><td>0.99</td></tr>",
                            "<tr><td>3405</td><td>Canon and Gigue in D Major: I. Canon</td><td>Pachelbel: Canon &amp; Gigue</td><td>0.99</td></tr>",
                            "<tr><td>3414</td><td>Symphony No. 104 in D Major &quot;London&quot;: IV. Finale: Spiritoso</td><td>Haydn: Symphonies 99 - 104</td><td>0.99</td></tr>",
                            "<tr><td>3423</td><td>Jupiter, the Bringer of Jollity</td><td>Holst: The Planets, Op. 32 &amp; Vaughan Williams: Fantasies</td><td>0.99</td></tr>",
                            "<tr><td>3441</td><td>Two Fanfares for Orchestra: II. Short Ride in a Fast Machine</td><td>Adams, John: The Chairman Dances</td><td>0.99</td></tr>",
                            "<tr><td>3456</td><td>You Know I&#39;m No Good</td><td>Back to Black</td><td>0.99</td></tr>",
                            "<tr><td>3457</td><td>Me &amp; Mr. Jones</td><td>Back to Black</td><td>0.99</td></tr>",
                            "<tr><td>3459</td><td>Back to Black</td><td>Back to Black</td><td>0.99</td></tr>",
                            "<tr><td>3461</td><td>Tears Dry On Their Own</td><td>Back to Black</td><td>0.99</td></tr>",
                            "<tr><td>3463</td><td>Some Unholy War</td><td>Back to Black</td><td>0.99</td></tr>",
                            "<tr><td>3465</td><td>You Know I&#39;m No Good (feat. Ghostface Killah)</td><td>Back to Black</td><td>0.99</td></tr>",
                            "<tr><td>3467</td><td>Intro / Stronger Than Me</td><td>Frank</td><td>0.99</td></tr>",
                            "<tr><td>3469</td><td>F**k Me Pumps</td><td>Frank</td><td>0.99</td></tr>",
                            "<tr><td>3473</td><td>Take the Box</td><td>Frank</td><td>0.99</td></tr>",
                            "<tr><td>3477</td><td>Amy Amy Amy (Outro)</td><td>Frank</td><td>0.99</td></tr>",
                            "<tr><td>3481</td><td>A Midsummer Night&#39;s Dream, Op.61 Incidental Music: No.7 Notturno</td><td>Mendelssohn: A Midsummer Night&#39;s Dream</td><td>0.99</td></tr>",
                            "<tr><td>3485</td><td>Symphony No. 3 Op. 36 for Orchestra and Soprano &quot;Symfonia Piesni Zalosnych&quot;  Lento E Largo - Tranquillissimo</td><td>Górecki: Symphony No. 3</td><td>0.99</td></tr>",
                            "<tr><td>3489</td><td>Symphony No. 2: III. Allegro vivace</td><td>Weill: The Seven Deadly Sins</td><td>0.99</td></tr>",
                            "<tr><td>3493</td><td>Metopes, Op. 29: Calypso</td><td>Szymanowski: Piano Works, Vol. 1</td><td>0.99</td></tr>",
                            "<tr><td>3499</td><td>Pini Di Roma (Pinien Von Rom)  I Pini Della Via Appia</td><td>Respighi:Pines of Rome</td><td>0.99</td></tr>",
                            "<tr><td>14</td><td>Spellbound</td><td>For Those About To Rock We Salute You</td><td>0.99</td></tr>",
                            "<tr><td>26</td><td>What It Takes</td><td>Big Ones</td><td>0.99</td></tr>",
                            "<tr><td>38</td><td>All I Really Want</td><td>Jagged Little Pill</td><td>0.99</td></tr>",
                            "<tr><td>44</td><td>You Learn</td><td>Jagged Little Pill</td><td>0.99</td></tr>",
                            "<tr><td>53</td><td>Sea Of Sorrow</td><td>Facelift</td><td>0.99</td></tr>",
                            "<tr><td>62</td><td>Real Thing</td><td>Facelift</td><td>0.99</td></tr>",
                            "<tr><td>71</td><td>Falando De Amor</td><td>Warner 25 Anos</td><td>0.99</td></tr>",
                            "<tr><td>80</td><td>The Unforgiven</td><td>Plays Metallica By Four Cellos</td><td>0.99</td></tr>",
                            "<tr><td>89</td><td>Like a Stone</td><td>Audioslave</td><td>0.99</td></tr>",
                            "<tr><td>98</td><td>The Last Remaining Light</td><td>Audioslave</td><td>0.99</td></tr>",
                            "<tr><td>107</td><td>Yesterday To Tomorrow</td><td>Out Of Exile</td><td>0.99</td></tr>",
                            "<tr><td>116</td><td>C&#39;Mon Everybody</td><td>BackBeat Soundtrack</td><td>0.99</td></tr>",
                            "<tr><td>125</td><td>Spanish moss-&quot;A sound portrait&quot;-Spanish moss</td><td>The Best Of Billy Cobham</td><td>0.99</td></tr>",
                            "<tr><td>134</td><td>All For You</td><td>Alcohol Fueled Brewtality Live! [Disc 1]</td><td>0.99</td></tr>",
                            "<tr><td>143</td><td>The Begining... At Last</td><td>Alcohol Fueled Brewtality Live! [Disc 1]</td><td>0.99</td></tr>",
                            "<tr><td>152</td><td>N.I.B.</td><td>Black Sabbath</td><td>0.99</td></tr>",
                            "<tr><td>170</td><td>A Statistic</td><td>Body Count</td><td>0.99</td></tr>",
                            "<tr><td>185</td><td>The Tower</td><td>Chemical Wedding</td><td>0.99</td></tr>",
                            "<tr><td>186</td><td>Killing Floor</td><td>Chemical Wedding</td><td>0.99</td></tr>",
                            "<tr><td>188</td><td>Gates Of Urizen</td><td>Chemical Wedding</td><td>0.99</td></tr>",
                            "<tr><td>190</td><td>Trupets Of Jericho</td><td>Chemical Wedding</td><td>0.99</td></tr>",
                            "<tr><td>192</td><td>The Alchemist</td><td>Chemical Wedding</td><td>0.99</td></tr>",
                            "<tr><td>194</td><td>First Time I Met The Blues</td><td>The Best Of Buddy Guy - The Millenium Collection</td><td>0.99</td></tr>",
                            "<tr><td>196</td><td>Stone Crazy</td><td>The Best Of Buddy Guy - The Millenium Collection</td><td>0.99</td></tr>",
                            "<tr><td>202</td><td>My Time After Awhile</td><td>The Best Of Buddy Guy - The Millenium Collection</td><td>0.99</td></tr>",
                            "<tr><td>206</td><td>Prenda Minha</td><td>Prenda Minha</td><td>0.99</td></tr>",
                            "<tr><td>210</td><td>Texto &quot;Verdade Tropical&quot;</td><td>Prenda Minha</td><td>0.99</td></tr>",
                            "<tr><td>214</td><td>Carolina</td><td>Prenda Minha</td><td>0.99</td></tr>",
                            "<tr><td>218</td><td>Linha Do Equador</td><td>Prenda Minha</td><td>0.99</td></tr>",
                            "<tr><td>222</td><td>Vida Boa</td><td>Prenda Minha</td><td>0.99</td></tr>",
                            "<tr><td>228</td><td>Vai Passar</td><td>Minha Historia</td><td>0.99</td></tr>",
                            "<tr><td>246</td><td>Mateus Enter</td><td>Afrociberdelia</td><td>0.99</td></tr>",
                            "<tr><td>258</td><td>Um Satélite Na Cabeça</td><td>Afrociberdelia</td><td>0.99</td></tr>",
                            "<tr><td>270</td><td>Banditismo Por Uma Questa</td><td>Da Lama Ao Caos</td><td>0.99</td></tr>",
                            "<tr><td>276</td><td>Maracatu De Tiro Certeiro</td><td>Da Lama Ao Caos</td><td>0.99</td></tr>",
                            "<tr><td>285</td><td>Soldado Da Paz</td><td>Acústico MTV [Live]</td><td>0.99</td></tr>",
                            "<tr><td>294</td><td>Pensamento</td><td>Acústico MTV [Live]</td><td>0.99</td></tr>",
                            "<tr><td>303</td><td>Falar A Verdade</td><td>Cidade Negra - Hits</td><td>0.99</td></tr>",
                            "<tr><td>312</td><td>Eu Também Quero Beijar</td><td>Cidade Negra - Hits</td><td>0.99</td></tr>",
                            "<tr><td>321</td><td>Felicidade Urgente</td><td>Na Pista</td><td>0.99</td></tr>",
                            "<tr><td>330</td><td>Levada do Amor (Ailoviu)</td><td>Axé Bahia 2001</td><td>0.99</td></tr>",
                            "<tr><td>339</td><td>Communication Breakdown</td><td>BBC Sessions [Disc 1] [Live]</td><td>0.99</td></tr>",
                            "<tr><td>348</td><td>I Can&#39;t Quit You Baby(2)</td><td>BBC Sessions [Disc 1] [Live]</td><td>0.99</td></tr>",
                            "<tr><td>357</td><td>Advance Romance</td><td>Bongo Fury</td><td>0.99</td></tr>",
                            "<tr><td>366</td><td>Camisa Verde 2001</td><td>Carnaval 2001</td><td>0.99</td></tr>",
                            "<tr><td>375</td><td>Mas Que Nada</td><td>Chill: Brazil (Disc 1)</td><td>0.99</td></tr>",
                            "<tr><td>384</td><td>Mistério da Raça</td><td>Chill: Brazil (Disc 1)</td><td>0.99</td></tr>",
                            "<tr><td>402</td><td>Um Jantar Pra Dois</td><td>Chill: Brazil (Disc 2)</td><td>0.99</td></tr>",
                            "<tr><td>417</td><td>Tuesday&#39;s Gone</td><td>Garage Inc. (Disc 1)</td><td>0.99</td></tr>",
                            "<tr><td>418</td><td>The More I See</td><td>Garage Inc. (Disc 1)</td><td>0.99</td></tr>",
                            "<tr><td>420</td><td>Under Pressure</td><td>Greatest Hits II</td><td>0.99</td></tr>",
                            "<tr><td>422</td><td>I Want It All</td><td>Greatest Hits II</td><td>0.99</td></tr>",
                            "<tr><td>424</td><td>Innuendo</td><td>Greatest Hits II</td><td>0.99</td></tr>",
                            "<tr><td>426</td><td>Breakthru</td><td>Greatest Hits II</td><td>0.99</td></tr>",
                            "<tr><td>428</td><td>Headlong</td><td>Greatest Hits II</td><td>0.99</td></tr>",
                            "<tr><td>434</td><td>The Show Must Go On</td><td>Greatest Hits II</td><td>0.99</td></tr>",
                            "<tr><td>438</td><td>Hard Luck Woman</td><td>Greatest Kiss</td><td>0.99</td></tr>",
                            "<tr><td>442</td><td>Goin&#39; Blind</td><td>Greatest Kiss</td><td>0.99</td></tr>",
                            "<tr><td>446</td><td>I Was Made For Loving You</td><td>Greatest Kiss</td><td>0.99</td></tr>",
                            "<tr><td>450</td><td>Beth</td><td>Greatest Kiss</td><td>0.99</td></tr>",
                            "<tr><td>454</td><td>Plaster Caster</td><td>Greatest Kiss</td><td>0.99</td></tr>",
                            "<tr><td>460</td><td>Playtime</td><td>Heart of the Night</td><td>0.99</td></tr>",
                            "<tr><td>478</td><td>Jaded</td><td>International Superhits</td><td>0.99</td></tr>",
                            "<tr><td>490</td><td>River Song</td><td>Into The Light</td><td>0.99</td></tr>",
                            "<tr><td>502</td><td>Não Dá Mais Pra Segurar (Explode Coração)</td><td>Meus Momentos</td><td>0.99</td></tr>",
                            "<tr><td>508</td><td>Eu Apenas Queria Que Voçê Soubesse</td><td>Meus Momentos</td><td>0.99</td></tr>",
                            "<tr><td>517</td><td>Um Indio</td><td>Minha Historia</td><td>0.99</td></tr>",
                            "<tr><td>526</td><td>Fora Da Ordem</td><td>Minha Historia</td><td>0.99</td></tr>",
                            "<tr><td>535</td><td>Chão De Estrelas</td><td>Minha História</td><td>0.99</td></tr>",
                            "<tr><td>544</td><td>Stormbringer</td><td>MK III The Final Concerts [Disc 1]</td><td>0.99</td></tr>",
                            "<tr><td>553</td><td>Houses Of The Holy</td><td>Physical Graffiti [Disc 1]</td><td>0.99</td></tr>",
                            "<tr><td>562</td><td>Mangueira</td><td>Sambas De Enredo 2001</td><td>0.99</td></tr>",
                            "<tr><td>571</td><td>Love Of My Life</td><td>Supernatural</td><td>0.99</td></tr>",
                            "<tr><td>580</td><td>El Farol</td><td>Supernatural</td><td>0.99</td></tr>",
                            "<tr><td>589</td><td>Um Love</td><td>The Best of Ed Motta</td><td>0.99</td></tr>",
                            "<tr><td>598</td><td>Jeru</td><td>The Essential Miles Davis [Disc 1]</td><td>0.99</td></tr>",
                            "<tr><td>607</td><td>So What</td><td>The Essential Miles Davis [Disc 1]</td><td>0.99</td></tr>",
                            "<tr><td>616</td><td>Black Satin</td><td>The Essential Miles Davis [Disc 2]</td><td>0.99</td></tr>",
                            "<tr><td>634</td><td>Bop Boogie</td><td>Up An&#39; Atom</td><td>0.99</td></tr>",
                            "<tr><td>649</td><td>Samba Da Volta</td><td>Vinícius De Moraes - Sem Limite</td><td>0.99</td></tr>",
                            "<tr><td>650</td><td>Canto De Ossanha</td><td>Vinícius De Moraes - Sem Limite</td><td>0.99</td></tr>",
                            "<tr><td>652</td><td>Formosa</td><td>Vinícius De Moraes - Sem Limite</td><td>0.99</td></tr>",
                            "<tr><td>654</td><td>Minha Namorada</td><td>Vinícius De Moraes - Sem Limite</td><td>0.99</td></tr>",
                            "<tr><td>656</td><td>Berimbau</td><td>Vinícius De Moraes - Sem Limite</td><td>0.99</td></tr>",
                            "<tr><td>658</td><td>Pot-Pourri N.º 2</td><td>Vinícius De Moraes - Sem Limite</td><td>0.99</td></tr>",
                            "<tr><td>660</td><td>Carta Ao Tom 74</td><td>Vinícius De Moraes - Sem Limite</td><td>0.99</td></tr>",
                            "<tr><td>666</td><td>Coração do Agreste (Fafá de Belém)</td><td>Vozes do MPB</td><td>0.99</td></tr>",
                            "<tr><td>670</td><td>Romaria (Renato Teixeira)</td><td>Vozes do MPB</td><td>0.99</td></tr>",
                            "<tr><td>674</td><td>Preciso Apender a Viver Só (Maysa)</td><td>Vozes do MPB</td><td>0.99</td></tr>",
                            "<tr><td>678</td><td>Bad Moon Rising</td><td>Chronicle, Vol. 1</td><td>0.99</td></tr>",
                            "<tr><td>682</td><td>Down On The Corner</td><td>Chronicle, Vol. 1</td><td>0.99</td></tr>",
                            "<tr><td>686</td><td>Up Around The Bend</td><td>Chronicle, Vol. 1</td><td>0.99</td></tr>",
                            "<tr><td>692</td><td>Hey Tonight</td><td>Chronicle, Vol. 1</td><td>0.99</td></tr>",
                            "<tr><td>710</td><td>It&#39;s Just A Thought</td><td>Chronicle, Vol. 2</td><td>0.99</td></tr>",
                            "<tr><td>722</td><td>Meu Mundo Fica Completo (Com Você)</td><td>Cássia Eller - Coleção Sem Limite [Disc 2]</td><td>0.99</td></tr>",
                            "<tr><td>734</td><td>Todo Amor Que Houver Nesta Vida</td><td>Cássia Eller - Sem Limite [Disc 1]</td><td>0.99</td></tr>",
                            "<tr><td>740</td><td>Socorro</td><td>Cássia Eller - Sem Limite [Disc 1]</td><td>0.99</td></tr>",
                            "<tr><td>749</td><td>I Need Love</td><td>Come Taste The Band</td><td>0.99</td></tr>",
                            "<tr><td>758</td><td>Into The Fire</td><td>Deep Purple In Rock</td><td>0.99</td></tr>",
                            "<tr><td>767</td><td>No One Came</td><td>Fireball</td><td>0.99</td></tr>",
                            "<tr><td>776</td><td>Hush</td><td>Knocking at Your Back Door: The Best Of Deep Purple in the 80&#39;s</td><td>0.99</td></tr>",
                            "<tr><td>785</td><td>Space Truckin&#39;</td><td>Machine Head</td><td>0.99</td></tr>",
                            "<tr><td>794</td><td>A Touch Away</td><td>Purpendicular</td><td>0.99</td></tr>",
                            "<tr><td>803</td><td>Love Conquers All</td><td>Slaves And Masters</td><td>0.99</td></tr>",
                            "<tr><td>812</td><td>You Can&#39;t Do it Right (With the One You Love)</td><td>Stormbringer</td><td>0.99</td></tr>",
                            "<tr><td>821</td><td>Ramshackle Man</td><td>The Battle Rages On</td><td>0.99</td></tr>",
                            "<tr><td>830</td><td>Two Steps Behind [Acoustic Version]</td><td>Vault: Def Leppard&#39;s Greatest Hits</td><td>0.99</td></tr>",
                            "<tr><td>839</td><td>Rock Of Ages</td><td>Vault: Def Leppard&#39;s Greatest Hits</td><td>0.99</td></tr>",
                            "<tr><td>848</td><td>Outbreak</td><td>Outbreak</td><td>0.99</td></tr>",
                            "<tr><td>866</td><td>Oceano</td><td>Djavan Ao Vivo - Vol. 1</td><td>0.99</td></tr>",
                            "<tr><td>881</td><td>Casa no Campo</td><td>Elis Regina-Minha História</td><td>0.99</td></tr>",
                            "<tr><td>882</td><td>Romaria</td><td>Elis Regina-Minha História</td><td>0.99</td></tr>",
                            "<tr><td>884</td><td>Me Deixas Louca</td><td>Elis Regina-Minha História</td><td>0.99</td></tr>",
                            "<tr><td>886</td><td>Saudosa Maloca</td><td>Elis Regina-Minha História</td><td>0.99</td></tr>",
                            "<tr><td>888</td><td>Madalena</td><td>Elis Regina-Minha História</td><td>0.99</td></tr>",
                            "<tr><td>890</td><td>Aprendendo A Jogar</td><td>Elis Regina-Minha História</td><td>0.99</td></tr>",
                            "<tr><td>892</td><td>Badge</td><td>The Cream Of Clapton</td><td>0.99</td></tr>",
                            "<tr><td>898</td><td>Bell Bottom Blues</td><td>The Cream Of Clapton</td><td>0.99</td></tr>",
                            "<tr><td>902</td><td>Swing Low Sweet Chariot</td><td>The Cream Of Clapton</td><td>0.99</td></tr>",
                            "<tr><td>906</td><td>Let It Grow</td><td>The Cream Of Clapton</td><td>0.99</td></tr>",
                            "<tr><td>910</td><td>Before You Accuse Me</td><td>Unplugged</td><td>0.99</td></tr>",
                            "<tr><td>914</td><td>Nobody Knows You When You&#39;re Down &amp; Out</td><td>Unplugged</td><td>0.99</td></tr>",
                            "<tr><td>918</td><td>Alberta</td><td>Unplugged</td><td>0.99</td></tr>",
                            "<tr><td>924</td><td>Stripsearch</td><td>Album Of The Year</td><td>0.99</td></tr>",
                            "<tr><td>942</td><td>Kindergarten</td><td>Angel Dust</td><td>0.99</td></tr>",
                            "<tr><td>954</td><td>Cuckoo For Caca</td><td>King For A Day Fool For A Lifetime</td><td>0.99</td></tr>",
                            "<tr><td>966</td><td>Falling To Pieces</td><td>The Real Thing</td><td>0.99</td></tr>",
                            "<tr><td>972</td><td>Woodpecker From Mars</td><td>The Real Thing</td><td>0.99</td></tr>",
                            "<tr><td>981</td><td>Zeca Violeiro</td><td>Deixa Entrar</td><td>0.99</td></tr>",
                            "<tr><td>990</td><td>No Way Back</td><td>In Your Honor [Disc 1]</td><td>0.99</td></tr>",
                            "<tr><td>999</td><td>Still</td><td>In Your Honor [Disc 2]</td><td>0.99</td></tr>",
                            "<tr><td>1008</td><td>Razor</td><td>In Your Honor [Disc 2]</td><td>0.99</td></tr>",
                            "<tr><td>1017</td><td>Overdrive</td><td>One By One</td><td>0.99</td></tr>",
                            "<tr><td>1026</td><td>My Hero</td><td>The Colour And The Shape</td><td>0.99</td></tr>",
                            "<tr><td>1035</td><td>New York, New York</td><td>My Way: The Best Of Frank Sinatra [Disc 1]</td><td>0.99</td></tr>",
                            "<tr><td>1044</td><td>My Kind Of Town</td><td>My Way: The Best Of Frank Sinatra [Disc 1]</td><td>0.99</td></tr>",
                            "<tr><td>1053</td><td>Bad, Bad Leroy Brown</td><td>My Way: The Best Of Frank Sinatra [Disc 1]</td><td>0.99</td></tr>",
                            "<tr><td>1062</td><td>Zambação</td><td>Roda De Funk</td><td>0.99</td></tr>",
                            "<tr><td>1071</td><td>Divirta-Se (Saindo Da Sua)</td><td>Roda De Funk</td><td>0.99</td></tr>",
                            "<tr><td>1080</td><td>Assum Preto</td><td>As Canções de Eu Tu Eles</td><td>0.99</td></tr>",
                            "<tr><td>1098</td><td>Copacabana (Live)</td><td>Quanta Gente Veio Ver (Live)</td><td>0.99</td></tr>",
                            "<tr><td>1113</td><td>Sampa</td><td>Unplugged</td><td>0.99</td></tr>",
                            "<tr><td>1114</td><td>Parabolicamará</td><td>Unplugged</td><td>0.99</td></tr>",
                            "<tr><td>1116</td><td>Expresso 2222</td><td>Unplugged</td><td>0.99</td></tr>",
                            "<tr><td>1118</td><td>Palco</td><td>Unplugged</td><td>0.99</td></tr>",
                            "<tr><td>1120</td><td>Sítio Do Pica-Pau Amarelo</td><td>Unplugged</td><td>0.99</td></tr>",
                            "<tr><td>1122</td><td>Faceless</td><td>Faceless</td><td>0.99</td></tr>",
                            "<tr><td>1124</td><td>Make Me Believe</td><td>Faceless</td><td>0.99</td></tr>",
                            "<tr><td>1130</td><td>I Am</td><td>Faceless</td><td>0.99</td></tr>",
                            "<tr><td>1134</td><td>Jesus Of Suburbia / City Of The Damned / I Don&#39;t Care / Dearly Beloved / Tales Of Another Broken Home</td><td>American Idiot</td><td>0.99</td></tr>",
                            "<tr><td>1138</td><td>St. Jimmy</td><td>American Idiot</td><td>0.99</td></tr>",
                            "<tr><td>1142</td><td>Letterbomb</td><td>American Idiot</td><td>0.99</td></tr>",
                            "<tr><td>1146</td><td>Welcome to the Jungle</td><td>Appetite for Destruction</td><td>0.99</td></tr>",
                            "<tr><td>1150</td><td>Mr. Brownstone</td><td>Appetite for Destruction</td><td>0.99</td></tr>",
                            "<tr><td>1156</td><td>Anything Goes</td><td>Appetite for Destruction</td><td>0.99</td></tr>",
                            "<tr><td>1174</td><td>Civil War</td><td>Use Your Illusion II</td><td>0.99</td></tr>",
                            "<tr><td>1186</td><td>Don&#39;t Cry</td><td>Use Your Illusion II</td><td>0.99</td></tr>",
                            "<tr><td>1198</td><td>Jacob&#39;s Ladder</td><td>Blue Moods</td><td>0.99</td></tr>",
                            "<tr><td>1204</td><td>The Pilgrim</td><td>A Matter of Life and Death</td><td>0.99</td></tr>",
                            "<tr><td>1213</td><td>The Trooper</td><td>A Real Dead One</td><td>0.99</td></tr>",
                            "<tr><td>1222</td><td>Iron Maiden</td><td>A Real Dead One</td><td>0.99</td></tr>",
                            "<tr><td>1231</td><td>Bring Your Daughter... To The Slaughter</td><td>A Real Live One</td><td>0.99</td></tr>",
                            "<tr><td>1240</td><td>Dream Of Mirrors</td><td>Brave New World</td><td>0.99</td></tr>",
                            "<tr><td>1249</td><td>Dance Of Death</td><td>Dance Of Death</td><td>0.99</td></tr>",
                            "<tr><td>1258</td><td>Afraid To Shoot Strangers</td><td>Fear Of The Dark</td><td>0.99</td></tr>",
                            "<tr><td>1267</td><td>Fear Of The Dark</td><td>Fear Of The Dark</td><td>0.99</td></tr>",
                            "<tr><td>1276</td><td>09 - Iron Maiden</td><td>Iron Maiden</td><td>0.99</td></tr>",
                            "<tr><td>1285</td><td>Purgatory</td><td>Killers</td><td>0.99</td></tr>",
                            "<tr><td>1294</td><td>Powerslave</td><td>Live After Death</td><td>0.99</td></tr>",
                            "<tr><td>1303</td><td>Die With Your Boots On</td><td>Live After Death</td><td>0.99</td></tr>",
                            "<tr><td>1312</td><td>The Evil That Men Do</td><td>Live At Donington 1992 (Disc 1)</td><td>0.99</td></tr>",
                            "<tr><td>1330</td><td>The Assassin</td><td>No Prayer For The Dying</td><td>0.99</td></tr>",
                            "<tr><td>1345</td><td>2 Minutes To Midnight</td><td>Powerslave</td><td>0.99</td></tr>",
                            "<tr><td>1346</td><td>Losfer Words</td><td>Powerslave</td><td>0.99</td></tr>",
                            "<tr><td>1348</td><td>Duelists</td><td>Powerslave</td><td>0.99</td></tr>",
                            "<tr><td>1350</td><td>Powerslave</td><td>Powerslave</td><td>0.99</td></tr>",
                            "<tr><td>1352</td><td>Intro</td><td>Rock In Rio [CD1]</td><td>0.99</td></tr>",
                            "<tr><td>1354</td><td>Ghost Of The Navigator</td><td>Rock In Rio [CD1]</td><td>0.99</td></tr>",
                            "<tr><td>1356</td><td>Wrathchild</td><td>Rock In Rio [CD1]</td><td>0.99</td></tr>",
                            "<tr><td>1362</td><td>Dream Of Mirrors</td><td>Rock In Rio [CD2]</td><td>0.99</td></tr>",
                            "<tr><td>1366</td><td>Iron Maiden</td><td>Rock In Rio [CD2]</td><td>0.99</td></tr>",
                            "<tr><td>1370</td><td>Run To The Hills</td><td>Rock In Rio [CD2]</td><td>0.99</td></tr>",
                            "<tr><td>1374</td><td>The Evil That Men Do</td><td>Seventh Son of a Seventh Son</td><td>0.99</td></tr>",
                            "<tr><td>1378</td><td>Only the Good Die Young</td><td>Seventh Son of a Seventh Son</td><td>0.99</td></tr>",
                            "<tr><td>1382</td><td>Heaven Can Wait</td><td>Somewhere in Time</td><td>0.99</td></tr>",
                            "<tr><td>1388</td><td>Children of the Damned</td><td>The Number of The Beast</td><td>0.99</td></tr>",
                            "<tr><td>1406</td><td>Futureal</td><td>Virtual XI</td><td>0.99</td></tr>",
                            "<tr><td>1418</td><td>Papa&#39;s Got A Brand New Bag Pt.1</td><td>Sex Machine</td><td>0.99</td></tr>",
                            "<tr><td>1430</td><td>Living In America</td><td>Sex Machine</td><td>0.99</td></tr>",
                            "<tr><td>1436</td><td>Hooked Up</td><td>Emergency On Planet Earth</td><td>0.99</td></tr>",
                            "<tr><td>1445</td><td>Planet Home</td><td>Synkronized</td><td>0.99</td></tr>",
                            "<tr><td>1454</td><td>Deeper Underground</td><td>Synkronized</td><td>0.99</td></tr>",
                            "<tr><td>1463</td><td>Journey To Arnhemland</td><td>The Return Of The Space Cowboy</td><td>0.99</td></tr>",
                            "<tr><td>1472</td><td>Radio Song</td><td>Get Born</td><td>0.99</td></tr>",
                            "<tr><td>1481</td><td>Red House</td><td>Are You Experienced?</td><td>0.99</td></tr>",
                            "<tr><td>1490</td><td>Hey Joe</td><td>Are You Experienced?</td><td>0.99</td></tr>",
                            "<tr><td>1499</td><td>Always With Me, Always With You</td><td>Surfing with the Alien (Remastered)</td><td>0.99</td></tr>",
                            "<tr><td>1508</td><td>Mama Africa</td><td>Jorge Ben Jor 25 Anos</td><td>0.99</td></tr>",
                            "<tr><td>1517</td><td>Santa Clara Clareou</td><td>Jorge Ben Jor 25 Anos</td><td>0.99</td></tr>",
                            "<tr><td>1526</td><td>Encontrar Alguém</td><td>Jota Quest-1995</td><td>0.99</td></tr>",
                            "<tr><td>1535</td><td>No Futuro</td><td>Cafezinho</td><td>0.99</td></tr>",
                            "<tr><td>1544</td><td>Cafezinho</td><td>Cafezinho</td><td>0.99</td></tr>",
                            "<tr><td>1562</td><td>Comin&#39; Home</td><td>Unplugged [Live]</td><td>0.99</td></tr>",
                            "<tr><td>1577</td><td>Immigrant Song</td><td>BBC Sessions [Disc 2] [Live]</td><td>0.99</td></tr>",
                            "<tr><td>1578</td><td>Heartbreaker</td><td>BBC Sessions [Disc 2] [Live]</td><td>0.99</td></tr>",
                            "<tr><td>1580</td><td>Black Dog</td><td>BBC Sessions [Disc 2] [Live]</td><td>0.99</td></tr>",
                            "<tr><td>1582</td><td>Stairway To Heaven</td><td>BBC Sessions [Disc 2] [Live]</td><td>0.99</td></tr>",
                            "<tr><td>1584</td><td>That&#39;s The Way</td><td>BBC Sessions [Disc 2] [Live]</td><td>0.99</td></tr>",
                            "<tr><td>1586</td><td>Thank You</td><td>BBC Sessions [Disc 2] [Live]</td><td>0.99</td></tr>",
                            "<tr><td>1588</td><td>Poor Tom</td><td>Coda</td><td>0.99</td></tr>",
                            "<tr><td>1594</td><td>Wearing And Tearing</td><td>Coda</td><td>0.99</td></tr>",
                            "<tr><td>1598</td><td>The Crunge</td><td>Houses Of The Holy</td><td>0.99</td></tr>",
                            "<tr><td>1602</td><td>The Ocean</td><td>Houses Of The Holy</td><td>0.99</td></tr>",
                            "<tr><td>1606</td><td>Hot Dog</td><td>In Through The Out Door</td><td>0.99</td></tr>",
                            "<tr><td>1610</td><td>Black Dog</td><td>IV</td><td>0.99</td></tr>",
                            "<tr><td>1614</td><td>Misty Mountain Hop</td><td>IV</td><td>0.99</td></tr>",
                            "<tr><td>1620</td><td>You Shook Me</td><td>Led Zeppelin I</td><td>0.99</td></tr>",
                            "<tr><td>1638</td><td>Celebration Day</td><td>Led Zeppelin III</td><td>0.99</td></tr>",
                            "<tr><td>1650</td><td>Night Flight</td><td>Physical Graffiti [Disc 2]</td><td>0.99</td></tr>",
                            "<tr><td>1662</td><td>Rock &amp; Roll</td><td>The Song Remains The Same (Disc 1)</td><td>0.99</td></tr>",
                            "<tr><td>1668</td><td>Stairway To Heaven</td><td>The Song Remains The Same (Disc 2)</td><td>0.99</td></tr>",
                            "<tr><td>1677</td><td>Aloha</td><td>A TempestadeTempestade Ou O Livro Dos Dias</td><td>0.99</td></tr>",
                            "<tr><td>1686</td><td>Será</td><td>Mais Do Mesmo</td><td>0.99</td></tr>",
                            "<tr><td>1695</td><td>Pais E Filhos</td><td>Mais Do Mesmo</td><td>0.99</td></tr>",
                            "<tr><td>1704</td><td>Rock And Roll Is Dead</td><td>Greatest Hits</td><td>0.99</td></tr>",
                            "<tr><td>1713</td><td>I Belong To You</td><td>Greatest Hits</td><td>0.99</td></tr>",
                            "<tr><td>1722</td><td>Casa</td><td>Lulu Santos - RCA 100 Anos De Música - Álbum 01</td><td>0.99</td></tr>",
                            "<tr><td>1731</td><td>A Cura</td><td>Lulu Santos - RCA 100 Anos De Música - Álbum 01</td><td>0.99</td></tr>",
                            "<tr><td>1740</td><td>Sereia</td><td>Lulu Santos - RCA 100 Anos De Música - Álbum 01</td><td>0.99</td></tr>",
                            "<tr><td>1749</td><td>Heart Of Lothian: Wide Boy / Curtain Call</td><td>Misplaced Childhood</td><td>0.99</td></tr>",
                            "<tr><td>1758</td><td>Cérebro Eletrônico</td><td>Barulhinho Bom</td><td>0.99</td></tr>",
                            "<tr><td>1767</td><td>A Menina Dança</td><td>Barulhinho Bom</td><td>0.99</td></tr>",
                            "<tr><td>1776</td><td>You&#39;ve Been A Long Time Coming</td><td>Seek And Shall Find: More Of The Best (1963-1981)</td><td>0.99</td></tr>",
                            "<tr><td>1794</td><td>Everything I Need</td><td>The Best Of Men At Work</td><td>0.99</td></tr>",
                            "<tr><td>1809</td><td>Of Wolf And Man</td><td>Black Album</td><td>0.99</td></tr>",
                            "<tr><td>1810</td><td>The God That Failed</td><td>Black Album</td><td>0.99</td></tr>",
                            "<tr><td>1812</td><td>The Struggle Within</td><td>Black Album</td><td>0.99</td></tr>",
                            "<tr><td>1814</td><td>The Small Hours</td><td>Garage Inc. (Disc 2)</td><td>0.99</td></tr>",
                            "<tr><td>1816</td><td>Crash Course In Brain Surgery</td><td>Garage Inc. (Disc 2)</td><td>0.99</td></tr>",
                            "<tr><td>1818</td><td>Am I Evil?</td><td>Garage Inc. (Disc 2)</td><td>0.99</td></tr>",
                            "<tr><td>1820</td><td>Breadfan</td><td>Garage Inc. (Disc 2)</td><td>0.99</td></tr>",
                            "<tr><td>1826</td><td>Damage Case</td><td>Garage Inc. (Disc 2)</td><td>0.99</td></tr>",
                            "<tr><td>1830</td><td>The Four Horsemen</td><td>Kill &#39;Em All</td><td>0.99</td></tr>",
                            "<tr><td>1834</td><td>Whiplash</td><td>Kill &#39;Em All</td><td>0.99</td></tr>",
                            "<tr><td>1838</td><td>Metal Militia</td><td>Kill &#39;Em All</td><td>0.99</td></tr>",
                            "<tr><td>1842</td><td>Until It Sleeps</td><td>Load</td><td>0.99</td></tr>",
                            "<tr><td>1846</td><td>Cure</td><td>Load</td><td>0.99</td></tr>",
                            "<tr><td>1852</td><td>The Outlaw Torn</td><td>Load</td><td>0.99</td></tr>",
                            "<tr><td>1870</td><td>Prince Charming</td><td>ReLoad</td><td>0.99</td></tr>",
                            "<tr><td>1882</td><td>Frantic</td><td>St. Anger</td><td>0.99</td></tr>",
                            "<tr><td>1894</td><td>...And Justice For All</td><td>...And Justice For All</td><td>0.99</td></tr>",
                            "<tr><td>1900</td><td>To Live Is To Die</td><td>...And Justice For All</td><td>0.99</td></tr>",
                            "<tr><td>1909</td><td>The Meaning Of The Blues</td><td>Miles Ahead</td><td>0.99</td></tr>",
                            "<tr><td>1918</td><td>Paisagem Na Janela</td><td>Milton Nascimento Ao Vivo</td><td>0.99</td></tr>",
                            "<tr><td>1927</td><td>Para Lennon E McCartney</td><td>Milton Nascimento Ao Vivo</td><td>0.99</td></tr>",
                            "<tr><td>1936</td><td>Idolatrada</td><td>Minas</td><td>0.99</td></tr>",
                            "<tr><td>1945</td><td>Live To Win</td><td>Ace Of Spades</td><td>0.99</td></tr>",
                            "<tr><td>1954</td><td>Dirty Love</td><td>Ace Of Spades</td><td>0.99</td></tr>",
                            "<tr><td>1963</td><td>É Fogo</td><td>Demorou...</td><td>0.99</td></tr>",
                            "<tr><td>1972</td><td>Kickstart My Heart</td><td>Motley Crue Greatest Hits</td><td>0.99</td></tr>",
                            "<tr><td>1981</td><td>Smokin&#39; in The Boys Room</td><td>Motley Crue Greatest Hits</td><td>0.99</td></tr>",
                            "<tr><td>1990</td><td>Smells Like Teen Spirit</td><td>From The Muddy Banks Of The Wishkah [Live]</td><td>0.99</td></tr>",
                            "<tr><td>1999</td><td>Polly</td><td>From The Muddy Banks Of The Wishkah [Live]</td><td>0.99</td></tr>",
                            "<tr><td>2008</td><td>Polly</td><td>Nevermind</td><td>0.99</td></tr>",
                            "<tr><td>2026</td><td>Às Vezes</td><td>Compositores</td><td>0.99</td></tr>",
                            "<tr><td>2041</td><td>Reggae Odoyá</td><td>Olodum</td><td>0.99</td></tr>",
                            "<tr><td>2042</td><td>Protesto Do Olodum (Ao Vivo)</td><td>Olodum</td><td>0.99</td></tr>",
                            "<tr><td>2044</td><td>Vulcão Dub - Fui Eu</td><td>Acústico MTV</td><td>0.99</td></tr>",
                            "<tr><td>2046</td><td>Manguetown</td><td>Acústico MTV</td><td>0.99</td></tr>",
                            "<tr><td>2048</td><td>Bora-Bora</td><td>Acústico MTV</td><td>0.99</td></tr>",
                            "<tr><td>2050</td><td>I Feel Good (I Got You) - Sossego</td><td>Acústico MTV</td><td>0.99</td></tr>",
                            "<tr><td>2052</td><td>Sincero Breu</td><td>Acústico MTV</td><td>0.99</td></tr>",
                            "<tr><td>2058</td><td>Navegar Impreciso</td><td>Acústico MTV</td><td>0.99</td></tr>",
                            "<tr><td>2062</td><td>Life During Wartime</td><td>Acústico MTV</td><td>0.99</td></tr>",
                            "<tr><td>2066</td><td>Tendo A Lua</td><td>Arquivo II</td><td>0.99</td></tr>",
                            "<tr><td>2070</td><td>Busca Vida</td><td>Arquivo II</td><td>0.99</td></tr>",
                            "<tr><td>2074</td><td>Ela Disse Adeus</td><td>Arquivo II</td><td>0.99</td></tr>",
                            "<tr><td>2078</td><td>Óculos</td><td>Arquivo Os Paralamas Do Sucesso</td><td>0.99</td></tr>",
                            "<tr><td>2084</td><td>O Beco</td><td>Arquivo Os Paralamas Do Sucesso</td><td>0.99</td></tr>",
                            "<tr><td>2102</td><td>Mr. Crowley</td><td>Tribute</td><td>0.99</td></tr>",
                            "<tr><td>2114</td><td>When The World Was Young</td><td>Walking Into Clarksdale</td><td>0.99</td></tr>",
                            "<tr><td>2126</td><td>Slug</td><td>Original Soundtracks 1</td><td>0.99</td></tr>",
                            "<tr><td>2132</td><td>Ito Okashi</td><td>Original Soundtracks 1</td><td>0.99</td></tr>",
                            "<tr><td>2141</td><td>Prowler</td><td>The Beast Live</td><td>0.99</td></tr>",
                            "<tr><td>2150</td><td>Given To Fly</td><td>Live On Two Legs [Live]</td><td>0.99</td></tr>",
                            "<tr><td>2159</td><td>Off He Goes</td><td>Live On Two Legs [Live]</td><td>0.99</td></tr>",
                            "<tr><td>2168</td><td>Severed Hand</td><td>Pearl Jam</td><td>0.99</td></tr>",
                            "<tr><td>2177</td><td>Inside Job</td><td>Pearl Jam</td><td>0.99</td></tr>",
                            "<tr><td>2186</td><td>Get Right</td><td>Riot Act</td><td>0.99</td></tr>",
                            "<tr><td>2195</td><td>Alive</td><td>Ten</td><td>0.99</td></tr>",
                            "<tr><td>2204</td><td>Go</td><td>Vs.</td><td>0.99</td></tr>",
                            "<tr><td>2213</td><td>Elderly Woman Behind The Counter In A Small Town</td><td>Vs.</td><td>0.99</td></tr>",
                            "<tr><td>2222</td><td>Bush Doctor</td><td>Greatest Hits</td><td>0.99</td></tr>",
                            "<tr><td>2231</td><td>Time</td><td>Dark Side Of The Moon</td><td>0.99</td></tr>",
                            "<tr><td>2240</td><td>Hip Hop Rio</td><td>Os Cães Ladram Mas A Caravana Não Pára</td><td>0.99</td></tr>",
                            "<tr><td>2258</td><td>Bicycle Race</td><td>Greatest Hits I</td><td>0.99</td></tr>",
                            "<tr><td>2273</td><td>Sheer Heart Attack</td><td>News Of The World</td><td>0.99</td></tr>",
                            "<tr><td>2274</td><td>All Dead, All Dead</td><td>News Of The World</td><td>0.99</td></tr>",
                            "<tr><td>2276</td><td>Fight From The Inside</td><td>News Of The World</td><td>0.99</td></tr>",
                            "<tr><td>2278</td><td>Sleep On The Sidewalk</td><td>News Of The World</td><td>0.99</td></tr>",
                            "<tr><td>2280</td><td>It&#39;s Late</td><td>News Of The World</td><td>0.99</td></tr>",
                            "<tr><td>2282</td><td>Shiny Happy People</td><td>Out Of Time</td><td>0.99</td></tr>",
                            "<tr><td>2284</td><td>Radio Song</td><td>Out Of Time</td><td>0.99</td></tr>",
                            "<tr><td>2290</td><td>The Wrong Child</td><td>Green</td><td>0.99</td></tr>",
                            "<tr><td>2294</td><td>I Remember California</td><td>Green</td><td>0.99</td></tr>",
                            "<tr><td>2298</td><td>New Test Leper</td><td>New Adventures In Hi-Fi</td><td>0.99</td></tr>",
                            "<tr><td>2302</td><td>Departure</td><td>New Adventures In Hi-Fi</td><td>0.99</td></tr>",
                            "<tr><td>2306</td><td>Zither</td><td>New Adventures In Hi-Fi</td><td>0.99</td></tr>",
                            "<tr><td>2310</td><td>Losing My Religion</td><td>Out Of Time</td><td>0.99</td></tr>",
                            "<tr><td>2316</td><td>Texarkana</td><td>Out Of Time</td><td>0.99</td></tr>",
                            "<tr><td>2334</td><td>Infeliz Natal</td><td>Cesta Básica</td><td>0.99</td></tr>",
                            "<tr><td>2346</td><td>No Fundo Do Quintal Da Escola</td><td>Raul Seixas</td><td>0.99</td></tr>",
                            "<tr><td>2358</td><td>The Power Of Equality</td><td>Blood Sugar Sex Magik</td><td>0.99</td></tr>",
                            "<tr><td>2364</td><td>Mellowship Slinky In B Major</td><td>Blood Sugar Sex Magik</td><td>0.99</td></tr>",
                            "<tr><td>2373</td><td>Sir Psycho Sexy</td><td>Blood Sugar Sex Magik</td><td>0.99</td></tr>",
                            "<tr><td>2382</td><td>I Could Die For You</td><td>By The Way</td><td>0.99</td></tr>",
                            "<tr><td>2391</td><td>Around The World</td><td>Californication</td><td>0.99</td></tr>",
                            "<tr><td>2400</td><td>I Like Dirt</td><td>Californication</td><td>0.99</td></tr>",
                            "<tr><td>2409</td><td>Freewill</td><td>Retrospective I (1974-1980)</td><td>0.99</td></tr>",
                            "<tr><td>2418</td><td>Fly By Night</td><td>Retrospective I (1974-1980)</td><td>0.99</td></tr>",
                            "<tr><td>2427</td><td>Santana Jam</td><td>Santana - As Years Go By</td><td>0.99</td></tr>",
                            "<tr><td>2436</td><td>The Right Thing</td><td>Greatest Hits</td><td>0.99</td></tr>",
                            "<tr><td>2445</td><td>For Your Babies</td><td>Greatest Hits</td><td>0.99</td></tr>",
                            "<tr><td>2454</td><td>Muçulmano</td><td>Maquinarama</td><td>0.99</td></tr>",
                            "<tr><td>2463</td><td>Zé Trindade</td><td>O Samba Poconé</td><td>0.99</td></tr>",
                            "<tr><td>2472</td><td>Lucky 13</td><td>Judas 0: B-Sides and Rarities</td><td>0.99</td></tr>",
                            "<tr><td>2490</td><td>Drown</td><td>Rotten Apples: Greatest Hits</td><td>0.99</td></tr>",
                            "<tr><td>2505</td><td>[Untitled]</td><td>Rotten Apples: Greatest Hits</td><td>0.99</td></tr>",
                            "<tr><td>2506</td><td>Nothing To Say</td><td>A-Sides</td><td>0.99</td></tr>",
                            "<tr><td>2508</td><td>Loud Love</td><td>A-Sides</td><td>0.99</td></tr>",
                            "<tr><td>2510</td><td>Get On The Snake</td><td>A-Sides</td><td>0.99</td></tr>",
                            "<tr><td>2512</td><td>Outshined</td><td>A-Sides</td><td>0.99</td></tr>",
                            "<tr><td>2514</td><td>Spoonman</td><td>A-Sides</td><td>0.99</td></tr>",
                            "<tr><td>2516</td><td>Black Hole Sun</td><td>A-Sides</td><td>0.99</td></tr>",
                            "<tr><td>2522</td><td>Bleed Together</td><td>A-Sides</td><td>0.99</td></tr>",
                            "<tr><td>2526</td><td>Song For Lorraine</td><td>Morning Dance</td><td>0.99</td></tr>",
                            "<tr><td>2530</td><td>Little Linda</td><td>Morning Dance</td><td>0.99</td></tr>",
                            "<tr><td>2534</td><td>Tightrope</td><td>In Step</td><td>0.99</td></tr>",
                            "<tr><td>2538</td><td>Wall Of Denial</td><td>In Step</td><td>0.99</td></tr>",
                            "<tr><td>2542</td><td>Dead And Bloated</td><td>Core</td><td>0.99</td></tr>",
                            "<tr><td>2548</td><td>Creep</td><td>Core</td><td>0.99</td></tr>",
                            "<tr><td>2566</td><td>Dark Corners</td><td>[1997] Black Light Syndrome</td><td>0.99</td></tr>",
                            "<tr><td>2578</td><td>Miracle To Me</td><td>Live [Disc 1]</td><td>0.99</td></tr>",
                            "<tr><td>2590</td><td>Remedy</td><td>Live [Disc 2]</td><td>0.99</td></tr>",
                            "<tr><td>2596</td><td>Tommy Gun</td><td>The Singles</td><td>0.99</td></tr>",
                            "<tr><td>2605</td><td>This Is Radio Clash</td><td>The Singles</td><td>0.99</td></tr>",
                            "<tr><td>2614</td><td>Nico</td><td>Beyond Good And Evil</td><td>0.99</td></tr>",
                            "<tr><td>2623</td><td>Lil&#39; Evil</td><td>Pure Cult: The Best Of The Cult (For Rockers, Ravers, Lovers &amp; Sinners) [UK]</td><td>0.99</td></tr>",
                            "<tr><td>2632</td><td>Love</td><td>Pure Cult: The Best Of The Cult (For Rockers, Ravers, Lovers &amp; Sinners) [UK]</td><td>0.99</td></tr>",
                            "<tr><td>2641</td><td>The Crystal Ship</td><td>The Doors</td><td>0.99</td></tr>",
                            "<tr><td>2650</td><td>Roxanne</td><td>The Police Greatest Hits</td><td>0.99</td></tr>",
                            "<tr><td>2659</td><td>Every Breath You Take</td><td>The Police Greatest Hits</td><td>0.99</td></tr>",
                            "<tr><td>2668</td><td>As Tears Go By</td><td>Hot Rocks, 1964-1971 (Disc 1)</td><td>0.99</td></tr>",
                            "<tr><td>2677</td><td>You Got Me Rocking</td><td>No Security</td><td>0.99</td></tr>",
                            "<tr><td>2686</td><td>Respectable</td><td>No Security</td><td>0.99</td></tr>",
                            "<tr><td>2695</td><td>Moon Is Up</td><td>Voodoo Lounge</td><td>0.99</td></tr>",
                            "<tr><td>2704</td><td>Mean Disposition</td><td>Voodoo Lounge</td><td>0.99</td></tr>",
                            "<tr><td>2722</td><td>Psychopomp</td><td>Transmission</td><td>0.99</td></tr>",
                            "<tr><td>2737</td><td>Happy Jack</td><td>My Generation - The Very Best Of The Who</td><td>0.99</td></tr>",
                            "<tr><td>2738</td><td>Pictures Of Lily</td><td>My Generation - The Very Best Of The Who</td><td>0.99</td></tr>",
                            "<tr><td>2740</td><td>Magic Bus</td><td>My Generation - The Very Best Of The Who</td><td>0.99</td></tr>",
                            "<tr><td>2742</td><td>The Seeker</td><td>My Generation - The Very Best Of The Who</td><td>0.99</td></tr>",
                            "<tr><td>2744</td><td>Won&#39;t Get Fooled Again (Full Length Version)</td><td>My Generation - The Very Best Of The Who</td><td>0.99</td></tr>",
                            "<tr><td>2746</td><td>5.15</td><td>My Generation - The Very Best Of The Who</td><td>0.99</td></tr>",
                            "<tr><td>2748</td><td>Squeeze Box</td><td>My Generation - The Very Best Of The Who</td><td>0.99</td></tr>",
                            "<tr><td>2754</td><td>O Descobridor Dos Sete Mares</td><td>Serie Sem Limite (Disc 1)</td><td>0.99</td></tr>",
                            "<tr><td>2758</td><td>Não Vou Ficar</td><td>Serie Sem Limite (Disc 1)</td><td>0.99</td></tr>",
                            "<tr><td>2762</td><td>Cristina Nº 2</td><td>Serie Sem Limite (Disc 1)</td><td>0.99</td></tr>",
                            "<tr><td>2766</td><td>O Que Me Importa</td><td>Serie Sem Limite (Disc 2)</td><td>0.99</td></tr>",
                            "<tr><td>2770</td><td>Eu Amo Você</td><td>Serie Sem Limite (Disc 2)</td><td>0.99</td></tr>",
                            "<tr><td>2774</td><td>Nosso Adeus</td><td>Serie Sem Limite (Disc 2)</td><td>0.99</td></tr>",
                            "<tr><td>2780</td><td>Formigueiro</td><td>Serie Sem Limite (Disc 2)</td><td>0.99</td></tr>",
                            "<tr><td>2798</td><td>Homem Primata</td><td>Acústico</td><td>0.99</td></tr>",
                            "<tr><td>2810</td><td>Caras Como Eu</td><td>Volume Dois</td><td>0.99</td></tr>",
                            "<tr><td>2927</td><td>Even Better Than The Real Thing</td><td>Achtung Baby</td><td>0.99</td></tr>",
                            "<tr><td>2936</td><td>Acrobat</td><td>Achtung Baby</td><td>0.99</td></tr>",
                            "<tr><td>2954</td><td>Dancing Barefoot</td><td>B-Sides 1980-1990</td><td>0.99</td></tr>",
                            "<tr><td>2969</td><td>All Because Of You</td><td>How To Dismantle An Atomic Bomb</td><td>0.99</td></tr>",
                            "<tr><td>2970</td><td>A Man And A Woman</td><td>How To Dismantle An Atomic Bomb</td><td>0.99</td></tr>",
                            "<tr><td>2972</td><td>One Step Closer</td><td>How To Dismantle An Atomic Bomb</td><td>0.99</td></tr>",
                            "<tr><td>2974</td><td>Yahweh</td><td>How To Dismantle An Atomic Bomb</td><td>0.99</td></tr>",
                            "<tr><td>2976</td><td>Do You Feel Loved</td><td>Pop</td><td>0.99</td></tr>",
                            "<tr><td>2978</td><td>If God Will Send His Angels</td><td>Pop</td><td>0.99</td></tr>",
                            "<tr><td>2980</td><td>Last Night On Earth</td><td>Pop</td><td>0.99</td></tr>",
                            "<tr><td>2986</td><td>Wake Up Dead Man</td><td>Pop</td><td>0.99</td></tr>",
                            "<tr><td>2990</td><td>Hawkmoon 269</td><td>Rattle And Hum</td><td>0.99</td></tr>",
                            "<tr><td>2994</td><td>Silver And Gold</td><td>Rattle And Hum</td><td>0.99</td></tr>",
                            "<tr><td>2998</td><td>When Love Comes To Town</td><td>Rattle And Hum</td><td>0.99</td></tr>",
                            "<tr><td>3002</td><td>Bullet The Blue Sky</td><td>Rattle And Hum</td><td>0.99</td></tr>",
                            "<tr><td>3006</td><td>With Or Without You</td><td>The Best Of 1980-1990</td><td>0.99</td></tr>",
                            "<tr><td>3012</td><td>The Unforgettable Fire</td><td>The Best Of 1980-1990</td><td>0.99</td></tr>",
                            "<tr><td>3030</td><td>Numb</td><td>Zooropa</td><td>0.99</td></tr>",
                            "<tr><td>3042</td><td>Here I Am (Come And Take Me)</td><td>UB40 The Best Of - Volume Two [UK]</td><td>0.99</td></tr>",
                            "<tr><td>3054</td><td>Cathedral</td><td>Diver Down</td><td>0.99</td></tr>",
                            "<tr><td>3060</td><td>Little Guitars</td><td>Diver Down</td><td>0.99</td></tr>",
                            "<tr><td>3069</td><td>Unchained</td><td>The Best Of Van Halen, Vol. I</td><td>0.99</td></tr>",
                            "<tr><td>3078</td><td>Humans Being</td><td>The Best Of Van Halen, Vol. I</td><td>0.99</td></tr>",
                            "<tr><td>3087</td><td>Atomic Punk</td><td>Van Halen</td><td>0.99</td></tr>",
                            "<tr><td>3096</td><td>Dirty Water Dog</td><td>Van Halen III</td><td>0.99</td></tr>",
                            "<tr><td>3105</td><td>Do It For The Kids</td><td>Contraband</td><td>0.99</td></tr>",
                            "<tr><td>3114</td><td>Slither</td><td>Contraband</td><td>0.99</td></tr>",
                            "<tr><td>3123</td><td>Samba Pra Endrigo</td><td>Vinicius De Moraes</td><td>0.99</td></tr>",
                            "<tr><td>3132</td><td>Still Of The Night</td><td>Greatest Hits</td><td>0.99</td></tr>",
                            "<tr><td>3141</td><td>You&#39;re Gonna Break My Hart Again</td><td>Greatest Hits</td><td>0.99</td></tr>",
                            "<tr><td>3150</td><td>Coração Em Desalinho</td><td>Ao Vivo [IMPORT]</td><td>0.99</td></tr>",
                            "<tr><td>3159</td><td>Camarão que Dorme e Onda Leva</td><td>Ao Vivo [IMPORT]</td><td>0.99</td></tr>",
                            "<tr><td>3262</td><td>Imagine</td><td>Instant Karma: The Amnesty International Campaign to Save Darfur</td><td>0.99</td></tr>",
                            "<tr><td>3274</td><td>God</td><td>Instant Karma: The Amnesty International Campaign to Save Darfur</td><td>0.99</td></tr>",
                            "<tr><td>3286</td><td>Iron Man/Children of the Grave</td><td>Speak of the Devil</td><td>0.99</td></tr>",
                            "<tr><td>3292</td><td>Still Loving You</td><td>20th Century Masters - The Millennium Collection: The Best of Scorpions</td><td>0.99</td></tr>",
                            "<tr><td>3301</td><td>Salutations</td><td>House of Pain</td><td>0.99</td></tr>",
                            "<tr><td>3310</td><td>Commercial 2</td><td>House of Pain</td><td>0.99</td></tr>",
                            "<tr><td>3319</td><td>Instinto Colectivo</td><td>Radio Brasil (O Som da Jovem Vanguarda) - Seleccao de Henrique Amaro</td><td>0.99</td></tr>",
                            "<tr><td>3328</td><td>Armadura</td><td>Radio Brasil (O Som da Jovem Vanguarda) - Seleccao de Henrique Amaro</td><td>0.99</td></tr>",
                            "<tr><td>3355</td><td>Love Comes</td><td>Every Kind of Light</td><td>0.99</td></tr>",
                            "<tr><td>3373</td><td>Four Walled World</td><td>Temple of the Dog</td><td>0.99</td></tr>",
                            "<tr><td>3382</td><td>Billie Jean</td><td>Carry On</td><td>0.99</td></tr>",
                            "<tr><td>3391</td><td>Sound of a Gun</td><td>Revelations</td><td>0.99</td></tr>",
                            "<tr><td>3400</td><td>Moth</td><td>Revelations</td><td>0.99</td></tr>",
                            "<tr><td>3409</td><td>Suite for Solo Cello No. 1 in G Major, BWV 1007: I. Prélude</td><td>Bach: The Cello Suites</td><td>0.99</td></tr>",
                            "<tr><td>3418</td><td>Die Walküre: The Ride of the Valkyries</td><td>Wagner: Favourite Overtures</td><td>0.99</td></tr>",
                            "<tr><td>3433</td><td>Concerto No.2 in F Major, BWV1047, I. Allegro</td><td>Bach: The Brandenburg Concertos</td><td>0.99</td></tr>",
                            "<tr><td>3434</td><td>Concerto for Piano No. 2 in F Minor, Op. 21: II. Larghetto</td><td>Chopin: Piano Concertos Nos. 1 &amp; 2</td><td>0.99</td></tr>",
                            "<tr><td>3436</td><td>Karelia Suite, Op.11: 2. Ballade (Tempo Di Menuetto)</td><td>Sibelius: Finlandia</td><td>0.99</td></tr>",
                            "<tr><td>3438</td><td>Fantasia On Greensleeves</td><td>The World of Classical Favourites</td><td>0.99</td></tr>",
                            "<tr><td>3440</td><td>Concerto for Cello and Orchestra in E minor, Op. 85: I. Adagio - Moderato</td><td>Elgar: Cello Concerto &amp; Vaughan Williams: Fantasias</td><td>0.99</td></tr>",
                            "<tr><td>3442</td><td>Wellington&#39;s Victory or the Battle Symphony, Op.91: 2. Symphony of Triumph</td><td>Tchaikovsky: 1812 Festival Overture, Op.49, Capriccio Italien &amp; Beethoven: Wellington&#39;s Victory</td><td>0.99</td></tr>",
                            "<tr><td>3444</td><td>Romeo et Juliette: No. 11 - Danse des Chevaliers</td><td>Prokofiev: Romeo &amp; Juliet</td><td>0.99</td></tr>",
                            "<tr><td>3450</td><td>Peer Gynt Suite No.1, Op.46: 1. Morning Mood</td><td>Grieg: Peer Gynt Suites &amp; Sibelius: Pelléas et Mélisande</td><td>0.99</td></tr>",
                            "<tr><td>3454</td><td>Symphony No. 41 in C Major, K. 551, &quot;Jupiter&quot;: IV. Molto allegro</td><td>Mozart: Symphonies Nos. 40 &amp; 41</td><td>0.99</td></tr>",
                            "<tr><td>3458</td><td>Just Friends</td><td>Back to Black</td><td>0.99</td></tr>",
                            "<tr><td>3462</td><td>Wake Up Alone</td><td>Back to Black</td><td>0.99</td></tr>",
                            "<tr><td>3466</td><td>Rehab (Hot Chip Remix)</td><td>Back to Black</td><td>0.99</td></tr>",
                            "<tr><td>3470</td><td>I Heard Love Is Blind</td><td>Frank</td><td>0.99</td></tr>",
                            "<tr><td>3476</td><td>Help Yourself</td><td>Frank</td><td>0.99</td></tr>",
                            "<tr><td>3494</td><td>Symphony No. 2, Op. 16 -  &quot;The Four Temperaments&quot;: II. Allegro Comodo e Flemmatico</td><td>Nielsen: The Six Symphonies</td><td>0.99</td></tr>",
                            "<tr><td>3</td><td>Fast As a Shark</td><td>Restless and Wild</td><td>0.99</td></tr>",
                            "<tr><td>15</td><td>Go Down</td><td>Let There Be Rock</td><td>0.99</td></tr>",
                            "<tr><td>21</td><td>Hell Ain&#39;t A Bad Place To Be</td><td>Let There Be Rock</td><td>0.99</td></tr>",
                            "<tr><td>30</td><td>Amazing</td><td>Big Ones</td><td>0.99</td></tr>",
                            "<tr><td>39</td><td>You Oughta Know</td><td>Jagged Little Pill</td><td>0.99</td></tr>",
                            "<tr><td>57</td><td>It Ain&#39;t Like That</td><td>Facelift</td><td>0.99</td></tr>",
                            "<tr><td>75</td><td>O Boto (Bôto)</td><td>Warner 25 Anos</td><td>0.99</td></tr>",
                            "<tr><td>93</td><td>Exploder</td><td>Audioslave</td><td>0.99</td></tr>",
                            "<tr><td>102</td><td>Doesn&#39;t Remind Me</td><td>Out Of Exile</td><td>0.99</td></tr>",
                            "<tr><td>111</td><td>Money</td><td>BackBeat Soundtrack</td><td>0.99</td></tr>",
                            "<tr><td>120</td><td>Carol</td><td>BackBeat Soundtrack</td><td>0.99</td></tr>",
                            "<tr><td>129</td><td>Solo-Panhandler</td><td>The Best Of Billy Cobham</td><td>0.99</td></tr>",
                            "<tr><td>138</td><td>Bored To Tears</td><td>Alcohol Fueled Brewtality Live! [Disc 1]</td><td>0.99</td></tr>",
                            "<tr><td>147</td><td>Blood In The Wall</td><td>Alcohol Fueled Brewtality Live! [Disc 2]</td><td>0.99</td></tr>",
                            "<tr><td>163</td><td>Laguna Sunrise</td><td>Black Sabbath Vol. 4 (Remaster)</td><td>0.99</td></tr>",
                            "<tr><td>165</td><td>Under The Sun/Every Day Comes and Goes</td><td>Black Sabbath Vol. 4 (Remaster)</td><td>0.99</td></tr>",
                            "<tr><td>167</td><td>Body Count&#39;s In The House</td><td>Body Count</td><td>0.99</td></tr>",
                            "<tr><td>169</td><td>Body Count</td><td>Body Count</td><td>0.99</td></tr>",
                            "<tr><td>173</td><td>KKK Bitch</td><td>Body Count</td><td>0.99</td></tr>",
                            "<tr><td>179</td><td>Evil Dick</td><td>Body Count</td><td>0.99</td></tr>",
                            "<tr><td>183</td><td>King In Crimson</td><td>Chemical Wedding</td><td>0.99</td></tr>",
                            "<tr><td>187</td><td>Book Of Thel</td><td>Chemical Wedding</td><td>0.99</td></tr>",
                            "<tr><td>191</td><td>Machine Men</td><td>Chemical Wedding</td><td>0.99</td></tr>",
                            "<tr><td>195</td><td>Let Me Love You Baby</td><td>The Best Of Buddy Guy - The Millenium Collection</td><td>0.99</td></tr>",
                            "<tr><td>199</td><td>Leave My Girl Alone</td><td>The Best Of Buddy Guy - The Millenium Collection</td><td>0.99</td></tr>",
                            "<tr><td>205</td><td>Jorge Da Capadócia</td><td>Prenda Minha</td><td>0.99</td></tr>",
                            "<tr><td>223</td><td>Sozinho (Hitmakers Classic Mix)</td><td>Sozinho Remix Ao Vivo</td><td>0.99</td></tr>",
                            "<tr><td>235</td><td>Apesar De Você</td><td>Minha Historia</td><td>0.99</td></tr>",
                            "<tr><td>247</td><td>O Cidadão Do Mundo</td><td>Afrociberdelia</td><td>0.99</td></tr>",
                            "<tr><td>253</td><td>Maracatu Atômico</td><td>Afrociberdelia</td><td>0.99</td></tr>",
                            "<tr><td>262</td><td>Interlude Zumbi</td><td>Afrociberdelia</td><td>0.99</td></tr>",
                            "<tr><td>271</td><td>Rios Pontes &amp; Overdrives</td><td>Da Lama Ao Caos</td><td>0.99</td></tr>",
                            "<tr><td>289</td><td>Podes Crer</td><td>Acústico MTV [Live]</td><td>0.99</td></tr>",
                            "<tr><td>307</td><td>Doutor</td><td>Cidade Negra - Hits</td><td>0.99</td></tr>",
                            "<tr><td>325</td><td>TriboTchan</td><td>Axé Bahia 2001</td><td>0.99</td></tr>",
                            "<tr><td>334</td><td>Reggae Tchan</td><td>Axé Bahia 2001</td><td>0.99</td></tr>",
                            "<tr><td>343</td><td>Communication Breakdown(2)</td><td>BBC Sessions [Disc 1] [Live]</td><td>0.99</td></tr>",
                            "<tr><td>352</td><td>Carolina Hard-Core Ecstasy</td><td>Bongo Fury</td><td>0.99</td></tr>",
                            "<tr><td>361</td><td>X-9 2001</td><td>Carnaval 2001</td><td>0.99</td></tr>",
                            "<tr><td>370</td><td>Ipiranga 2001</td><td>Carnaval 2001</td><td>0.99</td></tr>",
                            "<tr><td>379</td><td>Água de Beber</td><td>Chill: Brazil (Disc 1)</td><td>0.99</td></tr>",
                            "<tr><td>395</td><td>Eu Vim Da Bahia - Live</td><td>Chill: Brazil (Disc 2)</td><td>0.99</td></tr>",
                            "<tr><td>397</td><td>Linha Do Horizonte</td><td>Chill: Brazil (Disc 2)</td><td>0.99</td></tr>",
                            "<tr><td>399</td><td>Abrir A Porta</td><td>Chill: Brazil (Disc 2)</td><td>0.99</td></tr>",
                            "<tr><td>401</td><td>Momentos Que Marcam</td><td>Chill: Brazil (Disc 2)</td><td>0.99</td></tr>",
                            "<tr><td>405</td><td>Santo Antonio</td><td>Chill: Brazil (Disc 2)</td><td>0.99</td></tr>",
                            "<tr><td>411</td><td>Turn The Page</td><td>Garage Inc. (Disc 1)</td><td>0.99</td></tr>",
                            "<tr><td>415</td><td>Astronomy</td><td>Garage Inc. (Disc 1)</td><td>0.99</td></tr>",
                            "<tr><td>419</td><td>A Kind Of Magic</td><td>Greatest Hits II</td><td>0.99</td></tr>",
                            "<tr><td>423</td><td>I Want To Break Free</td><td>Greatest Hits II</td><td>0.99</td></tr>",
                            "<tr><td>427</td><td>Who Wants To Live Forever</td><td>Greatest Hits II</td><td>0.99</td></tr>",
                            "<tr><td>431</td><td>The Invisible Man</td><td>Greatest Hits II</td><td>0.99</td></tr>",
                            "<tr><td>437</td><td>Black Diamond</td><td>Greatest Kiss</td><td>0.99</td></tr>",
                            "<tr><td>455</td><td>God Gave Rock &#39;n&#39; Roll To You</td><td>Greatest Kiss</td><td>0.99</td></tr>",
                            "<tr><td>467</td><td>Best Thing</td><td>Heart of the Night</td><td>0.99</td></tr>",
                            "<tr><td>479</td><td>Walking Contradiction</td><td>International Superhits</td><td>0.99</td></tr>",
                            "<tr><td>485</td><td>Minority</td><td>International Superhits</td><td>0.99</td></tr>",
                            "<tr><td>494</td><td>Slave</td><td>Into The Light</td><td>0.99</td></tr>",
                            "<tr><td>503</td><td>Começaria Tudo Outra Vez</td><td>Meus Momentos</td><td>0.99</td></tr>",
                            "<tr><td>521</td><td>Menino Do Rio</td><td>Minha Historia</td><td>0.99</td></tr>",
                            "<tr><td>539</td><td>Rita Lee</td><td>Minha História</td><td>0.99</td></tr>",
                            "<tr><td>557</td><td>Beija-Flor</td><td>Sambas De Enredo 2001</td><td>0.99</td></tr>",
                            "<tr><td>566</td><td>Caprichosos</td><td>Sambas De Enredo 2001</td><td>0.99</td></tr>",
                            "<tr><td>575</td><td>Do You Like The Way</td><td>Supernatural</td><td>0.99</td></tr>",
                            "<tr><td>584</td><td>Manuel</td><td>The Best of Ed Motta</td><td>0.99</td></tr>",
                            "<tr><td>593</td><td>Do You Have Other Loves?</td><td>The Best of Ed Motta</td><td>0.99</td></tr>",
                            "<tr><td>602</td><td>&#39;Round Midnight</td><td>The Essential Miles Davis [Disc 1]</td><td>0.99</td></tr>",
                            "<tr><td>611</td><td>E.S.P.</td><td>The Essential Miles Davis [Disc 2]</td><td>0.99</td></tr>",
                            "<tr><td>627</td><td>Let Me Off Uptown</td><td>Up An&#39; Atom</td><td>0.99</td></tr>",
                            "<tr><td>629</td><td>Opus No.1</td><td>Up An&#39; Atom</td><td>0.99</td></tr>",
                            "<tr><td>631</td><td>How High The Moon</td><td>Up An&#39; Atom</td><td>0.99</td></tr>",
                            "<tr><td>633</td><td>Up An&#39; Atom</td><td>Up An&#39; Atom</td><td>0.99</td></tr>",
                            "<tr><td>637</td><td>Overtime</td><td>Up An&#39; Atom</td><td>0.99</td></tr>",
                            "<tr><td>643</td><td>Jungle Drums</td><td>Up An&#39; Atom</td><td>0.99</td></tr>",
                            "<tr><td>647</td><td>Pot-Pourri N.º 4</td><td>Vinícius De Moraes - Sem Limite</td><td>0.99</td></tr>",
                            "<tr><td>651</td><td>Pot-Pourri N.º 5</td><td>Vinícius De Moraes - Sem Limite</td><td>0.99</td></tr>",
                            "<tr><td>655</td><td>Por Que Será</td><td>Vinícius De Moraes - Sem Limite</td><td>0.99</td></tr>",
                            "<tr><td>659</td><td>Samba Em Prelúdio</td><td>Vinícius De Moraes - Sem Limite</td><td>0.99</td></tr>",
                            "<tr><td>663</td><td>Chão de Giz (Elba Ramalho)</td><td>Vozes do MPB</td><td>0.99</td></tr>",
                            "<tr><td>669</td><td>Caçador de Mim (Sá &amp; Guarabyra)</td><td>Vozes do MPB</td><td>0.99</td></tr>",
                            "<tr><td>687</td><td>Run Through The Jungle</td><td>Chronicle, Vol. 1</td><td>0.99</td></tr>",
                            "<tr><td>699</td><td>Tombstone Shadow</td><td>Chronicle, Vol. 2</td><td>0.99</td></tr>",
                            "<tr><td>711</td><td>Molina</td><td>Chronicle, Vol. 2</td><td>0.99</td></tr>",
                            "<tr><td>717</td><td>Eu Sou Neguinha (Ao Vivo)</td><td>Cássia Eller - Coleção Sem Limite [Disc 2]</td><td>0.99</td></tr>",
                            "<tr><td>726</td><td>Palavras Ao Vento</td><td>Cássia Eller - Coleção Sem Limite [Disc 2]</td><td>0.99</td></tr>",
                            "<tr><td>735</td><td>Metrô. Linha 743</td><td>Cássia Eller - Sem Limite [Disc 1]</td><td>0.99</td></tr>",
                            "<tr><td>753</td><td>You Keep On Moving</td><td>Come Taste The Band</td><td>0.99</td></tr>",
                            "<tr><td>771</td><td>Nobody&#39;s Home</td><td>Knocking at Your Back Door: The Best Of Deep Purple in the 80&#39;s</td><td>0.99</td></tr>",
                            "<tr><td>789</td><td>Sometimes I Feel Like Screaming</td><td>Purpendicular</td><td>0.99</td></tr>",
                            "<tr><td>798</td><td>King Of Dreams</td><td>Slaves And Masters</td><td>0.99</td></tr>",
                            "<tr><td>807</td><td>Stormbringer</td><td>Stormbringer</td><td>0.99</td></tr>",
                            "<tr><td>816</td><td>The Battle Rages On</td><td>The Battle Rages On</td><td>0.99</td></tr>",
                            "<tr><td>825</td><td>One Man&#39;s Meat</td><td>The Battle Rages On</td><td>0.99</td></tr>",
                            "<tr><td>834</td><td>When Love &amp; Hate Collide</td><td>Vault: Def Leppard&#39;s Greatest Hits</td><td>0.99</td></tr>",
                            "<tr><td>843</td><td>Otay</td><td>Outbreak</td><td>0.99</td></tr>",
                            "<tr><td>859</td><td>Se...</td><td>Djavan Ao Vivo - Vol. 02</td><td>0.99</td></tr>",
                            "<tr><td>861</td><td>Lilás</td><td>Djavan Ao Vivo - Vol. 02</td><td>0.99</td></tr>",
                            "<tr><td>863</td><td>Um Amor Puro</td><td>Djavan Ao Vivo - Vol. 02</td><td>0.99</td></tr>",
                            "<tr><td>865</td><td>Nem Um Dia</td><td>Djavan Ao Vivo - Vol. 1</td><td>0.99</td></tr>",
                            "<tr><td>869</td><td>Flor De Lis</td><td>Djavan Ao Vivo - Vol. 1</td><td>0.99</td></tr>",
                            "<tr><td>875</td><td>Acelerou</td><td>Djavan Ao Vivo - Vol. 1</td><td>0.99</td></tr>",
                            "<tr><td>879</td><td>Atrás da Porta</td><td>Elis Regina-Minha História</td><td>0.99</td></tr>",
                            "<tr><td>883</td><td>Alô, Alô, Marciano</td><td>Elis Regina-Minha História</td><td>0.99</td></tr>",
                            "<tr><td>887</td><td>As Aparências Enganam</td><td>Elis Regina-Minha História</td><td>0.99</td></tr>",
                            "<tr><td>891</td><td>Layla</td><td>The Cream Of Clapton</td><td>0.99</td></tr>",
                            "<tr><td>895</td><td>Crossroads</td><td>The Cream Of Clapton</td><td>0.99</td></tr>",
                            "<tr><td>901</td><td>After Midnight</td><td>The Cream Of Clapton</td><td>0.99</td></tr>",
                            "<tr><td>919</td><td>San Francisco Bay Blues</td><td>Unplugged</td><td>0.99</td></tr>",
                            "<tr><td>931</td><td>Got That Feeling</td><td>Album Of The Year</td><td>0.99</td></tr>",
                            "<tr><td>943</td><td>Be Aggressive</td><td>Angel Dust</td><td>0.99</td></tr>",
                            "<tr><td>949</td><td>Get Out</td><td>King For A Day Fool For A Lifetime</td><td>0.99</td></tr>",
                            "<tr><td>958</td><td>Take This Bottle</td><td>King For A Day Fool For A Lifetime</td><td>0.99</td></tr>",
                            "<tr><td>967</td><td>Surprise! You&#39;re Dead!</td><td>The Real Thing</td><td>0.99</td></tr>",
                            "<tr><td>985</td><td>Medo De Escuro</td><td>Deixa Entrar</td><td>0.99</td></tr>",
                            "<tr><td>1003</td><td>Friend Of A Friend</td><td>In Your Honor [Disc 2]</td><td>0.99</td></tr>",
                            "<tr><td>1021</td><td>Monkey Wrench</td><td>The Colour And The Shape</td><td>0.99</td></tr>",
                            "<tr><td>1030</td><td>Everlong</td><td>The Colour And The Shape</td><td>0.99</td></tr>",
                            "<tr><td>1039</td><td>What Now My Love</td><td>My Way: The Best Of Frank Sinatra [Disc 1]</td><td>0.99</td></tr>",
                            "<tr><td>1048</td><td>It Was A Very Good Year</td><td>My Way: The Best Of Frank Sinatra [Disc 1]</td><td>0.99</td></tr>",
                            "<tr><td>1057</td><td>Entrando Na Sua (Intro)</td><td>Roda De Funk</td><td>0.99</td></tr>",
                            "<tr><td>1066</td><td>Dujji</td><td>Roda De Funk</td><td>0.99</td></tr>",
                            "<tr><td>1075</td><td>Esperando Na Janela</td><td>As Canções de Eu Tu Eles</td><td>0.99</td></tr>",
                            "<tr><td>1091</td><td>Refavela (Live)</td><td>Quanta Gente Veio Ver (Live)</td><td>0.99</td></tr>",
                            "<tr><td>1093</td><td>Quanta (Live)</td><td>Quanta Gente Veio Ver (Live)</td><td>0.99</td></tr>",
                            "<tr><td>1095</td><td>Pela Internet (Live)</td><td>Quanta Gente Veio Ver (Live)</td><td>0.99</td></tr>",
                            "<tr><td>1097</td><td>Opachorô (Live)</td><td>Quanta Gente Veio Ver (Live)</td><td>0.99</td></tr>",
                            "<tr><td>1101</td><td>De Ouro E Marfim (Live)</td><td>Quanta Gente Veio Ver (Live)</td><td>0.99</td></tr>",
                            "<tr><td>1107</td><td>Refazenda</td><td>Unplugged</td><td>0.99</td></tr>",
                            "<tr><td>1111</td><td>A Paz</td><td>Unplugged</td><td>0.99</td></tr>",
                            "<tr><td>1115</td><td>Tempo Rei</td><td>Unplugged</td><td>0.99</td></tr>",
                            "<tr><td>1119</td><td>Toda Menina Baiana</td><td>Unplugged</td><td>0.99</td></tr>",
                            "<tr><td>1123</td><td>Changes</td><td>Faceless</td><td>0.99</td></tr>",
                            "<tr><td>1127</td><td>I Fucking Hate You</td><td>Faceless</td><td>0.99</td></tr>",
                            "<tr><td>1133</td><td>American Idiot</td><td>American Idiot</td><td>0.99</td></tr>",
                            "<tr><td>1151</td><td>Paradise City</td><td>Appetite for Destruction</td><td>0.99</td></tr>",
                            "<tr><td>1163</td><td>You Ain&#39;t the First</td><td>Use Your Illusion I</td><td>0.99</td></tr>",
                            "<tr><td>1175</td><td>14 Years</td><td>Use Your Illusion II</td><td>0.99</td></tr>",
                            "<tr><td>1181</td><td>Pretty Tied Up</td><td>Use Your Illusion II</td><td>0.99</td></tr>",
                            "<tr><td>1190</td><td>Magnetic Ocean</td><td>Blue Moods</td><td>0.99</td></tr>",
                            "<tr><td>1199</td><td>She Wears Black</td><td>Blue Moods</td><td>0.99</td></tr>",
                            "<tr><td>1217</td><td>Where Eagles Dare</td><td>A Real Dead One</td><td>0.99</td></tr>",
                            "<tr><td>1235</td><td>The Wicker Man</td><td>Brave New World</td><td>0.99</td></tr>",
                            "<tr><td>1253</td><td>Face In The Sand</td><td>Dance Of Death</td><td>0.99</td></tr>",
                            "<tr><td>1262</td><td>The Fugitive</td><td>Fear Of The Dark</td><td>0.99</td></tr>",
                            "<tr><td>1271</td><td>04 - Running Free</td><td>Iron Maiden</td><td>0.99</td></tr>",
                            "<tr><td>1280</td><td>Another Life</td><td>Killers</td><td>0.99</td></tr>",
                            "<tr><td>1289</td><td>2 Minutes To Midnight</td><td>Live After Death</td><td>0.99</td></tr>",
                            "<tr><td>1298</td><td>Run To The Hills</td><td>Live After Death</td><td>0.99</td></tr>",
                            "<tr><td>1307</td><td>Wrathchild</td><td>Live At Donington 1992 (Disc 1)</td><td>0.99</td></tr>",
                            "<tr><td>1323</td><td>Sanctuary</td><td>Live At Donington 1992 (Disc 2)</td><td>0.99</td></tr>",
                            "<tr><td>1325</td><td>Tailgunner</td><td>No Prayer For The Dying</td><td>0.99</td></tr>",
                            "<tr><td>1327</td><td>No Prayer For The Dying</td><td>No Prayer For The Dying</td><td>0.99</td></tr>",
                            "<tr><td>1329</td><td>Fates Warning</td><td>No Prayer For The Dying</td><td>0.99</td></tr>",
                            "<tr><td>1333</td><td>Bring Your Daughter... ...To The Slaughter</td><td>No Prayer For The Dying</td><td>0.99</td></tr>",
                            "<tr><td>1339</td><td>The Trooper</td><td>Piece Of Mind</td><td>0.99</td></tr>",
                            "<tr><td>1343</td><td>To Tame A Land</td><td>Piece Of Mind</td><td>0.99</td></tr>",
                            "<tr><td>1347</td><td>Flash of The Blade</td><td>Powerslave</td><td>0.99</td></tr>",
                            "<tr><td>1351</td><td>Rime of the Ancient Mariner</td><td>Powerslave</td><td>0.99</td></tr>",
                            "<tr><td>1355</td><td>Brave New World</td><td>Rock In Rio [CD1]</td><td>0.99</td></tr>",
                            "<tr><td>1359</td><td>Sign Of The Cross</td><td>Rock In Rio [CD1]</td><td>0.99</td></tr>",
                            "<tr><td>1365</td><td>Fear Of The Dark</td><td>Rock In Rio [CD2]</td><td>0.99</td></tr>",
                            "<tr><td>1383</td><td>Stranger in a Strange Land</td><td>Somewhere in Time</td><td>0.99</td></tr>",
                            "<tr><td>1395</td><td>Sign Of The Cross</td><td>The X Factor</td><td>0.99</td></tr>",
                            "<tr><td>1407</td><td>The Angel And The Gambler</td><td>Virtual XI</td><td>0.99</td></tr>",
                            "<tr><td>1413</td><td>Como Estais Amigos</td><td>Virtual XI</td><td>0.99</td></tr>",
                            "<tr><td>1422</td><td>Say It Loud, I&#39;m Black And I&#39;m Proud Pt.1</td><td>Sex Machine</td><td>0.99</td></tr>",
                            "<tr><td>1431</td><td>I&#39;m Real</td><td>Sex Machine</td><td>0.99</td></tr>",
                            "<tr><td>1449</td><td>Destitute Illusions</td><td>Synkronized</td><td>0.99</td></tr>",
                            "<tr><td>1467</td><td>Are You Gonna Be My Girl</td><td>Get Born</td><td>0.99</td></tr>",
                            "<tr><td>1485</td><td>May This Be Love</td><td>Are You Experienced?</td><td>0.99</td></tr>",
                            "<tr><td>1494</td><td>The Wind Cries Mary</td><td>Are You Experienced?</td><td>0.99</td></tr>",
                            "<tr><td>1503</td><td>Lords of Karma</td><td>Surfing with the Alien (Remastered)</td><td>0.99</td></tr>",
                            "<tr><td>1512</td><td>Os Alquimistas Estão Chegando</td><td>Jorge Ben Jor 25 Anos</td><td>0.99</td></tr>",
                            "<tr><td>1521</td><td>As Dores do Mundo</td><td>Jota Quest-1995</td><td>0.99</td></tr>",
                            "<tr><td>1530</td><td>Sem Sentido</td><td>Jota Quest-1995</td><td>0.99</td></tr>",
                            "<tr><td>1539</td><td>Equinocio</td><td>Cafezinho</td><td>0.99</td></tr>",
                            "<tr><td>1555</td><td>Freewheel Burning</td><td>Living After Midnight</td><td>0.99</td></tr>",
                            "<tr><td>1557</td><td>Metal Meltdown</td><td>Living After Midnight</td><td>0.99</td></tr>",
                            "<tr><td>1559</td><td>Diamonds And Rust (Live)</td><td>Living After Midnight</td><td>0.99</td></tr>",
                            "<tr><td>1561</td><td>Tyrant (Live)</td><td>Living After Midnight</td><td>0.99</td></tr>",
                            "<tr><td>1565</td><td>Do You Love Me</td><td>Unplugged [Live]</td><td>0.99</td></tr>",
                            "<tr><td>1571</td><td>I Still Love You</td><td>Unplugged [Live]</td><td>0.99</td></tr>",
                            "<tr><td>1575</td><td>Nothin&#39; To Lose</td><td>Unplugged [Live]</td><td>0.99</td></tr>",
                            "<tr><td>1579</td><td>Since I&#39;ve Been Loving You</td><td>BBC Sessions [Disc 2] [Live]</td><td>0.99</td></tr>",
                            "<tr><td>1583</td><td>Going To California</td><td>BBC Sessions [Disc 2] [Live]</td><td>0.99</td></tr>",
                            "<tr><td>1587</td><td>We&#39;re Gonna Groove</td><td>Coda</td><td>0.99</td></tr>",
                            "<tr><td>1591</td><td>Ozone Baby</td><td>Coda</td><td>0.99</td></tr>",
                            "<tr><td>1597</td><td>Over The Hills And Far Away</td><td>Houses Of The Holy</td><td>0.99</td></tr>",
                            "<tr><td>1615</td><td>Four Sticks</td><td>IV</td><td>0.99</td></tr>",
                            "<tr><td>1627</td><td>Whole Lotta Love</td><td>Led Zeppelin II</td><td>0.99</td></tr>",
                            "<tr><td>1639</td><td>Since I&#39;ve Been Loving You</td><td>Led Zeppelin III</td><td>0.99</td></tr>",
                            "<tr><td>1645</td><td>Hats Off To (Roy) Harper</td><td>Led Zeppelin III</td><td>0.99</td></tr>",
                            "<tr><td>1654</td><td>Sick Again</td><td>Physical Graffiti [Disc 2]</td><td>0.99</td></tr>",
                            "<tr><td>1663</td><td>Celebration Day</td><td>The Song Remains The Same (Disc 1)</td><td>0.99</td></tr>",
                            "<tr><td>1681</td><td>Leila</td><td>A TempestadeTempestade Ou O Livro Dos Dias</td><td>0.99</td></tr>",
                            "<tr><td>1699</td><td>Giz</td><td>Mais Do Mesmo</td><td>0.99</td></tr>",
                            "<tr><td>1717</td><td>Assim Caminha A Humanidade</td><td>Lulu Santos - RCA 100 Anos De Música - Álbum 01</td><td>0.99</td></tr>",
                            "<tr><td>1726</td><td>Satisfação</td><td>Lulu Santos - RCA 100 Anos De Música - Álbum 01</td><td>0.99</td></tr>",
                            "<tr><td>1735</td><td>Ro-Que-Se-Da-Ne</td><td>Lulu Santos - RCA 100 Anos De Música - Álbum 02</td><td>0.99</td></tr>",
                            "<tr><td>1744</td><td>O Último Romântico (Ao Vivo)</td><td>Lulu Santos - RCA 100 Anos De Música - Álbum 02</td><td>0.99</td></tr>",
                            "<tr><td>1753</td><td>Childhoods End?</td><td>Misplaced Childhood</td><td>0.99</td></tr>",
                            "<tr><td>1762</td><td>Panis Et Circenses</td><td>Barulhinho Bom</td><td>0.99</td></tr>",
                            "<tr><td>1771</td><td>Segue O Seco</td><td>Barulhinho Bom</td><td>0.99</td></tr>",
                            "<tr><td>1787</td><td>You Sure Love To Ball</td><td>Seek And Shall Find: More Of The Best (1963-1981)</td><td>0.99</td></tr>",
                            "<tr><td>1789</td><td>Praise</td><td>Seek And Shall Find: More Of The Best (1963-1981)</td><td>0.99</td></tr>",
                            "<tr><td>1791</td><td>Down Under</td><td>The Best Of Men At Work</td><td>0.99</td></tr>",
                            "<tr><td>1793</td><td>Be Good Johnny</td><td>The Best Of Men At Work</td><td>0.99</td></tr>",
                            "<tr><td>1797</td><td>It&#39;s a Mistake</td><td>The Best Of Men At Work</td><td>0.99</td></tr>",
                            "<tr><td>1803</td><td>Holier Than Thou</td><td>Black Album</td><td>0.99</td></tr>",
                            "<tr><td>1807</td><td>Through The Never</td><td>Black Album</td><td>0.99</td></tr>",
                            "<tr><td>1811</td><td>My Friend Of Misery</td><td>Black Album</td><td>0.99</td></tr>",
                            "<tr><td>1815</td><td>The Wait</td><td>Garage Inc. (Disc 2)</td><td>0.99</td></tr>",
                            "<tr><td>1819</td><td>Blitzkrieg</td><td>Garage Inc. (Disc 2)</td><td>0.99</td></tr>",
                            "<tr><td>1823</td><td>So What</td><td>Garage Inc. (Disc 2)</td><td>0.99</td></tr>",
                            "<tr><td>1829</td><td>Hit The Lights</td><td>Kill &#39;Em All</td><td>0.99</td></tr>",
                            "<tr><td>1847</td><td>Poor Twisted Me</td><td>Load</td><td>0.99</td></tr>",
                            "<tr><td>1859</td><td>Orion</td><td>Master Of Puppets</td><td>0.99</td></tr>",
                            "<tr><td>1871</td><td>Low Man&#39;s Lyric</td><td>ReLoad</td><td>0.99</td></tr>",
                            "<tr><td>1877</td><td>Fade To Black</td><td>Ride The Lightning</td><td>0.99</td></tr>",
                            "<tr><td>1886</td><td>Invisible Kid</td><td>St. Anger</td><td>0.99</td></tr>",
                            "<tr><td>1895</td><td>Eye Of The Beholder</td><td>...And Justice For All</td><td>0.99</td></tr>",
                            "<tr><td>1913</td><td>Blues For Pablo (Alternate Take)</td><td>Miles Ahead</td><td>0.99</td></tr>",
                            "<tr><td>1931</td><td>Beijo Partido</td><td>Minas</td><td>0.99</td></tr>",
                            "<tr><td>1949</td><td>Jailbait</td><td>Ace Of Spades</td><td>0.99</td></tr>",
                            "<tr><td>1958</td><td>O Que Vai Em Meu Coração</td><td>Demorou...</td><td>0.99</td></tr>",
                            "<tr><td>1967</td><td>A Moça e a Chuva</td><td>Demorou...</td><td>0.99</td></tr>",
                            "<tr><td>1976</td><td>Same Ol&#39; Situation</td><td>Motley Crue Greatest Hits</td><td>0.99</td></tr>",
                            "<tr><td>1985</td><td>Shout At The Devil</td><td>Motley Crue Greatest Hits</td><td>0.99</td></tr>",
                            "<tr><td>1994</td><td>Spank Thru</td><td>From The Muddy Banks Of The Wishkah [Live]</td><td>0.99</td></tr>",
                            "<tr><td>2003</td><td>Smells Like Teen Spirit</td><td>Nevermind</td><td>0.99</td></tr>",
                            "<tr><td>2019</td><td>Poeira</td><td>Compositores</td><td>0.99</td></tr>",
                            "<tr><td>2021</td><td>Quem Mata A Mulher Mata O Melhor</td><td>Compositores</td><td>0.99</td></tr>",
                            "<tr><td>2023</td><td>O Braço Da Minha Guitarra</td><td>Compositores</td><td>0.99</td></tr>",
                            "<tr><td>2025</td><td>Mãe Terra</td><td>Compositores</td><td>0.99</td></tr>",
                            "<tr><td>2029</td><td>Elza</td><td>Compositores</td><td>0.99</td></tr>",
                            "<tr><td>2035</td><td>Todo Amor (Asas Da Liberdade)</td><td>Olodum</td><td>0.99</td></tr>",
                            "<tr><td>2039</td><td>Jeito Faceiro</td><td>Olodum</td><td>0.99</td></tr>",
                            "<tr><td>2043</td><td>Olodum - Smile (Instrumental)</td><td>Olodum</td><td>0.99</td></tr>",
                            "<tr><td>2047</td><td>Um Amor, Um Lugar</td><td>Acústico MTV</td><td>0.99</td></tr>",
                            "<tr><td>2051</td><td>Uns Dias</td><td>Acústico MTV</td><td>0.99</td></tr>",
                            "<tr><td>2055</td><td>Brasília 5:31</td><td>Acústico MTV</td><td>0.99</td></tr>",
                            "<tr><td>2061</td><td>Vamo Batê Lata</td><td>Acústico MTV</td><td>0.99</td></tr>",
                            "<tr><td>2079</td><td>Cinema Mudo</td><td>Arquivo Os Paralamas Do Sucesso</td><td>0.99</td></tr>",
                            "<tr><td>2091</td><td>Será Que Vai Chover?</td><td>Arquivo Os Paralamas Do Sucesso</td><td>0.99</td></tr>",
                            "<tr><td>2103</td><td>Flying High Again</td><td>Tribute</td><td>0.99</td></tr>",
                            "<tr><td>2109</td><td>Paranoid</td><td>Tribute</td><td>0.99</td></tr>",
                            "<tr><td>2118</td><td>Most High</td><td>Walking Into Clarksdale</td><td>0.99</td></tr>",
                            "<tr><td>2127</td><td>Your Blue Room</td><td>Original Soundtracks 1</td><td>0.99</td></tr>",
                            "<tr><td>2145</td><td>Sanctuary</td><td>The Beast Live</td><td>0.99</td></tr>",
                            "<tr><td>2163</td><td>Black</td><td>Live On Two Legs [Live]</td><td>0.99</td></tr>",
                            "<tr><td>2181</td><td>Cropduster</td><td>Riot Act</td><td>0.99</td></tr>",
                            "<tr><td>2190</td><td>1/2 Full</td><td>Riot Act</td><td>0.99</td></tr>",
                            "<tr><td>2199</td><td>Oceans</td><td>Ten</td><td>0.99</td></tr>",
                            "<tr><td>2208</td><td>Dissident</td><td>Vs.</td><td>0.99</td></tr>",
                            "<tr><td>2217</td><td>Don&#39;t Look Back</td><td>Greatest Hits</td><td>0.99</td></tr>",
                            "<tr><td>2226</td><td>Pick Myself Up</td><td>Greatest Hits</td><td>0.99</td></tr>",
                            "<tr><td>2235</td><td>Any Colour You Like</td><td>Dark Side Of The Moon</td><td>0.99</td></tr>",
                            "<tr><td>2251</td><td>Hemp Family</td><td>Os Cães Ladram Mas A Caravana Não Pára</td><td>0.99</td></tr>",
                            "<tr><td>2253</td><td>Se Liga</td><td>Os Cães Ladram Mas A Caravana Não Pára</td><td>0.99</td></tr>",
                            "<tr><td>2255</td><td>Another One Bites The Dust</td><td>Greatest Hits I</td><td>0.99</td></tr>",
                            "<tr><td>2257</td><td>Fat Bottomed Girls</td><td>Greatest Hits I</td><td>0.99</td></tr>",
                            "<tr><td>2261</td><td>Save Me</td><td>Greatest Hits I</td><td>0.99</td></tr>",
                            "<tr><td>2267</td><td>Flash</td><td>Greatest Hits I</td><td>0.99</td></tr>",
                            "<tr><td>2271</td><td>We Will Rock You</td><td>News Of The World</td><td>0.99</td></tr>",
                            "<tr><td>2275</td><td>Spread Your Wings</td><td>News Of The World</td><td>0.99</td></tr>",
                            "<tr><td>2279</td><td>Who Needs You</td><td>News Of The World</td><td>0.99</td></tr>",
                            "<tr><td>2283</td><td>Me In Honey</td><td>Out Of Time</td><td>0.99</td></tr>",
                            "<tr><td>2287</td><td>You Are The Everything</td><td>Green</td><td>0.99</td></tr>",
                            "<tr><td>2293</td><td>Hairshirt</td><td>Green</td><td>0.99</td></tr>",
                            "<tr><td>2311</td><td>Low</td><td>Out Of Time</td><td>0.99</td></tr>",
                            "<tr><td>2323</td><td>Don&#39;t Go Back To Rockville</td><td>The Best Of R.E.M.: The IRS Years</td><td>0.99</td></tr>",
                            "<tr><td>2335</td><td>A Sua</td><td>Cesta Básica</td><td>0.99</td></tr>",
                            "<tr><td>2341</td><td>Bê-a-Bá</td><td>Cesta Básica</td><td>0.99</td></tr>",
                            "<tr><td>2350</td><td>Sapato 36</td><td>Raul Seixas</td><td>0.99</td></tr>",
                            "<tr><td>2359</td><td>If You Have To Ask</td><td>Blood Sugar Sex Magik</td><td>0.99</td></tr>",
                            "<tr><td>2377</td><td>This Is The Place</td><td>By The Way</td><td>0.99</td></tr>",
                            "<tr><td>2395</td><td>Get On Top</td><td>Californication</td><td>0.99</td></tr>",
                            "<tr><td>2413</td><td>Anthem</td><td>Retrospective I (1974-1980)</td><td>0.99</td></tr>",
                            "<tr><td>2422</td><td>La Puesta Del Sol</td><td>Santana - As Years Go By</td><td>0.99</td></tr>",
                            "<tr><td>2431</td><td>Just Ain&#39;t Good Enough</td><td>Santana Live</td><td>0.99</td></tr>",
                            "<tr><td>2440</td><td>If You Don&#39;t Know Me By Now</td><td>Greatest Hits</td><td>0.99</td></tr>",
                            "<tr><td>2449</td><td>Água E Fogo</td><td>Maquinarama</td><td>0.99</td></tr>",
                            "<tr><td>2458</td><td>Fica</td><td>Maquinarama</td><td>0.99</td></tr>",
                            "<tr><td>2467</td><td>Os Exilados</td><td>O Samba Poconé</td><td>0.99</td></tr>",
                            "<tr><td>2483</td><td>Rock On</td><td>Judas 0: B-Sides and Rarities</td><td>0.99</td></tr>",
                            "<tr><td>2485</td><td>Winterlong</td><td>Judas 0: B-Sides and Rarities</td><td>0.99</td></tr>",
                            "<tr><td>2487</td><td>Blissed &amp; Gone</td><td>Judas 0: B-Sides and Rarities</td><td>0.99</td></tr>",
                            "<tr><td>2489</td><td>Rhinocerous</td><td>Rotten Apples: Greatest Hits</td><td>0.99</td></tr>",
                            "<tr><td>2493</td><td>Disarm</td><td>Rotten Apples: Greatest Hits</td><td>0.99</td></tr>",
                            "<tr><td>2499</td><td>Eye</td><td>Rotten Apples: Greatest Hits</td><td>0.99</td></tr>",
                            "<tr><td>2503</td><td>Stand Inside Your Love</td><td>Rotten Apples: Greatest Hits</td><td>0.99</td></tr>",
                            "<tr><td>2507</td><td>Flower</td><td>A-Sides</td><td>0.99</td></tr>",
                            "<tr><td>2511</td><td>Jesus Christ Pose</td><td>A-Sides</td><td>0.99</td></tr>",
                            "<tr><td>2515</td><td>The Day I Tried To Live</td><td>A-Sides</td><td>0.99</td></tr>",
                            "<tr><td>2519</td><td>Burden In My Hand</td><td>A-Sides</td><td>0.99</td></tr>",
                            "<tr><td>2525</td><td>Rasul</td><td>Morning Dance</td><td>0.99</td></tr>",
                            "<tr><td>2543</td><td>Sex Type Thing</td><td>Core</td><td>0.99</td></tr>",
                            "<tr><td>2555</td><td>B.Y.O.B.</td><td>Mezmerize</td><td>0.99</td></tr>",
                            "<tr><td>2567</td><td>Duende</td><td>[1997] Black Light Syndrome</td><td>0.99</td></tr>",
                            "<tr><td>2573</td><td>Sting Me</td><td>Live [Disc 1]</td><td>0.99</td></tr>",
                            "<tr><td>2582</td><td>Black Moon Creeping</td><td>Live [Disc 2]</td><td>0.99</td></tr>",
                            "<tr><td>2591</td><td>White Riot</td><td>The Singles</td><td>0.99</td></tr>",
                            "<tr><td>2609</td><td>War (The Process)</td><td>Beyond Good And Evil</td><td>0.99</td></tr>",
                            "<tr><td>2627</td><td>Wild Hearted Son</td><td>Pure Cult: The Best Of The Cult (For Rockers, Ravers, Lovers &amp; Sinners) [UK]</td><td>0.99</td></tr>",
                            "<tr><td>2645</td><td>Back Door Man</td><td>The Doors</td><td>0.99</td></tr>",
                            "<tr><td>2654</td><td>Don&#39;t Stand so Close to Me</td><td>The Police Greatest Hits</td><td>0.99</td></tr>",
                            "<tr><td>2663</td><td>Message in a Bottle (new classic rock mix)</td><td>The Police Greatest Hits</td><td>0.99</td></tr>",
                            "<tr><td>2672</td><td>Paint It Black</td><td>Hot Rocks, 1964-1971 (Disc 1)</td><td>0.99</td></tr>",
                            "<tr><td>2681</td><td>Corinna</td><td>No Security</td><td>0.99</td></tr>",
                            "<tr><td>2690</td><td>Love Is Strong</td><td>Voodoo Lounge</td><td>0.99</td></tr>",
                            "<tr><td>2699</td><td>Sweethearts Together</td><td>Voodoo Lounge</td><td>0.99</td></tr>",
                            "<tr><td>2715</td><td>The River (Remix)</td><td>Tangents</td><td>0.99</td></tr>",
                            "<tr><td>2717</td><td>Waiting On A Sign</td><td>Tangents</td><td>0.99</td></tr>",
                            "<tr><td>2719</td><td>Paint It Black</td><td>Tangents</td><td>0.99</td></tr>",
                            "<tr><td>2721</td><td>Army Ants</td><td>Transmission</td><td>0.99</td></tr>",
                            "<tr><td>2725</td><td>Release</td><td>Transmission</td><td>0.99</td></tr>",
                            "<tr><td>2731</td><td>I Can&#39;t Explain</td><td>My Generation - The Very Best Of The Who</td><td>0.99</td></tr>",
                            "<tr><td>2735</td><td>I&#39;m A Boy</td><td>My Generation - The Very Best Of The Who</td><td>0.99</td></tr>",
                            "<tr><td>2739</td><td>I Can See For Miles</td><td>My Generation - The Very Best Of The Who</td><td>0.99</td></tr>",
                            "<tr><td>2743</td><td>Baba O&#39;Riley</td><td>My Generation - The Very Best Of The Who</td><td>0.99</td></tr>",
                            "<tr><td>2747</td><td>Join Together</td><td>My Generation - The Very Best Of The Who</td><td>0.99</td></tr>",
                            "<tr><td>2751</td><td>Primavera</td><td>Serie Sem Limite (Disc 1)</td><td>0.99</td></tr>",
                            "<tr><td>2757</td><td>New Love</td><td>Serie Sem Limite (Disc 1)</td><td>0.99</td></tr>",
                            "<tr><td>2775</td><td>Canário Do Reino</td><td>Serie Sem Limite (Disc 2)</td><td>0.99</td></tr>",
                            "<tr><td>2787</td><td>Marvin</td><td>Acústico</td><td>0.99</td></tr>",
                            "<tr><td>2799</td><td>Polícia (Vinheta)</td><td>Acústico</td><td>0.99</td></tr>",
                            "<tr><td>2805</td><td>Sua Impossivel Chance</td><td>Volume Dois</td><td>0.99</td></tr>",
                            "<tr><td>2814</td><td>Insensível</td><td>Volume Dois</td><td>0.99</td></tr>",
                            "<tr><td>2931</td><td>So Cruel</td><td>Achtung Baby</td><td>0.99</td></tr>",
                            "<tr><td>2947</td><td>New York</td><td>All That You Can&#39;t Leave Behind</td><td>0.99</td></tr>",
                            "<tr><td>2949</td><td>The Three Sunrises</td><td>B-Sides 1980-1990</td><td>0.99</td></tr>",
                            "<tr><td>2951</td><td>Sweetest Thing</td><td>B-Sides 1980-1990</td><td>0.99</td></tr>",
                            "<tr><td>2953</td><td>Bass Trap</td><td>B-Sides 1980-1990</td><td>0.99</td></tr>",
                            "<tr><td>2957</td><td>Walk To The Water</td><td>B-Sides 1980-1990</td><td>0.99</td></tr>",
                            "<tr><td>2963</td><td>Trash, Trampoline And The Party Girl</td><td>B-Sides 1980-1990</td><td>0.99</td></tr>",
                            "<tr><td>2967</td><td>Love And Peace Or Else</td><td>How To Dismantle An Atomic Bomb</td><td>0.99</td></tr>",
                            "<tr><td>2971</td><td>Crumbs From Your Table</td><td>How To Dismantle An Atomic Bomb</td><td>0.99</td></tr>",
                            "<tr><td>2975</td><td>Discotheque</td><td>Pop</td><td>0.99</td></tr>",
                            "<tr><td>2979</td><td>Staring At The Sun</td><td>Pop</td><td>0.99</td></tr>",
                            "<tr><td>2983</td><td>The Playboy Mansion</td><td>Pop</td><td>0.99</td></tr>",
                            "<tr><td>2989</td><td>Desire</td><td>Rattle And Hum</td><td>0.99</td></tr>",
                            "<tr><td>3007</td><td>I Still Haven&#39;t Found What I&#39;m Looking For</td><td>The Best Of 1980-1990</td><td>0.99</td></tr>",
                            "<tr><td>3019</td><td>Seconds</td><td>War</td><td>0.99</td></tr>",
                            "<tr><td>3031</td><td>Lemon</td><td>Zooropa</td><td>0.99</td></tr>",
                            "<tr><td>3037</td><td>The Wanderer</td><td>Zooropa</td><td>0.99</td></tr>",
                            "<tr><td>3046</td><td>Higher Ground</td><td>UB40 The Best Of - Volume Two [UK]</td><td>0.99</td></tr>",
                            "<tr><td>3055</td><td>Secrets</td><td>Diver Down</td><td>0.99</td></tr>",
                            "<tr><td>3073</td><td>Dreams</td><td>The Best Of Van Halen, Vol. I</td><td>0.99</td></tr>",
                            "<tr><td>3091</td><td>On Fire</td><td>Van Halen</td><td>0.99</td></tr>",
                            "<tr><td>3109</td><td>Fall To Pieces</td><td>Contraband</td><td>0.99</td></tr>",
                            "<tr><td>3118</td><td>A Bencao E Outros</td><td>Vinicius De Moraes</td><td>0.99</td></tr>",
                            "<tr><td>3127</td><td>Um Homem Chamado Alfredo</td><td>Vinicius De Moraes</td><td>0.99</td></tr>",
                            "<tr><td>3136</td><td>Looking For Love</td><td>Greatest Hits</td><td>0.99</td></tr>",
                            "<tr><td>3145</td><td>Sweet Lady Luck</td><td>Greatest Hits</td><td>0.99</td></tr>",
                            "<tr><td>3154</td><td>Feirinha da Pavuna/Luz do Repente/Bagaço da Laranja</td><td>Ao Vivo [IMPORT]</td><td>0.99</td></tr>",
                            "<tr><td>3163</td><td>Samba pras moças</td><td>Ao Vivo [IMPORT]</td><td>0.99</td></tr>",
                            "</table>"
                        ]
                    }
                }
            ],
            "execution_count": 99
        },
        {
            "cell_type": "markdown",
            "source": [
                "## <span style=\"color: var(--vscode-foreground); font-size: 14px;\">11. Retrieve <b>TOP 10 </b>Albuns sold</span>"
            ],
            "metadata": {
                "azdata_cell_guid": "f8524fc1-c976-4c76-b96d-4c4795f6b8ea"
            },
            "attachments": {}
        },
        {
            "cell_type": "code",
            "source": [
                "WITH TrackSales AS (\r\n",
                "    SELECT \r\n",
                "        t.TrackId,\r\n",
                "        t.Name AS TrackName,\r\n",
                "        a.Title AS AlbumTitle,\r\n",
                "        SUM(il.UnitPrice) AS TotalSales\r\n",
                "\r\n",
                "    FROM Track t\r\n",
                "    JOIN InvoiceLine il ON t.TrackId = il.TrackId\r\n",
                "    JOIN Album a ON t.AlbumId = a.AlbumId\r\n",
                "    GROUP BY t.TrackId, t.Name, a.Title\r\n",
                "    ORDER BY TotalSales DESC\r\n",
                ")\r\n",
                "\r\n",
                "SELECT \r\n",
                "    AlbumTitle,\r\n",
                "    SUM(TotalSales) AS Total_Sales\r\n",
                "\r\n",
                "FROM TrackSales\r\n",
                "GROUP BY AlbumTitle\r\n",
                "ORDER BY Total_Sales DESC\r\n",
                "LIMIT 10"
            ],
            "metadata": {
                "language": "sql",
                "azdata_cell_guid": "7a1029c4-c7af-4b83-8c43-e7fb9fe84d31"
            },
            "outputs": [
                {
                    "output_type": "display_data",
                    "data": {
                        "text/html": "(10 row(s) affected)"
                    },
                    "metadata": {}
                },
                {
                    "output_type": "display_data",
                    "data": {
                        "text/html": "Total execution time: 00:00:01.091"
                    },
                    "metadata": {}
                },
                {
                    "output_type": "execute_result",
                    "metadata": {},
                    "execution_count": 100,
                    "data": {
                        "application/vnd.dataresource+json": {
                            "schema": {
                                "fields": [
                                    {
                                        "name": "AlbumTitle"
                                    },
                                    {
                                        "name": "Total_Sales"
                                    }
                                ]
                            },
                            "data": [
                                {
                                    "AlbumTitle": "Battlestar Galactica (Classic), Season 1",
                                    "Total_Sales": "35.82"
                                },
                                {
                                    "AlbumTitle": "Minha Historia",
                                    "Total_Sales": "34.65"
                                },
                                {
                                    "AlbumTitle": "The Office, Season 3",
                                    "Total_Sales": "31.84"
                                },
                                {
                                    "AlbumTitle": "Heroes, Season 1",
                                    "Total_Sales": "25.87"
                                },
                                {
                                    "AlbumTitle": "Lost, Season 2",
                                    "Total_Sales": "25.87"
                                },
                                {
                                    "AlbumTitle": "Greatest Hits",
                                    "Total_Sales": "25.74"
                                },
                                {
                                    "AlbumTitle": "Unplugged",
                                    "Total_Sales": "24.75"
                                },
                                {
                                    "AlbumTitle": "Battlestar Galactica, Season 3",
                                    "Total_Sales": "23.88"
                                },
                                {
                                    "AlbumTitle": "Lost, Season 3",
                                    "Total_Sales": "21.89"
                                },
                                {
                                    "AlbumTitle": "Acústico",
                                    "Total_Sales": "21.78"
                                }
                            ]
                        },
                        "text/html": [
                            "<table>",
                            "<tr><th>AlbumTitle</th><th>Total_Sales</th></tr>",
                            "<tr><td>Battlestar Galactica (Classic), Season 1</td><td>35.82</td></tr>",
                            "<tr><td>Minha Historia</td><td>34.65</td></tr>",
                            "<tr><td>The Office, Season 3</td><td>31.84</td></tr>",
                            "<tr><td>Heroes, Season 1</td><td>25.87</td></tr>",
                            "<tr><td>Lost, Season 2</td><td>25.87</td></tr>",
                            "<tr><td>Greatest Hits</td><td>25.74</td></tr>",
                            "<tr><td>Unplugged</td><td>24.75</td></tr>",
                            "<tr><td>Battlestar Galactica, Season 3</td><td>23.88</td></tr>",
                            "<tr><td>Lost, Season 3</td><td>21.89</td></tr>",
                            "<tr><td>Acústico</td><td>21.78</td></tr>",
                            "</table>"
                        ]
                    }
                }
            ],
            "execution_count": 100
        }
    ]
}